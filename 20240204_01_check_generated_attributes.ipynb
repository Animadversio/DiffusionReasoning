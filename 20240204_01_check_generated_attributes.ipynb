{
 "cells": [
  {
   "cell_type": "code",
   "execution_count": 1,
   "id": "6b01096c",
   "metadata": {},
   "outputs": [],
   "source": [
    "import numpy as np \n",
    "import torch \n",
    "import torch.nn as nn \n",
    "import torch.optim as optim \n",
    "import torch.nn.functional as F \n",
    "from torch.utils.data import Dataset, DataLoader\n",
    "import torchvision.transforms as transforms\n",
    "from functools import partial\n",
    "import torchvision\n",
    "\n",
    "import os \n",
    "import glob\n",
    "import time\n",
    "import copy\n",
    "import random\n",
    "from PIL import Image, ImageOps, ImageFilter\n",
    "\n",
    "os.environ['CUDA_VISIBLE_DEVICES']='0'\n",
    "device = torch.device('cpu')"
   ]
  },
  {
   "cell_type": "code",
   "execution_count": 2,
   "id": "7f5b92fa",
   "metadata": {},
   "outputs": [],
   "source": [
    "import matplotlib.pyplot as plt \n",
    "%matplotlib inline\n",
    "plt.rcParams['figure.dpi'] = 72\n",
    "plt.rcParams['figure.figsize'] = [6.0, 4.0]\n",
    "plt.rcParams['figure.edgecolor'] = (1, 1, 1, 0)\n",
    "plt.rcParams['figure.facecolor'] = (1, 1, 1, 0)"
   ]
  },
  {
   "cell_type": "code",
   "execution_count": 3,
   "id": "c95c9fc7",
   "metadata": {},
   "outputs": [],
   "source": [
    "import einops"
   ]
  },
  {
   "cell_type": "code",
   "execution_count": 4,
   "id": "233088b8",
   "metadata": {},
   "outputs": [],
   "source": [
    "def get_XOR(x1, x2): \n",
    "    x3 = []\n",
    "    for i in x1:\n",
    "        if i not in x2: \n",
    "            x3.append(i)\n",
    "    for j in x2: \n",
    "        if j not in x1: \n",
    "            x3.append(j)\n",
    "    x3 = np.sort(x3)\n",
    "    return list(x3)\n",
    "\n",
    "def get_OR(x1, x2): \n",
    "    x3 = []\n",
    "    for i in x1: \n",
    "        x3.append(i)\n",
    "    for j in x2: \n",
    "        if j not in x3: \n",
    "            x3.append(j)\n",
    "    x3 = np.sort(x3)\n",
    "    return list(x3) \n",
    "\n",
    "def get_AND(x1, x2): \n",
    "    x3 = []\n",
    "    for i in x1: \n",
    "        if i in x2: \n",
    "            x3.append(i)\n",
    "    x3 = np.sort(x3)\n",
    "    return list(x3) \n",
    "\n",
    "d_list = [0, -2, -1, 1, 2]\n",
    "\n",
    "def check_R_unique(a_list):\n",
    "    \"\"\"a_list e.g., [1, 1, 1]\"\"\"\n",
    "    a1, a2, a3 = a_list\n",
    "    d1, d2 = a2-a1, a3-a2\n",
    "    if d1 == d2: # constant or progression \n",
    "        if d1 in d_list: \n",
    "            i_R = d_list.index(d1)\n",
    "        elif a3 == a1+a2: # arith pos \n",
    "            i_R = 5 \n",
    "        elif a3 == a1-a2: # arith neg \n",
    "            i_R = 6 \n",
    "        else: \n",
    "            i_R = np.nan\n",
    "    else: \n",
    "        i_R = np.nan \n",
    "    return i_R \n",
    "\n",
    "def check_R_logical(attr_unique_row): \n",
    "    \"\"\"attr_unique_row: list of len 3, unique attr values for each panel, e.g., [[0, 3], [1], [0, 5]]\"\"\"\n",
    "    [x1, x2, x3] = attr_unique_row\n",
    "    if x3 == get_XOR(x1, x2): \n",
    "        i_R = 7 \n",
    "    elif x3 == get_XOR(x1, x2): \n",
    "        i_R = 8 \n",
    "    elif x3 == get_AND(x1, x2): \n",
    "        i_R = 9 \n",
    "    else: \n",
    "        i_R = np.nan \n",
    "    return i_R\n",
    "\n",
    "def check_R(attr_unique_row): \n",
    "\n",
    "    if [len(x) for x in attr_unique_row] == [1, 1, 1]: # check for const, prog, arith \n",
    "        i_R = check_R_unique([x[0] for x in attr_unique_row])\n",
    "    else: \n",
    "        i_R = check_R_logical(attr_unique_row)\n",
    "    return i_R\n",
    "\n",
    "def get_obj_list(attr):\n",
    "    \"\"\"\n",
    "    for each panel, convert to list of objects: (shape, size, color, pos)\n",
    "    Inputs: \n",
    "        attr: (3, 9, 3), # (num_panels, num_pos, num_attr)\n",
    "    \"\"\"\n",
    "    attr_list_row = []\n",
    "    pos_row = []\n",
    "\n",
    "    for i_panel in range(3): \n",
    "\n",
    "        attr_panel = attr[i_panel] # torch.Size([9, 3])\n",
    "        pos = ((attr_panel==-1).sum(1)==0).nonzero().squeeze(1)\n",
    "        pos_row.append(list(pos.numpy()))\n",
    "\n",
    "        attr_list = attr_panel[pos]\n",
    "        attr_list_row.append(attr_list)\n",
    "    return attr_list_row, pos_row\n",
    "\n",
    "def get_rule_list(attr_list_row, pos_row): \n",
    "    \"\"\"check for rules\"\"\"\n",
    "    rule_list = []\n",
    "    for i_a in range(3): # shape, constant, color\n",
    "        attr_unique_row = [list(torch.unique(attr_list[:,i_a]).numpy()) for attr_list in attr_list_row]\n",
    "        i_R = check_R(attr_unique_row)\n",
    "        if not np.isnan(i_R): \n",
    "            rule_list.append(i_a*10+i_R)\n",
    "\n",
    "    # check for number \n",
    "    num_row = [len(x) for x in attr_list_row]\n",
    "    i_R = check_R_unique(num_row)\n",
    "    if not np.isnan(i_R): \n",
    "        rule_list.append(30+i_R)\n",
    "        \n",
    "    # check for position \n",
    "    i_R = check_R_logical(pos_row)\n",
    "    if not np.isnan(i_R): \n",
    "        rule_list.append(30+i_R)\n",
    "        \n",
    "    if len(rule_list) != 1: \n",
    "        rule = -1\n",
    "    else: \n",
    "        rule = rule_list[0]\n",
    "        \n",
    "    return rule \n",
    "\n",
    "def get_rule_img(attr_tsr):\n",
    "    \"\"\"get rules list for an image of 3 rows\"\"\"\n",
    "    rule_all = []\n",
    "    for i_row in range(3): \n",
    "        attr_row = attr_tsr[:,3*i_row:3*(i_row+1),:] # torch.Size([3, 3, 9])\n",
    "        attr = einops.rearrange(attr_row, 'attr h (p w) -> p (h w) attr', h=3,w=3,p=3) # (3, 9, 3)\n",
    "        attr_list_row, pos_row = get_obj_list(attr)\n",
    "        rule = get_rule_list(attr_list_row, pos_row)\n",
    "        rule_all.append(rule)\n",
    "    return np.asarray(rule_all)"
   ]
  },
  {
   "cell_type": "code",
   "execution_count": 5,
   "id": "1ff3af11",
   "metadata": {},
   "outputs": [],
   "source": [
    "def onehot2attr_tsr(samples, dim=10):\n",
    "    attr0_onehot, attr0 = samples[:,  0:7].max(dim=1)\n",
    "    attr0[attr0_onehot < 0.4] = -1\n",
    "    attr1_onehot, attr1 = samples[:,  7:17].max(dim=1)\n",
    "    attr1[attr1_onehot < 0.4] = -1\n",
    "    attr2_onehot, attr2 = samples[:, 17:27].max(dim=1)\n",
    "    attr2[attr2_onehot < 0.4] = -1\n",
    "    attr_tsr = torch.stack((attr0, attr1, attr2), dim=1)\n",
    "    return attr_tsr"
   ]
  },
  {
   "cell_type": "code",
   "execution_count": 6,
   "id": "ea7c9913",
   "metadata": {},
   "outputs": [],
   "source": [
    "epoch_list = list(np.arange(0, 100000, 500))\n",
    "epoch_list.append(99999)"
   ]
  },
  {
   "cell_type": "code",
   "execution_count": 7,
   "id": "5af5dc91",
   "metadata": {},
   "outputs": [],
   "source": [
    "rules_all = []\n",
    "for epoch in epoch_list: \n",
    "    samples = torch.load('data/20240203_01_Binxu_samples/tensor_'+str(epoch)+'.pt')\n",
    "    attr_tsr_list = onehot2attr_tsr(samples)\n",
    "    rules_list = []\n",
    "    for i, attr_tsr in enumerate(attr_tsr_list): \n",
    "        rule_img = get_rule_img(attr_tsr)\n",
    "        rules_list.append(rule_img)\n",
    "    rules_all.append(rules_list)\n",
    "rules_all = np.asarray(rules_all) # (201, 25, 3)"
   ]
  },
  {
   "cell_type": "code",
   "execution_count": 8,
   "id": "94add4c0",
   "metadata": {},
   "outputs": [],
   "source": [
    "rules_sum = (rules_all != -1).sum(2)"
   ]
  },
  {
   "cell_type": "code",
   "execution_count": 9,
   "id": "4d730440",
   "metadata": {},
   "outputs": [
    {
     "data": {
      "text/plain": [
       "Text(0.5, 0, 'epoch')"
      ]
     },
     "execution_count": 9,
     "metadata": {},
     "output_type": "execute_result"
    },
    {
     "data": {
      "image/png": "[encoded data removed]",
      "text/plain": [
       "<Figure size 288x144 with 1 Axes>"
      ]
     },
     "metadata": {
      "needs_background": "light"
     },
     "output_type": "display_data"
    }
   ],
   "source": [
    "fig, ax = plt.subplots(1, 1, figsize=(4,2))\n",
    "ax.spines[['right', 'top']].set_visible(False)\n",
    "\n",
    "ax.plot(epoch_list, rules_sum.sum(1))\n",
    "\n",
    "ax.set_ylabel('#rules', fontsize=14)\n",
    "ax.set_xlabel('epoch', fontsize=14)"
   ]
  },
  {
   "cell_type": "code",
   "execution_count": null,
   "id": "1661bfc1",
   "metadata": {},
   "outputs": [],
   "source": []
  }
 ],
 "metadata": {
  "kernelspec": {
   "display_name": "Python 3 (ipykernel)",
   "language": "python",
   "name": "python3"
  },
  "language_info": {
   "codemirror_mode": {
    "name": "ipython",
    "version": 3
   },
   "file_extension": ".py",
   "mimetype": "text/x-python",
   "name": "python",
   "nbconvert_exporter": "python",
   "pygments_lexer": "ipython3",
   "version": "3.10.11"
  }
 },
 "nbformat": 4,
 "nbformat_minor": 5
}
