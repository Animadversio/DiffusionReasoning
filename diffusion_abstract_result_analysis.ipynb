{
 "cells": [
  {
   "cell_type": "code",
   "execution_count": 3,
   "metadata": {},
   "outputs": [],
   "source": [
    "import torch\n",
    "import einops\n",
    "import matplotlib.pyplot as plt"
   ]
  },
  {
   "cell_type": "code",
   "execution_count": 38,
   "metadata": {},
   "outputs": [],
   "source": [
    "d_PGM = torch.load('PGM_shape_size_color_normalized.pt') \n",
    "\n",
    "def render_attribute_tsr(attr_tsr, offset=5, clip=True): \n",
    "    \"\"\"attr_tsr: (3, n_row, n_col)\"\"\"\n",
    "    # inputs = -0.6891*torch.ones((3, 120 + 2*offset, 120 + 2*offset))\n",
    "    inputs = -0.6891*torch.ones((attr_tsr.shape[1] * 40 + 2*offset, attr_tsr.shape[2] * 40 + 2*offset))\n",
    "    for i_x in range(attr_tsr.shape[1]): \n",
    "        for i_y in range(attr_tsr.shape[2]): \n",
    "            if attr_tsr[0, i_x, i_y] != -1: \n",
    "                i_shape, i_size, i_color = attr_tsr[:, i_x, i_y]\n",
    "                x0, y0 = i_x * 40 + offset, i_y * 40 + offset\n",
    "                if clip:\n",
    "                    i_shape = min(7 - 1, i_shape)\n",
    "                    i_size = min(10 - 1, i_size)\n",
    "                    i_color = min(10 - 1, i_color)\n",
    "                inputs[x0:(x0+40), y0:(y0+40)] = d_PGM[int(i_shape), int(i_size), int(i_color)]\n",
    "    return inputs \n"
   ]
  },
  {
   "cell_type": "markdown",
   "metadata": {},
   "source": [
    "### Training samples"
   ]
  },
  {
   "cell_type": "code",
   "execution_count": 39,
   "metadata": {},
   "outputs": [
    {
     "name": "stdout",
     "output_type": "stream",
     "text": [
      "torch.Size([35, 10000, 3, 9, 3])\n"
     ]
    }
   ],
   "source": [
    "train_inputs = torch.load('train_inputs.pt') # [35, 10000, 3, 9, 3]\n",
    "print(train_inputs.shape)"
   ]
  },
  {
   "cell_type": "code",
   "execution_count": 40,
   "metadata": {},
   "outputs": [
    {
     "data": {
      "image/png": "[encoded data removed]",
      "text/plain": [
       "<Figure size 640x480 with 1 Axes>"
      ]
     },
     "metadata": {},
     "output_type": "display_data"
    }
   ],
   "source": [
    "mtg = render_attribute_tsr(einops.rearrange(train_inputs[1, 3, :, :, :], \n",
    "                                            'p (h w) attr -> attr h (w p)', h=3,w=3,p=3))\n",
    "plt.imshow(mtg, cmap='gray')\n",
    "plt.axis('off')\n",
    "plt.show()"
   ]
  },
  {
   "cell_type": "code",
   "execution_count": 43,
   "metadata": {},
   "outputs": [],
   "source": [
    "sample_dir = \"/n/home12/binxuwang/Github/mini_edm/exps/base_RAVEN10_abstract_onehot_20240201-0147/samples\"\n",
    "epoch = 99999\n",
    "samples = torch.load(f\"{sample_dir}/tensor_{epoch}.pt\")"
   ]
  },
  {
   "cell_type": "markdown",
   "metadata": {},
   "source": [
    "### Abstract Attribute Onehot model"
   ]
  },
  {
   "cell_type": "code",
   "execution_count": 44,
   "metadata": {},
   "outputs": [],
   "source": [
    "def onehot2attr_tsr(samples, dim=10):\n",
    "    attr0_onehot, attr0 = samples[:,  0:7].max(dim=1)\n",
    "    attr0[attr0_onehot < 0.4] = -1\n",
    "    attr1_onehot, attr1 = samples[:,  7:17].max(dim=1)\n",
    "    attr1[attr1_onehot < 0.4] = -1\n",
    "    attr2_onehot, attr2 = samples[:, 17:27].max(dim=1)\n",
    "    attr2[attr2_onehot < 0.4] = -1\n",
    "    attr_tsr = torch.stack((attr0, attr1, attr2), dim=1)\n",
    "    return attr_tsr"
   ]
  },
  {
   "cell_type": "code",
   "execution_count": 45,
   "metadata": {},
   "outputs": [
    {
     "data": {
      "image/png": "[encoded data removed]",
      "text/plain": [
       "<Figure size 640x480 with 1 Axes>"
      ]
     },
     "metadata": {},
     "output_type": "display_data"
    },
    {
     "name": "stdout",
     "output_type": "stream",
     "text": [
      "tensor([[[ 3,  3,  3,  1, -1, -1,  5,  5,  5],\n",
      "         [ 3,  3,  3,  1, -1, -1, -1,  5,  5],\n",
      "         [ 0,  3, -1,  1, -1, -1, -1, -1,  0],\n",
      "         [ 0,  0, -1,  1,  1,  6,  0,  3,  3],\n",
      "         [ 0,  0,  0,  1,  1,  1,  1,  5,  1],\n",
      "         [ 0, -1, -1,  1,  1,  1,  1,  1,  0],\n",
      "         [-1, -1, -1,  1,  4,  1, -1,  5,  1],\n",
      "         [ 3,  4, -1,  5,  3,  4,  5,  4, -1],\n",
      "         [ 6, -1, -1,  2, -1, -1,  0, -1,  0]],\n",
      "\n",
      "        [[ 2, -1,  2,  2, -1, -1,  8,  5,  5],\n",
      "         [ 2,  2,  0,  2, -1, -1, -1,  5,  5],\n",
      "         [ 2,  2, -1,  2, -1, -1, -1, -1,  2],\n",
      "         [ 2,  2, -1,  2,  2,  2,  0, -1,  3],\n",
      "         [-1,  2,  2,  2,  2,  2,  3,  0,  8],\n",
      "         [ 4, -1,  7,  2,  2,  2,  0,  0,  0],\n",
      "         [-1, -1, -1,  1,  1,  1, -1,  0,  0],\n",
      "         [ 1,  5, -1,  7,  1,  1,  0,  0, -1],\n",
      "         [ 4, -1, -1,  8, -1, -1,  0, -1,  5]],\n",
      "\n",
      "        [[ 4,  4,  4,  3, -1, -1,  6,  1,  5],\n",
      "         [ 4,  4,  4,  9, -1, -1, -1,  2,  6],\n",
      "         [ 4,  4, -1,  0, -1, -1, -1, -1,  7],\n",
      "         [ 5,  3, -1,  3,  5,  5,  9,  8,  9],\n",
      "         [ 9,  9,  8,  1,  7,  2,  6,  0,  8],\n",
      "         [ 6, -1, -1, -1,  0,  3,  3,  3,  8],\n",
      "         [-1, -1, -1,  1,  7,  7, -1,  7,  8],\n",
      "         [ 3, -1, -1,  3,  1,  0,  2,  5, -1],\n",
      "         [ 7, -1, -1,  5, -1, -1, -1, -1,  7]]])\n"
     ]
    }
   ],
   "source": [
    "sample_dir = \"/n/home12/binxuwang/Github/mini_edm/exps/base_RAVEN10_abstract_onehot_20240201-0147/samples\"\n",
    "epoch = 99999\n",
    "samples = torch.load(f\"{sample_dir}/tensor_{epoch}.pt\")\n",
    "attr_tsr = onehot2attr_tsr(samples)[2]\n",
    "mtg = render_attribute_tsr(attr_tsr, clip=True)\n",
    "plt.imshow(mtg, cmap='gray')\n",
    "plt.axis('off')\n",
    "plt.show()\n",
    "print(attr_tsr)"
   ]
  },
  {
   "cell_type": "code",
   "execution_count": 34,
   "metadata": {},
   "outputs": [
    {
     "data": {
      "text/plain": [
       "torch.Size([25, 27, 9, 9])"
      ]
     },
     "execution_count": 34,
     "metadata": {},
     "output_type": "execute_result"
    }
   ],
   "source": [
    "samples.shape"
   ]
  },
  {
   "cell_type": "markdown",
   "metadata": {},
   "source": [
    "### Abstract Attribute Feature model"
   ]
  },
  {
   "cell_type": "code",
   "execution_count": null,
   "metadata": {},
   "outputs": [
    {
     "data": {
      "image/png": "[encoded data removed]",
      "text/plain": [
       "<Figure size 640x480 with 1 Axes>"
      ]
     },
     "metadata": {},
     "output_type": "display_data"
    },
    {
     "name": "stdout",
     "output_type": "stream",
     "text": [
      "tensor([[[ 1,  5,  5,  6, -1,  3,  1,  4,  3],\n",
      "         [ 5,  5,  4, -1, -1, -1,  1, -1,  3],\n",
      "         [ 6,  5,  4,  4, -1,  1,  1,  4,  4],\n",
      "         [-1,  5, -1, -1,  3, -1,  2,  0,  3],\n",
      "         [-1,  3, -1,  4,  5,  5,  6,  6,  2],\n",
      "         [-1, -1,  0,  3, -1, -1, -1, -1,  3],\n",
      "         [ 0,  0,  1,  6,  0,  5, -1, -1,  3],\n",
      "         [ 4,  0, -1, -1,  2, -1,  1,  0,  6],\n",
      "         [-1, -1,  0,  4, -1,  4,  3,  0,  1]],\n",
      "\n",
      "        [[ 1,  1,  1,  4, -1,  4,  1,  9,  8],\n",
      "         [ 1,  1,  1, -1, -1, -1,  2, -1,  1],\n",
      "         [ 1,  1,  1,  4, -1,  4,  0,  5,  2],\n",
      "         [-1,  3, -1, -1,  4, -1,  6,  9,  6],\n",
      "         [-1,  3, -1,  4,  4,  4,  0,  1,  9],\n",
      "         [-1, -1,  3,  4, -1, -1, -1, -1,  2],\n",
      "         [ 1,  1,  1,  1,  1,  1, -1, -1,  5],\n",
      "         [ 1,  1, -1, -1,  1, -1,  3,  0,  1],\n",
      "         [-1, -1,  1,  1, -1,  1,  0,  0,  3]],\n",
      "\n",
      "        [[ 4,  4,  4,  1, -1,  1,  1,  3,  3],\n",
      "         [ 4,  4,  4, -1, -1, -1,  3, -1,  2],\n",
      "         [ 4,  4,  4,  1, -1,  1,  2,  3,  3],\n",
      "         [-1,  3, -1, -1,  5, -1,  2,  4,  1],\n",
      "         [-1,  4, -1,  6,  0,  5,  1,  3,  3],\n",
      "         [-1, -1,  6,  5, -1, -1, -1, -1,  1],\n",
      "         [ 5,  5,  5,  6,  6,  6, -1, -1,  6],\n",
      "         [ 5,  5, -1, -1,  6, -1,  7,  5,  3],\n",
      "         [-1, -1,  5,  6, -1,  6,  0,  1,  6]]], dtype=torch.int32)\n"
     ]
    }
   ],
   "source": [
    "sample_dir = \"/n/home12/binxuwang/Github/mini_edm/exps/base_RAVEN10_20240201-0036/samples\"\n",
    "epoch = 99999\n",
    "samples = torch.load(f\"{sample_dir}/tensor_{epoch}.pt\")\n",
    "attr_tsr = samples[1].round().int()\n",
    "mtg = render_attribute_tsr(attr_tsr, clip=True)\n",
    "plt.imshow(mtg, cmap='gray')\n",
    "plt.axis('off')\n",
    "plt.show()\n",
    "print(attr_tsr)"
   ]
  }
 ],
 "metadata": {
  "kernelspec": {
   "display_name": "Python (torch)",
   "language": "python",
   "name": "torch"
  },
  "language_info": {
   "codemirror_mode": {
    "name": "ipython",
    "version": 3
   },
   "file_extension": ".py",
   "mimetype": "text/x-python",
   "name": "python",
   "nbconvert_exporter": "python",
   "pygments_lexer": "ipython3",
   "version": "3.10.12"
  }
 },
 "nbformat": 4,
 "nbformat_minor": 2
}
