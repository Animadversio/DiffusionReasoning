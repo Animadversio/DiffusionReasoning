{
 "cells": [
  {
   "cell_type": "markdown",
   "metadata": {},
   "source": [
    "# Generate RAVEN dataset for diffusion "
   ]
  },
  {
   "cell_type": "code",
   "execution_count": 136,
   "metadata": {},
   "outputs": [],
   "source": [
    "import os\n",
    "from os.path import join\n",
    "import random\n",
    "from tqdm import tqdm, trange\n",
    "import numpy as np \n",
    "import torch \n",
    "import torchvision\n",
    "from torchvision.utils import save_image, make_grid\n",
    "import torch.nn.functional as F\n",
    "import matplotlib.pyplot as plt\n",
    "from torch.utils.data import Dataset, DataLoader"
   ]
  },
  {
   "cell_type": "markdown",
   "metadata": {},
   "source": [
    "## Image Dataset: 3 rows"
   ]
  },
  {
   "cell_type": "code",
   "execution_count": 98,
   "metadata": {},
   "outputs": [],
   "source": [
    "# pos_list = [[20,20], [20,60], [20,100], \n",
    "#             [60,20], [60,60], [60,100], \n",
    "#             [100,20], [100,60], [100,100]]\n",
    "offset = 0\n",
    "pos_list = [[x + offset, y + offset] for x in [0, 40, 80] for y in [0, 40, 80]]\n",
    "d_PGM = torch.load('PGM_shape_size_color_normalized.pt') # torch.Size([7, 10, 10, 40, 40])\n",
    "\n",
    "def load_PGM_inputs(attr): \n",
    "    \"\"\"attr: (3, 9, 3), (num_panel, num_pos, num_attr)\"\"\"\n",
    "    inputs = -0.6891*torch.ones((3, 120 + 2*offset, 120 + 2*offset))\n",
    "    for i_panel in range(3): \n",
    "        for i_pos in range(9): \n",
    "            if attr[i_panel, i_pos, 0] != -1: \n",
    "                i_shape, i_size, i_color = attr[i_panel, i_pos]\n",
    "                x0, y0 = pos_list[i_pos]\n",
    "                inputs[i_panel, x0:(x0+40), y0:(y0+40)] = d_PGM[int(i_shape), int(i_size), int(i_color)]\n",
    "    return inputs \n",
    "\n",
    "class dataset_PGM_single(Dataset): \n",
    "    def __init__(self, attr_list): \n",
    "        \"\"\"attr_list: [num_samples, 3, 9, 3]\"\"\"\n",
    "        self.attr_list = attr_list  \n",
    "        \n",
    "    def __len__(self): \n",
    "        return len(self.attr_list)\n",
    "    \n",
    "    def __getitem__(self, idx): \n",
    "        \"\"\"attr: [3, 9, 3]\"\"\"\n",
    "        attr = self.attr_list[idx] \n",
    "        inputs = load_PGM_inputs(attr)\n",
    "        return inputs, idx"
   ]
  },
  {
   "cell_type": "code",
   "execution_count": 89,
   "metadata": {},
   "outputs": [
    {
     "name": "stdout",
     "output_type": "stream",
     "text": [
      "torch.Size([35, 10000, 3, 9, 3])\n"
     ]
    }
   ],
   "source": [
    "train_inputs = torch.load('train_inputs.pt') # [35, 10000, 3, 9, 3]\n",
    "print(train_inputs.shape)"
   ]
  },
  {
   "cell_type": "code",
   "execution_count": 90,
   "metadata": {},
   "outputs": [],
   "source": [
    "# example: \n",
    "i_class = 4\n",
    "dataset_class0 = dataset_PGM_single(train_inputs[i_class]) \n",
    "load_class0 = DataLoader(dataset_class0, batch_size=256, shuffle=False, pin_memory=True) "
   ]
  },
  {
   "cell_type": "code",
   "execution_count": 108,
   "metadata": {},
   "outputs": [
    {
     "name": "stdout",
     "output_type": "stream",
     "text": [
      "/n/holylabs/LABS/kempner_fellows/Users/binxuwang\n"
     ]
    }
   ],
   "source": [
    "!echo $WORK_DIR"
   ]
  },
  {
   "cell_type": "code",
   "execution_count": 107,
   "metadata": {},
   "outputs": [
    {
     "name": "stdout",
     "output_type": "stream",
     "text": [
      "\u001b[0m\u001b[01;34m2020-BigGAN\u001b[0m/         cifar10.zip         Imagenet64_val.zip    \u001b[01;34mMat_Statistics\u001b[0m/\n",
      "2020-BigGAN.zip      ffhq-64x64.zip      \u001b[01;34mimagenet-valid\u001b[0m/       \u001b[01;34mStimuli\u001b[0m/\n",
      "2021-EvolDecomp.zip  GAN_sample_fid.zip  img_align_celeba.zip  \u001b[01;34mstl10_binary\u001b[0m/\n"
     ]
    }
   ],
   "source": [
    "%ls $WORK_DIR/Datasets"
   ]
  },
  {
   "cell_type": "code",
   "execution_count": 111,
   "metadata": {},
   "outputs": [
    {
     "name": "stdout",
     "output_type": "stream",
     "text": [
      "/n/home12/binxuwang/Github/DiffusionReasoning\n"
     ]
    }
   ],
   "source": [
    "!pwd"
   ]
  },
  {
   "cell_type": "code",
   "execution_count": 124,
   "metadata": {},
   "outputs": [
    {
     "name": "stderr",
     "output_type": "stream",
     "text": [
      "3333it [01:08, 48.88it/s]\n"
     ]
    },
    {
     "name": "stdout",
     "output_type": "stream",
     "text": [
      "rule 0 done\n"
     ]
    },
    {
     "name": "stderr",
     "output_type": "stream",
     "text": [
      "3333it [01:01, 54.28it/s]\n"
     ]
    },
    {
     "name": "stdout",
     "output_type": "stream",
     "text": [
      "rule 1 done\n"
     ]
    },
    {
     "name": "stderr",
     "output_type": "stream",
     "text": [
      "3333it [01:01, 54.26it/s]\n"
     ]
    },
    {
     "name": "stdout",
     "output_type": "stream",
     "text": [
      "rule 2 done\n"
     ]
    },
    {
     "name": "stderr",
     "output_type": "stream",
     "text": [
      "3333it [01:01, 54.13it/s]\n"
     ]
    },
    {
     "name": "stdout",
     "output_type": "stream",
     "text": [
      "rule 3 done\n"
     ]
    },
    {
     "name": "stderr",
     "output_type": "stream",
     "text": [
      "3333it [01:01, 54.20it/s]\n"
     ]
    },
    {
     "name": "stdout",
     "output_type": "stream",
     "text": [
      "rule 4 done\n"
     ]
    },
    {
     "name": "stderr",
     "output_type": "stream",
     "text": [
      "3333it [01:03, 52.79it/s]\n"
     ]
    },
    {
     "name": "stdout",
     "output_type": "stream",
     "text": [
      "rule 5 done\n"
     ]
    },
    {
     "name": "stderr",
     "output_type": "stream",
     "text": [
      "3333it [01:03, 52.77it/s]\n"
     ]
    },
    {
     "name": "stdout",
     "output_type": "stream",
     "text": [
      "rule 6 done\n"
     ]
    },
    {
     "name": "stderr",
     "output_type": "stream",
     "text": [
      "3333it [01:02, 53.00it/s]\n"
     ]
    },
    {
     "name": "stdout",
     "output_type": "stream",
     "text": [
      "rule 7 done\n"
     ]
    },
    {
     "name": "stderr",
     "output_type": "stream",
     "text": [
      "3333it [01:00, 55.15it/s]\n"
     ]
    },
    {
     "name": "stdout",
     "output_type": "stream",
     "text": [
      "rule 8 done\n"
     ]
    },
    {
     "name": "stderr",
     "output_type": "stream",
     "text": [
      "3333it [01:01, 54.58it/s]"
     ]
    },
    {
     "name": "stdout",
     "output_type": "stream",
     "text": [
      "rule 9 done\n"
     ]
    },
    {
     "name": "stderr",
     "output_type": "stream",
     "text": [
      "\n"
     ]
    }
   ],
   "source": [
    "\n",
    "rootdir = r\"/n/home12/binxuwang/Datasets/RAVEN_Datasets/PGM\"\n",
    "def set_seed(seed):\n",
    "    torch.manual_seed(seed)\n",
    "    np.random.seed(seed)\n",
    "    random.seed(seed)\n",
    "\n",
    "\n",
    "# Fix random seed for generator\n",
    "for i_class in range(train_inputs.shape[0]):\n",
    "    if i_class == 10:\n",
    "        break\n",
    "    os.makedirs(join(rootdir,f'rule{i_class}'), exist_ok=True)\n",
    "    rule_dir = join(rootdir,f'rule{i_class}')\n",
    "    dataset_class0 = dataset_PGM_single(train_inputs[i_class]) \n",
    "    set_seed(42)\n",
    "    load_class0 = DataLoader(dataset_class0, batch_size=3, shuffle=True, pin_memory=True, drop_last=True) \n",
    "    for i_batch, (inputs, row_ids) in tqdm(enumerate(load_class0)):\n",
    "        # print(inputs.shape)\n",
    "        # print(row_ids)\n",
    "        inputs = 1 - inputs / (-0.6891)\n",
    "        mtg = make_grid(inputs.reshape(-1, 1, 120 + 2*offset, 120 + 2*offset), nrow=3, padding=1, pad_value=1)\n",
    "        mtg_rsz = torchvision.transforms.functional.resize(mtg, (256, 256))\n",
    "        save_image(mtg, join(rule_dir, f'mtg_{row_ids[0]}_{row_ids[1]}_{row_ids[2]}.png'), )\n",
    "        # plt.imshow(mtg_rsz.permute(1, 2, 0))\n",
    "        # plt.axis('off')\n",
    "        # plt.show()\n",
    "        # raise Exception\n",
    "    print(f'rule {i_class} done')"
   ]
  },
  {
   "cell_type": "code",
   "execution_count": 135,
   "metadata": {},
   "outputs": [
    {
     "ename": "NameError",
     "evalue": "name 'Dataset' is not defined",
     "output_type": "error",
     "traceback": [
      "\u001b[0;31m---------------------------------------------------------------------------\u001b[0m",
      "\u001b[0;31mNameError\u001b[0m                                 Traceback (most recent call last)",
      "Cell \u001b[0;32mIn[135], line 1\u001b[0m\n\u001b[0;32m----> 1\u001b[0m \u001b[38;5;28;01mclass\u001b[39;00m \u001b[38;5;21;01mdataset_PGM_abstract\u001b[39;00m(\u001b[43mDataset\u001b[49m): \n\u001b[1;32m      2\u001b[0m     \u001b[38;5;28;01mdef\u001b[39;00m \u001b[38;5;21m__init__\u001b[39m(\u001b[38;5;28mself\u001b[39m, cmb_per_class\u001b[38;5;241m=\u001b[39m\u001b[38;5;241m3333\u001b[39m, train_attrs\u001b[38;5;241m=\u001b[39m\u001b[38;5;28;01mNone\u001b[39;00m, device\u001b[38;5;241m=\u001b[39m\u001b[38;5;124m\"\u001b[39m\u001b[38;5;124mcpu\u001b[39m\u001b[38;5;124m\"\u001b[39m, onehot\u001b[38;5;241m=\u001b[39m\u001b[38;5;28;01mFalse\u001b[39;00m): \n\u001b[1;32m      3\u001b[0m \u001b[38;5;250m        \u001b[39m\u001b[38;5;124;03m\"\"\"attr_list: [num_samples, 3, 9, 3]\"\"\"\u001b[39;00m\n",
      "\u001b[0;31mNameError\u001b[0m: name 'Dataset' is not defined"
     ]
    }
   ],
   "source": []
  },
  {
   "cell_type": "code",
   "execution_count": 120,
   "metadata": {},
   "outputs": [
    {
     "data": {
      "text/plain": [
       "torch.Size([3, 122, 364])"
      ]
     },
     "execution_count": 120,
     "metadata": {},
     "output_type": "execute_result"
    }
   ],
   "source": [
    "mtg.shape"
   ]
  },
  {
   "cell_type": "code",
   "execution_count": 91,
   "metadata": {},
   "outputs": [
    {
     "name": "stdout",
     "output_type": "stream",
     "text": [
      "torch.Size([256, 3, 120, 120])\n"
     ]
    }
   ],
   "source": [
    "inputs = next(iter(load_class0))\n",
    "print(inputs.shape)"
   ]
  },
  {
   "cell_type": "code",
   "execution_count": 93,
   "metadata": {},
   "outputs": [
    {
     "name": "stderr",
     "output_type": "stream",
     "text": [
      "WARNING:matplotlib.image:Clipping input data to the valid range for imshow with RGB data ([0..1] for floats or [0..255] for integers).\n"
     ]
    },
    {
     "data": {
      "image/png": "[encoded data removed]",
      "text/plain": [
       "<Figure size 1000x1000 with 1 Axes>"
      ]
     },
     "metadata": {},
     "output_type": "display_data"
    }
   ],
   "source": [
    "import torchvision\n",
    "from torchvision.utils import save_image, make_grid\n",
    "import torch.nn.functional as F\n",
    "import matplotlib.pyplot as plt\n",
    "mtg1 = make_grid(inputs[2,][:,None] / -0.6891, nrow=3, padding=0, pad_value=1)\n",
    "mtg2 = make_grid(inputs[4,][:,None] / -0.6891, nrow=3, padding=0, pad_value=1)\n",
    "mtg3 = make_grid(inputs[10,][:,None] / -0.6891, nrow=3, padding=0, pad_value=1)\n",
    "plt.figure(figsize=(10,10))\n",
    "plt.imshow(torchvision.transforms.Resize((192, 192))(\n",
    "           torch.cat([mtg1, mtg2, mtg3], dim=1),).permute(1,2,0))\n",
    "plt.axis('off')\n",
    "plt.show()\n"
   ]
  },
  {
   "cell_type": "markdown",
   "metadata": {},
   "source": [
    "## Abstract Attribute Dataset"
   ]
  },
  {
   "cell_type": "code",
   "execution_count": null,
   "metadata": {},
   "outputs": [
    {
     "name": "stdout",
     "output_type": "stream",
     "text": [
      "tensor([-1,  0,  1,  2,  3,  4,  5,  6])\n",
      "tensor([-1,  0,  1,  2,  3,  4,  5,  6,  7,  8,  9])\n",
      "tensor([-1,  0,  1,  2,  3,  4,  5,  6,  7,  8,  9])\n"
     ]
    }
   ],
   "source": [
    "print(train_inputs[i_class][:,:,:,0].to(int).unique())\n",
    "print(train_inputs[i_class][:,:,:,1].to(int).unique())\n",
    "print(train_inputs[i_class][:,:,:,2].to(int).unique())"
   ]
  },
  {
   "cell_type": "code",
   "execution_count": null,
   "metadata": {},
   "outputs": [],
   "source": [
    "\n",
    "def load_PGM_abstract(attr): \n",
    "    \"\"\"attr: (3, 9, 3), (num_panel, num_pos, num_attr)\"\"\"\n",
    "    attr = attr.to(int)\n",
    "    attr = torch.cat(tuple(attr.view(3, 3, 3, 3)), dim=1) # [3, 3, 3, 3] -> [3, 9, 3]\n",
    "    inputs = attr.permute(2, 0, 1) # num_attr, num_row=3, num_col (n panel x 3)\n",
    "    return inputs \n",
    "\n",
    "class dataset_PGM_abstract_single(Dataset): \n",
    "    def __init__(self, attr_list): \n",
    "        \"\"\"attr_list: [num_samples, 3, 9, 3]\"\"\"\n",
    "        self.attr_list = attr_list  \n",
    "        \n",
    "    def __len__(self): \n",
    "        return len(self.attr_list)\n",
    "    \n",
    "    def __getitem__(self, idx): \n",
    "        \"\"\"attr: [3, 9, 3]\"\"\"\n",
    "        attr = self.attr_list[idx] \n",
    "        inputs = load_PGM_abstract(attr)\n",
    "        return inputs"
   ]
  },
  {
   "cell_type": "code",
   "execution_count": 11,
   "metadata": {},
   "outputs": [],
   "source": [
    "import einops\n",
    "train_attrs = torch.load('/n/home12/binxuwang/Github/DiffusionReasoning/train_inputs.pt') # [35, 10000, 3, 9, 3]\n",
    "n_classes = train_attrs.shape[0]\n",
    "n_samples = train_attrs.shape[1]\n",
    "labels = torch.arange(0, n_classes).unsqueeze(1).expand(n_classes, n_samples)\n",
    "train_attrs = train_attrs.to(int)\n",
    "train_row_img = einops.rearrange(train_attrs, 'c s pnl (H W) att -> c s att H (pnl W)', H=3, W=3, att=3, pnl=3)"
   ]
  },
  {
   "cell_type": "code",
   "execution_count": null,
   "metadata": {},
   "outputs": [],
   "source": [
    "# import torch\n",
    "# from torch.utils.data import Dataset, DataLoader\n",
    "import itertools\n",
    "# Create an infinite iterator from the dataloader\n",
    "\n",
    "dataloader = DataLoader(range(10), batch_size=3, shuffle=True, drop_last=True)\n",
    "# dataloader_cycle = itertools.cycle(dataloader)\n",
    "# Iterate over the dataloader\n",
    "tuples = []\n",
    "for batch in dataloader:\n",
    "    print(batch)\n",
    "    tuples.append(batch)\n",
    "    # raise Exception"
   ]
  },
  {
   "cell_type": "code",
   "execution_count": 46,
   "metadata": {},
   "outputs": [
    {
     "name": "stderr",
     "output_type": "stream",
     "text": [
      "  0%|                                                                                                            | 0/35 [00:02<?, ?it/s]\n"
     ]
    },
    {
     "ename": "Exception",
     "evalue": "",
     "output_type": "error",
     "traceback": [
      "\u001b[0;31m---------------------------------------------------------------------------\u001b[0m",
      "\u001b[0;31mException\u001b[0m                                 Traceback (most recent call last)",
      "Cell \u001b[0;32mIn[46], line 17\u001b[0m\n\u001b[1;32m     15\u001b[0m     \u001b[38;5;28;01mexcept\u001b[39;00m \u001b[38;5;167;01mStopIteration\u001b[39;00m:\n\u001b[1;32m     16\u001b[0m         tuple_loader \u001b[38;5;241m=\u001b[39m DataLoader(\u001b[38;5;28mrange\u001b[39m(n_samples), batch_size\u001b[38;5;241m=\u001b[39m\u001b[38;5;241m3\u001b[39m, shuffle\u001b[38;5;241m=\u001b[39m\u001b[38;5;28;01mTrue\u001b[39;00m, drop_last\u001b[38;5;241m=\u001b[39m\u001b[38;5;28;01mTrue\u001b[39;00m)\n\u001b[0;32m---> 17\u001b[0m \u001b[38;5;28;01mraise\u001b[39;00m \u001b[38;5;167;01mException\u001b[39;00m\n\u001b[1;32m     18\u001b[0m y_class \u001b[38;5;241m=\u001b[39m torch\u001b[38;5;241m.\u001b[39mtensor([iclass]\u001b[38;5;241m*\u001b[39m\u001b[38;5;28mlen\u001b[39m(X_class), dtype\u001b[38;5;241m=\u001b[39mtorch\u001b[38;5;241m.\u001b[39mint)\n\u001b[1;32m     19\u001b[0m X_class \u001b[38;5;241m=\u001b[39m torch\u001b[38;5;241m.\u001b[39mstack(X_class)\n",
      "\u001b[0;31mException\u001b[0m: "
     ]
    }
   ],
   "source": [
    "cmb_per_class = 10000\n",
    "X = []\n",
    "y = []\n",
    "row_ids = []\n",
    "for iclass in trange(n_classes):\n",
    "    tuple_loader = DataLoader(range(n_samples), batch_size=3, shuffle=True, drop_last=True)\n",
    "    X_class = []\n",
    "    row_ids_cls = []\n",
    "    while True:\n",
    "        try:\n",
    "            batch = next(iter(tuple_loader))\n",
    "            row_ids_cls.append(batch)\n",
    "            if len(row_ids_cls) == cmb_per_class:\n",
    "                break\n",
    "        except StopIteration:\n",
    "            tuple_loader = DataLoader(range(n_samples), batch_size=3, shuffle=True, drop_last=True)\n",
    "    raise Exception\n",
    "    y_class = torch.tensor([iclass]*len(X_class), dtype=torch.int)\n",
    "    X_class = torch.stack(X_class)\n",
    "    row_ids_cls = torch.stack(row_ids_cls)\n",
    "    y.append(y_class)\n",
    "    X.append(X_class)\n",
    "    row_ids.append(row_ids_cls)\n",
    "X = torch.cat(X, dim=0)\n",
    "y = torch.cat(y, dim=0)\n",
    "row_ids = torch.cat(row_ids, dim=0)"
   ]
  },
  {
   "cell_type": "code",
   "execution_count": 50,
   "metadata": {},
   "outputs": [
    {
     "data": {
      "text/plain": [
       "tensor([[7863, 1287, 1122],\n",
       "        [9583,  201, 7632],\n",
       "        [9221, 3243, 9831],\n",
       "        ...,\n",
       "        [6937, 6762, 1933],\n",
       "        [5194, 1758, 6915],\n",
       "        [3969, 2907, 8533]])"
      ]
     },
     "execution_count": 50,
     "metadata": {},
     "output_type": "execute_result"
    }
   ],
   "source": [
    "torch.stack(row_ids_cls)"
   ]
  },
  {
   "cell_type": "code",
   "execution_count": 139,
   "metadata": {},
   "outputs": [],
   "source": [
    "def _sample_panels(train_row_img, cmb_per_class=3333):\n",
    "    n_classes = train_row_img.shape[0]\n",
    "    n_samples = train_row_img.shape[1]\n",
    "    X = []\n",
    "    y = []\n",
    "    row_ids = []\n",
    "    for iclass in trange(n_classes):\n",
    "        tuple_loader = DataLoader(range(n_samples), batch_size=3, shuffle=True, drop_last=True)\n",
    "        X_class = []\n",
    "        row_ids_cls = []\n",
    "        while True:\n",
    "            try:\n",
    "                batch = next(iter(tuple_loader))\n",
    "                rows = train_row_img[iclass][batch]\n",
    "                mtg = torch.cat(tuple(rows), dim=1)\n",
    "                X_class.append(mtg)\n",
    "                row_ids_cls.append(batch)\n",
    "                if len(X_class) == cmb_per_class:\n",
    "                    break\n",
    "            except StopIteration:\n",
    "                tuple_loader = DataLoader(range(n_samples), batch_size=3, shuffle=True, drop_last=True)\n",
    "\n",
    "        y_class = torch.tensor([iclass]*len(X_class), dtype=torch.int)\n",
    "        X_class = torch.stack(X_class)\n",
    "        row_ids_cls = torch.stack(row_ids_cls)\n",
    "        y.append(y_class)\n",
    "        X.append(X_class)\n",
    "        row_ids.append(row_ids_cls)\n",
    "    X = torch.cat(X, dim=0)\n",
    "    y = torch.cat(y, dim=0)\n",
    "    row_ids = torch.cat(row_ids, dim=0)\n",
    "    return X, y, row_ids\n",
    "\n",
    "\n",
    "class dataset_PGM_abstract(Dataset): \n",
    "    def __init__(self, cmb_per_class=3333, train_attrs=None, device=\"cpu\", onehot=False): \n",
    "        \"\"\"attr_list: [num_samples, 3, 9, 3]\"\"\"\n",
    "        if train_attrs is None:\n",
    "            train_attrs = torch.load('/n/home12/binxuwang/Github/DiffusionReasoning/train_inputs.pt') # [35, 10000, 3, 9, 3]\n",
    "        n_classes = train_attrs.shape[0] # 35\n",
    "        n_samples = train_attrs.shape[1] # 10k\n",
    "        self.labels = torch.arange(0, n_classes).unsqueeze(1).expand(n_classes, n_samples)\n",
    "        train_attrs = train_attrs.to(int)\n",
    "        self.train_row_img = einops.rearrange(train_attrs, 'c s pnl (H W) attr -> c s attr H (pnl W)', H=3, W=3, attr=3, pnl=3)\n",
    "        self.X, self.y, self.row_ids = _sample_panels(self.train_row_img, cmb_per_class)\n",
    "        self.X = self.X.to(device) # [35 * cmb_per_class, 3, 9, 9]\n",
    "        if onehot is True:\n",
    "            O1 = torch.eye(7, 7, dtype=int)\n",
    "            O2 = torch.eye(10, 10, dtype=int)\n",
    "            O3 = torch.eye(10, 10, dtype=int)\n",
    "            X_onehot = torch.cat([O1[self.X[:, 0], :], O2[self.X[:, 1], :], O3[self.X[:, 2], :], ], dim=-1)\n",
    "            print(X_onehot.shape)\n",
    "            self.X = einops.rearrange(X_onehot, 'b h w C -> b C h w')\n",
    "            print(self.X.shape)\n",
    "            self.Xmean = torch.tensor([0.5, ]).view(1, 1, 1, 1)\n",
    "            self.Xstd = torch.tensor([0.5, ]).view(1, 1, 1, 1)\n",
    "            self.X = (self.X.float() - self.Xmean) / self.Xstd\n",
    "        else:\n",
    "            self.Xmean = torch.tensor([1.5, 2.5, 2.5]).view(1, 3, 1, 1).to(device)\n",
    "            self.Xstd = torch.tensor([2.5, 3.5, 3.5]).view(1, 3, 1, 1).to(device)\n",
    "            self.X = (self.X - self.Xmean) / self.Xstd\n",
    "        \n",
    "    def __len__(self): \n",
    "        return len(self.y)\n",
    "    \n",
    "    def __getitem__(self, idx): \n",
    "        \"\"\"attr: [3, 9, 3]\"\"\"\n",
    "        return self.X[idx], self.y[idx]\n",
    "    \n",
    "    def dict(self):\n",
    "        return {'row_ids': self.row_ids, 'y': self.y}\n",
    "    "
   ]
  },
  {
   "cell_type": "code",
   "execution_count": 140,
   "metadata": {},
   "outputs": [
    {
     "name": "stderr",
     "output_type": "stream",
     "text": [
      "100%|███████████████████████████████████████████████████████████████████████████████████████████████████| 35/35 [00:35<00:00,  1.02s/it]\n"
     ]
    }
   ],
   "source": [
    "dataset = dataset_PGM_abstract(cmb_per_class=3333, )"
   ]
  },
  {
   "cell_type": "code",
   "execution_count": 141,
   "metadata": {},
   "outputs": [
    {
     "name": "stderr",
     "output_type": "stream",
     "text": [
      "100%|██████████████████████████████████████████████████████████████████████████████████████████████████| 35/35 [00:00<00:00, 312.33it/s]"
     ]
    },
    {
     "name": "stdout",
     "output_type": "stream",
     "text": [
      "torch.Size([350, 9, 9, 27])\n",
      "torch.Size([350, 27, 9, 9])\n"
     ]
    },
    {
     "name": "stderr",
     "output_type": "stream",
     "text": [
      "\n"
     ]
    }
   ],
   "source": [
    "dataset = dataset_PGM_abstract(cmb_per_class=10, onehot=True)"
   ]
  },
  {
   "cell_type": "code",
   "execution_count": null,
   "metadata": {},
   "outputs": [],
   "source": [
    "dataset"
   ]
  },
  {
   "cell_type": "code",
   "execution_count": 53,
   "metadata": {},
   "outputs": [
    {
     "name": "stdout",
     "output_type": "stream",
     "text": [
      "tensor([1.4295, 2.3996, 2.4022])\n",
      "tensor([2.4291, 3.4340, 3.4326])\n"
     ]
    }
   ],
   "source": [
    "print(dataset.X.float().mean(dim=(0,2,3)))\n",
    "print(dataset.X.float().std(dim=(0,2,3)))"
   ]
  },
  {
   "cell_type": "code",
   "execution_count": null,
   "metadata": {},
   "outputs": [],
   "source": []
  },
  {
   "cell_type": "code",
   "execution_count": null,
   "metadata": {},
   "outputs": [],
   "source": [
    "dataset = dataset_PGM_abstract(cmb_per_class=3333)"
   ]
  },
  {
   "cell_type": "code",
   "execution_count": 33,
   "metadata": {},
   "outputs": [
    {
     "data": {
      "text/plain": [
       "torch.Size([350000, 3])"
      ]
     },
     "execution_count": 33,
     "metadata": {},
     "output_type": "execute_result"
    }
   ],
   "source": [
    "dataset.row_ids.shape"
   ]
  },
  {
   "cell_type": "code",
   "execution_count": 40,
   "metadata": {},
   "outputs": [
    {
     "data": {
      "text/plain": [
       "tensor(9)"
      ]
     },
     "execution_count": 40,
     "metadata": {},
     "output_type": "execute_result"
    }
   ],
   "source": [
    "dataset[0][0]"
   ]
  },
  {
   "cell_type": "code",
   "execution_count": 6,
   "metadata": {},
   "outputs": [
    {
     "data": {
      "text/plain": [
       "torch.Size([35, 10000, 3, 9, 3])"
      ]
     },
     "execution_count": 6,
     "metadata": {},
     "output_type": "execute_result"
    }
   ],
   "source": [
    "train_attrs.shape # [35, 10000, 3, 9, 3] "
   ]
  },
  {
   "cell_type": "code",
   "execution_count": 12,
   "metadata": {},
   "outputs": [
    {
     "data": {
      "text/plain": [
       "torch.Size([35, 10000, 3, 3, 9])"
      ]
     },
     "execution_count": 12,
     "metadata": {},
     "output_type": "execute_result"
    }
   ],
   "source": [
    "einops.rearrange(train_attrs, 'c s pnl (H W) att -> c s att H (pnl W)', H=3, W=3).shape"
   ]
  },
  {
   "cell_type": "code",
   "execution_count": 14,
   "metadata": {},
   "outputs": [],
   "source": []
  },
  {
   "cell_type": "code",
   "execution_count": 15,
   "metadata": {},
   "outputs": [
    {
     "data": {
      "text/plain": [
       "torch.Size([35, 10000, 3, 3, 9])"
      ]
     },
     "execution_count": 15,
     "metadata": {},
     "output_type": "execute_result"
    }
   ],
   "source": [
    "train_row_img.shape"
   ]
  },
  {
   "cell_type": "code",
   "execution_count": 132,
   "metadata": {},
   "outputs": [],
   "source": [
    "\n",
    "train_attrs = train_attrs.view(n_classes * n_samples, 3, 9, 3) # 3 panels, 9 positions, 3 attributes\n",
    "train_attrs.permute(0, 3, 1, 2).shape\n",
    "train_attrs = train_attrs.view(n_classes * n_samples, 3, 3, 3, 3) # [n_classes * n_samples, 9, 3, 3]"
   ]
  },
  {
   "cell_type": "code",
   "execution_count": 137,
   "metadata": {},
   "outputs": [],
   "source": [
    "%load_ext autoreload\n",
    "%autoreload 2"
   ]
  },
  {
   "cell_type": "code",
   "execution_count": 138,
   "metadata": {},
   "outputs": [
    {
     "ename": "ModuleNotFoundError",
     "evalue": "No module named 'einops'",
     "output_type": "error",
     "traceback": [
      "\u001b[0;31m---------------------------------------------------------------------------\u001b[0m",
      "\u001b[0;31mModuleNotFoundError\u001b[0m                       Traceback (most recent call last)",
      "Cell \u001b[0;32mIn[138], line 1\u001b[0m\n\u001b[0;32m----> 1\u001b[0m \u001b[38;5;28;01mimport\u001b[39;00m \u001b[38;5;21;01meinops\u001b[39;00m\n",
      "\u001b[0;31mModuleNotFoundError\u001b[0m: No module named 'einops'"
     ]
    }
   ],
   "source": [
    "import einops"
   ]
  },
  {
   "cell_type": "code",
   "execution_count": null,
   "metadata": {},
   "outputs": [],
   "source": [
    "dataset_abstr = dataset_PGM_abstract_single(train_inputs[i_class])"
   ]
  },
  {
   "cell_type": "code",
   "execution_count": null,
   "metadata": {},
   "outputs": [
    {
     "name": "stdout",
     "output_type": "stream",
     "text": [
      "torch.Size([3, 3, 9])\n"
     ]
    },
    {
     "data": {
      "text/plain": [
       "tensor([[[-1,  4,  4,  1,  1,  1, -1,  3, -1],\n",
       "         [ 4,  4,  4,  1,  1,  1, -1, -1, -1],\n",
       "         [-1, -1,  4,  1,  1,  1, -1, -1,  3]],\n",
       "\n",
       "        [[-1,  6,  5,  5,  6,  2, -1,  7, -1],\n",
       "         [ 5,  3,  2,  0,  5,  0, -1, -1, -1],\n",
       "         [-1, -1,  0,  3,  7,  4, -1, -1,  5]],\n",
       "\n",
       "        [[-1,  0,  0,  2,  2,  2, -1,  4, -1],\n",
       "         [ 0,  0,  0,  2,  2,  2, -1, -1, -1],\n",
       "         [-1, -1,  0,  2,  2,  2, -1, -1,  7]]])"
      ]
     },
     "metadata": {},
     "output_type": "display_data"
    }
   ],
   "source": [
    "print(dataset_abstr[1].shape)\n",
    "dataset_abstr[1]"
   ]
  }
 ],
 "metadata": {
  "kernelspec": {
   "display_name": "Python (torch)",
   "language": "python",
   "name": "torch"
  },
  "language_info": {
   "codemirror_mode": {
    "name": "ipython",
    "version": 3
   },
   "file_extension": ".py",
   "mimetype": "text/x-python",
   "name": "python",
   "nbconvert_exporter": "python",
   "pygments_lexer": "ipython3",
   "version": "3.10.12"
  }
 },
 "nbformat": 4,
 "nbformat_minor": 2
}
