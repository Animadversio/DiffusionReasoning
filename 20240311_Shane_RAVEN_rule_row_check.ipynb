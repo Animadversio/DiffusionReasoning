{
 "cells": [
  {
   "cell_type": "code",
   "execution_count": 1,
   "id": "adb0e249",
   "metadata": {},
   "outputs": [],
   "source": [
    "import numpy as np \n",
    "import pickle\n",
    "import time "
   ]
  },
  {
   "cell_type": "code",
   "execution_count": 2,
   "id": "a21ef86d",
   "metadata": {},
   "outputs": [],
   "source": [
    "data_dir = 'data/20240308_data/'\n",
    "\n",
    "attr_all = np.load(data_dir+'attr_all.npy') # (40, 12000, 3, 9, 3), (num_rules, num_samples, num_panels, num_pos, num_attributes)\n",
    "\n",
    "with open(data_dir+'r_dict_M7_withR.pkl', 'rb') as file:\n",
    "    r_dict_M7_withR = pickle.load(file)\n",
    "    \n",
    "with open(data_dir+'r_dict_M10_withR.pkl', 'rb') as file:\n",
    "    r_dict_M10_withR = pickle.load(file)\n",
    "    \n",
    "with open(data_dir+'r_dict_num_withR.pkl', 'rb') as file:\n",
    "    r_dict_num_withR = pickle.load(file)\n",
    "    \n",
    "with open(data_dir+'r_dict_pos_withR.pkl', 'rb') as file:\n",
    "    r_dict_pos_withR = pickle.load(file)\n",
    "    \n",
    "def get_key_first2(a_list):\n",
    "    \"\"\"\n",
    "    Convert a_list to key string.\n",
    "    e.g., a_list = [[1,2], [1]], key='12-1'\n",
    "    \"\"\"\n",
    "    key_parts = [''.join(map(str, sublist)) for sublist in a_list[:2]]\n",
    "    return '-'.join(key_parts)\n",
    "\n",
    "def get_attr(attr):\n",
    "    \"\"\"attr: (3, 9, 3)\"\"\"\n",
    "    x_num, x_pos, x_shape, x_color, x_size = [None] * 3, [None] * 3, [None] * 3, [None] * 3, [None] * 3\n",
    "\n",
    "    for i, attr_panel in enumerate(attr):\n",
    "        valid_pos = np.where((attr_panel == -1).sum(axis=1) == 0)[0]\n",
    "        x_pos[i] = valid_pos.tolist()  \n",
    "        x_num[i] = [len(valid_pos)]\n",
    "        x_shape[i], x_color[i], x_size[i] = [np.unique(attr_panel[valid_pos, j]).tolist() for j in range(3)]\n",
    "\n",
    "    return x_num, x_pos, x_shape, x_color, x_size\n",
    "\n",
    "def check_rule(x, r_dict_withR):\n",
    "    key_first2 = get_key_first2(x) \n",
    "\n",
    "    if key_first2 in r_dict_withR:\n",
    "        d = r_dict_withR[key_first2]\n",
    "        for key, value in d.items():\n",
    "            if x[2] == value:\n",
    "                return key  \n",
    "    return None  \n",
    "\n",
    "def check_row_rule(attr): \n",
    "    \"\"\"attr: (3, 9, 3), return list of rule \"\"\"\n",
    "    x_num, x_pos, x_shape, x_color, x_size = get_attr(attr)\n",
    "    \n",
    "    rule_list = []\n",
    "    R_shape = check_rule(x_shape, r_dict_M7_withR)\n",
    "    if R_shape is not None: \n",
    "        rule_list.append(R_shape)\n",
    "\n",
    "    R_color = check_rule(x_color, r_dict_M10_withR)\n",
    "    if R_color is not None: \n",
    "        rule_list.append(R_color+10)\n",
    "\n",
    "    R_size = check_rule(x_size, r_dict_M10_withR)\n",
    "    if R_size is not None: \n",
    "        rule_list.append(R_size+20)\n",
    "        \n",
    "    R_num = check_rule(x_num, r_dict_num_withR)\n",
    "    if R_num is not None: \n",
    "        rule_list.append(R_num+30)\n",
    "        \n",
    "    R_pos = check_rule(x_pos, r_dict_pos_withR)\n",
    "    if R_pos is not None: \n",
    "        rule_list.append(R_pos+37)\n",
    "        \n",
    "    return rule_list\n",
    "\n",
    "from collections import defaultdict\n",
    "def check_rule_overlap(attr_list): \n",
    "    \"\"\"\n",
    "    Inputs: \n",
    "        attr_list: (3, 3, 9, 3), (3 rows, 3 panels, 9 pos, 3 attr)\n",
    "    Outputs: \n",
    "        r3: list of rules appearing in all 3 rows \n",
    "        r2: list of rules appear in only 2 of the 3 rows \n",
    "    \"\"\"\n",
    "    rule_all = [check_row_rule(a) for a in attr_list] # rule_list for each row, e.g., [[0,1], [0,1], [0,2]]\n",
    "    \n",
    "    r_dict = defaultdict(int) # e.g., {0: 3, 1: 2, 2: 1}, key=rule_ind, value=number of occurance in 3 rows\n",
    "    for rule in rule_all:\n",
    "        for x in rule: \n",
    "            if x not in r_dict.keys(): \n",
    "                r_dict[x] = 0 \n",
    "            r_dict[x] += 1 \n",
    "\n",
    "    r3, r2 = [], []\n",
    "    for k, v in r_dict.items():\n",
    "        if v == 3:\n",
    "            r3.append(k)\n",
    "        elif v == 2:\n",
    "            r2.append(k)\n",
    "    \n",
    "    return r3, r2\n",
    "\n",
    "def check_r3_r2_batch(attr_sample): \n",
    "    \"\"\"\n",
    "    Inputs: \n",
    "        attr_sample: e.g., (4000, 3, 3, 9, 3), (num_samples, 3 rows, 3 panels, 9 pos, 3 attrs)\n",
    "    Outputs: \n",
    "        r3_all: list, rule that appear in all 3 rows for each sample \n",
    "        r2_all: list, rule that appear in 2 of 3 rows \n",
    "        \n",
    "    TODO: multiple CPU cores? concurrent.futures\n",
    "    \"\"\"\n",
    "    r3_all = []\n",
    "    r2_all = []\n",
    "    for attr_list in attr_sample: \n",
    "        r3, r2 = check_rule_overlap(attr_list)\n",
    "\n",
    "        r3_all.append(r3)\n",
    "        r2_all.append(r2)\n",
    "        \n",
    "    return r3_all, r2_all "
   ]
  },
  {
   "cell_type": "code",
   "execution_count": 3,
   "id": "a1af9794",
   "metadata": {},
   "outputs": [
    {
     "data": {
      "text/plain": [
       "(40, 12000, 3, 9, 3)"
      ]
     },
     "execution_count": 3,
     "metadata": {},
     "output_type": "execute_result"
    }
   ],
   "source": [
    "attr_all.shape"
   ]
  },
  {
   "cell_type": "code",
   "execution_count": 4,
   "id": "0b05c47f",
   "metadata": {},
   "outputs": [],
   "source": [
    "attr_sample = attr_all[0].reshape((-1, 3, 3, 9, 3))"
   ]
  },
  {
   "cell_type": "code",
   "execution_count": 5,
   "id": "83242fa4",
   "metadata": {},
   "outputs": [
    {
     "data": {
      "text/plain": [
       "(4000, 3, 3, 9, 3)"
      ]
     },
     "execution_count": 5,
     "metadata": {},
     "output_type": "execute_result"
    }
   ],
   "source": [
    "attr_sample.shape"
   ]
  },
  {
   "cell_type": "code",
   "execution_count": 6,
   "id": "584b3223",
   "metadata": {},
   "outputs": [],
   "source": [
    "start_time = time.time()\n",
    "r3_all, r2_all = check_r3_r2_batch(attr_sample)\n",
    "dur = time.time() - start_time "
   ]
  },
  {
   "cell_type": "code",
   "execution_count": 7,
   "id": "276808cb",
   "metadata": {},
   "outputs": [
    {
     "data": {
      "text/plain": [
       "1.3459701538085938"
      ]
     },
     "execution_count": 7,
     "metadata": {},
     "output_type": "execute_result"
    }
   ],
   "source": [
    "dur"
   ]
  },
  {
   "cell_type": "code",
   "execution_count": null,
   "id": "62209371",
   "metadata": {},
   "outputs": [],
   "source": []
  }
 ],
 "metadata": {
  "kernelspec": {
   "display_name": "Python 3 (ipykernel)",
   "language": "python",
   "name": "python3"
  },
  "language_info": {
   "codemirror_mode": {
    "name": "ipython",
    "version": 3
   },
   "file_extension": ".py",
   "mimetype": "text/x-python",
   "name": "python",
   "nbconvert_exporter": "python",
   "pygments_lexer": "ipython3",
   "version": "3.10.11"
  }
 },
 "nbformat": 4,
 "nbformat_minor": 5
}
