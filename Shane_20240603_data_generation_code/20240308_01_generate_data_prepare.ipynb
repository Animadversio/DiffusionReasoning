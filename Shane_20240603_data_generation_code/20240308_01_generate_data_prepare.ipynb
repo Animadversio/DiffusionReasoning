{
 "cells": [
  {
   "cell_type": "code",
   "execution_count": 1,
   "id": "53133a93",
   "metadata": {},
   "outputs": [],
   "source": [
    "import numpy as np \n",
    "import torch \n",
    "import os \n",
    "\n",
    "os.environ['CUDA_VISIBLE_DEVICES']='0'\n",
    "device = torch.device('cpu')"
   ]
  },
  {
   "cell_type": "code",
   "execution_count": 2,
   "id": "5bf8559d",
   "metadata": {},
   "outputs": [],
   "source": [
    "import pickle\n",
    "import random "
   ]
  },
  {
   "cell_type": "code",
   "execution_count": 3,
   "id": "3fc321a0",
   "metadata": {},
   "outputs": [],
   "source": [
    "from utils_dataset import get_r_list, get_r_last_all, get_r_dict_pos, get_r_dict_num, get_r_dict, get_r_list_num, get_r_list_pos, get_key_first2"
   ]
  },
  {
   "cell_type": "code",
   "execution_count": 4,
   "id": "7904e2d7",
   "metadata": {},
   "outputs": [],
   "source": [
    "data_dir = 'data/20240308_data/'"
   ]
  },
  {
   "cell_type": "code",
   "execution_count": 5,
   "id": "c6a70f1f",
   "metadata": {},
   "outputs": [],
   "source": [
    "r_all_M7 = get_r_list(7, 7)\n",
    "np.save(data_dir+'r_list_M7',  r_all_M7)"
   ]
  },
  {
   "cell_type": "code",
   "execution_count": 6,
   "id": "d2e602cf",
   "metadata": {},
   "outputs": [],
   "source": [
    "r_dict_M7 = get_r_dict(r_all_M7)\n",
    "with open(data_dir+'r_dict_M7.pkl', 'wb') as f:\n",
    "    pickle.dump(r_dict_M7, f)"
   ]
  },
  {
   "cell_type": "code",
   "execution_count": 7,
   "id": "23e2677f",
   "metadata": {},
   "outputs": [],
   "source": [
    "r_last_M7 = get_r_last_all(r_all_M7)\n",
    "with open(data_dir+'r_last_M7.pkl', 'wb') as f:\n",
    "    pickle.dump(r_last_M7, f)"
   ]
  },
  {
   "cell_type": "code",
   "execution_count": 8,
   "id": "642c2d51",
   "metadata": {},
   "outputs": [],
   "source": [
    "r_all_M10 = get_r_list(10, 9)\n",
    "np.save(data_dir+'r_list_M10',  r_all_M10)"
   ]
  },
  {
   "cell_type": "code",
   "execution_count": 9,
   "id": "9cf05be5",
   "metadata": {},
   "outputs": [],
   "source": [
    "r_last_M10 = get_r_last_all(r_all_M10)\n",
    "with open(data_dir+'r_last_M10.pkl', 'wb') as f:\n",
    "    pickle.dump(r_last_M10, f)"
   ]
  },
  {
   "cell_type": "code",
   "execution_count": 10,
   "id": "f7116c2a",
   "metadata": {},
   "outputs": [],
   "source": [
    "r_dict_M10 = get_r_dict(r_all_M10)\n",
    "with open(data_dir+'r_dict_M10.pkl', 'wb') as f:\n",
    "    pickle.dump(r_dict_M10, f)"
   ]
  },
  {
   "cell_type": "code",
   "execution_count": 11,
   "id": "5ba3f105",
   "metadata": {},
   "outputs": [],
   "source": [
    "r_all_num = get_r_list_num(9)\n",
    "r_all_pos = get_r_list_pos(9)"
   ]
  },
  {
   "cell_type": "code",
   "execution_count": 12,
   "id": "01d3299a",
   "metadata": {},
   "outputs": [],
   "source": [
    "r_dict_num = get_r_dict_num(r_all_num)"
   ]
  },
  {
   "cell_type": "code",
   "execution_count": 13,
   "id": "1973e0a8",
   "metadata": {},
   "outputs": [],
   "source": [
    "# sub-select pos with nan num \n",
    "r_all_num_all = []\n",
    "for r_list in r_all_num: \n",
    "    for x in r_list: \n",
    "        r_all_num_all.append(x)\n",
    "\n",
    "r_list_pos_new = []\n",
    "for r_list in r_all_pos:\n",
    "    r_list_new = []\n",
    "    for x in r_list: \n",
    "        l = [[len(i)] for i in x]\n",
    "        key = str(len(x[0]))+str(len(x[1]))\n",
    "        if key in r_dict_num.keys() and l not in r_all_num_all: \n",
    "            r_list_new.append(x)\n",
    "    r_list_pos_new.append(r_list_new)"
   ]
  },
  {
   "cell_type": "code",
   "execution_count": 14,
   "id": "fad35819",
   "metadata": {},
   "outputs": [],
   "source": [
    "r_dict_pos = get_r_dict_pos(r_list_pos_new)"
   ]
  },
  {
   "cell_type": "code",
   "execution_count": 15,
   "id": "b5cc980d",
   "metadata": {},
   "outputs": [],
   "source": [
    "with open(data_dir+'r_dict_pos.pkl', 'wb') as f:\n",
    "    pickle.dump(r_dict_pos, f)\n",
    "    \n",
    "with open(data_dir+'r_dict_num.pkl', 'wb') as f:\n",
    "    pickle.dump(r_dict_num, f)"
   ]
  },
  {
   "cell_type": "code",
   "execution_count": 16,
   "id": "df2df2a4",
   "metadata": {},
   "outputs": [],
   "source": [
    "r_all_num = np.array(r_all_num, dtype=object)\n",
    "np.save(data_dir+'r_list_num',  r_all_num)"
   ]
  },
  {
   "cell_type": "code",
   "execution_count": 17,
   "id": "e80b2f42",
   "metadata": {},
   "outputs": [],
   "source": [
    "r_list_pos_new = np.array(r_list_pos_new, dtype=object)\n",
    "np.save(data_dir+'r_list_pos',  r_list_pos_new)"
   ]
  },
  {
   "cell_type": "code",
   "execution_count": 18,
   "id": "33181dd0",
   "metadata": {},
   "outputs": [],
   "source": [
    "# for rule extraction \n",
    "def get_r_dict_withR(r_all): \n",
    "    \"\"\" e.g., [[1], [1], [1]] --> {'111': {'1-1': [[1]]}}\n",
    "    num_attr, first2 panels\n",
    "    \"\"\"\n",
    "    r_dict = {}\n",
    "    for i_R, r_list in enumerate(r_all): \n",
    "        for x in r_list: \n",
    "            key_first2 = get_key_first2(x)\n",
    "            if key_first2 not in r_dict.keys(): \n",
    "                r_dict[key_first2] = {}\n",
    "                \n",
    "            r_dict[key_first2][i_R] = x[2]\n",
    "\n",
    "    return r_dict"
   ]
  },
  {
   "cell_type": "code",
   "execution_count": 19,
   "id": "32f42d9c",
   "metadata": {},
   "outputs": [],
   "source": [
    "r_all_M7 = np.load(data_dir+'r_list_M7.npy', allow_pickle=True)\n",
    "r_dict_M7_withR = get_r_dict_withR(r_all_M7)\n",
    "with open(data_dir+'r_dict_M7_withR.pkl', 'wb') as f:\n",
    "    pickle.dump(r_dict_M7_withR, f)"
   ]
  },
  {
   "cell_type": "code",
   "execution_count": 20,
   "id": "be3919c5",
   "metadata": {},
   "outputs": [],
   "source": [
    "r_all_M10 = np.load(data_dir+'r_list_M10.npy', allow_pickle=True)\n",
    "r_dict_M10_withR = get_r_dict_withR(r_all_M10)\n",
    "with open(data_dir+'r_dict_M10_withR.pkl', 'wb') as f:\n",
    "    pickle.dump(r_dict_M10_withR, f)"
   ]
  },
  {
   "cell_type": "code",
   "execution_count": 21,
   "id": "5530a2f0",
   "metadata": {},
   "outputs": [],
   "source": [
    "r_list_num = np.load(data_dir+'r_list_num.npy', allow_pickle=True)\n",
    "r_dict_num_withR = get_r_dict_withR(r_list_num)\n",
    "with open(data_dir+'r_dict_num_withR.pkl', 'wb') as f:\n",
    "    pickle.dump(r_dict_num_withR, f)"
   ]
  },
  {
   "cell_type": "code",
   "execution_count": 22,
   "id": "e0564d4e",
   "metadata": {},
   "outputs": [],
   "source": [
    "r_list_pos = np.load(data_dir+'r_list_pos.npy', allow_pickle=True)\n",
    "r_dict_pos_withR = get_r_dict_withR(r_list_pos)\n",
    "with open(data_dir+'r_dict_pos_withR.pkl', 'wb') as f:\n",
    "    pickle.dump(r_dict_pos_withR, f)"
   ]
  },
  {
   "cell_type": "code",
   "execution_count": null,
   "id": "57908618",
   "metadata": {},
   "outputs": [],
   "source": []
  }
 ],
 "metadata": {
  "kernelspec": {
   "display_name": "Python 3 (ipykernel)",
   "language": "python",
   "name": "python3"
  },
  "language_info": {
   "codemirror_mode": {
    "name": "ipython",
    "version": 3
   },
   "file_extension": ".py",
   "mimetype": "text/x-python",
   "name": "python",
   "nbconvert_exporter": "python",
   "pygments_lexer": "ipython3",
   "version": "3.9.18"
  }
 },
 "nbformat": 4,
 "nbformat_minor": 5
}
