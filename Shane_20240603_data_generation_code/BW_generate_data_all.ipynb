{
 "cells": [
  {
   "cell_type": "code",
   "execution_count": 8,
   "metadata": {},
   "outputs": [],
   "source": [
    "%load_ext autoreload\n",
    "%autoreload 2"
   ]
  },
  {
   "cell_type": "code",
   "execution_count": 5,
   "metadata": {},
   "outputs": [],
   "source": [
    "import sys\n",
    "sys.path.append(\"/n/home12/binxuwang/Github/DiffusionReasoning/RPM_data_generation\")\n",
    "sys.path.append(\"/n/home12/binxuwang/Github/DiffusionReasoning\")"
   ]
  },
  {
   "cell_type": "code",
   "execution_count": 21,
   "metadata": {},
   "outputs": [],
   "source": [
    "import numpy as np \n",
    "import torch \n",
    "import os \n",
    "import pickle\n",
    "import random \n",
    "import time \n",
    "from os.path import join\n",
    "from tqdm import tqdm, trange\n",
    "os.environ['CUDA_VISIBLE_DEVICES']='0'\n",
    "device = torch.device('cpu')"
   ]
  },
  {
   "cell_type": "code",
   "execution_count": 10,
   "metadata": {},
   "outputs": [],
   "source": [
    "from utils_dataset import sample_nan, fill_panel, sample_nan_pos, sample_x_with_num"
   ]
  },
  {
   "cell_type": "code",
   "execution_count": null,
   "metadata": {},
   "outputs": [],
   "source": [
    "data_dir = '/n/home12/binxuwang/Github/DiffusionReasoning/rule_data/20240308_data/'\n"
   ]
  },
  {
   "cell_type": "code",
   "execution_count": 17,
   "metadata": {},
   "outputs": [],
   "source": [
    "\n",
    "# Load numpy arrays\n",
    "# Load pickled dictionaries\n",
    "r_all_M7 = np.load(join(data_dir, 'r_list_M7.npy'), allow_pickle=True)\n",
    "r_dict_M7 = pickle.load(open(join(data_dir, 'r_dict_M7.pkl'), 'rb'))\n",
    "r_last_M7 = pickle.load(open(join(data_dir, 'r_last_M7.pkl'), 'rb'))\n",
    "r_all_M10 = np.load(join(data_dir, 'r_list_M10.npy'), allow_pickle=True)\n",
    "r_dict_M10 = pickle.load(open(join(data_dir, 'r_dict_M10.pkl'), 'rb'))\n",
    "r_last_M10 = pickle.load(open(join(data_dir, 'r_last_M10.pkl'), 'rb'))\n",
    "r_list_pos = np.load(join(data_dir, 'r_list_pos.npy'), allow_pickle=True)\n",
    "r_dict_pos = pickle.load(open(join(data_dir, 'r_dict_pos.pkl'), 'rb'))\n",
    "r_list_num = np.load(join(data_dir, 'r_list_num.npy'), allow_pickle=True)\n",
    "r_dict_num = pickle.load(open(join(data_dir, 'r_dict_num.pkl'), 'rb'))\n",
    "r_dict_pos_withR = pickle.load(open(join(data_dir, 'r_dict_pos_withR.pkl'), 'rb'))\n",
    "\n",
    "# Convert keys of r_dict_num to a list\n",
    "r_dict_num_keylist = list(r_dict_num.keys())"
   ]
  },
  {
   "cell_type": "code",
   "execution_count": 18,
   "metadata": {},
   "outputs": [],
   "source": [
    "num_samples_total = 1200500\n",
    "num_samples_keep = 1200000\n",
    "output_dir = '/n/holylfs06/LABS/kempner_fellow_binxuwang/Users/binxuwang/Datasets/RPM_dataset/RPM1000k'\n",
    "os.makedirs(output_dir, exist_ok=True)\n",
    "os.makedirs(join(output_dir, 'aR'), exist_ok=True)"
   ]
  },
  {
   "cell_type": "markdown",
   "metadata": {},
   "source": [
    "### Attribute 0 Shape"
   ]
  },
  {
   "cell_type": "code",
   "execution_count": 22,
   "metadata": {},
   "outputs": [
    {
     "name": "stderr",
     "output_type": "stream",
     "text": [
      "  0%|          | 0/200084 [00:00<?, ?it/s]"
     ]
    },
    {
     "name": "stderr",
     "output_type": "stream",
     "text": [
      "100%|██████████| 200084/200084 [00:49<00:00, 4040.87it/s]\n",
      "100%|██████████| 200084/200084 [00:49<00:00, 4045.73it/s]\n",
      " 21%|██        | 42246/200084 [00:10<00:38, 4048.95it/s]\n"
     ]
    },
    {
     "ename": "KeyboardInterrupt",
     "evalue": "",
     "output_type": "error",
     "traceback": [
      "\u001b[0;31m---------------------------------------------------------------------------\u001b[0m",
      "\u001b[0;31mKeyboardInterrupt\u001b[0m                         Traceback (most recent call last)",
      "Cell \u001b[0;32mIn[22], line 41\u001b[0m\n\u001b[1;32m     38\u001b[0m x_num \u001b[38;5;241m=\u001b[39m [[\u001b[38;5;28mint\u001b[39m(key_first2[\u001b[38;5;241m0\u001b[39m])], [\u001b[38;5;28mint\u001b[39m(key_first2[\u001b[38;5;241m1\u001b[39m])], [last]] \u001b[38;5;66;03m# e.g., [7, 7, 4]\u001b[39;00m\n\u001b[1;32m     39\u001b[0m x_pos \u001b[38;5;241m=\u001b[39m sample_nan_pos(x_num, r_dict_pos, r_dict_pos_withR) \u001b[38;5;66;03m# 4) sample position \u001b[39;00m\n\u001b[0;32m---> 41\u001b[0m attr \u001b[38;5;241m=\u001b[39m np\u001b[38;5;241m.\u001b[39masarray([fill_panel(x_pos[i], x_shape[i], x_size[i], x_color[i]) \u001b[38;5;28;01mfor\u001b[39;00m i \u001b[38;5;129;01min\u001b[39;00m \u001b[38;5;28mrange\u001b[39m(\u001b[38;5;241m3\u001b[39m)])\n\u001b[1;32m     42\u001b[0m attr_all\u001b[38;5;241m.\u001b[39mappend(attr)\n\u001b[1;32m     44\u001b[0m \u001b[38;5;28;01mdel\u001b[39;00m x_shape, x_size, x_color, x_pos, x_num \n",
      "Cell \u001b[0;32mIn[22], line 41\u001b[0m, in \u001b[0;36m<listcomp>\u001b[0;34m(.0)\u001b[0m\n\u001b[1;32m     38\u001b[0m x_num \u001b[38;5;241m=\u001b[39m [[\u001b[38;5;28mint\u001b[39m(key_first2[\u001b[38;5;241m0\u001b[39m])], [\u001b[38;5;28mint\u001b[39m(key_first2[\u001b[38;5;241m1\u001b[39m])], [last]] \u001b[38;5;66;03m# e.g., [7, 7, 4]\u001b[39;00m\n\u001b[1;32m     39\u001b[0m x_pos \u001b[38;5;241m=\u001b[39m sample_nan_pos(x_num, r_dict_pos, r_dict_pos_withR) \u001b[38;5;66;03m# 4) sample position \u001b[39;00m\n\u001b[0;32m---> 41\u001b[0m attr \u001b[38;5;241m=\u001b[39m np\u001b[38;5;241m.\u001b[39masarray([\u001b[43mfill_panel\u001b[49m\u001b[43m(\u001b[49m\u001b[43mx_pos\u001b[49m\u001b[43m[\u001b[49m\u001b[43mi\u001b[49m\u001b[43m]\u001b[49m\u001b[43m,\u001b[49m\u001b[43m \u001b[49m\u001b[43mx_shape\u001b[49m\u001b[43m[\u001b[49m\u001b[43mi\u001b[49m\u001b[43m]\u001b[49m\u001b[43m,\u001b[49m\u001b[43m \u001b[49m\u001b[43mx_size\u001b[49m\u001b[43m[\u001b[49m\u001b[43mi\u001b[49m\u001b[43m]\u001b[49m\u001b[43m,\u001b[49m\u001b[43m \u001b[49m\u001b[43mx_color\u001b[49m\u001b[43m[\u001b[49m\u001b[43mi\u001b[49m\u001b[43m]\u001b[49m\u001b[43m)\u001b[49m \u001b[38;5;28;01mfor\u001b[39;00m i \u001b[38;5;129;01min\u001b[39;00m \u001b[38;5;28mrange\u001b[39m(\u001b[38;5;241m3\u001b[39m)])\n\u001b[1;32m     42\u001b[0m attr_all\u001b[38;5;241m.\u001b[39mappend(attr)\n\u001b[1;32m     44\u001b[0m \u001b[38;5;28;01mdel\u001b[39;00m x_shape, x_size, x_color, x_pos, x_num \n",
      "File \u001b[0;32m~/Github/DiffusionReasoning/RPM_data_generation/utils_dataset.py:404\u001b[0m, in \u001b[0;36mfill_panel\u001b[0;34m(pos_id, value_shape, value_size, value_color)\u001b[0m\n\u001b[1;32m    402\u001b[0m x_all[:,\u001b[38;5;241m0\u001b[39m] \u001b[38;5;241m=\u001b[39m  fill_panel_attr(pos_id, value_shape)\n\u001b[1;32m    403\u001b[0m x_all[:,\u001b[38;5;241m1\u001b[39m] \u001b[38;5;241m=\u001b[39m  fill_panel_attr(pos_id, value_size)\n\u001b[0;32m--> 404\u001b[0m x_all[:,\u001b[38;5;241m2\u001b[39m] \u001b[38;5;241m=\u001b[39m  \u001b[43mfill_panel_attr\u001b[49m\u001b[43m(\u001b[49m\u001b[43mpos_id\u001b[49m\u001b[43m,\u001b[49m\u001b[43m \u001b[49m\u001b[43mvalue_color\u001b[49m\u001b[43m)\u001b[49m\n\u001b[1;32m    405\u001b[0m \u001b[38;5;28;01mreturn\u001b[39;00m x_all\n",
      "File \u001b[0;32m~/Github/DiffusionReasoning/RPM_data_generation/utils_dataset.py:384\u001b[0m, in \u001b[0;36mfill_panel_attr\u001b[0;34m(pos_id, value)\u001b[0m\n\u001b[1;32m    382\u001b[0m value_fill \u001b[38;5;241m=\u001b[39m np\u001b[38;5;241m.\u001b[39mzeros((\u001b[38;5;28mlen\u001b[39m(pos_id),))\n\u001b[1;32m    383\u001b[0m value_fill[:\u001b[38;5;28mlen\u001b[39m(value)] \u001b[38;5;241m=\u001b[39m value \n\u001b[0;32m--> 384\u001b[0m value_fill[\u001b[38;5;28mlen\u001b[39m(value):] \u001b[38;5;241m=\u001b[39m \u001b[43mnp\u001b[49m\u001b[38;5;241;43m.\u001b[39;49m\u001b[43mrandom\u001b[49m\u001b[38;5;241;43m.\u001b[39;49m\u001b[43mchoice\u001b[49m\u001b[43m(\u001b[49m\u001b[43mvalue\u001b[49m\u001b[43m,\u001b[49m\u001b[43m \u001b[49m\u001b[38;5;28;43mlen\u001b[39;49m\u001b[43m(\u001b[49m\u001b[43mpos_id\u001b[49m\u001b[43m)\u001b[49m\u001b[38;5;241;43m-\u001b[39;49m\u001b[38;5;28;43mlen\u001b[39;49m\u001b[43m(\u001b[49m\u001b[43mvalue\u001b[49m\u001b[43m)\u001b[49m\u001b[43m,\u001b[49m\u001b[43m \u001b[49m\u001b[43mreplace\u001b[49m\u001b[38;5;241;43m=\u001b[39;49m\u001b[38;5;28;43;01mTrue\u001b[39;49;00m\u001b[43m)\u001b[49m\n\u001b[1;32m    385\u001b[0m np\u001b[38;5;241m.\u001b[39mrandom\u001b[38;5;241m.\u001b[39mshuffle(value_fill)\n\u001b[1;32m    387\u001b[0m x_fill \u001b[38;5;241m=\u001b[39m \u001b[38;5;241m-\u001b[39m\u001b[38;5;241m1\u001b[39m \u001b[38;5;241m*\u001b[39m np\u001b[38;5;241m.\u001b[39mones((\u001b[38;5;241m9\u001b[39m,))\n",
      "File \u001b[0;32mnumpy/random/mtrand.pyx:998\u001b[0m, in \u001b[0;36mnumpy.random.mtrand.RandomState.choice\u001b[0;34m()\u001b[0m\n",
      "File \u001b[0;32mnumpy/random/mtrand.pyx:782\u001b[0m, in \u001b[0;36mnumpy.random.mtrand.RandomState.randint\u001b[0;34m()\u001b[0m\n",
      "File \u001b[0;32mnumpy/random/_bounded_integers.pyx:1315\u001b[0m, in \u001b[0;36mnumpy.random._bounded_integers._rand_int64\u001b[0;34m()\u001b[0m\n",
      "File \u001b[0;32m~/.conda/envs/torch2/lib/python3.10/site-packages/numpy/core/fromnumeric.py:3100\u001b[0m, in \u001b[0;36mprod\u001b[0;34m(a, axis, dtype, out, keepdims, initial, where)\u001b[0m\n\u001b[1;32m   2979\u001b[0m \u001b[38;5;129m@array_function_dispatch\u001b[39m(_prod_dispatcher)\n\u001b[1;32m   2980\u001b[0m \u001b[38;5;28;01mdef\u001b[39;00m \u001b[38;5;21mprod\u001b[39m(a, axis\u001b[38;5;241m=\u001b[39m\u001b[38;5;28;01mNone\u001b[39;00m, dtype\u001b[38;5;241m=\u001b[39m\u001b[38;5;28;01mNone\u001b[39;00m, out\u001b[38;5;241m=\u001b[39m\u001b[38;5;28;01mNone\u001b[39;00m, keepdims\u001b[38;5;241m=\u001b[39mnp\u001b[38;5;241m.\u001b[39m_NoValue,\n\u001b[1;32m   2981\u001b[0m          initial\u001b[38;5;241m=\u001b[39mnp\u001b[38;5;241m.\u001b[39m_NoValue, where\u001b[38;5;241m=\u001b[39mnp\u001b[38;5;241m.\u001b[39m_NoValue):\n\u001b[1;32m   2982\u001b[0m \u001b[38;5;250m    \u001b[39m\u001b[38;5;124;03m\"\"\"\u001b[39;00m\n\u001b[1;32m   2983\u001b[0m \u001b[38;5;124;03m    Return the product of array elements over a given axis.\u001b[39;00m\n\u001b[1;32m   2984\u001b[0m \n\u001b[0;32m   (...)\u001b[0m\n\u001b[1;32m   3098\u001b[0m \u001b[38;5;124;03m    10\u001b[39;00m\n\u001b[1;32m   3099\u001b[0m \u001b[38;5;124;03m    \"\"\"\u001b[39;00m\n\u001b[0;32m-> 3100\u001b[0m     \u001b[38;5;28;01mreturn\u001b[39;00m \u001b[43m_wrapreduction\u001b[49m\u001b[43m(\u001b[49m\u001b[43ma\u001b[49m\u001b[43m,\u001b[49m\u001b[43m \u001b[49m\u001b[43mnp\u001b[49m\u001b[38;5;241;43m.\u001b[39;49m\u001b[43mmultiply\u001b[49m\u001b[43m,\u001b[49m\u001b[43m \u001b[49m\u001b[38;5;124;43m'\u001b[39;49m\u001b[38;5;124;43mprod\u001b[39;49m\u001b[38;5;124;43m'\u001b[39;49m\u001b[43m,\u001b[49m\u001b[43m \u001b[49m\u001b[43maxis\u001b[49m\u001b[43m,\u001b[49m\u001b[43m \u001b[49m\u001b[43mdtype\u001b[49m\u001b[43m,\u001b[49m\u001b[43m \u001b[49m\u001b[43mout\u001b[49m\u001b[43m,\u001b[49m\n\u001b[1;32m   3101\u001b[0m \u001b[43m                          \u001b[49m\u001b[43mkeepdims\u001b[49m\u001b[38;5;241;43m=\u001b[39;49m\u001b[43mkeepdims\u001b[49m\u001b[43m,\u001b[49m\u001b[43m \u001b[49m\u001b[43minitial\u001b[49m\u001b[38;5;241;43m=\u001b[39;49m\u001b[43minitial\u001b[49m\u001b[43m,\u001b[49m\u001b[43m \u001b[49m\u001b[43mwhere\u001b[49m\u001b[38;5;241;43m=\u001b[39;49m\u001b[43mwhere\u001b[49m\u001b[43m)\u001b[49m\n",
      "File \u001b[0;32m~/.conda/envs/torch2/lib/python3.10/site-packages/numpy/core/fromnumeric.py:72\u001b[0m, in \u001b[0;36m_wrapreduction\u001b[0;34m(obj, ufunc, method, axis, dtype, out, **kwargs)\u001b[0m\n\u001b[1;32m     71\u001b[0m \u001b[38;5;28;01mdef\u001b[39;00m \u001b[38;5;21m_wrapreduction\u001b[39m(obj, ufunc, method, axis, dtype, out, \u001b[38;5;241m*\u001b[39m\u001b[38;5;241m*\u001b[39mkwargs):\n\u001b[0;32m---> 72\u001b[0m     passkwargs \u001b[38;5;241m=\u001b[39m {k: v \u001b[38;5;28;01mfor\u001b[39;00m k, v \u001b[38;5;129;01min\u001b[39;00m kwargs\u001b[38;5;241m.\u001b[39mitems()\n\u001b[1;32m     73\u001b[0m                   \u001b[38;5;28;01mif\u001b[39;00m v \u001b[38;5;129;01mis\u001b[39;00m \u001b[38;5;129;01mnot\u001b[39;00m np\u001b[38;5;241m.\u001b[39m_NoValue}\n\u001b[1;32m     75\u001b[0m     \u001b[38;5;28;01mif\u001b[39;00m \u001b[38;5;28mtype\u001b[39m(obj) \u001b[38;5;129;01mis\u001b[39;00m \u001b[38;5;129;01mnot\u001b[39;00m mu\u001b[38;5;241m.\u001b[39mndarray:\n\u001b[1;32m     76\u001b[0m         \u001b[38;5;28;01mtry\u001b[39;00m:\n",
      "File \u001b[0;32m~/.conda/envs/torch2/lib/python3.10/site-packages/numpy/core/fromnumeric.py:73\u001b[0m, in \u001b[0;36m<dictcomp>\u001b[0;34m(.0)\u001b[0m\n\u001b[1;32m     71\u001b[0m \u001b[38;5;28;01mdef\u001b[39;00m \u001b[38;5;21m_wrapreduction\u001b[39m(obj, ufunc, method, axis, dtype, out, \u001b[38;5;241m*\u001b[39m\u001b[38;5;241m*\u001b[39mkwargs):\n\u001b[1;32m     72\u001b[0m     passkwargs \u001b[38;5;241m=\u001b[39m {k: v \u001b[38;5;28;01mfor\u001b[39;00m k, v \u001b[38;5;129;01min\u001b[39;00m kwargs\u001b[38;5;241m.\u001b[39mitems()\n\u001b[0;32m---> 73\u001b[0m                   \u001b[38;5;28;01mif\u001b[39;00m v \u001b[38;5;129;01mis\u001b[39;00m \u001b[38;5;129;01mnot\u001b[39;00m np\u001b[38;5;241m.\u001b[39m_NoValue}\n\u001b[1;32m     75\u001b[0m     \u001b[38;5;28;01mif\u001b[39;00m \u001b[38;5;28mtype\u001b[39m(obj) \u001b[38;5;129;01mis\u001b[39;00m \u001b[38;5;129;01mnot\u001b[39;00m mu\u001b[38;5;241m.\u001b[39mndarray:\n\u001b[1;32m     76\u001b[0m         \u001b[38;5;28;01mtry\u001b[39;00m:\n",
      "\u001b[0;31mKeyboardInterrupt\u001b[0m: "
     ]
    }
   ],
   "source": [
    "i_a = 0\n",
    "\n",
    "for i_R in range(7): \n",
    "    \n",
    "    start_time = time.time()\n",
    "    \n",
    "    r_list = r_all_M7[i_R]\n",
    "    num_samples_per_r = int(np.ceil(num_samples_total/len(r_list)))\n",
    "\n",
    "    attr_all = []\n",
    "\n",
    "    for i_r in range(len(r_list)):\n",
    "\n",
    "        for i_sample in trange(num_samples_per_r):\n",
    "\n",
    "            # 1) x_shape is determined by the rule \n",
    "            x_shape = r_all_M7[i_R][i_r] # e.g. [[1], [1], [1]]\n",
    "\n",
    "            potential_list = []\n",
    "            while len(potential_list) == 0: \n",
    "                # 2) sample x_size and x_color attribute values to be not any rule ~ \n",
    "                # to avoid shortcut by just looking at the first two panels, make first2 same as some rule \n",
    "                x_size = sample_nan(r_all_M10, r_dict_M10, r_last_M10)\n",
    "                x_color = sample_nan(r_all_M10, r_dict_M10, r_last_M10)\n",
    "\n",
    "                # get the number of unique attribues per panel. This is the min for x_num\n",
    "                num_attr_unique = [max([len(x_shape[i]), len(x_size[i]), len(x_color[i])]) for i in range(3)]\n",
    "\n",
    "                # 3) sample number \n",
    "                # the way we sample it is to choose one 1)>x_min, 2) first 2 panel belong to some row 3) last panel not \n",
    "                potential_first2 = [k for k in r_dict_num_keylist if int(k[0])>=num_attr_unique[0] and int(k[1])>=num_attr_unique[1]]\n",
    "                if len(potential_first2) > 0: \n",
    "                    key_first2 = random.choice(potential_first2) # e.g., '77'\n",
    "                    d = r_dict_num[key_first2]\n",
    "                    potential_list = [i for i in range(num_attr_unique[2], 9) if i not in d]\n",
    "\n",
    "            last = random.choice(potential_list) # could this give us no choice? \n",
    "            x_num = [[int(key_first2[0])], [int(key_first2[1])], [last]] # e.g., [7, 7, 4]\n",
    "            x_pos = sample_nan_pos(x_num, r_dict_pos, r_dict_pos_withR) # 4) sample position \n",
    "\n",
    "            attr = np.asarray([fill_panel(x_pos[i], x_shape[i], x_size[i], x_color[i]) for i in range(3)])\n",
    "            attr_all.append(attr)\n",
    "\n",
    "            del x_shape, x_size, x_color, x_pos, x_num \n",
    "\n",
    "    dur = time.time() - start_time\n",
    "    \n",
    "    attr_all = np.asarray(attr_all)\n",
    "    a = np.copy(attr_all).reshape((-1, 3*9*3))\n",
    "    b = np.unique(a, axis=0)\n",
    "    ind = np.random.choice(np.arange(len(attr_all)), num_samples_keep,replace=False)\n",
    "    # np.save(output_dir+'aR/'+str(i_a)+'_'+str(i_R), attr_all[ind])\n",
    "    np.save(join(output_dir, 'aR', f\"{i_a}_{i_R}\"), attr_all[ind])\n",
    "    \n",
    "    print(str(i_R)+' -- '+str(dur)+' -- '+str(len(b) == len(a)))"
   ]
  },
  {
   "cell_type": "code",
   "execution_count": null,
   "metadata": {},
   "outputs": [
    {
     "name": "stdout",
     "output_type": "stream",
     "text": [
      "7 -- 3.9489974975585938 -- True\n",
      "8 -- 3.9839329719543457 -- True\n",
      "9 -- 3.8846371173858643 -- True\n"
     ]
    }
   ],
   "source": [
    "i_a = 0 \n",
    "for i_R in range(7, 10): \n",
    "    \n",
    "    r_list = r_all_M7[i_R]\n",
    "    ind_select = np.random.choice(len(r_list), num_samples_total, replace=False)\n",
    "    \n",
    "    attr_all = []\n",
    "    start_time = time.time()\n",
    "    \n",
    "    for i_sample, i_r in tqdm(enumerate(ind_select)):\n",
    "\n",
    "        # 1) x_shape is determined by the rule \n",
    "        x_shape = r_all_M7[i_R][i_r] # e.g. [[1], [1], [1]]\n",
    "\n",
    "        potential_list = []\n",
    "        while len(potential_list) == 0: \n",
    "            # 2) sample x_size and x_color attribute values to be not any rule ~ \n",
    "            # to avoid shortcut by just looking at the first two panels, make first2 same as some rule \n",
    "            x_size = sample_nan(r_all_M10, r_dict_M10, r_last_M10)\n",
    "            x_color = sample_nan(r_all_M10, r_dict_M10, r_last_M10)\n",
    "\n",
    "            # get the number of unique attribues per panel. This is the min for x_num\n",
    "            num_attr_unique = [max([len(x_shape[i]), len(x_size[i]), len(x_color[i])]) for i in range(3)]\n",
    "\n",
    "            # 3) sample number \n",
    "            # the way we sample it is to choose one 1)>x_min, 2) first 2 panel belong to some row 3) last panel not \n",
    "            potential_first2 = [k for k in r_dict_num_keylist if int(k[0])>=num_attr_unique[0] and int(k[1])>=num_attr_unique[1]]\n",
    "            if len(potential_first2) > 0: \n",
    "                key_first2 = random.choice(potential_first2) # e.g., '77'\n",
    "                d = r_dict_num[key_first2]\n",
    "                potential_list = [i for i in range(num_attr_unique[2], 9) if i not in d]\n",
    "\n",
    "        last = random.choice(potential_list) # could this give us no choice? \n",
    "        x_num = [[int(key_first2[0])], [int(key_first2[1])], [last]] # e.g., [7, 7, 4]\n",
    "        x_pos = sample_nan_pos(x_num, r_dict_pos, r_dict_pos_withR) # 4) sample position \n",
    "\n",
    "        attr = np.asarray([fill_panel(x_pos[i], x_shape[i], x_size[i], x_color[i]) for i in range(3)])\n",
    "        attr_all.append(attr)\n",
    "\n",
    "        del x_shape, x_size, x_color, x_pos, x_num \n",
    "    \n",
    "    dur = time.time() - start_time\n",
    "    \n",
    "    attr_all = np.asarray(attr_all)\n",
    "    a = np.copy(attr_all).reshape((-1, 3*9*3))\n",
    "    b = np.unique(a, axis=0)\n",
    "    ind = np.random.choice(np.arange(len(attr_all)), num_samples_keep,replace=False)\n",
    "    # np.save(output_dir+'aR/'+str(i_a)+'_'+str(i_R), attr_all[ind])\n",
    "    np.save(join(output_dir, 'aR', f\"{i_a}_{i_R}\"), attr_all[ind])\n",
    "    \n",
    "    print(str(i_R)+' -- '+str(dur)+' -- '+str(len(b) == len(a)))"
   ]
  },
  {
   "cell_type": "markdown",
   "metadata": {},
   "source": [
    "### Attribute 1 Size"
   ]
  },
  {
   "cell_type": "code",
   "execution_count": null,
   "metadata": {},
   "outputs": [
    {
     "name": "stdout",
     "output_type": "stream",
     "text": [
      "0 -- 3.9146580696105957\n",
      "1 -- 3.8860762119293213\n",
      "2 -- 3.9326653480529785\n",
      "3 -- 3.932223320007324\n",
      "4 -- 3.8784470558166504\n",
      "5 -- 3.9110312461853027\n",
      "6 -- 3.868302345275879\n"
     ]
    }
   ],
   "source": [
    "i_a = 1\n",
    "\n",
    "for i_R in range(7): \n",
    "    \n",
    "    start_time = time.time()\n",
    "    \n",
    "    r_list = r_all_M10[i_R]\n",
    "    num_samples_per_r = int(np.ceil(num_samples_total/len(r_list)))\n",
    "\n",
    "    attr_all = []\n",
    "\n",
    "    for i_r in range(len(r_list)):\n",
    "\n",
    "        for i_sample in trange(num_samples_per_r):\n",
    "\n",
    "            # 1) x_shape is determined by the rule \n",
    "            x_size = r_list[i_r] # e.g. [[1], [1], [1]]\n",
    "\n",
    "            potential_list = []\n",
    "            while len(potential_list) == 0: \n",
    "                # 2) sample x_size and x_color attribute values to be not any rule ~ \n",
    "                # to avoid shortcut by just looking at the first two panels, make first2 same as some rule \n",
    "                x_shape = sample_nan(r_all_M7, r_dict_M7, r_last_M7)\n",
    "                x_color = sample_nan(r_all_M10, r_dict_M10, r_last_M10)\n",
    "\n",
    "                # get the number of unique attribues per panel. This is the min for x_num\n",
    "                num_attr_unique = [max([len(x_shape[i]), len(x_size[i]), len(x_color[i])]) for i in range(3)]\n",
    "\n",
    "                # 3) sample number \n",
    "                # the way we sample it is to choose one 1)>x_min, 2) first 2 panel belong to some row 3) last panel not \n",
    "                potential_first2 = [k for k in r_dict_num_keylist if int(k[0])>=num_attr_unique[0] and int(k[1])>=num_attr_unique[1]]\n",
    "                if len(potential_first2) > 0: \n",
    "                    key_first2 = random.choice(potential_first2) # e.g., '77'\n",
    "                    d = r_dict_num[key_first2]\n",
    "                    potential_list = [i for i in range(num_attr_unique[2], 9) if i not in d]\n",
    "\n",
    "            last = random.choice(potential_list) # could this give us no choice? \n",
    "            x_num = [[int(key_first2[0])], [int(key_first2[1])], [last]] # e.g., [7, 7, 4]\n",
    "            x_pos = sample_nan_pos(x_num, r_dict_pos, r_dict_pos_withR) # 4) sample position \n",
    "\n",
    "            attr = np.asarray([fill_panel(x_pos[i], x_shape[i], x_size[i], x_color[i]) for i in range(3)])\n",
    "            attr_all.append(attr)\n",
    "\n",
    "            del x_shape, x_size, x_color, x_pos, x_num \n",
    "\n",
    "    dur = time.time() - start_time\n",
    "    \n",
    "    attr_all = np.asarray(attr_all)\n",
    "    ind = np.random.choice(np.arange(len(attr_all)), num_samples_keep,replace=False)\n",
    "    # np.save(output_dir+'aR/'+str(i_a)+'_'+str(i_R), attr_all[ind])\n",
    "    np.save(join(output_dir, 'aR', f\"{i_a}_{i_R}\"), attr_all[ind])\n",
    "    \n",
    "    print(str(i_R)+' -- '+str(dur))"
   ]
  },
  {
   "cell_type": "code",
   "execution_count": null,
   "metadata": {},
   "outputs": [
    {
     "name": "stdout",
     "output_type": "stream",
     "text": [
      "7 -- 0.0003612041473388672 -- True\n",
      "8 -- 0.0003108978271484375 -- True\n",
      "9 -- 0.0003402233123779297 -- True\n"
     ]
    }
   ],
   "source": [
    "i_a = 1 \n",
    "for i_R in range(7, 10):\n",
    "    \n",
    "    r_list = r_all_M10[i_R]\n",
    "    ind_select = np.random.choice(len(r_list), num_samples_total, replace=False)\n",
    "\n",
    "    attr_all = []\n",
    "\n",
    "    for i_sample, i_r in tqdm(enumerate(ind_select)):\n",
    "\n",
    "        start_time = time.time()\n",
    "\n",
    "        # 1) x_size is determined by the rule \n",
    "        x_size = r_list[i_r] # e.g. [[1], [1], [1]]\n",
    "\n",
    "        potential_list = []\n",
    "        while len(potential_list) == 0: \n",
    "            # 2) sample x_size and x_color attribute values to be not any rule ~ \n",
    "            # to avoid shortcut by just looking at the first two panels, make first2 same as some rule \n",
    "            x_shape = sample_nan(r_all_M7, r_dict_M7, r_last_M7)\n",
    "            x_color = sample_nan(r_all_M10, r_dict_M10, r_last_M10)\n",
    "\n",
    "            # get the number of unique attribues per panel. This is the min for x_num\n",
    "            num_attr_unique = [max([len(x_shape[i]), len(x_size[i]), len(x_color[i])]) for i in range(3)]\n",
    "\n",
    "            # 3) sample number \n",
    "            # the way we sample it is to choose one 1)>x_min, 2) first 2 panel belong to some row 3) last panel not \n",
    "            potential_first2 = [k for k in r_dict_num_keylist if int(k[0])>=num_attr_unique[0] and int(k[1])>=num_attr_unique[1]]\n",
    "            if len(potential_first2) > 0: \n",
    "                key_first2 = random.choice(potential_first2) # e.g., '77'\n",
    "                d = r_dict_num[key_first2]\n",
    "                potential_list = [i for i in range(num_attr_unique[2], 9) if i not in d]\n",
    "\n",
    "        last = random.choice(potential_list) # could this give us no choice? \n",
    "        x_num = [[int(key_first2[0])], [int(key_first2[1])], [last]] # e.g., [7, 7, 4]\n",
    "        x_pos = sample_nan_pos(x_num, r_dict_pos, r_dict_pos_withR) # 4) sample position \n",
    "\n",
    "        attr = np.asarray([fill_panel(x_pos[i], x_shape[i], x_size[i], x_color[i]) for i in range(3)])\n",
    "        attr_all.append(attr)\n",
    "\n",
    "        del x_shape, x_size, x_color, x_pos, x_num \n",
    "\n",
    "    dur = time.time() - start_time\n",
    "    \n",
    "    attr_all = np.asarray(attr_all)\n",
    "    a = np.copy(attr_all).reshape((-1, 3*9*3))\n",
    "    b = np.unique(a, axis=0)\n",
    "    ind = np.random.choice(np.arange(len(attr_all)), num_samples_keep,replace=False)\n",
    "    # np.save(output_dir+'aR/'+str(i_a)+'_'+str(i_R), attr_all[ind])\n",
    "    np.save(join(output_dir, 'aR', f\"{i_a}_{i_R}\"), attr_all[ind])\n",
    "    \n",
    "    print(str(i_R)+' -- '+str(dur)+' -- '+str(len(b) == len(a)))"
   ]
  },
  {
   "cell_type": "markdown",
   "metadata": {},
   "source": [
    "### Attribute 2 Color"
   ]
  },
  {
   "cell_type": "code",
   "execution_count": null,
   "metadata": {},
   "outputs": [
    {
     "name": "stdout",
     "output_type": "stream",
     "text": [
      "0 -- 3.850550413131714 -- True\n",
      "1 -- 3.8511228561401367 -- True\n",
      "2 -- 3.871915340423584 -- True\n",
      "3 -- 3.9785006046295166 -- True\n",
      "4 -- 3.927070140838623 -- True\n",
      "5 -- 3.885435104370117 -- True\n",
      "6 -- 3.8904526233673096 -- True\n"
     ]
    }
   ],
   "source": [
    "i_a = 2\n",
    "for i_R in range(7): \n",
    "    \n",
    "    start_time = time.time()\n",
    "    \n",
    "    r_list = r_all_M10[i_R]\n",
    "    num_samples_per_r = int(np.ceil(num_samples_total/len(r_list)))\n",
    "\n",
    "    attr_all = []\n",
    "\n",
    "    for i_r in range(len(r_list)):\n",
    "\n",
    "        for i_sample in trange(num_samples_per_r):\n",
    "\n",
    "            # 1) x_color is determined by the rule \n",
    "            x_color = r_list[i_r] # e.g. [[1], [1], [1]]\n",
    "\n",
    "            potential_list = []\n",
    "            while len(potential_list) == 0: \n",
    "                # 2) sample x_size and x_color attribute values to be not any rule ~ \n",
    "                # to avoid shortcut by just looking at the first two panels, make first2 same as some rule \n",
    "                x_shape = sample_nan(r_all_M7, r_dict_M7, r_last_M7)\n",
    "                x_size = sample_nan(r_all_M10, r_dict_M10, r_last_M10)\n",
    "\n",
    "                # get the number of unique attribues per panel. This is the min for x_num\n",
    "                num_attr_unique = [max([len(x_shape[i]), len(x_size[i]), len(x_color[i])]) for i in range(3)]\n",
    "\n",
    "                # 3) sample number \n",
    "                # the way we sample it is to choose one 1)>x_min, 2) first 2 panel belong to some row 3) last panel not \n",
    "                potential_first2 = [k for k in r_dict_num_keylist if int(k[0])>=num_attr_unique[0] and int(k[1])>=num_attr_unique[1]]\n",
    "                if len(potential_first2) > 0: \n",
    "                    key_first2 = random.choice(potential_first2) # e.g., '77'\n",
    "                    d = r_dict_num[key_first2]\n",
    "                    potential_list = [i for i in range(num_attr_unique[2], 9) if i not in d]\n",
    "\n",
    "            last = random.choice(potential_list) # could this give us no choice? \n",
    "            x_num = [[int(key_first2[0])], [int(key_first2[1])], [last]] # e.g., [7, 7, 4]\n",
    "            x_pos = sample_nan_pos(x_num, r_dict_pos, r_dict_pos_withR) # 4) sample position \n",
    "\n",
    "            attr = np.asarray([fill_panel(x_pos[i], x_shape[i], x_size[i], x_color[i]) for i in range(3)])\n",
    "            attr_all.append(attr)\n",
    "\n",
    "            del x_shape, x_size, x_color, x_pos, x_num \n",
    "\n",
    "    dur = time.time() - start_time\n",
    "    \n",
    "    attr_all = np.asarray(attr_all)\n",
    "    a = np.copy(attr_all).reshape((-1, 3*9*3))\n",
    "    b = np.unique(a, axis=0)\n",
    "    ind = np.random.choice(np.arange(len(attr_all)), num_samples_keep,replace=False)\n",
    "    # np.save(output_dir+'aR/'+str(i_a)+'_'+str(i_R), attr_all[ind])\n",
    "    np.save(join(output_dir, 'aR', f\"{i_a}_{i_R}\"), attr_all[ind])\n",
    "    \n",
    "    print(str(i_R)+' -- '+str(dur)+' -- '+str(len(b) == len(a)))"
   ]
  },
  {
   "cell_type": "code",
   "execution_count": null,
   "metadata": {},
   "outputs": [
    {
     "name": "stdout",
     "output_type": "stream",
     "text": [
      "7 -- 4.129863262176514 -- True\n",
      "8 -- 4.1532676219940186 -- True\n",
      "9 -- 3.9504404067993164 -- True\n"
     ]
    }
   ],
   "source": [
    "i_a = 2 \n",
    "for i_R in range(7, 10):\n",
    "    \n",
    "    start_time = time.time()\n",
    "    \n",
    "    r_list = r_all_M10[i_R]\n",
    "    ind_select = np.random.choice(len(r_list), num_samples_total, replace=False)\n",
    "\n",
    "    attr_all = []\n",
    "\n",
    "    for i_sample, i_r in tqdm(enumerate(ind_select)):\n",
    "\n",
    "        # 1) x_size is determined by the rule \n",
    "        x_color = r_list[i_r] # e.g. [[1], [1], [1]]\n",
    "\n",
    "        potential_list = []\n",
    "        while len(potential_list) == 0: \n",
    "            # 2) sample x_size and x_color attribute values to be not any rule ~ \n",
    "            # to avoid shortcut by just looking at the first two panels, make first2 same as some rule \n",
    "            x_shape = sample_nan(r_all_M7, r_dict_M7, r_last_M7)\n",
    "            x_size = sample_nan(r_all_M10, r_dict_M10, r_last_M10)\n",
    "\n",
    "            # get the number of unique attribues per panel. This is the min for x_num\n",
    "            num_attr_unique = [max([len(x_shape[i]), len(x_size[i]), len(x_color[i])]) for i in range(3)]\n",
    "\n",
    "            # 3) sample number \n",
    "            # the way we sample it is to choose one 1)>x_min, 2) first 2 panel belong to some row 3) last panel not \n",
    "            potential_first2 = [k for k in r_dict_num_keylist if int(k[0])>=num_attr_unique[0] and int(k[1])>=num_attr_unique[1]]\n",
    "            if len(potential_first2) > 0: \n",
    "                key_first2 = random.choice(potential_first2) # e.g., '77'\n",
    "                d = r_dict_num[key_first2]\n",
    "                potential_list = [i for i in range(num_attr_unique[2], 9) if i not in d]\n",
    "\n",
    "        last = random.choice(potential_list) # could this give us no choice? \n",
    "        x_num = [[int(key_first2[0])], [int(key_first2[1])], [last]] # e.g., [7, 7, 4]\n",
    "        x_pos = sample_nan_pos(x_num, r_dict_pos, r_dict_pos_withR) # 4) sample position \n",
    "\n",
    "        attr = np.asarray([fill_panel(x_pos[i], x_shape[i], x_size[i], x_color[i]) for i in range(3)])\n",
    "        attr_all.append(attr)\n",
    "\n",
    "        del x_shape, x_size, x_color, x_pos, x_num \n",
    "\n",
    "    dur = time.time() - start_time\n",
    "    \n",
    "    attr_all = np.asarray(attr_all)\n",
    "    a = np.copy(attr_all).reshape((-1, 3*9*3))\n",
    "    b = np.unique(a, axis=0)\n",
    "    ind = np.random.choice(np.arange(len(attr_all)), num_samples_keep,replace=False)\n",
    "    # np.save(output_dir+'aR/'+str(i_a)+'_'+str(i_R), attr_all[ind])\n",
    "    np.save(join(output_dir, 'aR', f\"{i_a}_{i_R}\"), attr_all[ind])\n",
    "    \n",
    "    print(str(i_R)+' -- '+str(dur)+' -- '+str(len(b) == len(a)))"
   ]
  },
  {
   "cell_type": "markdown",
   "metadata": {},
   "source": [
    "### Attribute 3 Number"
   ]
  },
  {
   "cell_type": "code",
   "execution_count": null,
   "metadata": {},
   "outputs": [
    {
     "name": "stdout",
     "output_type": "stream",
     "text": [
      "0 -- 0.513812780380249 -- True\n",
      "1 -- 0.8829183578491211 -- True\n",
      "2 -- 0.591862678527832 -- True\n",
      "3 -- 0.6046969890594482 -- True\n",
      "4 -- 0.9286031723022461 -- True\n",
      "5 -- 0.10526132583618164 -- True\n",
      "6 -- 0.10176587104797363 -- True\n"
     ]
    }
   ],
   "source": [
    "i_a = 3\n",
    "for i_R in range(7): \n",
    "    \n",
    "    r_list = r_list_num[i_R]\n",
    "    num_samples_per_r = int(np.ceil(num_samples_total/len(r_list)))\n",
    "\n",
    "    attr_all = []\n",
    "\n",
    "    for i_r in range(len(r_list)):\n",
    "\n",
    "        start_time = time.time()\n",
    "\n",
    "        for i_sample in trange(num_samples_per_r):\n",
    "\n",
    "            x_num = r_list[i_r] # e.g., [[2], [2], [2]]\n",
    "\n",
    "            x_shape = sample_x_with_num(x_num, r_all_M7, r_dict_M7, r_last_M7)\n",
    "            x_size = sample_x_with_num(x_num, r_all_M10, r_dict_M10, r_last_M10)\n",
    "            x_color = sample_x_with_num(x_num, r_all_M10, r_dict_M10, r_last_M10)\n",
    "\n",
    "            x_pos = sample_nan_pos(x_num, r_dict_pos, r_dict_pos_withR) # 4) sample position\n",
    "\n",
    "            attr = np.asarray([fill_panel(x_pos[i], x_shape[i], x_size[i], x_color[i]) for i in range(3)])\n",
    "            attr_all.append(attr)\n",
    "\n",
    "            del x_shape, x_size, x_color, x_pos, x_num \n",
    "\n",
    "    dur = time.time() - start_time\n",
    "    \n",
    "    attr_all = np.asarray(attr_all)\n",
    "    a = np.copy(attr_all).reshape((-1, 3*9*3))\n",
    "    b = np.unique(a, axis=0)\n",
    "    ind = np.random.choice(np.arange(len(attr_all)), num_samples_keep,replace=False)\n",
    "    # np.save(output_dir+'aR/'+str(i_a)+'_'+str(i_R), attr_all[ind])\n",
    "    np.save(join(output_dir, 'aR', f\"{i_a}_{i_R}\"), attr_all[ind])\n",
    "    \n",
    "    print(str(i_R)+' -- '+str(dur)+' -- '+str(len(b) == len(a)))"
   ]
  },
  {
   "cell_type": "markdown",
   "metadata": {},
   "source": [
    "### Attribute 4: number "
   ]
  },
  {
   "cell_type": "code",
   "execution_count": null,
   "metadata": {},
   "outputs": [],
   "source": [
    "r_all_num_all = []\n",
    "for r_list in r_list_num: \n",
    "    for x in r_list: \n",
    "        r_all_num_all.append(x)"
   ]
  },
  {
   "cell_type": "code",
   "execution_count": null,
   "metadata": {},
   "outputs": [
    {
     "name": "stdout",
     "output_type": "stream",
     "text": [
      "7 -- 3.0972330570220947 -- True\n",
      "8 -- 3.1581482887268066 -- True\n",
      "9 -- 3.0713839530944824 -- True\n"
     ]
    }
   ],
   "source": [
    "i_a = 4\n",
    "for i_R in range(7,10):\n",
    "    \n",
    "    start_time = time.time()\n",
    "    \n",
    "    r_list = r_list_pos[i_R-7]\n",
    "    ind_select = np.random.choice(len(r_list), num_samples_total, replace=False)\n",
    "\n",
    "    attr_all = []\n",
    "\n",
    "    for i_sample, i_r in tqdm(enumerate(ind_select)):\n",
    "\n",
    "        x_pos = r_list[i_r]\n",
    "        x_num = [[len(x)] for x in x_pos]\n",
    "\n",
    "        if x_num in r_all_num_all: \n",
    "            print('Error')\n",
    "\n",
    "        x_shape = sample_x_with_num(x_num, r_all_M7, r_dict_M7, r_last_M7)\n",
    "        x_size = sample_x_with_num(x_num, r_all_M10, r_dict_M10, r_last_M10)\n",
    "        x_color = sample_x_with_num(x_num, r_all_M10, r_dict_M10, r_last_M10)\n",
    "        attr = np.asarray([fill_panel(x_pos[i], x_shape[i], x_size[i], x_color[i]) for i in range(3)])\n",
    "\n",
    "        attr_all.append(attr)\n",
    "        del x_shape, x_size, x_color, x_pos, x_num \n",
    "\n",
    "    dur = time.time() - start_time\n",
    "    \n",
    "    attr_all = np.asarray(attr_all)\n",
    "    a = np.copy(attr_all).reshape((-1, 3*9*3))\n",
    "    b = np.unique(a, axis=0)\n",
    "    ind = np.random.choice(np.arange(len(attr_all)), num_samples_keep,replace=False)\n",
    "    # np.save(output_dir+'aR/'+str(i_a)+'_'+str(i_R), attr_all[ind])\n",
    "    np.save(join(output_dir, 'aR', f\"{i_a}_{i_R}\"), attr_all[ind])\n",
    "    \n",
    "    print(str(i_R)+' -- '+str(dur)+' -- '+str(len(b) == len(a)))"
   ]
  },
  {
   "cell_type": "code",
   "execution_count": 1,
   "metadata": {},
   "outputs": [],
   "source": [
    "datadir = r\"/n/holylfs06/LABS/kempner_fellow_binxuwang/Users/binxuwang/Datasets/RPM_dataset/RPM1000k/aR\"\n",
    "import numpy as np \n",
    "import torch \n",
    "import os \n",
    "import pickle\n",
    "import random \n",
    "import time \n",
    "from os.path import join\n",
    "from tqdm import tqdm, trange\n",
    "os.environ['CUDA_VISIBLE_DEVICES']='0'\n",
    "device = torch.device('cpu')"
   ]
  },
  {
   "cell_type": "code",
   "execution_count": 4,
   "metadata": {},
   "outputs": [],
   "source": [
    "aR_tuples = []\n",
    "aR_tuples.extend([(a, R) for a in range(4) for R in range(10) ])\n",
    "aR_tuples = aR_tuples[:37]\n",
    "aR_tuples.extend([(4, 7), (4, 8), (4, 9)])"
   ]
  },
  {
   "cell_type": "code",
   "execution_count": 8,
   "metadata": {},
   "outputs": [
    {
     "name": "stdout",
     "output_type": "stream",
     "text": [
      "Loading a=0, R=0\n",
      "Loading a=0, R=1\n",
      "Loading a=0, R=2\n",
      "Loading a=0, R=3\n",
      "Loading a=0, R=4\n",
      "Loading a=0, R=5\n",
      "Loading a=0, R=6\n",
      "Loading a=0, R=7\n",
      "Loading a=0, R=8\n",
      "Loading a=0, R=9\n",
      "Loading a=1, R=0\n",
      "Loading a=1, R=1\n",
      "Loading a=1, R=2\n",
      "Loading a=1, R=3\n",
      "Loading a=1, R=4\n",
      "Loading a=1, R=5\n",
      "Loading a=1, R=6\n",
      "Loading a=1, R=7\n",
      "Loading a=1, R=8\n",
      "Loading a=1, R=9\n",
      "Loading a=2, R=0\n",
      "Loading a=2, R=1\n",
      "Loading a=2, R=2\n",
      "Loading a=2, R=3\n",
      "Loading a=2, R=4\n",
      "Loading a=2, R=5\n",
      "Loading a=2, R=6\n",
      "Loading a=2, R=7\n",
      "Loading a=2, R=8\n",
      "Loading a=2, R=9\n",
      "Loading a=3, R=0\n",
      "Loading a=3, R=1\n",
      "Loading a=3, R=2\n",
      "Loading a=3, R=3\n",
      "Loading a=3, R=4\n",
      "Loading a=3, R=5\n",
      "Loading a=3, R=6\n",
      "Loading a=4, R=7\n",
      "Loading a=4, R=8\n",
      "Loading a=4, R=9\n"
     ]
    }
   ],
   "source": [
    "for a, R in aR_tuples: \n",
    "    print(f\"Loading a={a}, R={R}\")\n",
    "    # make sure the data exist \n",
    "    assert os.path.exists(join(datadir, f\"{a}_{R}.npy\"))\n",
    "    # data = np.load(join(datadir, f\"{a}_{R}.npy\"))\n",
    "    # print(data.shape)\n",
    "# aR_tuples"
   ]
  },
  {
   "cell_type": "code",
   "execution_count": 9,
   "metadata": {},
   "outputs": [
    {
     "name": "stderr",
     "output_type": "stream",
     "text": [
      "  0%|          | 0/40 [00:00<?, ?it/s]"
     ]
    },
    {
     "name": "stdout",
     "output_type": "stream",
     "text": [
      "Loading a=0, R=0\n"
     ]
    },
    {
     "name": "stderr",
     "output_type": "stream",
     "text": [
      "  2%|▎         | 1/40 [00:00<00:33,  1.16it/s]"
     ]
    },
    {
     "name": "stdout",
     "output_type": "stream",
     "text": [
      "Loading a=0, R=1\n"
     ]
    },
    {
     "name": "stderr",
     "output_type": "stream",
     "text": [
      "  5%|▌         | 2/40 [00:01<00:32,  1.16it/s]"
     ]
    },
    {
     "name": "stdout",
     "output_type": "stream",
     "text": [
      "Loading a=0, R=2\n"
     ]
    },
    {
     "name": "stderr",
     "output_type": "stream",
     "text": [
      "  8%|▊         | 3/40 [00:02<00:29,  1.26it/s]"
     ]
    },
    {
     "name": "stdout",
     "output_type": "stream",
     "text": [
      "Loading a=0, R=3\n"
     ]
    },
    {
     "name": "stderr",
     "output_type": "stream",
     "text": [
      " 10%|█         | 4/40 [00:03<00:28,  1.24it/s]"
     ]
    },
    {
     "name": "stdout",
     "output_type": "stream",
     "text": [
      "Loading a=0, R=4\n"
     ]
    },
    {
     "name": "stderr",
     "output_type": "stream",
     "text": [
      " 12%|█▎        | 5/40 [00:03<00:26,  1.34it/s]"
     ]
    },
    {
     "name": "stdout",
     "output_type": "stream",
     "text": [
      "Loading a=0, R=5\n"
     ]
    },
    {
     "name": "stderr",
     "output_type": "stream",
     "text": [
      " 15%|█▌        | 6/40 [00:04<00:27,  1.22it/s]"
     ]
    },
    {
     "name": "stdout",
     "output_type": "stream",
     "text": [
      "Loading a=0, R=6\n"
     ]
    },
    {
     "name": "stderr",
     "output_type": "stream",
     "text": [
      " 18%|█▊        | 7/40 [00:05<00:28,  1.17it/s]"
     ]
    },
    {
     "name": "stdout",
     "output_type": "stream",
     "text": [
      "Loading a=0, R=7\n"
     ]
    },
    {
     "name": "stderr",
     "output_type": "stream",
     "text": [
      " 20%|██        | 8/40 [00:06<00:28,  1.12it/s]"
     ]
    },
    {
     "name": "stdout",
     "output_type": "stream",
     "text": [
      "Loading a=0, R=8\n"
     ]
    },
    {
     "name": "stderr",
     "output_type": "stream",
     "text": [
      " 22%|██▎       | 9/40 [00:08<00:33,  1.07s/it]"
     ]
    },
    {
     "name": "stdout",
     "output_type": "stream",
     "text": [
      "Loading a=0, R=9\n"
     ]
    },
    {
     "name": "stderr",
     "output_type": "stream",
     "text": [
      " 25%|██▌       | 10/40 [00:09<00:29,  1.01it/s]"
     ]
    },
    {
     "name": "stdout",
     "output_type": "stream",
     "text": [
      "Loading a=1, R=0\n"
     ]
    },
    {
     "name": "stderr",
     "output_type": "stream",
     "text": [
      " 28%|██▊       | 11/40 [00:10<00:28,  1.01it/s]"
     ]
    },
    {
     "name": "stdout",
     "output_type": "stream",
     "text": [
      "Loading a=1, R=1\n"
     ]
    },
    {
     "name": "stderr",
     "output_type": "stream",
     "text": [
      " 30%|███       | 12/40 [00:10<00:26,  1.06it/s]"
     ]
    },
    {
     "name": "stdout",
     "output_type": "stream",
     "text": [
      "Loading a=1, R=2\n"
     ]
    },
    {
     "name": "stderr",
     "output_type": "stream",
     "text": [
      " 32%|███▎      | 13/40 [00:11<00:24,  1.09it/s]"
     ]
    },
    {
     "name": "stdout",
     "output_type": "stream",
     "text": [
      "Loading a=1, R=3\n"
     ]
    },
    {
     "name": "stderr",
     "output_type": "stream",
     "text": [
      " 35%|███▌      | 14/40 [00:12<00:23,  1.08it/s]"
     ]
    },
    {
     "name": "stdout",
     "output_type": "stream",
     "text": [
      "Loading a=1, R=4\n"
     ]
    },
    {
     "name": "stderr",
     "output_type": "stream",
     "text": [
      " 38%|███▊      | 15/40 [00:13<00:22,  1.10it/s]"
     ]
    },
    {
     "name": "stdout",
     "output_type": "stream",
     "text": [
      "Loading a=1, R=5\n"
     ]
    },
    {
     "name": "stderr",
     "output_type": "stream",
     "text": [
      " 40%|████      | 16/40 [00:14<00:22,  1.08it/s]"
     ]
    },
    {
     "name": "stdout",
     "output_type": "stream",
     "text": [
      "Loading a=1, R=6\n"
     ]
    },
    {
     "name": "stderr",
     "output_type": "stream",
     "text": [
      " 42%|████▎     | 17/40 [00:15<00:19,  1.16it/s]"
     ]
    },
    {
     "name": "stdout",
     "output_type": "stream",
     "text": [
      "Loading a=1, R=7\n"
     ]
    },
    {
     "name": "stderr",
     "output_type": "stream",
     "text": [
      " 45%|████▌     | 18/40 [00:15<00:18,  1.20it/s]"
     ]
    },
    {
     "name": "stdout",
     "output_type": "stream",
     "text": [
      "Loading a=1, R=8\n"
     ]
    },
    {
     "name": "stderr",
     "output_type": "stream",
     "text": [
      " 48%|████▊     | 19/40 [00:16<00:17,  1.22it/s]"
     ]
    },
    {
     "name": "stdout",
     "output_type": "stream",
     "text": [
      "Loading a=1, R=9\n"
     ]
    },
    {
     "name": "stderr",
     "output_type": "stream",
     "text": [
      " 50%|█████     | 20/40 [00:17<00:16,  1.20it/s]"
     ]
    },
    {
     "name": "stdout",
     "output_type": "stream",
     "text": [
      "Loading a=2, R=0\n"
     ]
    },
    {
     "name": "stderr",
     "output_type": "stream",
     "text": [
      " 52%|█████▎    | 21/40 [00:18<00:16,  1.14it/s]"
     ]
    },
    {
     "name": "stdout",
     "output_type": "stream",
     "text": [
      "Loading a=2, R=1\n"
     ]
    },
    {
     "name": "stderr",
     "output_type": "stream",
     "text": [
      " 55%|█████▌    | 22/40 [00:19<00:15,  1.15it/s]"
     ]
    },
    {
     "name": "stdout",
     "output_type": "stream",
     "text": [
      "Loading a=2, R=2\n"
     ]
    },
    {
     "name": "stderr",
     "output_type": "stream",
     "text": [
      " 57%|█████▊    | 23/40 [00:20<00:14,  1.21it/s]"
     ]
    },
    {
     "name": "stdout",
     "output_type": "stream",
     "text": [
      "Loading a=2, R=3\n"
     ]
    },
    {
     "name": "stderr",
     "output_type": "stream",
     "text": [
      " 60%|██████    | 24/40 [00:20<00:13,  1.23it/s]"
     ]
    },
    {
     "name": "stdout",
     "output_type": "stream",
     "text": [
      "Loading a=2, R=4\n"
     ]
    },
    {
     "name": "stderr",
     "output_type": "stream",
     "text": [
      " 62%|██████▎   | 25/40 [00:21<00:12,  1.21it/s]"
     ]
    },
    {
     "name": "stdout",
     "output_type": "stream",
     "text": [
      "Loading a=2, R=5\n"
     ]
    },
    {
     "name": "stderr",
     "output_type": "stream",
     "text": [
      " 65%|██████▌   | 26/40 [00:23<00:13,  1.06it/s]"
     ]
    },
    {
     "name": "stdout",
     "output_type": "stream",
     "text": [
      "Loading a=2, R=6\n"
     ]
    },
    {
     "name": "stderr",
     "output_type": "stream",
     "text": [
      " 68%|██████▊   | 27/40 [00:23<00:12,  1.08it/s]"
     ]
    },
    {
     "name": "stdout",
     "output_type": "stream",
     "text": [
      "Loading a=2, R=7\n"
     ]
    },
    {
     "name": "stderr",
     "output_type": "stream",
     "text": [
      " 70%|███████   | 28/40 [00:24<00:10,  1.15it/s]"
     ]
    },
    {
     "name": "stdout",
     "output_type": "stream",
     "text": [
      "Loading a=2, R=8\n"
     ]
    },
    {
     "name": "stderr",
     "output_type": "stream",
     "text": [
      " 72%|███████▎  | 29/40 [00:25<00:09,  1.20it/s]"
     ]
    },
    {
     "name": "stdout",
     "output_type": "stream",
     "text": [
      "Loading a=2, R=9\n"
     ]
    },
    {
     "name": "stderr",
     "output_type": "stream",
     "text": [
      " 75%|███████▌  | 30/40 [00:26<00:08,  1.25it/s]"
     ]
    },
    {
     "name": "stdout",
     "output_type": "stream",
     "text": [
      "Loading a=3, R=0\n"
     ]
    },
    {
     "name": "stderr",
     "output_type": "stream",
     "text": [
      " 78%|███████▊  | 31/40 [00:27<00:07,  1.18it/s]"
     ]
    },
    {
     "name": "stdout",
     "output_type": "stream",
     "text": [
      "Loading a=3, R=1\n"
     ]
    },
    {
     "name": "stderr",
     "output_type": "stream",
     "text": [
      " 80%|████████  | 32/40 [00:28<00:07,  1.13it/s]"
     ]
    },
    {
     "name": "stdout",
     "output_type": "stream",
     "text": [
      "Loading a=3, R=2\n"
     ]
    },
    {
     "name": "stderr",
     "output_type": "stream",
     "text": [
      " 82%|████████▎ | 33/40 [00:28<00:06,  1.12it/s]"
     ]
    },
    {
     "name": "stdout",
     "output_type": "stream",
     "text": [
      "Loading a=3, R=3\n"
     ]
    },
    {
     "name": "stderr",
     "output_type": "stream",
     "text": [
      " 85%|████████▌ | 34/40 [00:30<00:05,  1.08it/s]"
     ]
    },
    {
     "name": "stdout",
     "output_type": "stream",
     "text": [
      "Loading a=3, R=4\n"
     ]
    },
    {
     "name": "stderr",
     "output_type": "stream",
     "text": [
      " 88%|████████▊ | 35/40 [00:30<00:04,  1.08it/s]"
     ]
    },
    {
     "name": "stdout",
     "output_type": "stream",
     "text": [
      "Loading a=3, R=5\n"
     ]
    },
    {
     "name": "stderr",
     "output_type": "stream",
     "text": [
      " 90%|█████████ | 36/40 [00:31<00:03,  1.11it/s]"
     ]
    },
    {
     "name": "stdout",
     "output_type": "stream",
     "text": [
      "Loading a=3, R=6\n"
     ]
    },
    {
     "name": "stderr",
     "output_type": "stream",
     "text": [
      " 92%|█████████▎| 37/40 [00:32<00:02,  1.14it/s]"
     ]
    },
    {
     "name": "stdout",
     "output_type": "stream",
     "text": [
      "Loading a=4, R=7\n"
     ]
    },
    {
     "name": "stderr",
     "output_type": "stream",
     "text": [
      " 95%|█████████▌| 38/40 [00:33<00:01,  1.15it/s]"
     ]
    },
    {
     "name": "stdout",
     "output_type": "stream",
     "text": [
      "Loading a=4, R=8\n"
     ]
    },
    {
     "name": "stderr",
     "output_type": "stream",
     "text": [
      " 98%|█████████▊| 39/40 [00:34<00:00,  1.20it/s]"
     ]
    },
    {
     "name": "stdout",
     "output_type": "stream",
     "text": [
      "Loading a=4, R=9\n"
     ]
    },
    {
     "name": "stderr",
     "output_type": "stream",
     "text": [
      "100%|██████████| 40/40 [00:35<00:00,  1.14it/s]\n"
     ]
    }
   ],
   "source": [
    "from os.path import join\n",
    "from tqdm import tqdm\n",
    "\n",
    "data_all = []\n",
    "for a, R in tqdm(aR_tuples): \n",
    "    print(f\"Loading a={a}, R={R}\")\n",
    "    # make sure the data exist \n",
    "    assert os.path.exists(join(datadir, f\"{a}_{R}.npy\"))\n",
    "    data = np.load(join(datadir, f\"{a}_{R}.npy\"))\n",
    "    data_all.append(data)\n",
    "    # print(data.shape)\n",
    "# aR_tuples"
   ]
  },
  {
   "cell_type": "code",
   "execution_count": 10,
   "metadata": {},
   "outputs": [],
   "source": [
    "attr_all = np.stack(data_all, axis=0)"
   ]
  },
  {
   "cell_type": "code",
   "execution_count": 11,
   "metadata": {},
   "outputs": [],
   "source": [
    "np.save(join(\"/n/holylfs06/LABS/kempner_fellow_binxuwang/Users/binxuwang/Datasets/RPM_dataset/RPM1000k\", \n",
    "             \"attr_all_1000k.npy\"), attr_all)"
   ]
  },
  {
   "cell_type": "code",
   "execution_count": null,
   "metadata": {},
   "outputs": [],
   "source": []
  }
 ],
 "metadata": {
  "kernelspec": {
   "display_name": "torch2",
   "language": "python",
   "name": "python3"
  },
  "language_info": {
   "codemirror_mode": {
    "name": "ipython",
    "version": 3
   },
   "file_extension": ".py",
   "mimetype": "text/x-python",
   "name": "python",
   "nbconvert_exporter": "python",
   "pygments_lexer": "ipython3",
   "version": "3.10.14"
  }
 },
 "nbformat": 4,
 "nbformat_minor": 2
}
