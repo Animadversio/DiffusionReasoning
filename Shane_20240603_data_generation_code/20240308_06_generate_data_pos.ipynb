{
 "cells": [
  {
   "cell_type": "code",
   "execution_count": 8,
   "id": "f607c431",
   "metadata": {},
   "outputs": [],
   "source": [
    "import numpy as np \n",
    "import torch \n",
    "import os \n",
    "\n",
    "os.environ['CUDA_VISIBLE_DEVICES']='0'\n",
    "device = torch.device('cpu')"
   ]
  },
  {
   "cell_type": "code",
   "execution_count": 9,
   "id": "a1dceb94",
   "metadata": {},
   "outputs": [],
   "source": [
    "import pickle\n",
    "import random \n",
    "import time "
   ]
  },
  {
   "cell_type": "code",
   "execution_count": 10,
   "id": "2a0032d1",
   "metadata": {},
   "outputs": [],
   "source": [
    "from utils_dataset import sample_nan, fill_panel, sample_x_with_num"
   ]
  },
  {
   "cell_type": "code",
   "execution_count": 11,
   "id": "9bd5b603",
   "metadata": {},
   "outputs": [],
   "source": [
    "data_dir = 'data/20240308_data/'\n",
    "\n",
    "r_all_M7 = np.load(data_dir+'r_list_M7.npy', allow_pickle=True)\n",
    "with open(data_dir+'r_dict_M7.pkl', 'rb') as file:\n",
    "    r_dict_M7 = pickle.load(file)\n",
    "with open(data_dir+'r_last_M7.pkl', 'rb') as file:\n",
    "    r_last_M7 = pickle.load(file)\n",
    "    \n",
    "r_all_M10 = np.load(data_dir+'r_list_M10.npy', allow_pickle=True)\n",
    "with open(data_dir+'r_dict_M10.pkl', 'rb') as file:\n",
    "    r_dict_M10 = pickle.load(file)\n",
    "with open(data_dir+'r_last_M10.pkl', 'rb') as file:\n",
    "    r_last_M10 = pickle.load(file)\n",
    "    \n",
    "with open(data_dir+'r_dict_pos.pkl', 'rb') as file:\n",
    "    r_dict_pos = pickle.load(file)\n",
    "    \n",
    "with open(data_dir+'r_dict_num.pkl', 'rb') as file:\n",
    "    r_dict_num = pickle.load(file)\n",
    "\n",
    "r_dict_num_keylist = list(r_dict_num.keys())\n",
    "r_list_num = np.load(data_dir+'r_list_num.npy', allow_pickle=True)\n",
    "r_list_pos = np.load(data_dir+'r_list_pos.npy', allow_pickle=True)\n",
    "\n",
    "num_samples_total = 12100"
   ]
  },
  {
   "cell_type": "code",
   "execution_count": 12,
   "id": "289b6301",
   "metadata": {},
   "outputs": [],
   "source": [
    "r_all_num_all = []\n",
    "for r_list in r_list_num: \n",
    "    for x in r_list: \n",
    "        r_all_num_all.append(x)"
   ]
  },
  {
   "cell_type": "code",
   "execution_count": 13,
   "id": "9a403253",
   "metadata": {},
   "outputs": [
    {
     "name": "stdout",
     "output_type": "stream",
     "text": [
      "7 -- 3.0972330570220947 -- True\n",
      "8 -- 3.1581482887268066 -- True\n",
      "9 -- 3.0713839530944824 -- True\n"
     ]
    }
   ],
   "source": [
    "i_a = 4\n",
    "for i_R in range(7,10):\n",
    "    \n",
    "    start_time = time.time()\n",
    "    \n",
    "    r_list = r_list_pos[i_R-7]\n",
    "    ind_select = np.random.choice(len(r_list), num_samples_total, replace=False)\n",
    "\n",
    "    attr_all = []\n",
    "\n",
    "    for i_sample, i_r in enumerate(ind_select):\n",
    "\n",
    "        x_pos = r_list[i_r]\n",
    "        x_num = [[len(x)] for x in x_pos]\n",
    "\n",
    "        if x_num in r_all_num_all: \n",
    "            print('Error')\n",
    "\n",
    "        x_shape = sample_x_with_num(x_num, r_all_M7, r_dict_M7, r_last_M7)\n",
    "        x_size = sample_x_with_num(x_num, r_all_M10, r_dict_M10, r_last_M10)\n",
    "        x_color = sample_x_with_num(x_num, r_all_M10, r_dict_M10, r_last_M10)\n",
    "        attr = np.asarray([fill_panel(x_pos[i], x_shape[i], x_size[i], x_color[i]) for i in range(3)])\n",
    "\n",
    "        attr_all.append(attr)\n",
    "        del x_shape, x_size, x_color, x_pos, x_num \n",
    "\n",
    "    dur = time.time() - start_time\n",
    "    \n",
    "    attr_all = np.asarray(attr_all)\n",
    "    a = np.copy(attr_all).reshape((-1, 3*9*3))\n",
    "    b = np.unique(a, axis=0)\n",
    "    ind = np.random.choice(np.arange(len(attr_all)), 12000,replace=False)\n",
    "    np.save(data_dir+'aR/'+str(i_a)+'_'+str(i_R), attr_all[ind])\n",
    "    \n",
    "    print(str(i_R)+' -- '+str(dur)+' -- '+str(len(b) == len(a)))"
   ]
  },
  {
   "cell_type": "code",
   "execution_count": null,
   "id": "520d4e95",
   "metadata": {},
   "outputs": [],
   "source": []
  }
 ],
 "metadata": {
  "kernelspec": {
   "display_name": "Python 3 (ipykernel)",
   "language": "python",
   "name": "python3"
  },
  "language_info": {
   "codemirror_mode": {
    "name": "ipython",
    "version": 3
   },
   "file_extension": ".py",
   "mimetype": "text/x-python",
   "name": "python",
   "nbconvert_exporter": "python",
   "pygments_lexer": "ipython3",
   "version": "3.10.11"
  }
 },
 "nbformat": 4,
 "nbformat_minor": 5
}
