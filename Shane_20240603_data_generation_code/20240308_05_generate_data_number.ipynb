{
 "cells": [
  {
   "cell_type": "code",
   "execution_count": 1,
   "id": "06c71533",
   "metadata": {},
   "outputs": [],
   "source": [
    "import numpy as np \n",
    "import torch \n",
    "import os \n",
    "\n",
    "os.environ['CUDA_VISIBLE_DEVICES']='0'\n",
    "device = torch.device('cpu')"
   ]
  },
  {
   "cell_type": "code",
   "execution_count": 2,
   "id": "502f6262",
   "metadata": {},
   "outputs": [],
   "source": [
    "import pickle\n",
    "import random \n",
    "import time "
   ]
  },
  {
   "cell_type": "code",
   "execution_count": 5,
   "id": "8e1786f3",
   "metadata": {},
   "outputs": [],
   "source": [
    "from utils_dataset import sample_nan, fill_panel, sample_nan_pos"
   ]
  },
  {
   "cell_type": "code",
   "execution_count": 4,
   "id": "2ef6095d",
   "metadata": {},
   "outputs": [],
   "source": [
    "data_dir = 'data/20240308_data/'\n",
    "\n",
    "r_all_M7 = np.load(data_dir+'r_list_M7.npy', allow_pickle=True)\n",
    "with open(data_dir+'r_dict_M7.pkl', 'rb') as file:\n",
    "    r_dict_M7 = pickle.load(file)\n",
    "with open(data_dir+'r_last_M7.pkl', 'rb') as file:\n",
    "    r_last_M7 = pickle.load(file)\n",
    "    \n",
    "r_all_M10 = np.load(data_dir+'r_list_M10.npy', allow_pickle=True)\n",
    "with open(data_dir+'r_dict_M10.pkl', 'rb') as file:\n",
    "    r_dict_M10 = pickle.load(file)\n",
    "with open(data_dir+'r_last_M10.pkl', 'rb') as file:\n",
    "    r_last_M10 = pickle.load(file)\n",
    "    \n",
    "with open(data_dir+'r_dict_pos.pkl', 'rb') as file:\n",
    "    r_dict_pos = pickle.load(file)\n",
    "    \n",
    "with open(data_dir+'r_dict_num.pkl', 'rb') as file:\n",
    "    r_dict_num = pickle.load(file)\n",
    "    \n",
    "with open(data_dir+'r_dict_pos_withR.pkl', 'rb') as file:\n",
    "    r_dict_pos_withR = pickle.load(file)\n",
    "\n",
    "r_dict_num_keylist = list(r_dict_num.keys())\n",
    "r_list_num = np.load(data_dir+'r_list_num.npy', allow_pickle=True)\n",
    "num_samples_total = 12100"
   ]
  },
  {
   "cell_type": "code",
   "execution_count": 8,
   "id": "3c34b74c",
   "metadata": {},
   "outputs": [
    {
     "name": "stdout",
     "output_type": "stream",
     "text": [
      "0 -- 0.513812780380249 -- True\n",
      "1 -- 0.8829183578491211 -- True\n",
      "2 -- 0.591862678527832 -- True\n",
      "3 -- 0.6046969890594482 -- True\n",
      "4 -- 0.9286031723022461 -- True\n",
      "5 -- 0.10526132583618164 -- True\n",
      "6 -- 0.10176587104797363 -- True\n"
     ]
    }
   ],
   "source": [
    "i_a = 3\n",
    "for i_R in range(7): \n",
    "    \n",
    "    r_list = r_list_num[i_R]\n",
    "    num_samples_per_r = int(np.ceil(num_samples_total/len(r_list)))\n",
    "\n",
    "    attr_all = []\n",
    "\n",
    "    for i_r in range(len(r_list)):\n",
    "\n",
    "        start_time = time.time()\n",
    "\n",
    "        for i_sample in range(num_samples_per_r):\n",
    "\n",
    "            x_num = r_list[i_r] # e.g., [[2], [2], [2]]\n",
    "\n",
    "            x_shape = sample_x_with_num(x_num, r_all_M7, r_dict_M7, r_last_M7)\n",
    "            x_size = sample_x_with_num(x_num, r_all_M10, r_dict_M10, r_last_M10)\n",
    "            x_color = sample_x_with_num(x_num, r_all_M10, r_dict_M10, r_last_M10)\n",
    "\n",
    "            x_pos = sample_nan_pos(x_num, r_dict_pos, r_dict_pos_withR) # 4) sample position\n",
    "\n",
    "            attr = np.asarray([fill_panel(x_pos[i], x_shape[i], x_size[i], x_color[i]) for i in range(3)])\n",
    "            attr_all.append(attr)\n",
    "\n",
    "            del x_shape, x_size, x_color, x_pos, x_num \n",
    "\n",
    "    dur = time.time() - start_time\n",
    "    \n",
    "    attr_all = np.asarray(attr_all)\n",
    "    a = np.copy(attr_all).reshape((-1, 3*9*3))\n",
    "    b = np.unique(a, axis=0)\n",
    "    ind = np.random.choice(np.arange(len(attr_all)), 12000,replace=False)\n",
    "    np.save(data_dir+'aR/'+str(i_a)+'_'+str(i_R), attr_all[ind])\n",
    "    \n",
    "    print(str(i_R)+' -- '+str(dur)+' -- '+str(len(b) == len(a)))"
   ]
  },
  {
   "cell_type": "code",
   "execution_count": null,
   "id": "91b83195",
   "metadata": {},
   "outputs": [],
   "source": []
  }
 ],
 "metadata": {
  "kernelspec": {
   "display_name": "Python 3 (ipykernel)",
   "language": "python",
   "name": "python3"
  },
  "language_info": {
   "codemirror_mode": {
    "name": "ipython",
    "version": 3
   },
   "file_extension": ".py",
   "mimetype": "text/x-python",
   "name": "python",
   "nbconvert_exporter": "python",
   "pygments_lexer": "ipython3",
   "version": "3.10.11"
  }
 },
 "nbformat": 4,
 "nbformat_minor": 5
}
