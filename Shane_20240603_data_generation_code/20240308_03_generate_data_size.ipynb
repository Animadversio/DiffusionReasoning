{
 "cells": [
  {
   "cell_type": "code",
   "execution_count": 1,
   "id": "06c71533",
   "metadata": {},
   "outputs": [],
   "source": [
    "import numpy as np \n",
    "import torch \n",
    "import os \n",
    "\n",
    "os.environ['CUDA_VISIBLE_DEVICES']='0'\n",
    "device = torch.device('cpu')"
   ]
  },
  {
   "cell_type": "code",
   "execution_count": 2,
   "id": "502f6262",
   "metadata": {},
   "outputs": [],
   "source": [
    "import pickle\n",
    "import random \n",
    "import time "
   ]
  },
  {
   "cell_type": "code",
   "execution_count": 5,
   "id": "8e1786f3",
   "metadata": {},
   "outputs": [],
   "source": [
    "from utils_dataset import sample_nan, fill_panel, sample_nan_pos"
   ]
  },
  {
   "cell_type": "code",
   "execution_count": 4,
   "id": "2ef6095d",
   "metadata": {},
   "outputs": [],
   "source": [
    "data_dir = 'data/20240308_data/'\n",
    "\n",
    "r_all_M7 = np.load(data_dir+'r_list_M7.npy', allow_pickle=True)\n",
    "with open(data_dir+'r_dict_M7.pkl', 'rb') as file:\n",
    "    r_dict_M7 = pickle.load(file)\n",
    "with open(data_dir+'r_last_M7.pkl', 'rb') as file:\n",
    "    r_last_M7 = pickle.load(file)\n",
    "    \n",
    "r_all_M10 = np.load(data_dir+'r_list_M10.npy', allow_pickle=True)\n",
    "with open(data_dir+'r_dict_M10.pkl', 'rb') as file:\n",
    "    r_dict_M10 = pickle.load(file)\n",
    "with open(data_dir+'r_last_M10.pkl', 'rb') as file:\n",
    "    r_last_M10 = pickle.load(file)\n",
    "    \n",
    "with open(data_dir+'r_dict_pos.pkl', 'rb') as file:\n",
    "    r_dict_pos = pickle.load(file)\n",
    "    \n",
    "with open(data_dir+'r_dict_num.pkl', 'rb') as file:\n",
    "    r_dict_num = pickle.load(file)\n",
    "    \n",
    "with open(data_dir+'r_dict_pos_withR.pkl', 'rb') as file:\n",
    "    r_dict_pos_withR = pickle.load(file)\n",
    "\n",
    "r_dict_num_keylist = list(r_dict_num.keys())\n",
    "\n",
    "num_samples_total = 12100"
   ]
  },
  {
   "cell_type": "code",
   "execution_count": 8,
   "id": "3c34b74c",
   "metadata": {},
   "outputs": [
    {
     "name": "stdout",
     "output_type": "stream",
     "text": [
      "0 -- 3.9146580696105957\n",
      "1 -- 3.8860762119293213\n",
      "2 -- 3.9326653480529785\n",
      "3 -- 3.932223320007324\n",
      "4 -- 3.8784470558166504\n",
      "5 -- 3.9110312461853027\n",
      "6 -- 3.868302345275879\n"
     ]
    }
   ],
   "source": [
    "i_a = 1\n",
    "\n",
    "for i_R in range(7): \n",
    "    \n",
    "    start_time = time.time()\n",
    "    \n",
    "    r_list = r_all_M10[i_R]\n",
    "    num_samples_per_r = int(np.ceil(num_samples_total/len(r_list)))\n",
    "\n",
    "    attr_all = []\n",
    "\n",
    "    for i_r in range(len(r_list)):\n",
    "\n",
    "        for i_sample in range(num_samples_per_r):\n",
    "\n",
    "            # 1) x_shape is determined by the rule \n",
    "            x_size = r_list[i_r] # e.g. [[1], [1], [1]]\n",
    "\n",
    "            potential_list = []\n",
    "            while len(potential_list) == 0: \n",
    "                # 2) sample x_size and x_color attribute values to be not any rule ~ \n",
    "                # to avoid shortcut by just looking at the first two panels, make first2 same as some rule \n",
    "                x_shape = sample_nan(r_all_M7, r_dict_M7, r_last_M7)\n",
    "                x_color = sample_nan(r_all_M10, r_dict_M10, r_last_M10)\n",
    "\n",
    "                # get the number of unique attribues per panel. This is the min for x_num\n",
    "                num_attr_unique = [max([len(x_shape[i]), len(x_size[i]), len(x_color[i])]) for i in range(3)]\n",
    "\n",
    "                # 3) sample number \n",
    "                # the way we sample it is to choose one 1)>x_min, 2) first 2 panel belong to some row 3) last panel not \n",
    "                potential_first2 = [k for k in r_dict_num_keylist if int(k[0])>=num_attr_unique[0] and int(k[1])>=num_attr_unique[1]]\n",
    "                if len(potential_first2) > 0: \n",
    "                    key_first2 = random.choice(potential_first2) # e.g., '77'\n",
    "                    d = r_dict_num[key_first2]\n",
    "                    potential_list = [i for i in range(num_attr_unique[2], 9) if i not in d]\n",
    "\n",
    "            last = random.choice(potential_list) # could this give us no choice? \n",
    "            x_num = [[int(key_first2[0])], [int(key_first2[1])], [last]] # e.g., [7, 7, 4]\n",
    "            x_pos = sample_nan_pos(x_num, r_dict_pos, r_dict_pos_withR) # 4) sample position \n",
    "\n",
    "            attr = np.asarray([fill_panel(x_pos[i], x_shape[i], x_size[i], x_color[i]) for i in range(3)])\n",
    "            attr_all.append(attr)\n",
    "\n",
    "            del x_shape, x_size, x_color, x_pos, x_num \n",
    "\n",
    "    dur = time.time() - start_time\n",
    "    \n",
    "    attr_all = np.asarray(attr_all)\n",
    "    ind = np.random.choice(np.arange(len(attr_all)), 12000,replace=False)\n",
    "    np.save(data_dir+'aR/'+str(i_a)+'_'+str(i_R), attr_all[ind])\n",
    "    \n",
    "    print(str(i_R)+' -- '+str(dur))"
   ]
  },
  {
   "cell_type": "code",
   "execution_count": 9,
   "id": "7c810507",
   "metadata": {},
   "outputs": [
    {
     "name": "stdout",
     "output_type": "stream",
     "text": [
      "7 -- 0.0003612041473388672 -- True\n",
      "8 -- 0.0003108978271484375 -- True\n",
      "9 -- 0.0003402233123779297 -- True\n"
     ]
    }
   ],
   "source": [
    "i_a = 1 \n",
    "for i_R in range(7, 10):\n",
    "    \n",
    "    r_list = r_all_M10[i_R]\n",
    "    ind_select = np.random.choice(len(r_list), num_samples_total, replace=False)\n",
    "\n",
    "    attr_all = []\n",
    "\n",
    "    for i_sample, i_r in enumerate(ind_select):\n",
    "\n",
    "        start_time = time.time()\n",
    "\n",
    "        # 1) x_size is determined by the rule \n",
    "        x_size = r_list[i_r] # e.g. [[1], [1], [1]]\n",
    "\n",
    "        potential_list = []\n",
    "        while len(potential_list) == 0: \n",
    "            # 2) sample x_size and x_color attribute values to be not any rule ~ \n",
    "            # to avoid shortcut by just looking at the first two panels, make first2 same as some rule \n",
    "            x_shape = sample_nan(r_all_M7, r_dict_M7, r_last_M7)\n",
    "            x_color = sample_nan(r_all_M10, r_dict_M10, r_last_M10)\n",
    "\n",
    "            # get the number of unique attribues per panel. This is the min for x_num\n",
    "            num_attr_unique = [max([len(x_shape[i]), len(x_size[i]), len(x_color[i])]) for i in range(3)]\n",
    "\n",
    "            # 3) sample number \n",
    "            # the way we sample it is to choose one 1)>x_min, 2) first 2 panel belong to some row 3) last panel not \n",
    "            potential_first2 = [k for k in r_dict_num_keylist if int(k[0])>=num_attr_unique[0] and int(k[1])>=num_attr_unique[1]]\n",
    "            if len(potential_first2) > 0: \n",
    "                key_first2 = random.choice(potential_first2) # e.g., '77'\n",
    "                d = r_dict_num[key_first2]\n",
    "                potential_list = [i for i in range(num_attr_unique[2], 9) if i not in d]\n",
    "\n",
    "        last = random.choice(potential_list) # could this give us no choice? \n",
    "        x_num = [[int(key_first2[0])], [int(key_first2[1])], [last]] # e.g., [7, 7, 4]\n",
    "        x_pos = sample_nan_pos(x_num, r_dict_pos, r_dict_pos_withR) # 4) sample position \n",
    "\n",
    "        attr = np.asarray([fill_panel(x_pos[i], x_shape[i], x_size[i], x_color[i]) for i in range(3)])\n",
    "        attr_all.append(attr)\n",
    "\n",
    "        del x_shape, x_size, x_color, x_pos, x_num \n",
    "\n",
    "    dur = time.time() - start_time\n",
    "    \n",
    "    attr_all = np.asarray(attr_all)\n",
    "    a = np.copy(attr_all).reshape((-1, 3*9*3))\n",
    "    b = np.unique(a, axis=0)\n",
    "    ind = np.random.choice(np.arange(len(attr_all)), 12000,replace=False)\n",
    "    np.save(data_dir+'aR/'+str(i_a)+'_'+str(i_R), attr_all[ind])\n",
    "    \n",
    "    print(str(i_R)+' -- '+str(dur)+' -- '+str(len(b) == len(a)))"
   ]
  },
  {
   "cell_type": "code",
   "execution_count": null,
   "id": "4c8f14c4",
   "metadata": {},
   "outputs": [],
   "source": []
  }
 ],
 "metadata": {
  "kernelspec": {
   "display_name": "Python 3 (ipykernel)",
   "language": "python",
   "name": "python3"
  },
  "language_info": {
   "codemirror_mode": {
    "name": "ipython",
    "version": 3
   },
   "file_extension": ".py",
   "mimetype": "text/x-python",
   "name": "python",
   "nbconvert_exporter": "python",
   "pygments_lexer": "ipython3",
   "version": "3.9.18"
  }
 },
 "nbformat": 4,
 "nbformat_minor": 5
}
