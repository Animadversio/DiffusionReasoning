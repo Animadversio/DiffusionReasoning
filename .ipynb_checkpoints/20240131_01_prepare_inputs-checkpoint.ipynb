{
 "cells": [
  {
   "cell_type": "code",
   "execution_count": 1,
   "id": "bd5aa28e",
   "metadata": {},
   "outputs": [],
   "source": [
    "import numpy as np \n",
    "import torch \n",
    "from torch.utils.data import Dataset, DataLoader"
   ]
  },
  {
   "cell_type": "code",
   "execution_count": 3,
   "id": "e80cf68c",
   "metadata": {},
   "outputs": [],
   "source": [
    "pos_list = [[20,20], [20,60], [20,100], [60,20], [60,60], [60,100], [100,20], [100,60], [100,100]]\n",
    "d_PGM = torch.load('PGM_shape_size_color_normalized.pt') # torch.Size([7, 10, 10, 40, 40])\n",
    "\n",
    "def load_PGM_inputs(attr): \n",
    "    \"\"\"attr: (3, 9, 3), (num_panel, num_pos, num_attr)\"\"\"\n",
    "    inputs = -0.6891*torch.ones((3, 160, 160))\n",
    "    for i_panel in range(3): \n",
    "        for i_pos in range(9): \n",
    "            if attr[i_panel, i_pos, 0] != -1: \n",
    "                i_shape, i_size, i_color = attr[i_panel, i_pos]\n",
    "                x0, y0 = pos_list[i_pos]\n",
    "                inputs[i_panel, x0:(x0+40), y0:(y0+40)] = d_PGM[int(i_shape), int(i_size), int(i_color)]\n",
    "    return inputs \n",
    "\n",
    "class dataset_PGM_single(Dataset): \n",
    "    def __init__(self, attr_list): \n",
    "        \"\"\"attr_list: [num_samples, 3, 9, 3]\"\"\"\n",
    "        self.attr_list = attr_list  \n",
    "        \n",
    "    def __len__(self): \n",
    "        return len(self.attr_list)\n",
    "    \n",
    "    def __getitem__(self, idx): \n",
    "        \"\"\"attr: [3, 9, 3]\"\"\"\n",
    "        attr = self.attr_list[idx] \n",
    "        inputs = load_PGM_inputs(attr)\n",
    "        return inputs"
   ]
  },
  {
   "cell_type": "code",
   "execution_count": 4,
   "id": "674e7d42",
   "metadata": {},
   "outputs": [],
   "source": [
    "train_inputs = torch.load('train_inputs.pt') # [35, 10000, 3, 9, 3]"
   ]
  },
  {
   "cell_type": "code",
   "execution_count": 5,
   "id": "cbbe0892",
   "metadata": {},
   "outputs": [],
   "source": [
    "# example: \n",
    "i_class = 0 \n",
    "dataset_class0 = dataset_PGM_single(train_inputs[i_class]) \n",
    "load_class0 = DataLoader(dataset_class0, batch_size=256, shuffle=False, pin_memory=True) "
   ]
  },
  {
   "cell_type": "code",
   "execution_count": 6,
   "id": "61d7fa3c",
   "metadata": {},
   "outputs": [],
   "source": [
    "inputs = next(iter(load_class0))"
   ]
  },
  {
   "cell_type": "code",
   "execution_count": 7,
   "id": "eb509e99",
   "metadata": {},
   "outputs": [
    {
     "data": {
      "text/plain": [
       "torch.Size([256, 3, 160, 160])"
      ]
     },
     "execution_count": 7,
     "metadata": {},
     "output_type": "execute_result"
    }
   ],
   "source": [
    "inputs.shape"
   ]
  },
  {
   "cell_type": "code",
   "execution_count": null,
   "id": "86217f70",
   "metadata": {},
   "outputs": [],
   "source": []
  }
 ],
 "metadata": {
  "kernelspec": {
   "display_name": "Python (torch)",
   "language": "python",
   "name": "torch"
  },
  "language_info": {
   "codemirror_mode": {
    "name": "ipython",
    "version": 3
   },
   "file_extension": ".py",
   "mimetype": "text/x-python",
   "name": "python",
   "nbconvert_exporter": "python",
   "pygments_lexer": "ipython3",
   "version": "3.10.12"
  }
 },
 "nbformat": 4,
 "nbformat_minor": 5
}
