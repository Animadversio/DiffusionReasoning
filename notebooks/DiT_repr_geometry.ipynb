{
 "cells": [
  {
   "cell_type": "code",
   "execution_count": 1,
   "metadata": {},
   "outputs": [
    {
     "name": "stdout",
     "output_type": "stream",
     "text": [
      "Warning: skimage.transform is not available. Will use scipy.misc.imresize instead.\n",
      "Warning: skimage.transform is not available. Will use scipy.misc.imresize instead.\n"
     ]
    }
   ],
   "source": [
    "import sys\n",
    "sys.path.append('/n/home12/binxuwang/Github/DiffusionReasoning')\n",
    "sys.path.append(\"/n/home12/binxuwang/Github/DiT\")\n",
    "from diffusion import create_diffusion\n",
    "from models import DiT\n",
    "from stats_plot_utils import saveallforms, add_rectangles \n",
    "from repr_probe_lib import extract_features_DiT, train_pca_sgd_classifiers \n",
    "from circuit_toolkit.layer_hook_utils import print_specific_layer, get_module_name_shapes, featureFetcher_module"
   ]
  },
  {
   "cell_type": "code",
   "execution_count": 2,
   "metadata": {},
   "outputs": [],
   "source": [
    "import os\n",
    "from os.path import join\n",
    "import torch \n",
    "import torch as th \n",
    "import torch.nn as nn\n",
    "import pickle as pkl\n",
    "import numpy as np\n",
    "import pandas as pd\n",
    "import matplotlib.pyplot as plt\n",
    "import seaborn as sns\n",
    "import einops\n",
    "from torch.utils.data import Dataset, DataLoader, TensorDataset"
   ]
  },
  {
   "cell_type": "code",
   "execution_count": 3,
   "metadata": {},
   "outputs": [
    {
     "name": "stdout",
     "output_type": "stream",
     "text": [
      "torch.Size([120000, 3, 9, 9]) torch.Size([120000])\n"
     ]
    }
   ],
   "source": [
    "train_attrs = np.load(\"/n/home12/binxuwang/Github/DiffusionReasoning/attr_all.npy\")\n",
    "train_attrs = th.from_numpy(train_attrs).to(int)\n",
    "train_row_img = einops.rearrange(train_attrs, 'c s pnl (H W) att -> c s att H (pnl W)', H=3, W=3, att=3, pnl=3)\n",
    "train_sample_img = einops.rearrange(train_row_img, 'c (S R) att H W -> c S att (R H) W', R=3,att=3, H=3, W=9)\n",
    "labels_tsr = torch.arange(len(train_sample_img)).to(int).view(-1,1).repeat(1, train_sample_img.shape[1])\n",
    "\n",
    "X_train = train_sample_img[:, :3000]\n",
    "y_train = labels_tsr[:, :3000]\n",
    "X_test = train_sample_img[:, 3000:]\n",
    "y_test = labels_tsr[:, 3000:]\n",
    "X_train = X_train.reshape(-1, 3, 9, 9)\n",
    "y_train = y_train.reshape(-1)\n",
    "X_test = X_test.reshape(-1, 3, 9, 9)\n",
    "y_test = y_test.reshape(-1)\n",
    "print(X_train.shape, y_train.shape)\n",
    "train_dataset = TensorDataset(X_train, y_train)\n",
    "test_dataset = TensorDataset(X_test, y_test)"
   ]
  },
  {
   "cell_type": "code",
   "execution_count": 4,
   "metadata": {},
   "outputs": [],
   "source": [
    "device = \"cuda\""
   ]
  },
  {
   "cell_type": "code",
   "execution_count": 5,
   "metadata": {},
   "outputs": [],
   "source": [
    "# abstract RAVEN dataset\n",
    "dataset_Xmean = th.tensor([1.5, 2.5, 2.5]).view(1, 3, 1, 1).to(device)\n",
    "dataset_Xstd = th.tensor([2.5, 3.5, 3.5]).view(1, 3, 1, 1).to(device)"
   ]
  },
  {
   "cell_type": "code",
   "execution_count": 6,
   "metadata": {},
   "outputs": [],
   "source": [
    "DiT_configs = {\n",
    "    \"DiT_XL_1\": {\"depth\": 28, \"hidden_size\": 1152, \"patch_size\": 1, \"num_heads\": 16},\n",
    "    \"DiT_XL_3\": {\"depth\": 28, \"hidden_size\": 1152, \"patch_size\": 3, \"num_heads\": 16},\n",
    "    \"DiT_L_1\": {\"depth\": 24, \"hidden_size\": 1024, \"patch_size\": 1, \"num_heads\": 16},\n",
    "    \"DiT_L_3\": {\"depth\": 24, \"hidden_size\": 1024, \"patch_size\": 3, \"num_heads\": 16},\n",
    "    \"DiT_B_1\": {\"depth\": 12, \"hidden_size\": 768, \"patch_size\": 1, \"num_heads\": 12},\n",
    "    \"DiT_B_3\": {\"depth\": 12, \"hidden_size\": 768, \"patch_size\": 3, \"num_heads\": 12},\n",
    "    \"DiT_S_1\": {\"depth\": 12, \"hidden_size\": 384, \"patch_size\": 1, \"num_heads\": 6},\n",
    "    \"DiT_S_3\": {\"depth\": 12, \"hidden_size\": 384, \"patch_size\": 3, \"num_heads\": 6},\n",
    "}\n",
    "class_dropout_prob = 1.0\n",
    "num_classes = 0\n",
    "model_cfg = DiT_configs[\"DiT_S_1\"]\n",
    "model_DiT = DiT(input_size=9,\n",
    "            in_channels=3, **model_cfg,\n",
    "            mlp_ratio=4.0,\n",
    "            class_dropout_prob=class_dropout_prob,\n",
    "            num_classes=num_classes,\n",
    "            learn_sigma=True,)"
   ]
  },
  {
   "cell_type": "code",
   "execution_count": 7,
   "metadata": {},
   "outputs": [],
   "source": [
    "exproot = r\"/n/holylfs06/LABS/kempner_fellow_binxuwang/Users/binxuwang/DL_Projects/DiT/results\"\n",
    "expname = r\"090-RAVEN10_abstract-uncond-DiT_S_1-stream0_16M_heldout0_20240711-0204\"\n",
    "expdir = join(exproot, expname)\n",
    "ckptdir = join(expdir, \"checkpoints\")\n",
    "ckpt_path = join(ckptdir, \"1000000.pt\")\n",
    "state_dict = th.load(ckpt_path, )\n",
    "model_DiT.load_state_dict(state_dict[\"ema\"])\n",
    "model_DiT.to(device).eval();"
   ]
  },
  {
   "cell_type": "code",
   "execution_count": 8,
   "metadata": {},
   "outputs": [
    {
     "data": {
      "application/vnd.jupyter.widget-view+json": {
       "model_id": "d118e415ec534e08ba6dbbcdec9bfab9",
       "version_major": 2,
       "version_minor": 0
      },
      "text/plain": [
       "  0%|          | 0/59 [00:00<?, ?it/s]"
      ]
     },
     "metadata": {},
     "output_type": "display_data"
    },
    {
     "name": "stdout",
     "output_type": "stream",
     "text": [
      "blocks5: torch.Size([120000, 81, 384])\n",
      "blocks8: torch.Size([120000, 81, 384])\n",
      "blocks11: torch.Size([120000, 81, 384])\n"
     ]
    },
    {
     "data": {
      "application/vnd.jupyter.widget-view+json": {
       "model_id": "b5e5e7e505b3412ab52aeffa09317140",
       "version_major": 2,
       "version_minor": 0
      },
      "text/plain": [
       "  0%|          | 0/20 [00:00<?, ?it/s]"
      ]
     },
     "metadata": {},
     "output_type": "display_data"
    },
    {
     "name": "stdout",
     "output_type": "stream",
     "text": [
      "blocks5: torch.Size([40000, 81, 384])\n",
      "blocks8: torch.Size([40000, 81, 384])\n",
      "blocks11: torch.Size([40000, 81, 384])\n"
     ]
    }
   ],
   "source": [
    "t_scalar = 25\n",
    "fetcher = featureFetcher_module()\n",
    "for i in (5, 8, 11):#range(len(model.blocks)):\n",
    "    fetcher.record_module(model_DiT.blocks[i], target_name=f\"blocks{i}\")\n",
    "train_loader = DataLoader(train_dataset, batch_size=2048, shuffle=False, drop_last=False)\n",
    "test_loader = DataLoader(test_dataset, batch_size=2048, shuffle=False)\n",
    "feature_col = extract_features_DiT(model_DiT, fetcher, train_loader, dataset_Xmean, dataset_Xstd, t_scalar)\n",
    "feature_col_test = extract_features_DiT(model_DiT, fetcher, test_loader, dataset_Xmean, dataset_Xstd, t_scalar)"
   ]
  },
  {
   "cell_type": "code",
   "execution_count": 9,
   "metadata": {},
   "outputs": [],
   "source": [
    "feature_avg_col = {k: v.mean(dim=1) for k, v in feature_col.items()}\n",
    "feature_avg_col_test = {k: v.mean(dim=1) for k, v in feature_col_test.items()}\n",
    "feature_last_col = {k: v[:, -1] for k, v in feature_col.items()}\n",
    "feature_last_col_test = {k: v[:, -1] for k, v in feature_col_test.items()}"
   ]
  },
  {
   "cell_type": "code",
   "execution_count": 10,
   "metadata": {},
   "outputs": [
    {
     "name": "stdout",
     "output_type": "stream",
     "text": [
      "alexnet_rearing        GPT2_raven\t     mini_edm\n",
      "convrnn_Evol\t       GPT-XL_grad_trace     resnet-sparsemax-model\n",
      "CorNet-recurrent-evol  HaimDiffusionRNNProj  SiT\n",
      "DiT\t\t       insilico_exps\t     VAR\n",
      "edm_analy_traj_cmp     LLM_ft\n",
      "edm_score_validation   Mamba_raven\n"
     ]
    }
   ],
   "source": [
    "!ls $STORE_DIR/DL_Projects"
   ]
  },
  {
   "cell_type": "code",
   "execution_count": 11,
   "metadata": {},
   "outputs": [
    {
     "name": "stdout",
     "output_type": "stream",
     "text": [
      "aR  attr_all_1000k.npy\tattr_all_1000k.pt  attr_seq_tsr_all_1000k.pt\n"
     ]
    }
   ],
   "source": [
    "!ls /n/holylfs06/LABS/kempner_fellow_binxuwang/Users/binxuwang/Datasets/RPM_dataset/RPM1000k"
   ]
  },
  {
   "cell_type": "code",
   "execution_count": 12,
   "metadata": {},
   "outputs": [
    {
     "data": {
      "text/plain": [
       "torch.Size([40000, 3, 9, 9])"
      ]
     },
     "execution_count": 12,
     "metadata": {},
     "output_type": "execute_result"
    }
   ],
   "source": [
    "X_test.shape"
   ]
  },
  {
   "cell_type": "code",
   "execution_count": 13,
   "metadata": {},
   "outputs": [
    {
     "data": {
      "text/plain": [
       "['blocks5', 'blocks8', 'blocks11']"
      ]
     },
     "execution_count": 13,
     "metadata": {},
     "output_type": "execute_result"
    }
   ],
   "source": [
    "list(feature_avg_col)"
   ]
  },
  {
   "cell_type": "code",
   "execution_count": 14,
   "metadata": {},
   "outputs": [
    {
     "data": {
      "text/plain": [
       "torch.Size([40000, 384])"
      ]
     },
     "execution_count": 14,
     "metadata": {},
     "output_type": "execute_result"
    }
   ],
   "source": [
    "# ['blocks0', 'blocks2', 'blocks5', 'blocks8', 'blocks11']\n",
    "feature_last_col_test['blocks11'].shape"
   ]
  },
  {
   "cell_type": "markdown",
   "metadata": {},
   "source": [
    "### Export for Shane"
   ]
  },
  {
   "cell_type": "code",
   "execution_count": 16,
   "metadata": {},
   "outputs": [],
   "source": [
    "savedir = \"/n/holylfs06/LABS/kempner_fellow_binxuwang/Users/binxuwang/Datasets/RPM_dataset/DiT_repr_data\"\n",
    "# feature_last_col_test\n",
    "pkl.dump(feature_col_test, open(join(savedir, \"feature_all_token_test.pkl\"), \"wb\"))\n",
    "pkl.dump(feature_avg_col_test, open(join(savedir, \"feature_avg_token_test.pkl\"), \"wb\"))\n",
    "pkl.dump({\"X\": X_test, \"y\": y_test}, open(join(savedir, \"X_y_test.pkl\"), \"wb\"))"
   ]
  },
  {
   "cell_type": "code",
   "execution_count": 20,
   "metadata": {},
   "outputs": [
    {
     "name": "stdout",
     "output_type": "stream",
     "text": [
      "14G\t/n/holylfs06/LABS/kempner_fellow_binxuwang/Users/binxuwang/Datasets/RPM_dataset/DiT_repr_data/feature_all_token_test.pkl\n",
      "172M\t/n/holylfs06/LABS/kempner_fellow_binxuwang/Users/binxuwang/Datasets/RPM_dataset/DiT_repr_data/feature_avg_token_test.pkl\n",
      "72M\t/n/holylfs06/LABS/kempner_fellow_binxuwang/Users/binxuwang/Datasets/RPM_dataset/DiT_repr_data/X_y_test.pkl\n"
     ]
    }
   ],
   "source": [
    "!du -Sh {savedir}/*"
   ]
  },
  {
   "cell_type": "markdown",
   "metadata": {},
   "source": [
    "### Label shuffling classifier test"
   ]
  },
  {
   "cell_type": "code",
   "execution_count": 22,
   "metadata": {},
   "outputs": [],
   "source": [
    "# shuffle y_train and y_test which are torch tensors\n",
    "y_train_shuffled = y_train.clone()\n",
    "y_test_shuffled = y_test.clone()\n",
    "th.manual_seed(0)\n",
    "y_train_shuffled = y_train[th.randperm(len(y_train))]\n",
    "y_test_shuffled = y_test[th.randperm(len(y_test))]"
   ]
  },
  {
   "cell_type": "code",
   "execution_count": 23,
   "metadata": {},
   "outputs": [
    {
     "name": "stdout",
     "output_type": "stream",
     "text": [
      "Processing layer: blocks5\n",
      "Epoch [1/5000], Loss: 3.8623, Accuracy: 0.0251\n",
      "Epoch [250/5000], Loss: 3.6432, Accuracy: 0.0475\n",
      "Epoch [500/5000], Loss: 3.6381, Accuracy: 0.0485\n",
      "Epoch [750/5000], Loss: 3.6362, Accuracy: 0.0484\n",
      "Epoch [1000/5000], Loss: 3.6351, Accuracy: 0.0493\n",
      "Test Accuracy: 0.0241\n",
      "Epoch [1250/5000], Loss: 3.6345, Accuracy: 0.0497\n",
      "Epoch [1500/5000], Loss: 3.6339, Accuracy: 0.0501\n",
      "Epoch [1750/5000], Loss: 3.6334, Accuracy: 0.0502\n",
      "Epoch [2000/5000], Loss: 3.6332, Accuracy: 0.0500\n",
      "Test Accuracy: 0.0241\n",
      "Epoch [2250/5000], Loss: 3.6328, Accuracy: 0.0500\n",
      "Epoch [2500/5000], Loss: 3.6325, Accuracy: 0.0499\n",
      "Epoch [2750/5000], Loss: 3.6323, Accuracy: 0.0501\n",
      "Epoch [3000/5000], Loss: 3.6320, Accuracy: 0.0502\n",
      "Test Accuracy: 0.0242\n",
      "Epoch [3250/5000], Loss: 3.6319, Accuracy: 0.0503\n",
      "Epoch [3500/5000], Loss: 3.6318, Accuracy: 0.0502\n",
      "Epoch [3750/5000], Loss: 3.6317, Accuracy: 0.0503\n",
      "Epoch [4000/5000], Loss: 3.6315, Accuracy: 0.0503\n",
      "Test Accuracy: 0.0243\n",
      "Epoch [4250/5000], Loss: 3.6314, Accuracy: 0.0506\n",
      "Epoch [4500/5000], Loss: 3.6312, Accuracy: 0.0503\n",
      "Epoch [4750/5000], Loss: 3.6312, Accuracy: 0.0505\n",
      "Epoch [5000/5000], Loss: 3.6310, Accuracy: 0.0506\n",
      "Test Accuracy: 0.0243\n",
      "Test Accuracy: 0.0243\n",
      "Layer blocks5 - PCA time: 0.02s, PCA transform time: 0.26s, Training time: 33.22s\n",
      "Processing layer: blocks8\n",
      "Epoch [1/5000], Loss: 3.8371, Accuracy: 0.0250\n",
      "Epoch [250/5000], Loss: 3.6361, Accuracy: 0.0475\n",
      "Epoch [500/5000], Loss: 3.6325, Accuracy: 0.0484\n",
      "Epoch [750/5000], Loss: 3.6312, Accuracy: 0.0485\n",
      "Epoch [1000/5000], Loss: 3.6304, Accuracy: 0.0488\n",
      "Test Accuracy: 0.0254\n",
      "Epoch [1250/5000], Loss: 3.6298, Accuracy: 0.0489\n",
      "Epoch [1500/5000], Loss: 3.6294, Accuracy: 0.0488\n",
      "Epoch [1750/5000], Loss: 3.6291, Accuracy: 0.0490\n",
      "Epoch [2000/5000], Loss: 3.6288, Accuracy: 0.0490\n",
      "Test Accuracy: 0.0255\n",
      "Epoch [2250/5000], Loss: 3.6286, Accuracy: 0.0490\n",
      "Epoch [2500/5000], Loss: 3.6285, Accuracy: 0.0493\n",
      "Epoch [2750/5000], Loss: 3.6283, Accuracy: 0.0494\n",
      "Epoch [3000/5000], Loss: 3.6282, Accuracy: 0.0495\n",
      "Test Accuracy: 0.0248\n",
      "Epoch [3250/5000], Loss: 3.6279, Accuracy: 0.0492\n",
      "Epoch [3500/5000], Loss: 3.6278, Accuracy: 0.0498\n",
      "Epoch [3750/5000], Loss: 3.6277, Accuracy: 0.0496\n",
      "Epoch [4000/5000], Loss: 3.6277, Accuracy: 0.0499\n",
      "Test Accuracy: 0.0248\n",
      "Epoch [4250/5000], Loss: 3.6276, Accuracy: 0.0499\n",
      "Epoch [4500/5000], Loss: 3.6276, Accuracy: 0.0496\n",
      "Epoch [4750/5000], Loss: 3.6275, Accuracy: 0.0497\n",
      "Epoch [5000/5000], Loss: 3.6275, Accuracy: 0.0498\n",
      "Test Accuracy: 0.0250\n",
      "Test Accuracy: 0.0250\n",
      "Layer blocks8 - PCA time: 0.01s, PCA transform time: 0.08s, Training time: 31.87s\n",
      "Processing layer: blocks11\n",
      "Epoch [1/5000], Loss: 3.8438, Accuracy: 0.0245\n",
      "Epoch [250/5000], Loss: 3.6310, Accuracy: 0.0508\n",
      "Epoch [500/5000], Loss: 3.6276, Accuracy: 0.0510\n",
      "Epoch [750/5000], Loss: 3.6267, Accuracy: 0.0514\n",
      "Epoch [1000/5000], Loss: 3.6263, Accuracy: 0.0517\n",
      "Test Accuracy: 0.0246\n",
      "Epoch [1250/5000], Loss: 3.6261, Accuracy: 0.0521\n",
      "Epoch [1500/5000], Loss: 3.6260, Accuracy: 0.0519\n",
      "Epoch [1750/5000], Loss: 3.6258, Accuracy: 0.0519\n",
      "Epoch [2000/5000], Loss: 3.6257, Accuracy: 0.0522\n",
      "Test Accuracy: 0.0247\n",
      "Epoch [2250/5000], Loss: 3.6258, Accuracy: 0.0520\n",
      "Epoch [2500/5000], Loss: 3.6256, Accuracy: 0.0520\n",
      "Epoch [2750/5000], Loss: 3.6256, Accuracy: 0.0521\n",
      "Epoch [3000/5000], Loss: 3.6256, Accuracy: 0.0524\n",
      "Test Accuracy: 0.0243\n",
      "Epoch [3250/5000], Loss: 3.6256, Accuracy: 0.0520\n",
      "Epoch [3500/5000], Loss: 3.6256, Accuracy: 0.0522\n",
      "Epoch [3750/5000], Loss: 3.6255, Accuracy: 0.0521\n",
      "Epoch [4000/5000], Loss: 3.6255, Accuracy: 0.0519\n",
      "Test Accuracy: 0.0243\n",
      "Epoch [4250/5000], Loss: 3.6255, Accuracy: 0.0520\n",
      "Epoch [4500/5000], Loss: 3.6256, Accuracy: 0.0521\n",
      "Epoch [4750/5000], Loss: 3.6256, Accuracy: 0.0522\n",
      "Epoch [5000/5000], Loss: 3.6256, Accuracy: 0.0524\n",
      "Test Accuracy: 0.0245\n",
      "Test Accuracy: 0.0245\n",
      "Layer blocks11 - PCA time: 0.02s, PCA transform time: 0.08s, Training time: 31.88s\n"
     ]
    }
   ],
   "source": [
    "model_PCA_col, PC_proj_col, results_col = train_pca_sgd_classifiers(\n",
    "    feature_avg_col, feature_avg_col_test, y_train_shuffled, y_test_shuffled,\n",
    "    PC_dim=1024, noPCA=True, num_classes=40, batch_size=None,\n",
    "    num_epochs=5000, print_every=250, eval_every=1000, learning_rate=0.005,\n",
    "    device='cuda'\n",
    ")"
   ]
  },
  {
   "cell_type": "code",
   "execution_count": null,
   "metadata": {},
   "outputs": [],
   "source": []
  }
 ],
 "metadata": {
  "kernelspec": {
   "display_name": "torch2",
   "language": "python",
   "name": "python3"
  },
  "language_info": {
   "codemirror_mode": {
    "name": "ipython",
    "version": 3
   },
   "file_extension": ".py",
   "mimetype": "text/x-python",
   "name": "python",
   "nbconvert_exporter": "python",
   "pygments_lexer": "ipython3",
   "version": "3.10.14"
  }
 },
 "nbformat": 4,
 "nbformat_minor": 2
}
