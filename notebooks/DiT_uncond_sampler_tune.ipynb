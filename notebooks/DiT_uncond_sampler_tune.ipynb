{
 "cells": [
  {
   "cell_type": "code",
   "execution_count": 8,
   "metadata": {},
   "outputs": [
    {
     "name": "stdout",
     "output_type": "stream",
     "text": [
      "The autoreload extension is already loaded. To reload it, use:\n",
      "  %reload_ext autoreload\n"
     ]
    }
   ],
   "source": [
    "%load_ext autoreload\n",
    "%autoreload 2\n",
    "\n",
    "import sys\n",
    "sys.path.append(\"/n/home12/binxuwang/Github/mini_edm\")\n",
    "sys.path.append(\"/n/home12/binxuwang/Github/DiffusionReasoning\")\n",
    "sys.path.append(\"/n/home12/binxuwang/Github/DiT\")"
   ]
  },
  {
   "cell_type": "code",
   "execution_count": 9,
   "metadata": {},
   "outputs": [],
   "source": [
    "import time\n",
    "import os\n",
    "from os.path import join\n",
    "import pickle as pkl\n",
    "import torch\n",
    "import torch as th\n",
    "from tqdm import tqdm\n",
    "import numpy as np\n",
    "import seaborn as sns\n",
    "import einops\n",
    "import matplotlib.pyplot as plt\n",
    "from collections import defaultdict\n",
    "from easydict import EasyDict as edict\n",
    "import matplotlib.pyplot as plt \n",
    "%matplotlib inline\n",
    "plt.rcParams['figure.dpi'] = 72\n",
    "plt.rcParams['figure.figsize'] = [6.0, 4.0]\n",
    "plt.rcParams['figure.edgecolor'] = (1, 1, 1, 0)\n",
    "plt.rcParams['figure.facecolor'] = (1, 1, 1, 0)\n",
    "# vector graphics type\n",
    "plt.rcParams['pdf.fonttype'] = 42\n",
    "plt.rcParams['ps.fonttype'] = 42"
   ]
  },
  {
   "cell_type": "code",
   "execution_count": 10,
   "metadata": {},
   "outputs": [],
   "source": [
    "# from train_edm import create_model, edm_sampler, EDM\n",
    "# from edm_utils import edm_sampler_inpaint, create_edm, get_default_config\n",
    "# from rule_utils import get_rule_img, get_obj_list, get_rule_list\n",
    "# from rule_utils import check_consistent\n",
    "from dataset_utils import train_data2attr_tsr,load_raw_data,load_PGM_abstract\n",
    "from rule_new_utils import check_r3_r2_batch, infer_rule_from_sample_batch, compute_rule_statistics"
   ]
  },
  {
   "cell_type": "code",
   "execution_count": 11,
   "metadata": {},
   "outputs": [],
   "source": [
    "import circuit_toolkit\n",
    "from circuit_toolkit.layer_hook_utils import print_specific_layer, get_module_name_shapes, featureFetcher_module"
   ]
  },
  {
   "cell_type": "markdown",
   "metadata": {},
   "source": [
    "### Load in DiT model"
   ]
  },
  {
   "cell_type": "code",
   "execution_count": 12,
   "metadata": {},
   "outputs": [],
   "source": [
    "DiT_configs = {\n",
    "    \"DiT_XL_1\": {\"depth\": 28, \"hidden_size\": 1152, \"patch_size\": 1, \"num_heads\": 16},\n",
    "    \"DiT_XL_3\": {\"depth\": 28, \"hidden_size\": 1152, \"patch_size\": 3, \"num_heads\": 16},\n",
    "    \"DiT_L_1\": {\"depth\": 24, \"hidden_size\": 1024, \"patch_size\": 1, \"num_heads\": 16},\n",
    "    \"DiT_L_3\": {\"depth\": 24, \"hidden_size\": 1024, \"patch_size\": 3, \"num_heads\": 16},\n",
    "    \"DiT_B_1\": {\"depth\": 12, \"hidden_size\": 768, \"patch_size\": 1, \"num_heads\": 12},\n",
    "    \"DiT_B_3\": {\"depth\": 12, \"hidden_size\": 768, \"patch_size\": 3, \"num_heads\": 12},\n",
    "    \"DiT_S_1\": {\"depth\": 12, \"hidden_size\": 384, \"patch_size\": 1, \"num_heads\": 6},\n",
    "    \"DiT_S_3\": {\"depth\": 12, \"hidden_size\": 384, \"patch_size\": 3, \"num_heads\": 6},\n",
    "}"
   ]
  },
  {
   "cell_type": "code",
   "execution_count": 13,
   "metadata": {},
   "outputs": [],
   "source": [
    "heldout_id_dict = {\n",
    "    'train_inputs_new.pt'       : [1, 16, 20, 34, 37], \n",
    "    'train_inputs_new_split0.pt': [1, 16, 20, 34, 37], \n",
    "    'train_inputs_new_split1.pt': [8, 12, 24, 36, 39],\n",
    "    'train_inputs_new_split2.pt': [5, 17, 21, 33, 38],\n",
    "    'train_inputs_new_split3.pt': [3, 10, 29, 31, 37],\n",
    "    'train_inputs_new_split4.pt': [0, 14, 27, 35, 38],\n",
    "    'train_inputs_new_split5.pt': [4, 19, 26, 30, 39],\n",
    "    'train_inputs_new_split6.pt': [9, 13, 25, 32, 37],\n",
    "    'train_inputs_new_split7.pt': [2, 18, 23, 30, 38],\n",
    "    'train_inputs_new_split8.pt': [7, 15, 22, 34, 39],\n",
    "    'train_inputs_new_split9.pt': [6, 11, 28, 33, 37],\n",
    "}\n",
    "heldout_rules = heldout_id_dict[\"train_inputs_new.pt\"]\n"
   ]
  },
  {
   "cell_type": "code",
   "execution_count": 14,
   "metadata": {},
   "outputs": [],
   "source": [
    "from diffusion import create_diffusion\n",
    "from models import DiT\n",
    "\n",
    "device = \"cuda\"\n",
    "diffusion_eval = create_diffusion(timestep_respacing=\"ddim200\")  # default: ddim100"
   ]
  },
  {
   "cell_type": "code",
   "execution_count": 15,
   "metadata": {},
   "outputs": [],
   "source": [
    "class_dropout_prob = 1.0\n",
    "num_classes = 0\n",
    "model_cfg = DiT_configs[\"DiT_S_1\"]\n",
    "model_DiT = DiT(input_size=9,\n",
    "            in_channels=3, **model_cfg,\n",
    "            mlp_ratio=4.0,\n",
    "            class_dropout_prob=class_dropout_prob,\n",
    "            num_classes=num_classes,\n",
    "            learn_sigma=True,)"
   ]
  },
  {
   "cell_type": "code",
   "execution_count": 18,
   "metadata": {},
   "outputs": [
    {
     "name": "stdout",
     "output_type": "stream",
     "text": [
      "090-RAVEN10_abstract-uncond-DiT_S_1-stream0_16M_heldout0_20240711-0204\n"
     ]
    }
   ],
   "source": [
    "exproot = r\"/n/holylfs06/LABS/kempner_fellow_binxuwang/Users/binxuwang/DL_Projects/DiT/results\"\n",
    "!basename {exproot}/090*"
   ]
  },
  {
   "cell_type": "code",
   "execution_count": 22,
   "metadata": {},
   "outputs": [],
   "source": [
    "exproot = r\"/n/holylfs06/LABS/kempner_fellow_binxuwang/Users/binxuwang/DL_Projects/DiT/results\"\n",
    "expname = r\"090-RAVEN10_abstract-uncond-DiT_S_1-stream0_16M_heldout0_20240711-0204\"\n",
    "expdir = join(exproot, expname)\n",
    "ckptdir = join(expdir, \"checkpoints\")\n",
    "ckpt_path = join(ckptdir, \"1000000.pt\")\n",
    "state_dict = th.load(ckpt_path, )\n",
    "model_DiT.load_state_dict(state_dict[\"model\"])\n",
    "model_DiT.to(\"cuda\").eval();\n",
    "savedir = join(expdir, \"uncond_samples\")\n",
    "os.makedirs(savedir, exist_ok=True)"
   ]
  },
  {
   "cell_type": "code",
   "execution_count": 20,
   "metadata": {},
   "outputs": [],
   "source": [
    "# abstract RAVEN dataset\n",
    "dataset_Xmean = th.tensor([1.5, 2.5, 2.5]).view(1, 3, 1, 1).to(\"cuda\")\n",
    "dataset_Xstd = th.tensor([2.5, 3.5, 3.5]).view(1, 3, 1, 1).to(\"cuda\")"
   ]
  },
  {
   "cell_type": "code",
   "execution_count": 21,
   "metadata": {},
   "outputs": [
    {
     "data": {
      "application/vnd.jupyter.widget-view+json": {
       "model_id": "13991e5310eb4853b694e0fa52cbd837",
       "version_major": 2,
       "version_minor": 0
      },
      "text/plain": [
       "  0%|          | 0/1000 [00:00<?, ?it/s]"
      ]
     },
     "metadata": {},
     "output_type": "display_data"
    },
    {
     "name": "stdout",
     "output_type": "stream",
     "text": [
      "C3: 2518/4096 (0.61), C3 + C2: 3062/4096 (0.75), AnyValid: 9529/12288 (0.78)\n"
     ]
    }
   ],
   "source": [
    "diffusion_eval = create_diffusion(timestep_respacing=\"ddim1000\")  # default: ddim100\n",
    "y = th.zeros(4096, dtype=torch.int, device=\"cuda\")\n",
    "model_kwargs = dict(y=y)\n",
    "with th.no_grad():\n",
    "    samples = diffusion_eval.ddim_sample_loop(model_DiT, shape=(4096, 3, 9, 9), clip_denoised=False, device=\"cuda\", model_kwargs=model_kwargs, progress=True)\n",
    "samples = ((samples.detach() * dataset_Xstd) + dataset_Xmean).cpu()\n",
    "r3_list, r2_list, rule_col = infer_rule_from_sample_batch(samples)\n",
    "C3_count, C2_count, anyvalid_count, total = compute_rule_statistics(r3_list, r2_list, rule_col, verbose=True)"
   ]
  },
  {
   "cell_type": "code",
   "execution_count": null,
   "metadata": {},
   "outputs": [],
   "source": [
    "train_steps = 1000000\n",
    "batch_size = 2048\n",
    "reps = 10\n",
    "for rep in range(reps):\n",
    "    for steps in [5, 10, 20, 50, 80, 100, 200, 500, 1000]:\n",
    "        diffusion_eval = create_diffusion(timestep_respacing=f\"ddim{steps}\")  # default: ddim100\n",
    "        y = th.zeros(batch_size, dtype=torch.int, device=\"cuda\")\n",
    "        model_kwargs = dict(y=y)\n",
    "        with th.no_grad():\n",
    "            samples = diffusion_eval.ddim_sample_loop(model_DiT, shape=(batch_size, 3, 9, 9), \n",
    "                clip_denoised=False, device=\"cuda\", model_kwargs=model_kwargs, progress=True)\n",
    "        samples = ((samples.detach() * dataset_Xstd) + dataset_Xmean).cpu()\n",
    "        r3_list, r2_list, rule_col = infer_rule_from_sample_batch(samples)\n",
    "        C3_count, C2_count, anyvalid_count, total = compute_rule_statistics(r3_list, r2_list, rule_col, verbose=True)\n",
    "        torch.save(samples, f\"{savedir}/{train_steps:07d}_ddim{steps}_rep{rep}.pt\")\n",
    "        torch.save({'c3_list': r3_list, 'c2_list': r2_list, 'rule_col': rule_col, \n",
    "                'c3_cnt': C3_count, 'c2_cnt': C2_count, 'anyvalid_cnt': anyvalid_count, 'total': total},\n",
    "                            f'{savedir}/sample_rule_eval_{train_steps}_ddim{steps}_rep{rep}.pt')\n",
    "        "
   ]
  },
  {
   "cell_type": "code",
   "execution_count": null,
   "metadata": {},
   "outputs": [],
   "source": [
    "y = th.zeros(batch_size, dtype=torch.int, device=\"cuda\")\n",
    "model_kwargs = dict(y=y)\n",
    "# Now, let's do the same for the SDE DDPM sampling\n",
    "for rep in range(reps):\n",
    "    for steps in [5, 10, 20, 50, 100, 200, 500, 1000]:\n",
    "        print(f\"Sampling with ddpm{steps}...rep{rep}\")\n",
    "        diffusion_sde = create_diffusion(str(steps))\n",
    "        noise = th.randn(batch_size, 3, 9, 9, device=\"cuda\", generator=th.Generator(device='cuda').manual_seed(rep))\n",
    "        with th.no_grad():\n",
    "            samples = diffusion_sde.p_sample_loop(model_DiT, noise.shape, noise=noise, #shape=(batch_size, 3, 9, 9), \n",
    "                clip_denoised=False, model_kwargs=model_kwargs, progress=True, device=\"cuda\")\n",
    "        samples = ((samples.detach() * dataset_Xstd) + dataset_Xmean).cpu()\n",
    "        r3_list, r2_list, rule_col = infer_rule_from_sample_batch(samples)\n",
    "        C3_count, C2_count, anyvalid_count, total = compute_rule_statistics(r3_list, r2_list, rule_col, verbose=True)\n",
    "        torch.save(samples, f\"{savedir}/{train_steps:07d}_ddpm{steps}_rep{rep}.pt\")\n",
    "        torch.save({'c3_list': r3_list, 'c2_list': r2_list, 'rule_col': rule_col, \n",
    "                'c3_cnt': C3_count, 'c2_cnt': C2_count, 'anyvalid_cnt': anyvalid_count, 'total': total},\n",
    "                            f'{savedir}/sample_rule_eval_{train_steps}_ddpm{steps}_rep{rep}.pt')\n",
    "\n",
    "# Do DDIM deterministic sampling. \n",
    "for rep in range(reps):\n",
    "    for steps in [5, 10, 20, 50, 100, 200, 500, 1000]:\n",
    "        print(f\"Sampling with ddim{steps}...rep{rep}\")\n",
    "        diffusion_eval = create_diffusion(timestep_respacing=f\"ddim{steps}\")  # default: ddim100\n",
    "        noise = th.randn(batch_size, 3, 9, 9, device=\"cuda\", generator=th.Generator(device='cuda').manual_seed(rep))\n",
    "        with th.no_grad():\n",
    "            samples = diffusion_eval.ddim_sample_loop(model_DiT, noise.shape, noise=noise, #shape=(batch_size, 3, 9, 9), \n",
    "                clip_denoised=False, device=\"cuda\", model_kwargs=model_kwargs, progress=True)\n",
    "        samples = ((samples.detach() * dataset_Xstd) + dataset_Xmean).cpu()\n",
    "        r3_list, r2_list, rule_col = infer_rule_from_sample_batch(samples)\n",
    "        C3_count, C2_count, anyvalid_count, total = compute_rule_statistics(r3_list, r2_list, rule_col, verbose=True)\n",
    "        torch.save(samples, f\"{savedir}/{train_steps:07d}_ddim{steps}_rep{rep}.pt\")\n",
    "        torch.save({'c3_list': r3_list, 'c2_list': r2_list, 'rule_col': rule_col, \n",
    "                'c3_cnt': C3_count, 'c2_cnt': C2_count, 'anyvalid_cnt': anyvalid_count, 'total': total},\n",
    "                            f'{savedir}/sample_rule_eval_{train_steps}_ddim{steps}_rep{rep}.pt')\n",
    "        \n",
    "    "
   ]
  },
  {
   "cell_type": "markdown",
   "metadata": {},
   "source": [
    "### Old code"
   ]
  },
  {
   "cell_type": "code",
   "execution_count": 9,
   "metadata": {},
   "outputs": [],
   "source": [
    "exproot = r\"/n/holylfs06/LABS/kempner_fellow_binxuwang/Users/binxuwang/DL_Projects/DiT/results\"\n",
    "expname = r\"045-RAVEN10_abstract-uncond-DiT_S_1_20240311-1256\"\n",
    "expdir = join(exproot, expname)\n",
    "ckptdir = join(expdir, \"checkpoints\")\n",
    "\n",
    "ckpt_path = join(ckptdir, \"1000000.pt\")\n",
    "state_dict = th.load(ckpt_path, )\n",
    "model_DiT.load_state_dict(state_dict[\"model\"])\n",
    "model_DiT.to(\"cuda\").eval();"
   ]
  },
  {
   "cell_type": "code",
   "execution_count": 11,
   "metadata": {},
   "outputs": [],
   "source": [
    "diffusion_train = create_diffusion(timestep_respacing=\"\")"
   ]
  },
  {
   "cell_type": "markdown",
   "metadata": {},
   "source": [
    "### Test run and rule inference"
   ]
  },
  {
   "cell_type": "code",
   "execution_count": 22,
   "metadata": {},
   "outputs": [
    {
     "data": {
      "application/vnd.jupyter.widget-view+json": {
       "model_id": "b30cb9b1e80f43dcb81913ee1a4b8c37",
       "version_major": 2,
       "version_minor": 0
      },
      "text/plain": [
       "  0%|          | 0/100 [00:00<?, ?it/s]"
      ]
     },
     "metadata": {},
     "output_type": "display_data"
    },
    {
     "name": "stdout",
     "output_type": "stream",
     "text": [
      "C3: 1138/2048 (0.56), C3 + C2: 1466/2048 (0.72), AnyValid: 4569/6144 (0.74)\n"
     ]
    }
   ],
   "source": [
    "diffusion_eval = create_diffusion(timestep_respacing=\"ddim100\")  # default: ddim100\n",
    "y = th.zeros(2048, dtype=torch.int, device=\"cuda\")\n",
    "model_kwargs = dict(y=y)\n",
    "with th.no_grad():\n",
    "    samples = diffusion_eval.ddim_sample_loop(model_DiT, shape=(2048, 3, 9, 9), clip_denoised=False, device=\"cuda\", model_kwargs=model_kwargs, progress=True)\n",
    "samples = ((samples.detach() * dataset_Xstd) + dataset_Xmean).cpu()\n",
    "r3_list, r2_list, rule_col = infer_rule_from_sample_batch(samples)\n",
    "C3_count, C2_count, anyvalid_count, total = compute_rule_statistics(r3_list, r2_list, rule_col, verbose=True)"
   ]
  },
  {
   "cell_type": "code",
   "execution_count": 18,
   "metadata": {},
   "outputs": [
    {
     "name": "stdout",
     "output_type": "stream",
     "text": [
      "C3: 1181/2048 (0.58), C3 + C2: 1503/2048 (0.73), AnyValid: 4678/6144 (0.76)\n"
     ]
    }
   ],
   "source": [
    "print(f\"C3: {C3_count}/{total} ({C3_count/total:.2f}), C3 + C2: {C3_count + C2_count}/{total} ({(C3_count + C2_count)/total:.2f}), AnyValid: {anyvalid_count}/{total*3} ({anyvalid_count/total/3:.2f})\") "
   ]
  }
 ],
 "metadata": {
  "kernelspec": {
   "display_name": "Python 3 (ipykernel)",
   "language": "python",
   "name": "python3"
  },
  "language_info": {
   "codemirror_mode": {
    "name": "ipython",
    "version": 3
   },
   "file_extension": ".py",
   "mimetype": "text/x-python",
   "name": "python",
   "nbconvert_exporter": "python",
   "pygments_lexer": "ipython3",
   "version": "3.10.14"
  }
 },
 "nbformat": 4,
 "nbformat_minor": 2
}
