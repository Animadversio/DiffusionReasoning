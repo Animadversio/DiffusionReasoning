{
 "cells": [
  {
   "cell_type": "code",
   "execution_count": 1,
   "metadata": {},
   "outputs": [],
   "source": [
    "%load_ext autoreload\n",
    "%autoreload 2"
   ]
  },
  {
   "cell_type": "code",
   "execution_count": 2,
   "metadata": {},
   "outputs": [],
   "source": [
    "# Python standard library\n",
    "import os\n",
    "from os.path import join\n",
    "import argparse\n",
    "import json\n",
    "import random\n",
    "import time\n",
    "from functools import partial\n",
    "\n",
    "# Data science & visualization\n",
    "import numpy as np\n",
    "import pandas as pd\n",
    "import matplotlib.pyplot as plt\n",
    "import seaborn as sns\n",
    "\n",
    "# Deep learning\n",
    "import torch\n",
    "import torch as th\n",
    "import torch.nn.functional as F\n",
    "from torchvision.utils import make_grid\n",
    "import einops\n",
    "\n",
    "# Progress bars & configuration\n",
    "from tqdm.auto import tqdm, trange\n",
    "from easydict import EasyDict as edict\n",
    "\n",
    "# Commented imports\n",
    "# import yaml\n",
    "# from PIL import Image"
   ]
  },
  {
   "cell_type": "code",
   "execution_count": 3,
   "metadata": {},
   "outputs": [],
   "source": [
    "import sys\n",
    "sys.path.append(\"/n/home12/binxuwang/Github/twisted_diffusion_sampler\")\n",
    "sys.path.append(\"/n/home12/binxuwang/Github/twisted_diffusion_sampler/image_exp\")\n",
    "from smc_utils.feynman_kac_pf import smc_FK \n",
    "from image_diffusion.operators import get_operator, ConditioningMethod\n",
    "# from smc_utils.smc_utils import compute_ess_from_log_w\n",
    "# from image_diffusion.image_util import get_dataloader, gen_mask, toU8, imwrite \n",
    "# from image_diffusion import dist_util\n",
    "from image_diffusion.script_util import (\n",
    "    create_gaussian_diffusion, \n",
    "    # NUM_CLASSES,\n",
    "    # classifier_defaults,\n",
    "    # create_classifier,\n",
    "    # select_args,\n",
    "    # create_model_and_diffusion, \n",
    "    # model_and_diffusion_defaults, \n",
    "    # sampler_defaults, \n",
    "    # load_classifier, \n",
    ")  # noqa: E402"
   ]
  },
  {
   "cell_type": "code",
   "execution_count": 46,
   "metadata": {},
   "outputs": [],
   "source": [
    "import sys\n",
    "# sys.path.append(\"/n/home12/binxuwang/Github/DiT\")\n",
    "# sys.path.append(\"/n/home12/binxuwang/Github/mini_edm\")\n",
    "sys.path.append(\"/n/home12/binxuwang/Github/DiffusionReasoning\")\n",
    "sys.path.append(\"/n/home12/binxuwang/Github/SiT\")\n",
    "# from diffusion import create_diffusion\n",
    "# from models import DiT\n",
    "from models import SiT_models, SiT\n",
    "from transport import create_transport, Sampler\n",
    "from rule_new_utils import check_r3_r2_batch, infer_rule_from_sample_batch, compute_rule_statistics"
   ]
  },
  {
   "cell_type": "code",
   "execution_count": 5,
   "metadata": {},
   "outputs": [],
   "source": [
    "# original configs\n",
    "# sampler_config = edict({'name': 'tds', 'num_particles': 9, 'resample_strategy': 'systematic', 'ess_threshold': 1.0, 't_truncate_percent': 0, 'batch_p': 9})\n",
    "\n",
    "# task_config = edict({'name': 'inpainting', 'operator': 'inpainting', 'mask': 'half', 'dataset_path': 'datasets/mnist_test', \n",
    "#                      'image_size': 28, 'rgb': False, 'classifier_path': './models/resnet.pth.tar', \n",
    "#                      'classifier_guidance_scale': 1.0, 'pred_xstart_var_type': 6.0, 'tausq': 0.12})\n",
    "\n",
    "# diffusion_config = {'learn_sigma': True, 'noise_schedule': 'linear', 'timestep_respacing': '100', 'sampler': 'tds',\n",
    "#              'use_kl': False, 'predict_xstart': False, 'rescale_timesteps': False, 'rescale_learned_sigmas': False, }\n",
    "\n",
    "# model_cfg = {'image_size': 28, 'num_channels': 64, 'num_res_blocks': 3, 'num_heads': 4, \n",
    "#              'num_heads_upsample': -1, 'num_head_channels': -1, 'attention_resolutions': '28,14,7', 'channel_mult': '', 'dropout': 0, \n",
    "#              'class_cond': False, 'use_checkpoint': False, 'use_scale_shift_norm': True, 'resblock_updown': True, 'use_fp16': False, \n",
    "#              'use_new_attention_order': False, 'rgb': False, \"diffusion_steps\": 1000, **diffusion_config}\n",
    "\n",
    "# model_path = '/n/home12/binxuwang/Github/twisted_diffusion_sampler/image_exp/models/model060000.pt'\n",
    "\n",
    "debug_plot = False\n",
    "debug_statistics = False\n",
    "debug_info = {}\n",
    "t_truncate_percent = 0\n",
    "device = 'cuda'"
   ]
  },
  {
   "cell_type": "markdown",
   "metadata": {},
   "source": [
    "### SiT model "
   ]
  },
  {
   "cell_type": "code",
   "execution_count": 6,
   "metadata": {},
   "outputs": [],
   "source": [
    "SiT_configs = {\n",
    "    \"SiT_XL_1\": {\"depth\": 28, \"hidden_size\": 1152, \"patch_size\": 1, \"num_heads\": 16},\n",
    "    \"SiT_XL_3\": {\"depth\": 28, \"hidden_size\": 1152, \"patch_size\": 3, \"num_heads\": 16},\n",
    "    \"SiT_L_1\": {\"depth\": 24, \"hidden_size\": 1024, \"patch_size\": 1, \"num_heads\": 16},\n",
    "    \"SiT_L_3\": {\"depth\": 24, \"hidden_size\": 1024, \"patch_size\": 3, \"num_heads\": 16},\n",
    "    \"SiT_B_1\": {\"depth\": 12, \"hidden_size\": 768, \"patch_size\": 1, \"num_heads\": 12},\n",
    "    \"SiT_B_3\": {\"depth\": 12, \"hidden_size\": 768, \"patch_size\": 3, \"num_heads\": 12},\n",
    "    \"SiT_S_1\": {\"depth\": 12, \"hidden_size\": 384, \"patch_size\": 1, \"num_heads\": 6},\n",
    "    \"SiT_S_3\": {\"depth\": 12, \"hidden_size\": 384, \"patch_size\": 3, \"num_heads\": 6},\n",
    "}"
   ]
  },
  {
   "cell_type": "code",
   "execution_count": 7,
   "metadata": {},
   "outputs": [],
   "source": [
    "class_dropout_prob = 1.0\n",
    "num_classes = 0\n",
    "model_cfg = SiT_configs[\"SiT_S_1\"]\n",
    "model_SiT = SiT(\n",
    "        input_size=9,\n",
    "        in_channels=3,\n",
    "        num_classes=num_classes,\n",
    "        class_dropout_prob=class_dropout_prob,\n",
    "        learn_sigma=True,\n",
    "        **model_cfg,\n",
    "    )"
   ]
  },
  {
   "cell_type": "code",
   "execution_count": 8,
   "metadata": {},
   "outputs": [],
   "source": [
    "exproot = r\"/n/holylfs06/LABS/kempner_fellow_binxuwang/Users/binxuwang/DL_Projects/SiT/results\"\n",
    "expname = r\"014-SiT_S_1-stream0_16M_heldout0-Linear-velocity-None\"\n",
    "expdir = join(exproot, expname)\n",
    "ckptdir = join(expdir, \"checkpoints\")\n",
    "ckpt_path = join(ckptdir, \"1000000.pt\")\n",
    "state_dict = th.load(ckpt_path, )\n",
    "model_SiT.load_state_dict(state_dict['ema']) # \"model\"\n",
    "model_SiT.to(device).eval();"
   ]
  },
  {
   "cell_type": "code",
   "execution_count": 9,
   "metadata": {},
   "outputs": [],
   "source": [
    "config = edict(json.load(open(join(expdir, \"args.json\"), \"r\")))\n",
    "transport = create_transport(\n",
    "    config.path_type, #\"Linear\",\n",
    "    config.prediction, #\"velocity\", \n",
    "    config.loss_weight, #None, \n",
    "    config.train_eps, #None,\n",
    "    config.sample_eps, #None,\n",
    ")  # default: velocity; \n",
    "transport_sampler = Sampler(transport)"
   ]
  },
  {
   "cell_type": "code",
   "execution_count": 10,
   "metadata": {},
   "outputs": [
    {
     "name": "stdout",
     "output_type": "stream",
     "text": [
      "004-SiT_S_1-stream0_16M_pilot-Linear-velocity-None\n",
      "005-SiT_B_1-stream0_16M_pilot-Linear-velocity-None\n",
      "006-SiT_S_1-stream0_016M_all-Linear-velocity-None\n",
      "007-SiT_S_1-stream0_16M_all-Linear-velocity-None\n",
      "008-SiT_S_1-stream1_6M_all-Linear-velocity-None\n",
      "009-SiT_S_1-stream16M_all-Linear-velocity-None\n",
      "010-SiT_S_1-stream16M_all-Linear-velocity-None\n",
      "011-SiT_B_1-stream0_16M_all-Linear-velocity-None\n",
      "011-SiT_S_1-stream16M_heldout0-Linear-velocity-None\n",
      "012-SiT_B_1-stream0_016M_all-Linear-velocity-None\n",
      "012-SiT_S_1-stream1_6M_heldout0-Linear-velocity-None\n",
      "013-SiT_B_1-stream16M_all-Linear-velocity-None\n",
      "013-SiT_S_1-stream0_016M_heldout0-Linear-velocity-None\n",
      "014-SiT_B_1-stream1_6M_all-Linear-velocity-None\n",
      "014-SiT_S_1-stream0_16M_heldout0-Linear-velocity-None\n",
      "015-SiT_B_1-stream0_016M_heldout0-Linear-velocity-None\n",
      "016-SiT_B_1-stream16M_heldout0-Linear-velocity-None\n",
      "017-SiT_B_1-stream0_16M_heldout0-Linear-velocity-None\n",
      "018-SiT_B_1-stream1_6M_heldout0-Linear-velocity-None\n",
      "019-SiT_B_1-stream16M_all-Linear-velocity-None\n",
      "020-SiT_B_1-stream0_16M_all-Linear-velocity-None\n",
      "021-SiT_B_1-stream1_6M_all-Linear-velocity-None\n",
      "022-SiT_B_1-stream0_016M_all-Linear-velocity-None\n",
      "023-SiT_S_1-stream0_16M_heldout0-Linear-velocity-None\n",
      "024-SiT_S_1-stream0_16M_heldout0_onehot-Linear-velocity-None\n",
      "025-SiT_S_3-stream0_16M_heldout0-Linear-velocity-None\n",
      "026-SiT_B_1-stream0_16M_heldout0-Linear-velocity-None\n",
      "027-SiT_B_1-stream0_16M_heldout0_onehot-Linear-velocity-None\n",
      "028-SiT_B_3-stream0_16M_heldout0-Linear-velocity-None\n"
     ]
    }
   ],
   "source": [
    "!basename -a {exproot}/*"
   ]
  },
  {
   "cell_type": "code",
   "execution_count": 11,
   "metadata": {},
   "outputs": [],
   "source": [
    "heldout_id_dict = {\n",
    "    'train_inputs_new.pt'       : [1, 16, 20, 34, 37], \n",
    "    'train_inputs_new_split0.pt': [1, 16, 20, 34, 37], \n",
    "    'train_inputs_new_split1.pt': [8, 12, 24, 36, 39],\n",
    "    'train_inputs_new_split2.pt': [5, 17, 21, 33, 38],\n",
    "    'train_inputs_new_split3.pt': [3, 10, 29, 31, 37],\n",
    "    'train_inputs_new_split4.pt': [0, 14, 27, 35, 38],\n",
    "    'train_inputs_new_split5.pt': [4, 19, 26, 30, 39],\n",
    "    'train_inputs_new_split6.pt': [9, 13, 25, 32, 37],\n",
    "    'train_inputs_new_split7.pt': [2, 18, 23, 30, 38],\n",
    "    'train_inputs_new_split8.pt': [7, 15, 22, 34, 39],\n",
    "    'train_inputs_new_split9.pt': [6, 11, 28, 33, 37],\n",
    "}\n",
    "heldout_rules = heldout_id_dict[\"train_inputs_new.pt\"]"
   ]
  },
  {
   "cell_type": "code",
   "execution_count": 12,
   "metadata": {},
   "outputs": [
    {
     "data": {
      "text/plain": [
       "torch.Size([40, 4000, 3, 9, 9])"
      ]
     },
     "execution_count": 12,
     "metadata": {},
     "output_type": "execute_result"
    }
   ],
   "source": [
    "train_attrs = np.load(\"/n/home12/binxuwang/Github/DiffusionReasoning/attr_all.npy\")\n",
    "train_attrs = th.from_numpy(train_attrs).to(int)\n",
    "train_row_img = einops.rearrange(train_attrs, 'c s pnl (H W) att -> c s att H (pnl W)', H=3, W=3, att=3, pnl=3)\n",
    "train_sample_img = einops.rearrange(train_row_img, 'c (S R) att H W -> c S att (R H) W', R=3,att=3, H=3, W=9)\n",
    "labels_tsr = th.arange(len(train_sample_img)).to(int).view(-1,1).repeat(1, train_sample_img.shape[1])\n",
    "dataset_Xmean = th.tensor([1.5, 2.5, 2.5]).view(1, 3, 1, 1).to(\"cuda\")\n",
    "dataset_Xstd = th.tensor([2.5, 3.5, 3.5]).view(1, 3, 1, 1).to(\"cuda\")\n",
    "train_sample_img.shape"
   ]
  },
  {
   "cell_type": "code",
   "execution_count": 18,
   "metadata": {},
   "outputs": [
    {
     "name": "stdout",
     "output_type": "stream",
     "text": [
      "C3: 1425/2048 (0.70), C3 + C2: 1722/2048 (0.84), AnyValid: 5199/6144 (0.85)\n"
     ]
    }
   ],
   "source": [
    "batch_size = 2048\n",
    "zs = th.randn(batch_size, 3, 9, 9).to(device)\n",
    "ys = torch.zeros((batch_size,), device=device, dtype=torch.int)    \n",
    "sample_model_kwargs = dict(y=ys)\n",
    "model_fn = model_SiT.forward\n",
    "sample_fn = transport_sampler.sample_ode() # default to ode sampling\n",
    "with th.no_grad():\n",
    "    samples = sample_fn(zs, model_fn, **sample_model_kwargs)[-1] # takes 75 sec, pretty slow...\n",
    "samples = ((samples.detach() * dataset_Xstd) + dataset_Xmean).cpu()\n",
    "r3_list, r2_list, rule_col = infer_rule_from_sample_batch(samples)\n",
    "C3_count, C2_count, anyvalid_count, total = compute_rule_statistics(r3_list, r2_list, rule_col, verbose=True)"
   ]
  },
  {
   "cell_type": "code",
   "execution_count": 25,
   "metadata": {},
   "outputs": [
    {
     "data": {
      "text/plain": [
       "<function transport.transport.Transport.get_score.<locals>.<lambda>(x, t, model, **kwargs)>"
      ]
     },
     "execution_count": 25,
     "metadata": {},
     "output_type": "execute_result"
    }
   ],
   "source": [
    "# https://github.com/willisma/SiT/blob/cd0ba2ae60b9e929496dd81a7068af340031da3e/transport/transport.py#L226C14-L226C19\n",
    "transport.get_score()"
   ]
  },
  {
   "cell_type": "code",
   "execution_count": 23,
   "metadata": {},
   "outputs": [
    {
     "data": {
      "text/plain": [
       "<function transport.transport.Transport.get_score.<locals>.<lambda>(x, t, model, **kwargs)>"
      ]
     },
     "execution_count": 23,
     "metadata": {},
     "output_type": "execute_result"
    }
   ],
   "source": [
    "transport_sampler.score()"
   ]
  },
  {
   "cell_type": "code",
   "execution_count": 14,
   "metadata": {},
   "outputs": [
    {
     "data": {
      "application/vnd.jupyter.widget-view+json": {
       "model_id": "201e85f430594444b5f26e8d32fd2336",
       "version_major": 2,
       "version_minor": 0
      },
      "text/plain": [
       "  0%|          | 0/100 [00:00<?, ?it/s]"
      ]
     },
     "metadata": {},
     "output_type": "display_data"
    },
    {
     "name": "stdout",
     "output_type": "stream",
     "text": [
      "C3: 612/1024 (0.60), C3 + C2: 753/1024 (0.74), AnyValid: 2340/3072 (0.76)\n"
     ]
    }
   ],
   "source": [
    "# diffusion_train = create_diffusion(timestep_respacing=\"\")\n",
    "# diffusion_eval = create_diffusion(timestep_respacing=\"ddim100\")  # default: ddim100\n",
    "# y = th.zeros(1024, dtype=th.int, device=\"cuda\")\n",
    "# model_kwargs = dict(y=y)\n",
    "# with th.no_grad():\n",
    "#     samples = diffusion_eval.ddim_sample_loop(model_DiT, shape=(1024, 3, 9, 9), clip_denoised=False, device=\"cuda\", \n",
    "#                                               model_kwargs=model_kwargs, progress=True)\n",
    "# samples = ((samples.detach() * dataset_Xstd) + dataset_Xmean).cpu()\n",
    "# r3_list, r2_list, rule_col = infer_rule_from_sample_batch(samples)\n",
    "# C3_count, C2_count, anyvalid_count, total = compute_rule_statistics(r3_list, r2_list, rule_col, verbose=True)"
   ]
  },
  {
   "cell_type": "markdown",
   "metadata": {},
   "source": [
    "### Comparing two diffusion sampler"
   ]
  },
  {
   "cell_type": "code",
   "execution_count": 15,
   "metadata": {},
   "outputs": [],
   "source": [
    "diffusion_config = {'learn_sigma': True, 'noise_schedule': 'linear', 'timestep_respacing': '100', 'sampler': 'tds',\n",
    "             'use_kl': False, 'predict_xstart': False, 'rescale_timesteps': False, 'rescale_learned_sigmas': False, }\n",
    "image_shape = (1, 28, 28)\n",
    "diffusion = create_gaussian_diffusion(\n",
    "    **diffusion_config, \n",
    "    steps=1000, #model_cfg[\"diffusion_steps\"], # 1000\n",
    "    image_shape=image_shape, \n",
    ")"
   ]
  },
  {
   "cell_type": "code",
   "execution_count": 16,
   "metadata": {},
   "outputs": [
    {
     "data": {
      "image/png": "[encoded data removed]",
      "text/plain": [
       "<Figure size 640x480 with 1 Axes>"
      ]
     },
     "metadata": {},
     "output_type": "display_data"
    }
   ],
   "source": [
    "plt.plot(diffusion.betas, alpha=0.4)\n",
    "plt.plot(diffusion_eval.betas, alpha=0.4)\n",
    "# y axis log\n",
    "plt.yscale(\"log\")"
   ]
  },
  {
   "cell_type": "code",
   "execution_count": 20,
   "metadata": {},
   "outputs": [
    {
     "data": {
      "text/plain": [
       "['__class__',\n",
       " '__delattr__',\n",
       " '__dict__',\n",
       " '__dir__',\n",
       " '__doc__',\n",
       " '__eq__',\n",
       " '__format__',\n",
       " '__ge__',\n",
       " '__getattribute__',\n",
       " '__gt__',\n",
       " '__hash__',\n",
       " '__init__',\n",
       " '__init_subclass__',\n",
       " '__le__',\n",
       " '__lt__',\n",
       " '__module__',\n",
       " '__ne__',\n",
       " '__new__',\n",
       " '__reduce__',\n",
       " '__reduce_ex__',\n",
       " '__repr__',\n",
       " '__setattr__',\n",
       " '__sizeof__',\n",
       " '__str__',\n",
       " '__subclasshook__',\n",
       " '__weakref__',\n",
       " '_predict_eps_from_xstart',\n",
       " '_predict_xstart_from_eps',\n",
       " '_prior_bpd',\n",
       " '_scale_timesteps',\n",
       " '_vb_terms_bpd',\n",
       " '_wrap_model',\n",
       " 'alphas_cumprod',\n",
       " 'alphas_cumprod_next',\n",
       " 'alphas_cumprod_prev',\n",
       " 'betas',\n",
       " 'calc_bpd_loop',\n",
       " 'condition_mean',\n",
       " 'condition_score',\n",
       " 'ddim_reverse_sample',\n",
       " 'ddim_sample',\n",
       " 'ddim_sample_loop',\n",
       " 'ddim_sample_loop_progressive',\n",
       " 'log_one_minus_alphas_cumprod',\n",
       " 'loss_type',\n",
       " 'model_mean_type',\n",
       " 'model_var_type',\n",
       " 'num_timesteps',\n",
       " 'original_num_steps',\n",
       " 'p_mean_variance',\n",
       " 'p_sample',\n",
       " 'p_sample_loop',\n",
       " 'p_sample_loop_progressive',\n",
       " 'posterior_log_variance_clipped',\n",
       " 'posterior_mean_coef1',\n",
       " 'posterior_mean_coef2',\n",
       " 'posterior_variance',\n",
       " 'q_mean_variance',\n",
       " 'q_posterior_mean_variance',\n",
       " 'q_sample',\n",
       " 'sqrt_alphas_cumprod',\n",
       " 'sqrt_one_minus_alphas_cumprod',\n",
       " 'sqrt_recip_alphas_cumprod',\n",
       " 'sqrt_recipm1_alphas_cumprod',\n",
       " 'timestep_map',\n",
       " 'training_losses',\n",
       " 'use_timesteps']"
      ]
     },
     "execution_count": 20,
     "metadata": {},
     "output_type": "execute_result"
    }
   ],
   "source": [
    "dir(diffusion_eval)"
   ]
  },
  {
   "cell_type": "code",
   "execution_count": 18,
   "metadata": {},
   "outputs": [
    {
     "data": {
      "text/plain": [
       "array([0.9999    , 0.99790636, 0.99591991, 0.99393701, 0.99195767,\n",
       "       0.98998187, 0.98671027, 0.98584423, 0.9838794 , 0.98191809,\n",
       "       0.9799603 , 0.97800603, 0.97605527, 0.974108  , 0.97216424,\n",
       "       0.97022397, 0.96828718, 0.96294629, 0.96423125, 0.96230523,\n",
       "       0.96038268, 0.95846358, 0.95654794, 0.95463574, 0.95272699,\n",
       "       0.95082166, 0.94891977, 0.94702131, 0.93970375, 0.94304565,\n",
       "       0.94115777, 0.93927328, 0.9373922 , 0.9355145 , 0.9336402 ,\n",
       "       0.93176927, 0.92990171, 0.92803753, 0.92617671, 0.91697234,\n",
       "       0.92227991, 0.92042949, 0.9185824 , 0.91673866, 0.91489824,\n",
       "       0.91306115, 0.91122738, 0.90939693, 0.90756978, 0.90574595,\n",
       "       0.89474192, 0.90192662, 0.90011299, 0.89830264, 0.89649557,\n",
       "       0.89469178, 0.89289125, 0.89109398, 0.88929997, 0.88750921,\n",
       "       0.8857217 , 0.87300253, 0.88197846, 0.88020098, 0.87842672,\n",
       "       0.87665568, 0.87488786, 0.87312324, 0.87136183, 0.86960362,\n",
       "       0.8678486 , 0.86609676, 0.85174438, 0.86242827, 0.86068629,\n",
       "       0.85894748, 0.85721183, 0.85547934, 0.85374999, 0.8520238 ,\n",
       "       0.85030075, 0.84858083, 0.84686405, 0.83095787, 0.84326897,\n",
       "       0.84156186, 0.83985786, 0.83815697, 0.83645918, 0.83476449,\n",
       "       0.83307288, 0.83138436, 0.82969893, 0.82801656, 0.81063355,\n",
       "       0.82449359, 0.82282073, 0.82115093, 0.81948418, 0.81782047])"
      ]
     },
     "execution_count": 18,
     "metadata": {},
     "output_type": "execute_result"
    }
   ],
   "source": [
    "diffusion.alphas"
   ]
  },
  {
   "cell_type": "code",
   "execution_count": 17,
   "metadata": {},
   "outputs": [
    {
     "data": {
      "image/png": "[encoded data removed]",
      "text/plain": [
       "<Figure size 640x480 with 1 Axes>"
      ]
     },
     "metadata": {},
     "output_type": "display_data"
    }
   ],
   "source": [
    "plt.plot(diffusion.alphas_cumprod, alpha=0.4)\n",
    "plt.plot(diffusion_eval.alphas_cumprod, alpha=0.4)\n",
    "# y axis log\n",
    "plt.yscale(\"log\")"
   ]
  },
  {
   "cell_type": "markdown",
   "metadata": {},
   "source": [
    "### Obtain score from SiT"
   ]
  },
  {
   "cell_type": "code",
   "execution_count": null,
   "metadata": {},
   "outputs": [
    {
     "data": {
      "text/plain": [
       "<function transport.transport.Transport.get_score.<locals>.<lambda>(x, t, model, **kwargs)>"
      ]
     },
     "metadata": {},
     "output_type": "display_data"
    }
   ],
   "source": [
    "transport_sampler.score"
   ]
  },
  {
   "cell_type": "code",
   "execution_count": null,
   "metadata": {},
   "outputs": [
    {
     "data": {
      "text/plain": [
       "torch.Size([2, 3, 9, 9])"
      ]
     },
     "metadata": {},
     "output_type": "display_data"
    }
   ],
   "source": [
    "model_SiT.forward(th.zeros(2, 3, 9, 9).to(device), \\\n",
    "    th.tensor([0.0, 0.0]).to(device), \\\n",
    "    y=th.zeros(2, dtype=th.int).to(device)).shape"
   ]
  },
  {
   "cell_type": "code",
   "execution_count": null,
   "metadata": {},
   "outputs": [
    {
     "data": {
      "text/plain": [
       "torch.Size([2, 3, 9, 9])"
      ]
     },
     "metadata": {},
     "output_type": "display_data"
    }
   ],
   "source": [
    "score_tsr = transport_sampler.score(th.zeros(2, 3, 9, 9).to(device), \n",
    "                        th.tensor([0.5, 0.2]).to(device), \n",
    "                        model_SiT, y=th.zeros(2, dtype=th.int).to(device))\n",
    "score_tsr.shape"
   ]
  },
  {
   "cell_type": "code",
   "execution_count": 47,
   "metadata": {},
   "outputs": [],
   "source": [
    "from transport.path import expand_t_like_x"
   ]
  },
  {
   "cell_type": "code",
   "execution_count": 49,
   "metadata": {},
   "outputs": [
    {
     "data": {
      "text/plain": [
       "torch.Size([2, 3, 9, 9])"
      ]
     },
     "execution_count": 49,
     "metadata": {},
     "output_type": "execute_result"
    }
   ],
   "source": [
    "x = th.zeros(2, 3, 9, 9).to(device)\n",
    "t = th.tensor([0.5, 0.2]).to(device)\n",
    "y = th.zeros(2, dtype=th.int).to(device)\n",
    "noise_tsr = transport_sampler.score(x, t, model_SiT, y=y) * \\\n",
    "                    (- transport_sampler.transport.path_sampler.compute_sigma_t(expand_t_like_x(t, x))[0])\n",
    "noise_tsr.shape"
   ]
  },
  {
   "cell_type": "markdown",
   "metadata": {},
   "source": [
    "### Try new samplers from Wu's paper for inpainting single examples"
   ]
  },
  {
   "cell_type": "code",
   "execution_count": 30,
   "metadata": {},
   "outputs": [],
   "source": [
    "task_config = edict({'name': 'inpainting',\n",
    "    'operator': 'inpainting',\n",
    "    'classifier_guidance_scale': 1.0,\n",
    "    'pred_xstart_var_type': 6.0,\n",
    "    'tausq': 0.12,\n",
    "#  'mask': 'half',\n",
    "#  'dataset_path': 'datasets/mnist_test',\n",
    "#  'image_size': 28,\n",
    "#  'rgb': False,\n",
    "#  'classifier_path': './models/resnet.pth.tar',\n",
    " })"
   ]
  },
  {
   "cell_type": "code",
   "execution_count": 31,
   "metadata": {},
   "outputs": [],
   "source": [
    "sampler_config = edict({'name': 'tds',\n",
    "    'resample_strategy': 'systematic',\n",
    "    'ess_threshold': 1.0,\n",
    "    't_truncate_percent': 0,\n",
    "#  'num_particles': 9,\n",
    "#  'batch_p': 9,\n",
    " })"
   ]
  },
  {
   "cell_type": "code",
   "execution_count": 29,
   "metadata": {},
   "outputs": [],
   "source": [
    "# SiT actually don't use learn_sigma, even though it's set to True in the config. out is same shape as x.\n",
    "# # https://github.com/willisma/SiT/blob/cd0ba2ae60b9e929496dd81a7068af340031da3e/models.py#L245 \n",
    "# https://github.com/facebookresearch/DiT/blob/ed81ce2229091fd4ecc9a223645f95cf379d582b/diffusion/__init__.py#L10 \n",
    "diffusion_config = {'learn_sigma': False, # True for DiT, False for SiT \n",
    " 'noise_schedule': 'linear',\n",
    " 'timestep_respacing': '100',\n",
    " 'sampler': 'tds',\n",
    " 'use_kl': False,\n",
    " 'predict_xstart': False,\n",
    " 'rescale_timesteps': False,\n",
    " 'rescale_learned_sigmas': False}"
   ]
  },
  {
   "cell_type": "code",
   "execution_count": 32,
   "metadata": {},
   "outputs": [],
   "source": [
    "image_shape = (3, 9, 9)\n",
    "diffusion_RPM_tds = create_gaussian_diffusion(\n",
    "    steps=1000, #model_cfg[\"diffusion_steps\"], # 1000\n",
    "    image_shape=image_shape, \n",
    "    **diffusion_config, \n",
    ")\n",
    "# Create diffusion object\n",
    "diffusion_RPM_tds.tausq_ = task_config.tausq \n",
    "diffusion_RPM_tds.task = task_config.name \n",
    "diffusion_RPM_tds.use_mean_pred = True  \n",
    "diffusion_RPM_tds.t_truncate = int(diffusion_RPM_tds.T * t_truncate_percent)\n",
    "operator = get_operator(device=device, name=task_config.operator)   \n",
    "recon_prob_fn = ConditioningMethod(operator=operator).recon_prob"
   ]
  },
  {
   "cell_type": "code",
   "execution_count": 33,
   "metadata": {},
   "outputs": [],
   "source": [
    "rule_id = 30\n",
    "sample_id = 10\n",
    "ref_img = (train_sample_img[rule_id, sample_id].cuda() - dataset_Xmean[0]) / dataset_Xstd[0] \n",
    "#th.zeros(3,9,9, device=device)"
   ]
  },
  {
   "cell_type": "code",
   "execution_count": 50,
   "metadata": {},
   "outputs": [
    {
     "data": {
      "application/vnd.jupyter.widget-view+json": {
       "model_id": "6ec7016a48124c9586f438c1b2bfc68d",
       "version_major": 2,
       "version_minor": 0
      },
      "text/plain": [
       "  0%|          | 0/101 [00:00<?, ?it/s]"
      ]
     },
     "metadata": {},
     "output_type": "display_data"
    },
    {
     "name": "stdout",
     "output_type": "stream",
     "text": [
      "C3: 0/9 (0.00), C3 + C2: 9/9 (1.00), AnyValid: 18/27 (0.67)\n"
     ]
    }
   ],
   "source": [
    "# def model_fn(x, t, y=None, **kwargs):\n",
    "    # return score \n",
    "    # return transport_sampler.score(x, t, model_SiT, y=y, **kwargs)\n",
    "# model_DiT(x, t, y, **kwargs) \n",
    "\n",
    "def model_fn(x, t, y=None, **kwargs):\n",
    "    # return eps \n",
    "    return transport_sampler.score(x, t, model_SiT, y=y, **kwargs) * \\\n",
    "                    (- transport_sampler.transport.path_sampler.compute_sigma_t(expand_t_like_x(t, x))[0])\n",
    "# need to rescale, x, t, output. \n",
    "\n",
    "tds_batch_size = 9\n",
    "mask = th.ones((3, 9, 9), device=device, dtype=th.bool)\n",
    "mask[:,6:,6:] = False\n",
    "measurement_mask = mask\n",
    "measurement = operator(ref_img, mask=measurement_mask) # returns a one-dimensional tensor \n",
    "assert measurement_mask.shape == ref_img.shape \n",
    "recon_prob_fn = partial(recon_prob_fn, measurement=measurement, mask=mask)\n",
    "# resetting \n",
    "diffusion_RPM_tds.mask = mask \n",
    "diffusion_RPM_tds.set_measurement(ref_img*measurement_mask) \n",
    "diffusion_RPM_tds.recon_prob_fn = recon_prob_fn \n",
    "diffusion_RPM_tds.clear_cache() \n",
    "\n",
    "M = partial(diffusion_RPM_tds.M, model=model_fn, device=device, \n",
    "            pred_xstart_var_type=task_config.pred_xstart_var_type) \n",
    "G = partial(diffusion_RPM_tds.G, model=model_fn, \n",
    "            debug_plot=debug_plot, debug_statistics=debug_statistics, debug_info=debug_info, \n",
    "            pred_xstart_var_type=task_config.pred_xstart_var_type)\n",
    "\n",
    "y = th.zeros(tds_batch_size, dtype=th.int, device=\"cuda\")\n",
    "model_kwargs = dict(y=y)\n",
    "# Sampling \n",
    "final_sample, log_w, normalized_w, resample_indices_trace, ess_trace, log_w_trace, xt_trace  = \\\n",
    "    smc_FK(M=M, G=G, \n",
    "           resample_strategy=sampler_config.resample_strategy, \n",
    "           ess_threshold=sampler_config.ess_threshold, \n",
    "           T=diffusion_RPM_tds.T, \n",
    "           P=tds_batch_size,  # sampler_config.num_particles\n",
    "           verbose=True, \n",
    "           log_xt_trace=False, \n",
    "           extra_vals={\"model_kwargs\": model_kwargs, \n",
    "                       \"batch_p\": tds_batch_size}) # sampler_config.batch_p\n",
    "\n",
    "final_sample = ((final_sample.detach() * dataset_Xstd) + dataset_Xmean).cpu()\n",
    "r3_list, r2_list, rule_col = infer_rule_from_sample_batch(final_sample)\n",
    "C3_count, C2_count, anyvalid_count, total = compute_rule_statistics(r3_list, r2_list, rule_col, verbose=True)"
   ]
  },
  {
   "cell_type": "code",
   "execution_count": 167,
   "metadata": {},
   "outputs": [
    {
     "name": "stdout",
     "output_type": "stream",
     "text": [
      "C3: 9/9 (1.00), C3 + C2: 9/9 (1.00), AnyValid: 27/27 (1.00)\n"
     ]
    }
   ],
   "source": [
    "final_sample = ((final_sample.detach() * dataset_Xstd) + dataset_Xmean).cpu()\n",
    "r3_list, r2_list, rule_col = infer_rule_from_sample_batch(final_sample)\n",
    "C3_count, C2_count, anyvalid_count, total = compute_rule_statistics(r3_list, r2_list, rule_col, verbose=True)"
   ]
  },
  {
   "cell_type": "markdown",
   "metadata": {},
   "source": [
    "### Massive production for many samples "
   ]
  },
  {
   "cell_type": "code",
   "execution_count": 25,
   "metadata": {},
   "outputs": [
    {
     "data": {
      "application/vnd.jupyter.widget-view+json": {
       "model_id": "3e8862f23f414fbb9efda8b8cf9995a2",
       "version_major": 2,
       "version_minor": 0
      },
      "text/plain": [
       "  0%|          | 0/40 [00:00<?, ?it/s]"
      ]
     },
     "metadata": {},
     "output_type": "display_data"
    },
    {
     "data": {
      "application/vnd.jupyter.widget-view+json": {
       "model_id": "9f4c520d2a4f4111b210f60ddbb2ec17",
       "version_major": 2,
       "version_minor": 0
      },
      "text/plain": [
       "  0%|          | 0/25 [00:00<?, ?it/s]"
      ]
     },
     "metadata": {},
     "output_type": "display_data"
    },
    {
     "data": {
      "application/vnd.jupyter.widget-view+json": {
       "model_id": "68a60995655e4bfc9c602327261685d7",
       "version_major": 2,
       "version_minor": 0
      },
      "text/plain": [
       "  0%|          | 0/25 [00:00<?, ?it/s]"
      ]
     },
     "metadata": {},
     "output_type": "display_data"
    },
    {
     "data": {
      "application/vnd.jupyter.widget-view+json": {
       "model_id": "2490e716a36f45fea2579a16579e52e0",
       "version_major": 2,
       "version_minor": 0
      },
      "text/plain": [
       "  0%|          | 0/25 [00:00<?, ?it/s]"
      ]
     },
     "metadata": {},
     "output_type": "display_data"
    },
    {
     "data": {
      "application/vnd.jupyter.widget-view+json": {
       "model_id": "e0dd483996fd4e148e24aceee5012a0b",
       "version_major": 2,
       "version_minor": 0
      },
      "text/plain": [
       "  0%|          | 0/25 [00:00<?, ?it/s]"
      ]
     },
     "metadata": {},
     "output_type": "display_data"
    },
    {
     "data": {
      "application/vnd.jupyter.widget-view+json": {
       "model_id": "13ff344d9dcd4fc1b63738790bc3f738",
       "version_major": 2,
       "version_minor": 0
      },
      "text/plain": [
       "  0%|          | 0/25 [00:00<?, ?it/s]"
      ]
     },
     "metadata": {},
     "output_type": "display_data"
    },
    {
     "data": {
      "application/vnd.jupyter.widget-view+json": {
       "model_id": "3c293b2c24ec4ab29343fcfb358403d5",
       "version_major": 2,
       "version_minor": 0
      },
      "text/plain": [
       "  0%|          | 0/25 [00:00<?, ?it/s]"
      ]
     },
     "metadata": {},
     "output_type": "display_data"
    },
    {
     "data": {
      "application/vnd.jupyter.widget-view+json": {
       "model_id": "e19746bf26aa4bfa959a764fe93c2bc2",
       "version_major": 2,
       "version_minor": 0
      },
      "text/plain": [
       "  0%|          | 0/25 [00:00<?, ?it/s]"
      ]
     },
     "metadata": {},
     "output_type": "display_data"
    },
    {
     "data": {
      "application/vnd.jupyter.widget-view+json": {
       "model_id": "dc115cae81864b11878df4adabf725cf",
       "version_major": 2,
       "version_minor": 0
      },
      "text/plain": [
       "  0%|          | 0/25 [00:00<?, ?it/s]"
      ]
     },
     "metadata": {},
     "output_type": "display_data"
    },
    {
     "data": {
      "application/vnd.jupyter.widget-view+json": {
       "model_id": "11771f82171d407dbde281b08292807f",
       "version_major": 2,
       "version_minor": 0
      },
      "text/plain": [
       "  0%|          | 0/25 [00:00<?, ?it/s]"
      ]
     },
     "metadata": {},
     "output_type": "display_data"
    },
    {
     "data": {
      "application/vnd.jupyter.widget-view+json": {
       "model_id": "540bf54bfac64b05b79cf9fc1c1c1f56",
       "version_major": 2,
       "version_minor": 0
      },
      "text/plain": [
       "  0%|          | 0/25 [00:00<?, ?it/s]"
      ]
     },
     "metadata": {},
     "output_type": "display_data"
    },
    {
     "data": {
      "application/vnd.jupyter.widget-view+json": {
       "model_id": "6693af9cbca14e49889f220d73a64e67",
       "version_major": 2,
       "version_minor": 0
      },
      "text/plain": [
       "  0%|          | 0/25 [00:00<?, ?it/s]"
      ]
     },
     "metadata": {},
     "output_type": "display_data"
    },
    {
     "data": {
      "application/vnd.jupyter.widget-view+json": {
       "model_id": "baee37df7452489fb412a93ac2c8ddfe",
       "version_major": 2,
       "version_minor": 0
      },
      "text/plain": [
       "  0%|          | 0/25 [00:00<?, ?it/s]"
      ]
     },
     "metadata": {},
     "output_type": "display_data"
    },
    {
     "data": {
      "application/vnd.jupyter.widget-view+json": {
       "model_id": "08d7672852164656933b674310e2e30c",
       "version_major": 2,
       "version_minor": 0
      },
      "text/plain": [
       "  0%|          | 0/25 [00:00<?, ?it/s]"
      ]
     },
     "metadata": {},
     "output_type": "display_data"
    },
    {
     "data": {
      "application/vnd.jupyter.widget-view+json": {
       "model_id": "91d15c05133d41c497e86e8b0ee1d78c",
       "version_major": 2,
       "version_minor": 0
      },
      "text/plain": [
       "  0%|          | 0/25 [00:00<?, ?it/s]"
      ]
     },
     "metadata": {},
     "output_type": "display_data"
    },
    {
     "data": {
      "application/vnd.jupyter.widget-view+json": {
       "model_id": "e1eb8c088c8b4e91b26a596055acdc0a",
       "version_major": 2,
       "version_minor": 0
      },
      "text/plain": [
       "  0%|          | 0/25 [00:00<?, ?it/s]"
      ]
     },
     "metadata": {},
     "output_type": "display_data"
    },
    {
     "data": {
      "application/vnd.jupyter.widget-view+json": {
       "model_id": "3fb03be527fc41e4bdaded5a92ac1dec",
       "version_major": 2,
       "version_minor": 0
      },
      "text/plain": [
       "  0%|          | 0/25 [00:00<?, ?it/s]"
      ]
     },
     "metadata": {},
     "output_type": "display_data"
    },
    {
     "data": {
      "application/vnd.jupyter.widget-view+json": {
       "model_id": "97f95f7a06124ecdbba309c01e789247",
       "version_major": 2,
       "version_minor": 0
      },
      "text/plain": [
       "  0%|          | 0/25 [00:00<?, ?it/s]"
      ]
     },
     "metadata": {},
     "output_type": "display_data"
    },
    {
     "data": {
      "application/vnd.jupyter.widget-view+json": {
       "model_id": "a282b3d3181f4cdeba694d8a936edb4e",
       "version_major": 2,
       "version_minor": 0
      },
      "text/plain": [
       "  0%|          | 0/25 [00:00<?, ?it/s]"
      ]
     },
     "metadata": {},
     "output_type": "display_data"
    },
    {
     "data": {
      "application/vnd.jupyter.widget-view+json": {
       "model_id": "2e9cd071130c44098cb1d69030f2f49f",
       "version_major": 2,
       "version_minor": 0
      },
      "text/plain": [
       "  0%|          | 0/25 [00:00<?, ?it/s]"
      ]
     },
     "metadata": {},
     "output_type": "display_data"
    },
    {
     "data": {
      "application/vnd.jupyter.widget-view+json": {
       "model_id": "fe508c6916de4aadbe5b60d6668a37e1",
       "version_major": 2,
       "version_minor": 0
      },
      "text/plain": [
       "  0%|          | 0/25 [00:00<?, ?it/s]"
      ]
     },
     "metadata": {},
     "output_type": "display_data"
    },
    {
     "data": {
      "application/vnd.jupyter.widget-view+json": {
       "model_id": "2959f1c50c19402bafa8d81391bb696c",
       "version_major": 2,
       "version_minor": 0
      },
      "text/plain": [
       "  0%|          | 0/25 [00:00<?, ?it/s]"
      ]
     },
     "metadata": {},
     "output_type": "display_data"
    },
    {
     "data": {
      "application/vnd.jupyter.widget-view+json": {
       "model_id": "e408f74414de48078bb1cd601d9f7351",
       "version_major": 2,
       "version_minor": 0
      },
      "text/plain": [
       "  0%|          | 0/25 [00:00<?, ?it/s]"
      ]
     },
     "metadata": {},
     "output_type": "display_data"
    },
    {
     "data": {
      "application/vnd.jupyter.widget-view+json": {
       "model_id": "54448f65d4fd408584247752f875c67e",
       "version_major": 2,
       "version_minor": 0
      },
      "text/plain": [
       "  0%|          | 0/25 [00:00<?, ?it/s]"
      ]
     },
     "metadata": {},
     "output_type": "display_data"
    },
    {
     "data": {
      "application/vnd.jupyter.widget-view+json": {
       "model_id": "9d4acdfa91fa499cb91e90f6c4a9e99f",
       "version_major": 2,
       "version_minor": 0
      },
      "text/plain": [
       "  0%|          | 0/25 [00:00<?, ?it/s]"
      ]
     },
     "metadata": {},
     "output_type": "display_data"
    },
    {
     "data": {
      "application/vnd.jupyter.widget-view+json": {
       "model_id": "9b74f7f553eb415fa739749019594ed1",
       "version_major": 2,
       "version_minor": 0
      },
      "text/plain": [
       "  0%|          | 0/25 [00:00<?, ?it/s]"
      ]
     },
     "metadata": {},
     "output_type": "display_data"
    },
    {
     "data": {
      "application/vnd.jupyter.widget-view+json": {
       "model_id": "ac4bb4c32c3246ef8d05fda576f97e16",
       "version_major": 2,
       "version_minor": 0
      },
      "text/plain": [
       "  0%|          | 0/25 [00:00<?, ?it/s]"
      ]
     },
     "metadata": {},
     "output_type": "display_data"
    },
    {
     "data": {
      "application/vnd.jupyter.widget-view+json": {
       "model_id": "8b907add0c9d42859dc0f954a172d6c9",
       "version_major": 2,
       "version_minor": 0
      },
      "text/plain": [
       "  0%|          | 0/25 [00:00<?, ?it/s]"
      ]
     },
     "metadata": {},
     "output_type": "display_data"
    },
    {
     "data": {
      "application/vnd.jupyter.widget-view+json": {
       "model_id": "13fcf5a8039d49e797f3d005422cf486",
       "version_major": 2,
       "version_minor": 0
      },
      "text/plain": [
       "  0%|          | 0/25 [00:00<?, ?it/s]"
      ]
     },
     "metadata": {},
     "output_type": "display_data"
    },
    {
     "data": {
      "application/vnd.jupyter.widget-view+json": {
       "model_id": "6fb9f80ced614501961e3d8b0723f146",
       "version_major": 2,
       "version_minor": 0
      },
      "text/plain": [
       "  0%|          | 0/25 [00:00<?, ?it/s]"
      ]
     },
     "metadata": {},
     "output_type": "display_data"
    },
    {
     "data": {
      "application/vnd.jupyter.widget-view+json": {
       "model_id": "7b4877a5e29d42c284f4a7aab06e59c2",
       "version_major": 2,
       "version_minor": 0
      },
      "text/plain": [
       "  0%|          | 0/25 [00:00<?, ?it/s]"
      ]
     },
     "metadata": {},
     "output_type": "display_data"
    },
    {
     "data": {
      "application/vnd.jupyter.widget-view+json": {
       "model_id": "c63f80db068949d9b4f5dc7c3e0f1784",
       "version_major": 2,
       "version_minor": 0
      },
      "text/plain": [
       "  0%|          | 0/25 [00:00<?, ?it/s]"
      ]
     },
     "metadata": {},
     "output_type": "display_data"
    },
    {
     "data": {
      "application/vnd.jupyter.widget-view+json": {
       "model_id": "4259027019774dd884acda4497c63e2d",
       "version_major": 2,
       "version_minor": 0
      },
      "text/plain": [
       "  0%|          | 0/25 [00:00<?, ?it/s]"
      ]
     },
     "metadata": {},
     "output_type": "display_data"
    },
    {
     "data": {
      "application/vnd.jupyter.widget-view+json": {
       "model_id": "afad5d2e12674d77a95b57ba7cb8b88e",
       "version_major": 2,
       "version_minor": 0
      },
      "text/plain": [
       "  0%|          | 0/25 [00:00<?, ?it/s]"
      ]
     },
     "metadata": {},
     "output_type": "display_data"
    },
    {
     "data": {
      "application/vnd.jupyter.widget-view+json": {
       "model_id": "dd0ce4e2174540429eb8a2d1a5599a94",
       "version_major": 2,
       "version_minor": 0
      },
      "text/plain": [
       "  0%|          | 0/25 [00:00<?, ?it/s]"
      ]
     },
     "metadata": {},
     "output_type": "display_data"
    },
    {
     "data": {
      "application/vnd.jupyter.widget-view+json": {
       "model_id": "1e3853d2dd4c437f8f80b64c64b8a2de",
       "version_major": 2,
       "version_minor": 0
      },
      "text/plain": [
       "  0%|          | 0/25 [00:00<?, ?it/s]"
      ]
     },
     "metadata": {},
     "output_type": "display_data"
    },
    {
     "data": {
      "application/vnd.jupyter.widget-view+json": {
       "model_id": "fbb7a673d82a42ce89b1041cae4f2ef3",
       "version_major": 2,
       "version_minor": 0
      },
      "text/plain": [
       "  0%|          | 0/25 [00:00<?, ?it/s]"
      ]
     },
     "metadata": {},
     "output_type": "display_data"
    },
    {
     "data": {
      "application/vnd.jupyter.widget-view+json": {
       "model_id": "5c02be02d7254e609cba7a6c131e2305",
       "version_major": 2,
       "version_minor": 0
      },
      "text/plain": [
       "  0%|          | 0/25 [00:00<?, ?it/s]"
      ]
     },
     "metadata": {},
     "output_type": "display_data"
    },
    {
     "data": {
      "application/vnd.jupyter.widget-view+json": {
       "model_id": "159d31f4e2d64b63be03ef698e17f14e",
       "version_major": 2,
       "version_minor": 0
      },
      "text/plain": [
       "  0%|          | 0/25 [00:00<?, ?it/s]"
      ]
     },
     "metadata": {},
     "output_type": "display_data"
    },
    {
     "data": {
      "application/vnd.jupyter.widget-view+json": {
       "model_id": "003cebcde8bc41359cdfe510abf235cd",
       "version_major": 2,
       "version_minor": 0
      },
      "text/plain": [
       "  0%|          | 0/25 [00:00<?, ?it/s]"
      ]
     },
     "metadata": {},
     "output_type": "display_data"
    },
    {
     "data": {
      "application/vnd.jupyter.widget-view+json": {
       "model_id": "adf063442ceb44b3b5f5e9afbaf4c94a",
       "version_major": 2,
       "version_minor": 0
      },
      "text/plain": [
       "  0%|          | 0/25 [00:00<?, ?it/s]"
      ]
     },
     "metadata": {},
     "output_type": "display_data"
    }
   ],
   "source": [
    "def model_fn(x, t, y=None, **kwargs):\n",
    "    return model_DiT(x, t, y, **kwargs) \n",
    "\n",
    "tds_batch_size = 25\n",
    "stats_col = []\n",
    "results_col = []\n",
    "for rule_id in trange(40):\n",
    "    for sample_id in trange(25):\n",
    "        # get ref_img\n",
    "        ref_img = (train_sample_img[rule_id, sample_id].cuda() - dataset_Xmean[0]) / dataset_Xstd[0]\n",
    "        # build mask \n",
    "        mask = th.ones((3,9,9), device=device, dtype=th.bool)\n",
    "        mask[:,6:,6:] = False\n",
    "        measurement_mask = mask\n",
    "        measurement = operator(ref_img, mask=measurement_mask) # returns a one-dimensional tensor \n",
    "        assert measurement_mask.shape == ref_img.shape \n",
    "        recon_prob_fn = partial(recon_prob_fn, measurement=measurement, mask=mask)\n",
    "        # resetting \n",
    "        diffusion_RPM_tds.mask = mask \n",
    "        diffusion_RPM_tds.set_measurement(ref_img*measurement_mask) \n",
    "        diffusion_RPM_tds.recon_prob_fn = recon_prob_fn \n",
    "        diffusion_RPM_tds.clear_cache() \n",
    "\n",
    "        M = partial(diffusion_RPM_tds.M, model=model_fn, device=device, \n",
    "                    pred_xstart_var_type=task_config.pred_xstart_var_type) \n",
    "        G = partial(diffusion_RPM_tds.G, model=model_fn, \n",
    "                    debug_plot=debug_plot, debug_statistics=debug_statistics, debug_info={}, \n",
    "                    pred_xstart_var_type=task_config.pred_xstart_var_type)\n",
    "\n",
    "        y = th.zeros(tds_batch_size, dtype=th.int, device=\"cuda\")\n",
    "        model_kwargs = dict(y=y)\n",
    "        # Sampling \n",
    "        final_sample, log_w, normalized_w, resample_indices_trace, ess_trace, log_w_trace, xt_trace  = \\\n",
    "            smc_FK(M=M, G=G, \n",
    "                resample_strategy=sampler_config.resample_strategy, \n",
    "                ess_threshold=sampler_config.ess_threshold, \n",
    "                T=diffusion_RPM_tds.T, \n",
    "                P=tds_batch_size,  # sampler_config.num_particles\n",
    "                verbose=False, \n",
    "                log_xt_trace=False, \n",
    "                extra_vals={\"model_kwargs\": model_kwargs, \n",
    "                            \"batch_p\": tds_batch_size}) # sampler_config.batch_p\n",
    "        final_sample = ((final_sample.detach() * dataset_Xstd) + dataset_Xmean).cpu()\n",
    "        r3_list, r2_list, rule_col = infer_rule_from_sample_batch(final_sample)\n",
    "        C3_count, C2_count, anyvalid_count, total = compute_rule_statistics(r3_list, r2_list, rule_col, verbose=False)\n",
    "        inpaintrow_validcount = anyvalid_count - total * 2\n",
    "        stats_col.append({\"rule_id\": rule_id, \"sample_id\": sample_id, \"inpaint_acc\": C3_count/total, \"valid_acc\": inpaintrow_validcount/total,})\n",
    "        results_col.append({\"rule_id\": rule_id, \"sample_id\": sample_id, \"final_sample\": final_sample, \"r3_list\": r3_list, \"r2_list\": r2_list, \"rule_col\": rule_col,\n",
    "                            \"C3_count\": C3_count, \"C2_count\": C2_count, \"valid_count\": inpaintrow_validcount, \"total\": total,})\n",
    "inpaint_stats_df = pd.DataFrame(stats_col)"
   ]
  },
  {
   "cell_type": "markdown",
   "metadata": {},
   "source": [
    "### Analysis and synopsis"
   ]
  },
  {
   "cell_type": "code",
   "execution_count": 46,
   "metadata": {},
   "outputs": [],
   "source": [
    "import pickle as pkl\n",
    "from stats_plot_utils import add_rectangles, saveallforms\n",
    "from rule_new_utils import rule_table, relation_dict, attribute_dict, rule_table_brief\n",
    "outdir = join(expdir, \"inpainting_results\")\n",
    "os.makedirs(outdir, exist_ok=True)"
   ]
  },
  {
   "cell_type": "code",
   "execution_count": null,
   "metadata": {},
   "outputs": [],
   "source": [
    "figroot = \"/n/holylfs06/LABS/kempner_fellow_binxuwang/Users/binxuwang/Figures/DiffusionReasoning/Figure_inpainting\"\n",
    "figexpdir = join(figroot, expname)\n",
    "os.makedirs(figexpdir, exist_ok=True)"
   ]
  },
  {
   "cell_type": "code",
   "execution_count": 40,
   "metadata": {},
   "outputs": [
    {
     "name": "stdout",
     "output_type": "stream",
     "text": [
      "/n/holylfs06/LABS/kempner_fellow_binxuwang/Users/binxuwang/DL_Projects/DiT/results/090-RAVEN10_abstract-uncond-DiT_S_1-stream0_16M_heldout0_20240711-0204/inpainting_results\n"
     ]
    }
   ],
   "source": [
    "!echo {outdir}"
   ]
  },
  {
   "cell_type": "code",
   "execution_count": 39,
   "metadata": {},
   "outputs": [],
   "source": [
    "inpaint_stats_df = pd.DataFrame(stats_col)\n",
    "inpaint_stats_df.to_csv(join(outdir, \"inpaint_stats.csv\"), index=False)\n",
    "inpaint_stats_df.to_pickle(join(outdir, \"inpaint_stats.pkl\"))\n",
    "pkl.dump(results_col, open(join(outdir, \"inpaint_results.pkl\"), \"wb\"))"
   ]
  },
  {
   "cell_type": "code",
   "execution_count": 49,
   "metadata": {},
   "outputs": [],
   "source": [
    "results_df = pd.DataFrame(results_col)"
   ]
  },
  {
   "cell_type": "code",
   "execution_count": 41,
   "metadata": {},
   "outputs": [],
   "source": [
    "inpaint_acc_tab = inpaint_stats_df.groupby(\"rule_id\").agg({\"inpaint_acc\": \"mean\", \"valid_acc\": \"mean\", }) #\"anyvalid_acc\": \"mean\""
   ]
  },
  {
   "cell_type": "code",
   "execution_count": 56,
   "metadata": {},
   "outputs": [
    {
     "name": "stdout",
     "output_type": "stream",
     "text": [
      "Overall inpaint accuracy 0.470\n",
      "- Heldout rule inpaint accuracy 0.152\n",
      "- Trained rule inpaint accuracy 0.515\n",
      "Overall inpaint validity 0.622\n",
      "- Heldout rule valid accuracy 0.576\n",
      "- Trained rule valid accuracy 0.629\n"
     ]
    }
   ],
   "source": [
    "heldout_rules\n",
    "heldout_msk = np.zeros(40, dtype=bool)\n",
    "heldout_msk[heldout_rules] = 1\n",
    "\n",
    "print(\"Overall inpaint accuracy %.3f\" % inpaint_acc_tab[\"inpaint_acc\"].mean())\n",
    "print(\"- Heldout rule inpaint accuracy %.3f\" % inpaint_acc_tab[\"inpaint_acc\"].values[heldout_msk].mean())\n",
    "print(\"- Trained rule inpaint accuracy %.3f\" % inpaint_acc_tab[\"inpaint_acc\"].values[~heldout_msk].mean())\n",
    "\n",
    "print(\"Overall inpaint validity %.3f\" % inpaint_acc_tab[\"valid_acc\"].mean())\n",
    "print(\"- Heldout rule valid accuracy %.3f\" % inpaint_acc_tab[\"valid_acc\"].values[heldout_msk].mean())\n",
    "print(\"- Trained rule valid accuracy %.3f\" % inpaint_acc_tab[\"valid_acc\"].values[~heldout_msk].mean())"
   ]
  },
  {
   "cell_type": "code",
   "execution_count": 74,
   "metadata": {},
   "outputs": [
    {
     "data": {
      "image/png": "[encoded data removed]",
      "text/plain": [
       "<Figure size 1000x500 with 2 Axes>"
      ]
     },
     "metadata": {},
     "output_type": "display_data"
    }
   ],
   "source": [
    "mean_acc = inpaint_acc_tab[\"inpaint_acc\"].mean()\n",
    "trained_acc = inpaint_acc_tab[\"inpaint_acc\"].values[~heldout_msk].mean()\n",
    "heldout_acc = inpaint_acc_tab[\"inpaint_acc\"].values[heldout_msk].mean()\n",
    "plt.figure(figsize=(10, 5))\n",
    "sns.heatmap(inpaint_acc_tab[\"inpaint_acc\"].values.reshape(4,10), \n",
    "            cmap=\"viridis\", annot=True, fmt=\".2f\")\n",
    "plt.axis(\"image\")\n",
    "add_rectangles(heldout_rules)\n",
    "plt.xticks(np.arange(10)+0.5, [relation_dict[i] for i in range(10)], rotation=45)\n",
    "plt.yticks(np.arange(4)+0.5, [attribute_dict[i] for i in range(4)], rotation=0)\n",
    "plt.title(f\"Inpainting C3 accuracy Twisted Sampler | Mean {mean_acc:.3f} train {trained_acc:.3f} heldout {heldout_acc:.3f}\\n{expname}\")\n",
    "saveallforms([outdir,figexpdir], \"inpainting_C3_acc_rule_heatmap_pilot\")\n",
    "plt.show()"
   ]
  },
  {
   "cell_type": "code",
   "execution_count": 75,
   "metadata": {},
   "outputs": [
    {
     "data": {
      "image/png": "[encoded data removed]",
      "text/plain": [
       "<Figure size 1000x500 with 2 Axes>"
      ]
     },
     "metadata": {},
     "output_type": "display_data"
    }
   ],
   "source": [
    "mean_acc = inpaint_acc_tab[\"valid_acc\"].mean()\n",
    "trained_acc = inpaint_acc_tab[\"valid_acc\"].values[~heldout_msk].mean()\n",
    "heldout_acc = inpaint_acc_tab[\"valid_acc\"].values[heldout_msk].mean()\n",
    "plt.figure(figsize=(10, 5))\n",
    "sns.heatmap(inpaint_acc_tab[\"valid_acc\"].values.reshape(4,10), \n",
    "            cmap=\"viridis\", annot=True, fmt=\".2f\")\n",
    "plt.axis(\"image\")\n",
    "add_rectangles(heldout_rules)\n",
    "plt.xticks(np.arange(10)+0.5, [relation_dict[i] for i in range(10)], rotation=45)\n",
    "plt.yticks(np.arange(4)+0.5, [attribute_dict[i] for i in range(4)], rotation=0)\n",
    "plt.title(f\"Inpainting row Validity Twisted Sampler | Mean {mean_acc:.3f} train {trained_acc:.3f} heldout {heldout_acc:.3f}\\n{expname}\")\n",
    "saveallforms([outdir,figexpdir], \"inpainting_valid_acc_rule_heatmap_pilot\")\n",
    "plt.show()"
   ]
  }
 ],
 "metadata": {
  "kernelspec": {
   "display_name": "torch2",
   "language": "python",
   "name": "python3"
  },
  "language_info": {
   "codemirror_mode": {
    "name": "ipython",
    "version": 3
   },
   "file_extension": ".py",
   "mimetype": "text/x-python",
   "name": "python",
   "nbconvert_exporter": "python",
   "pygments_lexer": "ipython3",
   "version": "3.10.14"
  }
 },
 "nbformat": 4,
 "nbformat_minor": 2
}
