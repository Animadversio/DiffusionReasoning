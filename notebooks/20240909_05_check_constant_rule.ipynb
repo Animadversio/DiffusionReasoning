{
 "cells": [
  {
   "cell_type": "code",
   "execution_count": 1,
   "id": "37f7373d-bf54-4c8b-8baf-c994ee4380ff",
   "metadata": {},
   "outputs": [],
   "source": [
    "import numpy as np \n",
    "import matplotlib.pyplot as plt \n",
    "%matplotlib inline \n",
    "import torch"
   ]
  },
  {
   "cell_type": "code",
   "execution_count": 2,
   "id": "d9090431",
   "metadata": {},
   "outputs": [],
   "source": [
    "from tqdm import trange"
   ]
  },
  {
   "cell_type": "code",
   "execution_count": 3,
   "id": "fc577cf1",
   "metadata": {},
   "outputs": [],
   "source": [
    "import einops"
   ]
  },
  {
   "cell_type": "code",
   "execution_count": 4,
   "id": "5f747bbf",
   "metadata": {},
   "outputs": [],
   "source": [
    "results_dir = 'results/20240907/'"
   ]
  },
  {
   "cell_type": "code",
   "execution_count": 5,
   "id": "abc140d7",
   "metadata": {},
   "outputs": [],
   "source": [
    "gen_ind = [1, 16, 20, 34, 37]"
   ]
  },
  {
   "cell_type": "code",
   "execution_count": 6,
   "id": "cc1ab7f3",
   "metadata": {},
   "outputs": [],
   "source": [
    "import pickle\n",
    "with open('data/014-SiT_S_1-stream0_16M_heldout0-Linear-velocity-None_eval_col.pkl', 'rb') as file:\n",
    "    rule_file = pickle.load(file)"
   ]
  },
  {
   "cell_type": "code",
   "execution_count": 7,
   "id": "1b398b14",
   "metadata": {},
   "outputs": [],
   "source": [
    "import pickle\n",
    "with open('data/014-SiT_S_1-stream0_16M_heldout0-Linear-velocity-None_sample_col.pkl', 'rb') as file:\n",
    "    attr_gen_file = pickle.load(file)"
   ]
  },
  {
   "cell_type": "code",
   "execution_count": 8,
   "id": "2171adc6",
   "metadata": {},
   "outputs": [],
   "source": [
    "def get_metrics(x_gen,x_train): \n",
    "    \"\"\"\n",
    "        x_gen: (172, 3, 9), (num_samples, num_panels, num_pos)\n",
    "        x_train: (4000, 3, 9), (num_samples, num_panels, num_pos)\n",
    "    \"\"\"\n",
    "    # step 1: check for row memorization \n",
    "    x_train_row = x_train.reshape((-1, 27)) # (4000, 27)\n",
    "    train_value_row, train_count_row = np.unique(x_train_row, return_counts=True, axis=0) # (3984, 27)\n",
    "    x_gen_row = x_gen.reshape((-1, 27)) # (159, 27)\n",
    "    c_gen_row = np.nan * np.zeros((len(x_gen_row), ))  \n",
    "    for i, v in enumerate(x_gen_row): \n",
    "        idx_list = np.where(np.all(train_value_row == v, axis=1))[0]\n",
    "        if len(idx_list)>0: \n",
    "            c_gen_row[i] = idx_list[0]\n",
    "    m_row = np.sum(~np.isnan(c_gen_row))/len(c_gen_row) # metric 1: fraction of generated rows in the training data\n",
    "\n",
    "    # step 2: check for panel memorization \n",
    "    x_train_panels = x_train.reshape((-1, 9))\n",
    "    train_value_panel, train_count_panel = np.unique(x_train_panels, return_counts=True, axis=0)\n",
    "    c_gen_panel = np.zeros((len(x_gen), 3))  \n",
    "    for i in range(len(x_gen)): \n",
    "        for i_row in range(3): \n",
    "            v = x_gen[i, i_row]\n",
    "            idx_list = np.where(np.all(train_value_panel == v, axis=1))[0]\n",
    "            if len(idx_list)>0: \n",
    "                #c_gen_panel[i, i_row] = idx_list[0]\n",
    "                c_gen_panel[i, i_row] = 1.0\n",
    "    #c_gen_panel_binary = 1.0-np.isnan(c_gen_panel).astype(int)   # (159, 3)\n",
    "\n",
    "    m_panel = np.sum(c_gen_panel)/(len(x_gen)*3) # metric 2: fraction of generated panels in the training data\n",
    "    c_gen_panel_binary_sum = c_gen_panel.sum(1)\n",
    "    m_panel_r3 = np.sum(c_gen_panel_binary_sum==3)/len(c_gen_panel_binary_sum) # 0.01\n",
    "    m_panel_r2 = np.sum(c_gen_panel_binary_sum==2)/len(c_gen_panel_binary_sum) # 0.01\n",
    "    m_panel_r1 = np.sum(c_gen_panel_binary_sum==1)/len(c_gen_panel_binary_sum) # 0.01\n",
    "    m_panel_r0 = np.sum(c_gen_panel_binary_sum==0)/len(c_gen_panel_binary_sum) # 0.01\n",
    "\n",
    "    return m_row, m_panel, m_panel_r3, m_panel_r2, m_panel_r1, m_panel_r0"
   ]
  },
  {
   "cell_type": "code",
   "execution_count": 9,
   "id": "f88cc5cb",
   "metadata": {},
   "outputs": [],
   "source": [
    "step_list = [970000, 972500, 975000, 977500, 980000, 982500, 985000, 987500, 990000, 992500, 995000, 997500, 1000000]"
   ]
  },
  {
   "cell_type": "code",
   "execution_count": 10,
   "id": "56382bf4",
   "metadata": {},
   "outputs": [
    {
     "data": {
      "text/plain": [
       "13"
      ]
     },
     "execution_count": 10,
     "metadata": {},
     "output_type": "execute_result"
    }
   ],
   "source": [
    "len(step_list)"
   ]
  },
  {
   "cell_type": "code",
   "execution_count": 12,
   "id": "11914821",
   "metadata": {},
   "outputs": [
    {
     "name": "stderr",
     "output_type": "stream",
     "text": [
      "  0%|          | 0/30 [00:00<?, ?it/s]/opt/anaconda3/envs/pytorch39/lib/python3.9/site-packages/tqdm/auto.py:21: TqdmWarning: IProgress not found. Please update jupyter and ipywidgets. See https://ipywidgets.readthedocs.io/en/stable/user_install.html\n",
      "  from .autonotebook import tqdm as notebook_tqdm\n",
      "100%|██████████| 30/30 [00:28<00:00,  1.04it/s]\n"
     ]
    }
   ],
   "source": [
    "# first, get the rule for the generated samples \n",
    "count_list = []\n",
    "m_row_list = []\n",
    "m_panel_list = []\n",
    "m_panel_r3_list = []\n",
    "m_panel_r2_list = []\n",
    "m_panel_r1_list = []\n",
    "m_panel_r0_list = []\n",
    "\n",
    "for i_rule in trange(30): \n",
    "\n",
    "    if i_rule<10: \n",
    "        i_attr = 0 \n",
    "    elif i_rule<20 and i_rule>=10:\n",
    "        i_attr = 1\n",
    "    else:\n",
    "        i_attr = 2\n",
    "\n",
    "    x_gen_rule = []\n",
    "    for step in step_list: \n",
    "\n",
    "        generated_samples = attr_gen_file[step]\n",
    "        attr_tsr_list = torch.round(generated_samples).int() # convert attr \n",
    "        attr_gen = einops.rearrange(attr_tsr_list, 'b attr (row h) (p w) -> b row p (h w) attr', row=3, p=3)  # [2048, 3, 3, 9, 3]\n",
    "\n",
    "        for i_sample in range(2048): \n",
    "            groundtruth = rule_file[step]['rule_col'][i_sample]\n",
    "            for i_row in range(3): \n",
    "                r = groundtruth[i_row]\n",
    "                if i_rule in r: \n",
    "                    x_gen_rule.append(attr_gen[i_sample, i_row, :, :, i_attr])\n",
    "\n",
    "    x_gen_rule = np.asarray(x_gen_rule) # (172, 3, 9)\n",
    "    count_list.append(len(x_gen_rule))\n",
    "\n",
    "    x_train = np.load('results/20240907/x_train.npy')[i_rule,:,:,:,:,i_attr].reshape((-1, 3, 9)) # b row p (h w) attr'\n",
    "\n",
    "    m_row, m_panel, m_panel_r3, m_panel_r2, m_panel_r1, m_panel_r0 = get_metrics(x_gen_rule,x_train)\n",
    "\n",
    "    m_row_list.append(m_row)\n",
    "    m_panel_list.append(m_panel)\n",
    "    m_panel_r3_list.append(m_panel_r3)\n",
    "    m_panel_r2_list.append(m_panel_r2)\n",
    "    m_panel_r1_list.append(m_panel_r1)\n",
    "    m_panel_r0_list.append(m_panel_r0)"
   ]
  },
  {
   "cell_type": "code",
   "execution_count": 13,
   "id": "afd3f474",
   "metadata": {},
   "outputs": [],
   "source": [
    "count_list = np.asarray(count_list)\n",
    "m_row_list = np.asarray(m_row_list)\n",
    "m_panel_list = np.asarray(m_panel_list)\n",
    "m_panel_r3_list = np.asarray(m_panel_r3_list)\n",
    "m_panel_r2_list = np.asarray(m_panel_r2_list)\n",
    "m_panel_r1_list = np.asarray(m_panel_r1_list)\n",
    "m_panel_r0_list = np.asarray(m_panel_r0_list)"
   ]
  },
  {
   "cell_type": "code",
   "execution_count": 14,
   "id": "173b0018",
   "metadata": {},
   "outputs": [
    {
     "data": {
      "text/plain": [
       "0.7028453880713817"
      ]
     },
     "execution_count": 14,
     "metadata": {},
     "output_type": "execute_result"
    }
   ],
   "source": [
    "m_panel_list.mean()"
   ]
  },
  {
   "cell_type": "code",
   "execution_count": 15,
   "id": "889ab87f",
   "metadata": {},
   "outputs": [],
   "source": [
    "np.savez(results_dir+'metric_gen', count_list=count_list, \n",
    "m_row_list=m_row_list, m_panel_list=m_panel_list, m_panel_r3_list=m_panel_r3_list, \n",
    "m_panel_r2_list=m_panel_r2_list, m_panel_r1_list=m_panel_r1_list, m_panel_r0_list=m_panel_r0_list)"
   ]
  },
  {
   "cell_type": "code",
   "execution_count": 16,
   "id": "cfa806ff",
   "metadata": {},
   "outputs": [],
   "source": [
    "R_label_list = ['Const', 'Prog-2', 'Prog-1', 'Prog+1', 'Prog+2', 'Arith+', 'Arith-', 'XOR', 'OR', 'AND']\n",
    "a_label_list = ['Shape', 'Size', 'Shade']"
   ]
  },
  {
   "cell_type": "code",
   "execution_count": 17,
   "id": "60c9ad07",
   "metadata": {},
   "outputs": [
    {
     "data": {
      "text/plain": [
       "0.2720304797994378"
      ]
     },
     "execution_count": 17,
     "metadata": {},
     "output_type": "execute_result"
    }
   ],
   "source": [
    "m_panel_r0_list.mean()"
   ]
  },
  {
   "cell_type": "code",
   "execution_count": 20,
   "id": "4ace777d",
   "metadata": {},
   "outputs": [
    {
     "data": {
      "image/png": "[encoded data removed]",
      "text/plain": [
       "<Figure size 1000x300 with 2 Axes>"
      ]
     },
     "metadata": {},
     "output_type": "display_data"
    }
   ],
   "source": [
    "A = m_panel_r0_list.reshape(3, 10)\n",
    "\n",
    "plt.figure(figsize=(10,3))\n",
    "plt.imshow(A, aspect='auto')\n",
    "plt.colorbar()\n",
    "plt.title('frac rows without memorized panels', fontsize=12)\n",
    "plt.xlabel('Abstract Relation', fontsize=12)\n",
    "plt.ylabel('Attributes', fontsize=12)\n",
    "\n",
    "# set xticks label\n",
    "t = plt.xticks(np.arange(10), R_label_list, fontsize=10)\n",
    "t = plt.yticks(np.arange(3), a_label_list, fontsize=10)\n",
    "\n",
    "for i in range(3):\n",
    "    for j in range(10):\n",
    "        i_rule = i*10+j\n",
    "        if i_rule in gen_ind: \n",
    "            plt.text(j, i, f'{A[i, j]:.2f}',ha='center', va='center', color='red', fontsize=10)\n",
    "        else: \n",
    "            plt.text(j, i, f'{A[i, j]:.2f}',ha='center', va='center', color='white', fontsize=10)\n"
   ]
  },
  {
   "cell_type": "code",
   "execution_count": null,
   "id": "fb4ef3c2",
   "metadata": {},
   "outputs": [],
   "source": [
    "m_panel_r1_list.mean()"
   ]
  },
  {
   "cell_type": "code",
   "execution_count": null,
   "id": "e301ac5e",
   "metadata": {},
   "outputs": [],
   "source": [
    "A = m_panel_r1_list.reshape(4, 10)\n",
    "\n",
    "plt.figure(figsize=(10,4))\n",
    "plt.imshow(A, aspect='auto')\n",
    "plt.colorbar()\n",
    "plt.title('frac rows with 1 memorized panels', fontsize=12)\n",
    "plt.xlabel('Abstract Relation', fontsize=12)\n",
    "plt.ylabel('Attributes', fontsize=12)\n",
    "\n",
    "# set xticks label\n",
    "t = plt.xticks(np.arange(10), R_label_list, fontsize=10)\n",
    "t = plt.yticks(np.arange(4), a_label_list, fontsize=10)\n",
    "\n",
    "for i in range(4):\n",
    "    for j in range(10):\n",
    "        i_rule = i*10+j\n",
    "        if i_rule in gen_ind: \n",
    "            plt.text(j, i, f'{A[i, j]:.2f}',ha='center', va='center', color='red', fontsize=10)\n",
    "        else: \n",
    "            plt.text(j, i, f'{A[i, j]:.2f}',ha='center', va='center', color='white', fontsize=10)\n"
   ]
  },
  {
   "cell_type": "code",
   "execution_count": null,
   "id": "b484de29",
   "metadata": {},
   "outputs": [],
   "source": [
    "m_panel_r3_list+m_panel_r2_list+m_panel_r1_list+m_panel_r0_list"
   ]
  },
  {
   "cell_type": "code",
   "execution_count": null,
   "id": "bb23c27d",
   "metadata": {},
   "outputs": [],
   "source": [
    "A = m_panel_r2_list.reshape(4, 10)\n",
    "\n",
    "plt.figure(figsize=(10,4))\n",
    "plt.imshow(A, aspect='auto')\n",
    "plt.colorbar()\n",
    "plt.title('frac rows with 2 memorized panels', fontsize=12)\n",
    "plt.xlabel('Abstract Relation', fontsize=12)\n",
    "plt.ylabel('Attributes', fontsize=12)\n",
    "\n",
    "# set xticks label\n",
    "t = plt.xticks(np.arange(10), R_label_list, fontsize=10)\n",
    "t = plt.yticks(np.arange(4), a_label_list, fontsize=10)\n",
    "\n",
    "for i in range(4):\n",
    "    for j in range(10):\n",
    "        i_rule = i*10+j\n",
    "        if i_rule in gen_ind: \n",
    "            plt.text(j, i, f'{A[i, j]:.2f}',ha='center', va='center', color='red', fontsize=10)\n",
    "        else: \n",
    "            plt.text(j, i, f'{A[i, j]:.2f}',ha='center', va='center', color='white', fontsize=10)\n"
   ]
  },
  {
   "cell_type": "code",
   "execution_count": null,
   "id": "245ed9b4",
   "metadata": {},
   "outputs": [],
   "source": [
    "m_panel_r3_list.mean()"
   ]
  },
  {
   "cell_type": "code",
   "execution_count": null,
   "id": "66546a4f",
   "metadata": {},
   "outputs": [],
   "source": [
    "A = m_panel_r3_list.reshape(4, 10)\n",
    "\n",
    "plt.figure(figsize=(10,4))\n",
    "plt.imshow(A, aspect='auto')\n",
    "plt.colorbar()\n",
    "plt.title('frac rows with 3 memorized panels', fontsize=12)\n",
    "plt.xlabel('Abstract Relation', fontsize=12)\n",
    "plt.ylabel('Attributes', fontsize=12)\n",
    "\n",
    "# set xticks label\n",
    "t = plt.xticks(np.arange(10), R_label_list, fontsize=10)\n",
    "t = plt.yticks(np.arange(4), a_label_list, fontsize=10)\n",
    "\n",
    "for i in range(4):\n",
    "    for j in range(10):\n",
    "        i_rule = i*10+j\n",
    "        if i_rule in gen_ind: \n",
    "            plt.text(j, i, f'{A[i, j]:.2f}',ha='center', va='center', color='red', fontsize=10)\n",
    "        else: \n",
    "            plt.text(j, i, f'{A[i, j]:.2f}',ha='center', va='center', color='white', fontsize=10)\n"
   ]
  },
  {
   "cell_type": "code",
   "execution_count": null,
   "id": "d8b45ebd",
   "metadata": {},
   "outputs": [],
   "source": [
    "A = m_panel_list.reshape(4, 10)\n",
    "\n",
    "plt.figure(figsize=(10,4))\n",
    "plt.imshow(A, aspect='auto')\n",
    "plt.colorbar()\n",
    "plt.title('frac memorized panel', fontsize=12)\n",
    "plt.xlabel('Abstract Relation', fontsize=12)\n",
    "plt.ylabel('Attributes', fontsize=12)\n",
    "\n",
    "# set xticks label\n",
    "t = plt.xticks(np.arange(10), R_label_list, fontsize=10)\n",
    "t = plt.yticks(np.arange(4), a_label_list, fontsize=10)\n",
    "\n",
    "for i in range(4):\n",
    "    for j in range(10):\n",
    "        i_rule = i*10+j\n",
    "        if i_rule in gen_ind: \n",
    "            plt.text(j, i, f'{A[i, j]:.2f}',ha='center', va='center', color='red', fontsize=10)\n",
    "        else: \n",
    "            plt.text(j, i, f'{A[i, j]:.2f}',ha='center', va='center', color='white', fontsize=10)\n"
   ]
  },
  {
   "cell_type": "code",
   "execution_count": null,
   "id": "cc9907d9",
   "metadata": {},
   "outputs": [],
   "source": [
    "A = m_row_list.reshape(4, 10)\n",
    "\n",
    "plt.figure(figsize=(10,4))\n",
    "plt.imshow(A, aspect='auto')\n",
    "plt.colorbar()\n",
    "plt.title('frac memorized rows', fontsize=12)\n",
    "plt.xlabel('Abstract Relation', fontsize=12)\n",
    "plt.ylabel('Attributes', fontsize=12)\n",
    "\n",
    "# set xticks label\n",
    "t = plt.xticks(np.arange(10), R_label_list, fontsize=10)\n",
    "t = plt.yticks(np.arange(4), a_label_list, fontsize=10)\n",
    "\n",
    "for i in range(4):\n",
    "    for j in range(10):\n",
    "        i_rule = i*10+j\n",
    "        if i_rule in gen_ind: \n",
    "            plt.text(j, i, f'{A[i, j]:.3f}',ha='center', va='center', color='red', fontsize=10)\n",
    "        else: \n",
    "            plt.text(j, i, f'{A[i, j]:.3f}',ha='center', va='center', color='white', fontsize=10)\n"
   ]
  },
  {
   "cell_type": "code",
   "execution_count": null,
   "id": "e594a844",
   "metadata": {},
   "outputs": [],
   "source": [
    "A = count_list.reshape(4, 10)\n",
    "\n",
    "plt.figure(figsize=(10,4))\n",
    "plt.imshow(A, aspect='auto')\n",
    "plt.colorbar()\n",
    "plt.title('total# generated rows', fontsize=12)\n",
    "plt.xlabel('Abstract Relation', fontsize=12)\n",
    "plt.ylabel('Attributes', fontsize=12)\n",
    "\n",
    "# set xticks label\n",
    "t = plt.xticks(np.arange(10), R_label_list, fontsize=10)\n",
    "t = plt.yticks(np.arange(4), a_label_list, fontsize=10)\n",
    "\n",
    "for i in range(4):\n",
    "    for j in range(10):\n",
    "        i_rule = i*10+j\n",
    "        if i_rule in gen_ind: \n",
    "            plt.text(j, i, f'{A[i, j]:.0f}',ha='center', va='center', color='red', fontsize=10)\n",
    "        else: \n",
    "            plt.text(j, i, f'{A[i, j]:.0f}',ha='center', va='center', color='white', fontsize=10)\n"
   ]
  },
  {
   "cell_type": "code",
   "execution_count": null,
   "metadata": {},
   "outputs": [],
   "source": []
  }
 ],
 "metadata": {
  "kernelspec": {
   "display_name": "Python 3 (ipykernel)",
   "language": "python",
   "name": "python3"
  },
  "language_info": {
   "codemirror_mode": {
    "name": "ipython",
    "version": 3
   },
   "file_extension": ".py",
   "mimetype": "text/x-python",
   "name": "python",
   "nbconvert_exporter": "python",
   "pygments_lexer": "ipython3",
   "version": "3.9.19"
  }
 },
 "nbformat": 4,
 "nbformat_minor": 5
}
