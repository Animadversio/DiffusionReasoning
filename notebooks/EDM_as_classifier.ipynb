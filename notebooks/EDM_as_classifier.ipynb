{
 "cells": [
  {
   "cell_type": "code",
   "execution_count": 1,
   "metadata": {},
   "outputs": [],
   "source": [
    "%load_ext autoreload\n",
    "%autoreload 2\n",
    "\n",
    "import sys\n",
    "sys.path.append(\"/n/home12/binxuwang/Github/mini_edm\")\n",
    "sys.path.append(\"/n/home12/binxuwang/Github/DiffusionReasoning\")\n",
    "sys.path.append(\"/n/home12/binxuwang/Github/DiT\")"
   ]
  },
  {
   "cell_type": "code",
   "execution_count": 2,
   "metadata": {},
   "outputs": [],
   "source": [
    "import os\n",
    "from os.path import join\n",
    "import pickle as pkl\n",
    "import torch\n",
    "import torch as th\n",
    "from tqdm import tqdm\n",
    "import numpy as np\n",
    "import seaborn as sns\n",
    "import einops\n",
    "import matplotlib.pyplot as plt\n",
    "from easydict import EasyDict as edict\n",
    "import matplotlib.pyplot as plt \n",
    "%matplotlib inline\n",
    "plt.rcParams['figure.dpi'] = 72\n",
    "plt.rcParams['figure.figsize'] = [6.0, 4.0]\n",
    "plt.rcParams['figure.edgecolor'] = (1, 1, 1, 0)\n",
    "plt.rcParams['figure.facecolor'] = (1, 1, 1, 0)\n",
    "# vector graphics type\n",
    "plt.rcParams['pdf.fonttype'] = 42\n",
    "plt.rcParams['ps.fonttype'] = 42"
   ]
  },
  {
   "cell_type": "code",
   "execution_count": 3,
   "metadata": {},
   "outputs": [],
   "source": [
    "from train_edm import create_model, edm_sampler, EDM\n",
    "from edm_utils import edm_sampler_inpaint, create_edm, get_default_config, create_edm_new\n",
    "from rule_utils import get_rule_img, get_obj_list, get_rule_list\n",
    "from rule_utils import check_consistent\n",
    "from dataset_utils import train_data2attr_tsr,load_raw_data,load_PGM_abstract\n",
    "from tqdm import tqdm\n",
    "from collections import defaultdict"
   ]
  },
  {
   "cell_type": "code",
   "execution_count": 4,
   "metadata": {},
   "outputs": [
    {
     "name": "stderr",
     "output_type": "stream",
     "text": [
      "/n/home12/binxuwang/Github/circuit_toolkit/circuit_toolkit/GAN_invert_utils.py:2: TqdmExperimentalWarning: Using `tqdm.autonotebook.tqdm` in notebook mode. Use `tqdm.tqdm` instead to force console mode (e.g. in jupyter console)\n",
      "  from tqdm.autonotebook import trange, tqdm\n"
     ]
    },
    {
     "name": "stdout",
     "output_type": "stream",
     "text": [
      "/n/home12/binxuwang/Github/circuit_toolkit/circuit_toolkit/__init__.py\n"
     ]
    }
   ],
   "source": [
    "import circuit_toolkit\n",
    "print(circuit_toolkit.__file__)\n",
    "from circuit_toolkit.layer_hook_utils import print_specific_layer, get_module_name_shapes, featureFetcher_module"
   ]
  },
  {
   "cell_type": "code",
   "execution_count": 5,
   "metadata": {},
   "outputs": [],
   "source": [
    "from rule_new_utils import check_r3_r2_batch\n",
    "\n",
    "def infer_rule_from_sample_batch(sample_batch):\n",
    "    # if not int convert to int\n",
    "    sample_batch = sample_batch.round().int()\n",
    "    sample_batch = sample_batch.view(-1, 3, 3, 3, 9) \n",
    "    sample_batch = einops.rearrange(sample_batch, \n",
    "        \"B attr row h (panel w) -> B row panel (h w) attr\", \n",
    "        panel=3, w=3, h=3, attr=3)\n",
    "    r3_list, r2_list, rule_col = check_r3_r2_batch(sample_batch)\n",
    "    return r3_list, r2_list, rule_col"
   ]
  },
  {
   "cell_type": "code",
   "execution_count": 6,
   "metadata": {},
   "outputs": [
    {
     "name": "stdout",
     "output_type": "stream",
     "text": [
      "/n/holylfs06/LABS/kempner_fellow_binxuwang/Users/binxuwang/DL_Projects/mini_edm/exps\n"
     ]
    }
   ],
   "source": [
    "!cd $STORE_DIR/DL_Projects/mini_edm/exps;pwd"
   ]
  },
  {
   "cell_type": "code",
   "execution_count": 49,
   "metadata": {},
   "outputs": [],
   "source": [
    "exproot = r\"/n/holylfs06/LABS/kempner_fellow_binxuwang/Users/binxuwang/DL_Projects/mini_edm/exps\""
   ]
  },
  {
   "cell_type": "code",
   "execution_count": 8,
   "metadata": {},
   "outputs": [
    {
     "name": "stdout",
     "output_type": "stream",
     "text": [
      "BaseBlnr_RAVEN10_abstract_20240212-2142\n",
      "BaseBlnr_RAVEN10_abstract_onehot_20240212-2143\n",
      "BaseBlnrX3_new_RAVEN10_abstract_20240313-1736\n",
      "BaseBlnrX3_new_RAVEN10_abstract_onehot_20240313-1736\n",
      "base_cifar10_20240130-2317\n",
      "base_cifar10_20240130-2318\n",
      "base_gabor_prime_20240130-2251\n",
      "base_gabor_sf_20240130-2306\n",
      "base_mnist_20240129-1342\n",
      "base_mnist_20240129-1406\n",
      "base_mnist_20240130-2207\n",
      "base_RAVEN10_20240131-2049\n",
      "base_RAVEN10_abstract_20240201-0036\n",
      "Base_RAVEN10_abstract_20240212-2139\n",
      "base_RAVEN10_abstract_onehot_20240201-0147\n",
      "Base_RAVEN10_abstract_onehot_20240212-2140\n",
      "BBigBlnrX3_new_RAVEN10_abstract_20240313-1809\n",
      "BBigBlnrX3_new_RAVEN10_abstract_onehot_20240313-1810\n",
      "BBigBlnrX3_new_RAVEN10_abstract_onehot_20240314-0112\n",
      "BBigBlnrX3_RAVEN10_abstract_20240305-2341\n",
      "BigBlnrlrsm_RAVEN10_abstract_onehot_20240209-1411\n",
      "BigBlnr_RAVEN10_abstract_20240208-1709\n",
      "BigBlnr_RAVEN10_abstract_onehot_20240209-0208\n",
      "BigBlnrX3_new_RAVEN10_abstract_20240313-1753\n",
      "BigBlnrX3_new_RAVEN10_abstract_20240315-1328\n",
      "BigBlnrX3_new_RAVEN10_abstract_20240412-0143\n",
      "BigBlnrX3_new_RAVEN10_abstract_onehot_20240313-1754\n",
      "BigBlnrX3_new_RAVEN10_abstract_onehot_20240315-1328\n",
      "BigBlnrX3_new_RAVEN10_abstract_onehot_20240412-0143\n",
      "BigBlnrX3_RAVEN10_abstract_20240305-2338\n",
      "Big_RAVEN10_abstract_20240207-1925\n",
      "Big_RAVEN10_abstract_onehot_20240207-1925\n",
      "WideBlnr_RAVEN10_abstract_20240211-1747\n",
      "WideBlnr_RAVEN10_abstract_onehot_20240211-1743\n",
      "WideBlnrX3_new_noattn_RAVEN10_abstract_20240412-1254\n",
      "WideBlnrX3_new_RAVEN10_abstract_20240313-1737\n",
      "WideBlnrX3_new_RAVEN10_abstract_20240315-1327\n",
      "WideBlnrX3_new_RAVEN10_abstract_20240412-0143\n",
      "WideBlnrX3_new_RAVEN10_abstract_20240412-1347\n",
      "WideBlnrX3_new_RAVEN10_abstract_onehot_20240313-1737\n",
      "WideBlnrX3_new_RAVEN10_abstract_onehot_20240315-1328\n",
      "WideBlnrX3_RAVEN10_abstract_20240305-2336\n",
      "Wide_RAVEN10_abstract_20240206-2323\n",
      "Wide_RAVEN10_abstract_onehot_20240206-2324\n"
     ]
    }
   ],
   "source": [
    "!ls {exprooot}"
   ]
  },
  {
   "cell_type": "code",
   "execution_count": 62,
   "metadata": {},
   "outputs": [
    {
     "data": {
      "text/plain": [
       "'/n/holylfs06/LABS/kempner_fellow_binxuwang/Users/binxuwang/DL_Projects/mini_edm/exps/WideBlnrX3_new_RAVEN10_abstract_20240315-1327/checkpoints'"
      ]
     },
     "execution_count": 62,
     "metadata": {},
     "output_type": "execute_result"
    },
    {
     "ename": "",
     "evalue": "",
     "output_type": "error",
     "traceback": [
      "\u001b[1;31mThe Kernel crashed while executing code in the current cell or a previous cell. \n",
      "\u001b[1;31mPlease review the code in the cell(s) to identify a possible cause of the failure. \n",
      "\u001b[1;31mClick <a href='https://aka.ms/vscodeJupyterKernelCrash'>here</a> for more info. \n",
      "\u001b[1;31mView Jupyter <a href='command:jupyter.viewOutput'>log</a> for further details."
     ]
    }
   ],
   "source": [
    "ckptdir"
   ]
  },
  {
   "cell_type": "code",
   "execution_count": 61,
   "metadata": {},
   "outputs": [
    {
     "name": "stdout",
     "output_type": "stream",
     "text": [
      "ema_100000.pth\tema_220000.pth\tema_360000.pth\tema_480000.pth\tema_60000.pth\n",
      "ema_120000.pth\tema_240000.pth\tema_380000.pth\tema_500000.pth\tema_620000.pth\n",
      "ema_140000.pth\tema_260000.pth\tema_400000.pth\tema_520000.pth\tema_640000.pth\n",
      "ema_160000.pth\tema_280000.pth\tema_40000.pth\tema_540000.pth\tema_660000.pth\n",
      "ema_180000.pth\tema_300000.pth\tema_420000.pth\tema_560000.pth\tema_680000.pth\n",
      "ema_200000.pth\tema_320000.pth\tema_440000.pth\tema_580000.pth\tema_700000.pth\n",
      "ema_20000.pth\tema_340000.pth\tema_460000.pth\tema_600000.pth\tema_80000.pth\n"
     ]
    }
   ],
   "source": [
    "!ls {ckptdir}"
   ]
  },
  {
   "cell_type": "code",
   "execution_count": 47,
   "metadata": {},
   "outputs": [],
   "source": [
    "DATASET=\"RAVEN10_abstract\"\n",
    "# --layers_per_block 2 --model_channels 128 --channel_mult 1 2 4 --attn_resolutions 9 3 --train_batch_size 256 --spatial_matching bilinear\n",
    "config_ft = get_default_config(DATASET, layers_per_block=2, \n",
    "                               model_channels=128, \n",
    "                               channel_mult=[1, 2, 4], \n",
    "                               attn_resolutions=[9, 3], \n",
    "                               spatial_matching=\"bilinear\")\n",
    "device = \"cuda\""
   ]
  },
  {
   "cell_type": "code",
   "execution_count": 11,
   "metadata": {},
   "outputs": [],
   "source": [
    "Xmean = torch.tensor([1.5, 2.5, 2.5]).view(1, 3, 1, 1).to(device)\n",
    "Xstd = torch.tensor([2.5, 3.5, 3.5]).view(1, 3, 1, 1).to(device)\n",
    "dataset_Xmean = th.tensor([1.5, 2.5, 2.5]).view(1, 3, 1, 1).to(device)\n",
    "dataset_Xstd = th.tensor([2.5, 3.5, 3.5]).view(1, 3, 1, 1).to(device)"
   ]
  },
  {
   "cell_type": "code",
   "execution_count": 48,
   "metadata": {},
   "outputs": [
    {
     "name": "stdout",
     "output_type": "stream",
     "text": [
      "FeatureFetcher hooks all freed\n"
     ]
    }
   ],
   "source": [
    "epoch = 700000\n",
    "expname = \"WideBlnrX3_new_RAVEN10_abstract_20240315-1327\"\n",
    "expdir = join(exproot, expname)\n",
    "ckptdir = join(expdir, \"checkpoints\")\n",
    "repr_expdir = join(expdir, \"repr_classifier\")\n",
    "os.makedirs(repr_expdir, exist_ok=True)\n",
    "edm, model_EDM = create_edm_new(ckptdir + f\"/ema_{epoch}.pth\", config_ft, device) "
   ]
  },
  {
   "cell_type": "markdown",
   "metadata": {},
   "source": [
    "### Test sampling and accuracy"
   ]
  },
  {
   "cell_type": "code",
   "execution_count": 13,
   "metadata": {},
   "outputs": [],
   "source": [
    "latents = torch.randn(1024, 3, 9, 9).to(device)\n",
    "samples = edm_sampler(edm, latents, num_steps=40)\n",
    "samples = samples * Xstd + Xmean"
   ]
  },
  {
   "cell_type": "code",
   "execution_count": 14,
   "metadata": {},
   "outputs": [],
   "source": [
    "r3_list, r2_list, rule_col = infer_rule_from_sample_batch(samples.cpu())"
   ]
  },
  {
   "cell_type": "code",
   "execution_count": 15,
   "metadata": {},
   "outputs": [
    {
     "data": {
      "text/plain": [
       "(451, 217, 1024)"
      ]
     },
     "execution_count": 15,
     "metadata": {},
     "output_type": "execute_result"
    }
   ],
   "source": [
    "sum([len(r3)>0 for r3 in r3_list]), sum([len(r2)>0 for r2 in r2_list]), len(rule_col)"
   ]
  },
  {
   "cell_type": "code",
   "execution_count": 16,
   "metadata": {},
   "outputs": [
    {
     "data": {
      "text/plain": [
       "0.7112630208333334"
      ]
     },
     "execution_count": 16,
     "metadata": {},
     "output_type": "execute_result"
    }
   ],
   "source": [
    "np.mean([len(rl)>0 for rl in sum(rule_col,[])])"
   ]
  },
  {
   "cell_type": "markdown",
   "metadata": {},
   "source": [
    "### Training data"
   ]
  },
  {
   "cell_type": "code",
   "execution_count": 17,
   "metadata": {},
   "outputs": [],
   "source": [
    "train_attrs = np.load(\"/n/home12/binxuwang/Github/DiffusionReasoning/attr_all.npy\")\n",
    "train_attrs = th.from_numpy(train_attrs).to(int)\n",
    "train_row_img = einops.rearrange(train_attrs, 'c s pnl (H W) att -> c s att H (pnl W)', H=3, W=3, att=3, pnl=3)\n",
    "train_sample_img = einops.rearrange(train_row_img, 'c (S R) att H W -> c S att (R H) W', R=3,att=3, H=3, W=9)\n",
    "labels_tsr = torch.arange(len(train_sample_img)).to(int).view(-1,1).repeat(1, train_sample_img.shape[1])"
   ]
  },
  {
   "cell_type": "code",
   "execution_count": 18,
   "metadata": {},
   "outputs": [
    {
     "name": "stdout",
     "output_type": "stream",
     "text": [
      "tensor([[[ 5,  5,  5,  5,  5, -1,  5, -1,  5],\n",
      "         [ 5,  5,  5, -1, -1,  5,  5,  5,  5],\n",
      "         [ 5,  5,  5,  5, -1, -1, -1,  5,  5],\n",
      "         [-1,  6,  6,  6, -1, -1,  6,  6,  6],\n",
      "         [-1, -1, -1, -1,  6,  6,  6,  6,  6],\n",
      "         [-1,  6,  6,  6,  6, -1, -1,  6,  6],\n",
      "         [ 2, -1,  2,  2,  2,  2, -1, -1,  2],\n",
      "         [ 2,  2, -1,  2, -1, -1, -1, -1, -1],\n",
      "         [ 2,  2,  2, -1,  2,  2,  2,  2, -1]],\n",
      "\n",
      "        [[ 4,  4,  4,  2,  2, -1,  9, -1,  9],\n",
      "         [ 4,  4,  4, -1, -1,  2,  9,  9,  9],\n",
      "         [ 4,  4,  4,  2, -1, -1, -1,  9,  9],\n",
      "         [-1,  5,  1,  5, -1, -1,  7,  1,  5],\n",
      "         [-1, -1, -1, -1,  0,  1,  7,  4,  0],\n",
      "         [-1,  3,  1,  8,  2, -1, -1,  7,  6],\n",
      "         [ 5, -1,  5,  3,  3,  3, -1, -1,  6],\n",
      "         [ 5,  5, -1,  3, -1, -1, -1, -1, -1],\n",
      "         [ 5,  5,  5, -1,  3,  3,  6,  6, -1]],\n",
      "\n",
      "        [[ 4,  8,  4,  5,  0, -1,  6, -1,  4],\n",
      "         [ 0,  5,  4, -1, -1,  1,  2,  5,  8],\n",
      "         [ 7,  3,  1,  2, -1, -1, -1,  8,  2],\n",
      "         [-1,  9,  9,  7, -1, -1,  3,  3,  3],\n",
      "         [-1, -1, -1, -1,  7,  7,  3,  3,  3],\n",
      "         [-1,  9,  9,  7,  7, -1, -1,  3,  3],\n",
      "         [ 7, -1,  7,  6,  6,  6, -1, -1,  4],\n",
      "         [ 7,  7, -1,  6, -1, -1, -1, -1, -1],\n",
      "         [ 7,  7,  7, -1,  6,  6,  4,  4, -1]]])\n"
     ]
    }
   ],
   "source": [
    "print(train_sample_img[0,0])"
   ]
  },
  {
   "cell_type": "code",
   "execution_count": 19,
   "metadata": {},
   "outputs": [
    {
     "name": "stdout",
     "output_type": "stream",
     "text": [
      "torch.Size([120000, 3, 9, 9]) torch.Size([120000])\n"
     ]
    }
   ],
   "source": [
    "import torch\n",
    "from torch.utils.data import Dataset, DataLoader, TensorDataset\n",
    "X_train = train_sample_img[:, :3000]\n",
    "y_train = labels_tsr[:, :3000]\n",
    "X_test = train_sample_img[:, 3000:]\n",
    "y_test = labels_tsr[:, 3000:]\n",
    "X_train = X_train.reshape(-1, 3, 9, 9)\n",
    "y_train = y_train.reshape(-1)\n",
    "X_test = X_test.reshape(-1, 3, 9, 9)\n",
    "y_test = y_test.reshape(-1)\n",
    "print(X_train.shape, y_train.shape)\n",
    "train_dataset = TensorDataset(X_train, y_train)\n",
    "test_dataset = TensorDataset(X_test, y_test)"
   ]
  },
  {
   "cell_type": "markdown",
   "metadata": {},
   "source": [
    "### Hook model and retrieve feature"
   ]
  },
  {
   "cell_type": "code",
   "execution_count": 50,
   "metadata": {},
   "outputs": [
    {
     "name": "stdout",
     "output_type": "stream",
     "text": [
      "------------------------------------------------------------------------------------------------------------------------------------------------------\n",
      "      Layer Id                                           inshape                    outshape                            Type   Module Path                      \n",
      "======================================================================================================================================================\n",
      "        0                                             (2, 3, 9, 9)                (2, 3, 9, 9)                         [Input]   Image                            \n",
      "        1                                                   [(2,)]                    (2, 128)           [PositionalEmbedding]   .map_noise                       \n",
      "        2                                               [(2, 128)]                    (2, 512)                        [Linear]   .map_layer0                      \n",
      "        3                                               [(2, 512)]                    (2, 512)                        [Linear]   .map_layer1                      \n",
      "        4                                           [(2, 3, 9, 9)]              (2, 128, 9, 9)                        [Conv2d]   .enc.9x9_conv                    \n",
      "        5                               [(2, 128, 9, 9), (2, 512)]              (2, 128, 9, 9)                     [UNetBlock]   .enc.9x9_block0                  \n",
      "        6                               [(2, 128, 9, 9), (2, 512)]              (2, 128, 9, 9)                     [UNetBlock]   .enc.9x9_block1                  \n",
      "        7                               [(2, 128, 9, 9), (2, 512)]              (2, 128, 3, 3)                     [UNetBlock]   .enc.3x3_down                    \n",
      "        8                               [(2, 128, 3, 3), (2, 512)]              (2, 256, 3, 3)                     [UNetBlock]   .enc.3x3_block0                  \n",
      "        9                               [(2, 256, 3, 3), (2, 512)]              (2, 256, 3, 3)                     [UNetBlock]   .enc.3x3_block1                  \n",
      "        10                              [(2, 256, 3, 3), (2, 512)]              (2, 256, 1, 1)                     [UNetBlock]   .enc.1x1_down                    \n",
      "        11                              [(2, 256, 1, 1), (2, 512)]              (2, 512, 1, 1)                     [UNetBlock]   .enc.1x1_block0                  \n",
      "        12                              [(2, 512, 1, 1), (2, 512)]              (2, 512, 1, 1)                     [UNetBlock]   .enc.1x1_block1                  \n",
      "        13                              [(2, 512, 1, 1), (2, 512)]              (2, 512, 1, 1)                     [UNetBlock]   .dec.1x1_in0                     \n",
      "        14                              [(2, 512, 1, 1), (2, 512)]              (2, 512, 1, 1)                     [UNetBlock]   .dec.1x1_in1                     \n",
      "        15                             [(2, 1024, 1, 1), (2, 512)]              (2, 512, 1, 1)                     [UNetBlock]   .dec.1x1_block0                  \n",
      "        16                             [(2, 1024, 1, 1), (2, 512)]              (2, 512, 1, 1)                     [UNetBlock]   .dec.1x1_block1                  \n",
      "        17                              [(2, 768, 1, 1), (2, 512)]              (2, 512, 1, 1)                     [UNetBlock]   .dec.1x1_block2                  \n",
      "        18                              [(2, 512, 1, 1), (2, 512)]              (2, 512, 1, 1)                     [UNetBlock]   .dec.3x3_up                      \n",
      "        19                              [(2, 768, 3, 3), (2, 512)]              (2, 256, 3, 3)                     [UNetBlock]   .dec.3x3_block0                  \n",
      "        20                              [(2, 512, 3, 3), (2, 512)]              (2, 256, 3, 3)                     [UNetBlock]   .dec.3x3_block1                  \n",
      "        21                              [(2, 384, 3, 3), (2, 512)]              (2, 256, 3, 3)                     [UNetBlock]   .dec.3x3_block2                  \n",
      "        22                              [(2, 256, 3, 3), (2, 512)]              (2, 256, 7, 7)                     [UNetBlock]   .dec.9x9_up                      \n",
      "        23                              [(2, 384, 9, 9), (2, 512)]              (2, 128, 9, 9)                     [UNetBlock]   .dec.9x9_block0                  \n",
      "        24                              [(2, 256, 9, 9), (2, 512)]              (2, 128, 9, 9)                     [UNetBlock]   .dec.9x9_block1                  \n",
      "        25                              [(2, 256, 9, 9), (2, 512)]              (2, 128, 9, 9)                     [UNetBlock]   .dec.9x9_block2                  \n",
      "        26                                        [(2, 128, 9, 9)]              (2, 128, 9, 9)                     [GroupNorm]   .dec.9x9_aux_norm                \n",
      "        27                                        [(2, 128, 9, 9)]                (2, 3, 9, 9)                        [Conv2d]   .dec.9x9_aux_conv                \n",
      "        28                                    [(2, 3, 9, 9), (2,)]                (2, 3, 9, 9)                      [SongUNet]   .                                \n"
     ]
    }
   ],
   "source": [
    "get_module_name_shapes(model_EDM, inputs_list=[th.randn(2, 3, 9, 9).to(device), th.rand(2, ).to(device), None], deepest=3);"
   ]
  },
  {
   "cell_type": "code",
   "execution_count": 51,
   "metadata": {},
   "outputs": [
    {
     "data": {
      "text/plain": [
       "['9x9_conv',\n",
       " '9x9_block0',\n",
       " '9x9_block1',\n",
       " '3x3_down',\n",
       " '3x3_block0',\n",
       " '3x3_block1',\n",
       " '1x1_down',\n",
       " '1x1_block0',\n",
       " '1x1_block1']"
      ]
     },
     "execution_count": 51,
     "metadata": {},
     "output_type": "execute_result"
    }
   ],
   "source": [
    "list(model_EDM.enc)"
   ]
  },
  {
   "cell_type": "code",
   "execution_count": 52,
   "metadata": {},
   "outputs": [
    {
     "data": {
      "text/plain": [
       "['1x1_in0',\n",
       " '1x1_in1',\n",
       " '1x1_block0',\n",
       " '1x1_block1',\n",
       " '1x1_block2',\n",
       " '3x3_up',\n",
       " '3x3_block0',\n",
       " '3x3_block1',\n",
       " '3x3_block2',\n",
       " '9x9_up',\n",
       " '9x9_block0',\n",
       " '9x9_block1',\n",
       " '9x9_block2',\n",
       " '9x9_aux_norm',\n",
       " '9x9_aux_conv']"
      ]
     },
     "execution_count": 52,
     "metadata": {},
     "output_type": "execute_result"
    }
   ],
   "source": [
    "list(model_EDM.dec)"
   ]
  },
  {
   "cell_type": "code",
   "execution_count": 59,
   "metadata": {},
   "outputs": [],
   "source": [
    "fetcher = featureFetcher_module()\n",
    "for blockname in list(model_EDM.enc):\n",
    "    fetcher.record_module(model_EDM.enc[blockname], target_name=f\"enc.{blockname}\")\n",
    "for blockname in list(model_EDM.dec):\n",
    "    fetcher.record_module(model_EDM.dec[blockname], target_name=f\"dec.{blockname}\")\n",
    "# fetcher.record_module(model.blocks[11], target_name=\"blocks.11\")\n",
    "# for i in range(12):\n",
    "#     fetcher.record_module(model.blocks[i], target_name=f\"blocks.{i}\")\n",
    "# fetcher.record_module(model.enc[\"9x9_conv\"], target_name=\"enc.9x9_conv\",)\n",
    "# fetcher.record_module(model.enc[\"9x9_block0\"], target_name=\"enc.9x9_block0\",)\n",
    "# fetcher.record_module(model.enc[\"9x9_block1\"], target_name=\"enc.9x9_block1\",)\n",
    "# fetcher.record_module(model.enc[\"3x3_down\"], target_name=\"enc.3x3_down\",)\n",
    "# fetcher.record_module(model.enc[\"3x3_block0\"], target_name=\"enc.3x3_block0\",)\n",
    "# fetcher.record_module(model.enc[\"3x3_block1\"], target_name=\"enc.3x3_block1\",)\n",
    "# fetcher.record_module(model.enc[\"1x1_down\"], target_name=\"enc.1x1_down\",)\n",
    "# fetcher.record_module(model.enc[\"1x1_block0\"], target_name=\"enc.1x1_block0\",)\n",
    "# fetcher.record_module(model.enc[\"1x1_block1\"], target_name=\"enc.1x1_block1\",)\n",
    "# fetcher.record_module(model.dec[\"1x1_in0\"], target_name=\"dec.1x1_in0\",)\n",
    "# fetcher.record_module(model.dec[\"1x1_in1\"], target_name=\"dec.1x1_in1\",)\n",
    "# fetcher.record_module(model.dec[\"1x1_block0\"], target_name=\"dec.1x1_block0\",)\n",
    "# fetcher.record_module(model.dec[\"1x1_block1\"], target_name=\"dec.1x1_block1\",)\n",
    "# fetcher.record_module(model.dec[\"1x1_block2\"], target_name=\"dec.1x1_block2\",)\n",
    "# fetcher.record_module(model.dec[\"3x3_up\"], target_name=\"dec.3x3_up\",)\n",
    "# fetcher.record_module(model.dec[\"3x3_block0\"], target_name=\"dec.3x3_block0\",)\n",
    "# fetcher.record_module(model.dec[\"3x3_block1\"], target_name=\"dec.3x3_block1\",)\n",
    "# fetcher.record_module(model.dec[\"3x3_block2\"], target_name=\"dec.3x3_block2\",)\n",
    "# fetcher.record_module(model.dec[\"9x9_up\"], target_name=\"dec.9x9_up\",)\n",
    "# fetcher.record_module(model.dec[\"9x9_block0\"], target_name=\"dec.9x9_block0\",)\n",
    "# fetcher.record_module(model.dec[\"9x9_block1\"], target_name=\"dec.9x9_block1\",)\n",
    "# fetcher.record_module(model.dec[\"9x9_block2\"], target_name=\"dec.9x9_block2\",)"
   ]
  },
  {
   "cell_type": "code",
   "execution_count": 24,
   "metadata": {},
   "outputs": [
    {
     "name": "stderr",
     "output_type": "stream",
     "text": [
      "100%|███████████████████████████████████████████████████████████████████████████████████████████████████████████████████████████████████████████████████████████████████| 59/59 [00:43<00:00,  1.37it/s]\n"
     ]
    },
    {
     "name": "stdout",
     "output_type": "stream",
     "text": [
      "enc.9x9_conv torch.Size([120000, 128, 9, 9])\n",
      "enc.9x9_block0 torch.Size([120000, 128, 9, 9])\n",
      "enc.9x9_block1 torch.Size([120000, 128, 9, 9])\n",
      "enc.3x3_down torch.Size([120000, 128, 3, 3])\n",
      "enc.3x3_block0 torch.Size([120000, 256, 3, 3])\n",
      "enc.3x3_block1 torch.Size([120000, 256, 3, 3])\n",
      "enc.1x1_down torch.Size([120000, 256, 1, 1])\n",
      "enc.1x1_block0 torch.Size([120000, 512, 1, 1])\n",
      "enc.1x1_block1 torch.Size([120000, 512, 1, 1])\n",
      "dec.1x1_in0 torch.Size([120000, 512, 1, 1])\n",
      "dec.1x1_in1 torch.Size([120000, 512, 1, 1])\n",
      "dec.1x1_block0 torch.Size([120000, 512, 1, 1])\n",
      "dec.1x1_block1 torch.Size([120000, 512, 1, 1])\n",
      "dec.1x1_block2 torch.Size([120000, 512, 1, 1])\n",
      "dec.3x3_up torch.Size([120000, 512, 1, 1])\n",
      "dec.3x3_block0 torch.Size([120000, 256, 3, 3])\n",
      "dec.3x3_block1 torch.Size([120000, 256, 3, 3])\n",
      "dec.3x3_block2 torch.Size([120000, 256, 3, 3])\n",
      "dec.9x9_up torch.Size([120000, 256, 7, 7])\n",
      "dec.9x9_block0 torch.Size([120000, 128, 9, 9])\n",
      "dec.9x9_block1 torch.Size([120000, 128, 9, 9])\n",
      "dec.9x9_block2 torch.Size([120000, 128, 9, 9])\n"
     ]
    }
   ],
   "source": [
    "# layerkey = \"blocks.11\"\n",
    "# fetcher = featureFetcher_module()\n",
    "# for i in [0,2,5,8,11]: #range(12):\n",
    "#     fetcher.record_module(model.blocks[i], target_name=f\"blocks.{i}\")\n",
    "    \n",
    "train_loader = DataLoader(train_dataset, batch_size=2048, shuffle=False, drop_last=False)\n",
    "test_loader = DataLoader(test_dataset, batch_size=2048, shuffle=False, drop_last=False)\n",
    "t_scalar = 0.1\n",
    "feature_col = defaultdict(list)\n",
    "for X_batch, y_batch in tqdm(train_loader):\n",
    "    # model_kwargs = dict(y=th.zeros(X_batch.shape[0], dtype=torch.int, device=\"cuda\"))\n",
    "    t_vec = th.ones(X_batch.shape[0], dtype=torch.float, device=\"cuda\") * t_scalar\n",
    "    X_batch_norm = (X_batch.cuda().float() - dataset_Xmean) / dataset_Xstd\n",
    "    with th.no_grad():\n",
    "        model_EDM(X_batch_norm, t_vec, None)\n",
    "    feature_col[\"input\"].append(X_batch.float())\n",
    "    for key, activations in fetcher.activations.items():\n",
    "        feature_col[key].append(activations)\n",
    "for key in feature_col.keys():\n",
    "    feature_col[key] = th.cat(feature_col[key], dim=0)\n",
    "    print(key, feature_col[key].shape)\n",
    "\n",
    "\n",
    "feature_col_test = defaultdict(list)\n",
    "for X_batch, y_batch in tqdm(test_loader):\n",
    "    # model_kwargs = dict(y=th.zeros(X_batch.shape[0], dtype=torch.int, device=\"cuda\"))\n",
    "    t_vec = th.ones(X_batch.shape[0], dtype=torch.float, device=\"cuda\") * t_scalar\n",
    "    X_batch_norm = (X_batch.cuda().float() - dataset_Xmean) / dataset_Xstd\n",
    "    with th.no_grad():\n",
    "        model_EDM.forward(X_batch_norm, t_vec, None)\n",
    "    feature_col_test[\"input\"].append(X_batch.float())\n",
    "    for key, activations in fetcher.activations.items():\n",
    "        feature_col_test[key].append(activations)\n",
    "        \n",
    "for key in feature_col_test.keys():\n",
    "    feature_col_test[key] = th.cat(feature_col_test[key], dim=0)\n",
    "    print(key, feature_col_test[key].shape)\n"
   ]
  },
  {
   "cell_type": "code",
   "execution_count": 25,
   "metadata": {},
   "outputs": [
    {
     "name": "stderr",
     "output_type": "stream",
     "text": [
      "100%|███████████████████████████████████████████████████████████████████████████████████████████████████████████████████████████████████████████████████████████████████| 20/20 [00:11<00:00,  1.73it/s]\n"
     ]
    },
    {
     "name": "stdout",
     "output_type": "stream",
     "text": [
      "enc.9x9_conv torch.Size([40000, 128, 9, 9])\n",
      "enc.9x9_block0 torch.Size([40000, 128, 9, 9])\n",
      "enc.9x9_block1 torch.Size([40000, 128, 9, 9])\n",
      "enc.3x3_down torch.Size([40000, 128, 3, 3])\n",
      "enc.3x3_block0 torch.Size([40000, 256, 3, 3])\n",
      "enc.3x3_block1 torch.Size([40000, 256, 3, 3])\n",
      "enc.1x1_down torch.Size([40000, 256, 1, 1])\n",
      "enc.1x1_block0 torch.Size([40000, 512, 1, 1])\n",
      "enc.1x1_block1 torch.Size([40000, 512, 1, 1])\n",
      "dec.1x1_in0 torch.Size([40000, 512, 1, 1])\n",
      "dec.1x1_in1 torch.Size([40000, 512, 1, 1])\n",
      "dec.1x1_block0 torch.Size([40000, 512, 1, 1])\n",
      "dec.1x1_block1 torch.Size([40000, 512, 1, 1])\n",
      "dec.1x1_block2 torch.Size([40000, 512, 1, 1])\n",
      "dec.3x3_up torch.Size([40000, 512, 1, 1])\n",
      "dec.3x3_block0 torch.Size([40000, 256, 3, 3])\n",
      "dec.3x3_block1 torch.Size([40000, 256, 3, 3])\n",
      "dec.3x3_block2 torch.Size([40000, 256, 3, 3])\n",
      "dec.9x9_up torch.Size([40000, 256, 7, 7])\n",
      "dec.9x9_block0 torch.Size([40000, 128, 9, 9])\n",
      "dec.9x9_block1 torch.Size([40000, 128, 9, 9])\n",
      "dec.9x9_block2 torch.Size([40000, 128, 9, 9])\n"
     ]
    }
   ],
   "source": []
  },
  {
   "cell_type": "code",
   "execution_count": 31,
   "metadata": {},
   "outputs": [],
   "source": [
    "import torch\n",
    "import torch.nn as nn\n",
    "import torch.optim as optim\n",
    "import pandas as pd\n",
    "\n",
    "# Define the linear classifier model\n",
    "class LinearClassifier(nn.Module):\n",
    "    def __init__(self, input_size, num_classes):\n",
    "        super(LinearClassifier, self).__init__()\n",
    "        self.fc = nn.Linear(input_size, num_classes)\n",
    "\n",
    "    def forward(self, x):\n",
    "        x = self.fc(x)\n",
    "        return x\n",
    "\n",
    "\n",
    "# Define the training loop\n",
    "def train_model(model, train_loader, num_epochs, learning_rate, print_every=50,\n",
    "                eval_every=500, eval_func=None):\n",
    "    criterion = nn.CrossEntropyLoss()\n",
    "    optimizer = optim.Adam(model.parameters(), lr=learning_rate)\n",
    "    train_record = []\n",
    "    test_record = []\n",
    "    for epoch in range(num_epochs):\n",
    "        acc_total = 0\n",
    "        cnt_total = 0\n",
    "        for inputs, labels in train_loader:\n",
    "            inputs = inputs.to(\"cuda\")\n",
    "            labels = labels.to(\"cuda\")\n",
    "            optimizer.zero_grad()\n",
    "            outputs = model(inputs)\n",
    "            loss = criterion(outputs, labels)\n",
    "            loss.backward()\n",
    "            optimizer.step()\n",
    "            acc_cnt = (outputs.argmax(dim=1) == labels).sum().item()\n",
    "            acc_total += acc_cnt\n",
    "            cnt_total += len(labels)\n",
    "        accuracy = acc_total / cnt_total\n",
    "        if (epoch + 1) % print_every == 0 or epoch == 0 or epoch == num_epochs - 1:\n",
    "            print(f\"Epoch [{epoch+1}/{num_epochs}], Loss: {loss.item():.4f}, Accuracy: {accuracy:.4f}\")\n",
    "        train_record.append((epoch, loss.item(), accuracy))\n",
    "        if ((epoch + 1) % eval_every == 0 or epoch == num_epochs - 1) and eval_func is not None:\n",
    "            test_acc, _ = eval_func(model)\n",
    "            test_record.append((epoch, test_acc))\n",
    "    train_record = pd.DataFrame(train_record, columns=[\"epoch\", \"loss\", \"accuracy\"])\n",
    "    test_record = pd.DataFrame(test_record, columns=[\"epoch\", \"accuracy\"])\n",
    "    return train_record, test_record\n",
    "\n",
    "\n",
    "def test_model(model, test_loader):\n",
    "    acc_total = 0\n",
    "    cnt_total = 0\n",
    "    for inputs, labels in test_loader:\n",
    "        inputs = inputs.to(\"cuda\")\n",
    "        labels = labels.to(\"cuda\")\n",
    "        with th.no_grad():\n",
    "            outputs = model(inputs)\n",
    "        pred_cls = outputs.argmax(dim=1)\n",
    "        acc_cnt = (pred_cls == labels).sum().item()\n",
    "        acc_total += acc_cnt\n",
    "        cnt_total += len(labels)\n",
    "    accuracy = acc_total / cnt_total\n",
    "    print(f\"Test Accuracy: {accuracy:.4f}\")\n",
    "    return accuracy, pred_cls\n",
    "\n",
    "\n",
    "def fit_SGD_linear_classifier(train_X, train_y, test_X=None, test_y=None, \n",
    "                              num_classes=40, \n",
    "                              batch_size=1024, num_epochs=100, \n",
    "                              learning_rate = 0.001, print_every=100, eval_every=500,):\n",
    "    # Define the linear classifier model\n",
    "    input_size = train_X.shape[1]\n",
    "    model = LinearClassifier(input_size, num_classes).to(\"cuda\")\n",
    "    if batch_size is None:\n",
    "        feat_loader = [(train_X.to(\"cuda\"), train_y.to(\"cuda\"))]\n",
    "    else:\n",
    "        feat_dataset = TensorDataset(train_X.to(\"cuda\"), train_y.to(\"cuda\")) # .to(\"cuda\")\n",
    "        feat_loader = DataLoader(feat_dataset, batch_size=batch_size, shuffle=True,\n",
    "                             drop_last=True) # pin_memory=True, num_workers=\n",
    "    \n",
    "    if test_X is not None and test_y is not None:\n",
    "        if batch_size is None:\n",
    "            test_feat_loader = [(test_X.to(\"cuda\"), test_y.to(\"cuda\"))]\n",
    "        else:\n",
    "            test_dataset = TensorDataset(test_X.to(\"cuda\"), test_y.to(\"cuda\")) # .to(\"cuda\")\n",
    "            test_feat_loader = DataLoader(test_dataset, batch_size=batch_size, shuffle=False)\n",
    "    # Define the training loop\n",
    "    train_record, test_record = train_model(model, feat_loader, num_epochs, learning_rate, print_every=print_every, eval_every=eval_every,\n",
    "                eval_func=lambda model: test_model(model, test_feat_loader) if test_feat_loader is not None else None)\n",
    "    # Define the testing loop\n",
    "    test_acc, pred_cls = test_model(model, test_feat_loader)\n",
    "    results = edict()\n",
    "    results.train_record = train_record\n",
    "    results.test_record = test_record\n",
    "    results.test_acc = test_acc\n",
    "    results.pred_cls = pred_cls\n",
    "    return model, results\n"
   ]
  },
  {
   "cell_type": "code",
   "execution_count": 58,
   "metadata": {},
   "outputs": [
    {
     "data": {
      "text/plain": [
       "[]"
      ]
     },
     "execution_count": 58,
     "metadata": {},
     "output_type": "execute_result"
    }
   ],
   "source": [
    "[*fetcher.activations.keys()]"
   ]
  },
  {
   "cell_type": "code",
   "execution_count": null,
   "metadata": {},
   "outputs": [],
   "source": [
    "'enc.9x9_conv',\n",
    "'enc.3x3_down',\n",
    "'enc.1x1_down',\n",
    "'enc.1x1_block1',\n",
    "'dec.1x1_in1',\n",
    "'dec.1x1_block2',\n",
    "'dec.3x3_up',\n",
    "'dec.3x3_block2',\n",
    "'dec.9x9_up',\n",
    "'dec.9x9_block2'"
   ]
  },
  {
   "cell_type": "code",
   "execution_count": 32,
   "metadata": {},
   "outputs": [],
   "source": []
  },
  {
   "cell_type": "code",
   "execution_count": 42,
   "metadata": {},
   "outputs": [],
   "source": [
    "figdir = r\"/n/home12/binxuwang/Github/DiffusionReasoning/Figures_repr_classify\"\n",
    "repr_expdir = join(expdir, \"repr_classifier\")\n",
    "os.makedirs(repr_expdir, exist_ok=True)"
   ]
  },
  {
   "cell_type": "code",
   "execution_count": 60,
   "metadata": {},
   "outputs": [
    {
     "data": {
      "text/plain": [
       "['enc.9x9_conv',\n",
       " 'enc.9x9_block0',\n",
       " 'enc.9x9_block1',\n",
       " 'enc.3x3_down',\n",
       " 'enc.3x3_block0',\n",
       " 'enc.3x3_block1',\n",
       " 'enc.1x1_down',\n",
       " 'enc.1x1_block0',\n",
       " 'enc.1x1_block1',\n",
       " 'dec.1x1_in0',\n",
       " 'dec.1x1_in1',\n",
       " 'dec.1x1_block0',\n",
       " 'dec.1x1_block1',\n",
       " 'dec.1x1_block2',\n",
       " 'dec.3x3_up',\n",
       " 'dec.3x3_block0',\n",
       " 'dec.3x3_block1',\n",
       " 'dec.3x3_block2',\n",
       " 'dec.9x9_up',\n",
       " 'dec.9x9_block0',\n",
       " 'dec.9x9_block1',\n",
       " 'dec.9x9_block2']"
      ]
     },
     "execution_count": 60,
     "metadata": {},
     "output_type": "execute_result"
    }
   ],
   "source": [
    "list(feature_col)"
   ]
  },
  {
   "cell_type": "code",
   "execution_count": 41,
   "metadata": {},
   "outputs": [
    {
     "name": "stdout",
     "output_type": "stream",
     "text": [
      "torch.Size([120000, 512]) torch.Size([512]) torch.Size([2304, 512])\n",
      "Epoch [1/5000], Loss: 3.8651, Accuracy: 0.0240\n",
      "Epoch [250/5000], Loss: 0.3718, Accuracy: 0.8815\n",
      "Epoch [500/5000], Loss: 0.3188, Accuracy: 0.8932\n",
      "Epoch [750/5000], Loss: 0.2957, Accuracy: 0.8986\n",
      "Epoch [1000/5000], Loss: 0.2819, Accuracy: 0.9021\n",
      "Test Accuracy: 0.8494\n",
      "Epoch [1250/5000], Loss: 0.2725, Accuracy: 0.9046\n",
      "Epoch [1500/5000], Loss: 0.2655, Accuracy: 0.9064\n",
      "Epoch [1750/5000], Loss: 0.2601, Accuracy: 0.9079\n",
      "Epoch [2000/5000], Loss: 0.2558, Accuracy: 0.9092\n",
      "Test Accuracy: 0.8498\n",
      "Epoch [2250/5000], Loss: 0.2522, Accuracy: 0.9102\n",
      "Epoch [2500/5000], Loss: 0.2492, Accuracy: 0.9109\n",
      "Epoch [2750/5000], Loss: 0.2466, Accuracy: 0.9117\n",
      "Epoch [3000/5000], Loss: 0.2444, Accuracy: 0.9124\n",
      "Test Accuracy: 0.8493\n",
      "Epoch [3250/5000], Loss: 0.2425, Accuracy: 0.9130\n",
      "Epoch [3500/5000], Loss: 0.2408, Accuracy: 0.9135\n",
      "Epoch [3750/5000], Loss: 0.2392, Accuracy: 0.9140\n",
      "Epoch [4000/5000], Loss: 0.2378, Accuracy: 0.9142\n",
      "Test Accuracy: 0.8480\n",
      "Epoch [4250/5000], Loss: 0.2366, Accuracy: 0.9146\n",
      "Epoch [4500/5000], Loss: 0.2355, Accuracy: 0.9148\n",
      "Epoch [4750/5000], Loss: 0.2345, Accuracy: 0.9152\n",
      "Epoch [5000/5000], Loss: 0.2336, Accuracy: 0.9155\n",
      "Test Accuracy: 0.8469\n",
      "Test Accuracy: 0.8469\n",
      "Layer dec.3x3_block2 PCA time: 0.58, PCA transform time: 1.30, training time: 31.92\n",
      "torch.Size([120000, 512]) torch.Size([512]) torch.Size([12544, 512])\n",
      "Epoch [1/5000], Loss: 3.8643, Accuracy: 0.0236\n",
      "Epoch [250/5000], Loss: 0.3891, Accuracy: 0.8752\n",
      "Epoch [500/5000], Loss: 0.3400, Accuracy: 0.8858\n",
      "Epoch [750/5000], Loss: 0.3196, Accuracy: 0.8907\n",
      "Epoch [1000/5000], Loss: 0.3078, Accuracy: 0.8935\n",
      "Test Accuracy: 0.8428\n",
      "Epoch [1250/5000], Loss: 0.2999, Accuracy: 0.8956\n",
      "Epoch [1500/5000], Loss: 0.2942, Accuracy: 0.8970\n",
      "Epoch [1750/5000], Loss: 0.2898, Accuracy: 0.8981\n",
      "Epoch [2000/5000], Loss: 0.2863, Accuracy: 0.8988\n",
      "Test Accuracy: 0.8427\n",
      "Epoch [2250/5000], Loss: 0.2834, Accuracy: 0.8996\n",
      "Epoch [2500/5000], Loss: 0.2811, Accuracy: 0.9002\n",
      "Epoch [2750/5000], Loss: 0.2790, Accuracy: 0.9006\n",
      "Epoch [3000/5000], Loss: 0.2773, Accuracy: 0.9011\n",
      "Test Accuracy: 0.8413\n",
      "Epoch [3250/5000], Loss: 0.2758, Accuracy: 0.9016\n",
      "Epoch [3500/5000], Loss: 0.2744, Accuracy: 0.9020\n",
      "Epoch [3750/5000], Loss: 0.2732, Accuracy: 0.9023\n",
      "Epoch [4000/5000], Loss: 0.2722, Accuracy: 0.9026\n",
      "Test Accuracy: 0.8400\n",
      "Epoch [4250/5000], Loss: 0.2712, Accuracy: 0.9029\n",
      "Epoch [4500/5000], Loss: 0.2704, Accuracy: 0.9032\n",
      "Epoch [4750/5000], Loss: 0.2696, Accuracy: 0.9034\n",
      "Epoch [5000/5000], Loss: 0.2689, Accuracy: 0.9035\n",
      "Test Accuracy: 0.8387\n",
      "Test Accuracy: 0.8387\n",
      "Layer dec.9x9_up PCA time: 0.66, PCA transform time: 6.07, training time: 31.95\n",
      "torch.Size([120000, 512]) torch.Size([512]) torch.Size([10368, 512])\n",
      "Epoch [1/5000], Loss: 3.8567, Accuracy: 0.0249\n",
      "Epoch [250/5000], Loss: 1.0053, Accuracy: 0.6939\n",
      "Epoch [500/5000], Loss: 0.8850, Accuracy: 0.7237\n",
      "Epoch [750/5000], Loss: 0.8327, Accuracy: 0.7379\n",
      "Epoch [1000/5000], Loss: 0.8023, Accuracy: 0.7468\n",
      "Test Accuracy: 0.6942\n",
      "Epoch [1250/5000], Loss: 0.7823, Accuracy: 0.7525\n",
      "Epoch [1500/5000], Loss: 0.7681, Accuracy: 0.7564\n",
      "Epoch [1750/5000], Loss: 0.7575, Accuracy: 0.7595\n",
      "Epoch [2000/5000], Loss: 0.7494, Accuracy: 0.7625\n",
      "Test Accuracy: 0.7076\n",
      "Epoch [2250/5000], Loss: 0.7429, Accuracy: 0.7646\n",
      "Epoch [2500/5000], Loss: 0.7378, Accuracy: 0.7663\n",
      "Epoch [2750/5000], Loss: 0.7336, Accuracy: 0.7678\n",
      "Epoch [3000/5000], Loss: 0.7302, Accuracy: 0.7687\n",
      "Test Accuracy: 0.7129\n",
      "Epoch [3250/5000], Loss: 0.7274, Accuracy: 0.7694\n",
      "Epoch [3500/5000], Loss: 0.7251, Accuracy: 0.7702\n",
      "Epoch [3750/5000], Loss: 0.7232, Accuracy: 0.7706\n",
      "Epoch [4000/5000], Loss: 0.7216, Accuracy: 0.7711\n",
      "Test Accuracy: 0.7147\n",
      "Epoch [4250/5000], Loss: 0.7203, Accuracy: 0.7714\n",
      "Epoch [4500/5000], Loss: 0.7193, Accuracy: 0.7718\n",
      "Epoch [4750/5000], Loss: 0.7184, Accuracy: 0.7721\n",
      "Epoch [5000/5000], Loss: 0.7176, Accuracy: 0.7723\n",
      "Test Accuracy: 0.7148\n",
      "Test Accuracy: 0.7148\n",
      "Layer dec.9x9_block2 PCA time: 2.79, PCA transform time: 4.98, training time: 32.01\n"
     ]
    },
    {
     "ename": "NameError",
     "evalue": "name 'figdir' is not defined",
     "output_type": "error",
     "traceback": [
      "\u001b[0;31m---------------------------------------------------------------------------\u001b[0m",
      "\u001b[0;31mNameError\u001b[0m                                 Traceback (most recent call last)",
      "Cell \u001b[0;32mIn[41], line 73\u001b[0m\n\u001b[1;32m     71\u001b[0m sns\u001b[38;5;241m.\u001b[39mlineplot(data\u001b[38;5;241m=\u001b[39msyn_df, markers\u001b[38;5;241m=\u001b[39m\u001b[38;5;28;01mTrue\u001b[39;00m)\n\u001b[1;32m     72\u001b[0m plt\u001b[38;5;241m.\u001b[39mtitle(\u001b[38;5;124mf\u001b[39m\u001b[38;5;124m\"\u001b[39m\u001b[38;5;124mt_scalar: \u001b[39m\u001b[38;5;132;01m{\u001b[39;00mt_scalar\u001b[38;5;132;01m}\u001b[39;00m\u001b[38;5;124m Accuracy\u001b[39m\u001b[38;5;130;01m\\n\u001b[39;00m\u001b[38;5;132;01m{\u001b[39;00mexpname\u001b[38;5;132;01m}\u001b[39;00m\u001b[38;5;130;01m\\n\u001b[39;00m\u001b[38;5;132;01m{\u001b[39;00mckpt_str\u001b[38;5;132;01m}\u001b[39;00m\u001b[38;5;124m PC\u001b[39m\u001b[38;5;132;01m{\u001b[39;00mPC_dim\u001b[38;5;132;01m}\u001b[39;00m\u001b[38;5;124m\"\u001b[39m)\n\u001b[0;32m---> 73\u001b[0m saveallforms([repr_expdir, \u001b[43mfigdir\u001b[49m],\u001b[38;5;124mf\u001b[39m\u001b[38;5;124m\"\u001b[39m\u001b[38;5;124mt\u001b[39m\u001b[38;5;132;01m{\u001b[39;00mt_str\u001b[38;5;132;01m}\u001b[39;00m\u001b[38;5;124m_PC\u001b[39m\u001b[38;5;132;01m{\u001b[39;00mPC_dim\u001b[38;5;132;01m}\u001b[39;00m\u001b[38;5;132;01m{\u001b[39;00mckpt_str\u001b[38;5;132;01m}\u001b[39;00m\u001b[38;5;124m_accuracy.png\u001b[39m\u001b[38;5;124m\"\u001b[39m)\n\u001b[1;32m     74\u001b[0m \u001b[38;5;66;03m# plt.savefig(join(repr_expdir,f\"t{t_str}_PC{PC_dim}{ckpt_str}_accuracy.png\"))\u001b[39;00m\n\u001b[1;32m     75\u001b[0m \u001b[38;5;66;03m# plt.savefig(join(repr_expdir,f\"t{t_str}_PC{PC_dim}{ckpt_str}_accuracy.pdf\"))\u001b[39;00m\n\u001b[1;32m     76\u001b[0m plt\u001b[38;5;241m.\u001b[39mshow()\n",
      "\u001b[0;31mNameError\u001b[0m: name 'figdir' is not defined"
     ]
    },
    {
     "data": {
      "image/png": "[encoded data removed]",
      "text/plain": [
       "<Figure size 432x288 with 1 Axes>"
      ]
     },
     "metadata": {
      "needs_background": "light"
     },
     "output_type": "display_data"
    }
   ],
   "source": [
    "from stats_plot_utils import saveallforms\n",
    "import time\n",
    "PC_dim = 512\n",
    "noPCA = False\n",
    "learning_rate = 0.0005 if noPCA else 0.005\n",
    "t_str = f\"{t_scalar:.2f}\".replace(\".\", \"_\")\n",
    "ckpt_str = f\"_ckpt{epoch}\"\n",
    "model_PCA_col = {}\n",
    "PC_proj_col = {}\n",
    "results_col = {}\n",
    "for layerkey in ['enc.9x9_conv',\n",
    "                'enc.3x3_down',\n",
    "                'enc.1x1_down',\n",
    "                'enc.1x1_block1',\n",
    "                'dec.1x1_in1',\n",
    "                'dec.1x1_block2',\n",
    "                'dec.3x3_up',\n",
    "                'dec.3x3_block2',\n",
    "                'dec.9x9_up',\n",
    "                'dec.9x9_block2', ]: # \n",
    "    t0 = time.time()\n",
    "    featmat = feature_col[layerkey].reshape(len(train_dataset),-1)\n",
    "    featmat_test = feature_col_test[layerkey].reshape(len(test_dataset),-1)\n",
    "    featmean = featmat.mean(dim=0)\n",
    "    featdim = featmat.shape[1]\n",
    "    t1 = time.time()\n",
    "    if noPCA or featdim <= PC_dim:\n",
    "        feat_PCA = (featmat - featmean[None,]).cuda()\n",
    "        feat_PCA_std = feat_PCA.std(dim=0)\n",
    "        feat_PCA = feat_PCA / feat_PCA_std[None,]\n",
    "        feat_PCA_test = (featmat_test - featmean[None,]).cuda() \n",
    "        feat_PCA_test = feat_PCA_test / feat_PCA_std[None,]\n",
    "    else:\n",
    "        U, S, V = torch.pca_lowrank((featmat - featmean[None,]).cuda(), q=PC_dim, center=False, niter=3)\n",
    "        print(U.shape, S.shape, V.shape)\n",
    "        del U, S\n",
    "        torch.cuda.empty_cache()\n",
    "        feat_PCA = (featmat - featmean[None,]).cuda() @ V\n",
    "        feat_PCA_std = feat_PCA.std(dim=0)\n",
    "        feat_PCA = feat_PCA / feat_PCA_std[None,]\n",
    "        feat_PCA_test = (featmat_test - featmean[None,]).cuda() @ V\n",
    "        feat_PCA_test = feat_PCA_test / feat_PCA_std[None,]\n",
    "        torch.cuda.empty_cache()\n",
    "        V = V.cpu()\n",
    "    t2 = time.time()\n",
    "    model, results_dict = fit_SGD_linear_classifier(feat_PCA, y_train, feat_PCA_test, y_test,\n",
    "                                    num_classes=40, batch_size=None, num_epochs=5000, print_every=250, \n",
    "                                    eval_every=1000, learning_rate=learning_rate)\n",
    "    t3 = time.time()\n",
    "    print(f\"Layer {layerkey} PCA time: {t1-t0:.2f}, PCA transform time: {t2-t1:.2f}, training time: {t3-t2:.2f}\")\n",
    "    model_PCA_col[layerkey] = model\n",
    "    if noPCA:\n",
    "        PC_proj_col[layerkey] = (None, featmean.cpu(), feat_PCA_std.cpu())\n",
    "    else:\n",
    "        PC_proj_col[layerkey] = (V.cpu(), featmean.cpu(), feat_PCA_std.cpu())\n",
    "    results_col[layerkey] = results_dict\n",
    "    del feat_PCA, feat_PCA_test\n",
    "    th.cuda.empty_cache()\n",
    "    \n",
    "pkl.dump(results_col, open(join(repr_expdir,f\"results_col_t{t_str}_PC{PC_dim}{ckpt_str}.pkl\"), \"wb\"))\n",
    "pkl.dump(PC_proj_col, open(join(repr_expdir,f\"PC_proj_col_t{t_str}_PC{PC_dim}{ckpt_str}.pkl\"), \"wb\"))\n",
    "pkl.dump(model_PCA_col, open(join(repr_expdir,f\"model_PCA_col_t{t_str}_PC{PC_dim}{ckpt_str}.pkl\"), \"wb\"))\n",
    "\n",
    "test_acc_synopsis = {key: results_col[key].test_acc for key in results_col.keys()}\n",
    "train_acc_synopsis = {key: results_col[key].train_record.accuracy.max() for key in results_col.keys()}\n",
    "syn_df = pd.DataFrame([test_acc_synopsis, train_acc_synopsis]).T\n",
    "syn_df.columns = [\"Test Accuracy\", \"Train Accuracy\"]\n",
    "\n",
    "plt.figure(figsize=(6, 4))\n",
    "sns.lineplot(data=syn_df, markers=True)\n",
    "plt.title(f\"t_scalar: {t_scalar} Accuracy\\n{expname}\\n{ckpt_str} PC{PC_dim}\")\n",
    "saveallforms([repr_expdir, figdir],f\"{expname}_t{t_str}_PC{PC_dim}{ckpt_str}_accuracy\")\n",
    "plt.show()"
   ]
  },
  {
   "cell_type": "code",
   "execution_count": 45,
   "metadata": {},
   "outputs": [
    {
     "data": {
      "image/png": "[encoded data removed]",
      "text/plain": [
       "<Figure size 432x288 with 1 Axes>"
      ]
     },
     "metadata": {
      "needs_background": "light"
     },
     "output_type": "display_data"
    }
   ],
   "source": [
    "plt.figure(figsize=(6, 4))\n",
    "sns.lineplot(data=syn_df, markers=True)\n",
    "plt.title(f\"t_scalar: {t_scalar} Accuracy\\n{expname}\\n{ckpt_str} PC{PC_dim}\")\n",
    "saveallforms([repr_expdir, figdir],f\"{expname}_t{t_str}_PC{PC_dim}{ckpt_str}_accuracy\")\n",
    "plt.show()"
   ]
  },
  {
   "cell_type": "code",
   "execution_count": 55,
   "metadata": {},
   "outputs": [
    {
     "data": {
      "text/plain": [
       "{'train_record':       epoch      loss  accuracy\n",
       " 0         0  3.856684  0.024908\n",
       " 1         1  3.675911  0.048450\n",
       " 2         2  3.507413  0.088883\n",
       " 3         3  3.351031  0.143275\n",
       " 4         4  3.206305  0.199783\n",
       " ...     ...       ...       ...\n",
       " 4995   4995  0.717637  0.772233\n",
       " 4996   4996  0.717634  0.772242\n",
       " 4997   4997  0.717632  0.772233\n",
       " 4998   4998  0.717629  0.772233\n",
       " 4999   4999  0.717626  0.772275\n",
       " \n",
       " [5000 rows x 3 columns],\n",
       " 'test_record':    epoch  accuracy\n",
       " 0    999  0.694150\n",
       " 1   1999  0.707625\n",
       " 2   2999  0.712950\n",
       " 3   3999  0.714650\n",
       " 4   4999  0.714825,\n",
       " 'test_acc': 0.714825,\n",
       " 'pred_cls': tensor([ 0,  0,  0,  ..., 39, 39, 39], device='cuda:0')}"
      ]
     },
     "execution_count": 55,
     "metadata": {},
     "output_type": "execute_result"
    }
   ],
   "source": [
    "results_col[key]"
   ]
  },
  {
   "cell_type": "code",
   "execution_count": 56,
   "metadata": {},
   "outputs": [
    {
     "data": {
      "image/png": "[encoded data removed]",
      "text/plain": [
       "<Figure size 432x288 with 1 Axes>"
      ]
     },
     "metadata": {
      "needs_background": "light"
     },
     "output_type": "display_data"
    }
   ],
   "source": [
    "test_acc_synopsis = {key: results_col[key].test_record.accuracy.max() for key in results_col.keys()}\n",
    "train_acc_synopsis = {key: results_col[key].train_record.accuracy.max() for key in results_col.keys()}\n",
    "syn_df = pd.DataFrame([test_acc_synopsis, train_acc_synopsis]).T\n",
    "syn_df.columns = [\"Test Accuracy\", \"Train Accuracy\"]\n",
    "\n",
    "plt.figure(figsize=(6, 4))\n",
    "sns.lineplot(data=syn_df, markers=True)\n",
    "plt.title(f\"t_scalar: {t_scalar} Accuracy\\n{expname}\\n{ckpt_str} PC{PC_dim}\")\n",
    "# saveallforms([repr_expdir, figdir],f\"{expname}_t{t_str}_PC{PC_dim}{ckpt_str}_accuracy\")\n",
    "plt.show()"
   ]
  },
  {
   "cell_type": "code",
   "execution_count": 39,
   "metadata": {},
   "outputs": [
    {
     "data": {
      "text/plain": [
       "tensor([[ 3.5380,  3.8611,  3.6785,  ...,  1.3311, 10.8773,  1.1613],\n",
       "        [ 2.6661,  2.7481,  3.9891,  ..., -4.2326,  7.9226,  0.2241],\n",
       "        [ 2.9535,  2.5597,  1.8490,  ...,  1.8839, 10.1603, -2.0479],\n",
       "        ...,\n",
       "        [ 5.4787,  4.8186,  5.5408,  ..., -1.9111,  1.2289,  0.0764],\n",
       "        [ 2.8093, -1.0542,  3.9364,  ...,  2.2130,  2.9810, -0.6629],\n",
       "        [ 4.0964,  3.1155,  2.2594,  ...,  0.1943, -1.2307, -0.2258]])"
      ]
     },
     "execution_count": 39,
     "metadata": {},
     "output_type": "execute_result"
    }
   ],
   "source": [
    "feature_col[layerkey].reshape(len(train_dataset),-1)"
   ]
  }
 ],
 "metadata": {
  "kernelspec": {
   "display_name": "Python (torch)",
   "language": "python",
   "name": "torch"
  }
 },
 "nbformat": 4,
 "nbformat_minor": 2
}
