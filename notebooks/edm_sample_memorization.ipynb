{
 "cells": [
  {
   "cell_type": "code",
   "execution_count": 1,
   "metadata": {},
   "outputs": [],
   "source": [
    "%load_ext autoreload\n",
    "%autoreload 2"
   ]
  },
  {
   "cell_type": "code",
   "execution_count": 2,
   "metadata": {},
   "outputs": [],
   "source": [
    "import numpy as np \n",
    "import torch \n",
    "import torch.nn as nn \n",
    "import torch.optim as optim \n",
    "import torch.nn.functional as F \n",
    "from torch.utils.data import Dataset, DataLoader\n",
    "import torchvision.transforms as transforms\n",
    "from functools import partial\n",
    "import torchvision\n",
    "from tqdm import trange, tqdm\n",
    "import os \n",
    "import glob\n",
    "import time\n",
    "import copy\n",
    "import random\n",
    "from PIL import Image, ImageOps, ImageFilter\n",
    "\n",
    "os.environ['CUDA_VISIBLE_DEVICES']='0'\n",
    "device = torch.device('cpu')"
   ]
  },
  {
   "cell_type": "code",
   "execution_count": 3,
   "metadata": {},
   "outputs": [],
   "source": [
    "import matplotlib.pyplot as plt \n",
    "%matplotlib inline\n",
    "plt.rcParams['figure.dpi'] = 72\n",
    "plt.rcParams['figure.figsize'] = [6.0, 4.0]\n",
    "plt.rcParams['figure.edgecolor'] = (1, 1, 1, 0)\n",
    "plt.rcParams['figure.facecolor'] = (1, 1, 1, 0)\n",
    "import pandas as pd\n",
    "pd.set_option('display.max_columns', None)\n",
    "pd.set_option('display.width', 200)\n",
    "pd.set_option('display.max_rows', None)\n",
    "pd.set_option('display.max_colwidth', 100)\n",
    "import sys\n",
    "sys.path.append('../')"
   ]
  },
  {
   "cell_type": "code",
   "execution_count": 4,
   "metadata": {},
   "outputs": [],
   "source": [
    "import re\n",
    "import pandas as pd\n",
    "import einops\n",
    "from os.path import join\n",
    "from tqdm import trange, tqdm\n",
    "from os.path import join\n",
    "from edm_utils import parse_train_logfile\n",
    "from dataset_utils import onehot2attr_tsr\n",
    "from stats_plot_utils import estimate_CI, shaded_error\n",
    "from rule_utils import get_rule_list, get_obj_list, get_rule_img, check_consistent"
   ]
  },
  {
   "cell_type": "code",
   "execution_count": 5,
   "metadata": {},
   "outputs": [],
   "source": [
    "def batch_load_samples(samples_dir, epoch_list, encoding=\"onehot\", fmt=\"tensor%s.pt\"):\n",
    "    sample_all = []\n",
    "    for epoch in tqdm(epoch_list): \n",
    "        if not os.path.exists(join(samples_dir, fmt % epoch)):\n",
    "            print(epoch, \"not exist\")\n",
    "            break\n",
    "        samples = torch.load(join(samples_dir, fmt % epoch)) # (batch, 27, 9, 9)\n",
    "        if encoding == \"onehot\":\n",
    "            attr_tsr_list = onehot2attr_tsr(samples, threshold=0.5)\n",
    "        elif encoding == \"digit\":\n",
    "            attr_tsr_list = torch.round(samples).int() # (batch, 3, 9, 9)\n",
    "        else:\n",
    "            raise ValueError(\"encoding should be onehot or digit\")\n",
    "        sample_all.append(attr_tsr_list)\n",
    "    return sample_all"
   ]
  },
  {
   "cell_type": "markdown",
   "metadata": {},
   "source": [
    "### Loading"
   ]
  },
  {
   "cell_type": "code",
   "execution_count": 6,
   "metadata": {},
   "outputs": [],
   "source": [
    "figdir = \"../Figures\""
   ]
  },
  {
   "cell_type": "code",
   "execution_count": 11,
   "metadata": {},
   "outputs": [
    {
     "name": "stdout",
     "output_type": "stream",
     "text": [
      "000-RAVEN10_abstract-DiT_S_1\n",
      "001-RAVEN10_abstract-DiT_B_1\n",
      "002-RAVEN10_abstract-DiT_S_1\n",
      "003-RAVEN10_abstract_onehot-DiT_S_1\n",
      "004-RAVEN10_abstract-DiT_S_1\n",
      "005-RAVEN10_abstract_onehot-DiT_S_1\n",
      "006-RAVEN10_abstract-DiT_S_1\n",
      "007-RAVEN10_abstract_onehot-DiT_S_1\n",
      "008-RAVEN10_abstract-DiT_S_3\n",
      "009-RAVEN10_abstract-DiT_S_1\n",
      "010-RAVEN10_abstract-DiT_L_1\n",
      "011-RAVEN10_abstract-DiT_B_1\n",
      "012-RAVEN10_abstract-DiT_B_3\n",
      "013-RAVEN10_abstract-DiT_S_3\n",
      "014-RAVEN10_abstract_onehot-DiT_S_3\n",
      "015-RAVEN10_abstract_onehot-DiT_B_3\n",
      "016-RAVEN10_abstract-DiT_S_3\n",
      "017-RAVEN10_abstract_onehot-DiT_S_1\n",
      "018-RAVEN10_abstract-DiT_S_1\n",
      "019-RAVEN10_abstract_onehot-DiT_S_1\n",
      "020-RAVEN10_abstract-DiT_S_1\n",
      "021-RAVEN10_abstract-uncond-DiT_S_3_20240308-1349\n",
      "022-RAVEN10_abstract_onehot-uncond-DiT_B_3_20240308-1349\n",
      "023-RAVEN10_abstract_onehot-uncond-DiT_S_3_20240308-1349\n",
      "024-RAVEN10_abstract-uncond-DiT_B_3_20240308-1349\n",
      "025-RAVEN10_abstract_onehot-cond-DiT_S_3_20240308-1349\n",
      "026-RAVEN10_abstract-cond-DiT_S_3_20240308-1349\n",
      "027-RAVEN10_abstract-uncond-DiT_S_1_20240308-1349\n",
      "028-RAVEN10_abstract_onehot-uncond-DiT_S_1_20240308-1349\n",
      "029-RAVEN10_abstract-cond-DiT_S_1_20240308-1349\n",
      "030-RAVEN10_abstract_onehot-cond-DiT_S_1_20240308-1350\n",
      "031-RAVEN10_abstract_onehot-uncond-DiT_B_3_20240308-1400\n",
      "032-RAVEN10_abstract_onehot-uncond-DiT_S_3_20240308-1400\n",
      "033-RAVEN10_abstract-uncond-DiT_B_3_20240308-1400\n",
      "034-RAVEN10_abstract-uncond-DiT_S_3_20240308-1400\n",
      "035-RAVEN10_abstract-cond-DiT_S_3_20240308-1424\n",
      "036-RAVEN10_abstract_onehot-cond-DiT_S_3_20240308-1428\n",
      "037-RAVEN10_abstract_onehot-uncond-DiT_S_1_20240308-1449\n",
      "038-RAVEN10_abstract-cond-DiT_S_1_20240308-1449\n",
      "039-RAVEN10_abstract-uncond-DiT_S_1_20240308-1449\n",
      "040-RAVEN10_abstract_onehot-cond-DiT_S_1_20240308-1449\n",
      "041-RAVEN10_abstract_onehot-uncond-DiT_B_1_20240309-1718\n",
      "042-RAVEN10_abstract-uncond-DiT_B_1_20240309-1718\n",
      "043-RAVEN10_abstract-cond-DiT_B_1_20240309-1718\n",
      "044-RAVEN10_abstract_onehot-cond-DiT_B_1_20240309-1718\n"
     ]
    }
   ],
   "source": [
    "!ls $STORE_DIR/DL_Projects/DiT/results"
   ]
  },
  {
   "cell_type": "code",
   "execution_count": 13,
   "metadata": {},
   "outputs": [
    {
     "name": "stdout",
     "output_type": "stream",
     "text": [
      "0001000.pt  0078000.pt\t0155000.pt  0232000.pt\t0309000.pt  0386000.pt\n",
      "0002000.pt  0079000.pt\t0156000.pt  0233000.pt\t0310000.pt  0387000.pt\n",
      "0003000.pt  0080000.pt\t0157000.pt  0234000.pt\t0311000.pt  0388000.pt\n",
      "0004000.pt  0081000.pt\t0158000.pt  0235000.pt\t0312000.pt  0389000.pt\n",
      "0005000.pt  0082000.pt\t0159000.pt  0236000.pt\t0313000.pt  0390000.pt\n",
      "0006000.pt  0083000.pt\t0160000.pt  0237000.pt\t0314000.pt  0391000.pt\n",
      "0007000.pt  0084000.pt\t0161000.pt  0238000.pt\t0315000.pt  0392000.pt\n",
      "0008000.pt  0085000.pt\t0162000.pt  0239000.pt\t0316000.pt  0393000.pt\n",
      "0009000.pt  0086000.pt\t0163000.pt  0240000.pt\t0317000.pt  0394000.pt\n",
      "0010000.pt  0087000.pt\t0164000.pt  0241000.pt\t0318000.pt  0395000.pt\n",
      "0011000.pt  0088000.pt\t0165000.pt  0242000.pt\t0319000.pt  0396000.pt\n",
      "0012000.pt  0089000.pt\t0166000.pt  0243000.pt\t0320000.pt  0397000.pt\n",
      "0013000.pt  0090000.pt\t0167000.pt  0244000.pt\t0321000.pt  0398000.pt\n",
      "0014000.pt  0091000.pt\t0168000.pt  0245000.pt\t0322000.pt  0399000.pt\n",
      "0015000.pt  0092000.pt\t0169000.pt  0246000.pt\t0323000.pt  0400000.pt\n",
      "0016000.pt  0093000.pt\t0170000.pt  0247000.pt\t0324000.pt  0401000.pt\n",
      "0017000.pt  0094000.pt\t0171000.pt  0248000.pt\t0325000.pt  0402000.pt\n",
      "0018000.pt  0095000.pt\t0172000.pt  0249000.pt\t0326000.pt  0403000.pt\n",
      "0019000.pt  0096000.pt\t0173000.pt  0250000.pt\t0327000.pt  0404000.pt\n",
      "0020000.pt  0097000.pt\t0174000.pt  0251000.pt\t0328000.pt  0405000.pt\n",
      "0021000.pt  0098000.pt\t0175000.pt  0252000.pt\t0329000.pt  0406000.pt\n",
      "0022000.pt  0099000.pt\t0176000.pt  0253000.pt\t0330000.pt  0407000.pt\n",
      "0023000.pt  0100000.pt\t0177000.pt  0254000.pt\t0331000.pt  0408000.pt\n",
      "0024000.pt  0101000.pt\t0178000.pt  0255000.pt\t0332000.pt  0409000.pt\n",
      "0025000.pt  0102000.pt\t0179000.pt  0256000.pt\t0333000.pt  0410000.pt\n",
      "0026000.pt  0103000.pt\t0180000.pt  0257000.pt\t0334000.pt  0411000.pt\n",
      "0027000.pt  0104000.pt\t0181000.pt  0258000.pt\t0335000.pt  0412000.pt\n",
      "0028000.pt  0105000.pt\t0182000.pt  0259000.pt\t0336000.pt  0413000.pt\n",
      "0029000.pt  0106000.pt\t0183000.pt  0260000.pt\t0337000.pt  0414000.pt\n",
      "0030000.pt  0107000.pt\t0184000.pt  0261000.pt\t0338000.pt  0415000.pt\n",
      "0031000.pt  0108000.pt\t0185000.pt  0262000.pt\t0339000.pt  0416000.pt\n",
      "0032000.pt  0109000.pt\t0186000.pt  0263000.pt\t0340000.pt  0417000.pt\n",
      "0033000.pt  0110000.pt\t0187000.pt  0264000.pt\t0341000.pt  0418000.pt\n",
      "0034000.pt  0111000.pt\t0188000.pt  0265000.pt\t0342000.pt  0419000.pt\n",
      "0035000.pt  0112000.pt\t0189000.pt  0266000.pt\t0343000.pt  0420000.pt\n",
      "0036000.pt  0113000.pt\t0190000.pt  0267000.pt\t0344000.pt  0421000.pt\n",
      "0037000.pt  0114000.pt\t0191000.pt  0268000.pt\t0345000.pt  0422000.pt\n",
      "0038000.pt  0115000.pt\t0192000.pt  0269000.pt\t0346000.pt  0423000.pt\n",
      "0039000.pt  0116000.pt\t0193000.pt  0270000.pt\t0347000.pt  0424000.pt\n",
      "0040000.pt  0117000.pt\t0194000.pt  0271000.pt\t0348000.pt  0425000.pt\n",
      "0041000.pt  0118000.pt\t0195000.pt  0272000.pt\t0349000.pt  0426000.pt\n",
      "0042000.pt  0119000.pt\t0196000.pt  0273000.pt\t0350000.pt  0427000.pt\n",
      "0043000.pt  0120000.pt\t0197000.pt  0274000.pt\t0351000.pt  0428000.pt\n",
      "0044000.pt  0121000.pt\t0198000.pt  0275000.pt\t0352000.pt  0429000.pt\n",
      "0045000.pt  0122000.pt\t0199000.pt  0276000.pt\t0353000.pt  0430000.pt\n",
      "0046000.pt  0123000.pt\t0200000.pt  0277000.pt\t0354000.pt  0431000.pt\n",
      "0047000.pt  0124000.pt\t0201000.pt  0278000.pt\t0355000.pt  0432000.pt\n",
      "0048000.pt  0125000.pt\t0202000.pt  0279000.pt\t0356000.pt  0433000.pt\n",
      "0049000.pt  0126000.pt\t0203000.pt  0280000.pt\t0357000.pt  0434000.pt\n",
      "0050000.pt  0127000.pt\t0204000.pt  0281000.pt\t0358000.pt  0435000.pt\n",
      "0051000.pt  0128000.pt\t0205000.pt  0282000.pt\t0359000.pt  0436000.pt\n",
      "0052000.pt  0129000.pt\t0206000.pt  0283000.pt\t0360000.pt  0437000.pt\n",
      "0053000.pt  0130000.pt\t0207000.pt  0284000.pt\t0361000.pt  0438000.pt\n",
      "0054000.pt  0131000.pt\t0208000.pt  0285000.pt\t0362000.pt  0439000.pt\n",
      "0055000.pt  0132000.pt\t0209000.pt  0286000.pt\t0363000.pt  0440000.pt\n",
      "0056000.pt  0133000.pt\t0210000.pt  0287000.pt\t0364000.pt  0441000.pt\n",
      "0057000.pt  0134000.pt\t0211000.pt  0288000.pt\t0365000.pt  0442000.pt\n",
      "0058000.pt  0135000.pt\t0212000.pt  0289000.pt\t0366000.pt  0443000.pt\n",
      "0059000.pt  0136000.pt\t0213000.pt  0290000.pt\t0367000.pt  0444000.pt\n",
      "0060000.pt  0137000.pt\t0214000.pt  0291000.pt\t0368000.pt  0445000.pt\n",
      "0061000.pt  0138000.pt\t0215000.pt  0292000.pt\t0369000.pt  0446000.pt\n",
      "0062000.pt  0139000.pt\t0216000.pt  0293000.pt\t0370000.pt  0447000.pt\n",
      "0063000.pt  0140000.pt\t0217000.pt  0294000.pt\t0371000.pt  0448000.pt\n",
      "0064000.pt  0141000.pt\t0218000.pt  0295000.pt\t0372000.pt  0449000.pt\n",
      "0065000.pt  0142000.pt\t0219000.pt  0296000.pt\t0373000.pt  0450000.pt\n",
      "0066000.pt  0143000.pt\t0220000.pt  0297000.pt\t0374000.pt  0451000.pt\n",
      "0067000.pt  0144000.pt\t0221000.pt  0298000.pt\t0375000.pt  0452000.pt\n",
      "0068000.pt  0145000.pt\t0222000.pt  0299000.pt\t0376000.pt  0453000.pt\n",
      "0069000.pt  0146000.pt\t0223000.pt  0300000.pt\t0377000.pt  0454000.pt\n",
      "0070000.pt  0147000.pt\t0224000.pt  0301000.pt\t0378000.pt  0455000.pt\n",
      "0071000.pt  0148000.pt\t0225000.pt  0302000.pt\t0379000.pt  0456000.pt\n",
      "0072000.pt  0149000.pt\t0226000.pt  0303000.pt\t0380000.pt  0457000.pt\n",
      "0073000.pt  0150000.pt\t0227000.pt  0304000.pt\t0381000.pt  0458000.pt\n",
      "0074000.pt  0151000.pt\t0228000.pt  0305000.pt\t0382000.pt  0459000.pt\n",
      "0075000.pt  0152000.pt\t0229000.pt  0306000.pt\t0383000.pt\n",
      "0076000.pt  0153000.pt\t0230000.pt  0307000.pt\t0384000.pt\n",
      "0077000.pt  0154000.pt\t0231000.pt  0308000.pt\t0385000.pt\n"
     ]
    }
   ],
   "source": [
    "!ls $STORE_DIR/DL_Projects/DiT/results/041-RAVEN10_abstract_onehot-uncond-DiT_B_1_20240309-1718/samples"
   ]
  },
  {
   "cell_type": "code",
   "execution_count": 17,
   "metadata": {},
   "outputs": [
    {
     "name": "stdout",
     "output_type": "stream",
     "text": [
      "/n/holylfs06/LABS/kempner_fellow_binxuwang/Users/binxuwang/DL_Projects/DiT/results/041-RAVEN10_abstract_onehot-uncond-DiT_B_1_20240309-1718/samples\n"
     ]
    }
   ],
   "source": [
    "!cd $STORE_DIR/DL_Projects/DiT/results/041-RAVEN10_abstract_onehot-uncond-DiT_B_1_20240309-1718/samples; pwd"
   ]
  },
  {
   "cell_type": "code",
   "execution_count": null,
   "metadata": {},
   "outputs": [],
   "source": []
  },
  {
   "cell_type": "code",
   "execution_count": 8,
   "metadata": {},
   "outputs": [
    {
     "name": "stdout",
     "output_type": "stream",
     "text": [
      "BaseBlnr_RAVEN10_abstract_20240212-2142\n",
      "BaseBlnr_RAVEN10_abstract_onehot_20240212-2143\n",
      "base_cifar10_20240130-2317\n",
      "base_cifar10_20240130-2318\n",
      "base_gabor_prime_20240130-2251\n",
      "base_gabor_sf_20240130-2306\n",
      "base_mnist_20240129-1342\n",
      "base_mnist_20240129-1406\n",
      "base_mnist_20240130-2207\n",
      "base_RAVEN10_20240131-2049\n",
      "base_RAVEN10_abstract_20240201-0036\n",
      "Base_RAVEN10_abstract_20240212-2139\n",
      "base_RAVEN10_abstract_onehot_20240201-0147\n",
      "Base_RAVEN10_abstract_onehot_20240212-2140\n",
      "BigBlnrlrsm_RAVEN10_abstract_onehot_20240209-1411\n",
      "BigBlnr_RAVEN10_abstract_20240208-1709\n",
      "BigBlnr_RAVEN10_abstract_onehot_20240209-0208\n",
      "Big_RAVEN10_abstract_20240207-1925\n",
      "Big_RAVEN10_abstract_onehot_20240207-1925\n",
      "WideBlnr_RAVEN10_abstract_20240211-1747\n",
      "WideBlnr_RAVEN10_abstract_onehot_20240211-1743\n",
      "Wide_RAVEN10_abstract_20240206-2323\n",
      "Wide_RAVEN10_abstract_onehot_20240206-2324\n"
     ]
    }
   ],
   "source": [
    "!ls $STORE_DIR/DL_Projects/mini_edm/exps/"
   ]
  },
  {
   "cell_type": "code",
   "execution_count": 8,
   "metadata": {},
   "outputs": [
    {
     "name": "stdout",
     "output_type": "stream",
     "text": [
      "checkpoints\t samples\t\t\t\tstd.log\n",
      "dataset_idx.pkl  samples_inferred_rule_consistency.npz\n"
     ]
    }
   ],
   "source": [
    "!ls $STORE_DIR/DL_Projects/mini_edm/exps/Base_RAVEN10_abstract_20240212-2139\n"
   ]
  },
  {
   "cell_type": "code",
   "execution_count": 9,
   "metadata": {},
   "outputs": [
    {
     "name": "stdout",
     "output_type": "stream",
     "text": [
      "2020-BigGAN.zip      ffhq-64x64.zip\t imagenet-valid        Stimuli\n",
      "2021-EvolDecomp.zip  GAN_sample_fid.zip  img_align_celeba.zip  stl10_binary\n",
      "cifar10.zip\t     Imagenet64_val.zip  Mat_Statistics\n"
     ]
    }
   ],
   "source": [
    "!ls $WORK_DIR/Datasets"
   ]
  },
  {
   "cell_type": "code",
   "execution_count": 11,
   "metadata": {},
   "outputs": [
    {
     "name": "stdout",
     "output_type": "stream",
     "text": [
      "checkpoints\t samples\t\t\t\tstd.log\n",
      "dataset_idx.pkl  samples_inferred_rule_consistency.npz\n"
     ]
    }
   ],
   "source": [
    "!ls $STORE_DIR/DL_Projects/mini_edm/exps/Base_RAVEN10_abstract_20240212-2139"
   ]
  },
  {
   "cell_type": "code",
   "execution_count": 12,
   "metadata": {},
   "outputs": [
    {
     "name": "stdout",
     "output_type": "stream",
     "text": [
      "/n/holylfs06/LABS/kempner_fellow_binxuwang/Users/binxuwang\n"
     ]
    }
   ],
   "source": [
    "!echo $STORE_DIR"
   ]
  },
  {
   "cell_type": "code",
   "execution_count": 37,
   "metadata": {},
   "outputs": [],
   "source": [
    "train_attrs = torch.load(\"../train_inputs.pt\")"
   ]
  },
  {
   "cell_type": "code",
   "execution_count": 14,
   "metadata": {},
   "outputs": [
    {
     "data": {
      "text/plain": [
       "torch.Size([35, 10000, 3, 9, 3])"
      ]
     },
     "execution_count": 14,
     "metadata": {},
     "output_type": "execute_result"
    }
   ],
   "source": [
    "train_attrs.shape"
   ]
  },
  {
   "cell_type": "code",
   "execution_count": 15,
   "metadata": {},
   "outputs": [
    {
     "name": "stderr",
     "output_type": "stream",
     "text": [
      "100%|██████████| 20/20 [00:00<00:00, 112.00it/s]\n"
     ]
    }
   ],
   "source": [
    "sample_dir = r\"/n/holylfs06/LABS/kempner_fellow_binxuwang/Users/binxuwang/DL_Projects/mini_edm/exps/Base_RAVEN10_abstract_20240212-2139/samples\"\n",
    "sample_all = batch_load_samples(sample_dir, range(0,100000,5000), encoding=\"digit\")"
   ]
  },
  {
   "cell_type": "code",
   "execution_count": 16,
   "metadata": {},
   "outputs": [
    {
     "data": {
      "text/plain": [
       "torch.Size([6144, 3, 9, 3])"
      ]
     },
     "execution_count": 16,
     "metadata": {},
     "output_type": "execute_result"
    }
   ],
   "source": [
    "attr_panels = einops.rearrange(sample_all[-1], 'b attr (row h) (p w) -> (b row) p (h w) attr', row=3, p=3)\n",
    "attr_panels.shape # (batch*3, 3, 9, 3)"
   ]
  },
  {
   "cell_type": "code",
   "execution_count": 17,
   "metadata": {},
   "outputs": [],
   "source": [
    "data = train_attrs.to(device).to(int)"
   ]
  },
  {
   "cell_type": "code",
   "execution_count": 38,
   "metadata": {},
   "outputs": [
    {
     "data": {
      "text/plain": [
       "tensor([[161, 178, 252,  ..., 230, 316, 161],\n",
       "        [344, 309, 200,  ..., 329, 271, 245],\n",
       "        [250, 213, 293,  ..., 195, 188, 201],\n",
       "        ...,\n",
       "        [291, 306, 295,  ..., 306, 225, 188],\n",
       "        [323, 242, 231,  ..., 176, 294, 210],\n",
       "        [201, 212, 200,  ..., 194, 275, 228]])"
      ]
     },
     "execution_count": 38,
     "metadata": {},
     "output_type": "execute_result"
    }
   ],
   "source": [
    "(data - attr_panels[1].to(device)).abs().sum(dim=(-1,-2,-3))"
   ]
  },
  {
   "cell_type": "code",
   "execution_count": 39,
   "metadata": {},
   "outputs": [],
   "source": [
    "L1dist = (data - attr_panels[1].to(device)).abs().sum(dim=(-1,-2,-3))"
   ]
  },
  {
   "cell_type": "code",
   "execution_count": 23,
   "metadata": {},
   "outputs": [
    {
     "name": "stderr",
     "output_type": "stream",
     "text": [
      "100%|██████████| 384/384 [14:49<00:00,  2.32s/it]\n"
     ]
    }
   ],
   "source": [
    "attr_panels = einops.rearrange(sample_all[-1], 'b attr (row h) (p w) -> (b row) p (h w) attr', row=3, p=3)\n",
    "attr_panels.shape # (batch*3, 3, 9, 3)\n",
    "\n",
    "minL1dist_mat = []\n",
    "minimum_vec = []\n",
    "batchsize = 16\n",
    "for i in trange(0,len(attr_panels),batchsize):\n",
    "    L1dist = (data[None,] - attr_panels[i:i+batchsize].to(device)[:,None,None]).abs().sum(dim=(-1,-2,-3))\n",
    "    minL1dist = L1dist.min(dim=-1).values\n",
    "    minimum = minL1dist.min(dim=-1).values\n",
    "    minL1dist_mat.append(minL1dist)\n",
    "    minimum_vec.append(minimum)\n",
    "\n",
    "minL1dist_mat = torch.concatenate(minL1dist_mat, dim=0)\n",
    "minimum_vec = torch.concatenate(minimum_vec, dim=0)"
   ]
  },
  {
   "cell_type": "code",
   "execution_count": 1,
   "metadata": {},
   "outputs": [
    {
     "ename": "NameError",
     "evalue": "name 'minL1dist_mat' is not defined",
     "output_type": "error",
     "traceback": [
      "\u001b[0;31m---------------------------------------------------------------------------\u001b[0m",
      "\u001b[0;31mNameError\u001b[0m                                 Traceback (most recent call last)",
      "Cell \u001b[0;32mIn[1], line 1\u001b[0m\n\u001b[0;32m----> 1\u001b[0m \u001b[43mminL1dist_mat\u001b[49m\u001b[38;5;241m.\u001b[39mshape\n",
      "\u001b[0;31mNameError\u001b[0m: name 'minL1dist_mat' is not defined"
     ]
    }
   ],
   "source": [
    "minL1dist_mat.shape"
   ]
  },
  {
   "cell_type": "code",
   "execution_count": 22,
   "metadata": {},
   "outputs": [
    {
     "data": {
      "text/plain": [
       "tensor([[205, 234, 204,  ..., 187, 221, 212],\n",
       "        [122, 158, 109,  ...,  97, 171, 118],\n",
       "        [224, 220, 210,  ..., 218, 216, 216],\n",
       "        ...,\n",
       "        [201, 218, 204,  ..., 201, 216, 209],\n",
       "        [223, 177, 179,  ..., 194, 213, 202],\n",
       "        [158, 187, 196,  ..., 191, 194, 175]])"
      ]
     },
     "execution_count": 22,
     "metadata": {},
     "output_type": "execute_result"
    }
   ],
   "source": [
    "torch.concatenate(minL1dist_mat, dim=0)"
   ]
  },
  {
   "cell_type": "code",
   "execution_count": 47,
   "metadata": {},
   "outputs": [
    {
     "data": {
      "text/plain": [
       "torch.Size([512, 3, 9, 3])"
      ]
     },
     "execution_count": 47,
     "metadata": {},
     "output_type": "execute_result"
    }
   ],
   "source": [
    "attr_panels[i:i+batchsize].shape"
   ]
  },
  {
   "cell_type": "code",
   "execution_count": 43,
   "metadata": {},
   "outputs": [
    {
     "data": {
      "text/plain": [
       "[<matplotlib.lines.Line2D at 0x14aba0febdf0>]"
      ]
     },
     "execution_count": 43,
     "metadata": {},
     "output_type": "execute_result"
    },
    {
     "data": {
      "image/png": "[encoded data removed]",
      "text/plain": [
       "<Figure size 432x288 with 1 Axes>"
      ]
     },
     "metadata": {
      "needs_background": "light"
     },
     "output_type": "display_data"
    }
   ],
   "source": [
    "plt.plot(L1dist.min(dim=1).values)"
   ]
  },
  {
   "cell_type": "markdown",
   "metadata": {},
   "source": [
    "### DiT sample check"
   ]
  },
  {
   "cell_type": "code",
   "execution_count": 18,
   "metadata": {},
   "outputs": [
    {
     "name": "stdout",
     "output_type": "stream",
     "text": [
      "000-RAVEN10_abstract-DiT_S_1\n",
      "001-RAVEN10_abstract-DiT_B_1\n",
      "002-RAVEN10_abstract-DiT_S_1\n",
      "003-RAVEN10_abstract_onehot-DiT_S_1\n",
      "004-RAVEN10_abstract-DiT_S_1\n",
      "005-RAVEN10_abstract_onehot-DiT_S_1\n",
      "006-RAVEN10_abstract-DiT_S_1\n",
      "007-RAVEN10_abstract_onehot-DiT_S_1\n",
      "008-RAVEN10_abstract-DiT_S_3\n",
      "009-RAVEN10_abstract-DiT_S_1\n",
      "010-RAVEN10_abstract-DiT_L_1\n",
      "011-RAVEN10_abstract-DiT_B_1\n",
      "012-RAVEN10_abstract-DiT_B_3\n",
      "013-RAVEN10_abstract-DiT_S_3\n",
      "014-RAVEN10_abstract_onehot-DiT_S_3\n",
      "015-RAVEN10_abstract_onehot-DiT_B_3\n",
      "016-RAVEN10_abstract-DiT_S_3\n",
      "017-RAVEN10_abstract_onehot-DiT_S_1\n",
      "018-RAVEN10_abstract-DiT_S_1\n",
      "019-RAVEN10_abstract_onehot-DiT_S_1\n",
      "020-RAVEN10_abstract-DiT_S_1\n",
      "021-RAVEN10_abstract-uncond-DiT_S_3_20240308-1349\n",
      "022-RAVEN10_abstract_onehot-uncond-DiT_B_3_20240308-1349\n",
      "023-RAVEN10_abstract_onehot-uncond-DiT_S_3_20240308-1349\n",
      "024-RAVEN10_abstract-uncond-DiT_B_3_20240308-1349\n",
      "025-RAVEN10_abstract_onehot-cond-DiT_S_3_20240308-1349\n",
      "026-RAVEN10_abstract-cond-DiT_S_3_20240308-1349\n",
      "027-RAVEN10_abstract-uncond-DiT_S_1_20240308-1349\n",
      "028-RAVEN10_abstract_onehot-uncond-DiT_S_1_20240308-1349\n",
      "029-RAVEN10_abstract-cond-DiT_S_1_20240308-1349\n",
      "030-RAVEN10_abstract_onehot-cond-DiT_S_1_20240308-1350\n",
      "031-RAVEN10_abstract_onehot-uncond-DiT_B_3_20240308-1400\n",
      "032-RAVEN10_abstract_onehot-uncond-DiT_S_3_20240308-1400\n",
      "033-RAVEN10_abstract-uncond-DiT_B_3_20240308-1400\n",
      "034-RAVEN10_abstract-uncond-DiT_S_3_20240308-1400\n",
      "035-RAVEN10_abstract-cond-DiT_S_3_20240308-1424\n",
      "036-RAVEN10_abstract_onehot-cond-DiT_S_3_20240308-1428\n",
      "037-RAVEN10_abstract_onehot-uncond-DiT_S_1_20240308-1449\n",
      "038-RAVEN10_abstract-cond-DiT_S_1_20240308-1449\n",
      "039-RAVEN10_abstract-uncond-DiT_S_1_20240308-1449\n",
      "040-RAVEN10_abstract_onehot-cond-DiT_S_1_20240308-1449\n",
      "041-RAVEN10_abstract_onehot-uncond-DiT_B_1_20240309-1718\n",
      "042-RAVEN10_abstract-uncond-DiT_B_1_20240309-1718\n",
      "043-RAVEN10_abstract-cond-DiT_B_1_20240309-1718\n",
      "044-RAVEN10_abstract_onehot-cond-DiT_B_1_20240309-1718\n"
     ]
    }
   ],
   "source": [
    "!ls /n/holylfs06/LABS/kempner_fellow_binxuwang/Users/binxuwang/DL_Projects/DiT/results/"
   ]
  },
  {
   "cell_type": "code",
   "execution_count": 7,
   "metadata": {},
   "outputs": [],
   "source": [
    "train_attrs = torch.load(\"../train_inputs.pt\")"
   ]
  },
  {
   "cell_type": "code",
   "execution_count": 31,
   "metadata": {},
   "outputs": [
    {
     "data": {
      "text/plain": [
       "'/n/holylfs06/LABS/kempner_fellow_binxuwang/Users/binxuwang/DL_Projects/DiT/results/042-RAVEN10_abstract-uncond-DiT_B_1_20240309-1718/samples'"
      ]
     },
     "execution_count": 31,
     "metadata": {},
     "output_type": "execute_result"
    }
   ],
   "source": [
    "sample_dir"
   ]
  },
  {
   "cell_type": "code",
   "execution_count": 26,
   "metadata": {},
   "outputs": [
    {
     "data": {
      "text/plain": [
       "'/n/holylfs06/LABS/kempner_fellow_binxuwang/Users/binxuwang/DL_Projects/DiT/results/042-RAVEN10_abstract-uncond-DiT_B_1_20240309-1718/samples'"
      ]
     },
     "execution_count": 26,
     "metadata": {},
     "output_type": "execute_result"
    }
   ],
   "source": [
    "sample_dir"
   ]
  },
  {
   "cell_type": "code",
   "execution_count": 27,
   "metadata": {},
   "outputs": [
    {
     "name": "stdout",
     "output_type": "stream",
     "text": [
      "0001000.pt  0078000.pt\t0155000.pt  0232000.pt\t0309000.pt  0386000.pt\n",
      "0002000.pt  0079000.pt\t0156000.pt  0233000.pt\t0310000.pt  0387000.pt\n",
      "0003000.pt  0080000.pt\t0157000.pt  0234000.pt\t0311000.pt  0388000.pt\n",
      "0004000.pt  0081000.pt\t0158000.pt  0235000.pt\t0312000.pt  0389000.pt\n",
      "0005000.pt  0082000.pt\t0159000.pt  0236000.pt\t0313000.pt  0390000.pt\n",
      "0006000.pt  0083000.pt\t0160000.pt  0237000.pt\t0314000.pt  0391000.pt\n",
      "0007000.pt  0084000.pt\t0161000.pt  0238000.pt\t0315000.pt  0392000.pt\n",
      "0008000.pt  0085000.pt\t0162000.pt  0239000.pt\t0316000.pt  0393000.pt\n",
      "0009000.pt  0086000.pt\t0163000.pt  0240000.pt\t0317000.pt  0394000.pt\n",
      "0010000.pt  0087000.pt\t0164000.pt  0241000.pt\t0318000.pt  0395000.pt\n",
      "0011000.pt  0088000.pt\t0165000.pt  0242000.pt\t0319000.pt  0396000.pt\n",
      "0012000.pt  0089000.pt\t0166000.pt  0243000.pt\t0320000.pt  0397000.pt\n",
      "0013000.pt  0090000.pt\t0167000.pt  0244000.pt\t0321000.pt  0398000.pt\n",
      "0014000.pt  0091000.pt\t0168000.pt  0245000.pt\t0322000.pt  0399000.pt\n",
      "0015000.pt  0092000.pt\t0169000.pt  0246000.pt\t0323000.pt  0400000.pt\n",
      "0016000.pt  0093000.pt\t0170000.pt  0247000.pt\t0324000.pt  0401000.pt\n",
      "0017000.pt  0094000.pt\t0171000.pt  0248000.pt\t0325000.pt  0402000.pt\n",
      "0018000.pt  0095000.pt\t0172000.pt  0249000.pt\t0326000.pt  0403000.pt\n",
      "0019000.pt  0096000.pt\t0173000.pt  0250000.pt\t0327000.pt  0404000.pt\n",
      "0020000.pt  0097000.pt\t0174000.pt  0251000.pt\t0328000.pt  0405000.pt\n",
      "0021000.pt  0098000.pt\t0175000.pt  0252000.pt\t0329000.pt  0406000.pt\n",
      "0022000.pt  0099000.pt\t0176000.pt  0253000.pt\t0330000.pt  0407000.pt\n",
      "0023000.pt  0100000.pt\t0177000.pt  0254000.pt\t0331000.pt  0408000.pt\n",
      "0024000.pt  0101000.pt\t0178000.pt  0255000.pt\t0332000.pt  0409000.pt\n",
      "0025000.pt  0102000.pt\t0179000.pt  0256000.pt\t0333000.pt  0410000.pt\n",
      "0026000.pt  0103000.pt\t0180000.pt  0257000.pt\t0334000.pt  0411000.pt\n",
      "0027000.pt  0104000.pt\t0181000.pt  0258000.pt\t0335000.pt  0412000.pt\n",
      "0028000.pt  0105000.pt\t0182000.pt  0259000.pt\t0336000.pt  0413000.pt\n",
      "0029000.pt  0106000.pt\t0183000.pt  0260000.pt\t0337000.pt  0414000.pt\n",
      "0030000.pt  0107000.pt\t0184000.pt  0261000.pt\t0338000.pt  0415000.pt\n",
      "0031000.pt  0108000.pt\t0185000.pt  0262000.pt\t0339000.pt  0416000.pt\n",
      "0032000.pt  0109000.pt\t0186000.pt  0263000.pt\t0340000.pt  0417000.pt\n",
      "0033000.pt  0110000.pt\t0187000.pt  0264000.pt\t0341000.pt  0418000.pt\n",
      "0034000.pt  0111000.pt\t0188000.pt  0265000.pt\t0342000.pt  0419000.pt\n",
      "0035000.pt  0112000.pt\t0189000.pt  0266000.pt\t0343000.pt  0420000.pt\n",
      "0036000.pt  0113000.pt\t0190000.pt  0267000.pt\t0344000.pt  0421000.pt\n",
      "0037000.pt  0114000.pt\t0191000.pt  0268000.pt\t0345000.pt  0422000.pt\n",
      "0038000.pt  0115000.pt\t0192000.pt  0269000.pt\t0346000.pt  0423000.pt\n",
      "0039000.pt  0116000.pt\t0193000.pt  0270000.pt\t0347000.pt  0424000.pt\n",
      "0040000.pt  0117000.pt\t0194000.pt  0271000.pt\t0348000.pt  0425000.pt\n",
      "0041000.pt  0118000.pt\t0195000.pt  0272000.pt\t0349000.pt  0426000.pt\n",
      "0042000.pt  0119000.pt\t0196000.pt  0273000.pt\t0350000.pt  0427000.pt\n",
      "0043000.pt  0120000.pt\t0197000.pt  0274000.pt\t0351000.pt  0428000.pt\n",
      "0044000.pt  0121000.pt\t0198000.pt  0275000.pt\t0352000.pt  0429000.pt\n",
      "0045000.pt  0122000.pt\t0199000.pt  0276000.pt\t0353000.pt  0430000.pt\n",
      "0046000.pt  0123000.pt\t0200000.pt  0277000.pt\t0354000.pt  0431000.pt\n",
      "0047000.pt  0124000.pt\t0201000.pt  0278000.pt\t0355000.pt  0432000.pt\n",
      "0048000.pt  0125000.pt\t0202000.pt  0279000.pt\t0356000.pt  0433000.pt\n",
      "0049000.pt  0126000.pt\t0203000.pt  0280000.pt\t0357000.pt  0434000.pt\n",
      "0050000.pt  0127000.pt\t0204000.pt  0281000.pt\t0358000.pt  0435000.pt\n",
      "0051000.pt  0128000.pt\t0205000.pt  0282000.pt\t0359000.pt  0436000.pt\n",
      "0052000.pt  0129000.pt\t0206000.pt  0283000.pt\t0360000.pt  0437000.pt\n",
      "0053000.pt  0130000.pt\t0207000.pt  0284000.pt\t0361000.pt  0438000.pt\n",
      "0054000.pt  0131000.pt\t0208000.pt  0285000.pt\t0362000.pt  0439000.pt\n",
      "0055000.pt  0132000.pt\t0209000.pt  0286000.pt\t0363000.pt  0440000.pt\n",
      "0056000.pt  0133000.pt\t0210000.pt  0287000.pt\t0364000.pt  0441000.pt\n",
      "0057000.pt  0134000.pt\t0211000.pt  0288000.pt\t0365000.pt  0442000.pt\n",
      "0058000.pt  0135000.pt\t0212000.pt  0289000.pt\t0366000.pt  0443000.pt\n",
      "0059000.pt  0136000.pt\t0213000.pt  0290000.pt\t0367000.pt  0444000.pt\n",
      "0060000.pt  0137000.pt\t0214000.pt  0291000.pt\t0368000.pt  0445000.pt\n",
      "0061000.pt  0138000.pt\t0215000.pt  0292000.pt\t0369000.pt  0446000.pt\n",
      "0062000.pt  0139000.pt\t0216000.pt  0293000.pt\t0370000.pt  0447000.pt\n",
      "0063000.pt  0140000.pt\t0217000.pt  0294000.pt\t0371000.pt  0448000.pt\n",
      "0064000.pt  0141000.pt\t0218000.pt  0295000.pt\t0372000.pt  0449000.pt\n",
      "0065000.pt  0142000.pt\t0219000.pt  0296000.pt\t0373000.pt  0450000.pt\n",
      "0066000.pt  0143000.pt\t0220000.pt  0297000.pt\t0374000.pt  0451000.pt\n",
      "0067000.pt  0144000.pt\t0221000.pt  0298000.pt\t0375000.pt  0452000.pt\n",
      "0068000.pt  0145000.pt\t0222000.pt  0299000.pt\t0376000.pt  0453000.pt\n",
      "0069000.pt  0146000.pt\t0223000.pt  0300000.pt\t0377000.pt  0454000.pt\n",
      "0070000.pt  0147000.pt\t0224000.pt  0301000.pt\t0378000.pt  0455000.pt\n",
      "0071000.pt  0148000.pt\t0225000.pt  0302000.pt\t0379000.pt  0456000.pt\n",
      "0072000.pt  0149000.pt\t0226000.pt  0303000.pt\t0380000.pt  0457000.pt\n",
      "0073000.pt  0150000.pt\t0227000.pt  0304000.pt\t0381000.pt  0458000.pt\n",
      "0074000.pt  0151000.pt\t0228000.pt  0305000.pt\t0382000.pt  0459000.pt\n",
      "0075000.pt  0152000.pt\t0229000.pt  0306000.pt\t0383000.pt\n",
      "0076000.pt  0153000.pt\t0230000.pt  0307000.pt\t0384000.pt\n",
      "0077000.pt  0154000.pt\t0231000.pt  0308000.pt\t0385000.pt\n"
     ]
    }
   ],
   "source": [
    "!ls /n/holylfs06/LABS/kempner_fellow_binxuwang/Users/binxuwang/DL_Projects/DiT/results/042-RAVEN10_abstract-uncond-DiT_B_1_20240309-1718/samples"
   ]
  },
  {
   "cell_type": "code",
   "execution_count": 8,
   "metadata": {},
   "outputs": [
    {
     "name": "stderr",
     "output_type": "stream",
     "text": [
      "  0%|          | 0/999 [00:00<?, ?it/s]"
     ]
    },
    {
     "name": "stderr",
     "output_type": "stream",
     "text": [
      " 47%|████▋     | 465/999 [00:00<00:00, 562.72it/s]"
     ]
    },
    {
     "name": "stdout",
     "output_type": "stream",
     "text": [
      "466000 not exist\n"
     ]
    },
    {
     "name": "stderr",
     "output_type": "stream",
     "text": [
      "\n"
     ]
    }
   ],
   "source": [
    "\n",
    "DiTroot = r\"/n/holylfs06/LABS/kempner_fellow_binxuwang/Users/binxuwang/DL_Projects/DiT/results\"\n",
    "sample_dir = DiTroot + \"/042-RAVEN10_abstract-uncond-DiT_B_1_20240309-1718/samples\"\n",
    "sample_all = batch_load_samples(sample_dir, range(1000,1000000,1000), encoding=\"digit\", fmt='%07d.pt')"
   ]
  },
  {
   "cell_type": "code",
   "execution_count": 14,
   "metadata": {},
   "outputs": [],
   "source": [
    "epoch_list = range(1000,1000000,1000)\n",
    "epoch_list = epoch_list[:len(sample_all)]"
   ]
  },
  {
   "cell_type": "code",
   "execution_count": 34,
   "metadata": {},
   "outputs": [],
   "source": [
    "device = torch.device('cuda:0')\n",
    "train_attrs = train_attrs.to(device).to(torch.int32)"
   ]
  },
  {
   "cell_type": "markdown",
   "metadata": {},
   "source": [
    "#### Row wise rule check"
   ]
  },
  {
   "cell_type": "code",
   "execution_count": 35,
   "metadata": {},
   "outputs": [
    {
     "name": "stderr",
     "output_type": "stream",
     "text": [
      "  0%|          | 0/64 [00:00<?, ?it/s]"
     ]
    },
    {
     "name": "stderr",
     "output_type": "stream",
     "text": [
      "100%|██████████| 64/64 [00:02<00:00, 27.44it/s]\n"
     ]
    },
    {
     "name": "stdout",
     "output_type": "stream",
     "text": [
      "count    3072.000000\n",
      "mean      119.237305\n",
      "std        52.511325\n",
      "min        18.000000\n",
      "25%        97.000000\n",
      "50%       117.000000\n",
      "75%       132.000000\n",
      "max       989.000000\n",
      "dtype: float64\n"
     ]
    },
    {
     "data": {
      "image/png": "[encoded data removed]",
      "text/plain": [
       "<Figure size 432x288 with 1 Axes>"
      ]
     },
     "metadata": {
      "needs_background": "light"
     },
     "output_type": "display_data"
    },
    {
     "name": "stderr",
     "output_type": "stream",
     "text": [
      "100%|██████████| 64/64 [00:02<00:00, 27.73it/s]\n"
     ]
    },
    {
     "name": "stdout",
     "output_type": "stream",
     "text": [
      "count    3072.000000\n",
      "mean      112.518880\n",
      "std        28.755059\n",
      "min         8.000000\n",
      "25%        93.000000\n",
      "50%       116.000000\n",
      "75%       134.000000\n",
      "max       182.000000\n",
      "dtype: float64\n"
     ]
    },
    {
     "data": {
      "image/png": "[encoded data removed]",
      "text/plain": [
       "<Figure size 432x288 with 1 Axes>"
      ]
     },
     "metadata": {
      "needs_background": "light"
     },
     "output_type": "display_data"
    },
    {
     "name": "stderr",
     "output_type": "stream",
     "text": [
      "100%|██████████| 64/64 [00:02<00:00, 27.73it/s]\n"
     ]
    },
    {
     "name": "stdout",
     "output_type": "stream",
     "text": [
      "count    3072.000000\n",
      "mean      112.108724\n",
      "std        26.807645\n",
      "min        14.000000\n",
      "25%        93.000000\n",
      "50%       116.000000\n",
      "75%       132.000000\n",
      "max       183.000000\n",
      "dtype: float64\n"
     ]
    },
    {
     "data": {
      "image/png": "[encoded data removed]",
      "text/plain": [
       "<Figure size 432x288 with 1 Axes>"
      ]
     },
     "metadata": {
      "needs_background": "light"
     },
     "output_type": "display_data"
    },
    {
     "name": "stderr",
     "output_type": "stream",
     "text": [
      "100%|██████████| 64/64 [00:02<00:00, 27.73it/s]\n"
     ]
    },
    {
     "name": "stdout",
     "output_type": "stream",
     "text": [
      "count    3072.000000\n",
      "mean      116.861654\n",
      "std        26.291147\n",
      "min        11.000000\n",
      "25%       100.000000\n",
      "50%       121.000000\n",
      "75%       136.000000\n",
      "max       179.000000\n",
      "dtype: float64\n"
     ]
    },
    {
     "data": {
      "image/png": "[encoded data removed]",
      "text/plain": [
       "<Figure size 432x288 with 1 Axes>"
      ]
     },
     "metadata": {
      "needs_background": "light"
     },
     "output_type": "display_data"
    },
    {
     "name": "stderr",
     "output_type": "stream",
     "text": [
      "100%|██████████| 64/64 [00:02<00:00, 27.73it/s]\n"
     ]
    },
    {
     "name": "stdout",
     "output_type": "stream",
     "text": [
      "count    3072.000000\n",
      "mean      109.668620\n",
      "std        27.702228\n",
      "min        16.000000\n",
      "25%        90.000000\n",
      "50%       114.000000\n",
      "75%       131.000000\n",
      "max       181.000000\n",
      "dtype: float64\n"
     ]
    },
    {
     "data": {
      "image/png": "[encoded data removed]",
      "text/plain": [
       "<Figure size 432x288 with 1 Axes>"
      ]
     },
     "metadata": {
      "needs_background": "light"
     },
     "output_type": "display_data"
    },
    {
     "name": "stderr",
     "output_type": "stream",
     "text": [
      "100%|██████████| 64/64 [00:02<00:00, 27.73it/s]\n"
     ]
    },
    {
     "name": "stdout",
     "output_type": "stream",
     "text": [
      "count    3072.000000\n",
      "mean      111.776042\n",
      "std        27.210050\n",
      "min        20.000000\n",
      "25%        93.000000\n",
      "50%       115.000000\n",
      "75%       132.000000\n",
      "max       180.000000\n",
      "dtype: float64\n"
     ]
    },
    {
     "data": {
      "image/png": "[encoded data removed]",
      "text/plain": [
       "<Figure size 432x288 with 1 Axes>"
      ]
     },
     "metadata": {
      "needs_background": "light"
     },
     "output_type": "display_data"
    }
   ],
   "source": [
    "import matplotlib.pyplot as plt\n",
    "import pandas as pd\n",
    "for epochi in [0, 100, 200, 300, 400, -1]:\n",
    "    attr_panels = einops.rearrange(sample_all[epochi], \n",
    "            'b attr (row h) (p w) -> (b row) p (h w) attr', row=3, p=3)\n",
    "    attr_panels.shape # (batch*3, 3, 9, 3)\n",
    "\n",
    "    minL1dist_mat = []\n",
    "    minimum_vec = []\n",
    "    batchsize = 48\n",
    "    for i in trange(0,len(attr_panels),batchsize):\n",
    "        L1dist = (train_attrs[None,] - attr_panels[i:i+batchsize].to(device)[:,None,None]).abs().sum(dim=(-1,-2,-3))\n",
    "        minL1dist = L1dist.min(dim=-1).values\n",
    "        minimum = minL1dist.min(dim=-1).values\n",
    "        minL1dist_mat.append(minL1dist)\n",
    "        minimum_vec.append(minimum)\n",
    "\n",
    "    minL1dist_mat = torch.concatenate(minL1dist_mat, dim=0).cpu() # (3 * sampleN, 35)\n",
    "    minimum_vec = torch.concatenate(minimum_vec, dim=0).cpu() # (3 * sampleN,)\n",
    "    # print basic statistics of minimum_vec using pandas\n",
    "    print(pd.Series(minimum_vec.numpy()).describe())\n",
    "    plt.hist(minimum_vec, bins=100)\n",
    "    plt.xlabel('Minimum Value')\n",
    "    plt.ylabel('Frequency')\n",
    "    plt.title(f'Histogram of minimum_vec (epoch {epoch_list[epochi]})')\n",
    "    plt.show()"
   ]
  },
  {
   "cell_type": "code",
   "execution_count": 56,
   "metadata": {},
   "outputs": [
    {
     "data": {
      "text/plain": [
       "torch.Size([35, 10000, 3, 9, 3])"
      ]
     },
     "execution_count": 56,
     "metadata": {},
     "output_type": "execute_result"
    }
   ],
   "source": [
    "train_attrs.shape"
   ]
  },
  {
   "cell_type": "code",
   "execution_count": 57,
   "metadata": {},
   "outputs": [
    {
     "data": {
      "text/plain": [
       "torch.Size([35, 10000, 3, 9, 3])"
      ]
     },
     "execution_count": 57,
     "metadata": {},
     "output_type": "execute_result"
    }
   ],
   "source": [
    "train_attrs.shape"
   ]
  },
  {
   "cell_type": "code",
   "execution_count": 60,
   "metadata": {},
   "outputs": [
    {
     "name": "stdout",
     "output_type": "stream",
     "text": [
      "torch.Size([9216, 9, 3])\n",
      "torch.Size([35, 30000, 9, 3])\n"
     ]
    }
   ],
   "source": [
    "print(attr_one_panel.shape)"
   ]
  },
  {
   "cell_type": "code",
   "execution_count": 33,
   "metadata": {},
   "outputs": [
    {
     "data": {
      "text/plain": [
       "torch.int32"
      ]
     },
     "execution_count": 33,
     "metadata": {},
     "output_type": "execute_result"
    }
   ],
   "source": [
    "attr_one_panel.dtype"
   ]
  },
  {
   "cell_type": "code",
   "execution_count": 37,
   "metadata": {},
   "outputs": [
    {
     "name": "stdout",
     "output_type": "stream",
     "text": [
      "torch.Size([35, 30000, 9, 3])\n",
      "torch.Size([9216, 9, 3])\n"
     ]
    },
    {
     "name": "stderr",
     "output_type": "stream",
     "text": [
      "100%|██████████| 192/192 [00:07<00:00, 26.08it/s]\n"
     ]
    },
    {
     "name": "stdout",
     "output_type": "stream",
     "text": [
      "count    9216.000000\n",
      "mean       15.864800\n",
      "std        28.414133\n",
      "min         0.000000\n",
      "25%         5.000000\n",
      "50%        12.000000\n",
      "75%        21.000000\n",
      "max       877.000000\n",
      "dtype: float64\n"
     ]
    },
    {
     "data": {
      "image/png": "[encoded data removed]",
      "text/plain": [
       "<Figure size 432x288 with 1 Axes>"
      ]
     },
     "metadata": {
      "needs_background": "light"
     },
     "output_type": "display_data"
    },
    {
     "name": "stdout",
     "output_type": "stream",
     "text": [
      "torch.Size([9216, 9, 3])\n"
     ]
    },
    {
     "name": "stderr",
     "output_type": "stream",
     "text": [
      "100%|██████████| 192/192 [00:07<00:00, 24.30it/s]\n"
     ]
    },
    {
     "name": "stdout",
     "output_type": "stream",
     "text": [
      "count    9216.000000\n",
      "mean       12.181532\n",
      "std         9.653865\n",
      "min         0.000000\n",
      "25%         4.000000\n",
      "50%        11.000000\n",
      "75%        19.000000\n",
      "max        47.000000\n",
      "dtype: float64\n"
     ]
    },
    {
     "data": {
      "image/png": "[encoded data removed]",
      "text/plain": [
       "<Figure size 432x288 with 1 Axes>"
      ]
     },
     "metadata": {
      "needs_background": "light"
     },
     "output_type": "display_data"
    },
    {
     "name": "stdout",
     "output_type": "stream",
     "text": [
      "torch.Size([9216, 9, 3])\n"
     ]
    },
    {
     "name": "stderr",
     "output_type": "stream",
     "text": [
      "100%|██████████| 192/192 [00:07<00:00, 24.30it/s]\n"
     ]
    },
    {
     "name": "stdout",
     "output_type": "stream",
     "text": [
      "count    9216.000000\n",
      "mean       11.936849\n",
      "std         9.458464\n",
      "min         0.000000\n",
      "25%         4.000000\n",
      "50%        11.000000\n",
      "75%        18.000000\n",
      "max        44.000000\n",
      "dtype: float64\n"
     ]
    },
    {
     "data": {
      "image/png": "[encoded data removed]",
      "text/plain": [
       "<Figure size 432x288 with 1 Axes>"
      ]
     },
     "metadata": {
      "needs_background": "light"
     },
     "output_type": "display_data"
    },
    {
     "name": "stdout",
     "output_type": "stream",
     "text": [
      "torch.Size([9216, 9, 3])\n"
     ]
    },
    {
     "name": "stderr",
     "output_type": "stream",
     "text": [
      "100%|██████████| 192/192 [00:07<00:00, 24.29it/s]\n"
     ]
    },
    {
     "name": "stdout",
     "output_type": "stream",
     "text": [
      "count    9216.000000\n",
      "mean       13.303277\n",
      "std         9.718620\n",
      "min         0.000000\n",
      "25%         5.000000\n",
      "50%        12.000000\n",
      "75%        20.000000\n",
      "max        45.000000\n",
      "dtype: float64\n"
     ]
    },
    {
     "data": {
      "image/png": "[encoded data removed]",
      "text/plain": [
       "<Figure size 432x288 with 1 Axes>"
      ]
     },
     "metadata": {
      "needs_background": "light"
     },
     "output_type": "display_data"
    },
    {
     "name": "stdout",
     "output_type": "stream",
     "text": [
      "torch.Size([9216, 9, 3])\n"
     ]
    },
    {
     "name": "stderr",
     "output_type": "stream",
     "text": [
      "100%|██████████| 192/192 [00:07<00:00, 24.30it/s]\n"
     ]
    },
    {
     "name": "stdout",
     "output_type": "stream",
     "text": [
      "count    9216.000000\n",
      "mean       11.486111\n",
      "std         9.340977\n",
      "min         0.000000\n",
      "25%         3.000000\n",
      "50%        11.000000\n",
      "75%        18.000000\n",
      "max        44.000000\n",
      "dtype: float64\n"
     ]
    },
    {
     "data": {
      "image/png": "[encoded data removed]",
      "text/plain": [
       "<Figure size 432x288 with 1 Axes>"
      ]
     },
     "metadata": {
      "needs_background": "light"
     },
     "output_type": "display_data"
    },
    {
     "name": "stdout",
     "output_type": "stream",
     "text": [
      "torch.Size([9216, 9, 3])\n"
     ]
    },
    {
     "name": "stderr",
     "output_type": "stream",
     "text": [
      "100%|██████████| 192/192 [00:07<00:00, 24.30it/s]\n"
     ]
    },
    {
     "name": "stdout",
     "output_type": "stream",
     "text": [
      "count    9216.000000\n",
      "mean       12.304796\n",
      "std         9.519246\n",
      "min         0.000000\n",
      "25%         4.000000\n",
      "50%        11.000000\n",
      "75%        19.000000\n",
      "max        46.000000\n",
      "dtype: float64\n"
     ]
    },
    {
     "data": {
      "image/png": "[encoded data removed]",
      "text/plain": [
       "<Figure size 432x288 with 1 Axes>"
      ]
     },
     "metadata": {
      "needs_background": "light"
     },
     "output_type": "display_data"
    }
   ],
   "source": [
    "import matplotlib.pyplot as plt\n",
    "import pandas as pd\n",
    "# ([35, 10000, 3, 9, 3])\n",
    "train_attrs_one_panel = einops.rearrange(train_attrs,\n",
    "        'class B p pos attr -> class (B p) pos attr', pos=9, attr=3, p=3)\n",
    "print(train_attrs_one_panel.shape)\n",
    "# train_attrs_one_panel.shape # (batch, 3, 9, 3)\n",
    "for epochi in [0, 100, 200, 300, 400, -1]:\n",
    "    attr_one_panel = einops.rearrange(sample_all[epochi], \n",
    "            'b attr (row h) (p w) -> (b row p) (h w) attr', row=3, p=3)\n",
    "    print(attr_one_panel.shape) # (batch*3, 3, 9, 3)\n",
    "#     raise ValueError\n",
    "    minL1dist_mat = []\n",
    "    minimum_vec = []\n",
    "    batchsize = 48 # cannot be larger, otherwise OOM\n",
    "    for i in trange(0,len(attr_one_panel),batchsize):\n",
    "        L1dist = (train_attrs_one_panel[None,] - \n",
    "                  attr_one_panel[i:i+batchsize].to(device)[:,None,None]).abs().sum(dim=(-1,-2))\n",
    "        minL1dist = L1dist.min(dim=-1).values\n",
    "        minimum = minL1dist.min(dim=-1).values\n",
    "        minL1dist_mat.append(minL1dist)\n",
    "        minimum_vec.append(minimum)\n",
    "\n",
    "    minL1dist_mat = torch.concatenate(minL1dist_mat, dim=0).cpu() # (3 * sampleN, 35)\n",
    "    minimum_vec = torch.concatenate(minimum_vec, dim=0).cpu() # (3 * sampleN,)\n",
    "    # print basic statistics of minimum_vec using pandas\n",
    "    print(pd.Series(minimum_vec.numpy()).describe())\n",
    "    plt.hist(minimum_vec, bins=100)\n",
    "    plt.xlabel('Minimum Value')\n",
    "    plt.ylabel('Frequency')\n",
    "    plt.title(f'Histogram of minimum_vec (epoch {epoch_list[epochi]})')\n",
    "    plt.show()\n",
    "    torch.cuda.empty_cache()"
   ]
  },
  {
   "cell_type": "code",
   "execution_count": 19,
   "metadata": {},
   "outputs": [],
   "source": [
    "min_df = pd.Series(minimum_vec.numpy())"
   ]
  },
  {
   "cell_type": "code",
   "execution_count": 30,
   "metadata": {},
   "outputs": [
    {
     "data": {
      "text/plain": [
       "20\n",
       "0     422\n",
       "23    338\n",
       "18    324\n",
       "21    322\n",
       "16    320\n",
       "15    313\n",
       "22    309\n",
       "24    300\n",
       "25    294\n",
       "17    290\n",
       "20    287\n",
       "12    285\n",
       "19    280\n",
       "14    272\n",
       "26    271\n",
       "1     260\n",
       "27    252\n",
       "28    234\n",
       "9     227\n",
       "8     223\n",
       "13    220\n",
       "30    212\n",
       "29    209\n",
       "31    203\n",
       "6     202\n",
       "2     197\n",
       "11    195\n",
       "4     175\n",
       "10    173\n",
       "33    168\n",
       "32    154\n",
       "34    136\n",
       "36    132\n",
       "35    128\n",
       "7     104\n",
       "37    101\n",
       "3      96\n",
       "39     80\n",
       "5      78\n",
       "38     73\n",
       "40     71\n",
       "41     55\n",
       "42     45\n",
       "43     45\n",
       "44     44\n",
       "45     26\n",
       "46     21\n",
       "47     16\n",
       "49      8\n",
       "51      8\n",
       "48      7\n",
       "52      3\n",
       "50      3\n",
       "55      2\n",
       "53      2\n",
       "54      1\n",
       "Name: count, dtype: int64"
      ]
     },
     "execution_count": 30,
     "metadata": {},
     "output_type": "execute_result"
    }
   ],
   "source": [
    "minL1_class_df = pd.DataFrame(minL1dist_mat.numpy())\n",
    "minL1_class_df.iloc[:,20].value_counts()"
   ]
  },
  {
   "cell_type": "code",
   "execution_count": 25,
   "metadata": {},
   "outputs": [
    {
     "ename": "TypeError",
     "evalue": "DataFrame.value_counts() got an unexpected keyword argument 'axis'",
     "output_type": "error",
     "traceback": [
      "\u001b[0;31m---------------------------------------------------------------------------\u001b[0m",
      "\u001b[0;31mTypeError\u001b[0m                                 Traceback (most recent call last)",
      "Cell \u001b[0;32mIn[25], line 1\u001b[0m\n\u001b[0;32m----> 1\u001b[0m \u001b[43mminL1_class_df\u001b[49m\u001b[38;5;241;43m.\u001b[39;49m\u001b[43mvalue_counts\u001b[49m\u001b[43m(\u001b[49m\u001b[43maxis\u001b[49m\u001b[38;5;241;43m=\u001b[39;49m\u001b[38;5;241;43m0\u001b[39;49m\u001b[43m)\u001b[49m\n",
      "\u001b[0;31mTypeError\u001b[0m: DataFrame.value_counts() got an unexpected keyword argument 'axis'"
     ]
    }
   ],
   "source": []
  },
  {
   "cell_type": "code",
   "execution_count": 21,
   "metadata": {},
   "outputs": [
    {
     "data": {
      "text/plain": [
       "0     0.173720\n",
       "11    0.039931\n",
       "14    0.039931\n",
       "12    0.039605\n",
       "10    0.039388\n",
       "13    0.038737\n",
       "6     0.035699\n",
       "8     0.035590\n",
       "4     0.034614\n",
       "9     0.032878\n",
       "15    0.032227\n",
       "7     0.032118\n",
       "18    0.030599\n",
       "17    0.029188\n",
       "5     0.028971\n",
       "16    0.028863\n",
       "22    0.025716\n",
       "3     0.025065\n",
       "20    0.023980\n",
       "21    0.023763\n",
       "19    0.023763\n",
       "24    0.020291\n",
       "23    0.019206\n",
       "25    0.016819\n",
       "27    0.016385\n",
       "2     0.015734\n",
       "26    0.013563\n",
       "29    0.012912\n",
       "28    0.012153\n",
       "31    0.009440\n",
       "30    0.008789\n",
       "1     0.008355\n",
       "33    0.006944\n",
       "32    0.005859\n",
       "34    0.004449\n",
       "35    0.004449\n",
       "36    0.003364\n",
       "37    0.002604\n",
       "38    0.001628\n",
       "39    0.001085\n",
       "40    0.000760\n",
       "41    0.000326\n",
       "42    0.000217\n",
       "46    0.000109\n",
       "43    0.000109\n",
       "44    0.000109\n",
       "Name: count, dtype: float64"
      ]
     },
     "execution_count": 21,
     "metadata": {},
     "output_type": "execute_result"
    }
   ],
   "source": [
    "min_df.value_counts() / len(min_df)\n"
   ]
  },
  {
   "cell_type": "code",
   "execution_count": 46,
   "metadata": {},
   "outputs": [
    {
     "data": {
      "text/plain": [
       "torch.Size([3072])"
      ]
     },
     "execution_count": 46,
     "metadata": {},
     "output_type": "execute_result"
    }
   ],
   "source": [
    "minimum_vec.shape"
   ]
  },
  {
   "cell_type": "code",
   "execution_count": 45,
   "metadata": {},
   "outputs": [
    {
     "data": {
      "text/plain": [
       "torch.Size([3072, 35])"
      ]
     },
     "execution_count": 45,
     "metadata": {},
     "output_type": "execute_result"
    }
   ],
   "source": [
    "minL1dist_mat.shape"
   ]
  },
  {
   "cell_type": "code",
   "execution_count": 35,
   "metadata": {},
   "outputs": [
    {
     "data": {
      "text/plain": [
       "torch.Size([1024, 3, 9, 9])"
      ]
     },
     "execution_count": 35,
     "metadata": {},
     "output_type": "execute_result"
    }
   ],
   "source": [
    "sample_all[0].shape"
   ]
  },
  {
   "cell_type": "code",
   "execution_count": null,
   "metadata": {},
   "outputs": [],
   "source": [
    "\n",
    "matching_tensors = []\n",
    "for row in attr_panels:\n",
    "    matching = torch.all(torch.eq(row, data), dim=(1, 2, 3)).any()\n",
    "    matching_tensors.append(matching.item())\n",
    "\n",
    "matching_tensors\n"
   ]
  },
  {
   "cell_type": "code",
   "execution_count": null,
   "metadata": {},
   "outputs": [],
   "source": [
    "attr_row = attr_tsr[:,3*i_row:3*(i_row+1),:] # torch.Size([3, 3, 9])\n",
    "attr = einops.rearrange(attr_row, 'attr h (p w) -> p (h w) attr', h=3,w=3,p=3) # (3, 9, 3)"
   ]
  }
 ],
 "metadata": {
  "kernelspec": {
   "display_name": "torch",
   "language": "python",
   "name": "python3"
  },
  "language_info": {
   "codemirror_mode": {
    "name": "ipython",
    "version": 3
   },
   "file_extension": ".py",
   "mimetype": "text/x-python",
   "name": "python",
   "nbconvert_exporter": "python",
   "pygments_lexer": "ipython3",
   "version": "3.10.12"
  }
 },
 "nbformat": 4,
 "nbformat_minor": 2
}
