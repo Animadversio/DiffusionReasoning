{
 "cells": [
  {
   "cell_type": "code",
   "execution_count": 22,
   "metadata": {},
   "outputs": [],
   "source": [
    "%load_ext autoreload\n",
    "%autoreload 2"
   ]
  },
  {
   "cell_type": "code",
   "execution_count": 23,
   "metadata": {},
   "outputs": [],
   "source": [
    "import sys\n",
    "sys.path.append(\"/n/home12/binxuwang/Github/mini_edm\")\n",
    "sys.path.append(\"/n/home12/binxuwang/Github/DiffusionReasoning\")\n",
    "import os\n",
    "from os.path import join\n",
    "import pickle as pkl\n",
    "import einops\n",
    "import torch\n",
    "import torch as th\n",
    "from easydict import EasyDict as edict\n",
    "import numpy as np\n",
    "import pandas as pd\n",
    "import seaborn as sns\n",
    "import matplotlib.pyplot as plt\n",
    "from train_edm import create_model, edm_sampler, EDM\n",
    "from edm_utils import edm_sampler_inpaint, create_edm, get_default_config, create_edm_new\n",
    "from tqdm import trange, tqdm\n",
    "# from rule_utils import get_rule_img, get_obj_list, get_rule_list\n",
    "# from rule_utils import check_consistent\n",
    "from dataset_utils import train_data2attr_tsr,load_raw_data,load_PGM_abstract\n",
    "from rule_new_utils import infer_rule_from_sample_batch, check_r3_r2_batch\n",
    "from stats_plot_utils import add_rectangles, saveallforms\n",
    "plt.rcParams['figure.dpi'] = 72\n",
    "plt.rcParams['figure.figsize'] = [6.0, 4.0]\n",
    "plt.rcParams['figure.edgecolor'] = (1, 1, 1, 0)\n",
    "plt.rcParams['figure.facecolor'] = (1, 1, 1, 0)\n",
    "# vector graphics type\n",
    "plt.rcParams['pdf.fonttype'] = 42\n",
    "plt.rcParams['ps.fonttype'] = 42\n"
   ]
  },
  {
   "cell_type": "code",
   "execution_count": 24,
   "metadata": {},
   "outputs": [],
   "source": [
    "heldout_id_dict = {\n",
    "    'train_inputs_new.pt'       : [1, 16, 20, 34, 37], \n",
    "    'train_inputs_new_split0.pt': [1, 16, 20, 34, 37], \n",
    "    'train_inputs_new_split1.pt': [8, 12, 24, 36, 39],\n",
    "    'train_inputs_new_split2.pt': [5, 17, 21, 33, 38],\n",
    "    'train_inputs_new_split3.pt': [3, 10, 29, 31, 37],\n",
    "    'train_inputs_new_split4.pt': [0, 14, 27, 35, 38],\n",
    "    'train_inputs_new_split5.pt': [4, 19, 26, 30, 39],\n",
    "    'train_inputs_new_split6.pt': [9, 13, 25, 32, 37],\n",
    "    'train_inputs_new_split7.pt': [2, 18, 23, 30, 38],\n",
    "    'train_inputs_new_split8.pt': [7, 15, 22, 34, 39],\n",
    "    'train_inputs_new_split9.pt': [6, 11, 28, 33, 37],\n",
    "}\n",
    "heldout_ids = heldout_id_dict['train_inputs_new.pt']  # [1, 16, 20, 34, 37]"
   ]
  },
  {
   "cell_type": "code",
   "execution_count": 2,
   "metadata": {},
   "outputs": [],
   "source": [
    "exproot = r\"/n/holylfs06/LABS/kempner_fellow_binxuwang/Users/binxuwang/DL_Projects/mini_edm/exps\"\n",
    "# expname = \"WideBlnrX3_new_RAVEN10_abstract_20240315-1327\"\n",
    "expname = \"WideBlnrX3_new_RAVEN10_abstract_20240412-1347\"\n",
    "epoch = 999999 #700000\n",
    "device = \"cuda\"\n",
    "\n",
    "DATASET = \"RAVEN10_abstract\"\n",
    "expdir = join(exproot, expname)\n",
    "ckptdir = join(expdir, \"checkpoints\")\n",
    "savedir = join(expdir, \"inpaint_pilot\")\n",
    "os.makedirs(savedir, exist_ok=True)\n",
    "\n",
    "config_ft = get_default_config(DATASET, layers_per_block=2, \n",
    "                               model_channels=128, \n",
    "                               channel_mult=[1, 2, 4], \n",
    "                               attn_resolutions=[9, 3], \n",
    "                               spatial_matching=\"bilinear\")\n",
    "ckpt_path = join(ckptdir, f\"ema_{epoch}.pth\")\n",
    "edm, model_EDM = create_edm_new(ckpt_path, config_ft, device) \n"
   ]
  },
  {
   "cell_type": "code",
   "execution_count": 3,
   "metadata": {},
   "outputs": [
    {
     "name": "stdout",
     "output_type": "stream",
     "text": [
      "inpaint_meta_col_Heun18.pkl\t\tinpaint_rule_stats_Heun35.csv\n",
      "inpaint_meta_col.pkl\t\t\tinpaint_rule_stats_unif_baseline.csv\n",
      "inpaint_meta_col_unif_baseline.pkl\tinpaint_sample_col_Heun18.pkl\n",
      "inpaint_rule_all_col_Heun18.pkl\t\tinpaint_sample_col.pkl\n",
      "inpaint_rule_all_col.pkl\t\tinpaint_sample_col_unif_baseline.pkl\n",
      "inpaint_rule_all_col_unif_baseline.pkl\tinpaint_stats_col_Heun18.pkl\n",
      "inpaint_rule_stats.csv\t\t\tinpaint_stats_col.pkl\n",
      "inpaint_rule_stats_Heun18.csv\t\tinpaint_stats_col_unif_baseline.pkl\n"
     ]
    }
   ],
   "source": [
    "!ls {savedir}"
   ]
  },
  {
   "cell_type": "code",
   "execution_count": 6,
   "metadata": {},
   "outputs": [
    {
     "name": "stdout",
     "output_type": "stream",
     "text": [
      "  File: /n/holylfs06/LABS/kempner_fellow_binxuwang/Users/binxuwang/DL_Projects/mini_edm/exps/WideBlnrX3_new_RAVEN10_abstract_20240412-1347/inpaint_pilot/inpaint_rule_stats.csv\n",
      "  Size: 55918     \tBlocks: 112        IO Block: 4194304 regular file\n",
      "Device: 865a45f8h/2254063096d\tInode: 144115458323254321  Links: 1\n",
      "Access: (0664/-rw-rw-r--)  Uid: (64173/binxuwang)   Gid: (11168/kempner_fellow_binxuwang)\n",
      "Context: unconfined_u:object_r:unlabeled_t:s0\n",
      "Access: 2024-04-15 19:38:26.000000000 -0400\n",
      "Modify: 2024-04-15 17:32:40.000000000 -0400\n",
      "Change: 2024-04-15 17:32:40.000000000 -0400\n",
      " Birth: 2024-04-15 17:03:52.000000000 -0400\n",
      "  File: /n/holylfs06/LABS/kempner_fellow_binxuwang/Users/binxuwang/DL_Projects/mini_edm/exps/WideBlnrX3_new_RAVEN10_abstract_20240412-1347/inpaint_pilot/inpaint_rule_stats_Heun18.csv\n",
      "  Size: 564184    \tBlocks: 1104       IO Block: 4194304 regular file\n",
      "Device: 865a45f8h/2254063096d\tInode: 144115469161335059  Links: 1\n",
      "Access: (0664/-rw-rw-r--)  Uid: (64173/binxuwang)   Gid: (11168/kempner_fellow_binxuwang)\n",
      "Context: system_u:object_r:unlabeled_t:s0\n",
      "Access: 2024-05-14 21:33:20.000000000 -0400\n",
      "Modify: 2024-04-15 21:25:05.000000000 -0400\n",
      "Change: 2024-04-15 21:25:05.000000000 -0400\n",
      " Birth: 2024-04-15 19:54:21.000000000 -0400\n",
      "  File: /n/holylfs06/LABS/kempner_fellow_binxuwang/Users/binxuwang/DL_Projects/mini_edm/exps/WideBlnrX3_new_RAVEN10_abstract_20240412-1347/inpaint_pilot/inpaint_rule_stats_Heun35.csv\n",
      "  Size: 2292      \tBlocks: 8          IO Block: 4194304 regular file\n",
      "Device: 865a45f8h/2254063096d\tInode: 144115469161335058  Links: 1\n",
      "Access: (0664/-rw-rw-r--)  Uid: (64173/binxuwang)   Gid: (11168/kempner_fellow_binxuwang)\n",
      "Context: system_u:object_r:unlabeled_t:s0\n",
      "Access: 2024-05-14 21:30:52.000000000 -0400\n",
      "Modify: 2024-04-15 19:53:17.000000000 -0400\n",
      "Change: 2024-04-15 19:53:17.000000000 -0400\n",
      " Birth: 2024-04-15 19:52:48.000000000 -0400\n",
      "  File: /n/holylfs06/LABS/kempner_fellow_binxuwang/Users/binxuwang/DL_Projects/mini_edm/exps/WideBlnrX3_new_RAVEN10_abstract_20240412-1347/inpaint_pilot/inpaint_rule_stats_unif_baseline.csv\n",
      "  Size: 361044    \tBlocks: 712        IO Block: 4194304 regular file\n",
      "Device: 865a45f8h/2254063096d\tInode: 144115458323254351  Links: 1\n",
      "Access: (0664/-rw-rw-r--)  Uid: (64173/binxuwang)   Gid: (11168/kempner_fellow_binxuwang)\n",
      "Context: unconfined_u:object_r:unlabeled_t:s0\n",
      "Access: 2024-04-15 19:37:19.000000000 -0400\n",
      "Modify: 2024-04-15 18:30:52.000000000 -0400\n",
      "Change: 2024-04-15 18:30:52.000000000 -0400\n",
      " Birth: 2024-04-15 18:04:21.000000000 -0400\n"
     ]
    }
   ],
   "source": [
    "!stat {savedir}/*.csv"
   ]
  },
  {
   "cell_type": "code",
   "execution_count": 9,
   "metadata": {},
   "outputs": [],
   "source": [
    "suffix = \"_Heun18\"\n",
    "df = pd.read_csv(join(savedir, f\"inpaint_rule_stats{suffix}.csv\"), index_col=0)"
   ]
  },
  {
   "cell_type": "code",
   "execution_count": 13,
   "metadata": {},
   "outputs": [],
   "source": [
    "mean_consist = df.groupby(\"iclass\").agg({\"consistent_r3\": \"mean\",})\n",
    "mean_consist_vec = mean_consist.values"
   ]
  },
  {
   "cell_type": "code",
   "execution_count": 26,
   "metadata": {},
   "outputs": [
    {
     "data": {
      "text/plain": [
       "22.876666666666665"
      ]
     },
     "execution_count": 26,
     "metadata": {},
     "output_type": "execute_result"
    }
   ],
   "source": [
    "df.consistent_r3.mean()"
   ]
  },
  {
   "cell_type": "code",
   "execution_count": 25,
   "metadata": {},
   "outputs": [
    {
     "data": {
      "image/png": "[encoded data removed]",
      "text/plain": [
       "<Figure size 864x396 with 2 Axes>"
      ]
     },
     "metadata": {
      "needs_background": "light"
     },
     "output_type": "display_data"
    }
   ],
   "source": [
    "plt.figure(figsize=(12, 5.5))\n",
    "sns.heatmap(mean_consist_vec.reshape(-1, 10), cmap=\"coolwarm\", \n",
    "            annot=True, fmt=\".1f\", \n",
    "            cbar_kws={'label': 'mean consistent r3'})\n",
    "plt.axis(\"image\")\n",
    "add_rectangles(heldout_ids)\n",
    "plt.show()"
   ]
  },
  {
   "cell_type": "code",
   "execution_count": null,
   "metadata": {},
   "outputs": [],
   "source": []
  }
 ],
 "metadata": {
  "kernelspec": {
   "display_name": "torch",
   "language": "python",
   "name": "python3"
  },
  "language_info": {
   "codemirror_mode": {
    "name": "ipython",
    "version": 3
   },
   "file_extension": ".py",
   "mimetype": "text/x-python",
   "name": "python",
   "nbconvert_exporter": "python",
   "pygments_lexer": "ipython3",
   "version": "3.10.12"
  }
 },
 "nbformat": 4,
 "nbformat_minor": 2
}
