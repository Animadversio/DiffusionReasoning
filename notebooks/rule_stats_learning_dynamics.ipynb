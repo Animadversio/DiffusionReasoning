{
 "cells": [
  {
   "cell_type": "markdown",
   "metadata": {},
   "source": [
    "### Statistics of unconditional generated rules."
   ]
  },
  {
   "cell_type": "code",
   "execution_count": 1,
   "metadata": {},
   "outputs": [],
   "source": [
    "import sys\n",
    "# sys.path.append(\"/n/home12/binxuwang/Github/mini_edm\")\n",
    "sys.path.append(\"/n/home12/binxuwang/Github/DiffusionReasoning\")"
   ]
  },
  {
   "cell_type": "code",
   "execution_count": 2,
   "metadata": {},
   "outputs": [],
   "source": [
    "import os\n",
    "from os.path import join\n",
    "import pickle as pkl\n",
    "import torch\n",
    "from easydict import EasyDict as edict\n",
    "from tqdm import tqdm\n",
    "import pandas as pd\n",
    "import numpy as np\n",
    "import seaborn as sns\n",
    "import matplotlib.pyplot as plt\n",
    "import einops\n",
    "import json\n"
   ]
  },
  {
   "cell_type": "code",
   "execution_count": 3,
   "metadata": {},
   "outputs": [],
   "source": [
    "expdir = \"/n/holylfs06/LABS/kempner_fellow_binxuwang/Users/binxuwang/DL_Projects/DiT/results/045-RAVEN10_abstract-uncond-DiT_S_1_20240311-1256\""
   ]
  },
  {
   "cell_type": "code",
   "execution_count": 9,
   "metadata": {},
   "outputs": [
    {
     "data": {
      "text/plain": [
       "['consistency_all', 'rule_list_all', 'epoch_list']"
      ]
     },
     "execution_count": 9,
     "metadata": {},
     "output_type": "execute_result"
    }
   ],
   "source": [
    "data = np.load(join(expdir, \"samples_inferred_rule_consistency_new.npz\"), allow_pickle=True)\n",
    "list(data.keys())\n"
   ]
  },
  {
   "cell_type": "code",
   "execution_count": 29,
   "metadata": {},
   "outputs": [
    {
     "name": "stdout",
     "output_type": "stream",
     "text": [
      "[      1    1000    2000 ... 1003000 1004000 1005000]\n",
      "1006\n"
     ]
    }
   ],
   "source": [
    "print(data['epoch_list'])\n",
    "print(len(data['epoch_list']))"
   ]
  },
  {
   "cell_type": "code",
   "execution_count": 10,
   "metadata": {},
   "outputs": [
    {
     "name": "stdout",
     "output_type": "stream",
     "text": [
      "(1006, 1024, 3)\n",
      "object\n"
     ]
    }
   ],
   "source": [
    "print(data['rule_list_all'].shape)\n",
    "print(data['rule_list_all'].dtype)"
   ]
  },
  {
   "cell_type": "code",
   "execution_count": 12,
   "metadata": {},
   "outputs": [
    {
     "data": {
      "text/plain": [
       "array([array([26]), array([26]), array([26])], dtype=object)"
      ]
     },
     "execution_count": 12,
     "metadata": {},
     "output_type": "execute_result"
    }
   ],
   "source": [
    "# last sample in last generation\n",
    "data['rule_list_all'][-1,-1]"
   ]
  },
  {
   "cell_type": "code",
   "execution_count": 23,
   "metadata": {},
   "outputs": [],
   "source": [
    "# Concanate all the rules for all the samples in the last generation. ignore the invalid rules\n",
    "rule_pool = np.concatenate(list(data['rule_list_all'][-1,:,:].flatten())).astype(int)"
   ]
  },
  {
   "cell_type": "code",
   "execution_count": 24,
   "metadata": {},
   "outputs": [
    {
     "name": "stdout",
     "output_type": "stream",
     "text": [
      "2490\n"
     ]
    }
   ],
   "source": [
    "print(len(rule_pool))"
   ]
  },
  {
   "cell_type": "markdown",
   "metadata": {},
   "source": [
    "The held out rules for this training dataset are [1, 16, 20, 34, 37]. So generation of these rules are kind of generalization in the rule space. "
   ]
  },
  {
   "cell_type": "code",
   "execution_count": 27,
   "metadata": {},
   "outputs": [
    {
     "name": "stdout",
     "output_type": "stream",
     "text": [
      "12    106\n",
      "26    105\n",
      "35    104\n",
      "39    102\n",
      "25    102\n",
      "38     99\n",
      "5      95\n",
      "10     95\n",
      "13     94\n",
      "30     93\n",
      "2      92\n",
      "15     90\n",
      "24     87\n",
      "6      87\n",
      "36     86\n",
      "33     83\n",
      "23     78\n",
      "22     76\n",
      "21     72\n",
      "14     72\n",
      "11     67\n",
      "32     63\n",
      "9      62\n",
      "4      62\n",
      "31     60\n",
      "3      54\n",
      "0      51\n",
      "7      49\n",
      "16     45\n",
      "8      45\n",
      "18     27\n",
      "28     25\n",
      "29     20\n",
      "20     18\n",
      "19     13\n",
      "17      5\n",
      "27      4\n",
      "37      1\n",
      "1       1\n",
      "Name: count, dtype: int64\n"
     ]
    }
   ],
   "source": [
    "# Count the occurrence of each rule using pandas\n",
    "rule_counts = pd.Series(rule_pool).value_counts()\n",
    "print(rule_counts)"
   ]
  },
  {
   "cell_type": "code",
   "execution_count": 28,
   "metadata": {},
   "outputs": [
    {
     "data": {
      "image/png": "[encoded data removed]",
      "text/plain": [
       "<Figure size 640x480 with 1 Axes>"
      ]
     },
     "metadata": {},
     "output_type": "display_data"
    }
   ],
   "source": [
    "# Histogram of rule pool\n",
    "plt.hist(rule_pool, bins=len(np.unique(rule_pool)))\n",
    "plt.xlabel('Rule')\n",
    "plt.ylabel('Frequency')\n",
    "plt.title('Histogram of Rule Pool')\n",
    "plt.show()"
   ]
  },
  {
   "cell_type": "code",
   "execution_count": null,
   "metadata": {},
   "outputs": [],
   "source": []
  }
 ],
 "metadata": {
  "kernelspec": {
   "display_name": "torch",
   "language": "python",
   "name": "python3"
  },
  "language_info": {
   "codemirror_mode": {
    "name": "ipython",
    "version": 3
   },
   "file_extension": ".py",
   "mimetype": "text/x-python",
   "name": "python",
   "nbconvert_exporter": "python",
   "pygments_lexer": "ipython3",
   "version": "3.10.12"
  }
 },
 "nbformat": 4,
 "nbformat_minor": 2
}
