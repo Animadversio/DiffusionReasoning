{
 "cells": [
  {
   "cell_type": "code",
   "execution_count": null,
   "metadata": {},
   "outputs": [],
   "source": []
  },
  {
   "cell_type": "code",
   "execution_count": 1,
   "metadata": {},
   "outputs": [],
   "source": [
    "%load_ext autoreload\n",
    "%autoreload 2"
   ]
  },
  {
   "cell_type": "code",
   "execution_count": 9,
   "metadata": {},
   "outputs": [],
   "source": [
    "import sys\n",
    "sys.path.append(\"/n/home12/binxuwang/Github/mini_edm\")\n",
    "sys.path.append(\"/n/home12/binxuwang/Github/DiffusionReasoning\")\n",
    "sys.path.append(\"/n/home12/binxuwang/Github/DiT\")"
   ]
  },
  {
   "cell_type": "code",
   "execution_count": 6,
   "metadata": {},
   "outputs": [],
   "source": [
    "import os\n",
    "from os.path import join\n",
    "import pickle as pkl\n",
    "import torch\n",
    "from tqdm import tqdm\n",
    "import numpy as np\n",
    "import seaborn as sns\n",
    "import einops\n",
    "import matplotlib.pyplot as plt\n",
    "from easydict import EasyDict as edict\n",
    "import torch as th"
   ]
  },
  {
   "cell_type": "code",
   "execution_count": 4,
   "metadata": {},
   "outputs": [],
   "source": [
    "import matplotlib.pyplot as plt \n",
    "%matplotlib inline\n",
    "plt.rcParams['figure.dpi'] = 72\n",
    "plt.rcParams['figure.figsize'] = [6.0, 4.0]\n",
    "plt.rcParams['figure.edgecolor'] = (1, 1, 1, 0)\n",
    "plt.rcParams['figure.facecolor'] = (1, 1, 1, 0)\n",
    "# vector graphics type\n",
    "plt.rcParams['pdf.fonttype'] = 42\n",
    "plt.rcParams['ps.fonttype'] = 42"
   ]
  },
  {
   "cell_type": "code",
   "execution_count": 5,
   "metadata": {},
   "outputs": [],
   "source": [
    "from train_edm import create_model, edm_sampler, EDM\n",
    "from edm_utils import edm_sampler_inpaint, create_edm, get_default_config\n",
    "from rule_utils import get_rule_img, get_obj_list, get_rule_list\n",
    "from rule_utils import check_consistent\n",
    "from dataset_utils import train_data2attr_tsr,load_raw_data,load_PGM_abstract"
   ]
  },
  {
   "cell_type": "markdown",
   "metadata": {},
   "source": [
    "### Load in model"
   ]
  },
  {
   "cell_type": "code",
   "execution_count": 15,
   "metadata": {},
   "outputs": [],
   "source": [
    "DiT_configs = {\n",
    "    # \"DiT_XL_2\": {\"depth\": 28, \"hidden_size\": 1152, \"patch_size\": 2, \"num_heads\": 16},\n",
    "    \"DiT_XL_1\": {\"depth\": 28, \"hidden_size\": 1152, \"patch_size\": 1, \"num_heads\": 16},\n",
    "    \"DiT_XL_3\": {\"depth\": 28, \"hidden_size\": 1152, \"patch_size\": 3, \"num_heads\": 16},\n",
    "    # \"DiT_XL_4\": {\"depth\": 28, \"hidden_size\": 1152, \"patch_size\": 4, \"num_heads\": 16},\n",
    "    # \"DiT_XL_8\": {\"depth\": 28, \"hidden_size\": 1152, \"patch_size\": 8, \"num_heads\": 16},\n",
    "    # \"DiT_L_2\": {\"depth\": 24, \"hidden_size\": 1024, \"patch_size\": 2, \"num_heads\": 16},\n",
    "    \"DiT_L_1\": {\"depth\": 24, \"hidden_size\": 1024, \"patch_size\": 1, \"num_heads\": 16},\n",
    "    \"DiT_L_3\": {\"depth\": 24, \"hidden_size\": 1024, \"patch_size\": 3, \"num_heads\": 16},\n",
    "    # \"DiT_L_4\": {\"depth\": 24, \"hidden_size\": 1024, \"patch_size\": 4, \"num_heads\": 16},\n",
    "    # \"DiT_L_8\": {\"depth\": 24, \"hidden_size\": 1024, \"patch_size\": 8, \"num_heads\": 16},\n",
    "    # \"DiT_B_2\": {\"depth\": 12, \"hidden_size\": 768, \"patch_size\": 2, \"num_heads\": 12},\n",
    "    \"DiT_B_1\": {\"depth\": 12, \"hidden_size\": 768, \"patch_size\": 1, \"num_heads\": 12},\n",
    "    \"DiT_B_3\": {\"depth\": 12, \"hidden_size\": 768, \"patch_size\": 3, \"num_heads\": 12},\n",
    "    # \"DiT_B_4\": {\"depth\": 12, \"hidden_size\": 768, \"patch_size\": 4, \"num_heads\": 12},\n",
    "    # \"DiT_B_8\": {\"depth\": 12, \"hidden_size\": 768, \"patch_size\": 8, \"num_heads\": 12},\n",
    "    # \"DiT_S_2\": {\"depth\": 12, \"hidden_size\": 384, \"patch_size\": 2, \"num_heads\": 6},\n",
    "    \"DiT_S_1\": {\"depth\": 12, \"hidden_size\": 384, \"patch_size\": 1, \"num_heads\": 6},\n",
    "    \"DiT_S_3\": {\"depth\": 12, \"hidden_size\": 384, \"patch_size\": 3, \"num_heads\": 6},\n",
    "    # \"DiT_S_4\": {\"depth\": 12, \"hidden_size\": 384, \"patch_size\": 4, \"num_heads\": 6},\n",
    "    # \"DiT_S_8\": {\"depth\": 12, \"hidden_size\": 384, \"patch_size\": 8, \"num_heads\": 6},\n",
    "}"
   ]
  },
  {
   "cell_type": "code",
   "execution_count": 16,
   "metadata": {},
   "outputs": [],
   "source": [
    "def infer_config_from_expname():\n",
    "    pass"
   ]
  },
  {
   "cell_type": "code",
   "execution_count": 175,
   "metadata": {},
   "outputs": [],
   "source": [
    "from diffusion import create_diffusion\n",
    "from models import DiT\n",
    "\n",
    "device = \"cuda\"\n",
    "diffusion_eval = create_diffusion(timestep_respacing=\"ddim200\")  # default: ddim100"
   ]
  },
  {
   "cell_type": "code",
   "execution_count": 17,
   "metadata": {},
   "outputs": [],
   "source": [
    "class_dropout_prob = 1.0\n",
    "num_classes = 0\n",
    "model_cfg = DiT_configs[\"DiT_S_1\"]\n",
    "model = DiT(input_size=9,\n",
    "            in_channels=3, **model_cfg,\n",
    "            mlp_ratio=4.0,\n",
    "            class_dropout_prob=class_dropout_prob,\n",
    "            num_classes=num_classes,\n",
    "            learn_sigma=True,)"
   ]
  },
  {
   "cell_type": "code",
   "execution_count": 18,
   "metadata": {},
   "outputs": [],
   "source": [
    "exproot = r\"/n/holylfs06/LABS/kempner_fellow_binxuwang/Users/binxuwang/DL_Projects/DiT/results\"\n",
    "expname = r\"045-RAVEN10_abstract-uncond-DiT_S_1_20240311-1256\"\n",
    "expdir = join(exproot, expname)\n",
    "ckptdir = join(expdir, \"checkpoints\")\n",
    "\n",
    "ckpt_path = join(ckptdir, \"1000000.pt\")\n",
    "state_dict = th.load(ckpt_path, )"
   ]
  },
  {
   "cell_type": "code",
   "execution_count": 23,
   "metadata": {},
   "outputs": [],
   "source": [
    "model.load_state_dict(state_dict[\"model\"])\n",
    "model.to(\"cuda\").eval();"
   ]
  },
  {
   "cell_type": "code",
   "execution_count": 27,
   "metadata": {},
   "outputs": [],
   "source": [
    "# abstract RAVEN dataset\n",
    "dataset_Xmean = th.tensor([1.5, 2.5, 2.5]).view(1, 3, 1, 1).to(\"cuda\")\n",
    "dataset_Xstd = th.tensor([2.5, 3.5, 3.5]).view(1, 3, 1, 1).to(\"cuda\")\n"
   ]
  },
  {
   "cell_type": "code",
   "execution_count": 32,
   "metadata": {},
   "outputs": [
    {
     "data": {
      "application/vnd.jupyter.widget-view+json": {
       "model_id": "06eeb36383a94ff483257cdf0ea7b95a",
       "version_major": 2,
       "version_minor": 0
      },
      "text/plain": [
       "  0%|          | 0/100 [00:00<?, ?it/s]"
      ]
     },
     "metadata": {},
     "output_type": "display_data"
    }
   ],
   "source": [
    "y = th.zeros(100, dtype=torch.int, device=\"cuda\")\n",
    "model_kwargs = dict(y=y)\n",
    "with th.no_grad():\n",
    "    samples = diffusion_eval.ddim_sample_loop(model, shape=(100, 3, 9, 9), clip_denoised=False, device=\"cuda\", model_kwargs=model_kwargs, progress=True)\n",
    "samples = ((samples.detach() * dataset_Xstd) + dataset_Xmean).cpu()"
   ]
  },
  {
   "cell_type": "code",
   "execution_count": 33,
   "metadata": {},
   "outputs": [
    {
     "data": {
      "text/plain": [
       "tensor(0.0075)"
      ]
     },
     "execution_count": 33,
     "metadata": {},
     "output_type": "execute_result"
    }
   ],
   "source": [
    "(samples - torch.round(samples)).abs().mean()"
   ]
  },
  {
   "cell_type": "code",
   "execution_count": 48,
   "metadata": {},
   "outputs": [],
   "source": [
    "from rule_new_utils import check_r3_r2_batch\n",
    "\n",
    "def infer_rule_from_sample_batch(sample_batch):\n",
    "    # if not int convert to int\n",
    "    sample_batch = sample_batch.round().int()\n",
    "    sample_batch = sample_batch.view(-1, 3, 3, 3, 9) \n",
    "    sample_batch = einops.rearrange(sample_batch, \n",
    "        \"B attr row h (panel w) -> B row panel (h w) attr\", \n",
    "        panel=3, w=3, h=3, attr=3)\n",
    "    r3_list, r2_list, rule_col = check_r3_r2_batch(sample_batch)\n",
    "    return r3_list, r2_list, rule_col"
   ]
  },
  {
   "cell_type": "code",
   "execution_count": 39,
   "metadata": {},
   "outputs": [],
   "source": [
    "\n",
    "sample_batch = samples.round().int().view(-1, 3, 3, 3, 9) \n",
    "sample_batch = einops.rearrange(sample_batch, \n",
    "        \"B attr row h (panel w) -> B row panel (h w) attr\", \n",
    "        panel=3, w=3, h=3, attr=3)\n",
    "r3_list, r2_list, rule_col = check_r3_r2_batch(sample_batch)"
   ]
  },
  {
   "cell_type": "code",
   "execution_count": 49,
   "metadata": {},
   "outputs": [],
   "source": [
    "r3_list, r2_list, rule_col = infer_rule_from_sample_batch(samples)"
   ]
  },
  {
   "cell_type": "markdown",
   "metadata": {},
   "source": [
    "### Inpainting Funcs"
   ]
  },
  {
   "cell_type": "code",
   "execution_count": 243,
   "metadata": {},
   "outputs": [],
   "source": [
    "def ddim_sample_inpainting_loop(\n",
    "    self,\n",
    "    model,\n",
    "    shape,\n",
    "    target_img,\n",
    "    keep_mask,\n",
    "    noise=None,\n",
    "    fixed_noise=False,\n",
    "    clip_denoised=True,\n",
    "    denoised_fn=None,\n",
    "    cond_fn=None,\n",
    "    model_kwargs=None,\n",
    "    device=None,\n",
    "    progress=False,\n",
    "    eta=0.0,\n",
    "    debug=False,\n",
    "):\n",
    "    \"\"\"\n",
    "    Use DDIM to sample from the model and yield intermediate samples from\n",
    "    each timestep of DDIM.\n",
    "    Same usage as p_sample_loop_progressive().\n",
    "    \"\"\"\n",
    "    if device is None:\n",
    "        device = next(model.parameters()).device\n",
    "    assert isinstance(shape, (tuple, list))\n",
    "    if noise is not None:\n",
    "        img = noise\n",
    "    else:\n",
    "        img = th.randn(*shape, device=device)\n",
    "    indices = list(range(self.num_timesteps))[::-1]\n",
    "    init_noise = img.clone()\n",
    "    if progress:\n",
    "        # Lazy import so that we don't depend on tqdm.\n",
    "        from tqdm.auto import tqdm\n",
    "\n",
    "        indices = tqdm(indices)\n",
    "\n",
    "    for i in indices:\n",
    "        t = th.tensor([i] * shape[0], device=device)\n",
    "        with th.no_grad():\n",
    "            \n",
    "            out = self.ddim_sample(\n",
    "                model,\n",
    "                img,\n",
    "                t,\n",
    "                clip_denoised=clip_denoised,\n",
    "                denoised_fn=denoised_fn,\n",
    "                cond_fn=cond_fn,\n",
    "                model_kwargs=model_kwargs,\n",
    "                eta=eta,\n",
    "            )\n",
    "            img = out[\"sample\"]\n",
    "            \n",
    "            alphas_cumprod = _extract_into_tensor(self.alphas_cumprod_prev, t, shape)\n",
    "            alpha_t = th.sqrt(alphas_cumprod)\n",
    "            sigma_t = th.sqrt(1 - alphas_cumprod)\n",
    "            # inpaint the image by fixing the observed pixels\n",
    "            if fixed_noise:\n",
    "                target_img_noised = target_img * alpha_t + init_noise * sigma_t\n",
    "            else:\n",
    "                target_img_noised = target_img * alpha_t + th.randn_like(img) * sigma_t\n",
    "            if debug:\n",
    "                # print(t, alpha_t[0,].item(), sigma_t[0,].item())\n",
    "                print(target_img_noised.shape, target_img.shape, keep_mask.shape, img.shape)\n",
    "                print(target_img_noised[0].norm(), img[0].norm())\n",
    "            img = img * keep_mask[None, None] + target_img_noised * (1 - keep_mask[None, None])\n",
    "            \n",
    "    return img\n",
    "\n",
    "\n",
    "\n",
    "def _extract_into_tensor(arr, timesteps, broadcast_shape):\n",
    "    \"\"\"\n",
    "    Extract values from a 1-D numpy array for a batch of indices.\n",
    "    :param arr: the 1-D numpy array.\n",
    "    :param timesteps: a tensor of indices into the array to extract.\n",
    "    :param broadcast_shape: a larger shape of K dimensions with the batch\n",
    "                            dimension equal to the length of timesteps.\n",
    "    :return: a tensor of shape [batch_size, 1, ...] where the shape has K dims.\n",
    "    \"\"\"\n",
    "    res = th.from_numpy(arr).to(device=timesteps.device)[timesteps].float()\n",
    "    while len(res.shape) < len(broadcast_shape):\n",
    "        res = res[..., None]\n",
    "    return res + th.zeros(broadcast_shape, device=timesteps.device)"
   ]
  },
  {
   "cell_type": "code",
   "execution_count": null,
   "metadata": {},
   "outputs": [],
   "source": [
    "@torch.no_grad()\n",
    "def edm_sampler_inpaint(\n",
    "    edm, latents, target_img, mask, class_labels=None,\n",
    "    num_steps=18, sigma_min=0.002, sigma_max=80, rho=7,\n",
    "    use_ema=True, fixed_noise=False\n",
    "):\n",
    "    # Adjust noise levels based on what's supported by the network.\n",
    "    sigma_min = max(sigma_min, edm.sigma_min)\n",
    "    sigma_max = min(sigma_max, edm.sigma_max)\n",
    "\n",
    "    # Time step discretization.\n",
    "    step_indices = torch.arange(num_steps, dtype=torch.float64, device=latents.device)\n",
    "    t_steps = (sigma_max ** (1 / rho) + step_indices / (num_steps - 1) * (sigma_min ** (1 / rho) - sigma_max ** (1 / rho))) ** rho\n",
    "    t_steps = torch.cat([edm.round_sigma(t_steps), torch.zeros_like(t_steps[:1])]) # t_N = 0\n",
    "    initial_noise = torch.randn_like(latents)\n",
    "    # Main sampling loop.\n",
    "    x_next = latents.to(torch.float64) * t_steps[0]\n",
    "    for i, (t_cur, t_next) in enumerate(zip(t_steps[:-1], t_steps[1:])): # 0, ..., N-1\n",
    "        # x_hat = x_next\n",
    "        t_hat = t_cur\n",
    "        noise_perturb = initial_noise if fixed_noise else torch.randn_like(target_img)\n",
    "        x_hat = (1 - mask[None, None]) * (target_img + noise_perturb * t_cur) + \\\n",
    "                     mask[None, None]  * x_next\n",
    "        # Euler step.\n",
    "        denoised = edm(x_hat, t_hat, class_labels, use_ema=use_ema).to(torch.float64)\n",
    "        d_cur = (x_hat - denoised) / t_hat\n",
    "        x_next = x_hat + (t_next - t_hat) * d_cur\n",
    "\n",
    "        # Apply 2nd order correction.\n",
    "        if i < num_steps - 1:\n",
    "            denoised = edm(x_next, t_next, class_labels, use_ema=use_ema).to(torch.float64)\n",
    "            d_prime = (x_next - denoised) / t_next\n",
    "            x_next = x_hat + (t_next - t_hat) * (0.5 * d_cur + 0.5 * d_prime)\n",
    "\n",
    "    return x_next"
   ]
  },
  {
   "cell_type": "markdown",
   "metadata": {},
   "source": [
    "### Debug DDIM inpainting "
   ]
  },
  {
   "cell_type": "code",
   "execution_count": 230,
   "metadata": {},
   "outputs": [
    {
     "data": {
      "text/plain": [
       "torch.Size([40, 12000, 3, 9, 3])"
      ]
     },
     "execution_count": 230,
     "metadata": {},
     "output_type": "execute_result"
    }
   ],
   "source": [
    "attr_all = np.load('/n/home12/binxuwang/Github/DiffusionReasoning/attr_all.npy')\n",
    "# train_attrs = torch.load('/n/home12/binxuwang/Github/DiffusionReasoning/train_inputs_new.pt')\n",
    "attr_all = torch.from_numpy(attr_all)\n",
    "attr_all.shape"
   ]
  },
  {
   "cell_type": "code",
   "execution_count": 254,
   "metadata": {},
   "outputs": [
    {
     "name": "stdout",
     "output_type": "stream",
     "text": [
      "[[20]] row idxs [2, 3, 4] [[array([20]), array([20]), array([20])]]\n",
      "Rule [20] id[4] Consistent rules ratio inpainting samples (2, 2): 9/100 (0.090)\n"
     ]
    }
   ],
   "source": [
    "batch_size = 100\n",
    "model_kwargs = dict(y=th.zeros(batch_size, dtype=torch.int, device=\"cuda\"))\n",
    "iclass = 30\n",
    "idxs = [2,3,4]\n",
    "# idxs = np.random.randint(0, 12000, 3)#np.random.choice(12000, 3)\n",
    "#[3,4,5]\n",
    "attr_tsr = train_data2attr_tsr(attr_all[iclass, idxs])\n",
    "attr_mtg = einops.rearrange(attr_tsr, \"row attr h PW -> attr (row h) PW\")\n",
    "r3_list, r2_list, rule_col = infer_rule_from_sample_batch(attr_mtg)\n",
    "print(r3_list, \"row idxs\", list(idxs), rule_col)\n",
    "# assert np.all(orig_rules != -1)\n",
    "assert len(r3_list[0]) == 1\n",
    "orig_rule_id = r3_list[0][0]\n",
    "target_img = (attr_mtg.float().to(device) - dataset_Xmean) / dataset_Xstd\n",
    "# for x_pos, y_pos in [(0, 2), (1, 2), (2, 2),]:\n",
    "x_pos, y_pos = 2, 2\n",
    "mask_tsr = torch.zeros(target_img.shape[-2:], device=device)\n",
    "mask_tsr[3*x_pos:3*(x_pos+1), 3*y_pos:3*(y_pos+1)] = 1\n",
    "samples_inpaint = ddim_sample_inpainting_loop(diffusion_eval, model, (batch_size, 3, 9, 9), target_img, mask_tsr, noise=None, clip_denoised=True, fixed_noise=False,\n",
    "                                            model_kwargs=model_kwargs, device=\"cuda\", progress=False, eta=0.0)\n",
    "samples_inpaint = ((samples_inpaint.detach() * dataset_Xstd) + dataset_Xmean).cpu()\n",
    "r3_list_ipt, r2_list_ipt, rule_col_ipt = infer_rule_from_sample_batch(samples_inpaint)\n",
    "consistent_r3 = sum([orig_rule_id in cst_rule_set for cst_rule_set in r3_list_ipt])\n",
    "print(f\"Rule [{orig_rule_id}] id[{idxs[x_pos]}] Consistent rules ratio inpainting samples ({x_pos}, {y_pos}): {consistent_r3}/{batch_size} ({consistent_r3/batch_size:.3f})\")"
   ]
  },
  {
   "cell_type": "code",
   "execution_count": 256,
   "metadata": {},
   "outputs": [
    {
     "data": {
      "text/plain": [
       "tensor([[[ 0.,  0.,  0.,  0.,  0.,  0.,  0.,  0.,  0.],\n",
       "         [ 0.,  0.,  0.,  0.,  0.,  0.,  0.,  0.,  0.],\n",
       "         [ 0.,  0.,  0.,  0.,  0.,  0.,  0.,  0.,  0.],\n",
       "         [ 0.,  0.,  0.,  0.,  0.,  0.,  0.,  0.,  0.],\n",
       "         [ 0.,  0.,  0.,  0.,  0.,  0.,  0.,  0.,  0.],\n",
       "         [ 0.,  0.,  0.,  0.,  0.,  0.,  0.,  0.,  0.],\n",
       "         [ 0.,  0.,  0.,  0.,  0.,  0.,  5.,  2.,  5.],\n",
       "         [ 0.,  0.,  0.,  0.,  0.,  0.,  2.,  2.,  0.],\n",
       "         [ 0.,  0.,  0.,  0.,  0.,  0., -2.,  3.,  5.]],\n",
       "\n",
       "        [[ 0.,  0.,  0.,  0.,  0.,  0.,  0.,  0.,  0.],\n",
       "         [ 0.,  0.,  0.,  0.,  0.,  0.,  0.,  0.,  0.],\n",
       "         [ 0.,  0.,  0.,  0.,  0.,  0.,  0.,  0.,  0.],\n",
       "         [ 0.,  0.,  0.,  0.,  0.,  0.,  0.,  0.,  0.],\n",
       "         [ 0.,  0.,  0.,  0.,  0.,  0.,  0.,  0.,  0.],\n",
       "         [ 0.,  0.,  0.,  0.,  0.,  0.,  0.,  0.,  0.],\n",
       "         [ 0.,  0.,  0.,  0.,  0.,  0.,  4.,  0.,  7.],\n",
       "         [ 0.,  0.,  0.,  0.,  0.,  0.,  0.,  5.,  0.],\n",
       "         [ 0.,  0.,  0.,  0.,  0.,  0., -1.,  6.,  7.]],\n",
       "\n",
       "        [[ 0.,  0.,  0.,  0.,  0.,  0.,  0.,  0.,  0.],\n",
       "         [ 0.,  0.,  0.,  0.,  0.,  0.,  0.,  0.,  0.],\n",
       "         [ 0.,  0.,  0.,  0.,  0.,  0.,  0.,  0.,  0.],\n",
       "         [ 0.,  0.,  0.,  0.,  0.,  0.,  0.,  0.,  0.],\n",
       "         [ 0.,  0.,  0.,  0.,  0.,  0.,  0.,  0.,  0.],\n",
       "         [ 0.,  0.,  0.,  0.,  0.,  0.,  0.,  0.,  0.],\n",
       "         [ 0.,  0.,  0.,  0.,  0.,  0.,  5.,  1.,  5.],\n",
       "         [ 0.,  0.,  0.,  0.,  0.,  0.,  1.,  1.,  0.],\n",
       "         [ 0.,  0.,  0.,  0.,  0.,  0., -4.,  1.,  5.]]])"
      ]
     },
     "execution_count": 256,
     "metadata": {},
     "output_type": "execute_result"
    }
   ],
   "source": [
    "(samples_inpaint[1] - attr_mtg.float()).round()"
   ]
  },
  {
   "cell_type": "code",
   "execution_count": 257,
   "metadata": {},
   "outputs": [
    {
     "data": {
      "text/plain": [
       "tensor([[[ 0.,  0.,  0.,  0.,  0.,  0.,  0.,  0.,  0.],\n",
       "         [ 0.,  0.,  0.,  0.,  0.,  0.,  0.,  0.,  0.],\n",
       "         [ 0.,  0.,  0.,  0.,  0.,  0.,  0.,  0.,  0.],\n",
       "         [ 0.,  0.,  0.,  0.,  0.,  0.,  0.,  0.,  0.],\n",
       "         [ 0.,  0.,  0.,  0.,  0.,  0.,  0.,  0.,  0.],\n",
       "         [ 0.,  0.,  0.,  0.,  0.,  0.,  0.,  0.,  0.],\n",
       "         [ 0.,  0.,  0.,  0.,  0.,  0.,  5.,  3.,  5.],\n",
       "         [ 0.,  0.,  0.,  0.,  0.,  0., -2., -2.,  5.],\n",
       "         [ 0.,  0.,  0.,  0.,  0.,  0.,  3.,  3.,  0.]],\n",
       "\n",
       "        [[ 0.,  0.,  0.,  0.,  0.,  0.,  0.,  0.,  0.],\n",
       "         [ 0.,  0.,  0.,  0.,  0.,  0.,  0.,  0.,  0.],\n",
       "         [ 0.,  0.,  0.,  0.,  0.,  0.,  0.,  0.,  0.],\n",
       "         [ 0.,  0.,  0.,  0.,  0.,  0.,  0.,  0.,  0.],\n",
       "         [ 0.,  0.,  0.,  0.,  0.,  0.,  0.,  0.,  0.],\n",
       "         [ 0.,  0.,  0.,  0.,  0.,  0.,  0.,  0.,  0.],\n",
       "         [ 0.,  0.,  0.,  0.,  0.,  0.,  7.,  0.,  7.],\n",
       "         [ 0.,  0.,  0.,  0.,  0.,  0., -7., -2.,  7.],\n",
       "         [ 0.,  0.,  0.,  0.,  0.,  0.,  6.,  6.,  0.]],\n",
       "\n",
       "        [[ 0.,  0.,  0.,  0.,  0.,  0.,  0.,  0.,  0.],\n",
       "         [ 0.,  0.,  0.,  0.,  0.,  0.,  0.,  0.,  0.],\n",
       "         [ 0.,  0.,  0.,  0.,  0.,  0.,  0.,  0.,  0.],\n",
       "         [ 0.,  0.,  0.,  0.,  0.,  0.,  0.,  0.,  0.],\n",
       "         [ 0.,  0.,  0.,  0.,  0.,  0.,  0.,  0.,  0.],\n",
       "         [ 0.,  0.,  0.,  0.,  0.,  0.,  0.,  0.,  0.],\n",
       "         [ 0.,  0.,  0.,  0.,  0.,  0.,  5.,  1.,  5.],\n",
       "         [ 0.,  0.,  0.,  0.,  0.,  0., -4., -4.,  5.],\n",
       "         [ 0.,  0.,  0.,  0.,  0.,  0.,  1.,  1.,  0.]]])"
      ]
     },
     "execution_count": 257,
     "metadata": {},
     "output_type": "execute_result"
    }
   ],
   "source": [
    "(samples_inpaint[5] - attr_mtg.float()).round()"
   ]
  },
  {
   "cell_type": "code",
   "execution_count": 258,
   "metadata": {},
   "outputs": [
    {
     "data": {
      "text/plain": [
       "tensor([[[ 6.,  3.,  1., -1.,  0., -1., -1.,  6.,  1.],\n",
       "         [-1.,  5., -1., -1., -1., -1.,  4.,  0., -1.],\n",
       "         [ 0.,  2.,  1., -1., -1.,  5.,  5.,  3., -1.],\n",
       "         [ 6., -1.,  6.,  1.,  4., -1.,  3.,  4., -1.],\n",
       "         [-1., -1.,  0.,  6., -1., -1., -1., -1.,  1.],\n",
       "         [ 0.,  0., -1.,  6., -1.,  4.,  0.,  1.,  0.],\n",
       "         [ 4., -1.,  4.,  4.,  4.,  4.,  4.,  4.,  4.],\n",
       "         [ 4.,  4.,  4.,  4.,  4.,  4., -1., -1.,  4.],\n",
       "         [ 4.,  4.,  4., -1.,  4.,  4.,  4.,  4., -1.]],\n",
       "\n",
       "        [[ 0.,  0.,  0., -1.,  1., -1., -1.,  3.,  3.],\n",
       "         [-1.,  0., -1., -1., -1., -1.,  3.,  3., -1.],\n",
       "         [ 0.,  0.,  0., -1., -1.,  1.,  3.,  3., -1.],\n",
       "         [ 1., -1.,  1.,  3.,  3., -1.,  8.,  8., -1.],\n",
       "         [-1., -1.,  1.,  3., -1., -1., -1., -1.,  8.],\n",
       "         [ 1.,  1., -1.,  3., -1.,  3.,  8.,  8.,  8.],\n",
       "         [ 2., -1.,  1.,  9.,  3.,  7.,  6.,  6.,  6.],\n",
       "         [ 1.,  0.,  3.,  7.,  0.,  5., -1., -1.,  6.],\n",
       "         [ 1.,  7.,  3., -1.,  5.,  2.,  6.,  6., -1.]],\n",
       "\n",
       "        [[ 9.,  9.,  9., -1.,  9., -1., -1.,  9.,  9.],\n",
       "         [-1.,  9., -1., -1., -1., -1.,  9.,  9., -1.],\n",
       "         [ 9.,  9.,  9., -1., -1.,  9.,  9.,  9., -1.],\n",
       "         [ 8., -1.,  8.,  8.,  8., -1.,  8.,  8., -1.],\n",
       "         [-1., -1.,  8.,  8., -1., -1., -1., -1.,  8.],\n",
       "         [ 8.,  8., -1.,  8., -1.,  8.,  8.,  8.,  8.],\n",
       "         [ 3., -1.,  3.,  3.,  3.,  3.,  4.,  4.,  4.],\n",
       "         [ 3.,  3.,  3.,  3.,  3.,  3., -1., -1.,  4.],\n",
       "         [ 3.,  3.,  3., -1.,  3.,  3.,  4.,  4., -1.]]])"
      ]
     },
     "execution_count": 258,
     "metadata": {},
     "output_type": "execute_result"
    }
   ],
   "source": [
    "samples_inpaint[5].round()"
   ]
  },
  {
   "cell_type": "code",
   "execution_count": 242,
   "metadata": {},
   "outputs": [
    {
     "data": {
      "text/plain": [
       "tensor([[[ 4,  4,  4, -1,  4, -1, -1, -1,  1],\n",
       "         [ 4,  4,  4,  4, -1, -1,  1, -1,  1],\n",
       "         [ 4,  4,  4,  4,  4, -1,  1, -1,  1],\n",
       "         [ 5,  5,  5, -1, -1, -1,  2, -1,  2],\n",
       "         [ 5,  5,  5,  1,  1, -1,  2, -1, -1],\n",
       "         [ 5,  5,  5, -1, -1,  1,  2,  2,  2],\n",
       "         [-1,  5, -1, -1, -1, -1, -1,  2, -1],\n",
       "         [ 5, -1,  5, -1,  4, -1, -1,  2, -1],\n",
       "         [ 5, -1,  5, -1, -1,  4,  2, -1, -1]],\n",
       "\n",
       "        [[ 7,  7,  7, -1,  7, -1, -1, -1,  9],\n",
       "         [ 7,  7,  7,  7, -1, -1,  9, -1,  9],\n",
       "         [ 7,  7,  7,  7,  7, -1,  9, -1,  9],\n",
       "         [ 3,  3,  3, -1, -1, -1,  6, -1,  6],\n",
       "         [ 3,  3,  3,  5,  5, -1,  6, -1, -1],\n",
       "         [ 3,  3,  3, -1, -1,  5,  6,  6,  6],\n",
       "         [-1,  4, -1, -1, -1, -1, -1,  9, -1],\n",
       "         [ 4, -1,  4, -1,  3, -1, -1,  9, -1],\n",
       "         [ 4, -1,  4, -1, -1,  3,  9, -1, -1]],\n",
       "\n",
       "        [[ 4,  4,  4, -1,  3, -1, -1, -1,  3],\n",
       "         [ 4,  4,  4,  3, -1, -1,  3, -1,  3],\n",
       "         [ 4,  4,  4,  3,  3, -1,  3, -1,  3],\n",
       "         [ 4,  4,  4, -1, -1, -1,  9, -1,  9],\n",
       "         [ 4,  4,  4,  4,  4, -1,  9, -1, -1],\n",
       "         [ 4,  4,  4, -1, -1,  4,  9,  9,  9],\n",
       "         [-1,  2, -1, -1, -1, -1, -1,  6, -1],\n",
       "         [ 2, -1,  2, -1,  3, -1, -1,  6, -1],\n",
       "         [ 2, -1,  2, -1, -1,  3,  6, -1, -1]]])"
      ]
     },
     "execution_count": 242,
     "metadata": {},
     "output_type": "execute_result"
    }
   ],
   "source": [
    "attr_mtg"
   ]
  },
  {
   "cell_type": "code",
   "execution_count": 236,
   "metadata": {},
   "outputs": [
    {
     "data": {
      "text/plain": [
       "tensor([[[ -0.,  -0.,  -0.,   0.,  -0.,   0.,   0.,   0.,   0.],\n",
       "         [ -0.,  -0.,  -0.,  -0.,   0.,   0.,   0.,   0.,   0.],\n",
       "         [ -0.,  -0.,  -0.,  -0.,  -0.,   0.,   0.,   0.,   0.],\n",
       "         [ -1.,  -1.,  -1.,   0.,   0.,   0.,   0.,   0.,   0.],\n",
       "         [ -1.,  -1.,  -1.,   0.,   0.,   0.,   0.,   0.,   0.],\n",
       "         [ -1.,  -1.,  -1.,   0.,   0.,   0.,   0.,   0.,   0.],\n",
       "         [  0.,  -1.,   0.,   0.,   0.,   0.,   5.,  -3.,   0.],\n",
       "         [ -1.,   0.,  -1.,   0.,  -0.,   0.,   0.,  -3.,   5.],\n",
       "         [ -1.,   0.,  -1.,   0.,   0.,  -0.,   2.,   0.,   0.]],\n",
       "\n",
       "        [[ -1.,  -1.,  -1.,   0.,  -1.,   0.,   0.,   0.,  -3.],\n",
       "         [ -1.,  -1.,  -1.,  -1.,   0.,   0.,  -3.,   0.,  -3.],\n",
       "         [ -1.,  -1.,  -1.,  -1.,  -1.,   0.,  -3.,   0.,  -3.],\n",
       "         [ -0.,  -0.,  -0.,   0.,   0.,   0.,   0.,   0.,   0.],\n",
       "         [ -0.,  -0.,  -0.,  -0.,  -0.,   0.,   0.,   0.,   0.],\n",
       "         [ -0.,  -0.,  -0.,   0.,   0.,  -0.,   0.,   0.,   0.],\n",
       "         [  0.,  -0.,   0.,   0.,   0.,   0.,   4., -10.,   0.],\n",
       "         [ -0.,   0.,  -0.,   0.,  -0.,   0.,   0., -10.,   4.],\n",
       "         [ -0.,   0.,  -0.,   0.,   0.,  -0.,  -6.,   0.,   0.]],\n",
       "\n",
       "        [[ -0.,  -0.,  -0.,   0.,   0.,   0.,   0.,   0.,   0.],\n",
       "         [ -0.,  -0.,  -0.,   0.,   0.,   0.,   0.,   0.,   0.],\n",
       "         [ -0.,  -0.,  -0.,   0.,   0.,   0.,   0.,   0.,   0.],\n",
       "         [  0.,   0.,   0.,   0.,   0.,   0.,  -3.,   0.,  -3.],\n",
       "         [  0.,   0.,   0.,  -0.,  -0.,   0.,  -3.,   0.,   0.],\n",
       "         [  0.,   0.,   0.,   0.,   0.,  -0.,  -3.,  -3.,  -3.],\n",
       "         [  0.,   0.,   0.,   0.,   0.,   0.,   1.,  -7.,   0.],\n",
       "         [  0.,   0.,   0.,   0.,   0.,   0.,   0.,  -7.,   1.],\n",
       "         [  0.,   0.,   0.,   0.,   0.,   0.,  -6.,   0.,   0.]]])"
      ]
     },
     "execution_count": 236,
     "metadata": {},
     "output_type": "execute_result"
    }
   ],
   "source": [
    "(samples_inpaint[0] - attr_mtg.float()).round()"
   ]
  },
  {
   "cell_type": "markdown",
   "metadata": {},
   "source": [
    "### In-paint"
   ]
  },
  {
   "cell_type": "code",
   "execution_count": 35,
   "metadata": {},
   "outputs": [
    {
     "data": {
      "text/plain": [
       "torch.Size([35, 12000, 3, 9, 3])"
      ]
     },
     "execution_count": 35,
     "metadata": {},
     "output_type": "execute_result"
    }
   ],
   "source": [
    "train_attrs = torch.load('/n/home12/binxuwang/Github/DiffusionReasoning/train_inputs_new.pt')\n",
    "train_attrs.shape"
   ]
  },
  {
   "cell_type": "code",
   "execution_count": 177,
   "metadata": {},
   "outputs": [
    {
     "name": "stdout",
     "output_type": "stream",
     "text": [
      "[[31]] [[array([31]), array([31]), array([31])]]\n"
     ]
    }
   ],
   "source": [
    "iclass = 28\n",
    "# iclass = 0\n",
    "idxs = np.random.randint(0, 12000, 3)#np.random.choice(12000, 3)\n",
    "#[3,4,5]\n",
    "attr_tsr = train_data2attr_tsr(train_attrs[iclass, idxs])\n",
    "attr_mtg = einops.rearrange(attr_tsr, \"row attr h PW -> attr (row h) PW\")\n",
    "r3_list, r2_list, rule_col = infer_rule_from_sample_batch(attr_mtg)\n",
    "print(r3_list, rule_col)\n",
    "# assert np.all(orig_rules != -1)\n",
    "assert len(r3_list[0]) == 1\n",
    "orig_rule_id = r3_list[0][0]"
   ]
  },
  {
   "cell_type": "code",
   "execution_count": 181,
   "metadata": {},
   "outputs": [],
   "source": [
    "x_pos, y_pos = 2, 2\n",
    "target_img = (attr_mtg.float().to(device) - dataset_Xmean) / dataset_Xstd\n",
    "mask_tsr = torch.zeros(target_img.shape[-2:], device=device)\n",
    "mask_tsr[3*x_pos:3*(x_pos+1), 3*y_pos:3*(y_pos+1)] = 1\n",
    "\n",
    "batch_size = 100\n",
    "model_kwargs = dict(y=th.zeros(batch_size, dtype=torch.int, device=\"cuda\"))"
   ]
  },
  {
   "cell_type": "code",
   "execution_count": 182,
   "metadata": {},
   "outputs": [
    {
     "data": {
      "application/vnd.jupyter.widget-view+json": {
       "model_id": "09969e2aa24f4d9ebdc1d89c414be851",
       "version_major": 2,
       "version_minor": 0
      },
      "text/plain": [
       "  0%|          | 0/200 [00:00<?, ?it/s]"
      ]
     },
     "metadata": {},
     "output_type": "display_data"
    },
    {
     "name": "stdout",
     "output_type": "stream",
     "text": [
      "Rule [31] Consistent rules in inpainting samples (2, 2): 81/100 (0.810)\n"
     ]
    }
   ],
   "source": [
    "samples_inpaint = ddim_sample_inpainting_loop(diffusion_eval, model, (batch_size, 3, 9, 9), target_img, mask_tsr, noise=None, clip_denoised=True, \n",
    "                            denoised_fn=None, cond_fn=None, model_kwargs=model_kwargs, device=\"cuda\", progress=True, eta=0.0)\n",
    "samples_inpaint = ((samples_inpaint.detach() * dataset_Xstd) + dataset_Xmean).cpu()\n",
    "r3_list_ipt, r2_list_ipt, rule_col_ipt = infer_rule_from_sample_batch(samples_inpaint)\n",
    "consistent_r3 = sum([orig_rule_id in cst_rule_set for cst_rule_set in r3_list_ipt])\n",
    "print(f\"Rule [{orig_rule_id}] Consistent rules in inpainting samples ({x_pos}, {y_pos}): {consistent_r3}/{batch_size} ({consistent_r3/batch_size:.3f})\")"
   ]
  },
  {
   "cell_type": "markdown",
   "metadata": {},
   "source": [
    "### Massive production"
   ]
  },
  {
   "cell_type": "code",
   "execution_count": null,
   "metadata": {},
   "outputs": [],
   "source": [
    "train_attrs = torch.load('/n/home12/binxuwang/Github/DiffusionReasoning/train_inputs_new.pt')\n",
    "train_attrs.shape"
   ]
  },
  {
   "cell_type": "code",
   "execution_count": 185,
   "metadata": {},
   "outputs": [
    {
     "data": {
      "text/plain": [
       "(40, 12000, 3, 9, 3)"
      ]
     },
     "execution_count": 185,
     "metadata": {},
     "output_type": "execute_result"
    }
   ],
   "source": [
    "\n",
    "attr_all = np.load('/n/home12/binxuwang/Github/DiffusionReasoning/attr_all.npy')\n",
    "# train_attrs = torch.load('/n/home12/binxuwang/Github/DiffusionReasoning/train_inputs_new.pt')\n",
    "attr_all = torch.from_numpy(attr_all)\n",
    "attr_all.shape"
   ]
  },
  {
   "cell_type": "code",
   "execution_count": 215,
   "metadata": {},
   "outputs": [
    {
     "data": {
      "text/plain": [
       "array([ 3478,   265,  2318, 11876, 10986,  7635,  2916,  5756, 10191,\n",
       "        7269,  1914,    36, 10784,  5896,  9678])"
      ]
     },
     "execution_count": 215,
     "metadata": {},
     "output_type": "execute_result"
    }
   ],
   "source": [
    "idx_seq"
   ]
  },
  {
   "cell_type": "code",
   "execution_count": 262,
   "metadata": {},
   "outputs": [],
   "source": [
    "def inpaint_run(iclass, idxs, batch_size=100):\n",
    "    attr_tsr = train_data2attr_tsr(attr_all[iclass, idxs])\n",
    "    attr_mtg = einops.rearrange(attr_tsr, \"row attr h PW -> attr (row h) PW\")\n",
    "    r3_list, r2_list, rule_col = infer_rule_from_sample_batch(attr_mtg)\n",
    "    print(r3_list, \"row idxs\", list(idxs), \"rule\", rule_col)\n",
    "    # assert np.all(orig_rules != -1)\n",
    "    assert len(r3_list[0]) == 1\n",
    "    orig_rule_id = r3_list[0][0]\n",
    "    target_img = (attr_mtg.float().to(device) - dataset_Xmean) / dataset_Xstd\n",
    "    for x_pos, y_pos in [(0, 2), (1, 2), (2, 2),]:\n",
    "        mask_tsr = torch.zeros(target_img.shape[-2:], device=device)\n",
    "        mask_tsr[3*x_pos:3*(x_pos+1), 3*y_pos:3*(y_pos+1)] = 1\n",
    "        samples_inpaint = ddim_sample_inpainting_loop(diffusion_eval, model, (batch_size, 3, 9, 9), target_img, mask_tsr, noise=None, clip_denoised=True, fixed_noise=False,\n",
    "                                                    model_kwargs=model_kwargs, device=\"cuda\", progress=False, eta=0.0)\n",
    "        samples_inpaint = ((samples_inpaint.detach() * dataset_Xstd) + dataset_Xmean).cpu()\n",
    "        r3_list_ipt, r2_list_ipt, rule_col_ipt = infer_rule_from_sample_batch(samples_inpaint)\n",
    "        consistent_r3 = sum([orig_rule_id in cst_rule_set for cst_rule_set in r3_list_ipt])\n",
    "        print(f\"Rule [{orig_rule_id}] id[{idxs[x_pos]}] inpaint at ({x_pos}, {y_pos}) Consistent rules ratio : {consistent_r3}/{batch_size} ({consistent_r3/batch_size:.3f})\")"
   ]
  },
  {
   "cell_type": "code",
   "execution_count": 224,
   "metadata": {},
   "outputs": [
    {
     "name": "stdout",
     "output_type": "stream",
     "text": [
      "[[36]] row idxs [265, 2318, 7635] rule [[array([36]), array([36]), array([36])]]\n",
      "Rule [36] id[265] inpaint at (0, 2) Consistent rules ratio : 33/100 (0.330)\n",
      "Rule [36] id[2318] inpaint at (1, 2) Consistent rules ratio : 52/100 (0.520)\n",
      "Rule [36] id[7635] inpaint at (2, 2) Consistent rules ratio : 15/100 (0.150)\n",
      "[[36]] row idxs [2318, 7635, 265] rule [[array([36]), array([36]), array([36])]]\n",
      "Rule [36] id[2318] inpaint at (0, 2) Consistent rules ratio : 59/100 (0.590)\n",
      "Rule [36] id[7635] inpaint at (1, 2) Consistent rules ratio : 13/100 (0.130)\n",
      "Rule [36] id[265] inpaint at (2, 2) Consistent rules ratio : 37/100 (0.370)\n",
      "[[36]] row idxs [7635, 265, 2318] rule [[array([36]), array([36]), array([36])]]\n",
      "Rule [36] id[7635] inpaint at (0, 2) Consistent rules ratio : 19/100 (0.190)\n",
      "Rule [36] id[265] inpaint at (1, 2) Consistent rules ratio : 32/100 (0.320)\n",
      "Rule [36] id[2318] inpaint at (2, 2) Consistent rules ratio : 60/100 (0.600)\n"
     ]
    }
   ],
   "source": [
    "iclass = 36\n",
    "inpaint_run(iclass, idx_seq[[1,2,5]])\n",
    "inpaint_run(iclass, idx_seq[[2,5,1]])\n",
    "inpaint_run(iclass, idx_seq[[5,1,2]])"
   ]
  },
  {
   "cell_type": "code",
   "execution_count": 229,
   "metadata": {},
   "outputs": [
    {
     "data": {
      "text/plain": [
       "tensor([[0., 0., 0., 0., 0., 0., 0., 0., 0.],\n",
       "        [0., 0., 0., 0., 0., 0., 0., 0., 0.],\n",
       "        [0., 0., 0., 0., 0., 0., 0., 0., 0.],\n",
       "        [0., 0., 0., 0., 0., 0., 0., 0., 0.],\n",
       "        [0., 0., 0., 0., 0., 0., 0., 0., 0.],\n",
       "        [0., 0., 0., 0., 0., 0., 0., 0., 0.],\n",
       "        [0., 0., 0., 0., 0., 0., 1., 1., 1.],\n",
       "        [0., 0., 0., 0., 0., 0., 1., 1., 1.],\n",
       "        [0., 0., 0., 0., 0., 0., 1., 1., 1.]], device='cuda:0')"
      ]
     },
     "execution_count": 229,
     "metadata": {},
     "output_type": "execute_result"
    }
   ],
   "source": [
    "mask_tsr"
   ]
  },
  {
   "cell_type": "code",
   "execution_count": 226,
   "metadata": {},
   "outputs": [
    {
     "name": "stdout",
     "output_type": "stream",
     "text": [
      "[[36]] row idxs [4363, 487, 7306] [[array([36]), array([36]), array([36])]]\n",
      "Rule [36] id[4363] Consistent rules ratio inpainting samples (0, 2): 43/100 (0.430)\n",
      "Rule [36] id[487] Consistent rules ratio inpainting samples (1, 2): 38/100 (0.380)\n",
      "Rule [36] id[7306] Consistent rules ratio inpainting samples (2, 2): 41/100 (0.410)\n",
      "[[36]] row idxs [1760, 6236, 7850] [[array([36]), array([36]), array([36])]]\n",
      "Rule [36] id[1760] Consistent rules ratio inpainting samples (0, 2): 16/100 (0.160)\n",
      "Rule [36] id[6236] Consistent rules ratio inpainting samples (1, 2): 22/100 (0.220)\n",
      "Rule [36] id[7850] Consistent rules ratio inpainting samples (2, 2): 55/100 (0.550)\n",
      "[[36]] row idxs [2308, 1514, 900] [[array([36]), array([36]), array([36])]]\n",
      "Rule [36] id[2308] Consistent rules ratio inpainting samples (0, 2): 11/100 (0.110)\n",
      "Rule [36] id[1514] Consistent rules ratio inpainting samples (1, 2): 59/100 (0.590)\n",
      "Rule [36] id[900] Consistent rules ratio inpainting samples (2, 2): 61/100 (0.610)\n",
      "[[36]] row idxs [6815, 1171, 8314] [[array([36]), array([36]), array([36])]]\n",
      "Rule [36] id[6815] Consistent rules ratio inpainting samples (0, 2): 32/100 (0.320)\n",
      "Rule [36] id[1171] Consistent rules ratio inpainting samples (1, 2): 70/100 (0.700)\n",
      "Rule [36] id[8314] Consistent rules ratio inpainting samples (2, 2): 58/100 (0.580)\n",
      "[[36]] row idxs [6947, 2073, 9126] [[array([36]), array([36]), array([36])]]\n",
      "Rule [36] id[6947] Consistent rules ratio inpainting samples (0, 2): 49/100 (0.490)\n",
      "Rule [36] id[2073] Consistent rules ratio inpainting samples (1, 2): 17/100 (0.170)\n",
      "Rule [36] id[9126] Consistent rules ratio inpainting samples (2, 2): 57/100 (0.570)\n"
     ]
    }
   ],
   "source": [
    "batch_size = 100\n",
    "model_kwargs = dict(y=th.zeros(batch_size, dtype=torch.int, device=\"cuda\"))\n",
    "diffusion_eval = create_diffusion(timestep_respacing=\"ddim200\")  # default: ddim100\n",
    "iclass = 36\n",
    "# iclass = 0\n",
    "nreps = 5\n",
    "idx_seq = np.random.choice(12000, 3 * nreps, replace=False)\n",
    "for ireps in range(nreps):\n",
    "    idxs = idx_seq[ireps*3:(ireps+1)*3]\n",
    "    # idxs = np.random.randint(0, 12000, 3)#np.random.choice(12000, 3)\n",
    "    #[3,4,5]\n",
    "    attr_tsr = train_data2attr_tsr(attr_all[iclass, idxs])\n",
    "    attr_mtg = einops.rearrange(attr_tsr, \"row attr h PW -> attr (row h) PW\")\n",
    "    r3_list, r2_list, rule_col = infer_rule_from_sample_batch(attr_mtg)\n",
    "    print(r3_list, \"row idxs\", list(idxs), rule_col)\n",
    "    # assert np.all(orig_rules != -1)\n",
    "    assert len(r3_list[0]) == 1\n",
    "    orig_rule_id = r3_list[0][0]\n",
    "    target_img = (attr_mtg.float().to(device) - dataset_Xmean) / dataset_Xstd\n",
    "    for x_pos, y_pos in [(0, 2), (1, 2), (2, 2),]:\n",
    "        mask_tsr = torch.zeros(target_img.shape[-2:], device=device)\n",
    "        mask_tsr[3*x_pos:3*(x_pos+1), 3*y_pos:3*(y_pos+1)] = 1\n",
    "        samples_inpaint = ddim_sample_inpainting_loop(diffusion_eval, model, (batch_size, 3, 9, 9), target_img, mask_tsr, noise=None, clip_denoised=True, fixed_noise=False,\n",
    "                                                    model_kwargs=model_kwargs, device=\"cuda\", progress=False, eta=0.0)\n",
    "        samples_inpaint = ((samples_inpaint.detach() * dataset_Xstd) + dataset_Xmean).cpu()\n",
    "        r3_list_ipt, r2_list_ipt, rule_col_ipt = infer_rule_from_sample_batch(samples_inpaint)\n",
    "        consistent_r3 = sum([orig_rule_id in cst_rule_set for cst_rule_set in r3_list_ipt])\n",
    "        print(f\"Rule [{orig_rule_id}] id[{idxs[x_pos]}] Consistent rules ratio inpainting samples ({x_pos}, {y_pos}): {consistent_r3}/{batch_size} ({consistent_r3/batch_size:.3f})\")\n",
    "        "
   ]
  },
  {
   "cell_type": "markdown",
   "metadata": {},
   "source": [
    "## Massive Run"
   ]
  },
  {
   "cell_type": "code",
   "execution_count": 265,
   "metadata": {},
   "outputs": [
    {
     "name": "stderr",
     "output_type": "stream",
     "text": [
      "17016.04s - pydevd: Sending message related to process being replaced timed-out after 5 seconds\n"
     ]
    },
    {
     "name": "stdout",
     "output_type": "stream",
     "text": [
      "/n/holylfs06/LABS/kempner_fellow_binxuwang/Users/binxuwang\n"
     ]
    }
   ],
   "source": [
    "!echo $STORE_DIR"
   ]
  },
  {
   "cell_type": "code",
   "execution_count": 266,
   "metadata": {},
   "outputs": [
    {
     "name": "stderr",
     "output_type": "stream",
     "text": [
      "17038.34s - pydevd: Sending message related to process being replaced timed-out after 5 seconds\n"
     ]
    },
    {
     "name": "stdout",
     "output_type": "stream",
     "text": [
      "alexnet_rearing  edm_analy_traj_cmp    HaimDiffusionRNNProj\n",
      "convrnn_Evol\t edm_score_validation  insilico_exps\n",
      "DiT\t\t GPT-XL_grad_trace     mini_edm\n"
     ]
    }
   ],
   "source": [
    "!ls /n/holylfs06/LABS/kempner_fellow_binxuwang/Users/binxuwang/DL_Projects"
   ]
  },
  {
   "cell_type": "code",
   "execution_count": 267,
   "metadata": {},
   "outputs": [],
   "source": [
    "savedir = \"/n/holylfs06/LABS/kempner_fellow_binxuwang/Users/binxuwang/DL_Projects/DiT/results/045-RAVEN10_abstract-uncond-DiT_S_1_20240311-1256/inpaint_pilot\""
   ]
  },
  {
   "cell_type": "code",
   "execution_count": 278,
   "metadata": {},
   "outputs": [
    {
     "name": "stdout",
     "output_type": "stream",
     "text": [
      "[[0]] row idxs [8513, 5917, 4432] [[array([0]), array([0]), array([0])]]\n",
      "iclass 0 done 0/50\n",
      "[[0]] row idxs [4114, 7145, 679] [[array([0]), array([0]), array([0])]]\n",
      "iclass 0 done 1/50\n",
      "[[0]] row idxs [59, 10568, 11170] [[array([0]), array([0]), array([0])]]\n",
      "iclass 0 done 2/50\n",
      "[[0]] row idxs [7776, 1633, 6888] [[array([0]), array([0]), array([0])]]\n",
      "iclass 0 done 3/50\n",
      "[[0]] row idxs [146, 597, 1108] [[array([0]), array([0]), array([0])]]\n",
      "iclass 0 done 4/50\n",
      "[[0]] row idxs [83, 9502, 2695] [[array([0]), array([0]), array([0])]]\n",
      "iclass 0 done 5/50\n",
      "[[0]] row idxs [9777, 2417, 2684] [[array([0]), array([0]), array([0])]]\n",
      "iclass 0 done 6/50\n",
      "[[0]] row idxs [2837, 7045, 7797] [[array([0]), array([0]), array([0])]]\n",
      "iclass 0 done 7/50\n",
      "[[0]] row idxs [10037, 10149, 10772] [[array([0]), array([0]), array([0])]]\n",
      "iclass 0 done 8/50\n",
      "[[0]] row idxs [7031, 8004, 10696] [[array([0]), array([0]), array([0])]]\n",
      "iclass 0 done 9/50\n",
      "[[0]] row idxs [3691, 10314, 6142] [[array([0]), array([0]), array([0])]]\n",
      "iclass 0 done 10/50\n",
      "[[0]] row idxs [6085, 6374, 11131] [[array([0]), array([0]), array([0])]]\n",
      "iclass 0 done 11/50\n",
      "[[0]] row idxs [1424, 1082, 7995] [[array([0]), array([0]), array([0])]]\n",
      "iclass 0 done 12/50\n",
      "[[0]] row idxs [7936, 8284, 4745] [[array([0]), array([0]), array([0])]]\n",
      "iclass 0 done 13/50\n",
      "[[0]] row idxs [1326, 3339, 8375] [[array([0]), array([0]), array([0])]]\n",
      "iclass 0 done 14/50\n",
      "[[0]] row idxs [8135, 5983, 5079] [[array([0]), array([0]), array([0])]]\n",
      "iclass 0 done 15/50\n",
      "[[0]] row idxs [6646, 9544, 8610] [[array([0]), array([0]), array([0])]]\n",
      "iclass 0 done 16/50\n",
      "[[0]] row idxs [0, 1477, 10294] [[array([0]), array([0]), array([0])]]\n",
      "iclass 0 done 17/50\n",
      "[[0]] row idxs [11645, 10781, 7647] [[array([0]), array([0]), array([0])]]\n",
      "iclass 0 done 18/50\n",
      "[[0]] row idxs [5290, 7781, 3940] [[array([0]), array([0]), array([0])]]\n",
      "iclass 0 done 19/50\n",
      "[[0]] row idxs [2512, 9538, 8671] [[array([0]), array([0]), array([0])]]\n",
      "iclass 0 done 20/50\n",
      "[[0]] row idxs [11957, 7754, 10528] [[array([0]), array([0]), array([0])]]\n",
      "iclass 0 done 21/50\n",
      "[[0]] row idxs [11485, 2043, 7721] [[array([0]), array([0]), array([0])]]\n",
      "iclass 0 done 22/50\n",
      "[[0]] row idxs [10110, 4557, 5920] [[array([0]), array([0]), array([0])]]\n",
      "iclass 0 done 23/50\n",
      "[[0]] row idxs [4861, 6125, 7275] [[array([0]), array([0]), array([0])]]\n",
      "iclass 0 done 24/50\n",
      "[[0]] row idxs [1922, 465, 10009] [[array([0]), array([0]), array([0])]]\n",
      "iclass 0 done 25/50\n",
      "[[0]] row idxs [5721, 6042, 4096] [[array([0]), array([0]), array([0])]]\n",
      "iclass 0 done 26/50\n",
      "[[0]] row idxs [11528, 6874, 5342] [[array([0]), array([0]), array([0])]]\n",
      "iclass 0 done 27/50\n",
      "[[0]] row idxs [3190, 6195, 4044] [[array([0]), array([0]), array([0])]]\n",
      "iclass 0 done 28/50\n",
      "[[0]] row idxs [11140, 3098, 878] [[array([0]), array([0]), array([0])]]\n",
      "iclass 0 done 29/50\n",
      "[[0]] row idxs [11213, 5432, 9338] [[array([0]), array([0]), array([0])]]\n",
      "iclass 0 done 30/50\n",
      "[[0]] row idxs [10013, 11143, 634] [[array([0]), array([0]), array([0])]]\n",
      "iclass 0 done 31/50\n",
      "[[0]] row idxs [4923, 9419, 8714] [[array([0]), array([0]), array([0])]]\n",
      "iclass 0 done 32/50\n",
      "[[0]] row idxs [5736, 1233, 1549] [[array([0]), array([0]), array([0])]]\n",
      "iclass 0 done 33/50\n",
      "[[0]] row idxs [6877, 3796, 7625] [[array([0]), array([0]), array([0])]]\n",
      "iclass 0 done 34/50\n",
      "[[0]] row idxs [5105, 8816, 9351] [[array([0]), array([0]), array([0])]]\n"
     ]
    }
   ],
   "source": [
    "import pandas as pd\n",
    "\n",
    "batch_size = 100\n",
    "model_kwargs = dict(y=th.zeros(batch_size, dtype=torch.int, device=\"cuda\"))\n",
    "diffusion_eval = create_diffusion(timestep_respacing=\"ddim200\")  # default: ddim100\n",
    "nreps = 50\n",
    "sample_col = []\n",
    "meta_col = []\n",
    "rule_all_col = []\n",
    "stats_col = []\n",
    "# iclass = 0\n",
    "for iclass in range(40):\n",
    "    idx_seq = np.random.choice(12000, 3 * nreps, replace=False)\n",
    "    for ireps in range(nreps):\n",
    "        idxs = idx_seq[ireps*3:(ireps+1)*3]\n",
    "        # idxs = np.random.randint(0, 12000, 3)#np.random.choice(12000, 3)\n",
    "        attr_tsr = train_data2attr_tsr(attr_all[iclass, idxs])\n",
    "        attr_mtg = einops.rearrange(attr_tsr, \"row attr h PW -> attr (row h) PW\")\n",
    "        r3_list, r2_list, rule_col = infer_rule_from_sample_batch(attr_mtg)\n",
    "        print(r3_list, \"row idxs\", list(idxs), rule_col)\n",
    "        # assert np.all(orig_rules != -1)\n",
    "        assert len(r3_list[0]) == 1\n",
    "        orig_rule_id = r3_list[0][0]\n",
    "        target_img = (attr_mtg.float().to(device) - dataset_Xmean) / dataset_Xstd\n",
    "        for x_pos, y_pos in [(0, 2), (1, 2), (2, 2),]:\n",
    "            mask_tsr = torch.zeros(target_img.shape[-2:], device=device)\n",
    "            mask_tsr[3*x_pos:3*(x_pos+1), 3*y_pos:3*(y_pos+1)] = 1\n",
    "            samples_inpaint = ddim_sample_inpainting_loop(diffusion_eval, model, (batch_size, 3, 9, 9), target_img, mask_tsr, noise=None, clip_denoised=True, fixed_noise=False,\n",
    "                                                        model_kwargs=model_kwargs, device=\"cuda\", progress=False, eta=0.0)\n",
    "            samples_inpaint = ((samples_inpaint.detach() * dataset_Xstd) + dataset_Xmean).cpu()\n",
    "            r3_list_ipt, r2_list_ipt, rule_col_ipt = infer_rule_from_sample_batch(samples_inpaint)\n",
    "            consistent_r3 = sum([orig_rule_id in cst_rule_set for cst_rule_set in r3_list_ipt])\n",
    "            inpaint_rule_col = np.concatenate(tuple(np.array(rule_col_ipt, dtype=object)[:, x_pos]))\n",
    "            if len(inpaint_rule_col):\n",
    "                uniq, counts = np.unique(inpaint_rule_col, return_counts=True)\n",
    "                # sort by counts\n",
    "                idx_sort = np.argsort(counts)[::-1]\n",
    "                uniq_sort = uniq[idx_sort]\n",
    "                counts_sort = counts[idx_sort]\n",
    "            else:\n",
    "                uniq_sort = []\n",
    "                counts_sort = []\n",
    "            # print(f\"Rule [{orig_rule_id}] id[{idxs[x_pos]}] Consistent rules ratio inpainting samples ({x_pos}, {y_pos}): {consistent_r3}/{batch_size} ({consistent_r3/batch_size:.3f})\")\n",
    "            meta_col.append({\"iclass\": iclass, \"idxs\": list(idxs), \"rule\": rule_col, \"x_pos\": x_pos, \"y_pos\": y_pos})\n",
    "            sample_col.append(samples_inpaint)\n",
    "            rule_all_col.append((r3_list_ipt, r2_list_ipt, rule_col_ipt))\n",
    "            stats_col.append({\"iclass\": iclass, \"idxs\": list(idxs), \"x_pos\": x_pos, \"y_pos\": y_pos, \"consistent_r3\": consistent_r3, \"batch_size\": batch_size, \n",
    "                              \"rule_uniq\": uniq_sort, \"rule_cnts\": counts_sort}) # \"rule\": rule_col, \n",
    "        print(f\"iclass {iclass} done {ireps}/{nreps}\")\n",
    "        df = pd.DataFrame(stats_col)\n",
    "        df.to_csv(join(savedir, \"inpaint_rule_stats.csv\"))\n",
    "                \n",
    "    pkl.dump(sample_col, open(join(savedir, \"inpaint_sample_col.pkl\"), \"wb\"))\n",
    "    pkl.dump(meta_col, open(join(savedir, \"inpaint_meta_col.pkl\"), \"wb\"))\n",
    "    pkl.dump(rule_all_col, open(join(savedir, \"inpaint_rule_all_col.pkl\"), \"wb\"))\n",
    "    pkl.dump(stats_col, open(join(savedir, \"inpaint_stats_col.pkl\"), \"wb\"))\n",
    "df = pd.DataFrame(stats_col)\n",
    "df.to_csv(join(savedir, \"inpaint_rule_stats.csv\"))\n"
   ]
  },
  {
   "cell_type": "code",
   "execution_count": 276,
   "metadata": {},
   "outputs": [
    {
     "name": "stdout",
     "output_type": "stream",
     "text": [
      "[25.  0. 30. 20. 26.  6.] [32 25 17  9  5  4]\n"
     ]
    }
   ],
   "source": [
    "inpaint_rule_col = np.concatenate(tuple(np.array(rule_col_ipt, dtype=object)[:, x_pos]))\n",
    "uniq, counts = np.unique(inpaint_rule_col, return_counts=True)\n",
    "# sort by counts\n",
    "idx_sort = np.argsort(counts)[::-1]\n",
    "uniq_sort = uniq[idx_sort]\n",
    "counts_sort = counts[idx_sort]\n",
    "print(uniq_sort, counts_sort)"
   ]
  },
  {
   "cell_type": "markdown",
   "metadata": {},
   "source": [
    "### Scratch zone"
   ]
  },
  {
   "cell_type": "code",
   "execution_count": 227,
   "metadata": {},
   "outputs": [
    {
     "data": {
      "text/plain": [
       "tensor([[[ 0., -0., -0.,  0.,  0.,  0., -0.,  0., -0.],\n",
       "         [ 0., -0., -0.,  0.,  0., -0.,  0., -0.,  0.],\n",
       "         [ 0., -0.,  0.,  0.,  0.,  0.,  0.,  0., -0.],\n",
       "         [-0., -0.,  0., -0., -0., -0.,  0.,  0.,  0.],\n",
       "         [-0., -0., -0.,  0.,  0., -0.,  0., -0.,  0.],\n",
       "         [-0., -0., -0.,  0., -0., -0., -0.,  0.,  0.],\n",
       "         [ 0., -0., -0.,  0.,  0.,  0., -4.,  1., -4.],\n",
       "         [-0.,  0., -0.,  0.,  0., -0.,  0., -4., -4.],\n",
       "         [-0., -0., -0.,  0.,  0., -0.,  1., -5.,  1.]],\n",
       "\n",
       "        [[ 0., -2., -2.,  0.,  0.,  0., -1.,  0., -1.],\n",
       "         [ 0., -2., -2.,  0.,  0.,  0.,  0., -1.,  0.],\n",
       "         [ 0., -2.,  0.,  0.,  0.,  0.,  0.,  0., -1.],\n",
       "         [ 0.,  0.,  0.,  0.,  0.,  0.,  0.,  0.,  0.],\n",
       "         [ 0.,  0.,  0.,  0.,  0.,  0.,  0.,  0.,  0.],\n",
       "         [ 0.,  0.,  0.,  0.,  0.,  0.,  0.,  0.,  0.],\n",
       "         [ 0.,  0.,  0.,  0.,  0.,  0.,  2.,  7.,  2.],\n",
       "         [ 0.,  0.,  0.,  0.,  0.,  0.,  0.,  2.,  2.],\n",
       "         [ 0.,  0.,  0.,  0.,  0.,  0.,  7., -5.,  7.]],\n",
       "\n",
       "        [[ 0., -1., -1.,  0.,  0.,  0., -0.,  0., -0.],\n",
       "         [ 0., -1., -1.,  0.,  0.,  0.,  0., -0.,  0.],\n",
       "         [ 0., -1.,  0.,  0.,  0.,  0.,  0.,  0., -0.],\n",
       "         [ 0.,  0.,  0.,  0.,  0.,  0.,  0.,  0.,  0.],\n",
       "         [ 0.,  0.,  0.,  0.,  0.,  0.,  0., -1.,  0.],\n",
       "         [ 0.,  0.,  0.,  0.,  0.,  0., -1.,  0.,  0.],\n",
       "         [ 0., -2., -2.,  0.,  0.,  0., -3.,  2., -3.],\n",
       "         [-2.,  0., -2.,  0.,  0., -1.,  0., -3., -3.],\n",
       "         [-2., -2., -2.,  0.,  0., -1.,  2., -5.,  2.]]])"
      ]
     },
     "execution_count": 227,
     "metadata": {},
     "output_type": "execute_result"
    }
   ],
   "source": [
    "(samples_inpaint[2] - attr_mtg).round()"
   ]
  },
  {
   "cell_type": "code",
   "execution_count": 207,
   "metadata": {},
   "outputs": [
    {
     "data": {
      "text/plain": [
       "[[array([13]), array([13]), array([ 5, 13, 20])],\n",
       " [array([13]), array([13]), array([ 5, 30])],\n",
       " [array([13]), array([13]), array([13, 20])],\n",
       " [array([13]), array([13]), array([13])],\n",
       " [array([13]), array([13]), array([], dtype=float64)],\n",
       " [array([13]), array([13]), array([], dtype=float64)],\n",
       " [array([13]), array([13]), array([], dtype=float64)],\n",
       " [array([13]), array([13]), array([5])],\n",
       " [array([13]), array([13]), array([ 5, 13])],\n",
       " [array([13]), array([13]), array([20])],\n",
       " [array([13]), array([13]), array([], dtype=float64)],\n",
       " [array([13]), array([13]), array([13, 20])],\n",
       " [array([13]), array([13]), array([13])],\n",
       " [array([13]), array([13]), array([13, 20])],\n",
       " [array([13]), array([13]), array([5])],\n",
       " [array([13]), array([13]), array([13])],\n",
       " [array([13]), array([13]), array([ 5, 13, 20])],\n",
       " [array([13]), array([13]), array([13, 20])],\n",
       " [array([13]), array([13]), array([5])],\n",
       " [array([13]), array([13]), array([ 5, 20])],\n",
       " [array([13]), array([13]), array([ 5, 20])],\n",
       " [array([13]), array([13]), array([20, 30])],\n",
       " [array([13]), array([13]), array([ 5, 13])],\n",
       " [array([13]), array([13]), array([13, 26])],\n",
       " [array([13]), array([13]), array([13, 26])],\n",
       " [array([13]), array([13]), array([5])],\n",
       " [array([13]), array([13]), array([], dtype=float64)],\n",
       " [array([13]), array([13]), array([ 5, 13, 20])],\n",
       " [array([13]), array([13]), array([0])],\n",
       " [array([13]), array([13]), array([], dtype=float64)],\n",
       " [array([13]), array([13]), array([13, 20])],\n",
       " [array([13]), array([13]), array([], dtype=float64)],\n",
       " [array([13]), array([13]), array([ 5, 20])],\n",
       " [array([13]), array([13]), array([5])],\n",
       " [array([13]), array([13]), array([ 5, 13, 20])],\n",
       " [array([13]), array([13]), array([], dtype=float64)],\n",
       " [array([13]), array([13]), array([5])],\n",
       " [array([13]), array([13]), array([ 5, 13])],\n",
       " [array([13]), array([13]), array([13])],\n",
       " [array([13]), array([13]), array([13, 26])],\n",
       " [array([13]), array([13]), array([ 5, 13, 20])],\n",
       " [array([13]), array([13]), array([0])],\n",
       " [array([13]), array([13]), array([ 5, 13, 20, 30])],\n",
       " [array([13]), array([13]), array([13, 20])],\n",
       " [array([13]), array([13]), array([ 5, 13])],\n",
       " [array([13]), array([13]), array([26])],\n",
       " [array([13]), array([13]), array([13])],\n",
       " [array([13]), array([13]), array([20])],\n",
       " [array([13]), array([13]), array([], dtype=float64)],\n",
       " [array([13]), array([13]), array([5])],\n",
       " [array([13]), array([13]), array([], dtype=float64)],\n",
       " [array([13]), array([13]), array([13, 20])],\n",
       " [array([13]), array([13]), array([20])],\n",
       " [array([13]), array([13]), array([13])],\n",
       " [array([13]), array([13]), array([13])],\n",
       " [array([13]), array([13]), array([13, 20])],\n",
       " [array([13]), array([13]), array([13, 20])],\n",
       " [array([13]), array([13]), array([5])],\n",
       " [array([13]), array([13]), array([13])],\n",
       " [array([13]), array([13]), array([5])],\n",
       " [array([13]), array([13]), array([ 5, 13])],\n",
       " [array([13]), array([13]), array([13, 20])],\n",
       " [array([13]), array([13]), array([], dtype=float64)],\n",
       " [array([13]), array([13]), array([13, 20])],\n",
       " [array([13]), array([13]), array([], dtype=float64)],\n",
       " [array([13]), array([13]), array([ 5, 13])],\n",
       " [array([13]), array([13]), array([5])],\n",
       " [array([13]), array([13]), array([13, 20])],\n",
       " [array([13]), array([13]), array([13, 20])],\n",
       " [array([13]), array([13]), array([], dtype=float64)],\n",
       " [array([13]), array([13]), array([13])],\n",
       " [array([13]), array([13]), array([13, 20])],\n",
       " [array([13]), array([13]), array([], dtype=float64)],\n",
       " [array([13]), array([13]), array([13])],\n",
       " [array([13]), array([13]), array([5])],\n",
       " [array([13]), array([13]), array([20])],\n",
       " [array([13]), array([13]), array([20])],\n",
       " [array([13]), array([13]), array([5])],\n",
       " [array([13]), array([13]), array([13])],\n",
       " [array([13]), array([13]), array([13])],\n",
       " [array([13]), array([13]), array([13])],\n",
       " [array([13]), array([13]), array([5])],\n",
       " [array([13]), array([13]), array([13])],\n",
       " [array([13]), array([13]), array([], dtype=float64)],\n",
       " [array([13]), array([13]), array([], dtype=float64)],\n",
       " [array([13]), array([13]), array([13])],\n",
       " [array([13]), array([13]), array([5])],\n",
       " [array([13]), array([13]), array([5])],\n",
       " [array([13]), array([13]), array([20])],\n",
       " [array([13]), array([13]), array([13])],\n",
       " [array([13]), array([13]), array([30])],\n",
       " [array([13]), array([13]), array([ 5, 13, 20])],\n",
       " [array([13]), array([13]), array([13])],\n",
       " [array([13]), array([13]), array([], dtype=float64)],\n",
       " [array([13]), array([13]), array([20])],\n",
       " [array([13]), array([13]), array([5])],\n",
       " [array([13]), array([13]), array([13, 20])],\n",
       " [array([13]), array([13]), array([13])],\n",
       " [array([13]), array([13]), array([13])],\n",
       " [array([13]), array([13]), array([ 5, 20])]]"
      ]
     },
     "execution_count": 207,
     "metadata": {},
     "output_type": "execute_result"
    }
   ],
   "source": [
    "rule_col_ipt"
   ]
  },
  {
   "cell_type": "markdown",
   "metadata": {},
   "source": []
  },
  {
   "cell_type": "code",
   "execution_count": 140,
   "metadata": {},
   "outputs": [
    {
     "data": {
      "application/vnd.jupyter.widget-view+json": {
       "model_id": "433996bff64b4519a494de66f7918794",
       "version_major": 2,
       "version_minor": 0
      },
      "text/plain": [
       "  0%|          | 0/100 [00:00<?, ?it/s]"
      ]
     },
     "metadata": {},
     "output_type": "display_data"
    },
    {
     "name": "stdout",
     "output_type": "stream",
     "text": [
      "torch.Size([100, 3, 9, 9]) torch.Size([1, 3, 9, 9]) torch.Size([9, 9]) torch.Size([100, 3, 9, 9])\n",
      "tensor(16.3802, device='cuda:0') tensor(14.9425, device='cuda:0')\n",
      "torch.Size([100, 3, 9, 9]) torch.Size([1, 3, 9, 9]) torch.Size([9, 9]) torch.Size([100, 3, 9, 9])\n",
      "tensor(15.4465, device='cuda:0') tensor(16.3471, device='cuda:0')\n",
      "torch.Size([100, 3, 9, 9]) torch.Size([1, 3, 9, 9]) torch.Size([9, 9]) torch.Size([100, 3, 9, 9])\n",
      "tensor(15.6391, device='cuda:0') tensor(15.0314, device='cuda:0')\n",
      "torch.Size([100, 3, 9, 9]) torch.Size([1, 3, 9, 9]) torch.Size([9, 9]) torch.Size([100, 3, 9, 9])\n",
      "tensor(15.9289, device='cuda:0') tensor(15.9099, device='cuda:0')\n",
      "torch.Size([100, 3, 9, 9]) torch.Size([1, 3, 9, 9]) torch.Size([9, 9]) torch.Size([100, 3, 9, 9])\n",
      "tensor(15.7011, device='cuda:0') tensor(16.2316, device='cuda:0')\n",
      "torch.Size([100, 3, 9, 9]) torch.Size([1, 3, 9, 9]) torch.Size([9, 9]) torch.Size([100, 3, 9, 9])\n",
      "tensor(15.6725, device='cuda:0') tensor(15.7602, device='cuda:0')\n",
      "torch.Size([100, 3, 9, 9]) torch.Size([1, 3, 9, 9]) torch.Size([9, 9]) torch.Size([100, 3, 9, 9])\n",
      "tensor(15.7182, device='cuda:0') tensor(15.6592, device='cuda:0')\n",
      "torch.Size([100, 3, 9, 9]) torch.Size([1, 3, 9, 9]) torch.Size([9, 9]) torch.Size([100, 3, 9, 9])\n",
      "tensor(15.5486, device='cuda:0') tensor(16.1513, device='cuda:0')\n",
      "torch.Size([100, 3, 9, 9]) torch.Size([1, 3, 9, 9]) torch.Size([9, 9]) torch.Size([100, 3, 9, 9])\n",
      "tensor(15.4079, device='cuda:0') tensor(15.7076, device='cuda:0')\n",
      "torch.Size([100, 3, 9, 9]) torch.Size([1, 3, 9, 9]) torch.Size([9, 9]) torch.Size([100, 3, 9, 9])\n",
      "tensor(16.1751, device='cuda:0') tensor(15.4647, device='cuda:0')\n",
      "torch.Size([100, 3, 9, 9]) torch.Size([1, 3, 9, 9]) torch.Size([9, 9]) torch.Size([100, 3, 9, 9])\n",
      "tensor(14.1556, device='cuda:0') tensor(15.8698, device='cuda:0')\n",
      "torch.Size([100, 3, 9, 9]) torch.Size([1, 3, 9, 9]) torch.Size([9, 9]) torch.Size([100, 3, 9, 9])\n",
      "tensor(17.0585, device='cuda:0') tensor(14.2255, device='cuda:0')\n",
      "torch.Size([100, 3, 9, 9]) torch.Size([1, 3, 9, 9]) torch.Size([9, 9]) torch.Size([100, 3, 9, 9])\n",
      "tensor(16.3319, device='cuda:0') tensor(17.0596, device='cuda:0')\n",
      "torch.Size([100, 3, 9, 9]) torch.Size([1, 3, 9, 9]) torch.Size([9, 9]) torch.Size([100, 3, 9, 9])\n",
      "tensor(15.2661, device='cuda:0') tensor(16.5909, device='cuda:0')\n",
      "torch.Size([100, 3, 9, 9]) torch.Size([1, 3, 9, 9]) torch.Size([9, 9]) torch.Size([100, 3, 9, 9])\n",
      "tensor(15.8585, device='cuda:0') tensor(15.3329, device='cuda:0')\n",
      "torch.Size([100, 3, 9, 9]) torch.Size([1, 3, 9, 9]) torch.Size([9, 9]) torch.Size([100, 3, 9, 9])\n",
      "tensor(16.6415, device='cuda:0') tensor(16.0410, device='cuda:0')\n",
      "torch.Size([100, 3, 9, 9]) torch.Size([1, 3, 9, 9]) torch.Size([9, 9]) torch.Size([100, 3, 9, 9])\n",
      "tensor(14.9629, device='cuda:0') tensor(16.6825, device='cuda:0')\n",
      "torch.Size([100, 3, 9, 9]) torch.Size([1, 3, 9, 9]) torch.Size([9, 9]) torch.Size([100, 3, 9, 9])\n",
      "tensor(16.2489, device='cuda:0') tensor(15.0018, device='cuda:0')\n",
      "torch.Size([100, 3, 9, 9]) torch.Size([1, 3, 9, 9]) torch.Size([9, 9]) torch.Size([100, 3, 9, 9])\n",
      "tensor(15.5098, device='cuda:0') tensor(16.1251, device='cuda:0')\n",
      "torch.Size([100, 3, 9, 9]) torch.Size([1, 3, 9, 9]) torch.Size([9, 9]) torch.Size([100, 3, 9, 9])\n",
      "tensor(16.5642, device='cuda:0') tensor(16.1297, device='cuda:0')\n",
      "torch.Size([100, 3, 9, 9]) torch.Size([1, 3, 9, 9]) torch.Size([9, 9]) torch.Size([100, 3, 9, 9])\n",
      "tensor(15.4812, device='cuda:0') tensor(16.4173, device='cuda:0')\n",
      "torch.Size([100, 3, 9, 9]) torch.Size([1, 3, 9, 9]) torch.Size([9, 9]) torch.Size([100, 3, 9, 9])\n",
      "tensor(15.5527, device='cuda:0') tensor(15.9016, device='cuda:0')\n",
      "torch.Size([100, 3, 9, 9]) torch.Size([1, 3, 9, 9]) torch.Size([9, 9]) torch.Size([100, 3, 9, 9])\n",
      "tensor(16.5017, device='cuda:0') tensor(15.9106, device='cuda:0')\n",
      "torch.Size([100, 3, 9, 9]) torch.Size([1, 3, 9, 9]) torch.Size([9, 9]) torch.Size([100, 3, 9, 9])\n",
      "tensor(15.6451, device='cuda:0') tensor(16.3579, device='cuda:0')\n",
      "torch.Size([100, 3, 9, 9]) torch.Size([1, 3, 9, 9]) torch.Size([9, 9]) torch.Size([100, 3, 9, 9])\n",
      "tensor(15.7082, device='cuda:0') tensor(15.9080, device='cuda:0')\n",
      "torch.Size([100, 3, 9, 9]) torch.Size([1, 3, 9, 9]) torch.Size([9, 9]) torch.Size([100, 3, 9, 9])\n",
      "tensor(16.6908, device='cuda:0') tensor(15.4556, device='cuda:0')\n",
      "torch.Size([100, 3, 9, 9]) torch.Size([1, 3, 9, 9]) torch.Size([9, 9]) torch.Size([100, 3, 9, 9])\n",
      "tensor(15.6903, device='cuda:0') tensor(16.6834, device='cuda:0')\n",
      "torch.Size([100, 3, 9, 9]) torch.Size([1, 3, 9, 9]) torch.Size([9, 9]) torch.Size([100, 3, 9, 9])\n",
      "tensor(15.6081, device='cuda:0') tensor(15.8037, device='cuda:0')\n",
      "torch.Size([100, 3, 9, 9]) torch.Size([1, 3, 9, 9]) torch.Size([9, 9]) torch.Size([100, 3, 9, 9])\n",
      "tensor(15.4530, device='cuda:0') tensor(15.3576, device='cuda:0')\n",
      "torch.Size([100, 3, 9, 9]) torch.Size([1, 3, 9, 9]) torch.Size([9, 9]) torch.Size([100, 3, 9, 9])\n",
      "tensor(16.9009, device='cuda:0') tensor(15.8966, device='cuda:0')\n",
      "torch.Size([100, 3, 9, 9]) torch.Size([1, 3, 9, 9]) torch.Size([9, 9]) torch.Size([100, 3, 9, 9])\n",
      "tensor(15.1499, device='cuda:0') tensor(16.6849, device='cuda:0')\n",
      "torch.Size([100, 3, 9, 9]) torch.Size([1, 3, 9, 9]) torch.Size([9, 9]) torch.Size([100, 3, 9, 9])\n",
      "tensor(16.3551, device='cuda:0') tensor(15.4412, device='cuda:0')\n",
      "torch.Size([100, 3, 9, 9]) torch.Size([1, 3, 9, 9]) torch.Size([9, 9]) torch.Size([100, 3, 9, 9])\n",
      "tensor(14.3763, device='cuda:0') tensor(16.6425, device='cuda:0')\n",
      "torch.Size([100, 3, 9, 9]) torch.Size([1, 3, 9, 9]) torch.Size([9, 9]) torch.Size([100, 3, 9, 9])\n",
      "tensor(16.0110, device='cuda:0') tensor(14.4654, device='cuda:0')\n",
      "torch.Size([100, 3, 9, 9]) torch.Size([1, 3, 9, 9]) torch.Size([9, 9]) torch.Size([100, 3, 9, 9])\n",
      "tensor(16.5817, device='cuda:0') tensor(16.2760, device='cuda:0')\n",
      "torch.Size([100, 3, 9, 9]) torch.Size([1, 3, 9, 9]) torch.Size([9, 9]) torch.Size([100, 3, 9, 9])\n",
      "tensor(15.8999, device='cuda:0') tensor(16.5815, device='cuda:0')\n",
      "torch.Size([100, 3, 9, 9]) torch.Size([1, 3, 9, 9]) torch.Size([9, 9]) torch.Size([100, 3, 9, 9])\n",
      "tensor(15.2865, device='cuda:0') tensor(15.8495, device='cuda:0')\n",
      "torch.Size([100, 3, 9, 9]) torch.Size([1, 3, 9, 9]) torch.Size([9, 9]) torch.Size([100, 3, 9, 9])\n",
      "tensor(15.2507, device='cuda:0') tensor(15.5083, device='cuda:0')\n",
      "torch.Size([100, 3, 9, 9]) torch.Size([1, 3, 9, 9]) torch.Size([9, 9]) torch.Size([100, 3, 9, 9])\n",
      "tensor(15.6163, device='cuda:0') tensor(15.6209, device='cuda:0')\n",
      "torch.Size([100, 3, 9, 9]) torch.Size([1, 3, 9, 9]) torch.Size([9, 9]) torch.Size([100, 3, 9, 9])\n",
      "tensor(16.1128, device='cuda:0') tensor(16.0748, device='cuda:0')\n",
      "torch.Size([100, 3, 9, 9]) torch.Size([1, 3, 9, 9]) torch.Size([9, 9]) torch.Size([100, 3, 9, 9])\n",
      "tensor(15.0000, device='cuda:0') tensor(16.1944, device='cuda:0')\n",
      "torch.Size([100, 3, 9, 9]) torch.Size([1, 3, 9, 9]) torch.Size([9, 9]) torch.Size([100, 3, 9, 9])\n",
      "tensor(15.9194, device='cuda:0') tensor(15.5494, device='cuda:0')\n",
      "torch.Size([100, 3, 9, 9]) torch.Size([1, 3, 9, 9]) torch.Size([9, 9]) torch.Size([100, 3, 9, 9])\n",
      "tensor(15.3320, device='cuda:0') tensor(15.9651, device='cuda:0')\n",
      "torch.Size([100, 3, 9, 9]) torch.Size([1, 3, 9, 9]) torch.Size([9, 9]) torch.Size([100, 3, 9, 9])\n",
      "tensor(15.1873, device='cuda:0') tensor(15.7498, device='cuda:0')\n",
      "torch.Size([100, 3, 9, 9]) torch.Size([1, 3, 9, 9]) torch.Size([9, 9]) torch.Size([100, 3, 9, 9])\n",
      "tensor(15.0468, device='cuda:0') tensor(15.3356, device='cuda:0')\n",
      "torch.Size([100, 3, 9, 9]) torch.Size([1, 3, 9, 9]) torch.Size([9, 9]) torch.Size([100, 3, 9, 9])\n",
      "tensor(15.9293, device='cuda:0') tensor(15.0193, device='cuda:0')\n",
      "torch.Size([100, 3, 9, 9]) torch.Size([1, 3, 9, 9]) torch.Size([9, 9]) torch.Size([100, 3, 9, 9])\n",
      "tensor(16.4817, device='cuda:0') tensor(15.4898, device='cuda:0')\n",
      "torch.Size([100, 3, 9, 9]) torch.Size([1, 3, 9, 9]) torch.Size([9, 9]) torch.Size([100, 3, 9, 9])\n",
      "tensor(15.4921, device='cuda:0') tensor(16.6795, device='cuda:0')\n",
      "torch.Size([100, 3, 9, 9]) torch.Size([1, 3, 9, 9]) torch.Size([9, 9]) torch.Size([100, 3, 9, 9])\n",
      "tensor(14.8962, device='cuda:0') tensor(15.3222, device='cuda:0')\n",
      "torch.Size([100, 3, 9, 9]) torch.Size([1, 3, 9, 9]) torch.Size([9, 9]) torch.Size([100, 3, 9, 9])\n",
      "tensor(15.5311, device='cuda:0') tensor(14.7669, device='cuda:0')\n",
      "torch.Size([100, 3, 9, 9]) torch.Size([1, 3, 9, 9]) torch.Size([9, 9]) torch.Size([100, 3, 9, 9])\n",
      "tensor(16.9034, device='cuda:0') tensor(15.9609, device='cuda:0')\n",
      "torch.Size([100, 3, 9, 9]) torch.Size([1, 3, 9, 9]) torch.Size([9, 9]) torch.Size([100, 3, 9, 9])\n",
      "tensor(16.7724, device='cuda:0') tensor(16.9540, device='cuda:0')\n",
      "torch.Size([100, 3, 9, 9]) torch.Size([1, 3, 9, 9]) torch.Size([9, 9]) torch.Size([100, 3, 9, 9])\n",
      "tensor(16.5472, device='cuda:0') tensor(17.2741, device='cuda:0')\n",
      "torch.Size([100, 3, 9, 9]) torch.Size([1, 3, 9, 9]) torch.Size([9, 9]) torch.Size([100, 3, 9, 9])\n",
      "tensor(15.8509, device='cuda:0') tensor(16.7196, device='cuda:0')\n",
      "torch.Size([100, 3, 9, 9]) torch.Size([1, 3, 9, 9]) torch.Size([9, 9]) torch.Size([100, 3, 9, 9])\n",
      "tensor(14.8473, device='cuda:0') tensor(16.0895, device='cuda:0')\n",
      "torch.Size([100, 3, 9, 9]) torch.Size([1, 3, 9, 9]) torch.Size([9, 9]) torch.Size([100, 3, 9, 9])\n",
      "tensor(15.9502, device='cuda:0') tensor(14.8737, device='cuda:0')\n",
      "torch.Size([100, 3, 9, 9]) torch.Size([1, 3, 9, 9]) torch.Size([9, 9]) torch.Size([100, 3, 9, 9])\n",
      "tensor(15.5341, device='cuda:0') tensor(15.4291, device='cuda:0')\n",
      "torch.Size([100, 3, 9, 9]) torch.Size([1, 3, 9, 9]) torch.Size([9, 9]) torch.Size([100, 3, 9, 9])\n",
      "tensor(15.9873, device='cuda:0') tensor(15.6749, device='cuda:0')\n",
      "torch.Size([100, 3, 9, 9]) torch.Size([1, 3, 9, 9]) torch.Size([9, 9]) torch.Size([100, 3, 9, 9])\n",
      "tensor(15.6563, device='cuda:0') tensor(15.9184, device='cuda:0')\n",
      "torch.Size([100, 3, 9, 9]) torch.Size([1, 3, 9, 9]) torch.Size([9, 9]) torch.Size([100, 3, 9, 9])\n",
      "tensor(15.5421, device='cuda:0') tensor(16.0901, device='cuda:0')\n",
      "torch.Size([100, 3, 9, 9]) torch.Size([1, 3, 9, 9]) torch.Size([9, 9]) torch.Size([100, 3, 9, 9])\n",
      "tensor(16.5672, device='cuda:0') tensor(15.6529, device='cuda:0')\n",
      "torch.Size([100, 3, 9, 9]) torch.Size([1, 3, 9, 9]) torch.Size([9, 9]) torch.Size([100, 3, 9, 9])\n",
      "tensor(15.0223, device='cuda:0') tensor(16.9932, device='cuda:0')\n",
      "torch.Size([100, 3, 9, 9]) torch.Size([1, 3, 9, 9]) torch.Size([9, 9]) torch.Size([100, 3, 9, 9])\n",
      "tensor(16.5318, device='cuda:0') tensor(15.0157, device='cuda:0')\n",
      "torch.Size([100, 3, 9, 9]) torch.Size([1, 3, 9, 9]) torch.Size([9, 9]) torch.Size([100, 3, 9, 9])\n",
      "tensor(16.7400, device='cuda:0') tensor(16.6555, device='cuda:0')\n",
      "torch.Size([100, 3, 9, 9]) torch.Size([1, 3, 9, 9]) torch.Size([9, 9]) torch.Size([100, 3, 9, 9])\n",
      "tensor(15.8548, device='cuda:0') tensor(17.0727, device='cuda:0')\n",
      "torch.Size([100, 3, 9, 9]) torch.Size([1, 3, 9, 9]) torch.Size([9, 9]) torch.Size([100, 3, 9, 9])\n",
      "tensor(16.7522, device='cuda:0') tensor(15.8717, device='cuda:0')\n",
      "torch.Size([100, 3, 9, 9]) torch.Size([1, 3, 9, 9]) torch.Size([9, 9]) torch.Size([100, 3, 9, 9])\n",
      "tensor(15.9084, device='cuda:0') tensor(16.9143, device='cuda:0')\n",
      "torch.Size([100, 3, 9, 9]) torch.Size([1, 3, 9, 9]) torch.Size([9, 9]) torch.Size([100, 3, 9, 9])\n",
      "tensor(17.1313, device='cuda:0') tensor(15.9443, device='cuda:0')\n",
      "torch.Size([100, 3, 9, 9]) torch.Size([1, 3, 9, 9]) torch.Size([9, 9]) torch.Size([100, 3, 9, 9])\n",
      "tensor(16.5160, device='cuda:0') tensor(16.9942, device='cuda:0')\n",
      "torch.Size([100, 3, 9, 9]) torch.Size([1, 3, 9, 9]) torch.Size([9, 9]) torch.Size([100, 3, 9, 9])\n",
      "tensor(17.0015, device='cuda:0') tensor(16.5310, device='cuda:0')\n",
      "torch.Size([100, 3, 9, 9]) torch.Size([1, 3, 9, 9]) torch.Size([9, 9]) torch.Size([100, 3, 9, 9])\n",
      "tensor(16.1070, device='cuda:0') tensor(17.0756, device='cuda:0')\n",
      "torch.Size([100, 3, 9, 9]) torch.Size([1, 3, 9, 9]) torch.Size([9, 9]) torch.Size([100, 3, 9, 9])\n",
      "tensor(16.3210, device='cuda:0') tensor(16.3010, device='cuda:0')\n",
      "torch.Size([100, 3, 9, 9]) torch.Size([1, 3, 9, 9]) torch.Size([9, 9]) torch.Size([100, 3, 9, 9])\n",
      "tensor(18.4308, device='cuda:0') tensor(16.1465, device='cuda:0')\n",
      "torch.Size([100, 3, 9, 9]) torch.Size([1, 3, 9, 9]) torch.Size([9, 9]) torch.Size([100, 3, 9, 9])\n",
      "tensor(16.8310, device='cuda:0') tensor(17.8064, device='cuda:0')\n",
      "torch.Size([100, 3, 9, 9]) torch.Size([1, 3, 9, 9]) torch.Size([9, 9]) torch.Size([100, 3, 9, 9])\n",
      "tensor(16.5176, device='cuda:0') tensor(16.9740, device='cuda:0')\n",
      "torch.Size([100, 3, 9, 9]) torch.Size([1, 3, 9, 9]) torch.Size([9, 9]) torch.Size([100, 3, 9, 9])\n",
      "tensor(16.5075, device='cuda:0') tensor(16.2393, device='cuda:0')\n",
      "torch.Size([100, 3, 9, 9]) torch.Size([1, 3, 9, 9]) torch.Size([9, 9]) torch.Size([100, 3, 9, 9])\n",
      "tensor(16.6506, device='cuda:0') tensor(16.5278, device='cuda:0')\n",
      "torch.Size([100, 3, 9, 9]) torch.Size([1, 3, 9, 9]) torch.Size([9, 9]) torch.Size([100, 3, 9, 9])\n",
      "tensor(15.3604, device='cuda:0') tensor(16.7060, device='cuda:0')\n",
      "torch.Size([100, 3, 9, 9]) torch.Size([1, 3, 9, 9]) torch.Size([9, 9]) torch.Size([100, 3, 9, 9])\n",
      "tensor(16.6341, device='cuda:0') tensor(15.3407, device='cuda:0')\n",
      "torch.Size([100, 3, 9, 9]) torch.Size([1, 3, 9, 9]) torch.Size([9, 9]) torch.Size([100, 3, 9, 9])\n",
      "tensor(16.4212, device='cuda:0') tensor(16.5062, device='cuda:0')\n",
      "torch.Size([100, 3, 9, 9]) torch.Size([1, 3, 9, 9]) torch.Size([9, 9]) torch.Size([100, 3, 9, 9])\n",
      "tensor(17.1631, device='cuda:0') tensor(16.2969, device='cuda:0')\n",
      "torch.Size([100, 3, 9, 9]) torch.Size([1, 3, 9, 9]) torch.Size([9, 9]) torch.Size([100, 3, 9, 9])\n",
      "tensor(17.4471, device='cuda:0') tensor(17.1068, device='cuda:0')\n",
      "torch.Size([100, 3, 9, 9]) torch.Size([1, 3, 9, 9]) torch.Size([9, 9]) torch.Size([100, 3, 9, 9])\n",
      "tensor(17.6428, device='cuda:0') tensor(16.9191, device='cuda:0')\n",
      "torch.Size([100, 3, 9, 9]) torch.Size([1, 3, 9, 9]) torch.Size([9, 9]) torch.Size([100, 3, 9, 9])\n",
      "tensor(17.6833, device='cuda:0') tensor(17.4983, device='cuda:0')\n",
      "torch.Size([100, 3, 9, 9]) torch.Size([1, 3, 9, 9]) torch.Size([9, 9]) torch.Size([100, 3, 9, 9])\n",
      "tensor(17.6692, device='cuda:0') tensor(17.2055, device='cuda:0')\n",
      "torch.Size([100, 3, 9, 9]) torch.Size([1, 3, 9, 9]) torch.Size([9, 9]) torch.Size([100, 3, 9, 9])\n",
      "tensor(17.9769, device='cuda:0') tensor(16.9013, device='cuda:0')\n",
      "torch.Size([100, 3, 9, 9]) torch.Size([1, 3, 9, 9]) torch.Size([9, 9]) torch.Size([100, 3, 9, 9])\n",
      "tensor(17.3933, device='cuda:0') tensor(17.4882, device='cuda:0')\n",
      "torch.Size([100, 3, 9, 9]) torch.Size([1, 3, 9, 9]) torch.Size([9, 9]) torch.Size([100, 3, 9, 9])\n",
      "tensor(17.7118, device='cuda:0') tensor(16.9850, device='cuda:0')\n",
      "torch.Size([100, 3, 9, 9]) torch.Size([1, 3, 9, 9]) torch.Size([9, 9]) torch.Size([100, 3, 9, 9])\n",
      "tensor(18.2945, device='cuda:0') tensor(17.1570, device='cuda:0')\n",
      "torch.Size([100, 3, 9, 9]) torch.Size([1, 3, 9, 9]) torch.Size([9, 9]) torch.Size([100, 3, 9, 9])\n",
      "tensor(17.0209, device='cuda:0') tensor(17.9259, device='cuda:0')\n",
      "torch.Size([100, 3, 9, 9]) torch.Size([1, 3, 9, 9]) torch.Size([9, 9]) torch.Size([100, 3, 9, 9])\n",
      "tensor(17.8690, device='cuda:0') tensor(16.5147, device='cuda:0')\n",
      "torch.Size([100, 3, 9, 9]) torch.Size([1, 3, 9, 9]) torch.Size([9, 9]) torch.Size([100, 3, 9, 9])\n",
      "tensor(17.3716, device='cuda:0') tensor(17.1096, device='cuda:0')\n",
      "torch.Size([100, 3, 9, 9]) torch.Size([1, 3, 9, 9]) torch.Size([9, 9]) torch.Size([100, 3, 9, 9])\n",
      "tensor(17.7309, device='cuda:0') tensor(16.8152, device='cuda:0')\n",
      "torch.Size([100, 3, 9, 9]) torch.Size([1, 3, 9, 9]) torch.Size([9, 9]) torch.Size([100, 3, 9, 9])\n",
      "tensor(17.3826, device='cuda:0') tensor(16.9750, device='cuda:0')\n",
      "torch.Size([100, 3, 9, 9]) torch.Size([1, 3, 9, 9]) torch.Size([9, 9]) torch.Size([100, 3, 9, 9])\n",
      "tensor(17.6182, device='cuda:0') tensor(16.4528, device='cuda:0')\n",
      "torch.Size([100, 3, 9, 9]) torch.Size([1, 3, 9, 9]) torch.Size([9, 9]) torch.Size([100, 3, 9, 9])\n",
      "tensor(17.3998, device='cuda:0') tensor(16.6401, device='cuda:0')\n",
      "torch.Size([100, 3, 9, 9]) torch.Size([1, 3, 9, 9]) torch.Size([9, 9]) torch.Size([100, 3, 9, 9])\n",
      "tensor(17.7544, device='cuda:0') tensor(16.2956, device='cuda:0')\n",
      "torch.Size([100, 3, 9, 9]) torch.Size([1, 3, 9, 9]) torch.Size([9, 9]) torch.Size([100, 3, 9, 9])\n",
      "tensor(17.6605, device='cuda:0') tensor(16.3317, device='cuda:0')\n",
      "torch.Size([100, 3, 9, 9]) torch.Size([1, 3, 9, 9]) torch.Size([9, 9]) torch.Size([100, 3, 9, 9])\n",
      "tensor(17.7533, device='cuda:0') tensor(15.8379, device='cuda:0')\n",
      "torch.Size([100, 3, 9, 9]) torch.Size([1, 3, 9, 9]) torch.Size([9, 9]) torch.Size([100, 3, 9, 9])\n",
      "tensor(17.7038, device='cuda:0') tensor(14.6868, device='cuda:0')\n"
     ]
    }
   ],
   "source": [
    "samples_inpaint = ddim_sample_inpainting_loop(diffusion_eval, model, (100, 3, 9, 9), target_img, mask_tsr, noise=None, clip_denoised=True, \n",
    "                            denoised_fn=None, cond_fn=None, model_kwargs=model_kwargs, device=\"cuda\", progress=True, eta=0.0)\n",
    "samples_inpaint = ((samples_inpaint.detach() * dataset_Xstd) + dataset_Xmean).cpu()"
   ]
  },
  {
   "cell_type": "code",
   "execution_count": 141,
   "metadata": {},
   "outputs": [
    {
     "data": {
      "text/plain": [
       "61"
      ]
     },
     "execution_count": 141,
     "metadata": {},
     "output_type": "execute_result"
    }
   ],
   "source": [
    "r3_list_ipt, r2_list_ipt, rule_col_ipt = infer_rule_from_sample_batch(samples_inpaint)\n",
    "sum([orig_rule_id in cst_rule_set for cst_rule_set in r3_list_ipt])"
   ]
  },
  {
   "cell_type": "code",
   "execution_count": 142,
   "metadata": {},
   "outputs": [
    {
     "data": {
      "text/plain": [
       "[[array([0]), array([0]), array([0])],\n",
       " [array([0]), array([0]), array([ 6, 29])],\n",
       " [array([0]), array([0]), array([], dtype=float64)],\n",
       " [array([0]), array([0]), array([], dtype=float64)],\n",
       " [array([0]), array([0]), array([ 0, 29])],\n",
       " [array([0]), array([0]), array([6])],\n",
       " [array([0]), array([0]), array([], dtype=float64)],\n",
       " [array([0]), array([0]), array([0])],\n",
       " [array([0]), array([0]), array([0])],\n",
       " [array([0]), array([0]), array([6])],\n",
       " [array([0]), array([0]), array([0])],\n",
       " [array([0]), array([0]), array([0])],\n",
       " [array([0]), array([0]), array([0])],\n",
       " [array([0]), array([0]), array([0])],\n",
       " [array([0]), array([0]), array([0])],\n",
       " [array([0]), array([0]), array([0])],\n",
       " [array([0]), array([0]), array([ 6, 29])],\n",
       " [array([0]), array([0]), array([], dtype=float64)],\n",
       " [array([0]), array([0]), array([ 0, 19])],\n",
       " [array([0]), array([0]), array([0])],\n",
       " [array([0]), array([0]), array([0])],\n",
       " [array([0]), array([0]), array([], dtype=float64)],\n",
       " [array([0]), array([0]), array([29])],\n",
       " [array([0]), array([0]), array([0])],\n",
       " [array([0]), array([0]), array([], dtype=float64)],\n",
       " [array([0]), array([0]), array([ 0, 38])],\n",
       " [array([0]), array([0]), array([0])],\n",
       " [array([0]), array([0]), array([0])],\n",
       " [array([0]), array([0]), array([0])],\n",
       " [array([0]), array([0]), array([6])],\n",
       " [array([0]), array([0]), array([0])],\n",
       " [array([0]), array([0]), array([0])],\n",
       " [array([0]), array([0]), array([], dtype=float64)],\n",
       " [array([0]), array([0]), array([0])],\n",
       " [array([0]), array([0]), array([], dtype=float64)],\n",
       " [array([0]), array([0]), array([0])],\n",
       " [array([0]), array([0]), array([0])],\n",
       " [array([0]), array([0]), array([], dtype=float64)],\n",
       " [array([0]), array([0]), array([], dtype=float64)],\n",
       " [array([0]), array([0]), array([29])],\n",
       " [array([0]), array([0]), array([], dtype=float64)],\n",
       " [array([0]), array([0]), array([0])],\n",
       " [array([0]), array([0]), array([0])],\n",
       " [array([0]), array([0]), array([0])],\n",
       " [array([0]), array([0]), array([0])],\n",
       " [array([0]), array([0]), array([0])],\n",
       " [array([0]), array([0]), array([], dtype=float64)],\n",
       " [array([0]), array([0]), array([0])],\n",
       " [array([0]), array([0]), array([0])],\n",
       " [array([0]), array([0]), array([], dtype=float64)],\n",
       " [array([0]), array([0]), array([0])],\n",
       " [array([0]), array([0]), array([19, 38])],\n",
       " [array([0]), array([0]), array([], dtype=float64)],\n",
       " [array([0]), array([0]), array([6])],\n",
       " [array([0]), array([0]), array([0])],\n",
       " [array([0]), array([0]), array([0])],\n",
       " [array([0]), array([0]), array([0])],\n",
       " [array([0]), array([0]), array([0])],\n",
       " [array([0]), array([0]), array([0])],\n",
       " [array([0]), array([0]), array([0])],\n",
       " [array([0]), array([0]), array([], dtype=float64)],\n",
       " [array([0]), array([0]), array([0])],\n",
       " [array([0]), array([0]), array([], dtype=float64)],\n",
       " [array([0]), array([0]), array([], dtype=float64)],\n",
       " [array([0]), array([0]), array([29])],\n",
       " [array([0]), array([0]), array([0])],\n",
       " [array([0]), array([0]), array([0])],\n",
       " [array([0]), array([0]), array([], dtype=float64)],\n",
       " [array([0]), array([0]), array([], dtype=float64)],\n",
       " [array([0]), array([0]), array([0])],\n",
       " [array([0]), array([0]), array([ 0, 29])],\n",
       " [array([0]), array([0]), array([0])],\n",
       " [array([0]), array([0]), array([0])],\n",
       " [array([0]), array([0]), array([0])],\n",
       " [array([0]), array([0]), array([], dtype=float64)],\n",
       " [array([0]), array([0]), array([0])],\n",
       " [array([0]), array([0]), array([0])],\n",
       " [array([0]), array([0]), array([0])],\n",
       " [array([0]), array([0]), array([ 0, 29])],\n",
       " [array([0]), array([0]), array([ 0, 36])],\n",
       " [array([0]), array([0]), array([0])],\n",
       " [array([0]), array([0]), array([0])],\n",
       " [array([0]), array([0]), array([0])],\n",
       " [array([0]), array([0]), array([0])],\n",
       " [array([0]), array([0]), array([6])],\n",
       " [array([0]), array([0]), array([], dtype=float64)],\n",
       " [array([0]), array([0]), array([], dtype=float64)],\n",
       " [array([0]), array([0]), array([ 0, 29])],\n",
       " [array([0]), array([0]), array([0])],\n",
       " [array([0]), array([0]), array([6])],\n",
       " [array([0]), array([0]), array([0])],\n",
       " [array([0]), array([0]), array([], dtype=float64)],\n",
       " [array([0]), array([0]), array([0])],\n",
       " [array([0]), array([0]), array([], dtype=float64)],\n",
       " [array([0]), array([0]), array([], dtype=float64)],\n",
       " [array([0]), array([0]), array([0])],\n",
       " [array([0]), array([0]), array([6])],\n",
       " [array([0]), array([0]), array([0])],\n",
       " [array([0]), array([0]), array([6])],\n",
       " [array([0]), array([0]), array([0])]]"
      ]
     },
     "execution_count": 142,
     "metadata": {},
     "output_type": "execute_result"
    }
   ],
   "source": [
    "rule_col_ipt"
   ]
  },
  {
   "cell_type": "code",
   "execution_count": 91,
   "metadata": {},
   "outputs": [
    {
     "data": {
      "text/plain": [
       "[99,\n",
       " 98,\n",
       " 97,\n",
       " 96,\n",
       " 95,\n",
       " 94,\n",
       " 93,\n",
       " 92,\n",
       " 91,\n",
       " 90,\n",
       " 89,\n",
       " 88,\n",
       " 87,\n",
       " 86,\n",
       " 85,\n",
       " 84,\n",
       " 83,\n",
       " 82,\n",
       " 81,\n",
       " 80,\n",
       " 79,\n",
       " 78,\n",
       " 77,\n",
       " 76,\n",
       " 75,\n",
       " 74,\n",
       " 73,\n",
       " 72,\n",
       " 71,\n",
       " 70,\n",
       " 69,\n",
       " 68,\n",
       " 67,\n",
       " 66,\n",
       " 65,\n",
       " 64,\n",
       " 63,\n",
       " 62,\n",
       " 61,\n",
       " 60,\n",
       " 59,\n",
       " 58,\n",
       " 57,\n",
       " 56,\n",
       " 55,\n",
       " 54,\n",
       " 53,\n",
       " 52,\n",
       " 51,\n",
       " 50,\n",
       " 49,\n",
       " 48,\n",
       " 47,\n",
       " 46,\n",
       " 45,\n",
       " 44,\n",
       " 43,\n",
       " 42,\n",
       " 41,\n",
       " 40,\n",
       " 39,\n",
       " 38,\n",
       " 37,\n",
       " 36,\n",
       " 35,\n",
       " 34,\n",
       " 33,\n",
       " 32,\n",
       " 31,\n",
       " 30,\n",
       " 29,\n",
       " 28,\n",
       " 27,\n",
       " 26,\n",
       " 25,\n",
       " 24,\n",
       " 23,\n",
       " 22,\n",
       " 21,\n",
       " 20,\n",
       " 19,\n",
       " 18,\n",
       " 17,\n",
       " 16,\n",
       " 15,\n",
       " 14,\n",
       " 13,\n",
       " 12,\n",
       " 11,\n",
       " 10,\n",
       " 9,\n",
       " 8,\n",
       " 7,\n",
       " 6,\n",
       " 5,\n",
       " 4,\n",
       " 3,\n",
       " 2,\n",
       " 1,\n",
       " 0]"
      ]
     },
     "execution_count": 91,
     "metadata": {},
     "output_type": "execute_result"
    }
   ],
   "source": [
    "list(range(diffusion_eval.num_timesteps))[::-1]"
   ]
  },
  {
   "cell_type": "code",
   "execution_count": 83,
   "metadata": {},
   "outputs": [
    {
     "data": {
      "text/plain": [
       "array([1.00000000e+00, 9.99900000e-01, 9.97806573e-01, 9.93735429e-01,\n",
       "       9.87710420e-01, 9.79766924e-01, 9.69951494e-01, 9.58321406e-01,\n",
       "       9.44944106e-01, 9.29896552e-01, 9.13264481e-01, 8.95141591e-01,\n",
       "       8.75628668e-01, 8.54832649e-01, 8.32865650e-01, 8.09843960e-01,\n",
       "       7.85887024e-01, 7.61116416e-01, 7.35654824e-01, 7.09625052e-01,\n",
       "       6.83149053e-01, 6.56347006e-01, 6.29336439e-01, 6.02231417e-01,\n",
       "       5.75141786e-01, 5.48172503e-01, 5.21423031e-01, 4.94986820e-01,\n",
       "       4.68950873e-01, 4.43395394e-01, 4.18393517e-01, 3.94011123e-01,\n",
       "       3.70306733e-01, 3.47331484e-01, 3.25129172e-01, 3.03736366e-01,\n",
       "       2.83182584e-01, 2.63490527e-01, 2.44676363e-01, 2.26750052e-01,\n",
       "       2.09715711e-01, 1.93572010e-01, 1.78312584e-01, 1.63926474e-01,\n",
       "       1.50398565e-01, 1.37710041e-01, 1.25838828e-01, 1.14760039e-01,\n",
       "       1.04446407e-01, 9.48686970e-02, 8.59961101e-02, 7.77966584e-02,\n",
       "       7.02375198e-02, 6.32853673e-02, 5.69066708e-02, 5.10679723e-02,\n",
       "       4.57361321e-02, 4.08785480e-02, 3.64633463e-02, 3.24595458e-02,\n",
       "       2.88371963e-02, 2.55674923e-02, 2.26228626e-02, 1.99770398e-02,\n",
       "       1.76051076e-02, 1.54835317e-02, 1.35901733e-02, 1.19042873e-02,\n",
       "       1.04065093e-02, 9.07882904e-03, 7.90455658e-03, 6.86827889e-03,\n",
       "       5.95581073e-03, 5.15414028e-03, 4.45137092e-03, 3.83666039e-03,\n",
       "       3.30015836e-03, 2.83294324e-03, 2.42695910e-03, 2.07495344e-03,\n",
       "       1.77041627e-03, 1.50752106e-03, 1.28106794e-03, 1.08642948e-03,\n",
       "       9.19499182e-04, 7.76642938e-04, 6.54653534e-04, 5.50708178e-04,\n",
       "       4.62329118e-04, 3.87347272e-04, 3.23868799e-04, 2.70244520e-04,\n",
       "       2.25042051e-04, 1.87020528e-04, 1.55107758e-04, 1.28379660e-04,\n",
       "       1.06041828e-04, 8.74130539e-05, 7.19106648e-05, 5.90375137e-05])"
      ]
     },
     "execution_count": 83,
     "metadata": {},
     "output_type": "execute_result"
    }
   ],
   "source": [
    "diffusion_eval.alphas_cumprod_prev"
   ]
  },
  {
   "cell_type": "code",
   "execution_count": 92,
   "metadata": {},
   "outputs": [
    {
     "data": {
      "text/plain": [
       "array([1.00000000e+00, 9.99900000e-01, 9.97806573e-01, 9.93735429e-01,\n",
       "       9.87710420e-01, 9.79766924e-01, 9.69951494e-01, 9.58321406e-01,\n",
       "       9.44944106e-01, 9.29896552e-01, 9.13264481e-01, 8.95141591e-01,\n",
       "       8.75628668e-01, 8.54832649e-01, 8.32865650e-01, 8.09843960e-01,\n",
       "       7.85887024e-01, 7.61116416e-01, 7.35654824e-01, 7.09625052e-01,\n",
       "       6.83149053e-01, 6.56347006e-01, 6.29336439e-01, 6.02231417e-01,\n",
       "       5.75141786e-01, 5.48172503e-01, 5.21423031e-01, 4.94986820e-01,\n",
       "       4.68950873e-01, 4.43395394e-01, 4.18393517e-01, 3.94011123e-01,\n",
       "       3.70306733e-01, 3.47331484e-01, 3.25129172e-01, 3.03736366e-01,\n",
       "       2.83182584e-01, 2.63490527e-01, 2.44676363e-01, 2.26750052e-01,\n",
       "       2.09715711e-01, 1.93572010e-01, 1.78312584e-01, 1.63926474e-01,\n",
       "       1.50398565e-01, 1.37710041e-01, 1.25838828e-01, 1.14760039e-01,\n",
       "       1.04446407e-01, 9.48686970e-02, 8.59961101e-02, 7.77966584e-02,\n",
       "       7.02375198e-02, 6.32853673e-02, 5.69066708e-02, 5.10679723e-02,\n",
       "       4.57361321e-02, 4.08785480e-02, 3.64633463e-02, 3.24595458e-02,\n",
       "       2.88371963e-02, 2.55674923e-02, 2.26228626e-02, 1.99770398e-02,\n",
       "       1.76051076e-02, 1.54835317e-02, 1.35901733e-02, 1.19042873e-02,\n",
       "       1.04065093e-02, 9.07882904e-03, 7.90455658e-03, 6.86827889e-03,\n",
       "       5.95581073e-03, 5.15414028e-03, 4.45137092e-03, 3.83666039e-03,\n",
       "       3.30015836e-03, 2.83294324e-03, 2.42695910e-03, 2.07495344e-03,\n",
       "       1.77041627e-03, 1.50752106e-03, 1.28106794e-03, 1.08642948e-03,\n",
       "       9.19499182e-04, 7.76642938e-04, 6.54653534e-04, 5.50708178e-04,\n",
       "       4.62329118e-04, 3.87347272e-04, 3.23868799e-04, 2.70244520e-04,\n",
       "       2.25042051e-04, 1.87020528e-04, 1.55107758e-04, 1.28379660e-04,\n",
       "       1.06041828e-04, 8.74130539e-05, 7.19106648e-05, 5.90375137e-05])"
      ]
     },
     "execution_count": 92,
     "metadata": {},
     "output_type": "execute_result"
    }
   ],
   "source": [
    "diffusion_eval.alphas_cumprod_prev"
   ]
  },
  {
   "cell_type": "code",
   "execution_count": 88,
   "metadata": {},
   "outputs": [
    {
     "ename": "IndexError",
     "evalue": "index 990 is out of bounds for axis 0 with size 100",
     "output_type": "error",
     "traceback": [
      "\u001b[0;31m---------------------------------------------------------------------------\u001b[0m",
      "\u001b[0;31mIndexError\u001b[0m                                Traceback (most recent call last)",
      "Cell \u001b[0;32mIn[88], line 1\u001b[0m\n\u001b[0;32m----> 1\u001b[0m \u001b[43mdiffusion_eval\u001b[49m\u001b[38;5;241;43m.\u001b[39;49m\u001b[43malphas_cumprod_prev\u001b[49m\u001b[43m[\u001b[49m\u001b[43mdiffusion_eval\u001b[49m\u001b[38;5;241;43m.\u001b[39;49m\u001b[43mtimestep_map\u001b[49m\u001b[43m[\u001b[49m\u001b[38;5;241;43m-\u001b[39;49m\u001b[38;5;241;43m1\u001b[39;49m\u001b[43m]\u001b[49m\u001b[43m]\u001b[49m\n",
      "\u001b[0;31mIndexError\u001b[0m: index 990 is out of bounds for axis 0 with size 100"
     ]
    }
   ],
   "source": [
    "diffusion_eval.alphas_cumprod_prev[diffusion_eval.timestep_map[-1]]"
   ]
  },
  {
   "cell_type": "code",
   "execution_count": 116,
   "metadata": {},
   "outputs": [
    {
     "data": {
      "text/plain": [
       "tensor([[[-1,  4,  4, -1, -1,  4,  4, -1,  4],\n",
       "         [ 4,  4, -1, -1, -1,  4,  4,  4, -1],\n",
       "         [ 4, -1, -1, -1, -1, -1, -1, -1,  4],\n",
       "         [ 5,  5,  5, -1, -1,  5, -1, -1, -1],\n",
       "         [ 5,  5,  5,  5,  5, -1,  5, -1, -1],\n",
       "         [ 5,  5,  5,  5, -1, -1, -1, -1, -1],\n",
       "         [-1, -1, -1, -1, -1, -1,  3, -1,  3],\n",
       "         [-1, -1, -1, -1,  3, -1, -1,  3,  3],\n",
       "         [-1, -1,  3,  3,  3,  3,  3,  3, -1]],\n",
       "\n",
       "        [[-1,  5,  5, -1, -1,  1,  2, -1,  2],\n",
       "         [ 5,  5, -1, -1, -1,  1,  2,  2, -1],\n",
       "         [ 5, -1, -1, -1, -1, -1, -1, -1,  2],\n",
       "         [ 6,  6,  6, -1, -1,  7, -1, -1, -1],\n",
       "         [ 6,  6,  6,  7,  7, -1,  2, -1, -1],\n",
       "         [ 6,  6,  6,  7, -1, -1, -1, -1, -1],\n",
       "         [-1, -1, -1, -1, -1, -1,  1, -1,  1],\n",
       "         [-1, -1, -1, -1,  6, -1, -1,  1,  1],\n",
       "         [-1, -1,  8,  6,  6,  6,  1,  1, -1]],\n",
       "\n",
       "        [[-1,  1,  1, -1, -1,  4,  3, -1,  3],\n",
       "         [ 1,  1, -1, -1, -1,  4,  3,  3, -1],\n",
       "         [ 1, -1, -1, -1, -1, -1, -1, -1,  3],\n",
       "         [ 7,  7,  7, -1, -1,  8, -1, -1, -1],\n",
       "         [ 7,  7,  7,  8,  8, -1,  1, -1, -1],\n",
       "         [ 7,  7,  7,  8, -1, -1, -1, -1, -1],\n",
       "         [-1, -1, -1, -1, -1, -1,  0, -1,  0],\n",
       "         [-1, -1, -1, -1,  3, -1, -1,  0,  0],\n",
       "         [-1, -1,  1,  3,  3,  3,  0,  0, -1]]], dtype=torch.int32)"
      ]
     },
     "execution_count": 116,
     "metadata": {},
     "output_type": "execute_result"
    }
   ],
   "source": [
    "samples_inpaint[0].round().int()"
   ]
  },
  {
   "cell_type": "code",
   "execution_count": 117,
   "metadata": {},
   "outputs": [
    {
     "data": {
      "text/plain": [
       "[[array([0]), array([0]), array([0])],\n",
       " [array([0]), array([0]), array([], dtype=float64)],\n",
       " [array([0]), array([0]), array([], dtype=float64)],\n",
       " [array([0]), array([0]), array([0])],\n",
       " [array([0]), array([0]), array([6])],\n",
       " [array([0]), array([0]), array([0])],\n",
       " [array([0]), array([0]), array([], dtype=float64)],\n",
       " [array([0]), array([0]), array([11, 24])],\n",
       " [array([0]), array([0]), array([], dtype=float64)],\n",
       " [array([0]), array([0]), array([0])],\n",
       " [array([0]), array([0]), array([25, 35])],\n",
       " [array([0]), array([0]), array([11])],\n",
       " [array([0]), array([0]), array([], dtype=float64)],\n",
       " [array([0]), array([0]), array([], dtype=float64)],\n",
       " [array([0]), array([0]), array([], dtype=float64)],\n",
       " [array([0]), array([0]), array([0])],\n",
       " [array([0]), array([0]), array([0])],\n",
       " [array([0]), array([0]), array([0])],\n",
       " [array([0]), array([0]), array([0])],\n",
       " [array([0]), array([0]), array([ 0, 11])],\n",
       " [array([0]), array([0]), array([ 0, 11])],\n",
       " [array([0]), array([0]), array([ 0, 35])],\n",
       " [array([0]), array([0]), array([], dtype=float64)],\n",
       " [array([0]), array([0]), array([24, 35])],\n",
       " [array([0]), array([0]), array([0])],\n",
       " [array([0]), array([0]), array([], dtype=float64)],\n",
       " [array([0]), array([0]), array([0])],\n",
       " [array([0]), array([0]), array([24])],\n",
       " [array([0]), array([0]), array([0])],\n",
       " [array([0]), array([0]), array([], dtype=float64)],\n",
       " [array([0]), array([0]), array([ 0, 11])],\n",
       " [array([0]), array([0]), array([35])],\n",
       " [array([0]), array([0]), array([11, 25])],\n",
       " [array([0]), array([0]), array([], dtype=float64)],\n",
       " [array([0]), array([0]), array([], dtype=float64)],\n",
       " [array([0]), array([0]), array([24])],\n",
       " [array([0]), array([0]), array([11])],\n",
       " [array([0]), array([0]), array([], dtype=float64)],\n",
       " [array([0]), array([0]), array([0])],\n",
       " [array([0]), array([0]), array([25])],\n",
       " [array([0]), array([0]), array([], dtype=float64)],\n",
       " [array([0]), array([0]), array([], dtype=float64)],\n",
       " [array([0]), array([0]), array([], dtype=float64)],\n",
       " [array([0]), array([0]), array([], dtype=float64)],\n",
       " [array([0]), array([0]), array([], dtype=float64)],\n",
       " [array([0]), array([0]), array([0])],\n",
       " [array([0]), array([0]), array([0])],\n",
       " [array([0]), array([0]), array([], dtype=float64)],\n",
       " [array([0]), array([0]), array([], dtype=float64)],\n",
       " [array([0]), array([0]), array([0])],\n",
       " [array([0]), array([0]), array([ 0, 24])],\n",
       " [array([0]), array([0]), array([ 0, 16])],\n",
       " [array([0]), array([0]), array([], dtype=float64)],\n",
       " [array([0]), array([0]), array([0])],\n",
       " [array([0]), array([0]), array([0])],\n",
       " [array([0]), array([0]), array([], dtype=float64)],\n",
       " [array([0]), array([0]), array([0])],\n",
       " [array([0]), array([0]), array([], dtype=float64)],\n",
       " [array([0]), array([0]), array([0])],\n",
       " [array([0]), array([0]), array([], dtype=float64)],\n",
       " [array([0]), array([0]), array([], dtype=float64)],\n",
       " [array([0]), array([0]), array([35])],\n",
       " [array([0]), array([0]), array([0])],\n",
       " [array([0]), array([0]), array([11])],\n",
       " [array([0]), array([0]), array([ 0, 16, 35])],\n",
       " [array([0]), array([0]), array([], dtype=float64)],\n",
       " [array([0]), array([0]), array([ 0, 16])],\n",
       " [array([0]), array([0]), array([ 0, 11, 35])],\n",
       " [array([0]), array([0]), array([0])],\n",
       " [array([0]), array([0]), array([], dtype=float64)],\n",
       " [array([0]), array([0]), array([16])],\n",
       " [array([0]), array([0]), array([0])],\n",
       " [array([0]), array([0]), array([], dtype=float64)],\n",
       " [array([0]), array([0]), array([0])],\n",
       " [array([0]), array([0]), array([35])],\n",
       " [array([0]), array([0]), array([], dtype=float64)],\n",
       " [array([0]), array([0]), array([24])],\n",
       " [array([0]), array([0]), array([0])],\n",
       " [array([0]), array([0]), array([], dtype=float64)],\n",
       " [array([0]), array([0]), array([0])],\n",
       " [array([0]), array([0]), array([], dtype=float64)],\n",
       " [array([0]), array([0]), array([], dtype=float64)],\n",
       " [array([0]), array([0]), array([ 0, 25])],\n",
       " [array([0]), array([0]), array([24])],\n",
       " [array([0]), array([0]), array([], dtype=float64)],\n",
       " [array([0]), array([0]), array([], dtype=float64)],\n",
       " [array([0]), array([0]), array([ 0, 11, 24])],\n",
       " [array([0]), array([0]), array([], dtype=float64)],\n",
       " [array([0]), array([0]), array([0])],\n",
       " [array([0]), array([0]), array([0])],\n",
       " [array([0]), array([0]), array([25])],\n",
       " [array([0]), array([0]), array([], dtype=float64)],\n",
       " [array([0]), array([0]), array([], dtype=float64)],\n",
       " [array([0]), array([0]), array([ 0, 11])],\n",
       " [array([0]), array([0]), array([6])],\n",
       " [array([0]), array([0]), array([], dtype=float64)],\n",
       " [array([0]), array([0]), array([], dtype=float64)],\n",
       " [array([0]), array([0]), array([0])],\n",
       " [array([0]), array([0]), array([0])],\n",
       " [array([0]), array([0]), array([ 0, 25])]]"
      ]
     },
     "execution_count": 117,
     "metadata": {},
     "output_type": "execute_result"
    }
   ],
   "source": [
    "rule_col_ipt"
   ]
  },
  {
   "cell_type": "code",
   "execution_count": 78,
   "metadata": {},
   "outputs": [],
   "source": [
    "total_steps = 40\n",
    "\n",
    "\n",
    "iclass = 2\n",
    "idxs = [3,4,5]\n",
    "attr_tsr = train_data2attr_tsr(train_attrs[iclass, idxs])\n",
    "attr_mtg = einops.rearrange(attr_tsr, \"row attr h PW -> attr (row h) PW\")\n",
    "orig_rules = get_rule_img(attr_mtg)\n",
    "assert len(np.unique(orig_rules)) == 1\n",
    "assert np.all(orig_rules != -1)\n",
    "orig_rule_id = np.unique(orig_rules)[0] # note this id can be different from iclass\n",
    "x_pos, y_pos = 2, 2\n",
    "target_img = (attr_mtg.float().to(device) - dataset_Xmean) / dataset_Xstd\n",
    "mask_tsr = torch.zeros(target_img.shape[-2:], device=device)\n",
    "mask_tsr[3*x_pos:3*(x_pos+1), 3*y_pos:3*(y_pos+1)] = 1"
   ]
  },
  {
   "cell_type": "code",
   "execution_count": 36,
   "metadata": {},
   "outputs": [],
   "source": [
    "device = \"cuda\"\n"
   ]
  },
  {
   "cell_type": "code",
   "execution_count": null,
   "metadata": {},
   "outputs": [],
   "source": [
    "\n"
   ]
  },
  {
   "cell_type": "code",
   "execution_count": null,
   "metadata": {},
   "outputs": [],
   "source": [
    "from diffusion import create_diffusion\n",
    "diffusion_eval = create_diffusion(timestep_respacing=\"ddim100\")  # default: ddim100"
   ]
  },
  {
   "cell_type": "code",
   "execution_count": null,
   "metadata": {},
   "outputs": [],
   "source": [
    "idxs = [3,4,5]\n",
    "attr_tsr = train_data2attr_tsr(train_attrs[iclass, idxs])\n",
    "attr_mtg = einops.rearrange(attr_tsr, \"b c h w -> c (b h) w\")\n",
    "orig_rules = get_rule_img(attr_mtg)\n",
    "assert len(np.unique(orig_rules)) == 1\n",
    "assert np.all(orig_rules != -1)\n",
    "orig_rule_id = np.unique(orig_rules)[0] # note this id can be different from iclass\n",
    "x_pos, y_pos = 1, 1\n",
    "total_steps = 40\n",
    "target_img = (attr_mtg.float().to(device) - Xmean) / Xstd\n",
    "mask_tsr = torch.zeros(target_img.shape[-2:], device=device)\n",
    "mask_tsr[3*x_pos:3*(x_pos+1), 3*y_pos:3*(y_pos+1)] = 1\n",
    "latents = torch.randn(200, 3, 9, 9).to(device)\n",
    "samples = edm_sampler_inpaint(edm, latents, target_img=target_img, mask=mask_tsr,\n",
    "                                num_steps=total_steps, use_ema=False,\n",
    "                                fixed_noise=True).detach()\n",
    "# samples = edm_sampler(edm, latents, num_steps=num_steps)\n",
    "samples = samples * Xstd + Xmean\n",
    "samples_int = torch.round(samples).long().cpu()\n",
    "\n",
    "rules_mat = []\n",
    "for attr_mtg_inpaint in samples_int:\n",
    "    rules = get_rule_img(attr_mtg_inpaint)\n",
    "    rules_mat.append(rules)\n",
    "rules_mat = np.asarray(rules_mat)\n",
    "print(f\"steps{num_steps} pos recovery rate {x_pos}, {y_pos} \", (rules_mat[:, x_pos]==orig_rule_id).mean(),\n",
    "    \"valid rate \", (rules_mat[:, x_pos]!=-1).mean())"
   ]
  }
 ],
 "metadata": {
  "kernelspec": {
   "display_name": "Python (torch)",
   "language": "python",
   "name": "torch"
  }
 },
 "nbformat": 4,
 "nbformat_minor": 2
}
