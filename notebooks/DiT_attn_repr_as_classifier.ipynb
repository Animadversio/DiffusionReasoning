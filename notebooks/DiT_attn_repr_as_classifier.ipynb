{
 "cells": [
  {
   "cell_type": "code",
   "execution_count": 1,
   "metadata": {},
   "outputs": [],
   "source": [
    "%load_ext autoreload\n",
    "%autoreload 2\n",
    "\n",
    "import sys\n",
    "sys.path.append(\"/n/home12/binxuwang/Github/mini_edm\")\n",
    "sys.path.append(\"/n/home12/binxuwang/Github/DiffusionReasoning\")\n",
    "sys.path.append(\"/n/home12/binxuwang/Github/DiT\")"
   ]
  },
  {
   "cell_type": "code",
   "execution_count": 2,
   "metadata": {},
   "outputs": [],
   "source": [
    "import time\n",
    "import os\n",
    "from os.path import join\n",
    "import pickle as pkl\n",
    "import torch\n",
    "import torch as th\n",
    "from tqdm import tqdm\n",
    "import numpy as np\n",
    "import seaborn as sns\n",
    "import einops\n",
    "import matplotlib.pyplot as plt\n",
    "from collections import defaultdict\n",
    "from easydict import EasyDict as edict\n",
    "import matplotlib.pyplot as plt \n",
    "%matplotlib inline\n",
    "plt.rcParams['figure.dpi'] = 72\n",
    "plt.rcParams['figure.figsize'] = [6.0, 4.0]\n",
    "plt.rcParams['figure.edgecolor'] = (1, 1, 1, 0)\n",
    "plt.rcParams['figure.facecolor'] = (1, 1, 1, 0)\n",
    "# vector graphics type\n",
    "plt.rcParams['pdf.fonttype'] = 42\n",
    "plt.rcParams['ps.fonttype'] = 42"
   ]
  },
  {
   "cell_type": "code",
   "execution_count": 21,
   "metadata": {},
   "outputs": [],
   "source": [
    "from train_edm import create_model, edm_sampler, EDM\n",
    "# from edm_utils import edm_sampler_inpaint, create_edm, get_default_config\n",
    "# from rule_utils import get_rule_img, get_obj_list, get_rule_list\n",
    "# from rule_utils import check_consistent\n",
    "from dataset_utils import train_data2attr_tsr,load_raw_data,load_PGM_abstract\n",
    "from rule_new_utils import check_r3_r2_batch, infer_rule_from_sample_batch, compute_rule_statistics"
   ]
  },
  {
   "cell_type": "code",
   "execution_count": 4,
   "metadata": {},
   "outputs": [
    {
     "name": "stdout",
     "output_type": "stream",
     "text": [
      "Warning: skimage.transform is not available. Will use scipy.misc.imresize instead.\n",
      "Warning: skimage.transform is not available. Will use scipy.misc.imresize instead.\n",
      "/n/home12/binxuwang/Github/circuit_toolkit/circuit_toolkit/__init__.py\n"
     ]
    },
    {
     "name": "stderr",
     "output_type": "stream",
     "text": [
      "/n/home12/binxuwang/Github/circuit_toolkit/circuit_toolkit/GAN_invert_utils.py:2: TqdmExperimentalWarning: Using `tqdm.autonotebook.tqdm` in notebook mode. Use `tqdm.tqdm` instead to force console mode (e.g. in jupyter console)\n",
      "  from tqdm.autonotebook import trange, tqdm\n"
     ]
    }
   ],
   "source": [
    "import circuit_toolkit\n",
    "print(circuit_toolkit.__file__)\n",
    "from circuit_toolkit.layer_hook_utils import print_specific_layer, get_module_name_shapes, featureFetcher_module"
   ]
  },
  {
   "cell_type": "markdown",
   "metadata": {},
   "source": [
    "### Load in DiT model"
   ]
  },
  {
   "cell_type": "code",
   "execution_count": 5,
   "metadata": {},
   "outputs": [],
   "source": [
    "DiT_configs = {\n",
    "    # \"DiT_XL_2\": {\"depth\": 28, \"hidden_size\": 1152, \"patch_size\": 2, \"num_heads\": 16},\n",
    "    \"DiT_XL_1\": {\"depth\": 28, \"hidden_size\": 1152, \"patch_size\": 1, \"num_heads\": 16},\n",
    "    \"DiT_XL_3\": {\"depth\": 28, \"hidden_size\": 1152, \"patch_size\": 3, \"num_heads\": 16},\n",
    "    # \"DiT_XL_4\": {\"depth\": 28, \"hidden_size\": 1152, \"patch_size\": 4, \"num_heads\": 16},\n",
    "    # \"DiT_XL_8\": {\"depth\": 28, \"hidden_size\": 1152, \"patch_size\": 8, \"num_heads\": 16},\n",
    "    # \"DiT_L_2\": {\"depth\": 24, \"hidden_size\": 1024, \"patch_size\": 2, \"num_heads\": 16},\n",
    "    \"DiT_L_1\": {\"depth\": 24, \"hidden_size\": 1024, \"patch_size\": 1, \"num_heads\": 16},\n",
    "    \"DiT_L_3\": {\"depth\": 24, \"hidden_size\": 1024, \"patch_size\": 3, \"num_heads\": 16},\n",
    "    # \"DiT_L_4\": {\"depth\": 24, \"hidden_size\": 1024, \"patch_size\": 4, \"num_heads\": 16},\n",
    "    # \"DiT_L_8\": {\"depth\": 24, \"hidden_size\": 1024, \"patch_size\": 8, \"num_heads\": 16},\n",
    "    # \"DiT_B_2\": {\"depth\": 12, \"hidden_size\": 768, \"patch_size\": 2, \"num_heads\": 12},\n",
    "    \"DiT_B_1\": {\"depth\": 12, \"hidden_size\": 768, \"patch_size\": 1, \"num_heads\": 12},\n",
    "    \"DiT_B_3\": {\"depth\": 12, \"hidden_size\": 768, \"patch_size\": 3, \"num_heads\": 12},\n",
    "    # \"DiT_B_4\": {\"depth\": 12, \"hidden_size\": 768, \"patch_size\": 4, \"num_heads\": 12},\n",
    "    # \"DiT_B_8\": {\"depth\": 12, \"hidden_size\": 768, \"patch_size\": 8, \"num_heads\": 12},\n",
    "    # \"DiT_S_2\": {\"depth\": 12, \"hidden_size\": 384, \"patch_size\": 2, \"num_heads\": 6},\n",
    "    \"DiT_S_1\": {\"depth\": 12, \"hidden_size\": 384, \"patch_size\": 1, \"num_heads\": 6},\n",
    "    \"DiT_S_3\": {\"depth\": 12, \"hidden_size\": 384, \"patch_size\": 3, \"num_heads\": 6},\n",
    "    # \"DiT_S_4\": {\"depth\": 12, \"hidden_size\": 384, \"patch_size\": 4, \"num_heads\": 6},\n",
    "    # \"DiT_S_8\": {\"depth\": 12, \"hidden_size\": 384, \"patch_size\": 8, \"num_heads\": 6},\n",
    "}"
   ]
  },
  {
   "cell_type": "code",
   "execution_count": 6,
   "metadata": {},
   "outputs": [],
   "source": [
    "heldout_id_dict = {\n",
    "    'train_inputs_new.pt'       : [1, 16, 20, 34, 37], \n",
    "    'train_inputs_new_split0.pt': [1, 16, 20, 34, 37], \n",
    "    'train_inputs_new_split1.pt': [8, 12, 24, 36, 39],\n",
    "    'train_inputs_new_split2.pt': [5, 17, 21, 33, 38],\n",
    "    'train_inputs_new_split3.pt': [3, 10, 29, 31, 37],\n",
    "    'train_inputs_new_split4.pt': [0, 14, 27, 35, 38],\n",
    "    'train_inputs_new_split5.pt': [4, 19, 26, 30, 39],\n",
    "    'train_inputs_new_split6.pt': [9, 13, 25, 32, 37],\n",
    "    'train_inputs_new_split7.pt': [2, 18, 23, 30, 38],\n",
    "    'train_inputs_new_split8.pt': [7, 15, 22, 34, 39],\n",
    "    'train_inputs_new_split9.pt': [6, 11, 28, 33, 37],\n",
    "}\n",
    "heldout_rules = heldout_id_dict[\"train_inputs_new.pt\"]\n"
   ]
  },
  {
   "cell_type": "code",
   "execution_count": 7,
   "metadata": {},
   "outputs": [],
   "source": [
    "from diffusion import create_diffusion\n",
    "from models import DiT\n",
    "\n",
    "device = \"cuda\"\n",
    "diffusion_eval = create_diffusion(timestep_respacing=\"ddim200\")  # default: ddim100"
   ]
  },
  {
   "cell_type": "code",
   "execution_count": 8,
   "metadata": {},
   "outputs": [],
   "source": [
    "class_dropout_prob = 1.0\n",
    "num_classes = 0\n",
    "model_cfg = DiT_configs[\"DiT_S_1\"]\n",
    "model_DiT = DiT(input_size=9,\n",
    "            in_channels=3, **model_cfg,\n",
    "            mlp_ratio=4.0,\n",
    "            class_dropout_prob=class_dropout_prob,\n",
    "            num_classes=num_classes,\n",
    "            learn_sigma=True,)"
   ]
  },
  {
   "cell_type": "code",
   "execution_count": 9,
   "metadata": {},
   "outputs": [],
   "source": [
    "exproot = r\"/n/holylfs06/LABS/kempner_fellow_binxuwang/Users/binxuwang/DL_Projects/DiT/results\"\n",
    "expname = r\"045-RAVEN10_abstract-uncond-DiT_S_1_20240311-1256\"\n",
    "expdir = join(exproot, expname)\n",
    "ckptdir = join(expdir, \"checkpoints\")\n",
    "\n",
    "ckpt_path = join(ckptdir, \"1000000.pt\")\n",
    "state_dict = th.load(ckpt_path, )\n",
    "model_DiT.load_state_dict(state_dict[\"model\"])\n",
    "model_DiT.to(\"cuda\").eval();"
   ]
  },
  {
   "cell_type": "code",
   "execution_count": 10,
   "metadata": {},
   "outputs": [],
   "source": [
    "# abstract RAVEN dataset\n",
    "dataset_Xmean = th.tensor([1.5, 2.5, 2.5]).view(1, 3, 1, 1).to(\"cuda\")\n",
    "dataset_Xstd = th.tensor([2.5, 3.5, 3.5]).view(1, 3, 1, 1).to(\"cuda\")"
   ]
  },
  {
   "cell_type": "code",
   "execution_count": 11,
   "metadata": {},
   "outputs": [],
   "source": [
    "diffusion_train = create_diffusion(timestep_respacing=\"\")"
   ]
  },
  {
   "cell_type": "code",
   "execution_count": 12,
   "metadata": {},
   "outputs": [
    {
     "data": {
      "text/plain": [
       "[0,\n",
       " 1,\n",
       " 2,\n",
       " 3,\n",
       " 4,\n",
       " 5,\n",
       " 6,\n",
       " 7,\n",
       " 8,\n",
       " 9,\n",
       " 10,\n",
       " 11,\n",
       " 12,\n",
       " 13,\n",
       " 14,\n",
       " 15,\n",
       " 16,\n",
       " 17,\n",
       " 18,\n",
       " 19,\n",
       " 20,\n",
       " 21,\n",
       " 22,\n",
       " 23,\n",
       " 24,\n",
       " 25,\n",
       " 26,\n",
       " 27,\n",
       " 28,\n",
       " 29,\n",
       " 30,\n",
       " 31,\n",
       " 32,\n",
       " 33,\n",
       " 34,\n",
       " 35,\n",
       " 36,\n",
       " 37,\n",
       " 38,\n",
       " 39,\n",
       " 40,\n",
       " 41,\n",
       " 42,\n",
       " 43,\n",
       " 44,\n",
       " 45,\n",
       " 46,\n",
       " 47,\n",
       " 48,\n",
       " 49,\n",
       " 50,\n",
       " 51,\n",
       " 52,\n",
       " 53,\n",
       " 54,\n",
       " 55,\n",
       " 56,\n",
       " 57,\n",
       " 58,\n",
       " 59,\n",
       " 60,\n",
       " 61,\n",
       " 62,\n",
       " 63,\n",
       " 64,\n",
       " 65,\n",
       " 66,\n",
       " 67,\n",
       " 68,\n",
       " 69,\n",
       " 70,\n",
       " 71,\n",
       " 72,\n",
       " 73,\n",
       " 74,\n",
       " 75,\n",
       " 76,\n",
       " 77,\n",
       " 78,\n",
       " 79,\n",
       " 80,\n",
       " 81,\n",
       " 82,\n",
       " 83,\n",
       " 84,\n",
       " 85,\n",
       " 86,\n",
       " 87,\n",
       " 88,\n",
       " 89,\n",
       " 90,\n",
       " 91,\n",
       " 92,\n",
       " 93,\n",
       " 94,\n",
       " 95,\n",
       " 96,\n",
       " 97,\n",
       " 98,\n",
       " 99,\n",
       " 100,\n",
       " 101,\n",
       " 102,\n",
       " 103,\n",
       " 104,\n",
       " 105,\n",
       " 106,\n",
       " 107,\n",
       " 108,\n",
       " 109,\n",
       " 110,\n",
       " 111,\n",
       " 112,\n",
       " 113,\n",
       " 114,\n",
       " 115,\n",
       " 116,\n",
       " 117,\n",
       " 118,\n",
       " 119,\n",
       " 120,\n",
       " 121,\n",
       " 122,\n",
       " 123,\n",
       " 124,\n",
       " 125,\n",
       " 126,\n",
       " 127,\n",
       " 128,\n",
       " 129,\n",
       " 130,\n",
       " 131,\n",
       " 132,\n",
       " 133,\n",
       " 134,\n",
       " 135,\n",
       " 136,\n",
       " 137,\n",
       " 138,\n",
       " 139,\n",
       " 140,\n",
       " 141,\n",
       " 142,\n",
       " 143,\n",
       " 144,\n",
       " 145,\n",
       " 146,\n",
       " 147,\n",
       " 148,\n",
       " 149,\n",
       " 150,\n",
       " 151,\n",
       " 152,\n",
       " 153,\n",
       " 154,\n",
       " 155,\n",
       " 156,\n",
       " 157,\n",
       " 158,\n",
       " 159,\n",
       " 160,\n",
       " 161,\n",
       " 162,\n",
       " 163,\n",
       " 164,\n",
       " 165,\n",
       " 166,\n",
       " 167,\n",
       " 168,\n",
       " 169,\n",
       " 170,\n",
       " 171,\n",
       " 172,\n",
       " 173,\n",
       " 174,\n",
       " 175,\n",
       " 176,\n",
       " 177,\n",
       " 178,\n",
       " 179,\n",
       " 180,\n",
       " 181,\n",
       " 182,\n",
       " 183,\n",
       " 184,\n",
       " 185,\n",
       " 186,\n",
       " 187,\n",
       " 188,\n",
       " 189,\n",
       " 190,\n",
       " 191,\n",
       " 192,\n",
       " 193,\n",
       " 194,\n",
       " 195,\n",
       " 196,\n",
       " 197,\n",
       " 198,\n",
       " 199,\n",
       " 200,\n",
       " 201,\n",
       " 202,\n",
       " 203,\n",
       " 204,\n",
       " 205,\n",
       " 206,\n",
       " 207,\n",
       " 208,\n",
       " 209,\n",
       " 210,\n",
       " 211,\n",
       " 212,\n",
       " 213,\n",
       " 214,\n",
       " 215,\n",
       " 216,\n",
       " 217,\n",
       " 218,\n",
       " 219,\n",
       " 220,\n",
       " 221,\n",
       " 222,\n",
       " 223,\n",
       " 224,\n",
       " 225,\n",
       " 226,\n",
       " 227,\n",
       " 228,\n",
       " 229,\n",
       " 230,\n",
       " 231,\n",
       " 232,\n",
       " 233,\n",
       " 234,\n",
       " 235,\n",
       " 236,\n",
       " 237,\n",
       " 238,\n",
       " 239,\n",
       " 240,\n",
       " 241,\n",
       " 242,\n",
       " 243,\n",
       " 244,\n",
       " 245,\n",
       " 246,\n",
       " 247,\n",
       " 248,\n",
       " 249,\n",
       " 250,\n",
       " 251,\n",
       " 252,\n",
       " 253,\n",
       " 254,\n",
       " 255,\n",
       " 256,\n",
       " 257,\n",
       " 258,\n",
       " 259,\n",
       " 260,\n",
       " 261,\n",
       " 262,\n",
       " 263,\n",
       " 264,\n",
       " 265,\n",
       " 266,\n",
       " 267,\n",
       " 268,\n",
       " 269,\n",
       " 270,\n",
       " 271,\n",
       " 272,\n",
       " 273,\n",
       " 274,\n",
       " 275,\n",
       " 276,\n",
       " 277,\n",
       " 278,\n",
       " 279,\n",
       " 280,\n",
       " 281,\n",
       " 282,\n",
       " 283,\n",
       " 284,\n",
       " 285,\n",
       " 286,\n",
       " 287,\n",
       " 288,\n",
       " 289,\n",
       " 290,\n",
       " 291,\n",
       " 292,\n",
       " 293,\n",
       " 294,\n",
       " 295,\n",
       " 296,\n",
       " 297,\n",
       " 298,\n",
       " 299,\n",
       " 300,\n",
       " 301,\n",
       " 302,\n",
       " 303,\n",
       " 304,\n",
       " 305,\n",
       " 306,\n",
       " 307,\n",
       " 308,\n",
       " 309,\n",
       " 310,\n",
       " 311,\n",
       " 312,\n",
       " 313,\n",
       " 314,\n",
       " 315,\n",
       " 316,\n",
       " 317,\n",
       " 318,\n",
       " 319,\n",
       " 320,\n",
       " 321,\n",
       " 322,\n",
       " 323,\n",
       " 324,\n",
       " 325,\n",
       " 326,\n",
       " 327,\n",
       " 328,\n",
       " 329,\n",
       " 330,\n",
       " 331,\n",
       " 332,\n",
       " 333,\n",
       " 334,\n",
       " 335,\n",
       " 336,\n",
       " 337,\n",
       " 338,\n",
       " 339,\n",
       " 340,\n",
       " 341,\n",
       " 342,\n",
       " 343,\n",
       " 344,\n",
       " 345,\n",
       " 346,\n",
       " 347,\n",
       " 348,\n",
       " 349,\n",
       " 350,\n",
       " 351,\n",
       " 352,\n",
       " 353,\n",
       " 354,\n",
       " 355,\n",
       " 356,\n",
       " 357,\n",
       " 358,\n",
       " 359,\n",
       " 360,\n",
       " 361,\n",
       " 362,\n",
       " 363,\n",
       " 364,\n",
       " 365,\n",
       " 366,\n",
       " 367,\n",
       " 368,\n",
       " 369,\n",
       " 370,\n",
       " 371,\n",
       " 372,\n",
       " 373,\n",
       " 374,\n",
       " 375,\n",
       " 376,\n",
       " 377,\n",
       " 378,\n",
       " 379,\n",
       " 380,\n",
       " 381,\n",
       " 382,\n",
       " 383,\n",
       " 384,\n",
       " 385,\n",
       " 386,\n",
       " 387,\n",
       " 388,\n",
       " 389,\n",
       " 390,\n",
       " 391,\n",
       " 392,\n",
       " 393,\n",
       " 394,\n",
       " 395,\n",
       " 396,\n",
       " 397,\n",
       " 398,\n",
       " 399,\n",
       " 400,\n",
       " 401,\n",
       " 402,\n",
       " 403,\n",
       " 404,\n",
       " 405,\n",
       " 406,\n",
       " 407,\n",
       " 408,\n",
       " 409,\n",
       " 410,\n",
       " 411,\n",
       " 412,\n",
       " 413,\n",
       " 414,\n",
       " 415,\n",
       " 416,\n",
       " 417,\n",
       " 418,\n",
       " 419,\n",
       " 420,\n",
       " 421,\n",
       " 422,\n",
       " 423,\n",
       " 424,\n",
       " 425,\n",
       " 426,\n",
       " 427,\n",
       " 428,\n",
       " 429,\n",
       " 430,\n",
       " 431,\n",
       " 432,\n",
       " 433,\n",
       " 434,\n",
       " 435,\n",
       " 436,\n",
       " 437,\n",
       " 438,\n",
       " 439,\n",
       " 440,\n",
       " 441,\n",
       " 442,\n",
       " 443,\n",
       " 444,\n",
       " 445,\n",
       " 446,\n",
       " 447,\n",
       " 448,\n",
       " 449,\n",
       " 450,\n",
       " 451,\n",
       " 452,\n",
       " 453,\n",
       " 454,\n",
       " 455,\n",
       " 456,\n",
       " 457,\n",
       " 458,\n",
       " 459,\n",
       " 460,\n",
       " 461,\n",
       " 462,\n",
       " 463,\n",
       " 464,\n",
       " 465,\n",
       " 466,\n",
       " 467,\n",
       " 468,\n",
       " 469,\n",
       " 470,\n",
       " 471,\n",
       " 472,\n",
       " 473,\n",
       " 474,\n",
       " 475,\n",
       " 476,\n",
       " 477,\n",
       " 478,\n",
       " 479,\n",
       " 480,\n",
       " 481,\n",
       " 482,\n",
       " 483,\n",
       " 484,\n",
       " 485,\n",
       " 486,\n",
       " 487,\n",
       " 488,\n",
       " 489,\n",
       " 490,\n",
       " 491,\n",
       " 492,\n",
       " 493,\n",
       " 494,\n",
       " 495,\n",
       " 496,\n",
       " 497,\n",
       " 498,\n",
       " 499,\n",
       " 500,\n",
       " 501,\n",
       " 502,\n",
       " 503,\n",
       " 504,\n",
       " 505,\n",
       " 506,\n",
       " 507,\n",
       " 508,\n",
       " 509,\n",
       " 510,\n",
       " 511,\n",
       " 512,\n",
       " 513,\n",
       " 514,\n",
       " 515,\n",
       " 516,\n",
       " 517,\n",
       " 518,\n",
       " 519,\n",
       " 520,\n",
       " 521,\n",
       " 522,\n",
       " 523,\n",
       " 524,\n",
       " 525,\n",
       " 526,\n",
       " 527,\n",
       " 528,\n",
       " 529,\n",
       " 530,\n",
       " 531,\n",
       " 532,\n",
       " 533,\n",
       " 534,\n",
       " 535,\n",
       " 536,\n",
       " 537,\n",
       " 538,\n",
       " 539,\n",
       " 540,\n",
       " 541,\n",
       " 542,\n",
       " 543,\n",
       " 544,\n",
       " 545,\n",
       " 546,\n",
       " 547,\n",
       " 548,\n",
       " 549,\n",
       " 550,\n",
       " 551,\n",
       " 552,\n",
       " 553,\n",
       " 554,\n",
       " 555,\n",
       " 556,\n",
       " 557,\n",
       " 558,\n",
       " 559,\n",
       " 560,\n",
       " 561,\n",
       " 562,\n",
       " 563,\n",
       " 564,\n",
       " 565,\n",
       " 566,\n",
       " 567,\n",
       " 568,\n",
       " 569,\n",
       " 570,\n",
       " 571,\n",
       " 572,\n",
       " 573,\n",
       " 574,\n",
       " 575,\n",
       " 576,\n",
       " 577,\n",
       " 578,\n",
       " 579,\n",
       " 580,\n",
       " 581,\n",
       " 582,\n",
       " 583,\n",
       " 584,\n",
       " 585,\n",
       " 586,\n",
       " 587,\n",
       " 588,\n",
       " 589,\n",
       " 590,\n",
       " 591,\n",
       " 592,\n",
       " 593,\n",
       " 594,\n",
       " 595,\n",
       " 596,\n",
       " 597,\n",
       " 598,\n",
       " 599,\n",
       " 600,\n",
       " 601,\n",
       " 602,\n",
       " 603,\n",
       " 604,\n",
       " 605,\n",
       " 606,\n",
       " 607,\n",
       " 608,\n",
       " 609,\n",
       " 610,\n",
       " 611,\n",
       " 612,\n",
       " 613,\n",
       " 614,\n",
       " 615,\n",
       " 616,\n",
       " 617,\n",
       " 618,\n",
       " 619,\n",
       " 620,\n",
       " 621,\n",
       " 622,\n",
       " 623,\n",
       " 624,\n",
       " 625,\n",
       " 626,\n",
       " 627,\n",
       " 628,\n",
       " 629,\n",
       " 630,\n",
       " 631,\n",
       " 632,\n",
       " 633,\n",
       " 634,\n",
       " 635,\n",
       " 636,\n",
       " 637,\n",
       " 638,\n",
       " 639,\n",
       " 640,\n",
       " 641,\n",
       " 642,\n",
       " 643,\n",
       " 644,\n",
       " 645,\n",
       " 646,\n",
       " 647,\n",
       " 648,\n",
       " 649,\n",
       " 650,\n",
       " 651,\n",
       " 652,\n",
       " 653,\n",
       " 654,\n",
       " 655,\n",
       " 656,\n",
       " 657,\n",
       " 658,\n",
       " 659,\n",
       " 660,\n",
       " 661,\n",
       " 662,\n",
       " 663,\n",
       " 664,\n",
       " 665,\n",
       " 666,\n",
       " 667,\n",
       " 668,\n",
       " 669,\n",
       " 670,\n",
       " 671,\n",
       " 672,\n",
       " 673,\n",
       " 674,\n",
       " 675,\n",
       " 676,\n",
       " 677,\n",
       " 678,\n",
       " 679,\n",
       " 680,\n",
       " 681,\n",
       " 682,\n",
       " 683,\n",
       " 684,\n",
       " 685,\n",
       " 686,\n",
       " 687,\n",
       " 688,\n",
       " 689,\n",
       " 690,\n",
       " 691,\n",
       " 692,\n",
       " 693,\n",
       " 694,\n",
       " 695,\n",
       " 696,\n",
       " 697,\n",
       " 698,\n",
       " 699,\n",
       " 700,\n",
       " 701,\n",
       " 702,\n",
       " 703,\n",
       " 704,\n",
       " 705,\n",
       " 706,\n",
       " 707,\n",
       " 708,\n",
       " 709,\n",
       " 710,\n",
       " 711,\n",
       " 712,\n",
       " 713,\n",
       " 714,\n",
       " 715,\n",
       " 716,\n",
       " 717,\n",
       " 718,\n",
       " 719,\n",
       " 720,\n",
       " 721,\n",
       " 722,\n",
       " 723,\n",
       " 724,\n",
       " 725,\n",
       " 726,\n",
       " 727,\n",
       " 728,\n",
       " 729,\n",
       " 730,\n",
       " 731,\n",
       " 732,\n",
       " 733,\n",
       " 734,\n",
       " 735,\n",
       " 736,\n",
       " 737,\n",
       " 738,\n",
       " 739,\n",
       " 740,\n",
       " 741,\n",
       " 742,\n",
       " 743,\n",
       " 744,\n",
       " 745,\n",
       " 746,\n",
       " 747,\n",
       " 748,\n",
       " 749,\n",
       " 750,\n",
       " 751,\n",
       " 752,\n",
       " 753,\n",
       " 754,\n",
       " 755,\n",
       " 756,\n",
       " 757,\n",
       " 758,\n",
       " 759,\n",
       " 760,\n",
       " 761,\n",
       " 762,\n",
       " 763,\n",
       " 764,\n",
       " 765,\n",
       " 766,\n",
       " 767,\n",
       " 768,\n",
       " 769,\n",
       " 770,\n",
       " 771,\n",
       " 772,\n",
       " 773,\n",
       " 774,\n",
       " 775,\n",
       " 776,\n",
       " 777,\n",
       " 778,\n",
       " 779,\n",
       " 780,\n",
       " 781,\n",
       " 782,\n",
       " 783,\n",
       " 784,\n",
       " 785,\n",
       " 786,\n",
       " 787,\n",
       " 788,\n",
       " 789,\n",
       " 790,\n",
       " 791,\n",
       " 792,\n",
       " 793,\n",
       " 794,\n",
       " 795,\n",
       " 796,\n",
       " 797,\n",
       " 798,\n",
       " 799,\n",
       " 800,\n",
       " 801,\n",
       " 802,\n",
       " 803,\n",
       " 804,\n",
       " 805,\n",
       " 806,\n",
       " 807,\n",
       " 808,\n",
       " 809,\n",
       " 810,\n",
       " 811,\n",
       " 812,\n",
       " 813,\n",
       " 814,\n",
       " 815,\n",
       " 816,\n",
       " 817,\n",
       " 818,\n",
       " 819,\n",
       " 820,\n",
       " 821,\n",
       " 822,\n",
       " 823,\n",
       " 824,\n",
       " 825,\n",
       " 826,\n",
       " 827,\n",
       " 828,\n",
       " 829,\n",
       " 830,\n",
       " 831,\n",
       " 832,\n",
       " 833,\n",
       " 834,\n",
       " 835,\n",
       " 836,\n",
       " 837,\n",
       " 838,\n",
       " 839,\n",
       " 840,\n",
       " 841,\n",
       " 842,\n",
       " 843,\n",
       " 844,\n",
       " 845,\n",
       " 846,\n",
       " 847,\n",
       " 848,\n",
       " 849,\n",
       " 850,\n",
       " 851,\n",
       " 852,\n",
       " 853,\n",
       " 854,\n",
       " 855,\n",
       " 856,\n",
       " 857,\n",
       " 858,\n",
       " 859,\n",
       " 860,\n",
       " 861,\n",
       " 862,\n",
       " 863,\n",
       " 864,\n",
       " 865,\n",
       " 866,\n",
       " 867,\n",
       " 868,\n",
       " 869,\n",
       " 870,\n",
       " 871,\n",
       " 872,\n",
       " 873,\n",
       " 874,\n",
       " 875,\n",
       " 876,\n",
       " 877,\n",
       " 878,\n",
       " 879,\n",
       " 880,\n",
       " 881,\n",
       " 882,\n",
       " 883,\n",
       " 884,\n",
       " 885,\n",
       " 886,\n",
       " 887,\n",
       " 888,\n",
       " 889,\n",
       " 890,\n",
       " 891,\n",
       " 892,\n",
       " 893,\n",
       " 894,\n",
       " 895,\n",
       " 896,\n",
       " 897,\n",
       " 898,\n",
       " 899,\n",
       " 900,\n",
       " 901,\n",
       " 902,\n",
       " 903,\n",
       " 904,\n",
       " 905,\n",
       " 906,\n",
       " 907,\n",
       " 908,\n",
       " 909,\n",
       " 910,\n",
       " 911,\n",
       " 912,\n",
       " 913,\n",
       " 914,\n",
       " 915,\n",
       " 916,\n",
       " 917,\n",
       " 918,\n",
       " 919,\n",
       " 920,\n",
       " 921,\n",
       " 922,\n",
       " 923,\n",
       " 924,\n",
       " 925,\n",
       " 926,\n",
       " 927,\n",
       " 928,\n",
       " 929,\n",
       " 930,\n",
       " 931,\n",
       " 932,\n",
       " 933,\n",
       " 934,\n",
       " 935,\n",
       " 936,\n",
       " 937,\n",
       " 938,\n",
       " 939,\n",
       " 940,\n",
       " 941,\n",
       " 942,\n",
       " 943,\n",
       " 944,\n",
       " 945,\n",
       " 946,\n",
       " 947,\n",
       " 948,\n",
       " 949,\n",
       " 950,\n",
       " 951,\n",
       " 952,\n",
       " 953,\n",
       " 954,\n",
       " 955,\n",
       " 956,\n",
       " 957,\n",
       " 958,\n",
       " 959,\n",
       " 960,\n",
       " 961,\n",
       " 962,\n",
       " 963,\n",
       " 964,\n",
       " 965,\n",
       " 966,\n",
       " 967,\n",
       " 968,\n",
       " 969,\n",
       " 970,\n",
       " 971,\n",
       " 972,\n",
       " 973,\n",
       " 974,\n",
       " 975,\n",
       " 976,\n",
       " 977,\n",
       " 978,\n",
       " 979,\n",
       " 980,\n",
       " 981,\n",
       " 982,\n",
       " 983,\n",
       " 984,\n",
       " 985,\n",
       " 986,\n",
       " 987,\n",
       " 988,\n",
       " 989,\n",
       " 990,\n",
       " 991,\n",
       " 992,\n",
       " 993,\n",
       " 994,\n",
       " 995,\n",
       " 996,\n",
       " 997,\n",
       " 998,\n",
       " 999]"
      ]
     },
     "execution_count": 12,
     "metadata": {},
     "output_type": "execute_result"
    }
   ],
   "source": [
    "diffusion_train.timestep_map"
   ]
  },
  {
   "cell_type": "markdown",
   "metadata": {},
   "source": [
    "### Test run and rule inference"
   ]
  },
  {
   "cell_type": "code",
   "execution_count": 22,
   "metadata": {},
   "outputs": [
    {
     "data": {
      "application/vnd.jupyter.widget-view+json": {
       "model_id": "b30cb9b1e80f43dcb81913ee1a4b8c37",
       "version_major": 2,
       "version_minor": 0
      },
      "text/plain": [
       "  0%|          | 0/100 [00:00<?, ?it/s]"
      ]
     },
     "metadata": {},
     "output_type": "display_data"
    },
    {
     "name": "stdout",
     "output_type": "stream",
     "text": [
      "C3: 1138/2048 (0.56), C3 + C2: 1466/2048 (0.72), AnyValid: 4569/6144 (0.74)\n"
     ]
    }
   ],
   "source": [
    "diffusion_eval = create_diffusion(timestep_respacing=\"ddim100\")  # default: ddim100\n",
    "y = th.zeros(2048, dtype=torch.int, device=\"cuda\")\n",
    "model_kwargs = dict(y=y)\n",
    "with th.no_grad():\n",
    "    samples = diffusion_eval.ddim_sample_loop(model_DiT, shape=(2048, 3, 9, 9), clip_denoised=False, device=\"cuda\", model_kwargs=model_kwargs, progress=True)\n",
    "samples = ((samples.detach() * dataset_Xstd) + dataset_Xmean).cpu()\n",
    "r3_list, r2_list, rule_col = infer_rule_from_sample_batch(samples)\n",
    "C3_count, C2_count, anyvalid_count, total = compute_rule_statistics(r3_list, r2_list, rule_col, verbose=True)"
   ]
  },
  {
   "cell_type": "code",
   "execution_count": 18,
   "metadata": {},
   "outputs": [
    {
     "name": "stdout",
     "output_type": "stream",
     "text": [
      "C3: 1181/2048 (0.58), C3 + C2: 1503/2048 (0.73), AnyValid: 4678/6144 (0.76)\n"
     ]
    }
   ],
   "source": [
    "print(f\"C3: {C3_count}/{total} ({C3_count/total:.2f}), C3 + C2: {C3_count + C2_count}/{total} ({(C3_count + C2_count)/total:.2f}), AnyValid: {anyvalid_count}/{total*3} ({anyvalid_count/total/3:.2f})\") "
   ]
  },
  {
   "cell_type": "markdown",
   "metadata": {},
   "source": [
    "### Load training dataset"
   ]
  },
  {
   "cell_type": "code",
   "execution_count": 13,
   "metadata": {},
   "outputs": [],
   "source": [
    "# train_data_fn = \"train_inputs_new.pt\"\n",
    "# train_attrs = torch.load(f'/n/home12/binxuwang/Github/DiffusionReasoning/{train_data_fn}')\n",
    "# train_attrs = train_attrs.to(int)\n",
    "train_attrs = np.load(\"/n/home12/binxuwang/Github/DiffusionReasoning/attr_all.npy\")\n",
    "train_attrs = th.from_numpy(train_attrs).to(int)"
   ]
  },
  {
   "cell_type": "code",
   "execution_count": 14,
   "metadata": {},
   "outputs": [],
   "source": [
    "train_row_img = einops.rearrange(train_attrs, 'c s pnl (H W) att -> c s att H (pnl W)', H=3, W=3, att=3, pnl=3)\n",
    "train_sample_img = einops.rearrange(train_row_img, 'c (S R) att H W -> c S att (R H) W', R=3,att=3, H=3, W=9)\n",
    "labels_tsr = torch.arange(len(train_sample_img)).to(int).view(-1,1).repeat(1, train_sample_img.shape[1])"
   ]
  },
  {
   "cell_type": "code",
   "execution_count": 15,
   "metadata": {},
   "outputs": [
    {
     "name": "stdout",
     "output_type": "stream",
     "text": [
      "tensor([[[ 5,  5,  5,  5,  5, -1,  5, -1,  5],\n",
      "         [ 5,  5,  5, -1, -1,  5,  5,  5,  5],\n",
      "         [ 5,  5,  5,  5, -1, -1, -1,  5,  5],\n",
      "         [-1,  6,  6,  6, -1, -1,  6,  6,  6],\n",
      "         [-1, -1, -1, -1,  6,  6,  6,  6,  6],\n",
      "         [-1,  6,  6,  6,  6, -1, -1,  6,  6],\n",
      "         [ 2, -1,  2,  2,  2,  2, -1, -1,  2],\n",
      "         [ 2,  2, -1,  2, -1, -1, -1, -1, -1],\n",
      "         [ 2,  2,  2, -1,  2,  2,  2,  2, -1]],\n",
      "\n",
      "        [[ 4,  4,  4,  2,  2, -1,  9, -1,  9],\n",
      "         [ 4,  4,  4, -1, -1,  2,  9,  9,  9],\n",
      "         [ 4,  4,  4,  2, -1, -1, -1,  9,  9],\n",
      "         [-1,  5,  1,  5, -1, -1,  7,  1,  5],\n",
      "         [-1, -1, -1, -1,  0,  1,  7,  4,  0],\n",
      "         [-1,  3,  1,  8,  2, -1, -1,  7,  6],\n",
      "         [ 5, -1,  5,  3,  3,  3, -1, -1,  6],\n",
      "         [ 5,  5, -1,  3, -1, -1, -1, -1, -1],\n",
      "         [ 5,  5,  5, -1,  3,  3,  6,  6, -1]],\n",
      "\n",
      "        [[ 4,  8,  4,  5,  0, -1,  6, -1,  4],\n",
      "         [ 0,  5,  4, -1, -1,  1,  2,  5,  8],\n",
      "         [ 7,  3,  1,  2, -1, -1, -1,  8,  2],\n",
      "         [-1,  9,  9,  7, -1, -1,  3,  3,  3],\n",
      "         [-1, -1, -1, -1,  7,  7,  3,  3,  3],\n",
      "         [-1,  9,  9,  7,  7, -1, -1,  3,  3],\n",
      "         [ 7, -1,  7,  6,  6,  6, -1, -1,  4],\n",
      "         [ 7,  7, -1,  6, -1, -1, -1, -1, -1],\n",
      "         [ 7,  7,  7, -1,  6,  6,  4,  4, -1]]])\n"
     ]
    }
   ],
   "source": [
    "print(train_sample_img[0,0])"
   ]
  },
  {
   "cell_type": "code",
   "execution_count": 16,
   "metadata": {},
   "outputs": [
    {
     "name": "stdout",
     "output_type": "stream",
     "text": [
      "torch.Size([120000, 3, 9, 9]) torch.Size([120000])\n"
     ]
    }
   ],
   "source": [
    "from torch.utils.data import Dataset, DataLoader, TensorDataset\n",
    "X_train = train_sample_img[:, :3000]\n",
    "y_train = labels_tsr[:, :3000]\n",
    "X_test = train_sample_img[:, 3000:]\n",
    "y_test = labels_tsr[:, 3000:]\n",
    "X_train = X_train.reshape(-1, 3, 9, 9)\n",
    "y_train = y_train.reshape(-1)\n",
    "X_test = X_test.reshape(-1, 3, 9, 9)\n",
    "y_test = y_test.reshape(-1)\n",
    "print(X_train.shape, y_train.shape)\n",
    "train_dataset = TensorDataset(X_train, y_train)\n",
    "test_dataset = TensorDataset(X_test, y_test)"
   ]
  },
  {
   "cell_type": "markdown",
   "metadata": {},
   "source": [
    "### Utils to train a linear probe"
   ]
  },
  {
   "cell_type": "code",
   "execution_count": 23,
   "metadata": {},
   "outputs": [],
   "source": [
    "import torch\n",
    "import torch.nn as nn\n",
    "import torch.optim as optim\n",
    "import pandas as pd\n",
    "\n",
    "# Define the linear classifier model\n",
    "class LinearClassifier(nn.Module):\n",
    "    def __init__(self, input_size, num_classes):\n",
    "        super(LinearClassifier, self).__init__()\n",
    "        self.fc = nn.Linear(input_size, num_classes)\n",
    "\n",
    "    def forward(self, x):\n",
    "        x = self.fc(x)\n",
    "        return x\n",
    "\n",
    "\n",
    "# Define the training loop\n",
    "def train_model(model, train_loader, num_epochs, learning_rate, print_every=50,\n",
    "                eval_every=500, eval_func=None):\n",
    "    criterion = nn.CrossEntropyLoss()\n",
    "    optimizer = optim.Adam(model.parameters(), lr=learning_rate)\n",
    "    train_record = []\n",
    "    test_record = []\n",
    "    for epoch in range(num_epochs):\n",
    "        acc_total = 0\n",
    "        cnt_total = 0\n",
    "        for inputs, labels in train_loader:\n",
    "            inputs = inputs.to(\"cuda\")\n",
    "            labels = labels.to(\"cuda\")\n",
    "            optimizer.zero_grad()\n",
    "            outputs = model(inputs)\n",
    "            loss = criterion(outputs, labels)\n",
    "            loss.backward()\n",
    "            optimizer.step()\n",
    "            acc_cnt = (outputs.argmax(dim=1) == labels).sum().item()\n",
    "            acc_total += acc_cnt\n",
    "            cnt_total += len(labels)\n",
    "        accuracy = acc_total / cnt_total\n",
    "        if (epoch + 1) % print_every == 0 or epoch == 0 or epoch == num_epochs - 1:\n",
    "            print(f\"Epoch [{epoch+1}/{num_epochs}], Loss: {loss.item():.4f}, Accuracy: {accuracy:.4f}\")\n",
    "        train_record.append((epoch, loss.item(), accuracy))\n",
    "        if ((epoch + 1) % eval_every == 0 or epoch == num_epochs - 1) and eval_func is not None:\n",
    "            test_acc, _ = eval_func(model)\n",
    "            test_record.append((epoch, test_acc))\n",
    "    train_record = pd.DataFrame(train_record, columns=[\"epoch\", \"loss\", \"accuracy\"])\n",
    "    test_record = pd.DataFrame(test_record, columns=[\"epoch\", \"accuracy\"])\n",
    "    return train_record, test_record\n",
    "\n",
    "\n",
    "def test_model(model, test_loader):\n",
    "    acc_total = 0\n",
    "    cnt_total = 0\n",
    "    for inputs, labels in test_loader:\n",
    "        inputs = inputs.to(\"cuda\")\n",
    "        labels = labels.to(\"cuda\")\n",
    "        with th.no_grad():\n",
    "            outputs = model(inputs)\n",
    "        pred_cls = outputs.argmax(dim=1)\n",
    "        acc_cnt = (pred_cls == labels).sum().item()\n",
    "        acc_total += acc_cnt\n",
    "        cnt_total += len(labels)\n",
    "    accuracy = acc_total / cnt_total\n",
    "    print(f\"Test Accuracy: {accuracy:.4f}\")\n",
    "    return accuracy, pred_cls\n",
    "\n",
    "\n",
    "def fit_SGD_linear_classifier(train_X, train_y, test_X=None, test_y=None, \n",
    "                              num_classes=40, \n",
    "                              batch_size=1024, num_epochs=100, \n",
    "                              learning_rate = 0.001, print_every=100, eval_every=500,):\n",
    "    # Define the linear classifier model\n",
    "    input_size = train_X.shape[1]\n",
    "    model = LinearClassifier(input_size, num_classes).to(\"cuda\")\n",
    "    if batch_size is None:\n",
    "        feat_loader = [(train_X.to(\"cuda\"), train_y.to(\"cuda\"))]\n",
    "    else:\n",
    "        feat_dataset = TensorDataset(train_X.to(\"cuda\"), train_y.to(\"cuda\")) # .to(\"cuda\")\n",
    "        feat_loader = DataLoader(feat_dataset, batch_size=batch_size, shuffle=True,\n",
    "                             drop_last=True) # pin_memory=True, num_workers=\n",
    "    \n",
    "    if test_X is not None and test_y is not None:\n",
    "        if batch_size is None:\n",
    "            test_feat_loader = [(test_X.to(\"cuda\"), test_y.to(\"cuda\"))]\n",
    "        else:\n",
    "            test_dataset = TensorDataset(test_X.to(\"cuda\"), test_y.to(\"cuda\")) # .to(\"cuda\")\n",
    "            test_feat_loader = DataLoader(test_dataset, batch_size=batch_size, shuffle=False)\n",
    "    # Define the training loop\n",
    "    train_record, test_record = train_model(model, feat_loader, num_epochs, learning_rate, print_every=print_every, eval_every=eval_every,\n",
    "                eval_func=lambda model: test_model(model, test_feat_loader) if test_feat_loader is not None else None)\n",
    "    # Define the testing loop\n",
    "    test_acc, pred_cls = test_model(model, test_feat_loader)\n",
    "    results = edict()\n",
    "    results.train_record = train_record\n",
    "    results.test_record = test_record\n",
    "    results.test_acc = test_acc\n",
    "    results.pred_cls = pred_cls\n",
    "    return model, results\n"
   ]
  },
  {
   "cell_type": "code",
   "execution_count": 28,
   "metadata": {},
   "outputs": [],
   "source": [
    "def train_pca_sgd_classifiers(\n",
    "    feature_col,\n",
    "    feature_col_test,\n",
    "    y_train,\n",
    "    y_test,\n",
    "    PC_dim=1024,\n",
    "    noPCA=False,\n",
    "    num_classes=40,\n",
    "    batch_size=None,\n",
    "    num_epochs=5000,\n",
    "    print_every=250,\n",
    "    eval_every=1000,\n",
    "    learning_rate=0.005,\n",
    "    device='cuda'  # Specify 'cuda' or 'cpu'\n",
    "):\n",
    "    \"\"\"\n",
    "    Trains SGD linear classifiers on PCA-transformed features for each layer.\n",
    "\n",
    "    Args:\n",
    "        feature_col (dict): Training features for each layer.\n",
    "        feature_col_test (dict): Test features for each layer.\n",
    "        y_train (torch.Tensor or np.ndarray): Training labels.\n",
    "        y_test (torch.Tensor or np.ndarray): Test labels.\n",
    "        PC_dim (int, optional): Number of principal components. Defaults to 1024.\n",
    "        noPCA (bool, optional): Whether to skip PCA. Defaults to False.\n",
    "        num_classes (int, optional): Number of target classes. Defaults to 40.\n",
    "        batch_size (int, optional): Batch size for SGD. Defaults to None.\n",
    "        num_epochs (int, optional): Number of training epochs. Defaults to 5000.\n",
    "        print_every (int, optional): Frequency of printing progress. Defaults to 250.\n",
    "        eval_every (int, optional): Frequency of evaluating on test set. Defaults to 1000.\n",
    "        learning_rate (float, optional): Learning rate for SGD. Defaults to 0.005.\n",
    "        device (str, optional): Device to use ('cuda' or 'cpu'). Defaults to 'cuda'.\n",
    "\n",
    "    Returns:\n",
    "        model_PCA_col (dict): Trained models for each layer.\n",
    "        PC_proj_col (dict): PCA projection parameters for each layer.\n",
    "        results_col (dict): Training and evaluation results for each layer.\n",
    "    \"\"\"\n",
    "    model_PCA_col = {}\n",
    "    PC_proj_col = {}\n",
    "    results_col = {}\n",
    "\n",
    "    for layerkey in feature_col.keys():\n",
    "        print(f\"Processing layer: {layerkey}\")\n",
    "        t0 = time.time()\n",
    "\n",
    "        # Reshape feature matrices\n",
    "        featmat = feature_col[layerkey].view(len(feature_col[layerkey]), -1)\n",
    "        featmat_test = feature_col_test[layerkey].view(len(feature_col_test[layerkey]), -1)\n",
    "\n",
    "        # Compute mean of training features\n",
    "        featmean = featmat.mean(dim=0)\n",
    "        t1 = time.time()\n",
    "\n",
    "        if noPCA:\n",
    "            # Center and normalize features without PCA\n",
    "            feat_PCA = (featmat - featmean[None, :]).to(device)\n",
    "            feat_PCA_std = feat_PCA.std(dim=0)\n",
    "            feat_PCA = feat_PCA / feat_PCA_std[None, :]\n",
    "            feat_PCA_test = (featmat_test - featmean[None, :]).to(device)\n",
    "            feat_PCA_test = feat_PCA_test / feat_PCA_std[None, :]\n",
    "        else:\n",
    "            # Perform PCA\n",
    "            centered_feat = (featmat - featmean[None, :]).to(device)\n",
    "            U, S, V = torch.pca_lowrank(centered_feat, q=PC_dim, center=False, niter=3)\n",
    "            print(f\"PCA components for layer {layerkey}: U shape {U.shape}, S shape {S.shape}, V shape {V.shape}\")\n",
    "            # Clean up unnecessary variables\n",
    "            del U, S\n",
    "            torch.cuda.empty_cache()\n",
    "\n",
    "            # Project training and test features\n",
    "            feat_PCA = centered_feat @ V\n",
    "            feat_PCA_std = feat_PCA.std(dim=0)\n",
    "            feat_PCA = feat_PCA / feat_PCA_std[None, :]\n",
    "            feat_PCA_test = (featmat_test - featmean[None, :]).to(device) @ V\n",
    "            feat_PCA_test = feat_PCA_test / feat_PCA_std[None, :]\n",
    "            torch.cuda.empty_cache()\n",
    "            V = V.cpu()\n",
    "\n",
    "        t2 = time.time()\n",
    "\n",
    "        # Train the SGD linear classifier\n",
    "        model, results_dict = fit_SGD_linear_classifier(\n",
    "            feat_PCA, y_train, feat_PCA_test, y_test,\n",
    "            num_classes=num_classes,\n",
    "            batch_size=batch_size,\n",
    "            num_epochs=num_epochs,\n",
    "            print_every=print_every,\n",
    "            eval_every=eval_every,\n",
    "            learning_rate=learning_rate\n",
    "        )\n",
    "\n",
    "        t3 = time.time()\n",
    "\n",
    "        print(f\"Layer {layerkey} - PCA time: {t1 - t0:.2f}s, \"\n",
    "              f\"PCA transform time: {t2 - t1:.2f}s, \"\n",
    "              f\"Training time: {t3 - t2:.2f}s\")\n",
    "\n",
    "        # Store the trained model and PCA projection parameters\n",
    "        model_PCA_col[layerkey] = model\n",
    "        PC_proj_col[layerkey] = {\n",
    "            'V': V.cpu() if not noPCA else None,  # PCA components\n",
    "            'mean': featmean.cpu(),\n",
    "            'std': feat_PCA_std.cpu()\n",
    "        }\n",
    "        results_col[layerkey] = results_dict\n",
    "        del feat_PCA, feat_PCA_test\n",
    "\n",
    "    return model_PCA_col, PC_proj_col, results_col"
   ]
  },
  {
   "cell_type": "markdown",
   "metadata": {},
   "source": [
    "## Which part of the model has rule representation?\n",
    "See if any other part of the model has the rule representation"
   ]
  },
  {
   "cell_type": "code",
   "execution_count": 19,
   "metadata": {},
   "outputs": [
    {
     "data": {
      "text/plain": [
       "DiT(\n",
       "  (x_embedder): PatchEmbed(\n",
       "    (proj): Conv2d(3, 384, kernel_size=(1, 1), stride=(1, 1))\n",
       "    (norm): Identity()\n",
       "  )\n",
       "  (t_embedder): TimestepEmbedder(\n",
       "    (mlp): Sequential(\n",
       "      (0): Linear(in_features=256, out_features=384, bias=True)\n",
       "      (1): SiLU()\n",
       "      (2): Linear(in_features=384, out_features=384, bias=True)\n",
       "    )\n",
       "  )\n",
       "  (y_embedder): LabelEmbedder(\n",
       "    (embedding_table): Embedding(1, 384)\n",
       "  )\n",
       "  (blocks): ModuleList(\n",
       "    (0-11): 12 x DiTBlock(\n",
       "      (norm1): LayerNorm((384,), eps=1e-06, elementwise_affine=False)\n",
       "      (attn): Attention(\n",
       "        (qkv): Linear(in_features=384, out_features=1152, bias=True)\n",
       "        (q_norm): Identity()\n",
       "        (k_norm): Identity()\n",
       "        (attn_drop): Dropout(p=0.0, inplace=False)\n",
       "        (proj): Linear(in_features=384, out_features=384, bias=True)\n",
       "        (proj_drop): Dropout(p=0.0, inplace=False)\n",
       "      )\n",
       "      (norm2): LayerNorm((384,), eps=1e-06, elementwise_affine=False)\n",
       "      (mlp): Mlp(\n",
       "        (fc1): Linear(in_features=384, out_features=1536, bias=True)\n",
       "        (act): GELU(approximate='tanh')\n",
       "        (drop1): Dropout(p=0, inplace=False)\n",
       "        (norm): Identity()\n",
       "        (fc2): Linear(in_features=1536, out_features=384, bias=True)\n",
       "        (drop2): Dropout(p=0, inplace=False)\n",
       "      )\n",
       "      (adaLN_modulation): Sequential(\n",
       "        (0): SiLU()\n",
       "        (1): Linear(in_features=384, out_features=2304, bias=True)\n",
       "      )\n",
       "    )\n",
       "  )\n",
       "  (final_layer): FinalLayer(\n",
       "    (norm_final): LayerNorm((384,), eps=1e-06, elementwise_affine=False)\n",
       "    (linear): Linear(in_features=384, out_features=6, bias=True)\n",
       "    (adaLN_modulation): Sequential(\n",
       "      (0): SiLU()\n",
       "      (1): Linear(in_features=384, out_features=768, bias=True)\n",
       "    )\n",
       "  )\n",
       ")"
      ]
     },
     "execution_count": 19,
     "metadata": {},
     "output_type": "execute_result"
    }
   ],
   "source": [
    "model_DiT"
   ]
  },
  {
   "cell_type": "code",
   "execution_count": 20,
   "metadata": {},
   "outputs": [
    {
     "name": "stdout",
     "output_type": "stream",
     "text": [
      "------------------------------------------------------------------------------------------------------------------------------------------------------\n",
      "      Layer Id                                           inshape                    outshape                            Type   Module Path                      \n",
      "======================================================================================================================================================\n",
      "        0                                             (2, 3, 9, 9)                (2, 3, 9, 9)                         [Input]   Image                            \n",
      "        1                                           [(2, 3, 9, 9)]              (2, 384, 9, 9)                        [Conv2d]   .x_embedder.proj                 \n",
      "        2                                           [(2, 81, 384)]                (2, 81, 384)                      [Identity]   .x_embedder.norm                 \n",
      "        3                                           [(2, 3, 9, 9)]                (2, 81, 384)                    [PatchEmbed]   .x_embedder                      \n",
      "        4                                               [(2, 256)]                    (2, 384)                    [Sequential]   .t_embedder.mlp                  \n",
      "        5                                                   [(2,)]                    (2, 384)              [TimestepEmbedder]   .t_embedder                      \n",
      "        6                                                   [(2,)]                    (2, 384)                     [Embedding]   .y_embedder.embedding_table      \n",
      "        7                                                   [(2,)]                    (2, 384)                 [LabelEmbedder]   .y_embedder                      \n",
      "        8                                 [(2, 81, 384), (2, 384)]                (2, 81, 384)                      [DiTBlock]   .blocks.0                        \n",
      "        9                                 [(2, 81, 384), (2, 384)]                (2, 81, 384)                      [DiTBlock]   .blocks.1                        \n",
      "        10                                [(2, 81, 384), (2, 384)]                (2, 81, 384)                      [DiTBlock]   .blocks.2                        \n",
      "        11                                [(2, 81, 384), (2, 384)]                (2, 81, 384)                      [DiTBlock]   .blocks.3                        \n",
      "        12                                [(2, 81, 384), (2, 384)]                (2, 81, 384)                      [DiTBlock]   .blocks.4                        \n",
      "        13                                [(2, 81, 384), (2, 384)]                (2, 81, 384)                      [DiTBlock]   .blocks.5                        \n",
      "        14                                [(2, 81, 384), (2, 384)]                (2, 81, 384)                      [DiTBlock]   .blocks.6                        \n",
      "        15                                [(2, 81, 384), (2, 384)]                (2, 81, 384)                      [DiTBlock]   .blocks.7                        \n",
      "        16                                [(2, 81, 384), (2, 384)]                (2, 81, 384)                      [DiTBlock]   .blocks.8                        \n",
      "        17                                [(2, 81, 384), (2, 384)]                (2, 81, 384)                      [DiTBlock]   .blocks.9                        \n",
      "        18                                [(2, 81, 384), (2, 384)]                (2, 81, 384)                      [DiTBlock]   .blocks.10                       \n",
      "        19                                [(2, 81, 384), (2, 384)]                (2, 81, 384)                      [DiTBlock]   .blocks.11                       \n",
      "        20                                              [(2, 384)]                    (2, 768)                    [Sequential]   .final_layer.adaLN_modulation    \n",
      "        21                                          [(2, 81, 384)]                (2, 81, 384)                     [LayerNorm]   .final_layer.norm_final          \n",
      "        22                                          [(2, 81, 384)]                  (2, 81, 6)                        [Linear]   .final_layer.linear              \n",
      "        23                                [(2, 81, 384), (2, 384)]                  (2, 81, 6)                    [FinalLayer]   .final_layer                     \n",
      "        24                              [(2, 3, 9, 9), (2,), (2,)]                (2, 6, 9, 9)                           [DiT]   .                                \n"
     ]
    }
   ],
   "source": [
    "get_module_name_shapes(model_DiT,inputs_list=[torch.randn(2, 3, 9, 9).to(\"cuda\"), torch.rand(2,).to(\"cuda\"), ], \n",
    "                       model_kwargs={\"y\":torch.zeros(2, dtype=torch.int, device=\"cuda\")});"
   ]
  },
  {
   "cell_type": "markdown",
   "metadata": {},
   "source": [
    "### Block output"
   ]
  },
  {
   "cell_type": "code",
   "execution_count": 25,
   "metadata": {},
   "outputs": [
    {
     "name": "stdout",
     "output_type": "stream",
     "text": [
      "blocks2 torch.Size([2, 81, 384])\n",
      "blocks5 torch.Size([2, 81, 384])\n",
      "blocks8 torch.Size([2, 81, 384])\n",
      "blocks11 torch.Size([2, 81, 384])\n",
      "FeatureFetcher hooks all freed\n"
     ]
    }
   ],
   "source": [
    "fetcher = featureFetcher_module()\n",
    "# fetcher.record_module(model.blocks[11], target_name=\"blocks.11\")\n",
    "for i in (2,5,8,11):#range(len(model.blocks)):\n",
    "    fetcher.record_module(model_DiT.blocks[i], target_name=f\"blocks{i}\")\n",
    "# fetcher.cleanup()\n",
    "feature_col = defaultdict(list)\n",
    "with th.no_grad():\n",
    "    model_DiT(torch.randn(2, 3, 9, 9).to(\"cuda\"), torch.rand(2,).to(\"cuda\"), y=torch.zeros(2, dtype=torch.int, device=\"cuda\"))\n",
    "for key, activations in fetcher.activations.items():\n",
    "    feature_col[key].append(activations)\n",
    "for key in feature_col.keys():\n",
    "    feature_col[key] = th.cat(feature_col[key], dim=0)\n",
    "    print(key, feature_col[key].shape)\n",
    "fetcher.cleanup()"
   ]
  },
  {
   "cell_type": "code",
   "execution_count": 27,
   "metadata": {},
   "outputs": [],
   "source": [
    "def extract_features_DiT(\n",
    "    model,\n",
    "    fetcher,\n",
    "    data_loader,\n",
    "    dataset_Xmean,\n",
    "    dataset_Xstd,\n",
    "    t_scalar,\n",
    "    device='cuda',\n",
    "    progress_bar=True\n",
    "):\n",
    "    \"\"\"\n",
    "    Extracts features from specified layers of the model for the given dataset.\n",
    "\n",
    "    Args:\n",
    "        model (torch.nn.Module): The neural network model.\n",
    "        fetcher (FeatureFetcher): An instance of the featureFetcher_module.\n",
    "        data_loader (DataLoader): DataLoader for the dataset.\n",
    "        dataset_mean (torch.Tensor): Mean for input normalization.\n",
    "        dataset_std (torch.Tensor): Standard deviation for input normalization.\n",
    "        t_scalar (float): Scalar value to create the time vector.\n",
    "        device (str, optional): Device to perform computations on. Defaults to 'cuda'.\n",
    "        progress_bar (bool, optional): Whether to display a progress bar. Defaults to True.\n",
    "\n",
    "    Returns:\n",
    "        dict: A dictionary with layer keys and concatenated activation tensors.\n",
    "    \"\"\"\n",
    "    feature_col = defaultdict(list)\n",
    "    loader = tqdm(data_loader) if progress_bar else data_loader\n",
    "    for X_batch, _ in loader:\n",
    "        # Prepare model inputs\n",
    "        model_kwargs = {'y': th.zeros(X_batch.size(0), dtype=th.int, device=device)}\n",
    "        t_vec = th.ones(X_batch.size(0), dtype=th.float, device=device) * t_scalar\n",
    "        # Normalize the batch\n",
    "        X_batch_norm = (X_batch.cuda().float() - dataset_Xmean) / dataset_Xstd\n",
    "        # Forward pass with no gradient computation\n",
    "        with th.no_grad():\n",
    "            model.forward(X_batch_norm, t_vec, **model_kwargs)\n",
    "        # Collect activations\n",
    "        for key, activations in fetcher.activations.items():\n",
    "            feature_col[key].append(activations.cpu())\n",
    "\n",
    "    # Concatenate all activations for each layer\n",
    "    for key in feature_col:\n",
    "        feature_col[key] = th.cat(feature_col[key], dim=0)\n",
    "        print(f\"{key}: {feature_col[key].shape}\")\n",
    "    return feature_col"
   ]
  },
  {
   "cell_type": "markdown",
   "metadata": {},
   "source": [
    "#### Block output late"
   ]
  },
  {
   "cell_type": "code",
   "execution_count": 30,
   "metadata": {},
   "outputs": [
    {
     "name": "stdout",
     "output_type": "stream",
     "text": [
      "FeatureFetcher hooks all freed\n"
     ]
    },
    {
     "name": "stderr",
     "output_type": "stream",
     "text": [
      "100%|███████████████████████████████████████████████████████████████████████████████████████████████████████████████████| 59/59 [00:36<00:00,  1.60it/s]\n"
     ]
    },
    {
     "name": "stdout",
     "output_type": "stream",
     "text": [
      "blocks5: torch.Size([120000, 81, 384])\n",
      "blocks11: torch.Size([120000, 81, 384])\n"
     ]
    },
    {
     "name": "stderr",
     "output_type": "stream",
     "text": [
      "100%|███████████████████████████████████████████████████████████████████████████████████████████████████████████████████| 20/20 [00:12<00:00,  1.63it/s]\n"
     ]
    },
    {
     "name": "stdout",
     "output_type": "stream",
     "text": [
      "blocks5: torch.Size([40000, 81, 384])\n",
      "blocks11: torch.Size([40000, 81, 384])\n"
     ]
    }
   ],
   "source": [
    "t_scalar = 800\n",
    "fetcher = featureFetcher_module()\n",
    "for i in (5,11):#range(len(model.blocks)):\n",
    "    fetcher.record_module(model_DiT.blocks[i], target_name=f\"blocks{i}\")\n",
    "train_loader = DataLoader(train_dataset, batch_size=2048, shuffle=False, drop_last=False)\n",
    "test_loader = DataLoader(test_dataset, batch_size=2048, shuffle=False)\n",
    "feature_col = extract_features_DiT(model_DiT, fetcher, train_loader, dataset_Xmean, dataset_Xstd, t_scalar)\n",
    "feature_col_test = extract_features_DiT(model_DiT, fetcher, test_loader, dataset_Xmean, dataset_Xstd, t_scalar)"
   ]
  },
  {
   "cell_type": "code",
   "execution_count": 31,
   "metadata": {},
   "outputs": [
    {
     "name": "stdout",
     "output_type": "stream",
     "text": [
      "Processing layer: blocks5\n",
      "PCA components for layer blocks5: U shape torch.Size([120000, 1024]), S shape torch.Size([1024]), V shape torch.Size([31104, 1024])\n",
      "Epoch [1/5000], Loss: 3.8409, Accuracy: 0.0249\n",
      "Epoch [250/5000], Loss: 1.1817, Accuracy: 0.6443\n",
      "Epoch [500/5000], Loss: 1.0488, Accuracy: 0.6753\n",
      "Epoch [750/5000], Loss: 0.9915, Accuracy: 0.6892\n",
      "Epoch [1000/5000], Loss: 0.9582, Accuracy: 0.6976\n",
      "Test Accuracy: 0.5814\n",
      "Epoch [1250/5000], Loss: 0.9361, Accuracy: 0.7038\n",
      "Epoch [1500/5000], Loss: 0.9202, Accuracy: 0.7080\n",
      "Epoch [1750/5000], Loss: 0.9082, Accuracy: 0.7108\n",
      "Epoch [2000/5000], Loss: 0.8989, Accuracy: 0.7131\n",
      "Test Accuracy: 0.5960\n",
      "Epoch [2250/5000], Loss: 0.8914, Accuracy: 0.7148\n",
      "Epoch [2500/5000], Loss: 0.8853, Accuracy: 0.7162\n",
      "Epoch [2750/5000], Loss: 0.8803, Accuracy: 0.7173\n",
      "Epoch [3000/5000], Loss: 0.8760, Accuracy: 0.7181\n",
      "Test Accuracy: 0.6004\n",
      "Epoch [3250/5000], Loss: 0.8724, Accuracy: 0.7190\n",
      "Epoch [3500/5000], Loss: 0.8693, Accuracy: 0.7196\n",
      "Epoch [3750/5000], Loss: 0.8667, Accuracy: 0.7202\n",
      "Epoch [4000/5000], Loss: 0.8644, Accuracy: 0.7206\n",
      "Test Accuracy: 0.6016\n",
      "Epoch [4250/5000], Loss: 0.8624, Accuracy: 0.7210\n",
      "Epoch [4500/5000], Loss: 0.8606, Accuracy: 0.7214\n",
      "Epoch [4750/5000], Loss: 0.8590, Accuracy: 0.7217\n",
      "Epoch [5000/5000], Loss: 0.8577, Accuracy: 0.7219\n",
      "Test Accuracy: 0.6028\n",
      "Test Accuracy: 0.6028\n",
      "Layer blocks5 - PCA time: 1.47s, PCA transform time: 11.32s, Training time: 37.42s\n",
      "Processing layer: blocks11\n",
      "PCA components for layer blocks11: U shape torch.Size([120000, 1024]), S shape torch.Size([1024]), V shape torch.Size([31104, 1024])\n",
      "Epoch [1/5000], Loss: 3.8412, Accuracy: 0.0256\n",
      "Epoch [250/5000], Loss: 1.1199, Accuracy: 0.6577\n",
      "Epoch [500/5000], Loss: 1.0035, Accuracy: 0.6863\n",
      "Epoch [750/5000], Loss: 0.9523, Accuracy: 0.7002\n",
      "Epoch [1000/5000], Loss: 0.9222, Accuracy: 0.7086\n",
      "Test Accuracy: 0.5920\n",
      "Epoch [1250/5000], Loss: 0.9021, Accuracy: 0.7141\n",
      "Epoch [1500/5000], Loss: 0.8878, Accuracy: 0.7176\n",
      "Epoch [1750/5000], Loss: 0.8770, Accuracy: 0.7203\n",
      "Epoch [2000/5000], Loss: 0.8687, Accuracy: 0.7221\n",
      "Test Accuracy: 0.6037\n",
      "Epoch [2250/5000], Loss: 0.8621, Accuracy: 0.7240\n",
      "Epoch [2500/5000], Loss: 0.8567, Accuracy: 0.7253\n",
      "Epoch [2750/5000], Loss: 0.8523, Accuracy: 0.7264\n",
      "Epoch [3000/5000], Loss: 0.8487, Accuracy: 0.7274\n",
      "Test Accuracy: 0.6072\n",
      "Epoch [3250/5000], Loss: 0.8456, Accuracy: 0.7280\n",
      "Epoch [3500/5000], Loss: 0.8430, Accuracy: 0.7286\n",
      "Epoch [3750/5000], Loss: 0.8408, Accuracy: 0.7289\n",
      "Epoch [4000/5000], Loss: 0.8388, Accuracy: 0.7292\n",
      "Test Accuracy: 0.6089\n",
      "Epoch [4250/5000], Loss: 0.8371, Accuracy: 0.7297\n",
      "Epoch [4500/5000], Loss: 0.8356, Accuracy: 0.7301\n",
      "Epoch [4750/5000], Loss: 0.8343, Accuracy: 0.7302\n",
      "Epoch [5000/5000], Loss: 0.8331, Accuracy: 0.7305\n",
      "Test Accuracy: 0.6094\n",
      "Test Accuracy: 0.6094\n",
      "Layer blocks11 - PCA time: 1.48s, PCA transform time: 10.93s, Training time: 37.46s\n"
     ]
    }
   ],
   "source": [
    "model_PCA_col, PC_proj_col, results_col = train_pca_sgd_classifiers(\n",
    "    feature_col, feature_col_test, y_train, y_test,\n",
    "    PC_dim=1024, noPCA=False, num_classes=40, batch_size=None,\n",
    "    num_epochs=5000, print_every=250, eval_every=1000, learning_rate=0.005,\n",
    "    device='cuda'\n",
    ")"
   ]
  },
  {
   "cell_type": "markdown",
   "metadata": {},
   "source": [
    "#### Block output very early"
   ]
  },
  {
   "cell_type": "code",
   "execution_count": 32,
   "metadata": {},
   "outputs": [
    {
     "name": "stderr",
     "output_type": "stream",
     "text": [
      "100%|███████████████████████████████████████████████████████████████████████████████████████████████████████████████████| 59/59 [00:44<00:00,  1.34it/s]\n"
     ]
    },
    {
     "name": "stdout",
     "output_type": "stream",
     "text": [
      "blocks5: torch.Size([120000, 81, 384])\n",
      "blocks11: torch.Size([120000, 81, 384])\n"
     ]
    },
    {
     "name": "stderr",
     "output_type": "stream",
     "text": [
      "100%|███████████████████████████████████████████████████████████████████████████████████████████████████████████████████| 20/20 [00:14<00:00,  1.36it/s]\n"
     ]
    },
    {
     "name": "stdout",
     "output_type": "stream",
     "text": [
      "blocks5: torch.Size([40000, 81, 384])\n",
      "blocks11: torch.Size([40000, 81, 384])\n"
     ]
    }
   ],
   "source": [
    "t_scalar = 10\n",
    "fetcher = featureFetcher_module()\n",
    "for i in (5,11):#range(len(model.blocks)):\n",
    "    fetcher.record_module(model_DiT.blocks[i], target_name=f\"blocks{i}\")\n",
    "train_loader = DataLoader(train_dataset, batch_size=2048, shuffle=False, drop_last=False)\n",
    "test_loader = DataLoader(test_dataset, batch_size=2048, shuffle=False)\n",
    "feature_col = extract_features_DiT(model_DiT, fetcher, train_loader, dataset_Xmean, dataset_Xstd, t_scalar)\n",
    "feature_col_test = extract_features_DiT(model_DiT, fetcher, test_loader, dataset_Xmean, dataset_Xstd, t_scalar)"
   ]
  },
  {
   "cell_type": "code",
   "execution_count": 33,
   "metadata": {},
   "outputs": [
    {
     "name": "stdout",
     "output_type": "stream",
     "text": [
      "Processing layer: blocks5\n",
      "PCA components for layer blocks5: U shape torch.Size([120000, 1024]), S shape torch.Size([1024]), V shape torch.Size([31104, 1024])\n",
      "Epoch [1/5000], Loss: 3.8574, Accuracy: 0.0254\n",
      "Epoch [250/5000], Loss: 0.7656, Accuracy: 0.7795\n",
      "Epoch [500/5000], Loss: 0.6053, Accuracy: 0.8177\n",
      "Epoch [750/5000], Loss: 0.5363, Accuracy: 0.8343\n",
      "Epoch [1000/5000], Loss: 0.4953, Accuracy: 0.8446\n",
      "Test Accuracy: 0.7292\n",
      "Epoch [1250/5000], Loss: 0.4672, Accuracy: 0.8517\n",
      "Epoch [1500/5000], Loss: 0.4464, Accuracy: 0.8570\n",
      "Epoch [1750/5000], Loss: 0.4303, Accuracy: 0.8613\n",
      "Epoch [2000/5000], Loss: 0.4173, Accuracy: 0.8647\n",
      "Test Accuracy: 0.7409\n",
      "Epoch [2250/5000], Loss: 0.4065, Accuracy: 0.8674\n",
      "Epoch [2500/5000], Loss: 0.3974, Accuracy: 0.8701\n",
      "Epoch [2750/5000], Loss: 0.3896, Accuracy: 0.8723\n",
      "Epoch [3000/5000], Loss: 0.3829, Accuracy: 0.8740\n",
      "Test Accuracy: 0.7435\n",
      "Epoch [3250/5000], Loss: 0.3769, Accuracy: 0.8754\n",
      "Epoch [3500/5000], Loss: 0.3717, Accuracy: 0.8767\n",
      "Epoch [3750/5000], Loss: 0.3670, Accuracy: 0.8783\n",
      "Epoch [4000/5000], Loss: 0.3627, Accuracy: 0.8791\n",
      "Test Accuracy: 0.7440\n",
      "Epoch [4250/5000], Loss: 0.3589, Accuracy: 0.8800\n",
      "Epoch [4500/5000], Loss: 0.3554, Accuracy: 0.8810\n",
      "Epoch [4750/5000], Loss: 0.3522, Accuracy: 0.8817\n",
      "Epoch [5000/5000], Loss: 0.3492, Accuracy: 0.8826\n",
      "Test Accuracy: 0.7442\n",
      "Test Accuracy: 0.7442\n",
      "Layer blocks5 - PCA time: 1.48s, PCA transform time: 10.94s, Training time: 37.55s\n",
      "Processing layer: blocks11\n",
      "PCA components for layer blocks11: U shape torch.Size([120000, 1024]), S shape torch.Size([1024]), V shape torch.Size([31104, 1024])\n",
      "Epoch [1/5000], Loss: 3.8556, Accuracy: 0.0246\n",
      "Epoch [250/5000], Loss: 0.1080, Accuracy: 0.9860\n",
      "Epoch [500/5000], Loss: 0.0602, Accuracy: 0.9941\n",
      "Epoch [750/5000], Loss: 0.0409, Accuracy: 0.9970\n",
      "Epoch [1000/5000], Loss: 0.0303, Accuracy: 0.9983\n",
      "Test Accuracy: 0.9329\n",
      "Epoch [1250/5000], Loss: 0.0235, Accuracy: 0.9991\n",
      "Epoch [1500/5000], Loss: 0.0188, Accuracy: 0.9995\n",
      "Epoch [1750/5000], Loss: 0.0153, Accuracy: 0.9998\n",
      "Epoch [2000/5000], Loss: 0.0127, Accuracy: 0.9999\n",
      "Test Accuracy: 0.9303\n",
      "Epoch [2250/5000], Loss: 0.0107, Accuracy: 1.0000\n",
      "Epoch [2500/5000], Loss: 0.0091, Accuracy: 1.0000\n",
      "Epoch [2750/5000], Loss: 0.0077, Accuracy: 1.0000\n",
      "Epoch [3000/5000], Loss: 0.0067, Accuracy: 1.0000\n",
      "Test Accuracy: 0.9266\n",
      "Epoch [3250/5000], Loss: 0.0058, Accuracy: 1.0000\n",
      "Epoch [3500/5000], Loss: 0.0050, Accuracy: 1.0000\n",
      "Epoch [3750/5000], Loss: 0.0043, Accuracy: 1.0000\n",
      "Epoch [4000/5000], Loss: 0.0038, Accuracy: 1.0000\n",
      "Test Accuracy: 0.9234\n",
      "Epoch [4250/5000], Loss: 0.0033, Accuracy: 1.0000\n",
      "Epoch [4500/5000], Loss: 0.0029, Accuracy: 1.0000\n",
      "Epoch [4750/5000], Loss: 0.0025, Accuracy: 1.0000\n",
      "Epoch [5000/5000], Loss: 0.0022, Accuracy: 1.0000\n",
      "Test Accuracy: 0.9212\n",
      "Test Accuracy: 0.9212\n",
      "Layer blocks11 - PCA time: 1.48s, PCA transform time: 10.88s, Training time: 37.67s\n"
     ]
    }
   ],
   "source": [
    "model_PCA_col, PC_proj_col, results_col = train_pca_sgd_classifiers(\n",
    "    feature_col, feature_col_test, y_train, y_test,\n",
    "    PC_dim=1024, noPCA=False, num_classes=40, batch_size=None,\n",
    "    num_epochs=5000, print_every=250, eval_every=1000, learning_rate=0.005,\n",
    "    device='cuda'\n",
    ")"
   ]
  },
  {
   "cell_type": "code",
   "execution_count": 34,
   "metadata": {},
   "outputs": [
    {
     "name": "stdout",
     "output_type": "stream",
     "text": [
      "Processing layer: blocks5\n",
      "PCA components for layer blocks5: U shape torch.Size([120000, 512]), S shape torch.Size([512]), V shape torch.Size([31104, 512])\n",
      "Epoch [1/5000], Loss: 3.8423, Accuracy: 0.0261\n",
      "Epoch [250/5000], Loss: 1.4291, Accuracy: 0.5718\n",
      "Epoch [500/5000], Loss: 1.2278, Accuracy: 0.6160\n",
      "Epoch [750/5000], Loss: 1.1432, Accuracy: 0.6361\n",
      "Epoch [1000/5000], Loss: 1.0947, Accuracy: 0.6474\n",
      "Test Accuracy: 0.5824\n",
      "Epoch [1250/5000], Loss: 1.0629, Accuracy: 0.6552\n",
      "Epoch [1500/5000], Loss: 1.0402, Accuracy: 0.6610\n",
      "Epoch [1750/5000], Loss: 1.0232, Accuracy: 0.6657\n",
      "Epoch [2000/5000], Loss: 1.0100, Accuracy: 0.6695\n",
      "Test Accuracy: 0.6057\n",
      "Epoch [2250/5000], Loss: 0.9995, Accuracy: 0.6722\n",
      "Epoch [2500/5000], Loss: 0.9909, Accuracy: 0.6739\n",
      "Epoch [2750/5000], Loss: 0.9838, Accuracy: 0.6757\n",
      "Epoch [3000/5000], Loss: 0.9779, Accuracy: 0.6777\n",
      "Test Accuracy: 0.6154\n",
      "Epoch [3250/5000], Loss: 0.9729, Accuracy: 0.6790\n",
      "Epoch [3500/5000], Loss: 0.9685, Accuracy: 0.6797\n",
      "Epoch [3750/5000], Loss: 0.9648, Accuracy: 0.6809\n",
      "Epoch [4000/5000], Loss: 0.9616, Accuracy: 0.6819\n",
      "Test Accuracy: 0.6207\n",
      "Epoch [4250/5000], Loss: 0.9589, Accuracy: 0.6827\n",
      "Epoch [4500/5000], Loss: 0.9564, Accuracy: 0.6834\n",
      "Epoch [4750/5000], Loss: 0.9543, Accuracy: 0.6842\n",
      "Epoch [5000/5000], Loss: 0.9525, Accuracy: 0.6845\n",
      "Test Accuracy: 0.6232\n",
      "Test Accuracy: 0.6232\n",
      "Layer blocks5 - PCA time: 1.50s, PCA transform time: 8.52s, Training time: 32.59s\n",
      "Processing layer: blocks11\n",
      "PCA components for layer blocks11: U shape torch.Size([120000, 512]), S shape torch.Size([512]), V shape torch.Size([31104, 512])\n",
      "Epoch [1/5000], Loss: 3.8341, Accuracy: 0.0269\n",
      "Epoch [250/5000], Loss: 0.2615, Accuracy: 0.9441\n",
      "Epoch [500/5000], Loss: 0.1767, Accuracy: 0.9619\n",
      "Epoch [750/5000], Loss: 0.1403, Accuracy: 0.9698\n",
      "Epoch [1000/5000], Loss: 0.1185, Accuracy: 0.9749\n",
      "Test Accuracy: 0.9365\n",
      "Epoch [1250/5000], Loss: 0.1034, Accuracy: 0.9786\n",
      "Epoch [1500/5000], Loss: 0.0921, Accuracy: 0.9812\n",
      "Epoch [1750/5000], Loss: 0.0832, Accuracy: 0.9831\n",
      "Epoch [2000/5000], Loss: 0.0760, Accuracy: 0.9846\n",
      "Test Accuracy: 0.9415\n",
      "Epoch [2250/5000], Loss: 0.0698, Accuracy: 0.9860\n",
      "Epoch [2500/5000], Loss: 0.0646, Accuracy: 0.9870\n",
      "Epoch [2750/5000], Loss: 0.0600, Accuracy: 0.9879\n",
      "Epoch [3000/5000], Loss: 0.0559, Accuracy: 0.9888\n",
      "Test Accuracy: 0.9427\n",
      "Epoch [3250/5000], Loss: 0.0523, Accuracy: 0.9896\n",
      "Epoch [3500/5000], Loss: 0.0491, Accuracy: 0.9903\n",
      "Epoch [3750/5000], Loss: 0.0461, Accuracy: 0.9909\n",
      "Epoch [4000/5000], Loss: 0.0434, Accuracy: 0.9915\n",
      "Test Accuracy: 0.9421\n",
      "Epoch [4250/5000], Loss: 0.0409, Accuracy: 0.9920\n",
      "Epoch [4500/5000], Loss: 0.0386, Accuracy: 0.9925\n",
      "Epoch [4750/5000], Loss: 0.0364, Accuracy: 0.9929\n",
      "Epoch [5000/5000], Loss: 0.0345, Accuracy: 0.9933\n",
      "Test Accuracy: 0.9406\n",
      "Test Accuracy: 0.9406\n",
      "Layer blocks11 - PCA time: 1.49s, PCA transform time: 8.47s, Training time: 32.35s\n"
     ]
    }
   ],
   "source": [
    "model_PCA_col, PC_proj_col, results_col = train_pca_sgd_classifiers(\n",
    "    feature_col, feature_col_test, y_train, y_test,\n",
    "    PC_dim=512, noPCA=False, num_classes=40, batch_size=None,\n",
    "    num_epochs=5000, print_every=250, eval_every=1000, learning_rate=0.005,\n",
    "    device='cuda'\n",
    ")"
   ]
  },
  {
   "cell_type": "code",
   "execution_count": 35,
   "metadata": {},
   "outputs": [
    {
     "name": "stdout",
     "output_type": "stream",
     "text": [
      "Processing layer: blocks5\n",
      "PCA components for layer blocks5: U shape torch.Size([120000, 384]), S shape torch.Size([384]), V shape torch.Size([31104, 384])\n",
      "Epoch [1/5000], Loss: 3.8581, Accuracy: 0.0237\n",
      "Epoch [250/5000], Loss: 1.5285, Accuracy: 0.5457\n",
      "Epoch [500/5000], Loss: 1.3197, Accuracy: 0.5902\n",
      "Epoch [750/5000], Loss: 1.2325, Accuracy: 0.6099\n",
      "Epoch [1000/5000], Loss: 1.1833, Accuracy: 0.6212\n",
      "Test Accuracy: 0.5766\n",
      "Epoch [1250/5000], Loss: 1.1514, Accuracy: 0.6288\n",
      "Epoch [1500/5000], Loss: 1.1290, Accuracy: 0.6350\n",
      "Epoch [1750/5000], Loss: 1.1125, Accuracy: 0.6399\n",
      "Epoch [2000/5000], Loss: 1.0998, Accuracy: 0.6431\n",
      "Test Accuracy: 0.5998\n",
      "Epoch [2250/5000], Loss: 1.0899, Accuracy: 0.6454\n",
      "Epoch [2500/5000], Loss: 1.0818, Accuracy: 0.6473\n",
      "Epoch [2750/5000], Loss: 1.0752, Accuracy: 0.6491\n",
      "Epoch [3000/5000], Loss: 1.0697, Accuracy: 0.6505\n",
      "Test Accuracy: 0.6087\n",
      "Epoch [3250/5000], Loss: 1.0651, Accuracy: 0.6518\n",
      "Epoch [3500/5000], Loss: 1.0611, Accuracy: 0.6529\n",
      "Epoch [3750/5000], Loss: 1.0577, Accuracy: 0.6536\n",
      "Epoch [4000/5000], Loss: 1.0548, Accuracy: 0.6545\n",
      "Test Accuracy: 0.6132\n",
      "Epoch [4250/5000], Loss: 1.0523, Accuracy: 0.6555\n",
      "Epoch [4500/5000], Loss: 1.0501, Accuracy: 0.6560\n",
      "Epoch [4750/5000], Loss: 1.0482, Accuracy: 0.6564\n",
      "Epoch [5000/5000], Loss: 1.0465, Accuracy: 0.6569\n",
      "Test Accuracy: 0.6146\n",
      "Test Accuracy: 0.6146\n",
      "Layer blocks5 - PCA time: 1.47s, PCA transform time: 7.95s, Training time: 31.30s\n",
      "Processing layer: blocks11\n",
      "PCA components for layer blocks11: U shape torch.Size([120000, 384]), S shape torch.Size([384]), V shape torch.Size([31104, 384])\n",
      "Epoch [1/5000], Loss: 3.8391, Accuracy: 0.0260\n",
      "Epoch [250/5000], Loss: 0.3341, Accuracy: 0.9249\n",
      "Epoch [500/5000], Loss: 0.2324, Accuracy: 0.9469\n",
      "Epoch [750/5000], Loss: 0.1886, Accuracy: 0.9570\n",
      "Epoch [1000/5000], Loss: 0.1626, Accuracy: 0.9629\n",
      "Test Accuracy: 0.9317\n",
      "Epoch [1250/5000], Loss: 0.1446, Accuracy: 0.9671\n",
      "Epoch [1500/5000], Loss: 0.1313, Accuracy: 0.9700\n",
      "Epoch [1750/5000], Loss: 0.1207, Accuracy: 0.9728\n",
      "Epoch [2000/5000], Loss: 0.1121, Accuracy: 0.9747\n",
      "Test Accuracy: 0.9409\n",
      "Epoch [2250/5000], Loss: 0.1049, Accuracy: 0.9762\n",
      "Epoch [2500/5000], Loss: 0.0987, Accuracy: 0.9774\n",
      "Epoch [2750/5000], Loss: 0.0933, Accuracy: 0.9784\n",
      "Epoch [3000/5000], Loss: 0.0885, Accuracy: 0.9794\n",
      "Test Accuracy: 0.9436\n",
      "Epoch [3250/5000], Loss: 0.0842, Accuracy: 0.9805\n",
      "Epoch [3500/5000], Loss: 0.0804, Accuracy: 0.9814\n",
      "Epoch [3750/5000], Loss: 0.0769, Accuracy: 0.9820\n",
      "Epoch [4000/5000], Loss: 0.0738, Accuracy: 0.9828\n",
      "Test Accuracy: 0.9442\n",
      "Epoch [4250/5000], Loss: 0.0709, Accuracy: 0.9834\n",
      "Epoch [4500/5000], Loss: 0.0682, Accuracy: 0.9838\n",
      "Epoch [4750/5000], Loss: 0.0657, Accuracy: 0.9843\n",
      "Epoch [5000/5000], Loss: 0.0635, Accuracy: 0.9847\n",
      "Test Accuracy: 0.9440\n",
      "Test Accuracy: 0.9440\n",
      "Layer blocks11 - PCA time: 1.47s, PCA transform time: 7.96s, Training time: 32.23s\n"
     ]
    }
   ],
   "source": [
    "model_PCA_col, PC_proj_col, results_col = train_pca_sgd_classifiers(\n",
    "    feature_col, feature_col_test, y_train, y_test,\n",
    "    PC_dim=384, noPCA=False, num_classes=40, batch_size=None,\n",
    "    num_epochs=5000, print_every=250, eval_every=1000, learning_rate=0.005,\n",
    "    device='cuda'\n",
    ")"
   ]
  },
  {
   "cell_type": "code",
   "execution_count": 36,
   "metadata": {},
   "outputs": [
    {
     "data": {
      "text/plain": [
       "torch.Size([120000, 81, 384])"
      ]
     },
     "execution_count": 36,
     "metadata": {},
     "output_type": "execute_result"
    }
   ],
   "source": []
  },
  {
   "cell_type": "markdown",
   "metadata": {},
   "source": [
    "#### Block output early"
   ]
  },
  {
   "cell_type": "code",
   "execution_count": 37,
   "metadata": {},
   "outputs": [
    {
     "name": "stderr",
     "output_type": "stream",
     "text": [
      "  0%|                                                                                                                            | 0/59 [00:00<?, ?it/s]"
     ]
    },
    {
     "name": "stderr",
     "output_type": "stream",
     "text": [
      "100%|███████████████████████████████████████████████████████████████████████████████████████████████████████████████████| 59/59 [00:50<00:00,  1.17it/s]\n"
     ]
    },
    {
     "name": "stdout",
     "output_type": "stream",
     "text": [
      "blocks5: torch.Size([120000, 81, 384])\n",
      "blocks11: torch.Size([120000, 81, 384])\n"
     ]
    },
    {
     "name": "stderr",
     "output_type": "stream",
     "text": [
      "100%|███████████████████████████████████████████████████████████████████████████████████████████████████████████████████| 20/20 [00:16<00:00,  1.18it/s]\n"
     ]
    },
    {
     "name": "stdout",
     "output_type": "stream",
     "text": [
      "blocks5: torch.Size([40000, 81, 384])\n",
      "blocks11: torch.Size([40000, 81, 384])\n"
     ]
    }
   ],
   "source": [
    "t_scalar = 50\n",
    "fetcher = featureFetcher_module()\n",
    "for i in (5,11): #range(len(model.blocks)):\n",
    "    fetcher.record_module(model_DiT.blocks[i], target_name=f\"blocks{i}\")\n",
    "train_loader = DataLoader(train_dataset, batch_size=2048, shuffle=False, drop_last=False)\n",
    "test_loader = DataLoader(test_dataset, batch_size=2048, shuffle=False)\n",
    "feature_col = extract_features_DiT(model_DiT, fetcher, train_loader, dataset_Xmean, dataset_Xstd, t_scalar)\n",
    "feature_col_test = extract_features_DiT(model_DiT, fetcher, test_loader, dataset_Xmean, dataset_Xstd, t_scalar)"
   ]
  },
  {
   "cell_type": "code",
   "execution_count": 38,
   "metadata": {},
   "outputs": [
    {
     "name": "stdout",
     "output_type": "stream",
     "text": [
      "Processing layer: blocks5\n",
      "PCA components for layer blocks5: U shape torch.Size([120000, 512]), S shape torch.Size([512]), V shape torch.Size([31104, 512])\n",
      "Epoch [1/5000], Loss: 3.8376, Accuracy: 0.0284\n",
      "Epoch [250/5000], Loss: 0.6023, Accuracy: 0.8185\n",
      "Epoch [500/5000], Loss: 0.4908, Accuracy: 0.8446\n",
      "Epoch [750/5000], Loss: 0.4434, Accuracy: 0.8561\n",
      "Epoch [1000/5000], Loss: 0.4156, Accuracy: 0.8632\n",
      "Test Accuracy: 0.8135\n",
      "Epoch [1250/5000], Loss: 0.3968, Accuracy: 0.8680\n",
      "Epoch [1500/5000], Loss: 0.3830, Accuracy: 0.8715\n",
      "Epoch [1750/5000], Loss: 0.3725, Accuracy: 0.8747\n",
      "Epoch [2000/5000], Loss: 0.3641, Accuracy: 0.8768\n",
      "Test Accuracy: 0.8250\n",
      "Epoch [2250/5000], Loss: 0.3573, Accuracy: 0.8786\n",
      "Epoch [2500/5000], Loss: 0.3517, Accuracy: 0.8799\n",
      "Epoch [2750/5000], Loss: 0.3470, Accuracy: 0.8807\n",
      "Epoch [3000/5000], Loss: 0.3431, Accuracy: 0.8815\n",
      "Test Accuracy: 0.8291\n",
      "Epoch [3250/5000], Loss: 0.3397, Accuracy: 0.8823\n",
      "Epoch [3500/5000], Loss: 0.3368, Accuracy: 0.8828\n",
      "Epoch [3750/5000], Loss: 0.3343, Accuracy: 0.8834\n",
      "Epoch [4000/5000], Loss: 0.3322, Accuracy: 0.8840\n",
      "Test Accuracy: 0.8310\n",
      "Epoch [4250/5000], Loss: 0.3303, Accuracy: 0.8844\n",
      "Epoch [4500/5000], Loss: 0.3286, Accuracy: 0.8846\n",
      "Epoch [4750/5000], Loss: 0.3272, Accuracy: 0.8851\n",
      "Epoch [5000/5000], Loss: 0.3260, Accuracy: 0.8853\n",
      "Test Accuracy: 0.8320\n",
      "Test Accuracy: 0.8320\n",
      "Layer blocks5 - PCA time: 1.69s, PCA transform time: 9.94s, Training time: 33.73s\n",
      "Processing layer: blocks11\n",
      "PCA components for layer blocks11: U shape torch.Size([120000, 512]), S shape torch.Size([512]), V shape torch.Size([31104, 512])\n",
      "Epoch [1/5000], Loss: 3.8949, Accuracy: 0.0213\n",
      "Epoch [250/5000], Loss: 0.0444, Accuracy: 0.9912\n",
      "Epoch [500/5000], Loss: 0.0287, Accuracy: 0.9939\n",
      "Epoch [750/5000], Loss: 0.0225, Accuracy: 0.9949\n",
      "Epoch [1000/5000], Loss: 0.0191, Accuracy: 0.9955\n",
      "Test Accuracy: 0.9796\n",
      "Epoch [1250/5000], Loss: 0.0168, Accuracy: 0.9960\n",
      "Epoch [1500/5000], Loss: 0.0151, Accuracy: 0.9964\n",
      "Epoch [1750/5000], Loss: 0.0138, Accuracy: 0.9967\n",
      "Epoch [2000/5000], Loss: 0.0128, Accuracy: 0.9970\n",
      "Test Accuracy: 0.9782\n",
      "Epoch [2250/5000], Loss: 0.0119, Accuracy: 0.9973\n",
      "Epoch [2500/5000], Loss: 0.0111, Accuracy: 0.9975\n",
      "Epoch [2750/5000], Loss: 0.0105, Accuracy: 0.9977\n",
      "Epoch [3000/5000], Loss: 0.0099, Accuracy: 0.9978\n",
      "Test Accuracy: 0.9765\n",
      "Epoch [3250/5000], Loss: 0.0093, Accuracy: 0.9979\n",
      "Epoch [3500/5000], Loss: 0.0088, Accuracy: 0.9980\n",
      "Epoch [3750/5000], Loss: 0.0084, Accuracy: 0.9981\n",
      "Epoch [4000/5000], Loss: 0.0080, Accuracy: 0.9982\n",
      "Test Accuracy: 0.9743\n",
      "Epoch [4250/5000], Loss: 0.0076, Accuracy: 0.9982\n",
      "Epoch [4500/5000], Loss: 0.0073, Accuracy: 0.9983\n",
      "Epoch [4750/5000], Loss: 0.0070, Accuracy: 0.9984\n",
      "Epoch [5000/5000], Loss: 0.0067, Accuracy: 0.9984\n",
      "Test Accuracy: 0.9722\n",
      "Test Accuracy: 0.9722\n",
      "Layer blocks11 - PCA time: 1.70s, PCA transform time: 9.89s, Training time: 33.69s\n"
     ]
    }
   ],
   "source": [
    "model_PCA_col, PC_proj_col, results_col = train_pca_sgd_classifiers(\n",
    "    feature_col, feature_col_test, y_train, y_test,\n",
    "    PC_dim=512, noPCA=False, num_classes=40, batch_size=None,\n",
    "    num_epochs=5000, print_every=250, eval_every=1000, learning_rate=0.005,\n",
    "    device='cuda'\n",
    ")"
   ]
  },
  {
   "cell_type": "code",
   "execution_count": 39,
   "metadata": {},
   "outputs": [
    {
     "data": {
      "text/plain": [
       "torch.Size([120000, 81, 384])"
      ]
     },
     "execution_count": 39,
     "metadata": {},
     "output_type": "execute_result"
    }
   ],
   "source": [
    "feature_col[\"blocks5\"].shape"
   ]
  },
  {
   "cell_type": "code",
   "execution_count": 40,
   "metadata": {},
   "outputs": [],
   "source": [
    "feature_avg_col = {k: v.mean(dim=1) for k, v in feature_col.items()}\n",
    "feature_avg_col_test = {k: v.mean(dim=1) for k, v in feature_col_test.items()}\n",
    "feature_last_col = {k: v[:, -1] for k, v in feature_col.items()}\n",
    "feature_last_col_test = {k: v[:, -1] for k, v in feature_col_test.items()}"
   ]
  },
  {
   "cell_type": "code",
   "execution_count": 41,
   "metadata": {},
   "outputs": [
    {
     "name": "stdout",
     "output_type": "stream",
     "text": [
      "Processing layer: blocks5\n",
      "Epoch [1/5000], Loss: 3.9141, Accuracy: 0.0180\n",
      "Epoch [250/5000], Loss: 0.3303, Accuracy: 0.8992\n",
      "Epoch [500/5000], Loss: 0.2603, Accuracy: 0.9168\n",
      "Epoch [750/5000], Loss: 0.2293, Accuracy: 0.9248\n",
      "Epoch [1000/5000], Loss: 0.2108, Accuracy: 0.9294\n",
      "Test Accuracy: 0.9074\n",
      "Epoch [1250/5000], Loss: 0.1981, Accuracy: 0.9330\n",
      "Epoch [1500/5000], Loss: 0.1887, Accuracy: 0.9356\n",
      "Epoch [1750/5000], Loss: 0.1813, Accuracy: 0.9377\n",
      "Epoch [2000/5000], Loss: 0.1754, Accuracy: 0.9394\n",
      "Test Accuracy: 0.9118\n",
      "Epoch [2250/5000], Loss: 0.1704, Accuracy: 0.9406\n",
      "Epoch [2500/5000], Loss: 0.1662, Accuracy: 0.9419\n",
      "Epoch [2750/5000], Loss: 0.1626, Accuracy: 0.9430\n",
      "Epoch [3000/5000], Loss: 0.1594, Accuracy: 0.9437\n",
      "Test Accuracy: 0.9134\n",
      "Epoch [3250/5000], Loss: 0.1566, Accuracy: 0.9444\n",
      "Epoch [3500/5000], Loss: 0.1541, Accuracy: 0.9453\n",
      "Epoch [3750/5000], Loss: 0.1519, Accuracy: 0.9462\n",
      "Epoch [4000/5000], Loss: 0.1499, Accuracy: 0.9467\n",
      "Test Accuracy: 0.9137\n",
      "Epoch [4250/5000], Loss: 0.1481, Accuracy: 0.9472\n",
      "Epoch [4500/5000], Loss: 0.1464, Accuracy: 0.9475\n",
      "Epoch [4750/5000], Loss: 0.1449, Accuracy: 0.9479\n",
      "Epoch [5000/5000], Loss: 0.1435, Accuracy: 0.9484\n",
      "Test Accuracy: 0.9135\n",
      "Test Accuracy: 0.9135\n",
      "Layer blocks5 - PCA time: 0.02s, PCA transform time: 0.10s, Training time: 32.39s\n",
      "Processing layer: blocks11\n",
      "Epoch [1/5000], Loss: 3.8440, Accuracy: 0.0203\n",
      "Epoch [250/5000], Loss: 0.0524, Accuracy: 0.9873\n",
      "Epoch [500/5000], Loss: 0.0356, Accuracy: 0.9907\n",
      "Epoch [750/5000], Loss: 0.0283, Accuracy: 0.9925\n",
      "Epoch [1000/5000], Loss: 0.0239, Accuracy: 0.9937\n",
      "Test Accuracy: 0.9859\n",
      "Epoch [1250/5000], Loss: 0.0209, Accuracy: 0.9945\n",
      "Epoch [1500/5000], Loss: 0.0187, Accuracy: 0.9951\n",
      "Epoch [1750/5000], Loss: 0.0169, Accuracy: 0.9955\n",
      "Epoch [2000/5000], Loss: 0.0155, Accuracy: 0.9959\n",
      "Test Accuracy: 0.9856\n",
      "Epoch [2250/5000], Loss: 0.0144, Accuracy: 0.9962\n",
      "Epoch [2500/5000], Loss: 0.0134, Accuracy: 0.9965\n",
      "Epoch [2750/5000], Loss: 0.0125, Accuracy: 0.9968\n",
      "Epoch [3000/5000], Loss: 0.0118, Accuracy: 0.9970\n",
      "Test Accuracy: 0.9851\n",
      "Epoch [3250/5000], Loss: 0.0111, Accuracy: 0.9971\n",
      "Epoch [3500/5000], Loss: 0.0105, Accuracy: 0.9973\n",
      "Epoch [3750/5000], Loss: 0.0099, Accuracy: 0.9975\n",
      "Epoch [4000/5000], Loss: 0.0094, Accuracy: 0.9976\n",
      "Test Accuracy: 0.9841\n",
      "Epoch [4250/5000], Loss: 0.0090, Accuracy: 0.9977\n",
      "Epoch [4500/5000], Loss: 0.0086, Accuracy: 0.9978\n",
      "Epoch [4750/5000], Loss: 0.0082, Accuracy: 0.9979\n",
      "Epoch [5000/5000], Loss: 0.0078, Accuracy: 0.9980\n",
      "Test Accuracy: 0.9834\n",
      "Test Accuracy: 0.9834\n",
      "Layer blocks11 - PCA time: 0.02s, PCA transform time: 0.09s, Training time: 31.98s\n"
     ]
    }
   ],
   "source": [
    "model_PCA_col, PC_proj_col, results_col = train_pca_sgd_classifiers(\n",
    "    feature_avg_col, feature_avg_col_test, y_train, y_test,\n",
    "    PC_dim=512, noPCA=True, num_classes=40, batch_size=None,\n",
    "    num_epochs=5000, print_every=250, eval_every=1000, learning_rate=0.005,\n",
    "    device='cuda'\n",
    ")"
   ]
  },
  {
   "cell_type": "code",
   "execution_count": 42,
   "metadata": {},
   "outputs": [
    {
     "name": "stdout",
     "output_type": "stream",
     "text": [
      "Processing layer: blocks5\n",
      "Epoch [1/5000], Loss: 3.8476, Accuracy: 0.0271\n",
      "Epoch [250/5000], Loss: 1.0351, Accuracy: 0.6681\n",
      "Epoch [500/5000], Loss: 0.9538, Accuracy: 0.6896\n",
      "Epoch [750/5000], Loss: 0.9183, Accuracy: 0.6993\n",
      "Epoch [1000/5000], Loss: 0.8973, Accuracy: 0.7046\n",
      "Test Accuracy: 0.6678\n",
      "Epoch [1250/5000], Loss: 0.8832, Accuracy: 0.7091\n",
      "Epoch [1500/5000], Loss: 0.8731, Accuracy: 0.7115\n",
      "Epoch [1750/5000], Loss: 0.8656, Accuracy: 0.7138\n",
      "Epoch [2000/5000], Loss: 0.8597, Accuracy: 0.7158\n",
      "Test Accuracy: 0.6763\n",
      "Epoch [2250/5000], Loss: 0.8551, Accuracy: 0.7173\n",
      "Epoch [2500/5000], Loss: 0.8513, Accuracy: 0.7181\n",
      "Epoch [2750/5000], Loss: 0.8483, Accuracy: 0.7189\n",
      "Epoch [3000/5000], Loss: 0.8456, Accuracy: 0.7197\n",
      "Test Accuracy: 0.6792\n",
      "Epoch [3250/5000], Loss: 0.8433, Accuracy: 0.7204\n",
      "Epoch [3500/5000], Loss: 0.8414, Accuracy: 0.7210\n",
      "Epoch [3750/5000], Loss: 0.8397, Accuracy: 0.7213\n",
      "Epoch [4000/5000], Loss: 0.8383, Accuracy: 0.7215\n",
      "Test Accuracy: 0.6798\n",
      "Epoch [4250/5000], Loss: 0.8373, Accuracy: 0.7216\n",
      "Epoch [4500/5000], Loss: 0.8360, Accuracy: 0.7223\n",
      "Epoch [4750/5000], Loss: 0.8350, Accuracy: 0.7224\n",
      "Epoch [5000/5000], Loss: 0.8342, Accuracy: 0.7227\n",
      "Test Accuracy: 0.6806\n",
      "Test Accuracy: 0.6806\n",
      "Layer blocks5 - PCA time: 0.02s, PCA transform time: 0.09s, Training time: 31.73s\n",
      "Processing layer: blocks11\n",
      "Epoch [1/5000], Loss: 3.8716, Accuracy: 0.0267\n",
      "Epoch [250/5000], Loss: 0.2838, Accuracy: 0.9292\n",
      "Epoch [500/5000], Loss: 0.2142, Accuracy: 0.9432\n",
      "Epoch [750/5000], Loss: 0.1852, Accuracy: 0.9498\n",
      "Epoch [1000/5000], Loss: 0.1683, Accuracy: 0.9539\n",
      "Test Accuracy: 0.9269\n",
      "Epoch [1250/5000], Loss: 0.1570, Accuracy: 0.9565\n",
      "Epoch [1500/5000], Loss: 0.1486, Accuracy: 0.9585\n",
      "Epoch [1750/5000], Loss: 0.1421, Accuracy: 0.9599\n",
      "Epoch [2000/5000], Loss: 0.1369, Accuracy: 0.9610\n",
      "Test Accuracy: 0.9266\n",
      "Epoch [2250/5000], Loss: 0.1326, Accuracy: 0.9621\n",
      "Epoch [2500/5000], Loss: 0.1290, Accuracy: 0.9631\n",
      "Epoch [2750/5000], Loss: 0.1259, Accuracy: 0.9637\n",
      "Epoch [3000/5000], Loss: 0.1232, Accuracy: 0.9643\n",
      "Test Accuracy: 0.9252\n",
      "Epoch [3250/5000], Loss: 0.1209, Accuracy: 0.9649\n",
      "Epoch [3500/5000], Loss: 0.1188, Accuracy: 0.9653\n",
      "Epoch [3750/5000], Loss: 0.1169, Accuracy: 0.9658\n",
      "Epoch [4000/5000], Loss: 0.1153, Accuracy: 0.9662\n",
      "Test Accuracy: 0.9240\n",
      "Epoch [4250/5000], Loss: 0.1138, Accuracy: 0.9666\n",
      "Epoch [4500/5000], Loss: 0.1124, Accuracy: 0.9668\n",
      "Epoch [4750/5000], Loss: 0.1112, Accuracy: 0.9670\n",
      "Epoch [5000/5000], Loss: 0.1101, Accuracy: 0.9673\n",
      "Test Accuracy: 0.9223\n",
      "Test Accuracy: 0.9223\n",
      "Layer blocks11 - PCA time: 0.02s, PCA transform time: 0.09s, Training time: 31.75s\n"
     ]
    }
   ],
   "source": [
    "model_PCA_col, PC_proj_col, results_col = train_pca_sgd_classifiers(\n",
    "    feature_last_col, feature_last_col_test, y_train, y_test,\n",
    "    PC_dim=512, noPCA=True, num_classes=40, batch_size=None,\n",
    "    num_epochs=5000, print_every=250, eval_every=1000, learning_rate=0.005,\n",
    "    device='cuda'\n",
    ")"
   ]
  },
  {
   "cell_type": "markdown",
   "metadata": {},
   "source": [
    "### UMap and repr similarity analysis"
   ]
  },
  {
   "cell_type": "code",
   "execution_count": 45,
   "metadata": {},
   "outputs": [],
   "source": [
    "from matplotlib.colors import ListedColormap\n",
    "# Define a discrete colormap\n",
    "cmap = ListedColormap(['#e41a1c','#377eb8','#4daf4a','#984ea3','#ff7f00','#ffff33','#a65628','#f781bf','#999999', '#d000d0'])\n",
    "row_table = {\n",
    "    0: \"Constant\",\n",
    "    1: \"Prog. neg 2\",\n",
    "    2: \"Prog. neg 1\",\n",
    "    3: \"Prog. pos 1\",\n",
    "    4: \"Prog. pos 2\",\n",
    "    5: \"Arith. pos\",\n",
    "    6: \"Arith. neg\",\n",
    "    7: \"XOR\",\n",
    "    8: \"OR\",\n",
    "    9: \"AND\"\n",
    "}"
   ]
  },
  {
   "cell_type": "code",
   "execution_count": 43,
   "metadata": {},
   "outputs": [
    {
     "data": {
      "text/plain": [
       "torch.Size([40000, 384])"
      ]
     },
     "execution_count": 43,
     "metadata": {},
     "output_type": "execute_result"
    }
   ],
   "source": [
    "feature_avg_col_test[\"blocks11\"].shape"
   ]
  },
  {
   "cell_type": "code",
   "execution_count": 44,
   "metadata": {},
   "outputs": [],
   "source": [
    "import umap\n",
    "import matplotlib.pyplot as plt\n",
    "# Assuming features is your feature matrix and labels is your label array\n",
    "reducer = umap.UMAP()\n",
    "embedding = reducer.fit_transform(feature_avg_col_test[\"blocks11\"])"
   ]
  },
  {
   "cell_type": "code",
   "execution_count": 58,
   "metadata": {},
   "outputs": [
    {
     "data": {
      "image/png": "[encoded data removed]",
      "text/plain": [
       "<Figure size 864x864 with 2 Axes>"
      ]
     },
     "metadata": {
      "needs_background": "light"
     },
     "output_type": "display_data"
    }
   ],
   "source": [
    "rela_test = (y_test % 10) \n",
    "plt.figure(figsize=(12, 12))\n",
    "plt.scatter(embedding[:, 0], embedding[:, 1], c=rela_test, cmap=cmap, s=5, alpha=0.5)\n",
    "plt.gca().set_aspect('equal', 'datalim')\n",
    "cb = plt.colorbar(boundaries=np.arange(11)-0.5)\n",
    "cb.set_ticks(np.arange(10))#boundaries=np.arange(41)-0.5).set_ticks(np.arange(40))\n",
    "cb.set_ticklabels([row_table[i] for i in range(10)])\n",
    "plt.title('UMAP projection of the dataset (abstract relation)', fontsize=20);"
   ]
  },
  {
   "cell_type": "code",
   "execution_count": 59,
   "metadata": {},
   "outputs": [
    {
     "data": {
      "image/png": "[encoded data removed]",
      "text/plain": [
       "<Figure size 864x864 with 2 Axes>"
      ]
     },
     "metadata": {
      "needs_background": "light"
     },
     "output_type": "display_data"
    }
   ],
   "source": [
    "attr_test = (y_test//10) + (y_test > 36).int()\n",
    "cmap = ListedColormap(sns.color_palette(\"Spectral\", 6))\n",
    "plt.figure(figsize=(12, 12))\n",
    "plt.scatter(embedding[:, 0], embedding[:, 1], c=attr_test, cmap=cmap, s=5, alpha=0.5)\n",
    "plt.gca().set_aspect('equal', 'datalim')\n",
    "cb = plt.colorbar(boundaries=np.arange(6)-0.5)\n",
    "cb.set_ticks(np.arange(5),)#[\"shape\",\"size\",\"color\",\"number\",\"position\"])\n",
    "cb.set_ticklabels([\"shape\",\"size\",\"color\",\"number\",\"position\"], fontsize=12)\n",
    "plt.title('UMAP projection of the dataset (attribute)', fontsize=20);"
   ]
  },
  {
   "cell_type": "markdown",
   "metadata": {},
   "source": [
    "### RSA structure"
   ]
  },
  {
   "cell_type": "code",
   "execution_count": 60,
   "metadata": {},
   "outputs": [],
   "source": [
    "from sklearn.metrics.pairwise import cosine_similarity\n",
    "layername = \"blocks11\"#\"dec.1x1_in1\"#\"dec.3x3_up\";#\"dec.1x1_in1\" # \"enc.1x1_down\"\n",
    "# Compute the cosine similarity matrix\n",
    "featmatr = feature_avg_col_test[layername].flatten(start_dim=1)#.squeeze()\n",
    "feat_shape = feature_avg_col_test[layername].shape[1:]\n",
    "feat_mean = featmatr.mean(dim=0)\n",
    "feat_cent = featmatr - feat_mean[None, :]\n",
    "featmat_sparse = feat_cent[::5,:]\n",
    "cosine_sim_matrix = cosine_similarity(featmat_sparse)\n",
    "# print(cosine_sim_matrix)\n",
    "n = cosine_sim_matrix.shape[0]\n",
    "reshaped = cosine_sim_matrix.reshape(40, n//40, 40, n//40)\n",
    "coarse_grained_matrix = reshaped.mean(axis=(1, 3))"
   ]
  },
  {
   "cell_type": "code",
   "execution_count": 61,
   "metadata": {},
   "outputs": [
    {
     "data": {
      "image/png": "[encoded data removed]",
      "text/plain": [
       "<Figure size 864x720 with 2 Axes>"
      ]
     },
     "metadata": {
      "needs_background": "light"
     },
     "output_type": "display_data"
    }
   ],
   "source": [
    "heldout_ids = heldout_rules\n",
    "plt.figure(figsize=(12,10))\n",
    "sns.heatmap(coarse_grained_matrix, annot=False, cmap='coolwarm', \n",
    "            xticklabels=True, yticklabels=True)\n",
    "for sep in [10,20,30]:\n",
    "    plt.axhline(sep, color=\"r\", linestyle=\":\")\n",
    "    plt.axvline(sep, color=\"r\", linestyle=\":\")\n",
    "xticks = plt.gca().get_xticklabels()\n",
    "yticks = plt.gca().get_yticklabels()\n",
    "for i, xtick in enumerate(xticks):\n",
    "    if i in heldout_ids:  # Change color of every 10th xtick label\n",
    "        xtick.set_color('red')\n",
    "for i, ytick in enumerate(yticks):\n",
    "    if i in heldout_ids:  # Change color of every 10th ytick label\n",
    "        ytick.set_color('red')\n",
    "plt.axis(\"image\")\n",
    "plt.title(f\"Cosine similarity matrix of {layername} features ({tuple(feat_shape)}) (coarse-grained)\\n{expname}\") #  (red=held-out)\n",
    "# saveallforms(fig_expdir, f\"cosine_sim_{layername}_t{t_str}\",)\n",
    "plt.show()"
   ]
  },
  {
   "cell_type": "markdown",
   "metadata": {},
   "source": [
    "### Overall Modulation layer? (not working..)"
   ]
  },
  {
   "cell_type": "code",
   "execution_count": 19,
   "metadata": {},
   "outputs": [
    {
     "name": "stdout",
     "output_type": "stream",
     "text": [
      "blocks.adaLN_modulation2 torch.Size([2, 2304])\n",
      "blocks.adaLN_modulation5 torch.Size([2, 2304])\n",
      "blocks.adaLN_modulation8 torch.Size([2, 2304])\n",
      "blocks.adaLN_modulation11 torch.Size([2, 2304])\n"
     ]
    }
   ],
   "source": [
    "fetcher = featureFetcher_module()\n",
    "# fetcher.record_module(model.blocks[11], target_name=\"blocks.11\")\n",
    "for i in (2,5,8,11):#range(len(model.blocks)):\n",
    "    fetcher.record_module(model_DiT.blocks[i].adaLN_modulation, target_name=f\"blocks.adaLN_modulation{i}\")\n",
    "# fetcher.cleanup()\n",
    "feature_col = defaultdict(list)\n",
    "with th.no_grad():\n",
    "    model_DiT(torch.randn(2, 3, 9, 9).to(\"cuda\"), torch.rand(2,).to(\"cuda\"), y=torch.zeros(2, dtype=torch.int, device=\"cuda\"))\n",
    "for key, activations in fetcher.activations.items():\n",
    "    feature_col[key].append(activations)\n",
    "for key in feature_col.keys():\n",
    "    feature_col[key] = th.cat(feature_col[key], dim=0)\n",
    "    print(key, feature_col[key].shape)"
   ]
  },
  {
   "cell_type": "code",
   "execution_count": 22,
   "metadata": {},
   "outputs": [
    {
     "name": "stderr",
     "output_type": "stream",
     "text": [
      "100%|███████████████████████████████████████████████████████████████████████████████████████████████████████████████████| 79/79 [00:32<00:00,  2.42it/s]\n"
     ]
    },
    {
     "name": "stdout",
     "output_type": "stream",
     "text": [
      "blocks.adaLN_modulation0 torch.Size([120000, 2304])\n",
      "blocks.adaLN_modulation2 torch.Size([120000, 2304])\n",
      "blocks.adaLN_modulation5 torch.Size([120000, 2304])\n",
      "blocks.adaLN_modulation8 torch.Size([120000, 2304])\n",
      "blocks.adaLN_modulation11 torch.Size([120000, 2304])\n"
     ]
    },
    {
     "name": "stderr",
     "output_type": "stream",
     "text": [
      "100%|███████████████████████████████████████████████████████████████████████████████████████████████████████████████████| 27/27 [00:10<00:00,  2.64it/s]\n"
     ]
    },
    {
     "name": "stdout",
     "output_type": "stream",
     "text": [
      "blocks.adaLN_modulation0 torch.Size([40000, 2304])\n",
      "blocks.adaLN_modulation2 torch.Size([40000, 2304])\n",
      "blocks.adaLN_modulation5 torch.Size([40000, 2304])\n",
      "blocks.adaLN_modulation8 torch.Size([40000, 2304])\n",
      "blocks.adaLN_modulation11 torch.Size([40000, 2304])\n"
     ]
    }
   ],
   "source": [
    "# layerkey = \"blocks.11\"\n",
    "fetcher = featureFetcher_module()\n",
    "for i in [0,2,5,8,11]: #range(12):\n",
    "    fetcher.record_module(model.blocks[i].adaLN_modulation, target_name=f\"blocks.adaLN_modulation{i}\")\n",
    "    \n",
    "train_loader = DataLoader(train_dataset, batch_size=1524, shuffle=False, drop_last=False)\n",
    "test_loader = DataLoader(test_dataset, batch_size=1524, shuffle=False)\n",
    "t_scalar = 0.1\n",
    "feature_col = defaultdict(list)\n",
    "for X_batch, y_batch in tqdm(train_loader):\n",
    "    model_kwargs = dict(y=th.zeros(X_batch.shape[0], dtype=torch.int, device=\"cuda\"))\n",
    "    t_vec = th.ones(X_batch.shape[0], dtype=torch.float, device=\"cuda\") * t_scalar\n",
    "    X_batch_norm = (X_batch.cuda().float() - dataset_Xmean) / dataset_Xstd\n",
    "    with th.no_grad():\n",
    "        model.forward(X_batch_norm, t_vec, **model_kwargs)\n",
    "    for key, activations in fetcher.activations.items():\n",
    "        feature_col[key].append(activations)\n",
    "for key in feature_col.keys():\n",
    "    feature_col[key] = th.cat(feature_col[key], dim=0)\n",
    "    print(key, feature_col[key].shape)\n",
    "\n",
    "\n",
    "feature_col_test = defaultdict(list)\n",
    "for X_batch, y_batch in tqdm(test_loader):\n",
    "    model_kwargs = dict(y=th.zeros(X_batch.shape[0], dtype=torch.int, device=\"cuda\"))\n",
    "    t_vec = th.ones(X_batch.shape[0], dtype=torch.float, device=\"cuda\") * t_scalar\n",
    "    X_batch_norm = (X_batch.cuda().float() - dataset_Xmean) / dataset_Xstd\n",
    "    with th.no_grad():\n",
    "        model.forward(X_batch_norm, t_vec, **model_kwargs)\n",
    "    for key, activations in fetcher.activations.items():\n",
    "        feature_col_test[key].append(activations)\n",
    "        \n",
    "for key in feature_col_test.keys():\n",
    "    feature_col_test[key] = th.cat(feature_col_test[key], dim=0)\n",
    "    print(key, feature_col_test[key].shape)"
   ]
  },
  {
   "cell_type": "code",
   "execution_count": 24,
   "metadata": {},
   "outputs": [],
   "source": [
    "import time"
   ]
  },
  {
   "cell_type": "code",
   "execution_count": 25,
   "metadata": {},
   "outputs": [
    {
     "name": "stdout",
     "output_type": "stream",
     "text": [
      "Epoch [1/5000], Loss: nan, Accuracy: 0.0250\n",
      "Epoch [250/5000], Loss: nan, Accuracy: 0.0250\n",
      "Epoch [500/5000], Loss: nan, Accuracy: 0.0250\n",
      "Epoch [750/5000], Loss: nan, Accuracy: 0.0250\n",
      "Epoch [1000/5000], Loss: nan, Accuracy: 0.0250\n",
      "Test Accuracy: 0.0250\n",
      "Epoch [1250/5000], Loss: nan, Accuracy: 0.0250\n"
     ]
    },
    {
     "ename": "KeyboardInterrupt",
     "evalue": "",
     "output_type": "error",
     "traceback": [
      "\u001b[0;31m---------------------------------------------------------------------------\u001b[0m",
      "\u001b[0;31mKeyboardInterrupt\u001b[0m                         Traceback (most recent call last)",
      "Cell \u001b[0;32mIn[25], line 31\u001b[0m\n\u001b[1;32m     29\u001b[0m     V \u001b[38;5;241m=\u001b[39m V\u001b[38;5;241m.\u001b[39mcpu()\n\u001b[1;32m     30\u001b[0m t2 \u001b[38;5;241m=\u001b[39m time\u001b[38;5;241m.\u001b[39mtime()\n\u001b[0;32m---> 31\u001b[0m model, results_dict \u001b[38;5;241m=\u001b[39m \u001b[43mfit_SGD_linear_classifier\u001b[49m\u001b[43m(\u001b[49m\u001b[43mfeat_PCA\u001b[49m\u001b[43m,\u001b[49m\u001b[43m \u001b[49m\u001b[43my_train\u001b[49m\u001b[43m,\u001b[49m\u001b[43m \u001b[49m\u001b[43mfeat_PCA_test\u001b[49m\u001b[43m,\u001b[49m\u001b[43m \u001b[49m\u001b[43my_test\u001b[49m\u001b[43m,\u001b[49m\n\u001b[1;32m     32\u001b[0m \u001b[43m                                \u001b[49m\u001b[43mnum_classes\u001b[49m\u001b[38;5;241;43m=\u001b[39;49m\u001b[38;5;241;43m40\u001b[39;49m\u001b[43m,\u001b[49m\u001b[43m \u001b[49m\u001b[43mbatch_size\u001b[49m\u001b[38;5;241;43m=\u001b[39;49m\u001b[38;5;28;43;01mNone\u001b[39;49;00m\u001b[43m,\u001b[49m\u001b[43m \u001b[49m\u001b[43mnum_epochs\u001b[49m\u001b[38;5;241;43m=\u001b[39;49m\u001b[38;5;241;43m5000\u001b[39;49m\u001b[43m,\u001b[49m\u001b[43m \u001b[49m\u001b[43mprint_every\u001b[49m\u001b[38;5;241;43m=\u001b[39;49m\u001b[38;5;241;43m250\u001b[39;49m\u001b[43m,\u001b[49m\u001b[43m \u001b[49m\n\u001b[1;32m     33\u001b[0m \u001b[43m                                \u001b[49m\u001b[43meval_every\u001b[49m\u001b[38;5;241;43m=\u001b[39;49m\u001b[38;5;241;43m1000\u001b[39;49m\u001b[43m,\u001b[49m\u001b[43m \u001b[49m\u001b[43mlearning_rate\u001b[49m\u001b[38;5;241;43m=\u001b[39;49m\u001b[38;5;241;43m0.005\u001b[39;49m\u001b[43m)\u001b[49m\n\u001b[1;32m     34\u001b[0m t3 \u001b[38;5;241m=\u001b[39m time\u001b[38;5;241m.\u001b[39mtime()\n\u001b[1;32m     35\u001b[0m \u001b[38;5;28mprint\u001b[39m(\u001b[38;5;124mf\u001b[39m\u001b[38;5;124m\"\u001b[39m\u001b[38;5;124mLayer \u001b[39m\u001b[38;5;132;01m{\u001b[39;00mlayerkey\u001b[38;5;132;01m}\u001b[39;00m\u001b[38;5;124m PCA time: \u001b[39m\u001b[38;5;132;01m{\u001b[39;00mt1\u001b[38;5;241m-\u001b[39mt0\u001b[38;5;132;01m:\u001b[39;00m\u001b[38;5;124m.2f\u001b[39m\u001b[38;5;132;01m}\u001b[39;00m\u001b[38;5;124m, PCA transform time: \u001b[39m\u001b[38;5;132;01m{\u001b[39;00mt2\u001b[38;5;241m-\u001b[39mt1\u001b[38;5;132;01m:\u001b[39;00m\u001b[38;5;124m.2f\u001b[39m\u001b[38;5;132;01m}\u001b[39;00m\u001b[38;5;124m, training time: \u001b[39m\u001b[38;5;132;01m{\u001b[39;00mt3\u001b[38;5;241m-\u001b[39mt2\u001b[38;5;132;01m:\u001b[39;00m\u001b[38;5;124m.2f\u001b[39m\u001b[38;5;132;01m}\u001b[39;00m\u001b[38;5;124m\"\u001b[39m)\n",
      "Cell \u001b[0;32mIn[23], line 88\u001b[0m, in \u001b[0;36mfit_SGD_linear_classifier\u001b[0;34m(train_X, train_y, test_X, test_y, num_classes, batch_size, num_epochs, learning_rate, print_every, eval_every)\u001b[0m\n\u001b[1;32m     86\u001b[0m         test_feat_loader \u001b[38;5;241m=\u001b[39m DataLoader(test_dataset, batch_size\u001b[38;5;241m=\u001b[39mbatch_size, shuffle\u001b[38;5;241m=\u001b[39m\u001b[38;5;28;01mFalse\u001b[39;00m)\n\u001b[1;32m     87\u001b[0m \u001b[38;5;66;03m# Define the training loop\u001b[39;00m\n\u001b[0;32m---> 88\u001b[0m train_record, test_record \u001b[38;5;241m=\u001b[39m \u001b[43mtrain_model\u001b[49m\u001b[43m(\u001b[49m\u001b[43mmodel\u001b[49m\u001b[43m,\u001b[49m\u001b[43m \u001b[49m\u001b[43mfeat_loader\u001b[49m\u001b[43m,\u001b[49m\u001b[43m \u001b[49m\u001b[43mnum_epochs\u001b[49m\u001b[43m,\u001b[49m\u001b[43m \u001b[49m\u001b[43mlearning_rate\u001b[49m\u001b[43m,\u001b[49m\u001b[43m \u001b[49m\u001b[43mprint_every\u001b[49m\u001b[38;5;241;43m=\u001b[39;49m\u001b[43mprint_every\u001b[49m\u001b[43m,\u001b[49m\u001b[43m \u001b[49m\u001b[43meval_every\u001b[49m\u001b[38;5;241;43m=\u001b[39;49m\u001b[43meval_every\u001b[49m\u001b[43m,\u001b[49m\n\u001b[1;32m     89\u001b[0m \u001b[43m            \u001b[49m\u001b[43meval_func\u001b[49m\u001b[38;5;241;43m=\u001b[39;49m\u001b[38;5;28;43;01mlambda\u001b[39;49;00m\u001b[43m \u001b[49m\u001b[43mmodel\u001b[49m\u001b[43m:\u001b[49m\u001b[43m \u001b[49m\u001b[43mtest_model\u001b[49m\u001b[43m(\u001b[49m\u001b[43mmodel\u001b[49m\u001b[43m,\u001b[49m\u001b[43m \u001b[49m\u001b[43mtest_feat_loader\u001b[49m\u001b[43m)\u001b[49m\u001b[43m \u001b[49m\u001b[38;5;28;43;01mif\u001b[39;49;00m\u001b[43m \u001b[49m\u001b[43mtest_feat_loader\u001b[49m\u001b[43m \u001b[49m\u001b[38;5;129;43;01mis\u001b[39;49;00m\u001b[43m \u001b[49m\u001b[38;5;129;43;01mnot\u001b[39;49;00m\u001b[43m \u001b[49m\u001b[38;5;28;43;01mNone\u001b[39;49;00m\u001b[43m \u001b[49m\u001b[38;5;28;43;01melse\u001b[39;49;00m\u001b[43m \u001b[49m\u001b[38;5;28;43;01mNone\u001b[39;49;00m\u001b[43m)\u001b[49m\n\u001b[1;32m     90\u001b[0m \u001b[38;5;66;03m# Define the testing loop\u001b[39;00m\n\u001b[1;32m     91\u001b[0m test_acc, pred_cls \u001b[38;5;241m=\u001b[39m test_model(model, test_feat_loader)\n",
      "Cell \u001b[0;32mIn[23], line 33\u001b[0m, in \u001b[0;36mtrain_model\u001b[0;34m(model, train_loader, num_epochs, learning_rate, print_every, eval_every, eval_func)\u001b[0m\n\u001b[1;32m     31\u001b[0m outputs \u001b[38;5;241m=\u001b[39m model(inputs)\n\u001b[1;32m     32\u001b[0m loss \u001b[38;5;241m=\u001b[39m criterion(outputs, labels)\n\u001b[0;32m---> 33\u001b[0m \u001b[43mloss\u001b[49m\u001b[38;5;241;43m.\u001b[39;49m\u001b[43mbackward\u001b[49m\u001b[43m(\u001b[49m\u001b[43m)\u001b[49m\n\u001b[1;32m     34\u001b[0m optimizer\u001b[38;5;241m.\u001b[39mstep()\n\u001b[1;32m     35\u001b[0m acc_cnt \u001b[38;5;241m=\u001b[39m (outputs\u001b[38;5;241m.\u001b[39margmax(dim\u001b[38;5;241m=\u001b[39m\u001b[38;5;241m1\u001b[39m) \u001b[38;5;241m==\u001b[39m labels)\u001b[38;5;241m.\u001b[39msum()\u001b[38;5;241m.\u001b[39mitem()\n",
      "File \u001b[0;32m~/.conda/envs/torch2/lib/python3.10/site-packages/torch/_tensor.py:466\u001b[0m, in \u001b[0;36mTensor.backward\u001b[0;34m(self, gradient, retain_graph, create_graph, inputs)\u001b[0m\n\u001b[1;32m    463\u001b[0m     \u001b[38;5;66;03m# All strings are unicode in Python 3.\u001b[39;00m\n\u001b[1;32m    464\u001b[0m     \u001b[38;5;28;01mreturn\u001b[39;00m torch\u001b[38;5;241m.\u001b[39m_tensor_str\u001b[38;5;241m.\u001b[39m_str(\u001b[38;5;28mself\u001b[39m, tensor_contents\u001b[38;5;241m=\u001b[39mtensor_contents)\n\u001b[0;32m--> 466\u001b[0m \u001b[38;5;28;01mdef\u001b[39;00m \u001b[38;5;21mbackward\u001b[39m(\n\u001b[1;32m    467\u001b[0m     \u001b[38;5;28mself\u001b[39m, gradient\u001b[38;5;241m=\u001b[39m\u001b[38;5;28;01mNone\u001b[39;00m, retain_graph\u001b[38;5;241m=\u001b[39m\u001b[38;5;28;01mNone\u001b[39;00m, create_graph\u001b[38;5;241m=\u001b[39m\u001b[38;5;28;01mFalse\u001b[39;00m, inputs\u001b[38;5;241m=\u001b[39m\u001b[38;5;28;01mNone\u001b[39;00m\n\u001b[1;32m    468\u001b[0m ):\n\u001b[1;32m    469\u001b[0m \u001b[38;5;250m    \u001b[39m\u001b[38;5;124mr\u001b[39m\u001b[38;5;124;03m\"\"\"Computes the gradient of current tensor wrt graph leaves.\u001b[39;00m\n\u001b[1;32m    470\u001b[0m \n\u001b[1;32m    471\u001b[0m \u001b[38;5;124;03m    The graph is differentiated using the chain rule. If the tensor is\u001b[39;00m\n\u001b[0;32m   (...)\u001b[0m\n\u001b[1;32m    513\u001b[0m \u001b[38;5;124;03m            used to compute the attr::tensors.\u001b[39;00m\n\u001b[1;32m    514\u001b[0m \u001b[38;5;124;03m    \"\"\"\u001b[39;00m\n\u001b[1;32m    515\u001b[0m     \u001b[38;5;28;01mif\u001b[39;00m has_torch_function_unary(\u001b[38;5;28mself\u001b[39m):\n",
      "\u001b[0;31mKeyboardInterrupt\u001b[0m: "
     ]
    }
   ],
   "source": [
    "PC_dim = 1024\n",
    "noPCA = True\n",
    "model_PCA_col = {}\n",
    "PC_proj_col = {}\n",
    "results_col = {}\n",
    "for layerkey in feature_col.keys():\n",
    "    t0 = time.time()\n",
    "    featmat = feature_col[layerkey].view(len(train_dataset),-1)\n",
    "    featmat_test = feature_col_test[layerkey].view(len(test_dataset),-1)\n",
    "    featmean = featmat.mean(dim=0)\n",
    "    t1 = time.time()\n",
    "    if noPCA:\n",
    "        feat_PCA = (featmat - featmean[None,]).cuda()\n",
    "        feat_PCA_std = feat_PCA.std(dim=0)\n",
    "        feat_PCA = feat_PCA / feat_PCA_std[None,]\n",
    "        feat_PCA_test = (featmat_test - featmean[None,]).cuda() \n",
    "        feat_PCA_test = feat_PCA_test / feat_PCA_std[None,]\n",
    "    else:\n",
    "        U, S, V = torch.pca_lowrank((featmat - featmean[None,]).cuda(), q=PC_dim, center=False, niter=3)\n",
    "        print(U.shape, S.shape, V.shape)\n",
    "        del U, S\n",
    "        torch.cuda.empty_cache()\n",
    "        feat_PCA = (featmat - featmean[None,]).cuda() @ V\n",
    "        feat_PCA_std = feat_PCA.std(dim=0)\n",
    "        feat_PCA = feat_PCA / feat_PCA_std[None,]\n",
    "        feat_PCA_test = (featmat_test - featmean[None,]).cuda() @ V\n",
    "        feat_PCA_test = feat_PCA_test / feat_PCA_std[None,]\n",
    "        torch.cuda.empty_cache()\n",
    "        V = V.cpu()\n",
    "    t2 = time.time()\n",
    "    model, results_dict = fit_SGD_linear_classifier(feat_PCA, y_train, feat_PCA_test, y_test,\n",
    "                                    num_classes=40, batch_size=None, num_epochs=5000, print_every=250, \n",
    "                                    eval_every=1000, learning_rate=0.005)\n",
    "    t3 = time.time()\n",
    "    print(f\"Layer {layerkey} PCA time: {t1-t0:.2f}, PCA transform time: {t2-t1:.2f}, training time: {t3-t2:.2f}\")\n",
    "    model_PCA_col[layerkey] = model\n",
    "    PC_proj_col[layerkey] = (V, featmean.cpu(), feat_PCA_std.cpu())\n",
    "    results_col[layerkey] = results_dict\n"
   ]
  },
  {
   "cell_type": "code",
   "execution_count": 29,
   "metadata": {},
   "outputs": [
    {
     "data": {
      "text/plain": [
       "tensor([[ 0.1629,  0.2847, -0.0008,  ...,  0.0006,  0.0022, -0.0093],\n",
       "        [ 0.1629,  0.2847, -0.0008,  ...,  0.0006,  0.0022, -0.0093],\n",
       "        [ 0.1629,  0.2847, -0.0008,  ...,  0.0006,  0.0022, -0.0093],\n",
       "        ...,\n",
       "        [ 0.1629,  0.2847, -0.0008,  ...,  0.0006,  0.0022, -0.0093],\n",
       "        [ 0.1629,  0.2847, -0.0008,  ...,  0.0006,  0.0022, -0.0093],\n",
       "        [ 0.1629,  0.2847, -0.0008,  ...,  0.0006,  0.0022, -0.0093]])"
      ]
     },
     "execution_count": 29,
     "metadata": {},
     "output_type": "execute_result"
    }
   ],
   "source": [
    "featmat"
   ]
  },
  {
   "cell_type": "code",
   "execution_count": 28,
   "metadata": {},
   "outputs": [
    {
     "data": {
      "text/plain": [
       "tensor([1.4379e-09, 2.8758e-09, 8.9870e-10,  ..., 1.2357e-10, 1.1234e-10,\n",
       "        7.1896e-10], device='cuda:0')"
      ]
     },
     "execution_count": 28,
     "metadata": {},
     "output_type": "execute_result"
    }
   ],
   "source": [
    "feat_PCA_std"
   ]
  },
  {
   "cell_type": "markdown",
   "metadata": {},
   "source": [
    "### MLP hidden layer"
   ]
  },
  {
   "cell_type": "code",
   "execution_count": 31,
   "metadata": {},
   "outputs": [
    {
     "name": "stdout",
     "output_type": "stream",
     "text": [
      "blocks2.mlp.act torch.Size([2, 81, 1536])\n",
      "blocks5.mlp.act torch.Size([2, 81, 1536])\n",
      "blocks8.mlp.act torch.Size([2, 81, 1536])\n",
      "blocks11.mlp.act torch.Size([2, 81, 1536])\n"
     ]
    }
   ],
   "source": [
    "fetcher = featureFetcher_module()\n",
    "# fetcher.record_module(model.blocks[11], target_name=\"blocks.11\")\n",
    "for i in (2,5,8,11):#range(len(model.blocks)):\n",
    "    fetcher.record_module(model.blocks[i].mlp.act, target_name=f\"blocks{i}.mlp.act\")\n",
    "# fetcher.cleanup()\n",
    "feature_col = defaultdict(list)\n",
    "model(torch.randn(2, 3, 9, 9).to(\"cuda\"), torch.rand(2,).to(\"cuda\"), y=torch.zeros(2, dtype=torch.int, device=\"cuda\"))\n",
    "for key, activations in fetcher.activations.items():\n",
    "    feature_col[key].append(activations)\n",
    "for key in feature_col.keys():\n",
    "    feature_col[key] = th.cat(feature_col[key], dim=0)\n",
    "    print(key, feature_col[key].shape)"
   ]
  },
  {
   "cell_type": "code",
   "execution_count": 32,
   "metadata": {},
   "outputs": [
    {
     "name": "stdout",
     "output_type": "stream",
     "text": [
      "FeatureFetcher hooks all freed\n"
     ]
    }
   ],
   "source": [
    "fetcher.cleanup()"
   ]
  },
  {
   "cell_type": "code",
   "execution_count": null,
   "metadata": {},
   "outputs": [],
   "source": []
  },
  {
   "cell_type": "code",
   "execution_count": 34,
   "metadata": {},
   "outputs": [
    {
     "name": "stdout",
     "output_type": "stream",
     "text": [
      "FeatureFetcher hooks all freed\n"
     ]
    },
    {
     "name": "stderr",
     "output_type": "stream",
     "text": [
      " 75%|█████████████████████████████████████████████████████████████████████████████████████▉                             | 59/79 [00:34<00:17,  1.17it/s]"
     ]
    },
    {
     "ename": "",
     "evalue": "",
     "output_type": "error",
     "traceback": [
      "\u001b[1;31mThe Kernel crashed while executing code in the current cell or a previous cell. \n",
      "\u001b[1;31mPlease review the code in the cell(s) to identify a possible cause of the failure. \n",
      "\u001b[1;31mClick <a href='https://aka.ms/vscodeJupyterKernelCrash'>here</a> for more info. \n",
      "\u001b[1;31mView Jupyter <a href='command:jupyter.viewOutput'>log</a> for further details."
     ]
    },
    {
     "ename": "",
     "evalue": "",
     "output_type": "error",
     "traceback": [
      "\u001b[1;31mCanceled future for execute_request message before replies were done"
     ]
    },
    {
     "ename": "",
     "evalue": "",
     "output_type": "error",
     "traceback": [
      "\u001b[1;31mCanceled future for execute_request message before replies were done. \n",
      "\u001b[1;31mView Jupyter <a href='command:jupyter.viewOutput'>log</a> for further details."
     ]
    }
   ],
   "source": [
    "# layerkey = \"blocks.11\"\n",
    "fetcher = featureFetcher_module()\n",
    "for i in (11,):#range(len(model.blocks)):\n",
    "    fetcher.record_module(model.blocks[i].mlp.act, target_name=f\"blocks{i}.mlp.act\")\n",
    "    \n",
    "train_loader = DataLoader(train_dataset, batch_size=1524, shuffle=False, drop_last=False)\n",
    "test_loader = DataLoader(test_dataset, batch_size=1524, shuffle=False)\n",
    "t_scalar = 0.1\n",
    "feature_col = defaultdict(list)\n",
    "for X_batch, y_batch in tqdm(train_loader):\n",
    "    model_kwargs = dict(y=th.zeros(X_batch.shape[0], dtype=torch.int, device=\"cuda\"))\n",
    "    t_vec = th.ones(X_batch.shape[0], dtype=torch.float, device=\"cuda\") * t_scalar\n",
    "    X_batch_norm = (X_batch.cuda().float() - dataset_Xmean) / dataset_Xstd\n",
    "    with th.no_grad():\n",
    "        model.forward(X_batch_norm, t_vec, **model_kwargs)\n",
    "    for key, activations in fetcher.activations.items():\n",
    "        feature_col[key].append(activations)\n",
    "for key in feature_col.keys():\n",
    "    feature_col[key] = th.cat(feature_col[key], dim=0)\n",
    "    print(key, feature_col[key].shape)\n",
    "\n",
    "\n",
    "feature_col_test = defaultdict(list)\n",
    "for X_batch, y_batch in tqdm(test_loader):\n",
    "    model_kwargs = dict(y=th.zeros(X_batch.shape[0], dtype=torch.int, device=\"cuda\"))\n",
    "    t_vec = th.ones(X_batch.shape[0], dtype=torch.float, device=\"cuda\") * t_scalar\n",
    "    X_batch_norm = (X_batch.cuda().float() - dataset_Xmean) / dataset_Xstd\n",
    "    with th.no_grad():\n",
    "        model.forward(X_batch_norm, t_vec, **model_kwargs)\n",
    "    for key, activations in fetcher.activations.items():\n",
    "        feature_col_test[key].append(activations)\n",
    "        \n",
    "for key in feature_col_test.keys():\n",
    "    feature_col_test[key] = th.cat(feature_col_test[key], dim=0)\n",
    "    print(key, feature_col_test[key].shape)"
   ]
  },
  {
   "cell_type": "code",
   "execution_count": null,
   "metadata": {},
   "outputs": [
    {
     "name": "stdout",
     "output_type": "stream",
     "text": [
      "Epoch [1/5000], Loss: nan, Accuracy: 0.0250\n",
      "Epoch [250/5000], Loss: nan, Accuracy: 0.0250\n",
      "Epoch [500/5000], Loss: nan, Accuracy: 0.0250\n",
      "Epoch [750/5000], Loss: nan, Accuracy: 0.0250\n",
      "Epoch [1000/5000], Loss: nan, Accuracy: 0.0250\n",
      "Test Accuracy: 0.0250\n",
      "Epoch [1250/5000], Loss: nan, Accuracy: 0.0250\n"
     ]
    },
    {
     "ename": "KeyboardInterrupt",
     "evalue": "",
     "output_type": "error",
     "traceback": [
      "\u001b[0;31m---------------------------------------------------------------------------\u001b[0m\n",
      "\u001b[0;31mKeyboardInterrupt\u001b[0m                         Traceback (most recent call last)\n",
      "Cell \u001b[0;32mIn[25], line 31\u001b[0m\n",
      "\u001b[1;32m     29\u001b[0m     V \u001b[38;5;241m=\u001b[39m V\u001b[38;5;241m.\u001b[39mcpu()\n",
      "\u001b[1;32m     30\u001b[0m t2 \u001b[38;5;241m=\u001b[39m time\u001b[38;5;241m.\u001b[39mtime()\n",
      "\u001b[0;32m---> 31\u001b[0m model, results_dict \u001b[38;5;241m=\u001b[39m \u001b[43mfit_SGD_linear_classifier\u001b[49m\u001b[43m(\u001b[49m\u001b[43mfeat_PCA\u001b[49m\u001b[43m,\u001b[49m\u001b[43m \u001b[49m\u001b[43my_train\u001b[49m\u001b[43m,\u001b[49m\u001b[43m \u001b[49m\u001b[43mfeat_PCA_test\u001b[49m\u001b[43m,\u001b[49m\u001b[43m \u001b[49m\u001b[43my_test\u001b[49m\u001b[43m,\u001b[49m\n",
      "\u001b[1;32m     32\u001b[0m \u001b[43m                                \u001b[49m\u001b[43mnum_classes\u001b[49m\u001b[38;5;241;43m=\u001b[39;49m\u001b[38;5;241;43m40\u001b[39;49m\u001b[43m,\u001b[49m\u001b[43m \u001b[49m\u001b[43mbatch_size\u001b[49m\u001b[38;5;241;43m=\u001b[39;49m\u001b[38;5;28;43;01mNone\u001b[39;49;00m\u001b[43m,\u001b[49m\u001b[43m \u001b[49m\u001b[43mnum_epochs\u001b[49m\u001b[38;5;241;43m=\u001b[39;49m\u001b[38;5;241;43m5000\u001b[39;49m\u001b[43m,\u001b[49m\u001b[43m \u001b[49m\u001b[43mprint_every\u001b[49m\u001b[38;5;241;43m=\u001b[39;49m\u001b[38;5;241;43m250\u001b[39;49m\u001b[43m,\u001b[49m\u001b[43m \u001b[49m\n",
      "\u001b[1;32m     33\u001b[0m \u001b[43m                                \u001b[49m\u001b[43meval_every\u001b[49m\u001b[38;5;241;43m=\u001b[39;49m\u001b[38;5;241;43m1000\u001b[39;49m\u001b[43m,\u001b[49m\u001b[43m \u001b[49m\u001b[43mlearning_rate\u001b[49m\u001b[38;5;241;43m=\u001b[39;49m\u001b[38;5;241;43m0.005\u001b[39;49m\u001b[43m)\u001b[49m\n",
      "\u001b[1;32m     34\u001b[0m t3 \u001b[38;5;241m=\u001b[39m time\u001b[38;5;241m.\u001b[39mtime()\n",
      "\u001b[1;32m     35\u001b[0m \u001b[38;5;28mprint\u001b[39m(\u001b[38;5;124mf\u001b[39m\u001b[38;5;124m\"\u001b[39m\u001b[38;5;124mLayer \u001b[39m\u001b[38;5;132;01m{\u001b[39;00mlayerkey\u001b[38;5;132;01m}\u001b[39;00m\u001b[38;5;124m PCA time: \u001b[39m\u001b[38;5;132;01m{\u001b[39;00mt1\u001b[38;5;241m-\u001b[39mt0\u001b[38;5;132;01m:\u001b[39;00m\u001b[38;5;124m.2f\u001b[39m\u001b[38;5;132;01m}\u001b[39;00m\u001b[38;5;124m, PCA transform time: \u001b[39m\u001b[38;5;132;01m{\u001b[39;00mt2\u001b[38;5;241m-\u001b[39mt1\u001b[38;5;132;01m:\u001b[39;00m\u001b[38;5;124m.2f\u001b[39m\u001b[38;5;132;01m}\u001b[39;00m\u001b[38;5;124m, training time: \u001b[39m\u001b[38;5;132;01m{\u001b[39;00mt3\u001b[38;5;241m-\u001b[39mt2\u001b[38;5;132;01m:\u001b[39;00m\u001b[38;5;124m.2f\u001b[39m\u001b[38;5;132;01m}\u001b[39;00m\u001b[38;5;124m\"\u001b[39m)\n",
      "\n",
      "Cell \u001b[0;32mIn[23], line 88\u001b[0m, in \u001b[0;36mfit_SGD_linear_classifier\u001b[0;34m(train_X, train_y, test_X, test_y, num_classes, batch_size, num_epochs, learning_rate, print_every, eval_every)\u001b[0m\n",
      "\u001b[1;32m     86\u001b[0m         test_feat_loader \u001b[38;5;241m=\u001b[39m DataLoader(test_dataset, batch_size\u001b[38;5;241m=\u001b[39mbatch_size, shuffle\u001b[38;5;241m=\u001b[39m\u001b[38;5;28;01mFalse\u001b[39;00m)\n",
      "\u001b[1;32m     87\u001b[0m \u001b[38;5;66;03m# Define the training loop\u001b[39;00m\n",
      "\u001b[0;32m---> 88\u001b[0m train_record, test_record \u001b[38;5;241m=\u001b[39m \u001b[43mtrain_model\u001b[49m\u001b[43m(\u001b[49m\u001b[43mmodel\u001b[49m\u001b[43m,\u001b[49m\u001b[43m \u001b[49m\u001b[43mfeat_loader\u001b[49m\u001b[43m,\u001b[49m\u001b[43m \u001b[49m\u001b[43mnum_epochs\u001b[49m\u001b[43m,\u001b[49m\u001b[43m \u001b[49m\u001b[43mlearning_rate\u001b[49m\u001b[43m,\u001b[49m\u001b[43m \u001b[49m\u001b[43mprint_every\u001b[49m\u001b[38;5;241;43m=\u001b[39;49m\u001b[43mprint_every\u001b[49m\u001b[43m,\u001b[49m\u001b[43m \u001b[49m\u001b[43meval_every\u001b[49m\u001b[38;5;241;43m=\u001b[39;49m\u001b[43meval_every\u001b[49m\u001b[43m,\u001b[49m\n",
      "\u001b[1;32m     89\u001b[0m \u001b[43m            \u001b[49m\u001b[43meval_func\u001b[49m\u001b[38;5;241;43m=\u001b[39;49m\u001b[38;5;28;43;01mlambda\u001b[39;49;00m\u001b[43m \u001b[49m\u001b[43mmodel\u001b[49m\u001b[43m:\u001b[49m\u001b[43m \u001b[49m\u001b[43mtest_model\u001b[49m\u001b[43m(\u001b[49m\u001b[43mmodel\u001b[49m\u001b[43m,\u001b[49m\u001b[43m \u001b[49m\u001b[43mtest_feat_loader\u001b[49m\u001b[43m)\u001b[49m\u001b[43m \u001b[49m\u001b[38;5;28;43;01mif\u001b[39;49;00m\u001b[43m \u001b[49m\u001b[43mtest_feat_loader\u001b[49m\u001b[43m \u001b[49m\u001b[38;5;129;43;01mis\u001b[39;49;00m\u001b[43m \u001b[49m\u001b[38;5;129;43;01mnot\u001b[39;49;00m\u001b[43m \u001b[49m\u001b[38;5;28;43;01mNone\u001b[39;49;00m\u001b[43m \u001b[49m\u001b[38;5;28;43;01melse\u001b[39;49;00m\u001b[43m \u001b[49m\u001b[38;5;28;43;01mNone\u001b[39;49;00m\u001b[43m)\u001b[49m\n",
      "\u001b[1;32m     90\u001b[0m \u001b[38;5;66;03m# Define the testing loop\u001b[39;00m\n",
      "\u001b[1;32m     91\u001b[0m test_acc, pred_cls \u001b[38;5;241m=\u001b[39m test_model(model, test_feat_loader)\n",
      "\n",
      "Cell \u001b[0;32mIn[23], line 33\u001b[0m, in \u001b[0;36mtrain_model\u001b[0;34m(model, train_loader, num_epochs, learning_rate, print_every, eval_every, eval_func)\u001b[0m\n",
      "\u001b[1;32m     31\u001b[0m outputs \u001b[38;5;241m=\u001b[39m model(inputs)\n",
      "\u001b[1;32m     32\u001b[0m loss \u001b[38;5;241m=\u001b[39m criterion(outputs, labels)\n",
      "\u001b[0;32m---> 33\u001b[0m \u001b[43mloss\u001b[49m\u001b[38;5;241;43m.\u001b[39;49m\u001b[43mbackward\u001b[49m\u001b[43m(\u001b[49m\u001b[43m)\u001b[49m\n",
      "\u001b[1;32m     34\u001b[0m optimizer\u001b[38;5;241m.\u001b[39mstep()\n",
      "\u001b[1;32m     35\u001b[0m acc_cnt \u001b[38;5;241m=\u001b[39m (outputs\u001b[38;5;241m.\u001b[39margmax(dim\u001b[38;5;241m=\u001b[39m\u001b[38;5;241m1\u001b[39m) \u001b[38;5;241m==\u001b[39m labels)\u001b[38;5;241m.\u001b[39msum()\u001b[38;5;241m.\u001b[39mitem()\n",
      "\n",
      "File \u001b[0;32m~/.conda/envs/torch2/lib/python3.10/site-packages/torch/_tensor.py:466\u001b[0m, in \u001b[0;36mTensor.backward\u001b[0;34m(self, gradient, retain_graph, create_graph, inputs)\u001b[0m\n",
      "\u001b[1;32m    463\u001b[0m     \u001b[38;5;66;03m# All strings are unicode in Python 3.\u001b[39;00m\n",
      "\u001b[1;32m    464\u001b[0m     \u001b[38;5;28;01mreturn\u001b[39;00m torch\u001b[38;5;241m.\u001b[39m_tensor_str\u001b[38;5;241m.\u001b[39m_str(\u001b[38;5;28mself\u001b[39m, tensor_contents\u001b[38;5;241m=\u001b[39mtensor_contents)\n",
      "\u001b[0;32m--> 466\u001b[0m \u001b[38;5;28;01mdef\u001b[39;00m \u001b[38;5;21mbackward\u001b[39m(\n",
      "\u001b[1;32m    467\u001b[0m     \u001b[38;5;28mself\u001b[39m, gradient\u001b[38;5;241m=\u001b[39m\u001b[38;5;28;01mNone\u001b[39;00m, retain_graph\u001b[38;5;241m=\u001b[39m\u001b[38;5;28;01mNone\u001b[39;00m, create_graph\u001b[38;5;241m=\u001b[39m\u001b[38;5;28;01mFalse\u001b[39;00m, inputs\u001b[38;5;241m=\u001b[39m\u001b[38;5;28;01mNone\u001b[39;00m\n",
      "\u001b[1;32m    468\u001b[0m ):\n",
      "\u001b[1;32m    469\u001b[0m \u001b[38;5;250m    \u001b[39m\u001b[38;5;124mr\u001b[39m\u001b[38;5;124;03m\"\"\"Computes the gradient of current tensor wrt graph leaves.\u001b[39;00m\n",
      "\u001b[1;32m    470\u001b[0m \n",
      "\u001b[1;32m    471\u001b[0m \u001b[38;5;124;03m    The graph is differentiated using the chain rule. If the tensor is\u001b[39;00m\n",
      "\u001b[0;32m   (...)\u001b[0m\n",
      "\u001b[1;32m    513\u001b[0m \u001b[38;5;124;03m            used to compute the attr::tensors.\u001b[39;00m\n",
      "\u001b[1;32m    514\u001b[0m \u001b[38;5;124;03m    \"\"\"\u001b[39;00m\n",
      "\u001b[1;32m    515\u001b[0m     \u001b[38;5;28;01mif\u001b[39;00m has_torch_function_unary(\u001b[38;5;28mself\u001b[39m):\n",
      "\n",
      "\u001b[0;31mKeyboardInterrupt\u001b[0m: "
     ]
    }
   ],
   "source": [
    "PC_dim = 1024\n",
    "noPCA = True\n",
    "model_PCA_col = {}\n",
    "PC_proj_col = {}\n",
    "results_col = {}\n",
    "for layerkey in feature_col.keys():\n",
    "    t0 = time.time()\n",
    "    featmat = feature_col[layerkey].view(len(train_dataset),-1)\n",
    "    featmat_test = feature_col_test[layerkey].view(len(test_dataset),-1)\n",
    "    featmean = featmat.mean(dim=0)\n",
    "    t1 = time.time()\n",
    "    if noPCA:\n",
    "        feat_PCA = (featmat - featmean[None,]).cuda()\n",
    "        feat_PCA_std = feat_PCA.std(dim=0)\n",
    "        feat_PCA = feat_PCA / feat_PCA_std[None,]\n",
    "        feat_PCA_test = (featmat_test - featmean[None,]).cuda() \n",
    "        feat_PCA_test = feat_PCA_test / feat_PCA_std[None,]\n",
    "    else:\n",
    "        U, S, V = torch.pca_lowrank((featmat - featmean[None,]).cuda(), q=PC_dim, center=False, niter=3)\n",
    "        print(U.shape, S.shape, V.shape)\n",
    "        del U, S\n",
    "        torch.cuda.empty_cache()\n",
    "        feat_PCA = (featmat - featmean[None,]).cuda() @ V\n",
    "        feat_PCA_std = feat_PCA.std(dim=0)\n",
    "        feat_PCA = feat_PCA / feat_PCA_std[None,]\n",
    "        feat_PCA_test = (featmat_test - featmean[None,]).cuda() @ V\n",
    "        feat_PCA_test = feat_PCA_test / feat_PCA_std[None,]\n",
    "        torch.cuda.empty_cache()\n",
    "        V = V.cpu()\n",
    "    t2 = time.time()\n",
    "    model, results_dict = fit_SGD_linear_classifier(feat_PCA, y_train, feat_PCA_test, y_test,\n",
    "                                    num_classes=40, batch_size=None, num_epochs=5000, print_every=250, \n",
    "                                    eval_every=1000, learning_rate=0.005)\n",
    "    t3 = time.time()\n",
    "    print(f\"Layer {layerkey} PCA time: {t1-t0:.2f}, PCA transform time: {t2-t1:.2f}, training time: {t3-t2:.2f}\")\n",
    "    model_PCA_col[layerkey] = model\n",
    "    PC_proj_col[layerkey] = (V, featmean.cpu(), feat_PCA_std.cpu())\n",
    "    results_col[layerkey] = results_dict\n"
   ]
  },
  {
   "cell_type": "markdown",
   "metadata": {},
   "source": [
    "### MLP output"
   ]
  },
  {
   "cell_type": "code",
   "execution_count": 18,
   "metadata": {},
   "outputs": [
    {
     "name": "stdout",
     "output_type": "stream",
     "text": [
      "blocks2.mlp torch.Size([2, 81, 384])\n",
      "blocks5.mlp torch.Size([2, 81, 384])\n",
      "blocks8.mlp torch.Size([2, 81, 384])\n",
      "blocks11.mlp torch.Size([2, 81, 384])\n"
     ]
    }
   ],
   "source": [
    "fetcher = featureFetcher_module()\n",
    "# fetcher.record_module(model.blocks[11], target_name=\"blocks.11\")\n",
    "for i in (2,5,8,11):#range(len(model.blocks)):\n",
    "    fetcher.record_module(model.blocks[i].mlp, target_name=f\"blocks{i}.mlp\")\n",
    "# fetcher.cleanup()\n",
    "feature_col = defaultdict(list)\n",
    "model(torch.randn(2, 3, 9, 9).to(\"cuda\"), torch.rand(2,).to(\"cuda\"), y=torch.zeros(2, dtype=torch.int, device=\"cuda\"))\n",
    "for key, activations in fetcher.activations.items():\n",
    "    feature_col[key].append(activations)\n",
    "for key in feature_col.keys():\n",
    "    feature_col[key] = th.cat(feature_col[key], dim=0)\n",
    "    print(key, feature_col[key].shape)"
   ]
  },
  {
   "cell_type": "code",
   "execution_count": 23,
   "metadata": {},
   "outputs": [
    {
     "name": "stdout",
     "output_type": "stream",
     "text": [
      "FeatureFetcher hooks all freed\n"
     ]
    }
   ],
   "source": [
    "fetcher.cleanup()"
   ]
  },
  {
   "cell_type": "code",
   "execution_count": 19,
   "metadata": {},
   "outputs": [
    {
     "name": "stderr",
     "output_type": "stream",
     "text": [
      "100%|███████████████████████████████████████████████████████████████████████████████████████████████████████████████████| 79/79 [00:51<00:00,  1.54it/s]\n"
     ]
    },
    {
     "name": "stdout",
     "output_type": "stream",
     "text": [
      "blocks5.mlp torch.Size([120000, 81, 384])\n",
      "blocks11.mlp torch.Size([120000, 81, 384])\n"
     ]
    },
    {
     "name": "stderr",
     "output_type": "stream",
     "text": [
      "100%|███████████████████████████████████████████████████████████████████████████████████████████████████████████████████| 27/27 [00:17<00:00,  1.59it/s]\n"
     ]
    },
    {
     "name": "stdout",
     "output_type": "stream",
     "text": [
      "blocks5.mlp torch.Size([40000, 81, 384])\n",
      "blocks11.mlp torch.Size([40000, 81, 384])\n"
     ]
    }
   ],
   "source": [
    "# layerkey = \"blocks.11\"\n",
    "fetcher = featureFetcher_module()\n",
    "for i in (5,11):#range(len(model.blocks)):\n",
    "    fetcher.record_module(model.blocks[i].mlp, target_name=f\"blocks{i}.mlp\")\n",
    "train_loader = DataLoader(train_dataset, batch_size=1524, shuffle=False, drop_last=False)\n",
    "test_loader = DataLoader(test_dataset, batch_size=1524, shuffle=False)\n",
    "t_scalar = 100\n",
    "feature_col = defaultdict(list)\n",
    "for X_batch, y_batch in tqdm(train_loader):\n",
    "    model_kwargs = dict(y=th.zeros(X_batch.shape[0], dtype=torch.int, device=\"cuda\"))\n",
    "    t_vec = th.ones(X_batch.shape[0], dtype=torch.float, device=\"cuda\") * t_scalar\n",
    "    X_batch_norm = (X_batch.cuda().float() - dataset_Xmean) / dataset_Xstd\n",
    "    with th.no_grad():\n",
    "        model.forward(X_batch_norm, t_vec, **model_kwargs)\n",
    "    for key, activations in fetcher.activations.items():\n",
    "        feature_col[key].append(activations)\n",
    "for key in feature_col.keys():\n",
    "    feature_col[key] = th.cat(feature_col[key], dim=0)\n",
    "    print(key, feature_col[key].shape)\n",
    "\n",
    "\n",
    "feature_col_test = defaultdict(list)\n",
    "for X_batch, y_batch in tqdm(test_loader):\n",
    "    model_kwargs = dict(y=th.zeros(X_batch.shape[0], dtype=torch.int, device=\"cuda\"))\n",
    "    t_vec = th.ones(X_batch.shape[0], dtype=torch.float, device=\"cuda\") * t_scalar\n",
    "    X_batch_norm = (X_batch.cuda().float() - dataset_Xmean) / dataset_Xstd\n",
    "    with th.no_grad():\n",
    "        model.forward(X_batch_norm, t_vec, **model_kwargs)\n",
    "    for key, activations in fetcher.activations.items():\n",
    "        feature_col_test[key].append(activations)\n",
    "        \n",
    "for key in feature_col_test.keys():\n",
    "    feature_col_test[key] = th.cat(feature_col_test[key], dim=0)\n",
    "    print(key, feature_col_test[key].shape)"
   ]
  },
  {
   "cell_type": "code",
   "execution_count": 21,
   "metadata": {},
   "outputs": [
    {
     "name": "stdout",
     "output_type": "stream",
     "text": [
      "torch.Size([120000, 1024]) torch.Size([1024]) torch.Size([31104, 1024])\n",
      "Epoch [1/5000], Loss: 3.8438, Accuracy: 0.0262\n",
      "Epoch [250/5000], Loss: 0.4047, Accuracy: 0.8787\n",
      "Epoch [500/5000], Loss: 0.3370, Accuracy: 0.8936\n",
      "Epoch [750/5000], Loss: 0.3082, Accuracy: 0.9001\n",
      "Epoch [1000/5000], Loss: 0.2914, Accuracy: 0.9039\n",
      "Test Accuracy: 0.8028\n",
      "Epoch [1250/5000], Loss: 0.2801, Accuracy: 0.9069\n",
      "Epoch [1500/5000], Loss: 0.2718, Accuracy: 0.9089\n",
      "Epoch [1750/5000], Loss: 0.2654, Accuracy: 0.9107\n",
      "Epoch [2000/5000], Loss: 0.2603, Accuracy: 0.9118\n",
      "Test Accuracy: 0.8015\n",
      "Epoch [2250/5000], Loss: 0.2560, Accuracy: 0.9129\n",
      "Epoch [2500/5000], Loss: 0.2524, Accuracy: 0.9142\n",
      "Epoch [2750/5000], Loss: 0.2492, Accuracy: 0.9152\n",
      "Epoch [3000/5000], Loss: 0.2465, Accuracy: 0.9160\n",
      "Test Accuracy: 0.7970\n",
      "Epoch [3250/5000], Loss: 0.2441, Accuracy: 0.9168\n",
      "Epoch [3500/5000], Loss: 0.2420, Accuracy: 0.9174\n",
      "Epoch [3750/5000], Loss: 0.2400, Accuracy: 0.9180\n",
      "Epoch [4000/5000], Loss: 0.2383, Accuracy: 0.9185\n",
      "Test Accuracy: 0.7939\n",
      "Epoch [4250/5000], Loss: 0.2368, Accuracy: 0.9190\n",
      "Epoch [4500/5000], Loss: 0.2353, Accuracy: 0.9192\n",
      "Epoch [4750/5000], Loss: 0.2340, Accuracy: 0.9198\n",
      "Epoch [5000/5000], Loss: 0.2328, Accuracy: 0.9202\n",
      "Test Accuracy: 0.7912\n",
      "Test Accuracy: 0.7912\n",
      "FeatureFetcher hooks all freed\n",
      "Layer blocks5.mlp PCA time: 1.47, PCA transform time: 18.32, training time: 39.07\n",
      "torch.Size([120000, 1024]) torch.Size([1024]) torch.Size([31104, 1024])\n",
      "Epoch [1/5000], Loss: 3.8523, Accuracy: 0.0246\n",
      "Epoch [250/5000], Loss: 0.2157, Accuracy: 0.9486\n",
      "Epoch [500/5000], Loss: 0.1585, Accuracy: 0.9609\n",
      "Epoch [750/5000], Loss: 0.1337, Accuracy: 0.9662\n",
      "Epoch [1000/5000], Loss: 0.1189, Accuracy: 0.9695\n",
      "Test Accuracy: 0.8710\n",
      "Epoch [1250/5000], Loss: 0.1087, Accuracy: 0.9718\n",
      "Epoch [1500/5000], Loss: 0.1010, Accuracy: 0.9733\n",
      "Epoch [1750/5000], Loss: 0.0950, Accuracy: 0.9745\n",
      "Epoch [2000/5000], Loss: 0.0902, Accuracy: 0.9752\n",
      "Test Accuracy: 0.8646\n",
      "Epoch [2250/5000], Loss: 0.0861, Accuracy: 0.9760\n",
      "Epoch [2500/5000], Loss: 0.0826, Accuracy: 0.9768\n",
      "Epoch [2750/5000], Loss: 0.0796, Accuracy: 0.9772\n",
      "Epoch [3000/5000], Loss: 0.0770, Accuracy: 0.9776\n",
      "Test Accuracy: 0.8586\n",
      "Epoch [3250/5000], Loss: 0.0747, Accuracy: 0.9780\n",
      "Epoch [3500/5000], Loss: 0.0726, Accuracy: 0.9784\n",
      "Epoch [3750/5000], Loss: 0.0708, Accuracy: 0.9787\n",
      "Epoch [4000/5000], Loss: 0.0691, Accuracy: 0.9791\n",
      "Test Accuracy: 0.8542\n",
      "Epoch [4250/5000], Loss: 0.0676, Accuracy: 0.9794\n",
      "Epoch [4500/5000], Loss: 0.0662, Accuracy: 0.9796\n",
      "Epoch [4750/5000], Loss: 0.0649, Accuracy: 0.9798\n",
      "Epoch [5000/5000], Loss: 0.0637, Accuracy: 0.9799\n",
      "Test Accuracy: 0.8503\n",
      "Test Accuracy: 0.8503\n",
      "Layer blocks11.mlp PCA time: 1.48, PCA transform time: 15.47, training time: 37.54\n"
     ]
    }
   ],
   "source": [
    "PC_dim = 1024\n",
    "noPCA = False\n",
    "model_PCA_col = {}\n",
    "PC_proj_col = {}\n",
    "results_col = {}\n",
    "for layerkey in feature_col.keys():\n",
    "    t0 = time.time()\n",
    "    featmat = feature_col[layerkey].view(len(train_dataset),-1)\n",
    "    featmat_test = feature_col_test[layerkey].view(len(test_dataset),-1)\n",
    "    featmean = featmat.mean(dim=0)\n",
    "    t1 = time.time()\n",
    "    if noPCA:\n",
    "        feat_PCA = (featmat - featmean[None,]).cuda()\n",
    "        feat_PCA_std = feat_PCA.std(dim=0)\n",
    "        feat_PCA = feat_PCA / feat_PCA_std[None,]\n",
    "        feat_PCA_test = (featmat_test - featmean[None,]).cuda() \n",
    "        feat_PCA_test = feat_PCA_test / feat_PCA_std[None,]\n",
    "    else:\n",
    "        U, S, V = torch.pca_lowrank((featmat - featmean[None,]).cuda(), q=PC_dim, center=False, niter=3)\n",
    "        print(U.shape, S.shape, V.shape)\n",
    "        del U, S\n",
    "        torch.cuda.empty_cache()\n",
    "        feat_PCA = (featmat - featmean[None,]).cuda() @ V\n",
    "        feat_PCA_std = feat_PCA.std(dim=0)\n",
    "        feat_PCA = feat_PCA / feat_PCA_std[None,]\n",
    "        feat_PCA_test = (featmat_test - featmean[None,]).cuda() @ V\n",
    "        feat_PCA_test = feat_PCA_test / feat_PCA_std[None,]\n",
    "        torch.cuda.empty_cache()\n",
    "        V = V.cpu()\n",
    "    t2 = time.time()\n",
    "    clsfr, results_dict = fit_SGD_linear_classifier(feat_PCA, y_train, feat_PCA_test, y_test,\n",
    "                                    num_classes=40, batch_size=None, num_epochs=5000, print_every=250, \n",
    "                                    eval_every=1000, learning_rate=0.005)\n",
    "    t3 = time.time()\n",
    "    print(f\"Layer {layerkey} PCA time: {t1-t0:.2f}, PCA transform time: {t2-t1:.2f}, training time: {t3-t2:.2f}\")\n",
    "    model_PCA_col[layerkey] = clsfr\n",
    "    PC_proj_col[layerkey] = (V, featmean.cpu(), feat_PCA_std.cpu())\n",
    "    results_col[layerkey] = results_dict\n"
   ]
  },
  {
   "cell_type": "markdown",
   "metadata": {},
   "source": [
    "### Attention output?"
   ]
  },
  {
   "cell_type": "code",
   "execution_count": 23,
   "metadata": {},
   "outputs": [
    {
     "name": "stdout",
     "output_type": "stream",
     "text": [
      "True\n",
      "True\n",
      "True\n",
      "True\n",
      "True\n",
      "True\n",
      "True\n",
      "True\n",
      "True\n",
      "True\n",
      "True\n",
      "True\n"
     ]
    }
   ],
   "source": [
    "for i in range(len(model.blocks)):\n",
    "    print(model.blocks[i].attn.fused_attn)\n",
    "    # set it to be False\n",
    "    model.blocks[i].attn.fused_attn = False"
   ]
  },
  {
   "cell_type": "code",
   "execution_count": 24,
   "metadata": {},
   "outputs": [
    {
     "name": "stdout",
     "output_type": "stream",
     "text": [
      "FeatureFetcher hooks all freed\n"
     ]
    }
   ],
   "source": [
    "fetcher = featureFetcher_module()\n",
    "# fetcher.record_module(model.blocks[11], target_name=\"blocks.11\")\n",
    "for i in range(len(model.blocks)):\n",
    "    fetcher.record_module(model.blocks[i].attn.attn_drop, target_name=f\"blocks.attnmap{i}\")\n",
    "fetcher.cleanup()\n",
    "# note this is critical, if the model use fused_attn, it's more efficient, but will skip the dropout layer, so not hookable. \n"
   ]
  },
  {
   "cell_type": "code",
   "execution_count": 26,
   "metadata": {},
   "outputs": [
    {
     "name": "stderr",
     "output_type": "stream",
     "text": [
      "  0%|                                                                                                                            | 0/79 [00:00<?, ?it/s]"
     ]
    },
    {
     "name": "stdout",
     "output_type": "stream",
     "text": [
      "FeatureFetcher hooks all freed\n"
     ]
    },
    {
     "name": "stderr",
     "output_type": "stream",
     "text": [
      "100%|███████████████████████████████████████████████████████████████████████████████████████████████████████████████████| 79/79 [00:41<00:00,  1.92it/s]\n"
     ]
    },
    {
     "name": "stdout",
     "output_type": "stream",
     "text": [
      "blocks.attnmap5 torch.Size([120000, 6, 81, 81])\n",
      "blocks.attnmap11 torch.Size([120000, 6, 81, 81])\n"
     ]
    }
   ],
   "source": [
    "# layerkey = \"blocks.11\"\n",
    "fetcher = featureFetcher_module()\n",
    "for i in [5,11]: #range(12):\n",
    "    fetcher.record_module(model.blocks[i].attn.attn_drop, target_name=f\"blocks.attnmap{i}\")\n",
    "    \n",
    "train_loader = DataLoader(train_dataset, batch_size=1524, shuffle=False, drop_last=False)\n",
    "test_loader = DataLoader(test_dataset, batch_size=1524, shuffle=False)\n",
    "t_scalar = 0.1\n",
    "feature_col = defaultdict(list)\n",
    "for X_batch, y_batch in tqdm(train_loader):\n",
    "    model_kwargs = dict(y=th.zeros(X_batch.shape[0], dtype=torch.int, device=\"cuda\"))\n",
    "    t_vec = th.ones(X_batch.shape[0], dtype=torch.float, device=\"cuda\") * t_scalar\n",
    "    X_batch_norm = (X_batch.cuda().float() - dataset_Xmean) / dataset_Xstd\n",
    "    with th.no_grad():\n",
    "        model.forward(X_batch_norm, t_vec, **model_kwargs)\n",
    "    for key, activations in fetcher.activations.items():\n",
    "        feature_col[key].append(activations)\n",
    "for key in feature_col.keys():\n",
    "    feature_col[key] = th.cat(feature_col[key], dim=0)\n",
    "    print(key, feature_col[key].shape)"
   ]
  },
  {
   "cell_type": "code",
   "execution_count": 67,
   "metadata": {},
   "outputs": [
    {
     "name": "stderr",
     "output_type": "stream",
     "text": [
      "100%|███████████████████████████████████████████████████████████████████████████████████████████████████████████████████| 27/27 [00:13<00:00,  1.98it/s]\n"
     ]
    },
    {
     "name": "stdout",
     "output_type": "stream",
     "text": [
      "blocks.attnmap5 torch.Size([40000, 6, 81, 81])\n",
      "blocks.attnmap11 torch.Size([40000, 6, 81, 81])\n"
     ]
    }
   ],
   "source": [
    "feature_col_test = defaultdict(list)\n",
    "for X_batch, y_batch in tqdm(test_loader):\n",
    "    model_kwargs = dict(y=th.zeros(X_batch.shape[0], dtype=torch.int, device=\"cuda\"))\n",
    "    t_vec = th.ones(X_batch.shape[0], dtype=torch.float, device=\"cuda\") * t_scalar\n",
    "    X_batch_norm = (X_batch.cuda().float() - dataset_Xmean) / dataset_Xstd\n",
    "    with th.no_grad():\n",
    "        model.forward(X_batch_norm, t_vec, **model_kwargs)\n",
    "    for key, activations in fetcher.activations.items():\n",
    "        feature_col_test[key].append(activations)\n",
    "        \n",
    "for key in feature_col_test.keys():\n",
    "    feature_col_test[key] = th.cat(feature_col_test[key], dim=0)\n",
    "    print(key, feature_col_test[key].shape)"
   ]
  },
  {
   "cell_type": "markdown",
   "metadata": {},
   "source": [
    "### Exploratory analysis of visual transformer attention pattern"
   ]
  },
  {
   "cell_type": "code",
   "execution_count": 48,
   "metadata": {},
   "outputs": [
    {
     "data": {
      "text/plain": [
       "Text(0.5, 0.98, 'Head Attention Map for sample 300 of class 10 in layer 5')"
      ]
     },
     "execution_count": 48,
     "metadata": {},
     "output_type": "execute_result"
    },
    {
     "data": {
      "image/png": "[encoded data removed]",
      "text/plain": [
       "<Figure size 1152x216 with 6 Axes>"
      ]
     },
     "metadata": {
      "needs_background": "light"
     },
     "output_type": "display_data"
    }
   ],
   "source": [
    "# feature_col['blocks.attnmap5'][0][0]\n",
    "class_id = 10\n",
    "sample_id = 300\n",
    "layer_id = 11\n",
    "idx = 3000 * class_id + sample_id\n",
    "figh, axs = plt.subplots(1, 6, figsize=(16, 3))\n",
    "for ihead in range(6):\n",
    "    axs[ihead].imshow(feature_col[f'blocks.attnmap{layer_id}'][idx][ihead].cpu().numpy(), cmap=\"hot\", interpolation=\"nearest\")\n",
    "    axs[ihead].axis(\"off\")\n",
    "plt.suptitle(f\"Head Attention Map for sample {sample_id} of class {class_id} in layer 5\")"
   ]
  },
  {
   "cell_type": "code",
   "execution_count": 57,
   "metadata": {},
   "outputs": [
    {
     "data": {
      "text/plain": [
       "device(type='cpu')"
      ]
     },
     "execution_count": 57,
     "metadata": {},
     "output_type": "execute_result"
    }
   ],
   "source": [
    "X_train[idx].device"
   ]
  },
  {
   "cell_type": "code",
   "execution_count": 58,
   "metadata": {},
   "outputs": [
    {
     "data": {
      "text/plain": [
       "device(type='cuda', index=0)"
      ]
     },
     "execution_count": 58,
     "metadata": {},
     "output_type": "execute_result"
    }
   ],
   "source": [
    "dataset_Xmean.device"
   ]
  },
  {
   "cell_type": "code",
   "execution_count": 61,
   "metadata": {},
   "outputs": [
    {
     "data": {
      "text/plain": [
       "tensor([[[-1, -1, -1,  5,  5, -1,  5, -1,  5],\n",
       "         [ 5, -1, -1,  5,  5,  5,  5, -1,  5],\n",
       "         [-1,  5, -1, -1, -1,  5,  5,  5,  5],\n",
       "         [ 5,  5,  5,  5,  5,  5,  5,  5,  5],\n",
       "         [ 5,  5,  5,  5, -1, -1, -1,  5,  5],\n",
       "         [ 5,  5,  5,  5, -1, -1,  5, -1, -1],\n",
       "         [ 6,  6,  6,  6, -1,  6, -1,  6,  6],\n",
       "         [ 6,  6, -1,  6,  6,  6,  6,  6,  6],\n",
       "         [-1,  6,  6, -1, -1, -1,  6,  6,  6]],\n",
       "\n",
       "        [[-1, -1, -1,  1,  1, -1,  0, -1,  0],\n",
       "         [ 6, -1, -1,  1,  1,  1,  0, -1,  0],\n",
       "         [-1,  6, -1, -1, -1,  1,  0,  0,  0],\n",
       "         [ 4,  4,  4,  5,  5,  5,  0,  0,  0],\n",
       "         [ 4,  4,  4,  5, -1, -1, -1,  0,  0],\n",
       "         [ 4,  4,  4,  5, -1, -1,  0, -1, -1],\n",
       "         [ 8,  2,  7,  3, -1,  5, -1,  6,  7],\n",
       "         [ 4,  3, -1,  2,  1,  7,  4,  3,  0],\n",
       "         [-1,  1,  6, -1, -1, -1,  2,  5,  1]],\n",
       "\n",
       "        [[-1, -1, -1,  4,  4, -1,  4, -1,  4],\n",
       "         [ 5, -1, -1,  4,  4,  4,  4, -1,  4],\n",
       "         [-1,  5, -1, -1, -1,  4,  4,  4,  4],\n",
       "         [ 9,  9,  6,  3,  9,  1,  0,  5,  4],\n",
       "         [ 4,  4,  2,  3, -1, -1, -1,  3,  6],\n",
       "         [ 1,  2,  8,  7, -1, -1,  1, -1, -1],\n",
       "         [ 5,  5,  5,  3, -1,  3, -1,  9,  9],\n",
       "         [ 5,  5, -1,  3,  3,  3,  9,  9,  9],\n",
       "         [-1,  5,  5, -1, -1, -1,  9,  9,  9]]])"
      ]
     },
     "execution_count": 61,
     "metadata": {},
     "output_type": "execute_result"
    }
   ],
   "source": [
    "X_train[idx]"
   ]
  },
  {
   "cell_type": "code",
   "execution_count": 60,
   "metadata": {},
   "outputs": [
    {
     "name": "stderr",
     "output_type": "stream",
     "text": [
      "Clipping input data to the valid range for imshow with RGB data ([0..1] for floats or [0..255] for integers).\n"
     ]
    },
    {
     "data": {
      "text/plain": [
       "<matplotlib.image.AxesImage at 0x1493e2b56980>"
      ]
     },
     "execution_count": 60,
     "metadata": {},
     "output_type": "execute_result"
    },
    {
     "data": {
      "image/png": "[encoded data removed]",
      "text/plain": [
       "<Figure size 432x288 with 1 Axes>"
      ]
     },
     "metadata": {
      "needs_background": "light"
     },
     "output_type": "display_data"
    }
   ],
   "source": [
    "plt.imshow(((X_train[idx]-dataset_Xmean[0].cpu())/dataset_Xstd[0].cpu()).float().numpy().transpose(1,2,0))"
   ]
  },
  {
   "cell_type": "code",
   "execution_count": 65,
   "metadata": {},
   "outputs": [
    {
     "data": {
      "image/png": "[encoded data removed]",
      "text/plain": [
       "<Figure size 1152x1152 with 81 Axes>"
      ]
     },
     "metadata": {
      "needs_background": "light"
     },
     "output_type": "display_data"
    }
   ],
   "source": [
    "class_id = 0\n",
    "sample_id = 300\n",
    "layer_id = 5\n",
    "idx = 3000 * class_id + sample_id\n",
    "figh, axs = plt.subplots(9, 9, figsize=(16, 16))\n",
    "axs = axs.flatten()\n",
    "# for ihead in range(6):\n",
    "ihead = 2\n",
    "attnmap = feature_col[f'blocks.attnmap{layer_id}'][idx][ihead].cpu().numpy()\n",
    "for query_id in range(81):\n",
    "    axs[query_id].imshow(attnmap[query_id, :].reshape(9, 9), cmap=\"hot\", interpolation=\"nearest\")\n",
    "    axs[query_id].axis(\"off\")\n",
    "plt.suptitle(f\"Head {ihead} Attention Map for sample {sample_id} of class {class_id} in layer 5\")\n",
    "plt.show()"
   ]
  },
  {
   "cell_type": "code",
   "execution_count": null,
   "metadata": {},
   "outputs": [],
   "source": []
  },
  {
   "cell_type": "markdown",
   "metadata": {},
   "source": [
    "### Train classifier"
   ]
  },
  {
   "cell_type": "code",
   "execution_count": 68,
   "metadata": {},
   "outputs": [
    {
     "name": "stdout",
     "output_type": "stream",
     "text": [
      "Epoch [1/100], Loss: 3.6238, Accuracy: 0.0784\n",
      "Epoch [100/100], Loss: 1.8461, Accuracy: 0.5992\n",
      "Test Accuracy: 0.5278\n",
      "Test Accuracy: 0.5278\n"
     ]
    }
   ],
   "source": [
    "# feature_col[\"blocks.11\"].view(len(train_dataset),-1)\n",
    "model = fit_SGD_linear_classifier(feature_col[\"blocks.attnmap5\"].view(len(train_dataset),-1), y_train,\n",
    "                                  feature_col_test[\"blocks.attnmap5\"].view(len(test_dataset),-1), y_test,\n",
    "                                  num_classes=40, batch_size=1024, num_epochs=100, print_every=10,\n",
    "                                  learning_rate = 0.0001)"
   ]
  },
  {
   "cell_type": "code",
   "execution_count": 69,
   "metadata": {},
   "outputs": [
    {
     "name": "stdout",
     "output_type": "stream",
     "text": [
      "Epoch [1/100], Loss: 3.4838, Accuracy: 0.1960\n",
      "Epoch [10/100], Loss: 2.4127, Accuracy: 0.5318\n",
      "Epoch [20/100], Loss: 1.9008, Accuracy: 0.6215\n",
      "Epoch [30/100], Loss: 1.6050, Accuracy: 0.6731\n",
      "Epoch [40/100], Loss: 1.4192, Accuracy: 0.7099\n",
      "Epoch [50/100], Loss: 1.2996, Accuracy: 0.7383\n",
      "Epoch [60/100], Loss: 1.1593, Accuracy: 0.7618\n",
      "Epoch [70/100], Loss: 1.0620, Accuracy: 0.7812\n",
      "Epoch [80/100], Loss: 1.0373, Accuracy: 0.7977\n",
      "Epoch [90/100], Loss: 0.9363, Accuracy: 0.8128\n",
      "Epoch [100/100], Loss: 0.8537, Accuracy: 0.8254\n",
      "Test Accuracy: 0.6649\n",
      "Test Accuracy: 0.6649\n"
     ]
    }
   ],
   "source": [
    "# feature_col[\"blocks.11\"].view(len(train_dataset),-1)\n",
    "model = fit_SGD_linear_classifier(feature_col[\"blocks.attnmap11\"].view(len(train_dataset),-1), y_train,\n",
    "                                  feature_col_test[\"blocks.attnmap11\"].view(len(test_dataset),-1), y_test,\n",
    "                                  num_classes=40, batch_size=1024, num_epochs=100, print_every=10,\n",
    "                                  learning_rate = 0.0001)"
   ]
  },
  {
   "cell_type": "code",
   "execution_count": 70,
   "metadata": {},
   "outputs": [
    {
     "data": {
      "text/plain": [
       "['blocks.attnmap5', 'blocks.attnmap11']"
      ]
     },
     "execution_count": 70,
     "metadata": {},
     "output_type": "execute_result"
    }
   ],
   "source": [
    "list(feature_col)"
   ]
  },
  {
   "cell_type": "code",
   "execution_count": 71,
   "metadata": {},
   "outputs": [],
   "source": [
    "import time"
   ]
  },
  {
   "cell_type": "code",
   "execution_count": 72,
   "metadata": {},
   "outputs": [
    {
     "ename": "",
     "evalue": "",
     "output_type": "error",
     "traceback": [
      "\u001b[1;31mThe Kernel crashed while executing code in the current cell or a previous cell. \n",
      "\u001b[1;31mPlease review the code in the cell(s) to identify a possible cause of the failure. \n",
      "\u001b[1;31mClick <a href='https://aka.ms/vscodeJupyterKernelCrash'>here</a> for more info. \n",
      "\u001b[1;31mView Jupyter <a href='command:jupyter.viewOutput'>log</a> for further details."
     ]
    },
    {
     "ename": "",
     "evalue": "",
     "output_type": "error",
     "traceback": [
      "\u001b[1;31mCanceled future for execute_request message before replies were done"
     ]
    },
    {
     "ename": "",
     "evalue": "",
     "output_type": "error",
     "traceback": [
      "\u001b[1;31mCanceled future for execute_request message before replies were done. \n",
      "\u001b[1;31mView Jupyter <a href='command:jupyter.viewOutput'>log</a> for further details."
     ]
    }
   ],
   "source": [
    "PC_dim = 1024\n",
    "\n",
    "model_PCA_col = {}\n",
    "PC_proj_col = {}\n",
    "results_col = {}\n",
    "for layerkey in ['blocks.attnmap5', 'blocks.attnmap11']:\n",
    "    t0 = time.time()\n",
    "    featmat = feature_col[layerkey].view(len(train_dataset),-1)\n",
    "    featmat_test = feature_col_test[layerkey].view(len(test_dataset),-1)\n",
    "    featmean = featmat.mean(dim=0)\n",
    "    U, S, V = torch.pca_lowrank((featmat - featmean[None,]).cuda(), q=PC_dim, center=False, niter=3)\n",
    "    print(U.shape, S.shape, V.shape)\n",
    "    del U, S\n",
    "    torch.cuda.empty_cache()\n",
    "    t1 = time.time()\n",
    "    feat_PCA = (featmat - featmean[None,]).cuda() @ V\n",
    "    feat_PCA_std = feat_PCA.std(dim=0)\n",
    "    feat_PCA = feat_PCA / feat_PCA_std\n",
    "    feat_PCA_test = (featmat_test - featmean[None,]).cuda() @ V\n",
    "    feat_PCA_test = feat_PCA_test / feat_PCA_std\n",
    "    torch.cuda.empty_cache()\n",
    "    V = V.cpu()\n",
    "    t2 = time.time()\n",
    "    model, results_dict = fit_SGD_linear_classifier(feat_PCA, y_train, feat_PCA_test, y_test,\n",
    "                                    num_classes=40, batch_size=None, num_epochs=5000, print_every=250, \n",
    "                                    eval_every=1000, learning_rate=0.005)\n",
    "    t3 = time.time()\n",
    "    print(f\"Layer {layerkey} PCA time: {t1-t0:.2f}, PCA transform time: {t2-t1:.2f}, training time: {t3-t2:.2f}\")\n",
    "    model_PCA_col[layerkey] = model\n",
    "    PC_proj_col[layerkey] = (V, featmean.cpu(), feat_PCA_std.cpu())\n",
    "    results_col[layerkey] = results_dict\n"
   ]
  },
  {
   "cell_type": "markdown",
   "metadata": {},
   "source": [
    "## Scratch space"
   ]
  },
  {
   "cell_type": "code",
   "execution_count": null,
   "metadata": {},
   "outputs": [],
   "source": []
  },
  {
   "cell_type": "code",
   "execution_count": null,
   "metadata": {},
   "outputs": [
    {
     "name": "stdout",
     "output_type": "stream",
     "text": [
      "torch.Size([120000, 1024]) torch.Size([1024]) torch.Size([31104, 1024])\n",
      "Epoch [1/5000], Loss: 3.8490, Accuracy: 0.0251\n",
      "Epoch [250/5000], Loss: 1.1821, Accuracy: 0.6436\n",
      "Epoch [500/5000], Loss: 1.0487, Accuracy: 0.6751\n",
      "Epoch [750/5000], Loss: 0.9914, Accuracy: 0.6885\n",
      "Epoch [1000/5000], Loss: 0.9581, Accuracy: 0.6975\n",
      "Test Accuracy: 0.5821\n",
      "Epoch [1250/5000], Loss: 0.9360, Accuracy: 0.7035\n",
      "Epoch [1500/5000], Loss: 0.9201, Accuracy: 0.7074\n",
      "Epoch [1750/5000], Loss: 0.9082, Accuracy: 0.7100\n",
      "Epoch [2000/5000], Loss: 0.8990, Accuracy: 0.7121\n",
      "Test Accuracy: 0.5962\n",
      "Epoch [2250/5000], Loss: 0.8916, Accuracy: 0.7138\n",
      "Epoch [2500/5000], Loss: 0.8855, Accuracy: 0.7157\n",
      "Epoch [2750/5000], Loss: 0.8805, Accuracy: 0.7167\n",
      "Epoch [3000/5000], Loss: 0.8763, Accuracy: 0.7176\n",
      "Test Accuracy: 0.6007\n",
      "Epoch [3250/5000], Loss: 0.8728, Accuracy: 0.7182\n",
      "Epoch [3500/5000], Loss: 0.8697, Accuracy: 0.7189\n",
      "Epoch [3750/5000], Loss: 0.8671, Accuracy: 0.7194\n",
      "Epoch [4000/5000], Loss: 0.8649, Accuracy: 0.7200\n",
      "Test Accuracy: 0.6021\n",
      "Epoch [4250/5000], Loss: 0.8629, Accuracy: 0.7205\n",
      "Epoch [4500/5000], Loss: 0.8611, Accuracy: 0.7207\n",
      "Epoch [4750/5000], Loss: 0.8596, Accuracy: 0.7212\n",
      "Epoch [5000/5000], Loss: 0.8582, Accuracy: 0.7216\n",
      "Test Accuracy: 0.6030\n",
      "Test Accuracy: 0.6030\n",
      "Layer blocks5 PCA time: 1.51, PCA transform time: 15.64, training time: 37.60\n",
      "torch.Size([120000, 1024]) torch.Size([1024]) torch.Size([31104, 1024])\n",
      "Epoch [1/5000], Loss: 3.8384, Accuracy: 0.0259\n",
      "Epoch [250/5000], Loss: 1.1213, Accuracy: 0.6577\n",
      "Epoch [500/5000], Loss: 1.0039, Accuracy: 0.6864\n",
      "Epoch [750/5000], Loss: 0.9524, Accuracy: 0.7005\n",
      "Epoch [1000/5000], Loss: 0.9222, Accuracy: 0.7085\n",
      "Test Accuracy: 0.5915\n",
      "Epoch [1250/5000], Loss: 0.9020, Accuracy: 0.7142\n",
      "Epoch [1500/5000], Loss: 0.8875, Accuracy: 0.7180\n",
      "Epoch [1750/5000], Loss: 0.8767, Accuracy: 0.7203\n",
      "Epoch [2000/5000], Loss: 0.8683, Accuracy: 0.7223\n",
      "Test Accuracy: 0.6031\n",
      "Epoch [2250/5000], Loss: 0.8616, Accuracy: 0.7240\n",
      "Epoch [2500/5000], Loss: 0.8562, Accuracy: 0.7253\n",
      "Epoch [2750/5000], Loss: 0.8518, Accuracy: 0.7263\n",
      "Epoch [3000/5000], Loss: 0.8481, Accuracy: 0.7272\n",
      "Test Accuracy: 0.6075\n",
      "Epoch [3250/5000], Loss: 0.8450, Accuracy: 0.7279\n",
      "Epoch [3500/5000], Loss: 0.8424, Accuracy: 0.7286\n",
      "Epoch [3750/5000], Loss: 0.8401, Accuracy: 0.7291\n",
      "Epoch [4000/5000], Loss: 0.8382, Accuracy: 0.7296\n",
      "Test Accuracy: 0.6091\n",
      "Epoch [4250/5000], Loss: 0.8365, Accuracy: 0.7301\n",
      "Epoch [4500/5000], Loss: 0.8350, Accuracy: 0.7304\n",
      "Epoch [4750/5000], Loss: 0.8337, Accuracy: 0.7308\n",
      "Epoch [5000/5000], Loss: 0.8325, Accuracy: 0.7309\n",
      "Test Accuracy: 0.6098\n",
      "Test Accuracy: 0.6098\n",
      "Layer blocks11 PCA time: 1.47, PCA transform time: 15.55, training time: 37.41\n"
     ]
    }
   ],
   "source": [
    "PC_dim = 1024\n",
    "noPCA = False\n",
    "model_PCA_col = {}\n",
    "PC_proj_col = {}\n",
    "results_col = {}\n",
    "for layerkey in feature_col.keys():\n",
    "    t0 = time.time()\n",
    "    featmat = feature_col[layerkey].view(len(train_dataset),-1)\n",
    "    featmat_test = feature_col_test[layerkey].view(len(test_dataset),-1)\n",
    "    featmean = featmat.mean(dim=0)\n",
    "    t1 = time.time()\n",
    "    if noPCA:\n",
    "        feat_PCA = (featmat - featmean[None,]).cuda()\n",
    "        feat_PCA_std = feat_PCA.std(dim=0)\n",
    "        feat_PCA = feat_PCA / feat_PCA_std[None,]\n",
    "        feat_PCA_test = (featmat_test - featmean[None,]).cuda() \n",
    "        feat_PCA_test = feat_PCA_test / feat_PCA_std[None,]\n",
    "    else:\n",
    "        U, S, V = torch.pca_lowrank((featmat - featmean[None,]).cuda(), q=PC_dim, center=False, niter=3)\n",
    "        print(U.shape, S.shape, V.shape)\n",
    "        del U, S\n",
    "        torch.cuda.empty_cache()\n",
    "        feat_PCA = (featmat - featmean[None,]).cuda() @ V\n",
    "        feat_PCA_std = feat_PCA.std(dim=0)\n",
    "        feat_PCA = feat_PCA / feat_PCA_std[None,]\n",
    "        feat_PCA_test = (featmat_test - featmean[None,]).cuda() @ V\n",
    "        feat_PCA_test = feat_PCA_test / feat_PCA_std[None,]\n",
    "        torch.cuda.empty_cache()\n",
    "        V = V.cpu()\n",
    "    t2 = time.time()\n",
    "    model, results_dict = fit_SGD_linear_classifier(feat_PCA, y_train, feat_PCA_test, y_test,\n",
    "                                    num_classes=40, batch_size=None, num_epochs=5000, print_every=250, \n",
    "                                    eval_every=1000, learning_rate=0.005)\n",
    "    t3 = time.time()\n",
    "    print(f\"Layer {layerkey} PCA time: {t1-t0:.2f}, PCA transform time: {t2-t1:.2f}, training time: {t3-t2:.2f}\")\n",
    "    model_PCA_col[layerkey] = model\n",
    "    PC_proj_col[layerkey] = (V, featmean.cpu(), feat_PCA_std.cpu())\n",
    "    results_col[layerkey] = results_dict\n"
   ]
  },
  {
   "cell_type": "code",
   "execution_count": null,
   "metadata": {},
   "outputs": [
    {
     "name": "stdout",
     "output_type": "stream",
     "text": [
      "FeatureFetcher hooks all freed\n"
     ]
    },
    {
     "name": "stderr",
     "output_type": "stream",
     "text": [
      "100%|███████████████████████████████████████████████████████████████████████████████████████████████████████████████████| 59/59 [00:37<00:00,  1.59it/s]\n"
     ]
    },
    {
     "name": "stdout",
     "output_type": "stream",
     "text": [
      "blocks5 torch.Size([120000, 81, 384])\n",
      "blocks11 torch.Size([120000, 81, 384])\n"
     ]
    },
    {
     "name": "stderr",
     "output_type": "stream",
     "text": [
      "100%|███████████████████████████████████████████████████████████████████████████████████████████████████████████████████| 20/20 [00:14<00:00,  1.38it/s]\n"
     ]
    },
    {
     "name": "stdout",
     "output_type": "stream",
     "text": [
      "blocks5 torch.Size([40000, 81, 384])\n",
      "blocks11 torch.Size([40000, 81, 384])\n"
     ]
    }
   ],
   "source": [
    "t_scalar = 50\n",
    "# layerkey = \"blocks.11\"\n",
    "fetcher = featureFetcher_module()\n",
    "for i in (5,11):#range(len(model.blocks)):\n",
    "    fetcher.record_module(model_DiT.blocks[i], target_name=f\"blocks{i}\")\n",
    "train_loader = DataLoader(train_dataset, batch_size=2048, shuffle=False, drop_last=False)\n",
    "test_loader = DataLoader(test_dataset, batch_size=2048, shuffle=False)\n",
    "feature_col = defaultdict(list)\n",
    "for X_batch, y_batch in tqdm(train_loader):\n",
    "    model_kwargs = dict(y=th.zeros(X_batch.shape[0], dtype=torch.int, device=\"cuda\"))\n",
    "    t_vec = th.ones(X_batch.shape[0], dtype=torch.float, device=\"cuda\") * t_scalar\n",
    "    X_batch_norm = (X_batch.cuda().float() - dataset_Xmean) / dataset_Xstd\n",
    "    with th.no_grad():\n",
    "        model_DiT.forward(X_batch_norm, t_vec, **model_kwargs)\n",
    "    for key, activations in fetcher.activations.items():\n",
    "        feature_col[key].append(activations)\n",
    "for key in feature_col.keys():\n",
    "    feature_col[key] = th.cat(feature_col[key], dim=0)\n",
    "    print(key, feature_col[key].shape)\n",
    "\n",
    "\n",
    "feature_col_test = defaultdict(list)\n",
    "for X_batch, y_batch in tqdm(test_loader):\n",
    "    model_kwargs = dict(y=th.zeros(X_batch.shape[0], dtype=torch.int, device=\"cuda\"))\n",
    "    t_vec = th.ones(X_batch.shape[0], dtype=torch.float, device=\"cuda\") * t_scalar\n",
    "    X_batch_norm = (X_batch.cuda().float() - dataset_Xmean) / dataset_Xstd\n",
    "    with th.no_grad():\n",
    "        model_DiT.forward(X_batch_norm, t_vec, **model_kwargs)\n",
    "    for key, activations in fetcher.activations.items():\n",
    "        feature_col_test[key].append(activations)\n",
    "        \n",
    "for key in feature_col_test.keys():\n",
    "    feature_col_test[key] = th.cat(feature_col_test[key], dim=0)\n",
    "    print(key, feature_col_test[key].shape)"
   ]
  },
  {
   "cell_type": "code",
   "execution_count": null,
   "metadata": {},
   "outputs": [],
   "source": [
    "th.cuda.empty_cache()"
   ]
  },
  {
   "cell_type": "code",
   "execution_count": null,
   "metadata": {},
   "outputs": [
    {
     "name": "stdout",
     "output_type": "stream",
     "text": [
      "torch.Size([120000, 1024]) torch.Size([1024]) torch.Size([31104, 1024])\n",
      "Epoch [1/5000], Loss: 3.8343, Accuracy: 0.0265\n",
      "Epoch [250/5000], Loss: 0.3640, Accuracy: 0.9008\n",
      "Epoch [500/5000], Loss: 0.2743, Accuracy: 0.9218\n",
      "Epoch [750/5000], Loss: 0.2355, Accuracy: 0.9314\n",
      "Epoch [1000/5000], Loss: 0.2124, Accuracy: 0.9365\n",
      "Test Accuracy: 0.8400\n",
      "Epoch [1250/5000], Loss: 0.1966, Accuracy: 0.9402\n",
      "Epoch [1500/5000], Loss: 0.1847, Accuracy: 0.9430\n",
      "Epoch [1750/5000], Loss: 0.1753, Accuracy: 0.9455\n",
      "Epoch [2000/5000], Loss: 0.1676, Accuracy: 0.9475\n",
      "Test Accuracy: 0.8418\n",
      "Epoch [2250/5000], Loss: 0.1610, Accuracy: 0.9493\n",
      "Epoch [2500/5000], Loss: 0.1554, Accuracy: 0.9508\n",
      "Epoch [2750/5000], Loss: 0.1504, Accuracy: 0.9521\n",
      "Epoch [3000/5000], Loss: 0.1459, Accuracy: 0.9534\n",
      "Test Accuracy: 0.8404\n",
      "Epoch [3250/5000], Loss: 0.1419, Accuracy: 0.9544\n",
      "Epoch [3500/5000], Loss: 0.1382, Accuracy: 0.9554\n",
      "Epoch [3750/5000], Loss: 0.1348, Accuracy: 0.9564\n",
      "Epoch [4000/5000], Loss: 0.1316, Accuracy: 0.9575\n",
      "Test Accuracy: 0.8351\n",
      "Epoch [4250/5000], Loss: 0.1287, Accuracy: 0.9582\n",
      "Epoch [4500/5000], Loss: 0.1259, Accuracy: 0.9592\n",
      "Epoch [4750/5000], Loss: 0.1232, Accuracy: 0.9601\n",
      "Epoch [5000/5000], Loss: 0.1208, Accuracy: 0.9606\n",
      "Test Accuracy: 0.8302\n",
      "Test Accuracy: 0.8302\n",
      "Layer blocks5 PCA time: 1.51, PCA transform time: 15.90, training time: 37.38\n",
      "torch.Size([120000, 1024]) torch.Size([1024]) torch.Size([31104, 1024])\n",
      "Epoch [1/5000], Loss: 3.8283, Accuracy: 0.0275\n",
      "Epoch [250/5000], Loss: 0.0189, Accuracy: 0.9983\n",
      "Epoch [500/5000], Loss: 0.0093, Accuracy: 0.9996\n",
      "Epoch [750/5000], Loss: 0.0059, Accuracy: 0.9999\n",
      "Epoch [1000/5000], Loss: 0.0041, Accuracy: 1.0000\n",
      "Test Accuracy: 0.9782\n",
      "Epoch [1250/5000], Loss: 0.0031, Accuracy: 1.0000\n",
      "Epoch [1500/5000], Loss: 0.0024, Accuracy: 1.0000\n",
      "Epoch [1750/5000], Loss: 0.0019, Accuracy: 1.0000\n",
      "Epoch [2000/5000], Loss: 0.0015, Accuracy: 1.0000\n",
      "Test Accuracy: 0.9764\n",
      "Epoch [2250/5000], Loss: 0.0013, Accuracy: 1.0000\n",
      "Epoch [2500/5000], Loss: 0.0010, Accuracy: 1.0000\n",
      "Epoch [2750/5000], Loss: 0.0009, Accuracy: 1.0000\n",
      "Epoch [3000/5000], Loss: 0.0007, Accuracy: 1.0000\n",
      "Test Accuracy: 0.9755\n",
      "Epoch [3250/5000], Loss: 0.0006, Accuracy: 1.0000\n",
      "Epoch [3500/5000], Loss: 0.0005, Accuracy: 1.0000\n",
      "Epoch [3750/5000], Loss: 0.0005, Accuracy: 1.0000\n",
      "Epoch [4000/5000], Loss: 0.0004, Accuracy: 1.0000\n",
      "Test Accuracy: 0.9747\n",
      "Epoch [4250/5000], Loss: 0.0004, Accuracy: 1.0000\n",
      "Epoch [4500/5000], Loss: 0.0003, Accuracy: 1.0000\n",
      "Epoch [4750/5000], Loss: 0.0003, Accuracy: 1.0000\n",
      "Epoch [5000/5000], Loss: 0.0002, Accuracy: 1.0000\n",
      "Test Accuracy: 0.9740\n",
      "Test Accuracy: 0.9740\n",
      "Layer blocks11 PCA time: 1.50, PCA transform time: 16.06, training time: 37.49\n"
     ]
    }
   ],
   "source": [
    "PC_dim = 1024\n",
    "noPCA = False\n",
    "model_PCA_col = {}\n",
    "PC_proj_col = {}\n",
    "results_col = {}\n",
    "for layerkey in feature_col.keys():\n",
    "    t0 = time.time()\n",
    "    featmat = feature_col[layerkey].view(len(train_dataset),-1)\n",
    "    featmat_test = feature_col_test[layerkey].view(len(test_dataset),-1)\n",
    "    featmean = featmat.mean(dim=0)\n",
    "    t1 = time.time()\n",
    "    if noPCA:\n",
    "        feat_PCA = (featmat - featmean[None,]).cuda()\n",
    "        feat_PCA_std = feat_PCA.std(dim=0)\n",
    "        feat_PCA = feat_PCA / feat_PCA_std[None,]\n",
    "        feat_PCA_test = (featmat_test - featmean[None,]).cuda() \n",
    "        feat_PCA_test = feat_PCA_test / feat_PCA_std[None,]\n",
    "    else:\n",
    "        U, S, V = torch.pca_lowrank((featmat - featmean[None,]).cuda(), q=PC_dim, center=False, niter=3)\n",
    "        print(U.shape, S.shape, V.shape)\n",
    "        del U, S\n",
    "        torch.cuda.empty_cache()\n",
    "        feat_PCA = (featmat - featmean[None,]).cuda() @ V\n",
    "        feat_PCA_std = feat_PCA.std(dim=0)\n",
    "        feat_PCA = feat_PCA / feat_PCA_std[None,]\n",
    "        feat_PCA_test = (featmat_test - featmean[None,]).cuda() @ V\n",
    "        feat_PCA_test = feat_PCA_test / feat_PCA_std[None,]\n",
    "        torch.cuda.empty_cache()\n",
    "        V = V.cpu()\n",
    "    t2 = time.time()\n",
    "    model, results_dict = fit_SGD_linear_classifier(feat_PCA, y_train, feat_PCA_test, y_test,\n",
    "                                    num_classes=40, batch_size=None, num_epochs=5000, print_every=250, \n",
    "                                    eval_every=1000, learning_rate=0.005)\n",
    "    t3 = time.time()\n",
    "    print(f\"Layer {layerkey} PCA time: {t1-t0:.2f}, PCA transform time: {t2-t1:.2f}, training time: {t3-t2:.2f}\")\n",
    "    model_PCA_col[layerkey] = model\n",
    "    PC_proj_col[layerkey] = (V, featmean.cpu(), feat_PCA_std.cpu())\n",
    "    results_col[layerkey] = results_dict\n"
   ]
  },
  {
   "cell_type": "code",
   "execution_count": null,
   "metadata": {},
   "outputs": [],
   "source": [
    "PC_dim = 1024\n",
    "noPCA = False\n",
    "model_PCA_col = {}\n",
    "PC_proj_col = {}\n",
    "results_col = {}\n",
    "for layerkey in feature_col.keys():\n",
    "    t0 = time.time()\n",
    "    featmat = feature_col[layerkey].view(len(train_dataset),-1)\n",
    "    featmat_test = feature_col_test[layerkey].view(len(test_dataset),-1)\n",
    "    featmean = featmat.mean(dim=0)\n",
    "    t1 = time.time()\n",
    "    if noPCA:\n",
    "        feat_PCA = (featmat - featmean[None,]).cuda()\n",
    "        feat_PCA_std = feat_PCA.std(dim=0)\n",
    "        feat_PCA = feat_PCA / feat_PCA_std[None,]\n",
    "        feat_PCA_test = (featmat_test - featmean[None,]).cuda() \n",
    "        feat_PCA_test = feat_PCA_test / feat_PCA_std[None,]\n",
    "    else:\n",
    "        U, S, V = torch.pca_lowrank((featmat - featmean[None,]).cuda(), q=PC_dim, center=False, niter=3)\n",
    "        print(U.shape, S.shape, V.shape)\n",
    "        del U, S\n",
    "        torch.cuda.empty_cache()\n",
    "        feat_PCA = (featmat - featmean[None,]).cuda() @ V\n",
    "        feat_PCA_std = feat_PCA.std(dim=0)\n",
    "        feat_PCA = feat_PCA / feat_PCA_std[None,]\n",
    "        feat_PCA_test = (featmat_test - featmean[None,]).cuda() @ V\n",
    "        feat_PCA_test = feat_PCA_test / feat_PCA_std[None,]\n",
    "        torch.cuda.empty_cache()\n",
    "        V = V.cpu()\n",
    "    t2 = time.time()\n",
    "    model, results_dict = fit_SGD_linear_classifier(feat_PCA, y_train, feat_PCA_test, y_test,\n",
    "                                    num_classes=40, batch_size=None, num_epochs=5000, print_every=250, \n",
    "                                    eval_every=1000, learning_rate=0.005)\n",
    "    t3 = time.time()\n",
    "    print(f\"Layer {layerkey} PCA time: {t1-t0:.2f}, PCA transform time: {t2-t1:.2f}, training time: {t3-t2:.2f}\")\n",
    "    model_PCA_col[layerkey] = model\n",
    "    PC_proj_col[layerkey] = (V, featmean.cpu(), feat_PCA_std.cpu())\n",
    "    results_col[layerkey] = results_dict\n"
   ]
  }
 ],
 "metadata": {
  "kernelspec": {
   "display_name": "Python 3 (ipykernel)",
   "language": "python",
   "name": "python3"
  }
 },
 "nbformat": 4,
 "nbformat_minor": 2
}
