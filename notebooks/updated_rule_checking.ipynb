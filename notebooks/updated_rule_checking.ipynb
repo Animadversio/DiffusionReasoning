{
 "cells": [
  {
   "cell_type": "code",
   "execution_count": 1,
   "metadata": {},
   "outputs": [],
   "source": [
    "import numpy as np \n",
    "import pickle"
   ]
  },
  {
   "cell_type": "code",
   "execution_count": 8,
   "metadata": {},
   "outputs": [
    {
     "name": "stdout",
     "output_type": "stream",
     "text": [
      "/n/home12/binxuwang/Github/DiffusionReasoning/notebooks\n"
     ]
    }
   ],
   "source": [
    "!pwd"
   ]
  },
  {
   "cell_type": "code",
   "execution_count": 12,
   "metadata": {},
   "outputs": [],
   "source": [
    "data_dir = '/n/home12/binxuwang/Github/DiffusionReasoning/rule_data/'\n",
    "\n",
    "# attr_all = np.load(data_dir+'attr_all.npy') # (40, 12000, 3, 9, 3), (num_rules, num_samples, num_panels, num_pos, num_attributes)\n",
    "\n",
    "with open(data_dir+'r_dict_M7_withR.pkl', 'rb') as file:\n",
    "    r_dict_M7_withR = pickle.load(file)\n",
    "    \n",
    "with open(data_dir+'r_dict_M10_withR.pkl', 'rb') as file:\n",
    "    r_dict_M10_withR = pickle.load(file)\n",
    "    \n",
    "with open(data_dir+'r_dict_num_withR.pkl', 'rb') as file:\n",
    "    r_dict_num_withR = pickle.load(file)\n",
    "    \n",
    "with open(data_dir+'r_dict_pos_withR.pkl', 'rb') as file:\n",
    "    r_dict_pos_withR = pickle.load(file)"
   ]
  },
  {
   "cell_type": "code",
   "execution_count": 13,
   "metadata": {},
   "outputs": [],
   "source": [
    "def get_key_first2(a_list):\n",
    "    \"\"\"\n",
    "    convert a_list to key string\n",
    "    e.g., a_list = [[1,2], [1]], key='12-1'\n",
    "    \"\"\"\n",
    "    key = ''\n",
    "    for x in a_list[0]: \n",
    "        key+=str(x)\n",
    "    key += '-'\n",
    "    for x in a_list[1]: \n",
    "        key+=str(x) \n",
    "    return key\n",
    "\n",
    "def get_attr(attr): \n",
    "    \"\"\"attr.shape # (num_panels, num_obs, obj)\"\"\"\n",
    "    # step 1: check number of objects \n",
    "    x_num = [[] for i in range(3)]\n",
    "    x_pos = [[] for i in range(3)]\n",
    "    x_shape = [[] for i in range(3)]\n",
    "    x_color = [[] for i in range(3)]\n",
    "    x_size = [[] for i in range(3)]\n",
    "\n",
    "    for i, attr_panel in enumerate(attr): \n",
    "\n",
    "        pos = list(np.where((attr_panel==-1).sum(1)==0)[0])\n",
    "        x_pos[i] = pos \n",
    "        x_num[i] = [len(pos)]\n",
    "        x_shape[i] = list(np.unique(attr_panel[pos,0]))\n",
    "        x_color[i] = list(np.unique(attr_panel[pos,1]))\n",
    "        x_size[i] = list(np.unique(attr_panel[pos,2]))\n",
    "        \n",
    "    return x_num, x_pos, x_shape, x_color, x_size \n",
    "\n",
    "def check_rule(x, r_dict_withR): \n",
    "    i_R = None\n",
    "    key_first2 = get_key_first2(x) # '5-5'\n",
    "    if key_first2 in r_dict_withR.keys(): \n",
    "        d = r_dict_withR[key_first2]\n",
    "        if x[2] in d.values():\n",
    "            i_R = list(d.keys())[list(d.values()).index(x[2])]\n",
    "    return i_R \n",
    "\n",
    "def check_row_rule(attr): \n",
    "    \"\"\"attr: (3, 9, 3), return list of rule \"\"\"\n",
    "    x_num, x_pos, x_shape, x_color, x_size = get_attr(attr)\n",
    "    \n",
    "    rule_list = []\n",
    "    R_shape = check_rule(x_shape, r_dict_M7_withR)\n",
    "    if R_shape is not None: \n",
    "        rule_list.append(R_shape)\n",
    "\n",
    "    R_color = check_rule(x_color, r_dict_M10_withR)\n",
    "    if R_color is not None: \n",
    "        rule_list.append(R_color+10)\n",
    "\n",
    "    R_size = check_rule(x_size, r_dict_M10_withR)\n",
    "    if R_size is not None: \n",
    "        rule_list.append(R_size+20)\n",
    "        \n",
    "    R_num = check_rule(x_num, r_dict_num_withR)\n",
    "    if R_num is not None: \n",
    "        rule_list.append(R_num+30)\n",
    "        \n",
    "    R_pos = check_rule(x_pos, r_dict_pos_withR)\n",
    "    if R_pos is not None: \n",
    "        rule_list.append(R_pos+37)\n",
    "        \n",
    "    return np.asarray(rule_list)"
   ]
  },
  {
   "cell_type": "code",
   "execution_count": 14,
   "metadata": {},
   "outputs": [
    {
     "data": {
      "text/plain": [
       "torch.Size([35, 10000, 3, 3, 9])"
      ]
     },
     "execution_count": 14,
     "metadata": {},
     "output_type": "execute_result"
    }
   ],
   "source": [
    "import torch\n",
    "import einops\n",
    "train_attrs = torch.load('/n/home12/binxuwang/Github/DiffusionReasoning/train_inputs.pt')\n",
    "train_row_img = einops.rearrange(train_attrs, 'c s pnl (H W) attr -> c s attr H (pnl W)', H=3, W=3, attr=3, pnl=3)\n",
    "train_row_img.shape"
   ]
  },
  {
   "cell_type": "code",
   "execution_count": 15,
   "metadata": {},
   "outputs": [
    {
     "data": {
      "text/plain": [
       "torch.Size([35, 10000, 3, 9, 3])"
      ]
     },
     "execution_count": 15,
     "metadata": {},
     "output_type": "execute_result"
    }
   ],
   "source": [
    "train_attrs.shape"
   ]
  },
  {
   "cell_type": "code",
   "execution_count": 16,
   "metadata": {},
   "outputs": [
    {
     "name": "stdout",
     "output_type": "stream",
     "text": [
      "[]\n",
      "[]\n",
      "[]\n",
      "[]\n",
      "[]\n",
      "[]\n",
      "[]\n",
      "[]\n",
      "[]\n",
      "[]\n",
      "[]\n",
      "[]\n",
      "[]\n",
      "[]\n",
      "[]\n",
      "[]\n",
      "[]\n",
      "[]\n",
      "[]\n",
      "[]\n",
      "[]\n",
      "[]\n",
      "[]\n",
      "[]\n",
      "[]\n",
      "[]\n",
      "[]\n",
      "[31]\n",
      "[32]\n",
      "[33]\n",
      "[34]\n",
      "[35]\n",
      "[36]\n",
      "[38]\n",
      "[39]\n"
     ]
    }
   ],
   "source": [
    "for i_rule in range(35): \n",
    "    attr = train_attrs[i_rule, 0]\n",
    "    rule_list = check_row_rule(attr)\n",
    "    print(rule_list)"
   ]
  }
 ],
 "metadata": {
  "kernelspec": {
   "display_name": "torch",
   "language": "python",
   "name": "python3"
  },
  "language_info": {
   "codemirror_mode": {
    "name": "ipython",
    "version": 3
   },
   "file_extension": ".py",
   "mimetype": "text/x-python",
   "name": "python",
   "nbconvert_exporter": "python",
   "pygments_lexer": "ipython3",
   "version": "3.10.12"
  }
 },
 "nbformat": 4,
 "nbformat_minor": 2
}
