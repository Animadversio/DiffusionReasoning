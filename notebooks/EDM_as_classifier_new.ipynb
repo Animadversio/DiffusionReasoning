{
 "cells": [
  {
   "cell_type": "code",
   "execution_count": 1,
   "metadata": {},
   "outputs": [],
   "source": [
    "%load_ext autoreload\n",
    "%autoreload 2\n"
   ]
  },
  {
   "cell_type": "code",
   "execution_count": 41,
   "metadata": {},
   "outputs": [],
   "source": [
    "import os\n",
    "from os.path import join\n",
    "import pickle as pkl\n",
    "import torch\n",
    "import torch as th\n",
    "from tqdm import tqdm\n",
    "import pandas as pd\n",
    "import numpy as np\n",
    "import seaborn as sns\n",
    "import einops\n",
    "import matplotlib.pyplot as plt\n",
    "from easydict import EasyDict as edict\n",
    "import matplotlib.pyplot as plt \n",
    "from tqdm.auto import tqdm\n",
    "from collections import defaultdict\n",
    "%matplotlib inline\n",
    "plt.rcParams['figure.dpi'] = 72\n",
    "plt.rcParams['figure.figsize'] = [6.0, 4.0]\n",
    "plt.rcParams['figure.edgecolor'] = (1, 1, 1, 0)\n",
    "plt.rcParams['figure.facecolor'] = (1, 1, 1, 0)\n",
    "# vector graphics type\n",
    "plt.rcParams['pdf.fonttype'] = 42\n",
    "plt.rcParams['ps.fonttype'] = 42"
   ]
  },
  {
   "cell_type": "code",
   "execution_count": 27,
   "metadata": {},
   "outputs": [],
   "source": [
    "import sys\n",
    "sys.path.append(\"/n/home12/binxuwang/Github/mini_edm\")\n",
    "sys.path.append(\"/n/home12/binxuwang/Github/DiffusionReasoning\")\n",
    "sys.path.append(\"/n/home12/binxuwang/Github/DiT\")\n",
    "from train_edm import create_model, edm_sampler, EDM\n",
    "from edm_utils import edm_sampler_inpaint, create_edm, get_default_config, create_edm_new\n",
    "# from rule_utils import get_rule_img, get_obj_list, get_rule_list\n",
    "# from rule_utils import check_consistent\n",
    "from dataset_utils import train_data2attr_tsr,load_raw_data,load_PGM_abstract\n",
    "from rule_new_utils import check_r3_r2_batch, infer_rule_from_sample_batch, compute_rule_statistics"
   ]
  },
  {
   "cell_type": "code",
   "execution_count": 5,
   "metadata": {},
   "outputs": [
    {
     "name": "stdout",
     "output_type": "stream",
     "text": [
      "Warning: skimage.transform is not available. Will use scipy.misc.imresize instead.\n",
      "Warning: skimage.transform is not available. Will use scipy.misc.imresize instead.\n",
      "/n/home12/binxuwang/Github/circuit_toolkit/circuit_toolkit/__init__.py\n"
     ]
    }
   ],
   "source": [
    "import circuit_toolkit\n",
    "print(circuit_toolkit.__file__)\n",
    "from circuit_toolkit.plot_utils import saveallforms\n",
    "from circuit_toolkit.layer_hook_utils import print_specific_layer, get_module_name_shapes, featureFetcher_module"
   ]
  },
  {
   "cell_type": "code",
   "execution_count": 12,
   "metadata": {},
   "outputs": [],
   "source": []
  },
  {
   "cell_type": "code",
   "execution_count": 6,
   "metadata": {},
   "outputs": [
    {
     "name": "stdout",
     "output_type": "stream",
     "text": [
      "/n/holylfs06/LABS/kempner_fellow_binxuwang/Users/binxuwang/DL_Projects/mini_edm/exps\n"
     ]
    }
   ],
   "source": [
    "!cd $STORE_DIR/DL_Projects/mini_edm/exps;pwd"
   ]
  },
  {
   "cell_type": "code",
   "execution_count": 9,
   "metadata": {},
   "outputs": [],
   "source": [
    "tabdir = \"/n/home12/binxuwang/Github/DiffusionReasoning/Tables\"\n",
    "exproot = r\"/n/holylfs06/LABS/kempner_fellow_binxuwang/Users/binxuwang/DL_Projects/mini_edm/exps\""
   ]
  },
  {
   "cell_type": "code",
   "execution_count": 13,
   "metadata": {},
   "outputs": [],
   "source": [
    "syndf_EDM = pd.read_csv(join(tabdir, \"EDM_raven_tensorboard_data_last10.csv\"), index_col=0)\n",
    "tb_data_col_EDM = pkl.load(open(join(tabdir, \"EDM_raven_tensorboard_raw_data.pkl\"), \"rb\"))"
   ]
  },
  {
   "cell_type": "code",
   "execution_count": 16,
   "metadata": {},
   "outputs": [],
   "source": [
    "from posthoc_analysis_utils import sweep_collect_eval_data, extract_rule_list_from_eval_col_Diffusion, format_rule_list_to_mat, visualize_indiv_rule_dynam, extract_and_convert, visualize_train_heldout_rule\n"
   ]
  },
  {
   "cell_type": "code",
   "execution_count": 17,
   "metadata": {},
   "outputs": [],
   "source": [
    "syndf_EDM[\"heldout\"] = syndf_EDM.index.map(lambda x: \"_heldout0\" in x)\n",
    "syndf_EDM[\"scale\"] = syndf_EDM.index.map(lambda x: \"EDMx3\" if \"BigBlnrX3\" in x else \"EDMx2\" if \"WideBlnrX3\" in x else \"EDMx1\" if \"BaseBlnrX3\" in x else None)\n",
    "syndf_EDM[\"dataset_size\"] = syndf_EDM.index.map(extract_and_convert)\n",
    "syndf_EDM[\"Rules/c23\"] = syndf_EDM[\"Rules/c2\"] + syndf_EDM[\"Rules/c3\"]\n",
    "syndf_EDM[\"Rules/c23_cnt\"] = syndf_EDM[\"Rules/c2_cnt\"] + syndf_EDM[\"Rules/c3_cnt\"]"
   ]
  },
  {
   "cell_type": "code",
   "execution_count": 24,
   "metadata": {},
   "outputs": [
    {
     "data": {
      "text/plain": [
       "'WideBlnrX3_new_stream0_16M_heldout0_RAVEN10_abstract_20240708-2054/tensorboard_logs'"
      ]
     },
     "execution_count": 24,
     "metadata": {},
     "output_type": "execute_result"
    }
   ],
   "source": [
    "syndf_EDM.query(\"heldout==True and dataset_size == 0.16\").loc[\"WideBlnrX3_new_stream0_16M_heldout0\"].full_name"
   ]
  },
  {
   "cell_type": "code",
   "execution_count": 61,
   "metadata": {},
   "outputs": [
    {
     "name": "stdout",
     "output_type": "stream",
     "text": [
      "ema_100000.pth\tema_220000.pth\tema_360000.pth\tema_480000.pth\tema_60000.pth\n",
      "ema_120000.pth\tema_240000.pth\tema_380000.pth\tema_500000.pth\tema_620000.pth\n",
      "ema_140000.pth\tema_260000.pth\tema_400000.pth\tema_520000.pth\tema_640000.pth\n",
      "ema_160000.pth\tema_280000.pth\tema_40000.pth\tema_540000.pth\tema_660000.pth\n",
      "ema_180000.pth\tema_300000.pth\tema_420000.pth\tema_560000.pth\tema_680000.pth\n",
      "ema_200000.pth\tema_320000.pth\tema_440000.pth\tema_580000.pth\tema_700000.pth\n",
      "ema_20000.pth\tema_340000.pth\tema_460000.pth\tema_600000.pth\tema_80000.pth\n"
     ]
    }
   ],
   "source": [
    "!ls {ckptdir}"
   ]
  },
  {
   "cell_type": "code",
   "execution_count": 10,
   "metadata": {},
   "outputs": [],
   "source": [
    "DATASET=\"RAVEN10_abstract\"\n",
    "# --layers_per_block 2 --model_channels 128 --channel_mult 1 2 4 --attn_resolutions 9 3 --train_batch_size 256 --spatial_matching bilinear\n",
    "config_ft = get_default_config(DATASET, layers_per_block=2, \n",
    "                               model_channels=128, \n",
    "                               channel_mult=[1, 2, 4], \n",
    "                               attn_resolutions=[9, 3], \n",
    "                               spatial_matching=\"bilinear\")\n",
    "device = \"cuda\""
   ]
  },
  {
   "cell_type": "code",
   "execution_count": 29,
   "metadata": {},
   "outputs": [],
   "source": [
    "# Xmean = torch.tensor([1.5, 2.5, 2.5]).view(1, 3, 1, 1).to(device)\n",
    "# Xstd = torch.tensor([2.5, 3.5, 3.5]).view(1, 3, 1, 1).to(device)\n",
    "dataset_Xmean = th.tensor([1.5, 2.5, 2.5]).view(1, 3, 1, 1).to(device)\n",
    "dataset_Xstd = th.tensor([2.5, 3.5, 3.5]).view(1, 3, 1, 1).to(device)"
   ]
  },
  {
   "cell_type": "code",
   "execution_count": 26,
   "metadata": {},
   "outputs": [],
   "source": [
    "epoch = 999999\n",
    "expname = \"WideBlnrX3_new_stream0_16M_heldout0_RAVEN10_abstract_20240708-2054\"\n",
    "expdir = join(exproot, expname)\n",
    "ckptdir = join(expdir, \"checkpoints\")\n",
    "repr_expdir = join(expdir, \"repr_classifier\")\n",
    "os.makedirs(repr_expdir, exist_ok=True)\n",
    "edm, model_EDM = create_edm_new(ckptdir + f\"/ema_{epoch}.pth\", config_ft, device) "
   ]
  },
  {
   "cell_type": "code",
   "execution_count": 124,
   "metadata": {},
   "outputs": [
    {
     "name": "stdout",
     "output_type": "stream",
     "text": [
      "ema_100000.pth\tema_280000.pth\tema_460000.pth\tema_640000.pth\tema_820000.pth\n",
      "ema_120000.pth\tema_300000.pth\tema_480000.pth\tema_660000.pth\tema_840000.pth\n",
      "ema_140000.pth\tema_320000.pth\tema_500000.pth\tema_680000.pth\tema_860000.pth\n",
      "ema_160000.pth\tema_340000.pth\tema_520000.pth\tema_700000.pth\tema_880000.pth\n",
      "ema_180000.pth\tema_360000.pth\tema_540000.pth\tema_720000.pth\tema_900000.pth\n",
      "ema_200000.pth\tema_380000.pth\tema_560000.pth\tema_740000.pth\tema_920000.pth\n",
      "ema_20000.pth\tema_400000.pth\tema_580000.pth\tema_760000.pth\tema_940000.pth\n",
      "ema_220000.pth\tema_40000.pth\tema_600000.pth\tema_780000.pth\tema_960000.pth\n",
      "ema_240000.pth\tema_420000.pth\tema_60000.pth\tema_800000.pth\tema_980000.pth\n",
      "ema_260000.pth\tema_440000.pth\tema_620000.pth\tema_80000.pth\tema_999999.pth\n"
     ]
    }
   ],
   "source": [
    "!ls {ckptdir}"
   ]
  },
  {
   "cell_type": "markdown",
   "metadata": {},
   "source": [
    "### Test sampling and accuracy"
   ]
  },
  {
   "cell_type": "code",
   "execution_count": 30,
   "metadata": {},
   "outputs": [
    {
     "name": "stdout",
     "output_type": "stream",
     "text": [
      "C3: 504/1024 (0.49), C3 + C2: 697/1024 (0.68), AnyValid: 2231/3072 (0.73)\n"
     ]
    }
   ],
   "source": [
    "latents = torch.randn(1024, 3, 9, 9).to(device)\n",
    "samples = edm_sampler(edm, latents, num_steps=100)\n",
    "samples = samples * dataset_Xstd + dataset_Xmean\n",
    "r3_list, r2_list, rule_col = infer_rule_from_sample_batch(samples.cpu())\n",
    "C3_count, C2_count, anyvalid_count, total = compute_rule_statistics(r3_list, r2_list, rule_col, verbose=True)"
   ]
  },
  {
   "cell_type": "markdown",
   "metadata": {},
   "source": [
    "### Training data"
   ]
  },
  {
   "cell_type": "code",
   "execution_count": 31,
   "metadata": {},
   "outputs": [],
   "source": [
    "train_attrs = np.load(\"/n/home12/binxuwang/Github/DiffusionReasoning/attr_all.npy\")\n",
    "train_attrs = th.from_numpy(train_attrs).to(int)\n",
    "train_row_img = einops.rearrange(train_attrs, 'c s pnl (H W) att -> c s att H (pnl W)', H=3, W=3, att=3, pnl=3)\n",
    "train_sample_img = einops.rearrange(train_row_img, 'c (S R) att H W -> c S att (R H) W', R=3,att=3, H=3, W=9)\n",
    "labels_tsr = torch.arange(len(train_sample_img)).to(int).view(-1,1).repeat(1, train_sample_img.shape[1])"
   ]
  },
  {
   "cell_type": "code",
   "execution_count": 32,
   "metadata": {},
   "outputs": [
    {
     "name": "stdout",
     "output_type": "stream",
     "text": [
      "torch.Size([120000, 3, 9, 9]) torch.Size([120000])\n"
     ]
    }
   ],
   "source": [
    "from torch.utils.data import Dataset, DataLoader, TensorDataset\n",
    "X_train = train_sample_img[:, :3000]\n",
    "y_train = labels_tsr[:, :3000]\n",
    "X_test = train_sample_img[:, 3000:]\n",
    "y_test = labels_tsr[:, 3000:]\n",
    "X_train = X_train.reshape(-1, 3, 9, 9)\n",
    "y_train = y_train.reshape(-1)\n",
    "X_test = X_test.reshape(-1, 3, 9, 9)\n",
    "y_test = y_test.reshape(-1)\n",
    "print(X_train.shape, y_train.shape)\n",
    "train_dataset = TensorDataset(X_train, y_train)\n",
    "test_dataset = TensorDataset(X_test, y_test)"
   ]
  },
  {
   "cell_type": "markdown",
   "metadata": {},
   "source": [
    "### Hook model and retrieve feature"
   ]
  },
  {
   "cell_type": "code",
   "execution_count": 36,
   "metadata": {},
   "outputs": [],
   "source": [
    "from repr_probe_lib import extract_features_DiT, train_pca_sgd_classifiers "
   ]
  },
  {
   "cell_type": "code",
   "execution_count": 35,
   "metadata": {},
   "outputs": [
    {
     "name": "stdout",
     "output_type": "stream",
     "text": [
      "------------------------------------------------------------------------------------------------------------------------------------------------------\n",
      "      Layer Id                                           inshape                    outshape                            Type   Module Path                      \n",
      "======================================================================================================================================================\n",
      "        0                                             (2, 3, 9, 9)                (2, 3, 9, 9)                         [Input]   Image                            \n",
      "        1                                                   [(2,)]                    (2, 128)           [PositionalEmbedding]   .map_noise                       \n",
      "        2                                               [(2, 128)]                    (2, 512)                        [Linear]   .map_layer0                      \n",
      "        3                                               [(2, 512)]                    (2, 512)                        [Linear]   .map_layer1                      \n",
      "        4                                           [(2, 3, 9, 9)]              (2, 128, 9, 9)                        [Conv2d]   .enc.9x9_conv                    \n",
      "        5                               [(2, 128, 9, 9), (2, 512)]              (2, 128, 9, 9)                     [UNetBlock]   .enc.9x9_block0                  \n",
      "        6                               [(2, 128, 9, 9), (2, 512)]              (2, 128, 9, 9)                     [UNetBlock]   .enc.9x9_block1                  \n",
      "        7                               [(2, 128, 9, 9), (2, 512)]              (2, 128, 3, 3)                     [UNetBlock]   .enc.3x3_down                    \n",
      "        8                               [(2, 128, 3, 3), (2, 512)]              (2, 256, 3, 3)                     [UNetBlock]   .enc.3x3_block0                  \n",
      "        9                               [(2, 256, 3, 3), (2, 512)]              (2, 256, 3, 3)                     [UNetBlock]   .enc.3x3_block1                  \n",
      "        10                              [(2, 256, 3, 3), (2, 512)]              (2, 256, 1, 1)                     [UNetBlock]   .enc.1x1_down                    \n",
      "        11                              [(2, 256, 1, 1), (2, 512)]              (2, 512, 1, 1)                     [UNetBlock]   .enc.1x1_block0                  \n",
      "        12                              [(2, 512, 1, 1), (2, 512)]              (2, 512, 1, 1)                     [UNetBlock]   .enc.1x1_block1                  \n",
      "        13                              [(2, 512, 1, 1), (2, 512)]              (2, 512, 1, 1)                     [UNetBlock]   .dec.1x1_in0                     \n",
      "        14                              [(2, 512, 1, 1), (2, 512)]              (2, 512, 1, 1)                     [UNetBlock]   .dec.1x1_in1                     \n",
      "        15                             [(2, 1024, 1, 1), (2, 512)]              (2, 512, 1, 1)                     [UNetBlock]   .dec.1x1_block0                  \n",
      "        16                             [(2, 1024, 1, 1), (2, 512)]              (2, 512, 1, 1)                     [UNetBlock]   .dec.1x1_block1                  \n",
      "        17                              [(2, 768, 1, 1), (2, 512)]              (2, 512, 1, 1)                     [UNetBlock]   .dec.1x1_block2                  \n",
      "        18                              [(2, 512, 1, 1), (2, 512)]              (2, 512, 1, 1)                     [UNetBlock]   .dec.3x3_up                      \n",
      "        19                              [(2, 768, 3, 3), (2, 512)]              (2, 256, 3, 3)                     [UNetBlock]   .dec.3x3_block0                  \n",
      "        20                              [(2, 512, 3, 3), (2, 512)]              (2, 256, 3, 3)                     [UNetBlock]   .dec.3x3_block1                  \n",
      "        21                              [(2, 384, 3, 3), (2, 512)]              (2, 256, 3, 3)                     [UNetBlock]   .dec.3x3_block2                  \n",
      "        22                              [(2, 256, 3, 3), (2, 512)]              (2, 256, 7, 7)                     [UNetBlock]   .dec.9x9_up                      \n",
      "        23                              [(2, 384, 9, 9), (2, 512)]              (2, 128, 9, 9)                     [UNetBlock]   .dec.9x9_block0                  \n",
      "        24                              [(2, 256, 9, 9), (2, 512)]              (2, 128, 9, 9)                     [UNetBlock]   .dec.9x9_block1                  \n",
      "        25                              [(2, 256, 9, 9), (2, 512)]              (2, 128, 9, 9)                     [UNetBlock]   .dec.9x9_block2                  \n",
      "        26                                        [(2, 128, 9, 9)]              (2, 128, 9, 9)                     [GroupNorm]   .dec.9x9_aux_norm                \n",
      "        27                                        [(2, 128, 9, 9)]                (2, 3, 9, 9)                        [Conv2d]   .dec.9x9_aux_conv                \n",
      "        28                                    [(2, 3, 9, 9), (2,)]                (2, 3, 9, 9)                      [SongUNet]   .                                \n"
     ]
    }
   ],
   "source": [
    "get_module_name_shapes(model_EDM, inputs_list=[th.randn(2, 3, 9, 9).to(device), th.rand(2, ).to(device), None], deepest=3);"
   ]
  },
  {
   "cell_type": "code",
   "execution_count": 52,
   "metadata": {},
   "outputs": [
    {
     "data": {
      "text/plain": [
       "['1x1_in0',\n",
       " '1x1_in1',\n",
       " '1x1_block0',\n",
       " '1x1_block1',\n",
       " '1x1_block2',\n",
       " '3x3_up',\n",
       " '3x3_block0',\n",
       " '3x3_block1',\n",
       " '3x3_block2',\n",
       " '9x9_up',\n",
       " '9x9_block0',\n",
       " '9x9_block1',\n",
       " '9x9_block2',\n",
       " '9x9_aux_norm',\n",
       " '9x9_aux_conv']"
      ]
     },
     "execution_count": 52,
     "metadata": {},
     "output_type": "execute_result"
    }
   ],
   "source": [
    "list(model_EDM.dec)"
   ]
  },
  {
   "cell_type": "code",
   "execution_count": 69,
   "metadata": {},
   "outputs": [],
   "source": [
    "def extract_features_EDM(model_EDM, fetcher, data_loader, \n",
    "                         dataset_Xmean, dataset_Xstd, t_scalar,\n",
    "                         device='cuda', progress_bar=True):\n",
    "    feature_col = defaultdict(list)\n",
    "    loader = tqdm(data_loader) if progress_bar else data_loader\n",
    "    for X_batch, y_batch in loader:\n",
    "        t_vec = th.ones(X_batch.shape[0], dtype=torch.float, device=device) * t_scalar\n",
    "        X_batch_norm = (X_batch.cuda().float() - dataset_Xmean) / dataset_Xstd\n",
    "        with th.no_grad():\n",
    "            model_EDM.model_forward_wrapper(X_batch_norm, t_vec, use_ema=True, labels=None)\n",
    "        feature_col[\"input\"].append(X_batch.float())\n",
    "        for key, activations in fetcher.activations.items():\n",
    "            feature_col[key].append(activations)\n",
    "    for key in feature_col.keys():\n",
    "        feature_col[key] = th.cat(feature_col[key], dim=0)\n",
    "        print(key, feature_col[key].shape)\n",
    "    return feature_col\n"
   ]
  },
  {
   "cell_type": "code",
   "execution_count": 37,
   "metadata": {},
   "outputs": [],
   "source": [
    "fetcher = featureFetcher_module()\n",
    "for blockname in list(model_EDM.enc):\n",
    "    fetcher.record_module(model_EDM.enc[blockname], target_name=f\"enc.{blockname}\")\n",
    "for blockname in list(model_EDM.dec):\n",
    "    fetcher.record_module(model_EDM.dec[blockname], target_name=f\"dec.{blockname}\")\n",
    "# fetcher.record_module(model.blocks[11], target_name=\"blocks.11\")\n",
    "# for i in range(12):\n",
    "#     fetcher.record_module(model.blocks[i], target_name=f\"blocks.{i}\")\n",
    "# fetcher.record_module(model.enc[\"9x9_conv\"], target_name=\"enc.9x9_conv\",)\n",
    "# fetcher.record_module(model.enc[\"9x9_block0\"], target_name=\"enc.9x9_block0\",)\n",
    "# fetcher.record_module(model.enc[\"9x9_block1\"], target_name=\"enc.9x9_block1\",)\n",
    "# fetcher.record_module(model.enc[\"3x3_down\"], target_name=\"enc.3x3_down\",)\n",
    "# fetcher.record_module(model.enc[\"3x3_block0\"], target_name=\"enc.3x3_block0\",)\n",
    "# fetcher.record_module(model.enc[\"3x3_block1\"], target_name=\"enc.3x3_block1\",)\n",
    "# fetcher.record_module(model.enc[\"1x1_down\"], target_name=\"enc.1x1_down\",)\n",
    "# fetcher.record_module(model.enc[\"1x1_block0\"], target_name=\"enc.1x1_block0\",)\n",
    "# fetcher.record_module(model.enc[\"1x1_block1\"], target_name=\"enc.1x1_block1\",)\n",
    "# fetcher.record_module(model.dec[\"1x1_in0\"], target_name=\"dec.1x1_in0\",)\n",
    "# fetcher.record_module(model.dec[\"1x1_in1\"], target_name=\"dec.1x1_in1\",)\n",
    "# fetcher.record_module(model.dec[\"1x1_block0\"], target_name=\"dec.1x1_block0\",)\n",
    "# fetcher.record_module(model.dec[\"1x1_block1\"], target_name=\"dec.1x1_block1\",)\n",
    "# fetcher.record_module(model.dec[\"1x1_block2\"], target_name=\"dec.1x1_block2\",)\n",
    "# fetcher.record_module(model.dec[\"3x3_up\"], target_name=\"dec.3x3_up\",)\n",
    "# fetcher.record_module(model.dec[\"3x3_block0\"], target_name=\"dec.3x3_block0\",)\n",
    "# fetcher.record_module(model.dec[\"3x3_block1\"], target_name=\"dec.3x3_block1\",)\n",
    "# fetcher.record_module(model.dec[\"3x3_block2\"], target_name=\"dec.3x3_block2\",)\n",
    "# fetcher.record_module(model.dec[\"9x9_up\"], target_name=\"dec.9x9_up\",)\n",
    "# fetcher.record_module(model.dec[\"9x9_block0\"], target_name=\"dec.9x9_block0\",)\n",
    "# fetcher.record_module(model.dec[\"9x9_block1\"], target_name=\"dec.9x9_block1\",)\n",
    "# fetcher.record_module(model.dec[\"9x9_block2\"], target_name=\"dec.9x9_block2\",)"
   ]
  },
  {
   "cell_type": "code",
   "execution_count": null,
   "metadata": {},
   "outputs": [],
   "source": [
    "# input torch.Size([40000, 3, 9, 9])\n",
    "# enc.9x9_conv torch.Size([40000, 128, 9, 9])\n",
    "# enc.9x9_block0 torch.Size([40000, 128, 9, 9])\n",
    "# enc.9x9_block1 torch.Size([40000, 128, 9, 9])\n",
    "# enc.3x3_down torch.Size([40000, 128, 3, 3])\n",
    "# enc.3x3_block0 torch.Size([40000, 256, 3, 3])\n",
    "# enc.3x3_block1 torch.Size([40000, 256, 3, 3])\n",
    "# enc.1x1_down torch.Size([40000, 256, 1, 1])\n",
    "# enc.1x1_block0 torch.Size([40000, 512, 1, 1])\n",
    "# enc.1x1_block1 torch.Size([40000, 512, 1, 1])\n",
    "# dec.1x1_in0 torch.Size([40000, 512, 1, 1])\n",
    "# dec.1x1_in1 torch.Size([40000, 512, 1, 1])\n",
    "# dec.1x1_block0 torch.Size([40000, 512, 1, 1])\n",
    "# dec.1x1_block1 torch.Size([40000, 512, 1, 1])\n",
    "# dec.1x1_block2 torch.Size([40000, 512, 1, 1])\n",
    "# dec.3x3_up torch.Size([40000, 512, 1, 1])\n",
    "# dec.3x3_block0 torch.Size([40000, 256, 3, 3])\n",
    "# dec.3x3_block1 torch.Size([40000, 256, 3, 3])\n",
    "# dec.3x3_block2 torch.Size([40000, 256, 3, 3])\n",
    "# dec.9x9_up torch.Size([40000, 256, 7, 7])\n",
    "# dec.9x9_block0 torch.Size([40000, 128, 9, 9])\n",
    "# dec.9x9_block1 torch.Size([40000, 128, 9, 9])\n",
    "# dec.9x9_block2 torch.Size([40000, 128, 9, 9])\n",
    "# dec.9x9_aux_norm torch.Size([40000, 128, 9, 9])\n",
    "# dec.9x9_aux_conv torch.Size([40000, 3, 9, 9])"
   ]
  },
  {
   "cell_type": "code",
   "execution_count": null,
   "metadata": {},
   "outputs": [],
   "source": [
    "# enc.1x1_block0 torch.Size([120000, 512, 1, 1])\n",
    "# enc.1x1_block1 torch.Size([120000, 512, 1, 1])\n",
    "# dec.1x1_in0 torch.Size([120000, 512, 1, 1])\n",
    "# dec.1x1_in1 torch.Size([120000, 512, 1, 1])\n",
    "# dec.1x1_block0 torch.Size([120000, 512, 1, 1])\n",
    "# dec.1x1_block1 torch.Size([120000, 512, 1, 1])\n",
    "# dec.1x1_block2 torch.Size([120000, 512, 1, 1])\n",
    "# dec.3x3_up torch.Size([120000, 512, 1, 1])"
   ]
  },
  {
   "cell_type": "code",
   "execution_count": 53,
   "metadata": {},
   "outputs": [],
   "source": [
    "fetcher = featureFetcher_module()\n",
    "record_module_list = [\"input\",\n",
    "               'enc.9x9_conv',\n",
    "                'enc.3x3_down',\n",
    "                'enc.1x1_down',\n",
    "                'dec.1x1_in0',\n",
    "                'dec.1x1_in1',\n",
    "                'dec.3x3_up',\n",
    "                'dec.9x9_up',\n",
    "                # 'dec.9x9_block2',\n",
    "                \"dec.9x9_aux_norm\",\n",
    "                \"dec.9x9_aux_conv\", ]\n",
    "for blockname in list(model_EDM.enc):\n",
    "    if f\"enc.{blockname}\" in record_module_list:\n",
    "        fetcher.record_module(model_EDM.enc[blockname], target_name=f\"enc.{blockname}\")\n",
    "for blockname in list(model_EDM.dec):\n",
    "    if f\"dec.{blockname}\" in record_module_list:\n",
    "        fetcher.record_module(model_EDM.dec[blockname], target_name=f\"dec.{blockname}\")"
   ]
  },
  {
   "cell_type": "markdown",
   "metadata": {},
   "source": [
    "### Less preconditioning"
   ]
  },
  {
   "cell_type": "code",
   "execution_count": 54,
   "metadata": {},
   "outputs": [
    {
     "data": {
      "application/vnd.jupyter.widget-view+json": {
       "model_id": "65631e15a4e44bfbaa8eaa2e75750c85",
       "version_major": 2,
       "version_minor": 0
      },
      "text/plain": [
       "  0%|          | 0/59 [00:00<?, ?it/s]"
      ]
     },
     "metadata": {},
     "output_type": "display_data"
    },
    {
     "name": "stdout",
     "output_type": "stream",
     "text": [
      "input torch.Size([120000, 3, 9, 9])\n",
      "enc.9x9_conv torch.Size([120000, 128, 9, 9])\n",
      "enc.3x3_down torch.Size([120000, 128, 3, 3])\n",
      "enc.1x1_down torch.Size([120000, 256, 1, 1])\n",
      "dec.1x1_in0 torch.Size([120000, 512, 1, 1])\n",
      "dec.1x1_in1 torch.Size([120000, 512, 1, 1])\n",
      "dec.3x3_up torch.Size([120000, 512, 1, 1])\n",
      "dec.9x9_up torch.Size([120000, 256, 7, 7])\n",
      "dec.9x9_aux_norm torch.Size([120000, 128, 9, 9])\n",
      "dec.9x9_aux_conv torch.Size([120000, 3, 9, 9])\n"
     ]
    },
    {
     "data": {
      "application/vnd.jupyter.widget-view+json": {
       "model_id": "adf7682350054e8b961d6b81ca90f25e",
       "version_major": 2,
       "version_minor": 0
      },
      "text/plain": [
       "  0%|          | 0/20 [00:00<?, ?it/s]"
      ]
     },
     "metadata": {},
     "output_type": "display_data"
    },
    {
     "name": "stdout",
     "output_type": "stream",
     "text": [
      "input torch.Size([40000, 3, 9, 9])\n",
      "enc.9x9_conv torch.Size([40000, 128, 9, 9])\n",
      "enc.3x3_down torch.Size([40000, 128, 3, 3])\n",
      "enc.1x1_down torch.Size([40000, 256, 1, 1])\n",
      "dec.1x1_in0 torch.Size([40000, 512, 1, 1])\n",
      "dec.1x1_in1 torch.Size([40000, 512, 1, 1])\n",
      "dec.3x3_up torch.Size([40000, 512, 1, 1])\n",
      "dec.9x9_up torch.Size([40000, 256, 7, 7])\n",
      "dec.9x9_aux_norm torch.Size([40000, 128, 9, 9])\n",
      "dec.9x9_aux_conv torch.Size([40000, 3, 9, 9])\n"
     ]
    }
   ],
   "source": [
    "# Now use the function for both training and testing data\n",
    "train_loader = DataLoader(train_dataset, batch_size=2048, shuffle=False, drop_last=False)\n",
    "test_loader = DataLoader(test_dataset, batch_size=2048, shuffle=False, drop_last=False)\n",
    "t_scalar = -2.0\n",
    "feature_col = extract_features_EDM(model_EDM, fetcher, train_loader, dataset_Xmean, dataset_Xstd, t_scalar)\n",
    "feature_col_test = extract_features_EDM(model_EDM, fetcher, test_loader, dataset_Xmean, dataset_Xstd, t_scalar)"
   ]
  },
  {
   "cell_type": "code",
   "execution_count": 56,
   "metadata": {},
   "outputs": [],
   "source": [
    "feature_avg_col = {k: v.mean(dim=(2,3)) for k, v in feature_col.items()}\n",
    "feature_avg_col_test = {k: v.mean(dim=(2,3)) for k, v in feature_col_test.items()}\n",
    "feature_sel_col = {k: v for k, v in feature_col.items() if \"1x1\" in k}\n",
    "feature_sel_col_test = {k: v for k, v in feature_col_test.items() if \"1x1\" in k}"
   ]
  },
  {
   "cell_type": "code",
   "execution_count": 57,
   "metadata": {},
   "outputs": [
    {
     "name": "stdout",
     "output_type": "stream",
     "text": [
      "Processing layer: enc.1x1_down\n",
      "Epoch [1/5000], Loss: 3.8196, Accuracy: 0.0260\n",
      "Epoch [250/5000], Loss: 1.3119, Accuracy: 0.5873\n",
      "Epoch [500/5000], Loss: 1.2088, Accuracy: 0.6154\n",
      "Epoch [750/5000], Loss: 1.1605, Accuracy: 0.6279\n",
      "Epoch [1000/5000], Loss: 1.1312, Accuracy: 0.6362\n",
      "Test Accuracy: 0.6131\n",
      "Epoch [1250/5000], Loss: 1.1111, Accuracy: 0.6423\n",
      "Epoch [1500/5000], Loss: 1.0963, Accuracy: 0.6467\n",
      "Epoch [1750/5000], Loss: 1.0850, Accuracy: 0.6502\n",
      "Epoch [2000/5000], Loss: 1.0760, Accuracy: 0.6535\n",
      "Test Accuracy: 0.6246\n",
      "Epoch [2250/5000], Loss: 1.0686, Accuracy: 0.6554\n",
      "Epoch [2500/5000], Loss: 1.0626, Accuracy: 0.6571\n",
      "Epoch [2750/5000], Loss: 1.0575, Accuracy: 0.6584\n",
      "Epoch [3000/5000], Loss: 1.0532, Accuracy: 0.6594\n",
      "Test Accuracy: 0.6287\n",
      "Epoch [3250/5000], Loss: 1.0496, Accuracy: 0.6605\n",
      "Epoch [3500/5000], Loss: 1.0464, Accuracy: 0.6614\n",
      "Epoch [3750/5000], Loss: 1.0437, Accuracy: 0.6625\n",
      "Epoch [4000/5000], Loss: 1.0414, Accuracy: 0.6629\n",
      "Test Accuracy: 0.6316\n",
      "Epoch [4250/5000], Loss: 1.0395, Accuracy: 0.6634\n",
      "Epoch [4500/5000], Loss: 1.0378, Accuracy: 0.6640\n",
      "Epoch [4750/5000], Loss: 1.0363, Accuracy: 0.6645\n",
      "Epoch [5000/5000], Loss: 1.0351, Accuracy: 0.6649\n",
      "Test Accuracy: 0.6333\n",
      "Test Accuracy: 0.6333\n",
      "Layer enc.1x1_down - PCA time: 0.01s, PCA transform time: 0.05s, Training time: 30.23s\n",
      "Processing layer: dec.1x1_in0\n",
      "Epoch [1/5000], Loss: 3.8077, Accuracy: 0.0302\n",
      "Epoch [250/5000], Loss: 1.3388, Accuracy: 0.5780\n",
      "Epoch [500/5000], Loss: 1.2274, Accuracy: 0.6100\n",
      "Epoch [750/5000], Loss: 1.1738, Accuracy: 0.6260\n",
      "Epoch [1000/5000], Loss: 1.1402, Accuracy: 0.6351\n",
      "Test Accuracy: 0.6086\n",
      "Epoch [1250/5000], Loss: 1.1163, Accuracy: 0.6416\n",
      "Epoch [1500/5000], Loss: 1.0981, Accuracy: 0.6467\n",
      "Epoch [1750/5000], Loss: 1.0836, Accuracy: 0.6509\n",
      "Epoch [2000/5000], Loss: 1.0717, Accuracy: 0.6546\n",
      "Test Accuracy: 0.6226\n",
      "Epoch [2250/5000], Loss: 1.0618, Accuracy: 0.6578\n",
      "Epoch [2500/5000], Loss: 1.0535, Accuracy: 0.6603\n",
      "Epoch [2750/5000], Loss: 1.0468, Accuracy: 0.6629\n",
      "Epoch [3000/5000], Loss: 1.0401, Accuracy: 0.6642\n",
      "Test Accuracy: 0.6297\n",
      "Epoch [3250/5000], Loss: 1.0345, Accuracy: 0.6663\n",
      "Epoch [3500/5000], Loss: 1.0298, Accuracy: 0.6679\n",
      "Epoch [3750/5000], Loss: 1.0253, Accuracy: 0.6687\n",
      "Epoch [4000/5000], Loss: 1.0218, Accuracy: 0.6696\n",
      "Test Accuracy: 0.6330\n",
      "Epoch [4250/5000], Loss: 1.0178, Accuracy: 0.6708\n",
      "Epoch [4500/5000], Loss: 1.0143, Accuracy: 0.6722\n",
      "Epoch [4750/5000], Loss: 1.0112, Accuracy: 0.6729\n",
      "Epoch [5000/5000], Loss: 1.0087, Accuracy: 0.6743\n",
      "Test Accuracy: 0.6355\n",
      "Test Accuracy: 0.6355\n",
      "Layer dec.1x1_in0 - PCA time: 0.02s, PCA transform time: 0.10s, Training time: 32.41s\n",
      "Processing layer: dec.1x1_in1\n",
      "Epoch [1/5000], Loss: 3.8742, Accuracy: 0.0230\n",
      "Epoch [250/5000], Loss: 1.3294, Accuracy: 0.5812\n",
      "Epoch [500/5000], Loss: 1.2162, Accuracy: 0.6132\n",
      "Epoch [750/5000], Loss: 1.1612, Accuracy: 0.6289\n",
      "Epoch [1000/5000], Loss: 1.1261, Accuracy: 0.6388\n",
      "Test Accuracy: 0.6098\n",
      "Epoch [1250/5000], Loss: 1.1009, Accuracy: 0.6456\n",
      "Epoch [1500/5000], Loss: 1.0817, Accuracy: 0.6515\n",
      "Epoch [1750/5000], Loss: 1.0665, Accuracy: 0.6560\n",
      "Epoch [2000/5000], Loss: 1.0539, Accuracy: 0.6599\n",
      "Test Accuracy: 0.6232\n",
      "Epoch [2250/5000], Loss: 1.0438, Accuracy: 0.6631\n",
      "Epoch [2500/5000], Loss: 1.0351, Accuracy: 0.6657\n",
      "Epoch [2750/5000], Loss: 1.0273, Accuracy: 0.6681\n",
      "Epoch [3000/5000], Loss: 1.0207, Accuracy: 0.6702\n",
      "Test Accuracy: 0.6297\n",
      "Epoch [3250/5000], Loss: 1.0151, Accuracy: 0.6720\n",
      "Epoch [3500/5000], Loss: 1.0100, Accuracy: 0.6736\n",
      "Epoch [3750/5000], Loss: 1.0057, Accuracy: 0.6751\n",
      "Epoch [4000/5000], Loss: 1.0015, Accuracy: 0.6762\n",
      "Test Accuracy: 0.6333\n",
      "Epoch [4250/5000], Loss: 0.9981, Accuracy: 0.6765\n",
      "Epoch [4500/5000], Loss: 0.9945, Accuracy: 0.6779\n",
      "Epoch [4750/5000], Loss: 0.9915, Accuracy: 0.6784\n",
      "Epoch [5000/5000], Loss: 0.9890, Accuracy: 0.6795\n",
      "Test Accuracy: 0.6348\n",
      "Test Accuracy: 0.6348\n",
      "Layer dec.1x1_in1 - PCA time: 0.02s, PCA transform time: 0.10s, Training time: 32.55s\n"
     ]
    }
   ],
   "source": [
    "model_PCA_col, PC_proj_col, results_col = train_pca_sgd_classifiers(\n",
    "    feature_sel_col, feature_sel_col_test, y_train, y_test,\n",
    "    PC_dim=1024, noPCA=True, num_classes=40, batch_size=None,\n",
    "    num_epochs=5000, print_every=250, eval_every=1000, learning_rate=0.005,\n",
    "    device='cuda'\n",
    ")"
   ]
  },
  {
   "cell_type": "markdown",
   "metadata": {},
   "source": [
    "### With preconditioning"
   ]
  },
  {
   "cell_type": "markdown",
   "metadata": {},
   "source": [
    "Try to fetch from edm model, preconditioning? "
   ]
  },
  {
   "cell_type": "code",
   "execution_count": 76,
   "metadata": {},
   "outputs": [
    {
     "data": {
      "text/plain": [
       "torch.Size([12, 3, 9, 9])"
      ]
     },
     "execution_count": 76,
     "metadata": {},
     "output_type": "execute_result"
    }
   ],
   "source": [
    "edm(torch.randn(12, 3, 9, 9).to(device), torch.rand(12, ).to(device), use_ema=False, labels=None).shape\n",
    "# for key in feature_col:\n",
    "#     feature_col[key] = th.cat(feature_col[key], dim=0)\n",
    "#     print(f\"{key}: {feature_col[key].shape}\")"
   ]
  },
  {
   "cell_type": "code",
   "execution_count": 77,
   "metadata": {},
   "outputs": [
    {
     "name": "stdout",
     "output_type": "stream",
     "text": [
      "enc.9x9_conv torch.Size([12, 128, 9, 9])\n",
      "enc.3x3_down torch.Size([12, 128, 3, 3])\n",
      "enc.1x1_down torch.Size([12, 256, 1, 1])\n",
      "dec.1x1_in0 torch.Size([12, 512, 1, 1])\n",
      "dec.1x1_in1 torch.Size([12, 512, 1, 1])\n",
      "dec.3x3_up torch.Size([12, 512, 1, 1])\n",
      "dec.9x9_up torch.Size([12, 256, 7, 7])\n",
      "dec.9x9_aux_norm torch.Size([12, 128, 9, 9])\n",
      "dec.9x9_aux_conv torch.Size([12, 3, 9, 9])\n"
     ]
    }
   ],
   "source": [
    "for key, activations in fetcher.activations.items():\n",
    "    print(key, activations.shape)   "
   ]
  },
  {
   "cell_type": "code",
   "execution_count": 79,
   "metadata": {},
   "outputs": [],
   "source": [
    "fetcher = featureFetcher_module()\n",
    "record_module_list = [\"input\",\n",
    "               'enc.9x9_conv',\n",
    "                'enc.3x3_down',\n",
    "                'enc.1x1_down',\n",
    "                'dec.1x1_in0',\n",
    "                'dec.1x1_in1',\n",
    "                'dec.3x3_up',\n",
    "                'dec.9x9_up',\n",
    "                # 'dec.9x9_block2',\n",
    "                \"dec.9x9_aux_norm\",\n",
    "                \"dec.9x9_aux_conv\", ]\n",
    "for blockname in list(edm.ema.enc):\n",
    "    if f\"enc.{blockname}\" in record_module_list:\n",
    "        fetcher.record_module(edm.ema.enc[blockname], target_name=f\"enc.{blockname}\")\n",
    "for blockname in list(edm.ema.dec):\n",
    "    if f\"dec.{blockname}\" in record_module_list:\n",
    "        fetcher.record_module(edm.ema.dec[blockname], target_name=f\"dec.{blockname}\")"
   ]
  },
  {
   "cell_type": "code",
   "execution_count": 80,
   "metadata": {},
   "outputs": [
    {
     "data": {
      "application/vnd.jupyter.widget-view+json": {
       "model_id": "d45799897a084f70b0d34dbab79ae42f",
       "version_major": 2,
       "version_minor": 0
      },
      "text/plain": [
       "  0%|          | 0/59 [00:00<?, ?it/s]"
      ]
     },
     "metadata": {},
     "output_type": "display_data"
    },
    {
     "name": "stdout",
     "output_type": "stream",
     "text": [
      "input torch.Size([120000, 3, 9, 9])\n",
      "enc.9x9_conv torch.Size([120000, 128, 9, 9])\n",
      "enc.3x3_down torch.Size([120000, 128, 3, 3])\n",
      "enc.1x1_down torch.Size([120000, 256, 1, 1])\n",
      "dec.1x1_in0 torch.Size([120000, 512, 1, 1])\n",
      "dec.1x1_in1 torch.Size([120000, 512, 1, 1])\n",
      "dec.3x3_up torch.Size([120000, 512, 1, 1])\n",
      "dec.9x9_up torch.Size([120000, 256, 7, 7])\n",
      "dec.9x9_aux_norm torch.Size([120000, 128, 9, 9])\n",
      "dec.9x9_aux_conv torch.Size([120000, 3, 9, 9])\n"
     ]
    },
    {
     "data": {
      "application/vnd.jupyter.widget-view+json": {
       "model_id": "d3f6229854f9499db1142142c908e17d",
       "version_major": 2,
       "version_minor": 0
      },
      "text/plain": [
       "  0%|          | 0/20 [00:00<?, ?it/s]"
      ]
     },
     "metadata": {},
     "output_type": "display_data"
    },
    {
     "name": "stdout",
     "output_type": "stream",
     "text": [
      "input torch.Size([40000, 3, 9, 9])\n",
      "enc.9x9_conv torch.Size([40000, 128, 9, 9])\n",
      "enc.3x3_down torch.Size([40000, 128, 3, 3])\n",
      "enc.1x1_down torch.Size([40000, 256, 1, 1])\n",
      "dec.1x1_in0 torch.Size([40000, 512, 1, 1])\n",
      "dec.1x1_in1 torch.Size([40000, 512, 1, 1])\n",
      "dec.3x3_up torch.Size([40000, 512, 1, 1])\n",
      "dec.9x9_up torch.Size([40000, 256, 7, 7])\n",
      "dec.9x9_aux_norm torch.Size([40000, 128, 9, 9])\n",
      "dec.9x9_aux_conv torch.Size([40000, 3, 9, 9])\n"
     ]
    }
   ],
   "source": [
    "# Now use the function for both training and testing data\n",
    "train_loader = DataLoader(train_dataset, batch_size=2048, shuffle=False, drop_last=False)\n",
    "test_loader = DataLoader(test_dataset, batch_size=2048, shuffle=False, drop_last=False)\n",
    "t_scalar = 0.1\n",
    "feature_col = extract_features_EDM(edm, fetcher, train_loader, dataset_Xmean, dataset_Xstd, t_scalar)\n",
    "feature_col_test = extract_features_EDM(edm, fetcher, test_loader, dataset_Xmean, dataset_Xstd, t_scalar)"
   ]
  },
  {
   "cell_type": "code",
   "execution_count": 81,
   "metadata": {},
   "outputs": [],
   "source": [
    "feature_avg_col = {k: v.mean(dim=(2,3)) for k, v in feature_col.items()}\n",
    "feature_avg_col_test = {k: v.mean(dim=(2,3)) for k, v in feature_col_test.items()}\n",
    "feature_sel_col = {k: v for k, v in feature_col.items() if \"1x1\" in k}\n",
    "feature_sel_col_test = {k: v for k, v in feature_col_test.items() if \"1x1\" in k}"
   ]
  },
  {
   "cell_type": "code",
   "execution_count": 82,
   "metadata": {},
   "outputs": [
    {
     "name": "stdout",
     "output_type": "stream",
     "text": [
      "Processing layer: enc.1x1_down\n",
      "Epoch [1/5000], Loss: 3.7498, Accuracy: 0.0355\n",
      "Epoch [250/5000], Loss: 0.1977, Accuracy: 0.9297\n",
      "Epoch [500/5000], Loss: 0.1715, Accuracy: 0.9375\n",
      "Epoch [750/5000], Loss: 0.1593, Accuracy: 0.9410\n",
      "Epoch [1000/5000], Loss: 0.1519, Accuracy: 0.9431\n",
      "Test Accuracy: 0.9291\n",
      "Epoch [1250/5000], Loss: 0.1467, Accuracy: 0.9446\n",
      "Epoch [1500/5000], Loss: 0.1427, Accuracy: 0.9457\n",
      "Epoch [1750/5000], Loss: 0.1396, Accuracy: 0.9465\n",
      "Epoch [2000/5000], Loss: 0.1370, Accuracy: 0.9475\n",
      "Test Accuracy: 0.9304\n",
      "Epoch [2250/5000], Loss: 0.1348, Accuracy: 0.9479\n",
      "Epoch [2500/5000], Loss: 0.1329, Accuracy: 0.9486\n",
      "Epoch [2750/5000], Loss: 0.1312, Accuracy: 0.9492\n",
      "Epoch [3000/5000], Loss: 0.1297, Accuracy: 0.9497\n",
      "Test Accuracy: 0.9316\n",
      "Epoch [3250/5000], Loss: 0.1283, Accuracy: 0.9502\n",
      "Epoch [3500/5000], Loss: 0.1271, Accuracy: 0.9505\n",
      "Epoch [3750/5000], Loss: 0.1260, Accuracy: 0.9509\n",
      "Epoch [4000/5000], Loss: 0.1249, Accuracy: 0.9513\n",
      "Test Accuracy: 0.9315\n",
      "Epoch [4250/5000], Loss: 0.1240, Accuracy: 0.9516\n",
      "Epoch [4500/5000], Loss: 0.1231, Accuracy: 0.9519\n",
      "Epoch [4750/5000], Loss: 0.1223, Accuracy: 0.9521\n",
      "Epoch [5000/5000], Loss: 0.1215, Accuracy: 0.9524\n",
      "Test Accuracy: 0.9313\n",
      "Test Accuracy: 0.9313\n",
      "Layer enc.1x1_down - PCA time: 0.01s, PCA transform time: 0.05s, Training time: 30.34s\n",
      "Processing layer: dec.1x1_in0\n",
      "Epoch [1/5000], Loss: 3.9013, Accuracy: 0.0185\n",
      "Epoch [250/5000], Loss: 0.2192, Accuracy: 0.9220\n",
      "Epoch [500/5000], Loss: 0.1869, Accuracy: 0.9319\n",
      "Epoch [750/5000], Loss: 0.1712, Accuracy: 0.9366\n",
      "Epoch [1000/5000], Loss: 0.1614, Accuracy: 0.9399\n",
      "Test Accuracy: 0.9144\n",
      "Epoch [1250/5000], Loss: 0.1544, Accuracy: 0.9422\n",
      "Epoch [1500/5000], Loss: 0.1491, Accuracy: 0.9443\n",
      "Epoch [1750/5000], Loss: 0.1448, Accuracy: 0.9456\n",
      "Epoch [2000/5000], Loss: 0.1413, Accuracy: 0.9468\n",
      "Test Accuracy: 0.9140\n",
      "Epoch [2250/5000], Loss: 0.1382, Accuracy: 0.9478\n",
      "Epoch [2500/5000], Loss: 0.1356, Accuracy: 0.9486\n",
      "Epoch [2750/5000], Loss: 0.1333, Accuracy: 0.9491\n",
      "Epoch [3000/5000], Loss: 0.1313, Accuracy: 0.9498\n",
      "Test Accuracy: 0.9134\n",
      "Epoch [3250/5000], Loss: 0.1295, Accuracy: 0.9506\n",
      "Epoch [3500/5000], Loss: 0.1279, Accuracy: 0.9508\n",
      "Epoch [3750/5000], Loss: 0.1263, Accuracy: 0.9514\n",
      "Epoch [4000/5000], Loss: 0.1250, Accuracy: 0.9518\n",
      "Test Accuracy: 0.9127\n",
      "Epoch [4250/5000], Loss: 0.1237, Accuracy: 0.9521\n",
      "Epoch [4500/5000], Loss: 0.1225, Accuracy: 0.9524\n",
      "Epoch [4750/5000], Loss: 0.1214, Accuracy: 0.9526\n",
      "Epoch [5000/5000], Loss: 0.1205, Accuracy: 0.9530\n",
      "Test Accuracy: 0.9115\n",
      "Test Accuracy: 0.9115\n",
      "Layer dec.1x1_in0 - PCA time: 0.02s, PCA transform time: 0.11s, Training time: 32.70s\n",
      "Processing layer: dec.1x1_in1\n",
      "Epoch [1/5000], Loss: 3.8047, Accuracy: 0.0231\n",
      "Epoch [250/5000], Loss: 0.2177, Accuracy: 0.9224\n",
      "Epoch [500/5000], Loss: 0.1864, Accuracy: 0.9319\n",
      "Epoch [750/5000], Loss: 0.1715, Accuracy: 0.9364\n",
      "Epoch [1000/5000], Loss: 0.1621, Accuracy: 0.9395\n",
      "Test Accuracy: 0.9116\n",
      "Epoch [1250/5000], Loss: 0.1554, Accuracy: 0.9417\n",
      "Epoch [1500/5000], Loss: 0.1504, Accuracy: 0.9433\n",
      "Epoch [1750/5000], Loss: 0.1463, Accuracy: 0.9446\n",
      "Epoch [2000/5000], Loss: 0.1429, Accuracy: 0.9458\n",
      "Test Accuracy: 0.9120\n",
      "Epoch [2250/5000], Loss: 0.1401, Accuracy: 0.9466\n",
      "Epoch [2500/5000], Loss: 0.1376, Accuracy: 0.9474\n",
      "Epoch [2750/5000], Loss: 0.1354, Accuracy: 0.9482\n",
      "Epoch [3000/5000], Loss: 0.1335, Accuracy: 0.9490\n",
      "Test Accuracy: 0.9106\n",
      "Epoch [3250/5000], Loss: 0.1318, Accuracy: 0.9494\n",
      "Epoch [3500/5000], Loss: 0.1303, Accuracy: 0.9497\n",
      "Epoch [3750/5000], Loss: 0.1289, Accuracy: 0.9501\n",
      "Epoch [4000/5000], Loss: 0.1278, Accuracy: 0.9506\n",
      "Test Accuracy: 0.9085\n",
      "Epoch [4250/5000], Loss: 0.1264, Accuracy: 0.9508\n",
      "Epoch [4500/5000], Loss: 0.1254, Accuracy: 0.9512\n",
      "Epoch [4750/5000], Loss: 0.1243, Accuracy: 0.9514\n",
      "Epoch [5000/5000], Loss: 0.1234, Accuracy: 0.9517\n",
      "Test Accuracy: 0.9078\n",
      "Test Accuracy: 0.9078\n",
      "Layer dec.1x1_in1 - PCA time: 0.02s, PCA transform time: 0.11s, Training time: 32.74s\n"
     ]
    }
   ],
   "source": [
    "model_PCA_col, PC_proj_col, results_col = train_pca_sgd_classifiers(\n",
    "    feature_sel_col, feature_sel_col_test, y_train, y_test,\n",
    "    PC_dim=1024, noPCA=True, num_classes=40, batch_size=None,\n",
    "    num_epochs=5000, print_every=250, eval_every=1000, learning_rate=0.005,\n",
    "    device='cuda'\n",
    ")"
   ]
  },
  {
   "cell_type": "markdown",
   "metadata": {},
   "source": [
    "### Earlier time points 0.02?"
   ]
  },
  {
   "cell_type": "code",
   "execution_count": 83,
   "metadata": {},
   "outputs": [],
   "source": [
    "fetcher = featureFetcher_module()\n",
    "record_module_list = [\"input\",\n",
    "               'enc.9x9_conv',\n",
    "                'enc.3x3_down',\n",
    "                'enc.1x1_down',\n",
    "                'dec.1x1_in0',\n",
    "                'dec.1x1_in1',\n",
    "                'dec.3x3_up',\n",
    "                'dec.9x9_up',\n",
    "                # 'dec.9x9_block2',\n",
    "                \"dec.9x9_aux_norm\",\n",
    "                \"dec.9x9_aux_conv\", ]\n",
    "for blockname in list(edm.ema.enc):\n",
    "    if f\"enc.{blockname}\" in record_module_list:\n",
    "        fetcher.record_module(edm.ema.enc[blockname], target_name=f\"enc.{blockname}\")\n",
    "for blockname in list(edm.ema.dec):\n",
    "    if f\"dec.{blockname}\" in record_module_list:\n",
    "        fetcher.record_module(edm.ema.dec[blockname], target_name=f\"dec.{blockname}\")"
   ]
  },
  {
   "cell_type": "code",
   "execution_count": 84,
   "metadata": {},
   "outputs": [
    {
     "data": {
      "application/vnd.jupyter.widget-view+json": {
       "model_id": "6fb11ec2205f4610a667ee756c913a55",
       "version_major": 2,
       "version_minor": 0
      },
      "text/plain": [
       "  0%|          | 0/59 [00:00<?, ?it/s]"
      ]
     },
     "metadata": {},
     "output_type": "display_data"
    },
    {
     "name": "stdout",
     "output_type": "stream",
     "text": [
      "input torch.Size([120000, 3, 9, 9])\n",
      "enc.9x9_conv torch.Size([120000, 128, 9, 9])\n",
      "enc.3x3_down torch.Size([120000, 128, 3, 3])\n",
      "enc.1x1_down torch.Size([120000, 256, 1, 1])\n",
      "dec.1x1_in0 torch.Size([120000, 512, 1, 1])\n",
      "dec.1x1_in1 torch.Size([120000, 512, 1, 1])\n",
      "dec.3x3_up torch.Size([120000, 512, 1, 1])\n",
      "dec.9x9_up torch.Size([120000, 256, 7, 7])\n",
      "dec.9x9_aux_norm torch.Size([120000, 128, 9, 9])\n",
      "dec.9x9_aux_conv torch.Size([120000, 3, 9, 9])\n"
     ]
    },
    {
     "data": {
      "application/vnd.jupyter.widget-view+json": {
       "model_id": "bf1fd0246ed54d68b6438bde992e5a6e",
       "version_major": 2,
       "version_minor": 0
      },
      "text/plain": [
       "  0%|          | 0/20 [00:00<?, ?it/s]"
      ]
     },
     "metadata": {},
     "output_type": "display_data"
    },
    {
     "name": "stdout",
     "output_type": "stream",
     "text": [
      "input torch.Size([40000, 3, 9, 9])\n",
      "enc.9x9_conv torch.Size([40000, 128, 9, 9])\n",
      "enc.3x3_down torch.Size([40000, 128, 3, 3])\n",
      "enc.1x1_down torch.Size([40000, 256, 1, 1])\n",
      "dec.1x1_in0 torch.Size([40000, 512, 1, 1])\n",
      "dec.1x1_in1 torch.Size([40000, 512, 1, 1])\n",
      "dec.3x3_up torch.Size([40000, 512, 1, 1])\n",
      "dec.9x9_up torch.Size([40000, 256, 7, 7])\n",
      "dec.9x9_aux_norm torch.Size([40000, 128, 9, 9])\n",
      "dec.9x9_aux_conv torch.Size([40000, 3, 9, 9])\n"
     ]
    }
   ],
   "source": [
    "# Now use the function for both training and testing data\n",
    "train_loader = DataLoader(train_dataset, batch_size=2048, shuffle=False, drop_last=False)\n",
    "test_loader = DataLoader(test_dataset, batch_size=2048, shuffle=False, drop_last=False)\n",
    "t_scalar = 0.02\n",
    "feature_col = extract_features_EDM(edm, fetcher, train_loader, dataset_Xmean, dataset_Xstd, t_scalar)\n",
    "feature_col_test = extract_features_EDM(edm, fetcher, test_loader, dataset_Xmean, dataset_Xstd, t_scalar)"
   ]
  },
  {
   "cell_type": "code",
   "execution_count": 85,
   "metadata": {},
   "outputs": [],
   "source": [
    "feature_avg_col = {k: v.mean(dim=(2,3)) for k, v in feature_col.items()}\n",
    "feature_avg_col_test = {k: v.mean(dim=(2,3)) for k, v in feature_col_test.items()}\n",
    "feature_sel_col = {k: v for k, v in feature_col.items() if \"1x1\" in k}\n",
    "feature_sel_col_test = {k: v for k, v in feature_col_test.items() if \"1x1\" in k}"
   ]
  },
  {
   "cell_type": "code",
   "execution_count": 86,
   "metadata": {},
   "outputs": [
    {
     "name": "stdout",
     "output_type": "stream",
     "text": [
      "Processing layer: enc.1x1_down\n",
      "Epoch [1/5000], Loss: 3.8480, Accuracy: 0.0254\n",
      "Epoch [250/5000], Loss: 0.2827, Accuracy: 0.9009\n",
      "Epoch [500/5000], Loss: 0.2445, Accuracy: 0.9123\n",
      "Epoch [750/5000], Loss: 0.2267, Accuracy: 0.9176\n",
      "Epoch [1000/5000], Loss: 0.2157, Accuracy: 0.9210\n",
      "Test Accuracy: 0.9041\n",
      "Epoch [1250/5000], Loss: 0.2079, Accuracy: 0.9236\n",
      "Epoch [1500/5000], Loss: 0.2020, Accuracy: 0.9255\n",
      "Epoch [1750/5000], Loss: 0.1972, Accuracy: 0.9270\n",
      "Epoch [2000/5000], Loss: 0.1932, Accuracy: 0.9284\n",
      "Test Accuracy: 0.9082\n",
      "Epoch [2250/5000], Loss: 0.1898, Accuracy: 0.9294\n",
      "Epoch [2500/5000], Loss: 0.1869, Accuracy: 0.9302\n",
      "Epoch [2750/5000], Loss: 0.1844, Accuracy: 0.9311\n",
      "Epoch [3000/5000], Loss: 0.1821, Accuracy: 0.9319\n",
      "Test Accuracy: 0.9088\n",
      "Epoch [3250/5000], Loss: 0.1800, Accuracy: 0.9325\n",
      "Epoch [3500/5000], Loss: 0.1782, Accuracy: 0.9332\n",
      "Epoch [3750/5000], Loss: 0.1765, Accuracy: 0.9337\n",
      "Epoch [4000/5000], Loss: 0.1750, Accuracy: 0.9342\n",
      "Test Accuracy: 0.9084\n",
      "Epoch [4250/5000], Loss: 0.1736, Accuracy: 0.9347\n",
      "Epoch [4500/5000], Loss: 0.1724, Accuracy: 0.9350\n",
      "Epoch [4750/5000], Loss: 0.1712, Accuracy: 0.9352\n",
      "Epoch [5000/5000], Loss: 0.1703, Accuracy: 0.9354\n",
      "Test Accuracy: 0.9085\n",
      "Test Accuracy: 0.9085\n",
      "Layer enc.1x1_down - PCA time: 0.01s, PCA transform time: 0.06s, Training time: 30.28s\n",
      "Processing layer: dec.1x1_in0\n",
      "Epoch [1/5000], Loss: 3.8719, Accuracy: 0.0252\n",
      "Epoch [250/5000], Loss: 0.3034, Accuracy: 0.8931\n",
      "Epoch [500/5000], Loss: 0.2604, Accuracy: 0.9062\n",
      "Epoch [750/5000], Loss: 0.2396, Accuracy: 0.9128\n",
      "Epoch [1000/5000], Loss: 0.2263, Accuracy: 0.9170\n",
      "Test Accuracy: 0.8862\n",
      "Epoch [1250/5000], Loss: 0.2168, Accuracy: 0.9203\n",
      "Epoch [1500/5000], Loss: 0.2095, Accuracy: 0.9224\n",
      "Epoch [1750/5000], Loss: 0.2036, Accuracy: 0.9243\n",
      "Epoch [2000/5000], Loss: 0.1987, Accuracy: 0.9257\n",
      "Test Accuracy: 0.8897\n",
      "Epoch [2250/5000], Loss: 0.1945, Accuracy: 0.9272\n",
      "Epoch [2500/5000], Loss: 0.1910, Accuracy: 0.9285\n",
      "Epoch [2750/5000], Loss: 0.1878, Accuracy: 0.9296\n",
      "Epoch [3000/5000], Loss: 0.1851, Accuracy: 0.9304\n",
      "Test Accuracy: 0.8899\n",
      "Epoch [3250/5000], Loss: 0.1826, Accuracy: 0.9312\n",
      "Epoch [3500/5000], Loss: 0.1805, Accuracy: 0.9318\n",
      "Epoch [3750/5000], Loss: 0.1785, Accuracy: 0.9325\n",
      "Epoch [4000/5000], Loss: 0.1766, Accuracy: 0.9332\n",
      "Test Accuracy: 0.8891\n",
      "Epoch [4250/5000], Loss: 0.1749, Accuracy: 0.9337\n",
      "Epoch [4500/5000], Loss: 0.1734, Accuracy: 0.9343\n",
      "Epoch [4750/5000], Loss: 0.1720, Accuracy: 0.9349\n",
      "Epoch [5000/5000], Loss: 0.1708, Accuracy: 0.9353\n",
      "Test Accuracy: 0.8873\n",
      "Test Accuracy: 0.8873\n",
      "Layer dec.1x1_in0 - PCA time: 0.02s, PCA transform time: 0.11s, Training time: 32.68s\n",
      "Processing layer: dec.1x1_in1\n",
      "Epoch [1/5000], Loss: 3.8867, Accuracy: 0.0202\n",
      "Epoch [250/5000], Loss: 0.3035, Accuracy: 0.8927\n",
      "Epoch [500/5000], Loss: 0.2614, Accuracy: 0.9062\n",
      "Epoch [750/5000], Loss: 0.2410, Accuracy: 0.9125\n",
      "Epoch [1000/5000], Loss: 0.2281, Accuracy: 0.9163\n",
      "Test Accuracy: 0.8855\n",
      "Epoch [1250/5000], Loss: 0.2188, Accuracy: 0.9194\n",
      "Epoch [1500/5000], Loss: 0.2117, Accuracy: 0.9215\n",
      "Epoch [1750/5000], Loss: 0.2060, Accuracy: 0.9236\n",
      "Epoch [2000/5000], Loss: 0.2013, Accuracy: 0.9251\n",
      "Test Accuracy: 0.8870\n",
      "Epoch [2250/5000], Loss: 0.1973, Accuracy: 0.9261\n",
      "Epoch [2500/5000], Loss: 0.1940, Accuracy: 0.9274\n",
      "Epoch [2750/5000], Loss: 0.1910, Accuracy: 0.9284\n",
      "Epoch [3000/5000], Loss: 0.1884, Accuracy: 0.9291\n",
      "Test Accuracy: 0.8867\n",
      "Epoch [3250/5000], Loss: 0.1863, Accuracy: 0.9299\n",
      "Epoch [3500/5000], Loss: 0.1841, Accuracy: 0.9309\n",
      "Epoch [3750/5000], Loss: 0.1823, Accuracy: 0.9314\n",
      "Epoch [4000/5000], Loss: 0.1807, Accuracy: 0.9320\n",
      "Test Accuracy: 0.8858\n",
      "Epoch [4250/5000], Loss: 0.1792, Accuracy: 0.9325\n",
      "Epoch [4500/5000], Loss: 0.1778, Accuracy: 0.9329\n",
      "Epoch [4750/5000], Loss: 0.1766, Accuracy: 0.9330\n",
      "Epoch [5000/5000], Loss: 0.1755, Accuracy: 0.9334\n",
      "Test Accuracy: 0.8843\n",
      "Test Accuracy: 0.8843\n",
      "Layer dec.1x1_in1 - PCA time: 0.02s, PCA transform time: 0.11s, Training time: 32.69s\n"
     ]
    }
   ],
   "source": [
    "model_PCA_col, PC_proj_col, results_col = train_pca_sgd_classifiers(\n",
    "    feature_sel_col, feature_sel_col_test, y_train, y_test,\n",
    "    PC_dim=1024, noPCA=True, num_classes=40, batch_size=None,\n",
    "    num_epochs=5000, print_every=250, eval_every=1000, learning_rate=0.005,\n",
    "    device='cuda'\n",
    ")"
   ]
  },
  {
   "cell_type": "markdown",
   "metadata": {},
   "source": [
    "### Earlier time points 0.002?"
   ]
  },
  {
   "cell_type": "code",
   "execution_count": 87,
   "metadata": {},
   "outputs": [],
   "source": [
    "fetcher = featureFetcher_module()\n",
    "record_module_list = [\"input\",\n",
    "               'enc.9x9_conv',\n",
    "                'enc.3x3_down',\n",
    "                'enc.1x1_down',\n",
    "                'dec.1x1_in0',\n",
    "                'dec.1x1_in1',\n",
    "                'dec.3x3_up',\n",
    "                'dec.9x9_up',\n",
    "                # 'dec.9x9_block2',\n",
    "                \"dec.9x9_aux_norm\",\n",
    "                \"dec.9x9_aux_conv\", ]\n",
    "for blockname in list(edm.ema.enc):\n",
    "    if f\"enc.{blockname}\" in record_module_list:\n",
    "        fetcher.record_module(edm.ema.enc[blockname], target_name=f\"enc.{blockname}\")\n",
    "for blockname in list(edm.ema.dec):\n",
    "    if f\"dec.{blockname}\" in record_module_list:\n",
    "        fetcher.record_module(edm.ema.dec[blockname], target_name=f\"dec.{blockname}\")"
   ]
  },
  {
   "cell_type": "code",
   "execution_count": 88,
   "metadata": {},
   "outputs": [
    {
     "data": {
      "application/vnd.jupyter.widget-view+json": {
       "model_id": "aa5ebb0ab73548f59c419de41d2bc931",
       "version_major": 2,
       "version_minor": 0
      },
      "text/plain": [
       "  0%|          | 0/59 [00:00<?, ?it/s]"
      ]
     },
     "metadata": {},
     "output_type": "display_data"
    },
    {
     "name": "stdout",
     "output_type": "stream",
     "text": [
      "input torch.Size([120000, 3, 9, 9])\n",
      "enc.9x9_conv torch.Size([120000, 128, 9, 9])\n",
      "enc.3x3_down torch.Size([120000, 128, 3, 3])\n",
      "enc.1x1_down torch.Size([120000, 256, 1, 1])\n",
      "dec.1x1_in0 torch.Size([120000, 512, 1, 1])\n",
      "dec.1x1_in1 torch.Size([120000, 512, 1, 1])\n",
      "dec.3x3_up torch.Size([120000, 512, 1, 1])\n",
      "dec.9x9_up torch.Size([120000, 256, 7, 7])\n",
      "dec.9x9_aux_norm torch.Size([120000, 128, 9, 9])\n",
      "dec.9x9_aux_conv torch.Size([120000, 3, 9, 9])\n"
     ]
    },
    {
     "data": {
      "application/vnd.jupyter.widget-view+json": {
       "model_id": "e96daa4628f242d29862fb7e0d02919f",
       "version_major": 2,
       "version_minor": 0
      },
      "text/plain": [
       "  0%|          | 0/20 [00:00<?, ?it/s]"
      ]
     },
     "metadata": {},
     "output_type": "display_data"
    },
    {
     "name": "stdout",
     "output_type": "stream",
     "text": [
      "input torch.Size([40000, 3, 9, 9])\n",
      "enc.9x9_conv torch.Size([40000, 128, 9, 9])\n",
      "enc.3x3_down torch.Size([40000, 128, 3, 3])\n",
      "enc.1x1_down torch.Size([40000, 256, 1, 1])\n",
      "dec.1x1_in0 torch.Size([40000, 512, 1, 1])\n",
      "dec.1x1_in1 torch.Size([40000, 512, 1, 1])\n",
      "dec.3x3_up torch.Size([40000, 512, 1, 1])\n",
      "dec.9x9_up torch.Size([40000, 256, 7, 7])\n",
      "dec.9x9_aux_norm torch.Size([40000, 128, 9, 9])\n",
      "dec.9x9_aux_conv torch.Size([40000, 3, 9, 9])\n"
     ]
    }
   ],
   "source": [
    "# Now use the function for both training and testing data\n",
    "train_loader = DataLoader(train_dataset, batch_size=2048, shuffle=False, drop_last=False)\n",
    "test_loader = DataLoader(test_dataset, batch_size=2048, shuffle=False, drop_last=False)\n",
    "t_scalar = 0.002\n",
    "feature_col = extract_features_EDM(edm, fetcher, train_loader, dataset_Xmean, dataset_Xstd, t_scalar)\n",
    "feature_col_test = extract_features_EDM(edm, fetcher, test_loader, dataset_Xmean, dataset_Xstd, t_scalar)"
   ]
  },
  {
   "cell_type": "code",
   "execution_count": 89,
   "metadata": {},
   "outputs": [],
   "source": [
    "feature_avg_col = {k: v.mean(dim=(2,3)) for k, v in feature_col.items()}\n",
    "feature_avg_col_test = {k: v.mean(dim=(2,3)) for k, v in feature_col_test.items()}\n",
    "feature_sel_col = {k: v for k, v in feature_col.items() if \"1x1\" in k}\n",
    "feature_sel_col_test = {k: v for k, v in feature_col_test.items() if \"1x1\" in k}"
   ]
  },
  {
   "cell_type": "code",
   "execution_count": 90,
   "metadata": {},
   "outputs": [
    {
     "name": "stdout",
     "output_type": "stream",
     "text": [
      "Processing layer: enc.1x1_down\n",
      "Epoch [1/5000], Loss: 3.8947, Accuracy: 0.0225\n",
      "Epoch [250/5000], Loss: 0.3242, Accuracy: 0.8884\n",
      "Epoch [500/5000], Loss: 0.2770, Accuracy: 0.9026\n",
      "Epoch [750/5000], Loss: 0.2552, Accuracy: 0.9090\n",
      "Epoch [1000/5000], Loss: 0.2418, Accuracy: 0.9128\n",
      "Test Accuracy: 0.8963\n",
      "Epoch [1250/5000], Loss: 0.2323, Accuracy: 0.9157\n",
      "Epoch [1500/5000], Loss: 0.2252, Accuracy: 0.9181\n",
      "Epoch [1750/5000], Loss: 0.2195, Accuracy: 0.9196\n",
      "Epoch [2000/5000], Loss: 0.2148, Accuracy: 0.9211\n",
      "Test Accuracy: 0.8998\n",
      "Epoch [2250/5000], Loss: 0.2109, Accuracy: 0.9223\n",
      "Epoch [2500/5000], Loss: 0.2074, Accuracy: 0.9230\n",
      "Epoch [2750/5000], Loss: 0.2044, Accuracy: 0.9241\n",
      "Epoch [3000/5000], Loss: 0.2017, Accuracy: 0.9250\n",
      "Test Accuracy: 0.9005\n",
      "Epoch [3250/5000], Loss: 0.1993, Accuracy: 0.9256\n",
      "Epoch [3500/5000], Loss: 0.1971, Accuracy: 0.9264\n",
      "Epoch [3750/5000], Loss: 0.1951, Accuracy: 0.9271\n",
      "Epoch [4000/5000], Loss: 0.1933, Accuracy: 0.9276\n",
      "Test Accuracy: 0.9012\n",
      "Epoch [4250/5000], Loss: 0.1917, Accuracy: 0.9280\n",
      "Epoch [4500/5000], Loss: 0.1902, Accuracy: 0.9283\n",
      "Epoch [4750/5000], Loss: 0.1888, Accuracy: 0.9287\n",
      "Epoch [5000/5000], Loss: 0.1875, Accuracy: 0.9289\n",
      "Test Accuracy: 0.9020\n",
      "Test Accuracy: 0.9020\n",
      "Layer enc.1x1_down - PCA time: 0.01s, PCA transform time: 0.05s, Training time: 30.25s\n",
      "Processing layer: dec.1x1_in0\n",
      "Epoch [1/5000], Loss: 3.8626, Accuracy: 0.0218\n",
      "Epoch [250/5000], Loss: 0.3354, Accuracy: 0.8842\n",
      "Epoch [500/5000], Loss: 0.2868, Accuracy: 0.8994\n",
      "Epoch [750/5000], Loss: 0.2635, Accuracy: 0.9062\n",
      "Epoch [1000/5000], Loss: 0.2487, Accuracy: 0.9110\n",
      "Test Accuracy: 0.8885\n",
      "Epoch [1250/5000], Loss: 0.2382, Accuracy: 0.9137\n",
      "Epoch [1500/5000], Loss: 0.2296, Accuracy: 0.9166\n",
      "Epoch [1750/5000], Loss: 0.2227, Accuracy: 0.9187\n",
      "Epoch [2000/5000], Loss: 0.2172, Accuracy: 0.9204\n",
      "Test Accuracy: 0.8932\n",
      "Epoch [2250/5000], Loss: 0.2123, Accuracy: 0.9222\n",
      "Epoch [2500/5000], Loss: 0.2081, Accuracy: 0.9238\n",
      "Epoch [2750/5000], Loss: 0.2043, Accuracy: 0.9249\n",
      "Epoch [3000/5000], Loss: 0.2012, Accuracy: 0.9258\n",
      "Test Accuracy: 0.8937\n",
      "Epoch [3250/5000], Loss: 0.1981, Accuracy: 0.9268\n",
      "Epoch [3500/5000], Loss: 0.1952, Accuracy: 0.9278\n",
      "Epoch [3750/5000], Loss: 0.1928, Accuracy: 0.9284\n",
      "Epoch [4000/5000], Loss: 0.1904, Accuracy: 0.9292\n",
      "Test Accuracy: 0.8938\n",
      "Epoch [4250/5000], Loss: 0.1883, Accuracy: 0.9298\n",
      "Epoch [4500/5000], Loss: 0.1862, Accuracy: 0.9305\n",
      "Epoch [4750/5000], Loss: 0.1843, Accuracy: 0.9310\n",
      "Epoch [5000/5000], Loss: 0.1826, Accuracy: 0.9315\n",
      "Test Accuracy: 0.8939\n",
      "Test Accuracy: 0.8939\n",
      "Layer dec.1x1_in0 - PCA time: 0.02s, PCA transform time: 0.11s, Training time: 32.43s\n",
      "Processing layer: dec.1x1_in1\n",
      "Epoch [1/5000], Loss: 3.8804, Accuracy: 0.0194\n",
      "Epoch [250/5000], Loss: 0.3342, Accuracy: 0.8840\n",
      "Epoch [500/5000], Loss: 0.2859, Accuracy: 0.8987\n",
      "Epoch [750/5000], Loss: 0.2626, Accuracy: 0.9064\n",
      "Epoch [1000/5000], Loss: 0.2477, Accuracy: 0.9112\n",
      "Test Accuracy: 0.8884\n",
      "Epoch [1250/5000], Loss: 0.2368, Accuracy: 0.9145\n",
      "Epoch [1500/5000], Loss: 0.2284, Accuracy: 0.9172\n",
      "Epoch [1750/5000], Loss: 0.2215, Accuracy: 0.9192\n",
      "Epoch [2000/5000], Loss: 0.2158, Accuracy: 0.9209\n",
      "Test Accuracy: 0.8936\n",
      "Epoch [2250/5000], Loss: 0.2108, Accuracy: 0.9225\n",
      "Epoch [2500/5000], Loss: 0.2066, Accuracy: 0.9241\n",
      "Epoch [2750/5000], Loss: 0.2029, Accuracy: 0.9250\n",
      "Epoch [3000/5000], Loss: 0.1995, Accuracy: 0.9262\n",
      "Test Accuracy: 0.8930\n",
      "Epoch [3250/5000], Loss: 0.1965, Accuracy: 0.9272\n",
      "Epoch [3500/5000], Loss: 0.1937, Accuracy: 0.9279\n",
      "Epoch [3750/5000], Loss: 0.1914, Accuracy: 0.9286\n",
      "Epoch [4000/5000], Loss: 0.1892, Accuracy: 0.9295\n",
      "Test Accuracy: 0.8923\n",
      "Epoch [4250/5000], Loss: 0.1870, Accuracy: 0.9304\n",
      "Epoch [4500/5000], Loss: 0.1849, Accuracy: 0.9309\n",
      "Epoch [4750/5000], Loss: 0.1832, Accuracy: 0.9312\n",
      "Epoch [5000/5000], Loss: 0.1814, Accuracy: 0.9320\n",
      "Test Accuracy: 0.8909\n",
      "Test Accuracy: 0.8909\n",
      "Layer dec.1x1_in1 - PCA time: 0.02s, PCA transform time: 0.11s, Training time: 32.56s\n"
     ]
    }
   ],
   "source": [
    "model_PCA_col, PC_proj_col, results_col = train_pca_sgd_classifiers(\n",
    "    feature_sel_col, feature_sel_col_test, y_train, y_test,\n",
    "    PC_dim=1024, noPCA=True, num_classes=40, batch_size=None,\n",
    "    num_epochs=5000, print_every=250, eval_every=1000, learning_rate=0.005,\n",
    "    device='cuda'\n",
    ")"
   ]
  },
  {
   "cell_type": "code",
   "execution_count": null,
   "metadata": {},
   "outputs": [],
   "source": []
  },
  {
   "cell_type": "markdown",
   "metadata": {},
   "source": [
    "### Scaling of sigma"
   ]
  },
  {
   "cell_type": "code",
   "execution_count": 98,
   "metadata": {},
   "outputs": [
    {
     "name": "stdout",
     "output_type": "stream",
     "text": [
      "80.000\n",
      "53.559\n",
      "34.992\n",
      "22.240\n",
      "13.699\n",
      "8.139\n",
      "4.637\n",
      "2.515\n",
      "1.287\n",
      "0.613\n",
      "0.267\n",
      "0.104\n",
      "0.035\n",
      "0.010\n",
      "0.002\n"
     ]
    }
   ],
   "source": [
    "sigma_max = 80\n",
    "sigma_min = 0.002\n",
    "rho = 7\n",
    "num_steps = 15\n",
    "step_indices = np.arange(num_steps)\n",
    "sigma_steps = (sigma_max ** (1 / rho) + step_indices / (num_steps - 1) * (sigma_min ** (1 / rho) - sigma_max ** (1 / rho))) ** rho\n",
    "for sigma in sigma_steps:\n",
    "    print(f\"{sigma:.3f}\")\n",
    "sigma_steps\n"
   ]
  },
  {
   "cell_type": "code",
   "execution_count": 97,
   "metadata": {},
   "outputs": [
    {
     "name": "stdout",
     "output_type": "stream",
     "text": [
      "0.002\n",
      "0.004\n",
      "0.009\n",
      "0.019\n",
      "0.041\n",
      "0.088\n",
      "0.188\n",
      "0.400\n",
      "0.853\n",
      "1.818\n",
      "3.875\n",
      "8.259\n",
      "17.606\n",
      "37.529\n",
      "80.000\n"
     ]
    }
   ],
   "source": [
    "for sigma in np.logspace(np.log10(sigma_min), np.log10(sigma_max), num_steps):\n",
    "    print(f\"{sigma:.3f}\")"
   ]
  },
  {
   "cell_type": "markdown",
   "metadata": {},
   "source": [
    "### Dense sampling of time and sigma"
   ]
  },
  {
   "cell_type": "code",
   "execution_count": 101,
   "metadata": {},
   "outputs": [
    {
     "data": {
      "application/vnd.jupyter.widget-view+json": {
       "model_id": "540f017673a2401da542b0d2cb1e0d33",
       "version_major": 2,
       "version_minor": 0
      },
      "text/plain": [
       "  0%|          | 0/59 [00:00<?, ?it/s]"
      ]
     },
     "metadata": {},
     "output_type": "display_data"
    },
    {
     "name": "stdout",
     "output_type": "stream",
     "text": [
      "input torch.Size([120000, 3, 9, 9])\n",
      "enc.9x9_conv torch.Size([120000, 128, 9, 9])\n",
      "enc.3x3_down torch.Size([120000, 128, 3, 3])\n",
      "enc.1x1_down torch.Size([120000, 256, 1, 1])\n",
      "dec.1x1_in0 torch.Size([120000, 512, 1, 1])\n",
      "dec.1x1_in1 torch.Size([120000, 512, 1, 1])\n",
      "dec.3x3_up torch.Size([120000, 512, 1, 1])\n",
      "dec.9x9_up torch.Size([120000, 256, 7, 7])\n",
      "dec.9x9_aux_norm torch.Size([120000, 128, 9, 9])\n",
      "dec.9x9_aux_conv torch.Size([120000, 3, 9, 9])\n"
     ]
    },
    {
     "data": {
      "application/vnd.jupyter.widget-view+json": {
       "model_id": "c078db78fd174bbeb4da92762169f754",
       "version_major": 2,
       "version_minor": 0
      },
      "text/plain": [
       "  0%|          | 0/20 [00:00<?, ?it/s]"
      ]
     },
     "metadata": {},
     "output_type": "display_data"
    },
    {
     "name": "stdout",
     "output_type": "stream",
     "text": [
      "input torch.Size([40000, 3, 9, 9])\n",
      "enc.9x9_conv torch.Size([40000, 128, 9, 9])\n",
      "enc.3x3_down torch.Size([40000, 128, 3, 3])\n",
      "enc.1x1_down torch.Size([40000, 256, 1, 1])\n",
      "dec.1x1_in0 torch.Size([40000, 512, 1, 1])\n",
      "dec.1x1_in1 torch.Size([40000, 512, 1, 1])\n",
      "dec.3x3_up torch.Size([40000, 512, 1, 1])\n",
      "dec.9x9_up torch.Size([40000, 256, 7, 7])\n",
      "dec.9x9_aux_norm torch.Size([40000, 128, 9, 9])\n",
      "dec.9x9_aux_conv torch.Size([40000, 3, 9, 9])\n",
      "Processing layer: enc.1x1_down\n",
      "Epoch [1/5000], Loss: 3.8350, Accuracy: 0.0209\n",
      "Epoch [500/5000], Loss: 2.4768, Accuracy: 0.2739\n",
      "Epoch [1000/5000], Loss: 2.4026, Accuracy: 0.2884\n",
      "Test Accuracy: 0.2786\n",
      "Epoch [1500/5000], Loss: 2.3632, Accuracy: 0.2965\n",
      "Epoch [2000/5000], Loss: 2.3380, Accuracy: 0.3025\n",
      "Test Accuracy: 0.2905\n",
      "Epoch [2500/5000], Loss: 2.3202, Accuracy: 0.3061\n",
      "Epoch [3000/5000], Loss: 2.3069, Accuracy: 0.3097\n",
      "Test Accuracy: 0.2991\n",
      "Epoch [3500/5000], Loss: 2.2967, Accuracy: 0.3117\n",
      "Epoch [4000/5000], Loss: 2.2887, Accuracy: 0.3140\n",
      "Test Accuracy: 0.3016\n",
      "Epoch [4500/5000], Loss: 2.2819, Accuracy: 0.3164\n",
      "Epoch [5000/5000], Loss: 2.2761, Accuracy: 0.3178\n",
      "Test Accuracy: 0.3034\n",
      "Test Accuracy: 0.3034\n",
      "Layer enc.1x1_down - PCA time: 0.01s, PCA transform time: 0.05s, Training time: 30.26s\n",
      "Processing layer: dec.1x1_in0\n",
      "Epoch [1/5000], Loss: 3.7974, Accuracy: 0.0256\n",
      "Epoch [500/5000], Loss: 2.4793, Accuracy: 0.2727\n",
      "Epoch [1000/5000], Loss: 2.4268, Accuracy: 0.2847\n",
      "Test Accuracy: 0.2698\n",
      "Epoch [1500/5000], Loss: 2.4001, Accuracy: 0.2904\n",
      "Epoch [2000/5000], Loss: 2.3840, Accuracy: 0.2939\n",
      "Test Accuracy: 0.2733\n",
      "Epoch [2500/5000], Loss: 2.3725, Accuracy: 0.2964\n",
      "Epoch [3000/5000], Loss: 2.3637, Accuracy: 0.2989\n",
      "Test Accuracy: 0.2750\n",
      "Epoch [3500/5000], Loss: 2.3575, Accuracy: 0.3000\n",
      "Epoch [4000/5000], Loss: 2.3531, Accuracy: 0.3014\n",
      "Test Accuracy: 0.2764\n",
      "Epoch [4500/5000], Loss: 2.3471, Accuracy: 0.3028\n",
      "Epoch [5000/5000], Loss: 2.3443, Accuracy: 0.3036\n",
      "Test Accuracy: 0.2757\n",
      "Test Accuracy: 0.2757\n",
      "Layer dec.1x1_in0 - PCA time: 0.02s, PCA transform time: 0.11s, Training time: 32.68s\n",
      "Processing layer: dec.1x1_in1\n",
      "Epoch [1/5000], Loss: 3.7787, Accuracy: 0.0283\n",
      "Epoch [500/5000], Loss: 2.4764, Accuracy: 0.2740\n",
      "Epoch [1000/5000], Loss: 2.4226, Accuracy: 0.2854\n",
      "Test Accuracy: 0.2696\n",
      "Epoch [1500/5000], Loss: 2.3972, Accuracy: 0.2910\n",
      "Epoch [2000/5000], Loss: 2.3801, Accuracy: 0.2952\n",
      "Test Accuracy: 0.2709\n",
      "Epoch [2500/5000], Loss: 2.3686, Accuracy: 0.2982\n",
      "Epoch [3000/5000], Loss: 2.3604, Accuracy: 0.2999\n",
      "Test Accuracy: 0.2722\n",
      "Epoch [3500/5000], Loss: 2.3539, Accuracy: 0.3009\n",
      "Epoch [4000/5000], Loss: 2.3493, Accuracy: 0.3024\n",
      "Test Accuracy: 0.2729\n",
      "Epoch [4500/5000], Loss: 2.3444, Accuracy: 0.3035\n",
      "Epoch [5000/5000], Loss: 2.3411, Accuracy: 0.3046\n",
      "Test Accuracy: 0.2726\n",
      "Test Accuracy: 0.2726\n",
      "Layer dec.1x1_in1 - PCA time: 0.02s, PCA transform time: 0.11s, Training time: 32.46s\n"
     ]
    },
    {
     "data": {
      "image/png": "[encoded data removed]",
      "text/plain": [
       "<Figure size 432x288 with 1 Axes>"
      ]
     },
     "metadata": {
      "needs_background": "light"
     },
     "output_type": "display_data"
    },
    {
     "data": {
      "application/vnd.jupyter.widget-view+json": {
       "model_id": "08878576baa141a8b28bb99e732adbe7",
       "version_major": 2,
       "version_minor": 0
      },
      "text/plain": [
       "  0%|          | 0/59 [00:00<?, ?it/s]"
      ]
     },
     "metadata": {},
     "output_type": "display_data"
    },
    {
     "name": "stdout",
     "output_type": "stream",
     "text": [
      "input torch.Size([120000, 3, 9, 9])\n",
      "enc.9x9_conv torch.Size([120000, 128, 9, 9])\n",
      "enc.3x3_down torch.Size([120000, 128, 3, 3])\n",
      "enc.1x1_down torch.Size([120000, 256, 1, 1])\n",
      "dec.1x1_in0 torch.Size([120000, 512, 1, 1])\n",
      "dec.1x1_in1 torch.Size([120000, 512, 1, 1])\n",
      "dec.3x3_up torch.Size([120000, 512, 1, 1])\n",
      "dec.9x9_up torch.Size([120000, 256, 7, 7])\n",
      "dec.9x9_aux_norm torch.Size([120000, 128, 9, 9])\n",
      "dec.9x9_aux_conv torch.Size([120000, 3, 9, 9])\n"
     ]
    },
    {
     "data": {
      "application/vnd.jupyter.widget-view+json": {
       "model_id": "cdabcf57d5be48eca9da15c4bebbb208",
       "version_major": 2,
       "version_minor": 0
      },
      "text/plain": [
       "  0%|          | 0/20 [00:00<?, ?it/s]"
      ]
     },
     "metadata": {},
     "output_type": "display_data"
    },
    {
     "name": "stdout",
     "output_type": "stream",
     "text": [
      "input torch.Size([40000, 3, 9, 9])\n",
      "enc.9x9_conv torch.Size([40000, 128, 9, 9])\n",
      "enc.3x3_down torch.Size([40000, 128, 3, 3])\n",
      "enc.1x1_down torch.Size([40000, 256, 1, 1])\n",
      "dec.1x1_in0 torch.Size([40000, 512, 1, 1])\n",
      "dec.1x1_in1 torch.Size([40000, 512, 1, 1])\n",
      "dec.3x3_up torch.Size([40000, 512, 1, 1])\n",
      "dec.9x9_up torch.Size([40000, 256, 7, 7])\n",
      "dec.9x9_aux_norm torch.Size([40000, 128, 9, 9])\n",
      "dec.9x9_aux_conv torch.Size([40000, 3, 9, 9])\n",
      "Processing layer: enc.1x1_down\n",
      "Epoch [1/5000], Loss: 3.8296, Accuracy: 0.0258\n",
      "Epoch [500/5000], Loss: 2.4187, Accuracy: 0.2867\n",
      "Epoch [1000/5000], Loss: 2.3269, Accuracy: 0.3072\n",
      "Test Accuracy: 0.2984\n",
      "Epoch [1500/5000], Loss: 2.2748, Accuracy: 0.3188\n",
      "Epoch [2000/5000], Loss: 2.2397, Accuracy: 0.3278\n",
      "Test Accuracy: 0.3169\n",
      "Epoch [2500/5000], Loss: 2.2147, Accuracy: 0.3347\n",
      "Epoch [3000/5000], Loss: 2.1956, Accuracy: 0.3397\n",
      "Test Accuracy: 0.3275\n",
      "Epoch [3500/5000], Loss: 2.1807, Accuracy: 0.3438\n",
      "Epoch [4000/5000], Loss: 2.1685, Accuracy: 0.3468\n",
      "Test Accuracy: 0.3326\n",
      "Epoch [4500/5000], Loss: 2.1584, Accuracy: 0.3494\n",
      "Epoch [5000/5000], Loss: 2.1499, Accuracy: 0.3510\n",
      "Test Accuracy: 0.3360\n",
      "Test Accuracy: 0.3360\n",
      "Layer enc.1x1_down - PCA time: 0.01s, PCA transform time: 0.05s, Training time: 30.24s\n",
      "Processing layer: dec.1x1_in0\n",
      "Epoch [1/5000], Loss: 3.7786, Accuracy: 0.0352\n",
      "Epoch [500/5000], Loss: 2.4082, Accuracy: 0.2887\n",
      "Epoch [1000/5000], Loss: 2.3374, Accuracy: 0.3044\n",
      "Test Accuracy: 0.2930\n",
      "Epoch [1500/5000], Loss: 2.3022, Accuracy: 0.3114\n",
      "Epoch [2000/5000], Loss: 2.2783, Accuracy: 0.3174\n",
      "Test Accuracy: 0.3036\n",
      "Epoch [2500/5000], Loss: 2.2629, Accuracy: 0.3217\n",
      "Epoch [3000/5000], Loss: 2.2504, Accuracy: 0.3247\n",
      "Test Accuracy: 0.3090\n",
      "Epoch [3500/5000], Loss: 2.2410, Accuracy: 0.3265\n",
      "Epoch [4000/5000], Loss: 2.2344, Accuracy: 0.3285\n",
      "Test Accuracy: 0.3095\n",
      "Epoch [4500/5000], Loss: 2.2271, Accuracy: 0.3308\n",
      "Epoch [5000/5000], Loss: 2.2220, Accuracy: 0.3321\n",
      "Test Accuracy: 0.3119\n",
      "Test Accuracy: 0.3119\n",
      "Layer dec.1x1_in0 - PCA time: 0.02s, PCA transform time: 0.11s, Training time: 32.73s\n",
      "Processing layer: dec.1x1_in1\n",
      "Epoch [1/5000], Loss: 3.8292, Accuracy: 0.0230\n",
      "Epoch [500/5000], Loss: 2.4110, Accuracy: 0.2880\n",
      "Epoch [1000/5000], Loss: 2.3396, Accuracy: 0.3052\n",
      "Test Accuracy: 0.2918\n",
      "Epoch [1500/5000], Loss: 2.3026, Accuracy: 0.3126\n",
      "Epoch [2000/5000], Loss: 2.2792, Accuracy: 0.3184\n",
      "Test Accuracy: 0.3032\n",
      "Epoch [2500/5000], Loss: 2.2630, Accuracy: 0.3223\n",
      "Epoch [3000/5000], Loss: 2.2513, Accuracy: 0.3253\n",
      "Test Accuracy: 0.3072\n",
      "Epoch [3500/5000], Loss: 2.2417, Accuracy: 0.3282\n",
      "Epoch [4000/5000], Loss: 2.2338, Accuracy: 0.3301\n",
      "Test Accuracy: 0.3089\n",
      "Epoch [4500/5000], Loss: 2.2276, Accuracy: 0.3317\n",
      "Epoch [5000/5000], Loss: 2.2222, Accuracy: 0.3335\n",
      "Test Accuracy: 0.3095\n",
      "Test Accuracy: 0.3095\n",
      "Layer dec.1x1_in1 - PCA time: 0.02s, PCA transform time: 0.11s, Training time: 32.67s\n"
     ]
    },
    {
     "data": {
      "image/png": "[encoded data removed]",
      "text/plain": [
       "<Figure size 432x288 with 1 Axes>"
      ]
     },
     "metadata": {
      "needs_background": "light"
     },
     "output_type": "display_data"
    },
    {
     "data": {
      "application/vnd.jupyter.widget-view+json": {
       "model_id": "d1d189a562cd4b8093048f5cd68e923d",
       "version_major": 2,
       "version_minor": 0
      },
      "text/plain": [
       "  0%|          | 0/59 [00:00<?, ?it/s]"
      ]
     },
     "metadata": {},
     "output_type": "display_data"
    },
    {
     "name": "stdout",
     "output_type": "stream",
     "text": [
      "input torch.Size([120000, 3, 9, 9])\n",
      "enc.9x9_conv torch.Size([120000, 128, 9, 9])\n",
      "enc.3x3_down torch.Size([120000, 128, 3, 3])\n",
      "enc.1x1_down torch.Size([120000, 256, 1, 1])\n",
      "dec.1x1_in0 torch.Size([120000, 512, 1, 1])\n",
      "dec.1x1_in1 torch.Size([120000, 512, 1, 1])\n",
      "dec.3x3_up torch.Size([120000, 512, 1, 1])\n",
      "dec.9x9_up torch.Size([120000, 256, 7, 7])\n",
      "dec.9x9_aux_norm torch.Size([120000, 128, 9, 9])\n",
      "dec.9x9_aux_conv torch.Size([120000, 3, 9, 9])\n"
     ]
    },
    {
     "data": {
      "application/vnd.jupyter.widget-view+json": {
       "model_id": "d977c6f6660742c9b8f86b1bae22b1f7",
       "version_major": 2,
       "version_minor": 0
      },
      "text/plain": [
       "  0%|          | 0/20 [00:00<?, ?it/s]"
      ]
     },
     "metadata": {},
     "output_type": "display_data"
    },
    {
     "name": "stdout",
     "output_type": "stream",
     "text": [
      "input torch.Size([40000, 3, 9, 9])\n",
      "enc.9x9_conv torch.Size([40000, 128, 9, 9])\n",
      "enc.3x3_down torch.Size([40000, 128, 3, 3])\n",
      "enc.1x1_down torch.Size([40000, 256, 1, 1])\n",
      "dec.1x1_in0 torch.Size([40000, 512, 1, 1])\n",
      "dec.1x1_in1 torch.Size([40000, 512, 1, 1])\n",
      "dec.3x3_up torch.Size([40000, 512, 1, 1])\n",
      "dec.9x9_up torch.Size([40000, 256, 7, 7])\n",
      "dec.9x9_aux_norm torch.Size([40000, 128, 9, 9])\n",
      "dec.9x9_aux_conv torch.Size([40000, 3, 9, 9])\n",
      "Processing layer: enc.1x1_down\n",
      "Epoch [1/5000], Loss: 3.8521, Accuracy: 0.0227\n",
      "Epoch [500/5000], Loss: 2.3574, Accuracy: 0.3011\n",
      "Epoch [1000/5000], Loss: 2.2537, Accuracy: 0.3261\n",
      "Test Accuracy: 0.3149\n",
      "Epoch [1500/5000], Loss: 2.1938, Accuracy: 0.3414\n",
      "Epoch [2000/5000], Loss: 2.1525, Accuracy: 0.3524\n",
      "Test Accuracy: 0.3382\n",
      "Epoch [2500/5000], Loss: 2.1218, Accuracy: 0.3602\n",
      "Epoch [3000/5000], Loss: 2.0978, Accuracy: 0.3661\n",
      "Test Accuracy: 0.3517\n",
      "Epoch [3500/5000], Loss: 2.0787, Accuracy: 0.3716\n",
      "Epoch [4000/5000], Loss: 2.0635, Accuracy: 0.3757\n",
      "Test Accuracy: 0.3599\n",
      "Epoch [4500/5000], Loss: 2.0500, Accuracy: 0.3796\n",
      "Epoch [5000/5000], Loss: 2.0389, Accuracy: 0.3824\n",
      "Test Accuracy: 0.3674\n",
      "Test Accuracy: 0.3674\n",
      "Layer enc.1x1_down - PCA time: 0.01s, PCA transform time: 0.05s, Training time: 30.23s\n",
      "Processing layer: dec.1x1_in0\n",
      "Epoch [1/5000], Loss: 3.8292, Accuracy: 0.0313\n",
      "Epoch [500/5000], Loss: 2.3564, Accuracy: 0.3015\n",
      "Epoch [1000/5000], Loss: 2.2679, Accuracy: 0.3233\n",
      "Test Accuracy: 0.3131\n",
      "Epoch [1500/5000], Loss: 2.2203, Accuracy: 0.3340\n",
      "Epoch [2000/5000], Loss: 2.1889, Accuracy: 0.3418\n",
      "Test Accuracy: 0.3290\n",
      "Epoch [2500/5000], Loss: 2.1661, Accuracy: 0.3480\n",
      "Epoch [3000/5000], Loss: 2.1488, Accuracy: 0.3527\n",
      "Test Accuracy: 0.3389\n",
      "Epoch [3500/5000], Loss: 2.1353, Accuracy: 0.3570\n",
      "Epoch [4000/5000], Loss: 2.1238, Accuracy: 0.3587\n",
      "Test Accuracy: 0.3432\n",
      "Epoch [4500/5000], Loss: 2.1147, Accuracy: 0.3613\n",
      "Epoch [5000/5000], Loss: 2.1074, Accuracy: 0.3624\n",
      "Test Accuracy: 0.3468\n",
      "Test Accuracy: 0.3468\n",
      "Layer dec.1x1_in0 - PCA time: 0.02s, PCA transform time: 0.11s, Training time: 32.72s\n",
      "Processing layer: dec.1x1_in1\n",
      "Epoch [1/5000], Loss: 3.8608, Accuracy: 0.0217\n",
      "Epoch [500/5000], Loss: 2.3542, Accuracy: 0.3026\n",
      "Epoch [1000/5000], Loss: 2.2665, Accuracy: 0.3231\n",
      "Test Accuracy: 0.3134\n",
      "Epoch [1500/5000], Loss: 2.2187, Accuracy: 0.3339\n",
      "Epoch [2000/5000], Loss: 2.1864, Accuracy: 0.3430\n",
      "Test Accuracy: 0.3308\n",
      "Epoch [2500/5000], Loss: 2.1642, Accuracy: 0.3485\n",
      "Epoch [3000/5000], Loss: 2.1465, Accuracy: 0.3536\n",
      "Test Accuracy: 0.3396\n",
      "Epoch [3500/5000], Loss: 2.1328, Accuracy: 0.3575\n",
      "Epoch [4000/5000], Loss: 2.1214, Accuracy: 0.3606\n",
      "Test Accuracy: 0.3437\n",
      "Epoch [4500/5000], Loss: 2.1114, Accuracy: 0.3634\n",
      "Epoch [5000/5000], Loss: 2.1036, Accuracy: 0.3652\n",
      "Test Accuracy: 0.3458\n",
      "Test Accuracy: 0.3458\n",
      "Layer dec.1x1_in1 - PCA time: 0.02s, PCA transform time: 0.11s, Training time: 32.67s\n"
     ]
    },
    {
     "data": {
      "image/png": "[encoded data removed]",
      "text/plain": [
       "<Figure size 432x288 with 1 Axes>"
      ]
     },
     "metadata": {
      "needs_background": "light"
     },
     "output_type": "display_data"
    },
    {
     "data": {
      "application/vnd.jupyter.widget-view+json": {
       "model_id": "646d0fb465be491f85f4c2053f86444b",
       "version_major": 2,
       "version_minor": 0
      },
      "text/plain": [
       "  0%|          | 0/59 [00:00<?, ?it/s]"
      ]
     },
     "metadata": {},
     "output_type": "display_data"
    },
    {
     "name": "stdout",
     "output_type": "stream",
     "text": [
      "input torch.Size([120000, 3, 9, 9])\n",
      "enc.9x9_conv torch.Size([120000, 128, 9, 9])\n",
      "enc.3x3_down torch.Size([120000, 128, 3, 3])\n",
      "enc.1x1_down torch.Size([120000, 256, 1, 1])\n",
      "dec.1x1_in0 torch.Size([120000, 512, 1, 1])\n",
      "dec.1x1_in1 torch.Size([120000, 512, 1, 1])\n",
      "dec.3x3_up torch.Size([120000, 512, 1, 1])\n",
      "dec.9x9_up torch.Size([120000, 256, 7, 7])\n",
      "dec.9x9_aux_norm torch.Size([120000, 128, 9, 9])\n",
      "dec.9x9_aux_conv torch.Size([120000, 3, 9, 9])\n"
     ]
    },
    {
     "data": {
      "application/vnd.jupyter.widget-view+json": {
       "model_id": "2a8b1b9f93e741a7a966b889e6a7f79c",
       "version_major": 2,
       "version_minor": 0
      },
      "text/plain": [
       "  0%|          | 0/20 [00:00<?, ?it/s]"
      ]
     },
     "metadata": {},
     "output_type": "display_data"
    },
    {
     "name": "stdout",
     "output_type": "stream",
     "text": [
      "input torch.Size([40000, 3, 9, 9])\n",
      "enc.9x9_conv torch.Size([40000, 128, 9, 9])\n",
      "enc.3x3_down torch.Size([40000, 128, 3, 3])\n",
      "enc.1x1_down torch.Size([40000, 256, 1, 1])\n",
      "dec.1x1_in0 torch.Size([40000, 512, 1, 1])\n",
      "dec.1x1_in1 torch.Size([40000, 512, 1, 1])\n",
      "dec.3x3_up torch.Size([40000, 512, 1, 1])\n",
      "dec.9x9_up torch.Size([40000, 256, 7, 7])\n",
      "dec.9x9_aux_norm torch.Size([40000, 128, 9, 9])\n",
      "dec.9x9_aux_conv torch.Size([40000, 3, 9, 9])\n",
      "Processing layer: enc.1x1_down\n",
      "Epoch [1/5000], Loss: 3.8114, Accuracy: 0.0262\n",
      "Epoch [500/5000], Loss: 2.2404, Accuracy: 0.3313\n",
      "Epoch [1000/5000], Loss: 2.1219, Accuracy: 0.3611\n",
      "Test Accuracy: 0.3497\n",
      "Epoch [1500/5000], Loss: 2.0549, Accuracy: 0.3789\n",
      "Epoch [2000/5000], Loss: 2.0090, Accuracy: 0.3912\n",
      "Test Accuracy: 0.3770\n",
      "Epoch [2500/5000], Loss: 1.9755, Accuracy: 0.4003\n",
      "Epoch [3000/5000], Loss: 1.9501, Accuracy: 0.4071\n",
      "Test Accuracy: 0.3915\n",
      "Epoch [3500/5000], Loss: 1.9301, Accuracy: 0.4130\n",
      "Epoch [4000/5000], Loss: 1.9139, Accuracy: 0.4176\n",
      "Test Accuracy: 0.3995\n",
      "Epoch [4500/5000], Loss: 1.9009, Accuracy: 0.4207\n",
      "Epoch [5000/5000], Loss: 1.8895, Accuracy: 0.4239\n",
      "Test Accuracy: 0.4060\n",
      "Test Accuracy: 0.4060\n",
      "Layer enc.1x1_down - PCA time: 0.01s, PCA transform time: 0.05s, Training time: 30.31s\n",
      "Processing layer: dec.1x1_in0\n",
      "Epoch [1/5000], Loss: 3.9937, Accuracy: 0.0110\n",
      "Epoch [500/5000], Loss: 2.2521, Accuracy: 0.3292\n",
      "Epoch [1000/5000], Loss: 2.1454, Accuracy: 0.3556\n",
      "Test Accuracy: 0.3448\n",
      "Epoch [1500/5000], Loss: 2.0872, Accuracy: 0.3703\n",
      "Epoch [2000/5000], Loss: 2.0481, Accuracy: 0.3807\n",
      "Test Accuracy: 0.3673\n",
      "Epoch [2500/5000], Loss: 2.0205, Accuracy: 0.3875\n",
      "Epoch [3000/5000], Loss: 1.9991, Accuracy: 0.3931\n",
      "Test Accuracy: 0.3779\n",
      "Epoch [3500/5000], Loss: 1.9824, Accuracy: 0.3976\n",
      "Epoch [4000/5000], Loss: 1.9688, Accuracy: 0.4018\n",
      "Test Accuracy: 0.3841\n",
      "Epoch [4500/5000], Loss: 1.9561, Accuracy: 0.4051\n",
      "Epoch [5000/5000], Loss: 1.9456, Accuracy: 0.4081\n",
      "Test Accuracy: 0.3908\n",
      "Test Accuracy: 0.3908\n",
      "Layer dec.1x1_in0 - PCA time: 0.02s, PCA transform time: 0.11s, Training time: 32.66s\n",
      "Processing layer: dec.1x1_in1\n",
      "Epoch [1/5000], Loss: 3.8283, Accuracy: 0.0268\n",
      "Epoch [500/5000], Loss: 2.2396, Accuracy: 0.3324\n",
      "Epoch [1000/5000], Loss: 2.1348, Accuracy: 0.3572\n",
      "Test Accuracy: 0.3463\n",
      "Epoch [1500/5000], Loss: 2.0766, Accuracy: 0.3730\n",
      "Epoch [2000/5000], Loss: 2.0381, Accuracy: 0.3829\n",
      "Test Accuracy: 0.3697\n",
      "Epoch [2500/5000], Loss: 2.0105, Accuracy: 0.3904\n",
      "Epoch [3000/5000], Loss: 1.9884, Accuracy: 0.3968\n",
      "Test Accuracy: 0.3810\n",
      "Epoch [3500/5000], Loss: 1.9718, Accuracy: 0.4015\n",
      "Epoch [4000/5000], Loss: 1.9581, Accuracy: 0.4044\n",
      "Test Accuracy: 0.3874\n",
      "Epoch [4500/5000], Loss: 1.9456, Accuracy: 0.4078\n",
      "Epoch [5000/5000], Loss: 1.9354, Accuracy: 0.4114\n",
      "Test Accuracy: 0.3929\n",
      "Test Accuracy: 0.3929\n",
      "Layer dec.1x1_in1 - PCA time: 0.02s, PCA transform time: 0.10s, Training time: 32.69s\n"
     ]
    },
    {
     "data": {
      "image/png": "[encoded data removed]",
      "text/plain": [
       "<Figure size 432x288 with 1 Axes>"
      ]
     },
     "metadata": {
      "needs_background": "light"
     },
     "output_type": "display_data"
    },
    {
     "data": {
      "application/vnd.jupyter.widget-view+json": {
       "model_id": "39408fc5ceff441489cae2b30e7fa174",
       "version_major": 2,
       "version_minor": 0
      },
      "text/plain": [
       "  0%|          | 0/59 [00:00<?, ?it/s]"
      ]
     },
     "metadata": {},
     "output_type": "display_data"
    },
    {
     "name": "stdout",
     "output_type": "stream",
     "text": [
      "input torch.Size([120000, 3, 9, 9])\n",
      "enc.9x9_conv torch.Size([120000, 128, 9, 9])\n",
      "enc.3x3_down torch.Size([120000, 128, 3, 3])\n",
      "enc.1x1_down torch.Size([120000, 256, 1, 1])\n",
      "dec.1x1_in0 torch.Size([120000, 512, 1, 1])\n",
      "dec.1x1_in1 torch.Size([120000, 512, 1, 1])\n",
      "dec.3x3_up torch.Size([120000, 512, 1, 1])\n",
      "dec.9x9_up torch.Size([120000, 256, 7, 7])\n",
      "dec.9x9_aux_norm torch.Size([120000, 128, 9, 9])\n",
      "dec.9x9_aux_conv torch.Size([120000, 3, 9, 9])\n"
     ]
    },
    {
     "data": {
      "application/vnd.jupyter.widget-view+json": {
       "model_id": "802d066e6cde414b89c63701302adcd2",
       "version_major": 2,
       "version_minor": 0
      },
      "text/plain": [
       "  0%|          | 0/20 [00:00<?, ?it/s]"
      ]
     },
     "metadata": {},
     "output_type": "display_data"
    },
    {
     "name": "stdout",
     "output_type": "stream",
     "text": [
      "input torch.Size([40000, 3, 9, 9])\n",
      "enc.9x9_conv torch.Size([40000, 128, 9, 9])\n",
      "enc.3x3_down torch.Size([40000, 128, 3, 3])\n",
      "enc.1x1_down torch.Size([40000, 256, 1, 1])\n",
      "dec.1x1_in0 torch.Size([40000, 512, 1, 1])\n",
      "dec.1x1_in1 torch.Size([40000, 512, 1, 1])\n",
      "dec.3x3_up torch.Size([40000, 512, 1, 1])\n",
      "dec.9x9_up torch.Size([40000, 256, 7, 7])\n",
      "dec.9x9_aux_norm torch.Size([40000, 128, 9, 9])\n",
      "dec.9x9_aux_conv torch.Size([40000, 3, 9, 9])\n",
      "Processing layer: enc.1x1_down\n",
      "Epoch [1/5000], Loss: 3.8262, Accuracy: 0.0241\n",
      "Epoch [500/5000], Loss: 2.0785, Accuracy: 0.3739\n",
      "Epoch [1000/5000], Loss: 1.9507, Accuracy: 0.4084\n",
      "Test Accuracy: 0.3911\n",
      "Epoch [1500/5000], Loss: 1.8824, Accuracy: 0.4273\n",
      "Epoch [2000/5000], Loss: 1.8383, Accuracy: 0.4398\n",
      "Test Accuracy: 0.4200\n",
      "Epoch [2500/5000], Loss: 1.8078, Accuracy: 0.4478\n",
      "Epoch [3000/5000], Loss: 1.7848, Accuracy: 0.4550\n",
      "Test Accuracy: 0.4345\n",
      "Epoch [3500/5000], Loss: 1.7672, Accuracy: 0.4594\n",
      "Epoch [4000/5000], Loss: 1.7534, Accuracy: 0.4632\n",
      "Test Accuracy: 0.4429\n",
      "Epoch [4500/5000], Loss: 1.7423, Accuracy: 0.4667\n",
      "Epoch [5000/5000], Loss: 1.7330, Accuracy: 0.4691\n",
      "Test Accuracy: 0.4485\n",
      "Test Accuracy: 0.4485\n",
      "Layer enc.1x1_down - PCA time: 0.01s, PCA transform time: 0.05s, Training time: 30.29s\n",
      "Processing layer: dec.1x1_in0\n",
      "Epoch [1/5000], Loss: 3.9336, Accuracy: 0.0230\n",
      "Epoch [500/5000], Loss: 2.0914, Accuracy: 0.3714\n",
      "Epoch [1000/5000], Loss: 1.9721, Accuracy: 0.4027\n",
      "Test Accuracy: 0.3869\n",
      "Epoch [1500/5000], Loss: 1.9105, Accuracy: 0.4191\n",
      "Epoch [2000/5000], Loss: 1.8711, Accuracy: 0.4309\n",
      "Test Accuracy: 0.4094\n",
      "Epoch [2500/5000], Loss: 1.8433, Accuracy: 0.4381\n",
      "Epoch [3000/5000], Loss: 1.8220, Accuracy: 0.4438\n",
      "Test Accuracy: 0.4220\n",
      "Epoch [3500/5000], Loss: 1.8047, Accuracy: 0.4493\n",
      "Epoch [4000/5000], Loss: 1.7905, Accuracy: 0.4540\n",
      "Test Accuracy: 0.4317\n",
      "Epoch [4500/5000], Loss: 1.7795, Accuracy: 0.4562\n",
      "Epoch [5000/5000], Loss: 1.7691, Accuracy: 0.4590\n",
      "Test Accuracy: 0.4370\n",
      "Test Accuracy: 0.4370\n",
      "Layer dec.1x1_in0 - PCA time: 0.02s, PCA transform time: 0.11s, Training time: 32.66s\n",
      "Processing layer: dec.1x1_in1\n",
      "Epoch [1/5000], Loss: 3.8725, Accuracy: 0.0241\n",
      "Epoch [500/5000], Loss: 2.0877, Accuracy: 0.3712\n",
      "Epoch [1000/5000], Loss: 1.9674, Accuracy: 0.4033\n",
      "Test Accuracy: 0.3872\n",
      "Epoch [1500/5000], Loss: 1.9040, Accuracy: 0.4211\n",
      "Epoch [2000/5000], Loss: 1.8636, Accuracy: 0.4330\n",
      "Test Accuracy: 0.4112\n",
      "Epoch [2500/5000], Loss: 1.8347, Accuracy: 0.4402\n",
      "Epoch [3000/5000], Loss: 1.8119, Accuracy: 0.4468\n",
      "Test Accuracy: 0.4239\n",
      "Epoch [3500/5000], Loss: 1.7945, Accuracy: 0.4517\n",
      "Epoch [4000/5000], Loss: 1.7807, Accuracy: 0.4547\n",
      "Test Accuracy: 0.4331\n",
      "Epoch [4500/5000], Loss: 1.7680, Accuracy: 0.4583\n",
      "Epoch [5000/5000], Loss: 1.7576, Accuracy: 0.4620\n",
      "Test Accuracy: 0.4396\n",
      "Test Accuracy: 0.4396\n",
      "Layer dec.1x1_in1 - PCA time: 0.02s, PCA transform time: 0.11s, Training time: 32.65s\n"
     ]
    },
    {
     "data": {
      "image/png": "[encoded data removed]",
      "text/plain": [
       "<Figure size 432x288 with 1 Axes>"
      ]
     },
     "metadata": {
      "needs_background": "light"
     },
     "output_type": "display_data"
    },
    {
     "data": {
      "application/vnd.jupyter.widget-view+json": {
       "model_id": "6fdcdc993d004a5cb318d9d4693d9ca1",
       "version_major": 2,
       "version_minor": 0
      },
      "text/plain": [
       "  0%|          | 0/59 [00:00<?, ?it/s]"
      ]
     },
     "metadata": {},
     "output_type": "display_data"
    },
    {
     "name": "stdout",
     "output_type": "stream",
     "text": [
      "input torch.Size([120000, 3, 9, 9])\n",
      "enc.9x9_conv torch.Size([120000, 128, 9, 9])\n",
      "enc.3x3_down torch.Size([120000, 128, 3, 3])\n",
      "enc.1x1_down torch.Size([120000, 256, 1, 1])\n",
      "dec.1x1_in0 torch.Size([120000, 512, 1, 1])\n",
      "dec.1x1_in1 torch.Size([120000, 512, 1, 1])\n",
      "dec.3x3_up torch.Size([120000, 512, 1, 1])\n",
      "dec.9x9_up torch.Size([120000, 256, 7, 7])\n",
      "dec.9x9_aux_norm torch.Size([120000, 128, 9, 9])\n",
      "dec.9x9_aux_conv torch.Size([120000, 3, 9, 9])\n"
     ]
    },
    {
     "data": {
      "application/vnd.jupyter.widget-view+json": {
       "model_id": "304f1a08ba53492eb7636299a201696a",
       "version_major": 2,
       "version_minor": 0
      },
      "text/plain": [
       "  0%|          | 0/20 [00:00<?, ?it/s]"
      ]
     },
     "metadata": {},
     "output_type": "display_data"
    },
    {
     "name": "stdout",
     "output_type": "stream",
     "text": [
      "input torch.Size([40000, 3, 9, 9])\n",
      "enc.9x9_conv torch.Size([40000, 128, 9, 9])\n",
      "enc.3x3_down torch.Size([40000, 128, 3, 3])\n",
      "enc.1x1_down torch.Size([40000, 256, 1, 1])\n",
      "dec.1x1_in0 torch.Size([40000, 512, 1, 1])\n",
      "dec.1x1_in1 torch.Size([40000, 512, 1, 1])\n",
      "dec.3x3_up torch.Size([40000, 512, 1, 1])\n",
      "dec.9x9_up torch.Size([40000, 256, 7, 7])\n",
      "dec.9x9_aux_norm torch.Size([40000, 128, 9, 9])\n",
      "dec.9x9_aux_conv torch.Size([40000, 3, 9, 9])\n",
      "Processing layer: enc.1x1_down\n",
      "Epoch [1/5000], Loss: 3.8978, Accuracy: 0.0218\n",
      "Epoch [500/5000], Loss: 1.8578, Accuracy: 0.4323\n",
      "Epoch [1000/5000], Loss: 1.7375, Accuracy: 0.4647\n",
      "Test Accuracy: 0.4503\n",
      "Epoch [1500/5000], Loss: 1.6771, Accuracy: 0.4815\n",
      "Epoch [2000/5000], Loss: 1.6393, Accuracy: 0.4922\n",
      "Test Accuracy: 0.4763\n",
      "Epoch [2500/5000], Loss: 1.6133, Accuracy: 0.4999\n",
      "Epoch [3000/5000], Loss: 1.5943, Accuracy: 0.5060\n",
      "Test Accuracy: 0.4857\n",
      "Epoch [3500/5000], Loss: 1.5801, Accuracy: 0.5105\n",
      "Epoch [4000/5000], Loss: 1.5691, Accuracy: 0.5141\n",
      "Test Accuracy: 0.4923\n",
      "Epoch [4500/5000], Loss: 1.5603, Accuracy: 0.5166\n",
      "Epoch [5000/5000], Loss: 1.5532, Accuracy: 0.5182\n",
      "Test Accuracy: 0.4963\n",
      "Test Accuracy: 0.4963\n",
      "Layer enc.1x1_down - PCA time: 0.01s, PCA transform time: 0.05s, Training time: 30.27s\n",
      "Processing layer: dec.1x1_in0\n",
      "Epoch [1/5000], Loss: 3.8661, Accuracy: 0.0303\n",
      "Epoch [500/5000], Loss: 1.8632, Accuracy: 0.4311\n",
      "Epoch [1000/5000], Loss: 1.7433, Accuracy: 0.4639\n",
      "Test Accuracy: 0.4444\n",
      "Epoch [1500/5000], Loss: 1.6820, Accuracy: 0.4811\n",
      "Epoch [2000/5000], Loss: 1.6434, Accuracy: 0.4920\n",
      "Test Accuracy: 0.4692\n",
      "Epoch [2500/5000], Loss: 1.6161, Accuracy: 0.4994\n",
      "Epoch [3000/5000], Loss: 1.5959, Accuracy: 0.5056\n",
      "Test Accuracy: 0.4797\n",
      "Epoch [3500/5000], Loss: 1.5793, Accuracy: 0.5097\n",
      "Epoch [4000/5000], Loss: 1.5659, Accuracy: 0.5137\n",
      "Test Accuracy: 0.4874\n",
      "Epoch [4500/5000], Loss: 1.5548, Accuracy: 0.5169\n",
      "Epoch [5000/5000], Loss: 1.5455, Accuracy: 0.5196\n",
      "Test Accuracy: 0.4912\n",
      "Test Accuracy: 0.4912\n",
      "Layer dec.1x1_in0 - PCA time: 0.02s, PCA transform time: 0.11s, Training time: 32.66s\n",
      "Processing layer: dec.1x1_in1\n",
      "Epoch [1/5000], Loss: 3.8266, Accuracy: 0.0336\n",
      "Epoch [500/5000], Loss: 1.8596, Accuracy: 0.4320\n",
      "Epoch [1000/5000], Loss: 1.7368, Accuracy: 0.4655\n",
      "Test Accuracy: 0.4464\n",
      "Epoch [1500/5000], Loss: 1.6740, Accuracy: 0.4834\n",
      "Epoch [2000/5000], Loss: 1.6331, Accuracy: 0.4940\n",
      "Test Accuracy: 0.4706\n",
      "Epoch [2500/5000], Loss: 1.6050, Accuracy: 0.5026\n",
      "Epoch [3000/5000], Loss: 1.5838, Accuracy: 0.5084\n",
      "Test Accuracy: 0.4818\n",
      "Epoch [3500/5000], Loss: 1.5673, Accuracy: 0.5134\n",
      "Epoch [4000/5000], Loss: 1.5532, Accuracy: 0.5172\n",
      "Test Accuracy: 0.4892\n",
      "Epoch [4500/5000], Loss: 1.5419, Accuracy: 0.5209\n",
      "Epoch [5000/5000], Loss: 1.5324, Accuracy: 0.5229\n",
      "Test Accuracy: 0.4940\n",
      "Test Accuracy: 0.4940\n",
      "Layer dec.1x1_in1 - PCA time: 0.02s, PCA transform time: 0.11s, Training time: 32.66s\n"
     ]
    },
    {
     "data": {
      "image/png": "[encoded data removed]",
      "text/plain": [
       "<Figure size 432x288 with 1 Axes>"
      ]
     },
     "metadata": {
      "needs_background": "light"
     },
     "output_type": "display_data"
    },
    {
     "data": {
      "application/vnd.jupyter.widget-view+json": {
       "model_id": "241a4dc265aa4d148077250583e2852b",
       "version_major": 2,
       "version_minor": 0
      },
      "text/plain": [
       "  0%|          | 0/59 [00:00<?, ?it/s]"
      ]
     },
     "metadata": {},
     "output_type": "display_data"
    },
    {
     "name": "stdout",
     "output_type": "stream",
     "text": [
      "input torch.Size([120000, 3, 9, 9])\n",
      "enc.9x9_conv torch.Size([120000, 128, 9, 9])\n",
      "enc.3x3_down torch.Size([120000, 128, 3, 3])\n",
      "enc.1x1_down torch.Size([120000, 256, 1, 1])\n",
      "dec.1x1_in0 torch.Size([120000, 512, 1, 1])\n",
      "dec.1x1_in1 torch.Size([120000, 512, 1, 1])\n",
      "dec.3x3_up torch.Size([120000, 512, 1, 1])\n",
      "dec.9x9_up torch.Size([120000, 256, 7, 7])\n",
      "dec.9x9_aux_norm torch.Size([120000, 128, 9, 9])\n",
      "dec.9x9_aux_conv torch.Size([120000, 3, 9, 9])\n"
     ]
    },
    {
     "data": {
      "application/vnd.jupyter.widget-view+json": {
       "model_id": "7470c9830741443f9832bddfafe66919",
       "version_major": 2,
       "version_minor": 0
      },
      "text/plain": [
       "  0%|          | 0/20 [00:00<?, ?it/s]"
      ]
     },
     "metadata": {},
     "output_type": "display_data"
    },
    {
     "name": "stdout",
     "output_type": "stream",
     "text": [
      "input torch.Size([40000, 3, 9, 9])\n",
      "enc.9x9_conv torch.Size([40000, 128, 9, 9])\n",
      "enc.3x3_down torch.Size([40000, 128, 3, 3])\n",
      "enc.1x1_down torch.Size([40000, 256, 1, 1])\n",
      "dec.1x1_in0 torch.Size([40000, 512, 1, 1])\n",
      "dec.1x1_in1 torch.Size([40000, 512, 1, 1])\n",
      "dec.3x3_up torch.Size([40000, 512, 1, 1])\n",
      "dec.9x9_up torch.Size([40000, 256, 7, 7])\n",
      "dec.9x9_aux_norm torch.Size([40000, 128, 9, 9])\n",
      "dec.9x9_aux_conv torch.Size([40000, 3, 9, 9])\n",
      "Processing layer: enc.1x1_down\n",
      "Epoch [1/5000], Loss: 3.8359, Accuracy: 0.0220\n",
      "Epoch [500/5000], Loss: 1.5638, Accuracy: 0.5152\n",
      "Epoch [1000/5000], Loss: 1.4705, Accuracy: 0.5412\n",
      "Test Accuracy: 0.5252\n",
      "Epoch [1500/5000], Loss: 1.4275, Accuracy: 0.5524\n",
      "Epoch [2000/5000], Loss: 1.4011, Accuracy: 0.5600\n",
      "Test Accuracy: 0.5403\n",
      "Epoch [2500/5000], Loss: 1.3829, Accuracy: 0.5659\n",
      "Epoch [3000/5000], Loss: 1.3696, Accuracy: 0.5689\n",
      "Test Accuracy: 0.5477\n",
      "Epoch [3500/5000], Loss: 1.3596, Accuracy: 0.5719\n",
      "Epoch [4000/5000], Loss: 1.3521, Accuracy: 0.5736\n",
      "Test Accuracy: 0.5517\n",
      "Epoch [4500/5000], Loss: 1.3461, Accuracy: 0.5759\n",
      "Epoch [5000/5000], Loss: 1.3414, Accuracy: 0.5772\n",
      "Test Accuracy: 0.5546\n",
      "Test Accuracy: 0.5546\n",
      "Layer enc.1x1_down - PCA time: 0.01s, PCA transform time: 0.05s, Training time: 30.28s\n",
      "Processing layer: dec.1x1_in0\n",
      "Epoch [1/5000], Loss: 3.8973, Accuracy: 0.0198\n",
      "Epoch [500/5000], Loss: 1.5675, Accuracy: 0.5128\n",
      "Epoch [1000/5000], Loss: 1.4643, Accuracy: 0.5409\n",
      "Test Accuracy: 0.5155\n",
      "Epoch [1500/5000], Loss: 1.4136, Accuracy: 0.5557\n",
      "Epoch [2000/5000], Loss: 1.3824, Accuracy: 0.5650\n",
      "Test Accuracy: 0.5319\n",
      "Epoch [2500/5000], Loss: 1.3612, Accuracy: 0.5715\n",
      "Epoch [3000/5000], Loss: 1.3454, Accuracy: 0.5762\n",
      "Test Accuracy: 0.5391\n",
      "Epoch [3500/5000], Loss: 1.3336, Accuracy: 0.5798\n",
      "Epoch [4000/5000], Loss: 1.3242, Accuracy: 0.5826\n",
      "Test Accuracy: 0.5426\n",
      "Epoch [4500/5000], Loss: 1.3166, Accuracy: 0.5842\n",
      "Epoch [5000/5000], Loss: 1.3098, Accuracy: 0.5864\n",
      "Test Accuracy: 0.5450\n",
      "Test Accuracy: 0.5450\n",
      "Layer dec.1x1_in0 - PCA time: 0.02s, PCA transform time: 0.11s, Training time: 32.72s\n",
      "Processing layer: dec.1x1_in1\n",
      "Epoch [1/5000], Loss: 3.8376, Accuracy: 0.0319\n",
      "Epoch [500/5000], Loss: 1.5664, Accuracy: 0.5128\n",
      "Epoch [1000/5000], Loss: 1.4614, Accuracy: 0.5419\n",
      "Test Accuracy: 0.5157\n",
      "Epoch [1500/5000], Loss: 1.4099, Accuracy: 0.5560\n",
      "Epoch [2000/5000], Loss: 1.3784, Accuracy: 0.5652\n",
      "Test Accuracy: 0.5328\n",
      "Epoch [2500/5000], Loss: 1.3580, Accuracy: 0.5719\n",
      "Epoch [3000/5000], Loss: 1.3427, Accuracy: 0.5767\n",
      "Test Accuracy: 0.5389\n",
      "Epoch [3500/5000], Loss: 1.3310, Accuracy: 0.5796\n",
      "Epoch [4000/5000], Loss: 1.3226, Accuracy: 0.5816\n",
      "Test Accuracy: 0.5409\n",
      "Epoch [4500/5000], Loss: 1.3147, Accuracy: 0.5839\n",
      "Epoch [5000/5000], Loss: 1.3084, Accuracy: 0.5854\n",
      "Test Accuracy: 0.5445\n",
      "Test Accuracy: 0.5445\n",
      "Layer dec.1x1_in1 - PCA time: 0.02s, PCA transform time: 0.11s, Training time: 32.71s\n"
     ]
    },
    {
     "data": {
      "image/png": "[encoded data removed]",
      "text/plain": [
       "<Figure size 432x288 with 1 Axes>"
      ]
     },
     "metadata": {
      "needs_background": "light"
     },
     "output_type": "display_data"
    },
    {
     "data": {
      "application/vnd.jupyter.widget-view+json": {
       "model_id": "778df51143944e8885eb5c8a6a1baa0c",
       "version_major": 2,
       "version_minor": 0
      },
      "text/plain": [
       "  0%|          | 0/59 [00:00<?, ?it/s]"
      ]
     },
     "metadata": {},
     "output_type": "display_data"
    },
    {
     "name": "stdout",
     "output_type": "stream",
     "text": [
      "input torch.Size([120000, 3, 9, 9])\n",
      "enc.9x9_conv torch.Size([120000, 128, 9, 9])\n",
      "enc.3x3_down torch.Size([120000, 128, 3, 3])\n",
      "enc.1x1_down torch.Size([120000, 256, 1, 1])\n",
      "dec.1x1_in0 torch.Size([120000, 512, 1, 1])\n",
      "dec.1x1_in1 torch.Size([120000, 512, 1, 1])\n",
      "dec.3x3_up torch.Size([120000, 512, 1, 1])\n",
      "dec.9x9_up torch.Size([120000, 256, 7, 7])\n",
      "dec.9x9_aux_norm torch.Size([120000, 128, 9, 9])\n",
      "dec.9x9_aux_conv torch.Size([120000, 3, 9, 9])\n"
     ]
    },
    {
     "data": {
      "application/vnd.jupyter.widget-view+json": {
       "model_id": "658f5ac3b8684e76bff6e64e444c14a2",
       "version_major": 2,
       "version_minor": 0
      },
      "text/plain": [
       "  0%|          | 0/20 [00:00<?, ?it/s]"
      ]
     },
     "metadata": {},
     "output_type": "display_data"
    },
    {
     "name": "stdout",
     "output_type": "stream",
     "text": [
      "input torch.Size([40000, 3, 9, 9])\n",
      "enc.9x9_conv torch.Size([40000, 128, 9, 9])\n",
      "enc.3x3_down torch.Size([40000, 128, 3, 3])\n",
      "enc.1x1_down torch.Size([40000, 256, 1, 1])\n",
      "dec.1x1_in0 torch.Size([40000, 512, 1, 1])\n",
      "dec.1x1_in1 torch.Size([40000, 512, 1, 1])\n",
      "dec.3x3_up torch.Size([40000, 512, 1, 1])\n",
      "dec.9x9_up torch.Size([40000, 256, 7, 7])\n",
      "dec.9x9_aux_norm torch.Size([40000, 128, 9, 9])\n",
      "dec.9x9_aux_conv torch.Size([40000, 3, 9, 9])\n",
      "Processing layer: enc.1x1_down\n",
      "Epoch [1/5000], Loss: 3.8475, Accuracy: 0.0264\n",
      "Epoch [500/5000], Loss: 1.1180, Accuracy: 0.6432\n",
      "Epoch [1000/5000], Loss: 1.0491, Accuracy: 0.6626\n",
      "Test Accuracy: 0.6439\n",
      "Epoch [1500/5000], Loss: 1.0173, Accuracy: 0.6721\n",
      "Epoch [2000/5000], Loss: 0.9981, Accuracy: 0.6777\n",
      "Test Accuracy: 0.6573\n",
      "Epoch [2500/5000], Loss: 0.9852, Accuracy: 0.6817\n",
      "Epoch [3000/5000], Loss: 0.9759, Accuracy: 0.6840\n",
      "Test Accuracy: 0.6632\n",
      "Epoch [3500/5000], Loss: 0.9690, Accuracy: 0.6865\n",
      "Epoch [4000/5000], Loss: 0.9640, Accuracy: 0.6875\n",
      "Test Accuracy: 0.6644\n",
      "Epoch [4500/5000], Loss: 0.9602, Accuracy: 0.6888\n",
      "Epoch [5000/5000], Loss: 0.9573, Accuracy: 0.6897\n",
      "Test Accuracy: 0.6651\n",
      "Test Accuracy: 0.6651\n",
      "Layer enc.1x1_down - PCA time: 0.01s, PCA transform time: 0.05s, Training time: 30.27s\n",
      "Processing layer: dec.1x1_in0\n",
      "Epoch [1/5000], Loss: 3.8595, Accuracy: 0.0308\n",
      "Epoch [500/5000], Loss: 1.1366, Accuracy: 0.6383\n",
      "Epoch [1000/5000], Loss: 1.0587, Accuracy: 0.6596\n",
      "Test Accuracy: 0.6248\n",
      "Epoch [1500/5000], Loss: 1.0226, Accuracy: 0.6702\n",
      "Epoch [2000/5000], Loss: 1.0012, Accuracy: 0.6764\n",
      "Test Accuracy: 0.6348\n",
      "Epoch [2500/5000], Loss: 0.9872, Accuracy: 0.6803\n",
      "Epoch [3000/5000], Loss: 0.9776, Accuracy: 0.6831\n",
      "Test Accuracy: 0.6363\n",
      "Epoch [3500/5000], Loss: 0.9706, Accuracy: 0.6852\n",
      "Epoch [4000/5000], Loss: 0.9654, Accuracy: 0.6865\n",
      "Test Accuracy: 0.6372\n",
      "Epoch [4500/5000], Loss: 0.9615, Accuracy: 0.6874\n",
      "Epoch [5000/5000], Loss: 0.9585, Accuracy: 0.6882\n",
      "Test Accuracy: 0.6381\n",
      "Test Accuracy: 0.6381\n",
      "Layer dec.1x1_in0 - PCA time: 0.02s, PCA transform time: 0.10s, Training time: 32.70s\n",
      "Processing layer: dec.1x1_in1\n",
      "Epoch [1/5000], Loss: 3.8494, Accuracy: 0.0284\n",
      "Epoch [500/5000], Loss: 1.1363, Accuracy: 0.6383\n",
      "Epoch [1000/5000], Loss: 1.0610, Accuracy: 0.6591\n",
      "Test Accuracy: 0.6227\n",
      "Epoch [1500/5000], Loss: 1.0274, Accuracy: 0.6688\n",
      "Epoch [2000/5000], Loss: 1.0084, Accuracy: 0.6737\n",
      "Test Accuracy: 0.6295\n",
      "Epoch [2500/5000], Loss: 0.9965, Accuracy: 0.6766\n",
      "Epoch [3000/5000], Loss: 0.9886, Accuracy: 0.6786\n",
      "Test Accuracy: 0.6315\n",
      "Epoch [3500/5000], Loss: 0.9830, Accuracy: 0.6806\n",
      "Epoch [4000/5000], Loss: 0.9792, Accuracy: 0.6814\n",
      "Test Accuracy: 0.6312\n",
      "Epoch [4500/5000], Loss: 0.9763, Accuracy: 0.6822\n",
      "Epoch [5000/5000], Loss: 0.9743, Accuracy: 0.6831\n",
      "Test Accuracy: 0.6309\n",
      "Test Accuracy: 0.6309\n",
      "Layer dec.1x1_in1 - PCA time: 0.02s, PCA transform time: 0.11s, Training time: 32.66s\n"
     ]
    },
    {
     "data": {
      "image/png": "[encoded data removed]",
      "text/plain": [
       "<Figure size 432x288 with 1 Axes>"
      ]
     },
     "metadata": {
      "needs_background": "light"
     },
     "output_type": "display_data"
    },
    {
     "data": {
      "application/vnd.jupyter.widget-view+json": {
       "model_id": "6a2009cd10a4464c946299f0299f4a87",
       "version_major": 2,
       "version_minor": 0
      },
      "text/plain": [
       "  0%|          | 0/59 [00:00<?, ?it/s]"
      ]
     },
     "metadata": {},
     "output_type": "display_data"
    },
    {
     "name": "stdout",
     "output_type": "stream",
     "text": [
      "input torch.Size([120000, 3, 9, 9])\n",
      "enc.9x9_conv torch.Size([120000, 128, 9, 9])\n",
      "enc.3x3_down torch.Size([120000, 128, 3, 3])\n",
      "enc.1x1_down torch.Size([120000, 256, 1, 1])\n",
      "dec.1x1_in0 torch.Size([120000, 512, 1, 1])\n",
      "dec.1x1_in1 torch.Size([120000, 512, 1, 1])\n",
      "dec.3x3_up torch.Size([120000, 512, 1, 1])\n",
      "dec.9x9_up torch.Size([120000, 256, 7, 7])\n",
      "dec.9x9_aux_norm torch.Size([120000, 128, 9, 9])\n",
      "dec.9x9_aux_conv torch.Size([120000, 3, 9, 9])\n"
     ]
    },
    {
     "data": {
      "application/vnd.jupyter.widget-view+json": {
       "model_id": "d8dffd42aa4945c8bf47254bb74a6fa3",
       "version_major": 2,
       "version_minor": 0
      },
      "text/plain": [
       "  0%|          | 0/20 [00:00<?, ?it/s]"
      ]
     },
     "metadata": {},
     "output_type": "display_data"
    },
    {
     "name": "stdout",
     "output_type": "stream",
     "text": [
      "input torch.Size([40000, 3, 9, 9])\n",
      "enc.9x9_conv torch.Size([40000, 128, 9, 9])\n",
      "enc.3x3_down torch.Size([40000, 128, 3, 3])\n",
      "enc.1x1_down torch.Size([40000, 256, 1, 1])\n",
      "dec.1x1_in0 torch.Size([40000, 512, 1, 1])\n",
      "dec.1x1_in1 torch.Size([40000, 512, 1, 1])\n",
      "dec.3x3_up torch.Size([40000, 512, 1, 1])\n",
      "dec.9x9_up torch.Size([40000, 256, 7, 7])\n",
      "dec.9x9_aux_norm torch.Size([40000, 128, 9, 9])\n",
      "dec.9x9_aux_conv torch.Size([40000, 3, 9, 9])\n",
      "Processing layer: enc.1x1_down\n",
      "Epoch [1/5000], Loss: 3.7983, Accuracy: 0.0252\n",
      "Epoch [500/5000], Loss: 0.4563, Accuracy: 0.8459\n",
      "Epoch [1000/5000], Loss: 0.4164, Accuracy: 0.8565\n",
      "Test Accuracy: 0.8372\n",
      "Epoch [1500/5000], Loss: 0.3983, Accuracy: 0.8614\n",
      "Epoch [2000/5000], Loss: 0.3876, Accuracy: 0.8651\n",
      "Test Accuracy: 0.8425\n",
      "Epoch [2500/5000], Loss: 0.3803, Accuracy: 0.8671\n",
      "Epoch [3000/5000], Loss: 0.3751, Accuracy: 0.8685\n",
      "Test Accuracy: 0.8442\n",
      "Epoch [3500/5000], Loss: 0.3711, Accuracy: 0.8697\n",
      "Epoch [4000/5000], Loss: 0.3681, Accuracy: 0.8706\n",
      "Test Accuracy: 0.8452\n",
      "Epoch [4500/5000], Loss: 0.3657, Accuracy: 0.8711\n",
      "Epoch [5000/5000], Loss: 0.3639, Accuracy: 0.8720\n",
      "Test Accuracy: 0.8463\n",
      "Test Accuracy: 0.8463\n",
      "Layer enc.1x1_down - PCA time: 0.01s, PCA transform time: 0.06s, Training time: 30.25s\n",
      "Processing layer: dec.1x1_in0\n",
      "Epoch [1/5000], Loss: 3.8633, Accuracy: 0.0228\n",
      "Epoch [500/5000], Loss: 0.4841, Accuracy: 0.8387\n",
      "Epoch [1000/5000], Loss: 0.4383, Accuracy: 0.8511\n",
      "Test Accuracy: 0.8124\n",
      "Epoch [1500/5000], Loss: 0.4169, Accuracy: 0.8570\n",
      "Epoch [2000/5000], Loss: 0.4039, Accuracy: 0.8608\n",
      "Test Accuracy: 0.8153\n",
      "Epoch [2500/5000], Loss: 0.3950, Accuracy: 0.8633\n",
      "Epoch [3000/5000], Loss: 0.3885, Accuracy: 0.8656\n",
      "Test Accuracy: 0.8154\n",
      "Epoch [3500/5000], Loss: 0.3837, Accuracy: 0.8668\n",
      "Epoch [4000/5000], Loss: 0.3798, Accuracy: 0.8681\n",
      "Test Accuracy: 0.8154\n",
      "Epoch [4500/5000], Loss: 0.3768, Accuracy: 0.8689\n",
      "Epoch [5000/5000], Loss: 0.3744, Accuracy: 0.8697\n",
      "Test Accuracy: 0.8143\n",
      "Test Accuracy: 0.8143\n",
      "Layer dec.1x1_in0 - PCA time: 0.02s, PCA transform time: 0.11s, Training time: 32.66s\n",
      "Processing layer: dec.1x1_in1\n",
      "Epoch [1/5000], Loss: 3.8672, Accuracy: 0.0210\n",
      "Epoch [500/5000], Loss: 0.4879, Accuracy: 0.8366\n",
      "Epoch [1000/5000], Loss: 0.4442, Accuracy: 0.8487\n",
      "Test Accuracy: 0.8111\n",
      "Epoch [1500/5000], Loss: 0.4246, Accuracy: 0.8542\n",
      "Epoch [2000/5000], Loss: 0.4133, Accuracy: 0.8576\n",
      "Test Accuracy: 0.8118\n",
      "Epoch [2500/5000], Loss: 0.4060, Accuracy: 0.8600\n",
      "Epoch [3000/5000], Loss: 0.4009, Accuracy: 0.8617\n",
      "Test Accuracy: 0.8108\n",
      "Epoch [3500/5000], Loss: 0.3972, Accuracy: 0.8624\n",
      "Epoch [4000/5000], Loss: 0.3945, Accuracy: 0.8633\n",
      "Test Accuracy: 0.8100\n",
      "Epoch [4500/5000], Loss: 0.3926, Accuracy: 0.8637\n",
      "Epoch [5000/5000], Loss: 0.3910, Accuracy: 0.8641\n",
      "Test Accuracy: 0.8083\n",
      "Test Accuracy: 0.8083\n",
      "Layer dec.1x1_in1 - PCA time: 0.02s, PCA transform time: 0.11s, Training time: 32.70s\n"
     ]
    },
    {
     "data": {
      "image/png": "[encoded data removed]",
      "text/plain": [
       "<Figure size 432x288 with 1 Axes>"
      ]
     },
     "metadata": {
      "needs_background": "light"
     },
     "output_type": "display_data"
    },
    {
     "data": {
      "application/vnd.jupyter.widget-view+json": {
       "model_id": "b45aa69c6c104400881ca7a2bd1aa73f",
       "version_major": 2,
       "version_minor": 0
      },
      "text/plain": [
       "  0%|          | 0/59 [00:00<?, ?it/s]"
      ]
     },
     "metadata": {},
     "output_type": "display_data"
    },
    {
     "name": "stdout",
     "output_type": "stream",
     "text": [
      "input torch.Size([120000, 3, 9, 9])\n",
      "enc.9x9_conv torch.Size([120000, 128, 9, 9])\n",
      "enc.3x3_down torch.Size([120000, 128, 3, 3])\n",
      "enc.1x1_down torch.Size([120000, 256, 1, 1])\n",
      "dec.1x1_in0 torch.Size([120000, 512, 1, 1])\n",
      "dec.1x1_in1 torch.Size([120000, 512, 1, 1])\n",
      "dec.3x3_up torch.Size([120000, 512, 1, 1])\n",
      "dec.9x9_up torch.Size([120000, 256, 7, 7])\n",
      "dec.9x9_aux_norm torch.Size([120000, 128, 9, 9])\n",
      "dec.9x9_aux_conv torch.Size([120000, 3, 9, 9])\n"
     ]
    },
    {
     "data": {
      "application/vnd.jupyter.widget-view+json": {
       "model_id": "2d2ba4942bb94d62af372846d7a968c5",
       "version_major": 2,
       "version_minor": 0
      },
      "text/plain": [
       "  0%|          | 0/20 [00:00<?, ?it/s]"
      ]
     },
     "metadata": {},
     "output_type": "display_data"
    },
    {
     "name": "stdout",
     "output_type": "stream",
     "text": [
      "input torch.Size([40000, 3, 9, 9])\n",
      "enc.9x9_conv torch.Size([40000, 128, 9, 9])\n",
      "enc.3x3_down torch.Size([40000, 128, 3, 3])\n",
      "enc.1x1_down torch.Size([40000, 256, 1, 1])\n",
      "dec.1x1_in0 torch.Size([40000, 512, 1, 1])\n",
      "dec.1x1_in1 torch.Size([40000, 512, 1, 1])\n",
      "dec.3x3_up torch.Size([40000, 512, 1, 1])\n",
      "dec.9x9_up torch.Size([40000, 256, 7, 7])\n",
      "dec.9x9_aux_norm torch.Size([40000, 128, 9, 9])\n",
      "dec.9x9_aux_conv torch.Size([40000, 3, 9, 9])\n",
      "Processing layer: enc.1x1_down\n",
      "Epoch [1/5000], Loss: 3.8211, Accuracy: 0.0347\n",
      "Epoch [500/5000], Loss: 0.2175, Accuracy: 0.9223\n",
      "Epoch [1000/5000], Loss: 0.1967, Accuracy: 0.9281\n",
      "Test Accuracy: 0.9106\n",
      "Epoch [1500/5000], Loss: 0.1871, Accuracy: 0.9306\n",
      "Epoch [2000/5000], Loss: 0.1811, Accuracy: 0.9319\n",
      "Test Accuracy: 0.9123\n",
      "Epoch [2500/5000], Loss: 0.1769, Accuracy: 0.9333\n",
      "Epoch [3000/5000], Loss: 0.1736, Accuracy: 0.9344\n",
      "Test Accuracy: 0.9123\n",
      "Epoch [3500/5000], Loss: 0.1710, Accuracy: 0.9353\n",
      "Epoch [4000/5000], Loss: 0.1688, Accuracy: 0.9362\n",
      "Test Accuracy: 0.9120\n",
      "Epoch [4500/5000], Loss: 0.1670, Accuracy: 0.9365\n",
      "Epoch [5000/5000], Loss: 0.1654, Accuracy: 0.9368\n",
      "Test Accuracy: 0.9115\n",
      "Test Accuracy: 0.9115\n",
      "Layer enc.1x1_down - PCA time: 0.01s, PCA transform time: 0.05s, Training time: 30.28s\n",
      "Processing layer: dec.1x1_in0\n",
      "Epoch [1/5000], Loss: 3.8467, Accuracy: 0.0231\n",
      "Epoch [500/5000], Loss: 0.2283, Accuracy: 0.9203\n",
      "Epoch [1000/5000], Loss: 0.2012, Accuracy: 0.9274\n",
      "Test Accuracy: 0.8984\n",
      "Epoch [1500/5000], Loss: 0.1882, Accuracy: 0.9316\n",
      "Epoch [2000/5000], Loss: 0.1800, Accuracy: 0.9341\n",
      "Test Accuracy: 0.8969\n",
      "Epoch [2500/5000], Loss: 0.1742, Accuracy: 0.9356\n",
      "Epoch [3000/5000], Loss: 0.1697, Accuracy: 0.9374\n",
      "Test Accuracy: 0.8962\n",
      "Epoch [3500/5000], Loss: 0.1662, Accuracy: 0.9385\n",
      "Epoch [4000/5000], Loss: 0.1633, Accuracy: 0.9392\n",
      "Test Accuracy: 0.8945\n",
      "Epoch [4500/5000], Loss: 0.1609, Accuracy: 0.9401\n",
      "Epoch [5000/5000], Loss: 0.1588, Accuracy: 0.9407\n",
      "Test Accuracy: 0.8927\n",
      "Test Accuracy: 0.8927\n",
      "Layer dec.1x1_in0 - PCA time: 0.02s, PCA transform time: 0.11s, Training time: 32.66s\n",
      "Processing layer: dec.1x1_in1\n",
      "Epoch [1/5000], Loss: 3.8450, Accuracy: 0.0243\n",
      "Epoch [500/5000], Loss: 0.2302, Accuracy: 0.9192\n",
      "Epoch [1000/5000], Loss: 0.2040, Accuracy: 0.9267\n",
      "Test Accuracy: 0.8967\n",
      "Epoch [1500/5000], Loss: 0.1914, Accuracy: 0.9304\n",
      "Epoch [2000/5000], Loss: 0.1836, Accuracy: 0.9329\n",
      "Test Accuracy: 0.8940\n",
      "Epoch [2500/5000], Loss: 0.1780, Accuracy: 0.9345\n",
      "Epoch [3000/5000], Loss: 0.1737, Accuracy: 0.9357\n",
      "Test Accuracy: 0.8920\n",
      "Epoch [3500/5000], Loss: 0.1703, Accuracy: 0.9368\n",
      "Epoch [4000/5000], Loss: 0.1675, Accuracy: 0.9375\n",
      "Test Accuracy: 0.8905\n",
      "Epoch [4500/5000], Loss: 0.1652, Accuracy: 0.9383\n",
      "Epoch [5000/5000], Loss: 0.1632, Accuracy: 0.9388\n",
      "Test Accuracy: 0.8892\n",
      "Test Accuracy: 0.8892\n",
      "Layer dec.1x1_in1 - PCA time: 0.02s, PCA transform time: 0.11s, Training time: 32.66s\n"
     ]
    },
    {
     "data": {
      "image/png": "[encoded data removed]",
      "text/plain": [
       "<Figure size 432x288 with 1 Axes>"
      ]
     },
     "metadata": {
      "needs_background": "light"
     },
     "output_type": "display_data"
    },
    {
     "data": {
      "application/vnd.jupyter.widget-view+json": {
       "model_id": "52743f7d1fd24a738b0be4885e776caa",
       "version_major": 2,
       "version_minor": 0
      },
      "text/plain": [
       "  0%|          | 0/59 [00:00<?, ?it/s]"
      ]
     },
     "metadata": {},
     "output_type": "display_data"
    },
    {
     "name": "stdout",
     "output_type": "stream",
     "text": [
      "input torch.Size([120000, 3, 9, 9])\n",
      "enc.9x9_conv torch.Size([120000, 128, 9, 9])\n",
      "enc.3x3_down torch.Size([120000, 128, 3, 3])\n",
      "enc.1x1_down torch.Size([120000, 256, 1, 1])\n",
      "dec.1x1_in0 torch.Size([120000, 512, 1, 1])\n",
      "dec.1x1_in1 torch.Size([120000, 512, 1, 1])\n",
      "dec.3x3_up torch.Size([120000, 512, 1, 1])\n",
      "dec.9x9_up torch.Size([120000, 256, 7, 7])\n",
      "dec.9x9_aux_norm torch.Size([120000, 128, 9, 9])\n",
      "dec.9x9_aux_conv torch.Size([120000, 3, 9, 9])\n"
     ]
    },
    {
     "data": {
      "application/vnd.jupyter.widget-view+json": {
       "model_id": "27178be163804fb68ab81d0668e1715b",
       "version_major": 2,
       "version_minor": 0
      },
      "text/plain": [
       "  0%|          | 0/20 [00:00<?, ?it/s]"
      ]
     },
     "metadata": {},
     "output_type": "display_data"
    },
    {
     "name": "stdout",
     "output_type": "stream",
     "text": [
      "input torch.Size([40000, 3, 9, 9])\n",
      "enc.9x9_conv torch.Size([40000, 128, 9, 9])\n",
      "enc.3x3_down torch.Size([40000, 128, 3, 3])\n",
      "enc.1x1_down torch.Size([40000, 256, 1, 1])\n",
      "dec.1x1_in0 torch.Size([40000, 512, 1, 1])\n",
      "dec.1x1_in1 torch.Size([40000, 512, 1, 1])\n",
      "dec.3x3_up torch.Size([40000, 512, 1, 1])\n",
      "dec.9x9_up torch.Size([40000, 256, 7, 7])\n",
      "dec.9x9_aux_norm torch.Size([40000, 128, 9, 9])\n",
      "dec.9x9_aux_conv torch.Size([40000, 3, 9, 9])\n",
      "Processing layer: enc.1x1_down\n",
      "Epoch [1/5000], Loss: 3.9734, Accuracy: 0.0109\n",
      "Epoch [500/5000], Loss: 0.1542, Accuracy: 0.9433\n",
      "Epoch [1000/5000], Loss: 0.1385, Accuracy: 0.9477\n",
      "Test Accuracy: 0.9347\n",
      "Epoch [1500/5000], Loss: 0.1314, Accuracy: 0.9496\n",
      "Epoch [2000/5000], Loss: 0.1270, Accuracy: 0.9512\n",
      "Test Accuracy: 0.9359\n",
      "Epoch [2500/5000], Loss: 0.1240, Accuracy: 0.9521\n",
      "Epoch [3000/5000], Loss: 0.1217, Accuracy: 0.9525\n",
      "Test Accuracy: 0.9357\n",
      "Epoch [3500/5000], Loss: 0.1199, Accuracy: 0.9527\n",
      "Epoch [4000/5000], Loss: 0.1185, Accuracy: 0.9530\n",
      "Test Accuracy: 0.9354\n",
      "Epoch [4500/5000], Loss: 0.1173, Accuracy: 0.9533\n",
      "Epoch [5000/5000], Loss: 0.1163, Accuracy: 0.9536\n",
      "Test Accuracy: 0.9350\n",
      "Test Accuracy: 0.9350\n",
      "Layer enc.1x1_down - PCA time: 0.01s, PCA transform time: 0.06s, Training time: 30.27s\n",
      "Processing layer: dec.1x1_in0\n",
      "Epoch [1/5000], Loss: 3.7763, Accuracy: 0.0298\n",
      "Epoch [500/5000], Loss: 0.1589, Accuracy: 0.9427\n",
      "Epoch [1000/5000], Loss: 0.1388, Accuracy: 0.9486\n",
      "Test Accuracy: 0.9252\n",
      "Epoch [1500/5000], Loss: 0.1292, Accuracy: 0.9515\n",
      "Epoch [2000/5000], Loss: 0.1234, Accuracy: 0.9528\n",
      "Test Accuracy: 0.9237\n",
      "Epoch [2500/5000], Loss: 0.1194, Accuracy: 0.9539\n",
      "Epoch [3000/5000], Loss: 0.1164, Accuracy: 0.9547\n",
      "Test Accuracy: 0.9230\n",
      "Epoch [3500/5000], Loss: 0.1142, Accuracy: 0.9552\n",
      "Epoch [4000/5000], Loss: 0.1125, Accuracy: 0.9556\n",
      "Test Accuracy: 0.9214\n",
      "Epoch [4500/5000], Loss: 0.1111, Accuracy: 0.9559\n",
      "Epoch [5000/5000], Loss: 0.1099, Accuracy: 0.9561\n",
      "Test Accuracy: 0.9207\n",
      "Test Accuracy: 0.9207\n",
      "Layer dec.1x1_in0 - PCA time: 0.02s, PCA transform time: 0.11s, Training time: 32.71s\n",
      "Processing layer: dec.1x1_in1\n",
      "Epoch [1/5000], Loss: 3.8462, Accuracy: 0.0257\n",
      "Epoch [500/5000], Loss: 0.1609, Accuracy: 0.9422\n",
      "Epoch [1000/5000], Loss: 0.1407, Accuracy: 0.9481\n",
      "Test Accuracy: 0.9233\n",
      "Epoch [1500/5000], Loss: 0.1313, Accuracy: 0.9509\n",
      "Epoch [2000/5000], Loss: 0.1256, Accuracy: 0.9527\n",
      "Test Accuracy: 0.9227\n",
      "Epoch [2500/5000], Loss: 0.1216, Accuracy: 0.9536\n",
      "Epoch [3000/5000], Loss: 0.1187, Accuracy: 0.9544\n",
      "Test Accuracy: 0.9215\n",
      "Epoch [3500/5000], Loss: 0.1165, Accuracy: 0.9550\n",
      "Epoch [4000/5000], Loss: 0.1148, Accuracy: 0.9554\n",
      "Test Accuracy: 0.9205\n",
      "Epoch [4500/5000], Loss: 0.1134, Accuracy: 0.9556\n",
      "Epoch [5000/5000], Loss: 0.1122, Accuracy: 0.9558\n",
      "Test Accuracy: 0.9193\n",
      "Test Accuracy: 0.9193\n",
      "Layer dec.1x1_in1 - PCA time: 0.02s, PCA transform time: 0.11s, Training time: 32.70s\n"
     ]
    },
    {
     "data": {
      "image/png": "[encoded data removed]",
      "text/plain": [
       "<Figure size 432x288 with 1 Axes>"
      ]
     },
     "metadata": {
      "needs_background": "light"
     },
     "output_type": "display_data"
    },
    {
     "data": {
      "application/vnd.jupyter.widget-view+json": {
       "model_id": "547786980f3544e9a0a8d5161e14aa88",
       "version_major": 2,
       "version_minor": 0
      },
      "text/plain": [
       "  0%|          | 0/59 [00:00<?, ?it/s]"
      ]
     },
     "metadata": {},
     "output_type": "display_data"
    },
    {
     "name": "stdout",
     "output_type": "stream",
     "text": [
      "input torch.Size([120000, 3, 9, 9])\n",
      "enc.9x9_conv torch.Size([120000, 128, 9, 9])\n",
      "enc.3x3_down torch.Size([120000, 128, 3, 3])\n",
      "enc.1x1_down torch.Size([120000, 256, 1, 1])\n",
      "dec.1x1_in0 torch.Size([120000, 512, 1, 1])\n",
      "dec.1x1_in1 torch.Size([120000, 512, 1, 1])\n",
      "dec.3x3_up torch.Size([120000, 512, 1, 1])\n",
      "dec.9x9_up torch.Size([120000, 256, 7, 7])\n",
      "dec.9x9_aux_norm torch.Size([120000, 128, 9, 9])\n",
      "dec.9x9_aux_conv torch.Size([120000, 3, 9, 9])\n"
     ]
    },
    {
     "data": {
      "application/vnd.jupyter.widget-view+json": {
       "model_id": "d4f85223685442c5a282824a611456ed",
       "version_major": 2,
       "version_minor": 0
      },
      "text/plain": [
       "  0%|          | 0/20 [00:00<?, ?it/s]"
      ]
     },
     "metadata": {},
     "output_type": "display_data"
    },
    {
     "name": "stdout",
     "output_type": "stream",
     "text": [
      "input torch.Size([40000, 3, 9, 9])\n",
      "enc.9x9_conv torch.Size([40000, 128, 9, 9])\n",
      "enc.3x3_down torch.Size([40000, 128, 3, 3])\n",
      "enc.1x1_down torch.Size([40000, 256, 1, 1])\n",
      "dec.1x1_in0 torch.Size([40000, 512, 1, 1])\n",
      "dec.1x1_in1 torch.Size([40000, 512, 1, 1])\n",
      "dec.3x3_up torch.Size([40000, 512, 1, 1])\n",
      "dec.9x9_up torch.Size([40000, 256, 7, 7])\n",
      "dec.9x9_aux_norm torch.Size([40000, 128, 9, 9])\n",
      "dec.9x9_aux_conv torch.Size([40000, 3, 9, 9])\n",
      "Processing layer: enc.1x1_down\n",
      "Epoch [1/5000], Loss: 3.7529, Accuracy: 0.0331\n",
      "Epoch [500/5000], Loss: 0.1700, Accuracy: 0.9380\n",
      "Epoch [1000/5000], Loss: 0.1506, Accuracy: 0.9436\n",
      "Test Accuracy: 0.9301\n",
      "Epoch [1500/5000], Loss: 0.1415, Accuracy: 0.9462\n",
      "Epoch [2000/5000], Loss: 0.1358, Accuracy: 0.9478\n",
      "Test Accuracy: 0.9310\n",
      "Epoch [2500/5000], Loss: 0.1317, Accuracy: 0.9491\n",
      "Epoch [3000/5000], Loss: 0.1286, Accuracy: 0.9501\n",
      "Test Accuracy: 0.9318\n",
      "Epoch [3500/5000], Loss: 0.1260, Accuracy: 0.9509\n",
      "Epoch [4000/5000], Loss: 0.1239, Accuracy: 0.9516\n",
      "Test Accuracy: 0.9321\n",
      "Epoch [4500/5000], Loss: 0.1221, Accuracy: 0.9522\n",
      "Epoch [5000/5000], Loss: 0.1206, Accuracy: 0.9526\n",
      "Test Accuracy: 0.9316\n",
      "Test Accuracy: 0.9316\n",
      "Layer enc.1x1_down - PCA time: 0.01s, PCA transform time: 0.05s, Training time: 30.25s\n",
      "Processing layer: dec.1x1_in0\n",
      "Epoch [1/5000], Loss: 3.8621, Accuracy: 0.0210\n",
      "Epoch [500/5000], Loss: 0.1836, Accuracy: 0.9330\n",
      "Epoch [1000/5000], Loss: 0.1587, Accuracy: 0.9408\n",
      "Test Accuracy: 0.9152\n",
      "Epoch [1500/5000], Loss: 0.1467, Accuracy: 0.9450\n",
      "Epoch [2000/5000], Loss: 0.1391, Accuracy: 0.9476\n",
      "Test Accuracy: 0.9152\n",
      "Epoch [2500/5000], Loss: 0.1336, Accuracy: 0.9492\n",
      "Epoch [3000/5000], Loss: 0.1295, Accuracy: 0.9504\n",
      "Test Accuracy: 0.9140\n",
      "Epoch [3500/5000], Loss: 0.1261, Accuracy: 0.9513\n",
      "Epoch [4000/5000], Loss: 0.1233, Accuracy: 0.9521\n",
      "Test Accuracy: 0.9134\n",
      "Epoch [4500/5000], Loss: 0.1210, Accuracy: 0.9528\n",
      "Epoch [5000/5000], Loss: 0.1190, Accuracy: 0.9536\n",
      "Test Accuracy: 0.9124\n",
      "Test Accuracy: 0.9124\n",
      "Layer dec.1x1_in0 - PCA time: 0.02s, PCA transform time: 0.11s, Training time: 32.70s\n",
      "Processing layer: dec.1x1_in1\n",
      "Epoch [1/5000], Loss: 3.9010, Accuracy: 0.0166\n",
      "Epoch [500/5000], Loss: 0.1850, Accuracy: 0.9326\n",
      "Epoch [1000/5000], Loss: 0.1607, Accuracy: 0.9399\n",
      "Test Accuracy: 0.9129\n",
      "Epoch [1500/5000], Loss: 0.1491, Accuracy: 0.9437\n",
      "Epoch [2000/5000], Loss: 0.1417, Accuracy: 0.9461\n",
      "Test Accuracy: 0.9131\n",
      "Epoch [2500/5000], Loss: 0.1364, Accuracy: 0.9476\n",
      "Epoch [3000/5000], Loss: 0.1324, Accuracy: 0.9490\n",
      "Test Accuracy: 0.9115\n",
      "Epoch [3500/5000], Loss: 0.1292, Accuracy: 0.9500\n",
      "Epoch [4000/5000], Loss: 0.1265, Accuracy: 0.9507\n",
      "Test Accuracy: 0.9098\n",
      "Epoch [4500/5000], Loss: 0.1243, Accuracy: 0.9513\n",
      "Epoch [5000/5000], Loss: 0.1223, Accuracy: 0.9519\n",
      "Test Accuracy: 0.9088\n",
      "Test Accuracy: 0.9088\n",
      "Layer dec.1x1_in1 - PCA time: 0.02s, PCA transform time: 0.11s, Training time: 32.67s\n"
     ]
    },
    {
     "data": {
      "image/png": "[encoded data removed]",
      "text/plain": [
       "<Figure size 432x288 with 1 Axes>"
      ]
     },
     "metadata": {
      "needs_background": "light"
     },
     "output_type": "display_data"
    },
    {
     "data": {
      "application/vnd.jupyter.widget-view+json": {
       "model_id": "51873bc5ceb440608b29deadb9138759",
       "version_major": 2,
       "version_minor": 0
      },
      "text/plain": [
       "  0%|          | 0/59 [00:00<?, ?it/s]"
      ]
     },
     "metadata": {},
     "output_type": "display_data"
    },
    {
     "name": "stdout",
     "output_type": "stream",
     "text": [
      "input torch.Size([120000, 3, 9, 9])\n",
      "enc.9x9_conv torch.Size([120000, 128, 9, 9])\n",
      "enc.3x3_down torch.Size([120000, 128, 3, 3])\n",
      "enc.1x1_down torch.Size([120000, 256, 1, 1])\n",
      "dec.1x1_in0 torch.Size([120000, 512, 1, 1])\n",
      "dec.1x1_in1 torch.Size([120000, 512, 1, 1])\n",
      "dec.3x3_up torch.Size([120000, 512, 1, 1])\n",
      "dec.9x9_up torch.Size([120000, 256, 7, 7])\n",
      "dec.9x9_aux_norm torch.Size([120000, 128, 9, 9])\n",
      "dec.9x9_aux_conv torch.Size([120000, 3, 9, 9])\n"
     ]
    },
    {
     "data": {
      "application/vnd.jupyter.widget-view+json": {
       "model_id": "edbb4f6f527a420cba07dce819f425b3",
       "version_major": 2,
       "version_minor": 0
      },
      "text/plain": [
       "  0%|          | 0/20 [00:00<?, ?it/s]"
      ]
     },
     "metadata": {},
     "output_type": "display_data"
    },
    {
     "name": "stdout",
     "output_type": "stream",
     "text": [
      "input torch.Size([40000, 3, 9, 9])\n",
      "enc.9x9_conv torch.Size([40000, 128, 9, 9])\n",
      "enc.3x3_down torch.Size([40000, 128, 3, 3])\n",
      "enc.1x1_down torch.Size([40000, 256, 1, 1])\n",
      "dec.1x1_in0 torch.Size([40000, 512, 1, 1])\n",
      "dec.1x1_in1 torch.Size([40000, 512, 1, 1])\n",
      "dec.3x3_up torch.Size([40000, 512, 1, 1])\n",
      "dec.9x9_up torch.Size([40000, 256, 7, 7])\n",
      "dec.9x9_aux_norm torch.Size([40000, 128, 9, 9])\n",
      "dec.9x9_aux_conv torch.Size([40000, 3, 9, 9])\n",
      "Processing layer: enc.1x1_down\n",
      "Epoch [1/5000], Loss: 3.8019, Accuracy: 0.0303\n",
      "Epoch [500/5000], Loss: 0.2271, Accuracy: 0.9182\n",
      "Epoch [1000/5000], Loss: 0.2004, Accuracy: 0.9261\n",
      "Test Accuracy: 0.9103\n",
      "Epoch [1500/5000], Loss: 0.1877, Accuracy: 0.9298\n",
      "Epoch [2000/5000], Loss: 0.1796, Accuracy: 0.9326\n",
      "Test Accuracy: 0.9147\n",
      "Epoch [2500/5000], Loss: 0.1738, Accuracy: 0.9347\n",
      "Epoch [3000/5000], Loss: 0.1694, Accuracy: 0.9363\n",
      "Test Accuracy: 0.9151\n",
      "Epoch [3500/5000], Loss: 0.1658, Accuracy: 0.9373\n",
      "Epoch [4000/5000], Loss: 0.1629, Accuracy: 0.9382\n",
      "Test Accuracy: 0.9147\n",
      "Epoch [4500/5000], Loss: 0.1605, Accuracy: 0.9387\n",
      "Epoch [5000/5000], Loss: 0.1584, Accuracy: 0.9392\n",
      "Test Accuracy: 0.9137\n",
      "Test Accuracy: 0.9137\n",
      "Layer enc.1x1_down - PCA time: 0.01s, PCA transform time: 0.06s, Training time: 30.28s\n",
      "Processing layer: dec.1x1_in0\n",
      "Epoch [1/5000], Loss: 3.8886, Accuracy: 0.0245\n",
      "Epoch [500/5000], Loss: 0.2435, Accuracy: 0.9121\n",
      "Epoch [1000/5000], Loss: 0.2117, Accuracy: 0.9215\n",
      "Test Accuracy: 0.8918\n",
      "Epoch [1500/5000], Loss: 0.1961, Accuracy: 0.9269\n",
      "Epoch [2000/5000], Loss: 0.1861, Accuracy: 0.9303\n",
      "Test Accuracy: 0.8943\n",
      "Epoch [2500/5000], Loss: 0.1792, Accuracy: 0.9325\n",
      "Epoch [3000/5000], Loss: 0.1735, Accuracy: 0.9345\n",
      "Test Accuracy: 0.8946\n",
      "Epoch [3500/5000], Loss: 0.1693, Accuracy: 0.9358\n",
      "Epoch [4000/5000], Loss: 0.1658, Accuracy: 0.9372\n",
      "Test Accuracy: 0.8933\n",
      "Epoch [4500/5000], Loss: 0.1628, Accuracy: 0.9378\n",
      "Epoch [5000/5000], Loss: 0.1603, Accuracy: 0.9388\n",
      "Test Accuracy: 0.8926\n",
      "Test Accuracy: 0.8926\n",
      "Layer dec.1x1_in0 - PCA time: 0.02s, PCA transform time: 0.11s, Training time: 32.67s\n",
      "Processing layer: dec.1x1_in1\n",
      "Epoch [1/5000], Loss: 3.7961, Accuracy: 0.0257\n",
      "Epoch [500/5000], Loss: 0.2446, Accuracy: 0.9120\n",
      "Epoch [1000/5000], Loss: 0.2140, Accuracy: 0.9210\n",
      "Test Accuracy: 0.8911\n",
      "Epoch [1500/5000], Loss: 0.1992, Accuracy: 0.9256\n",
      "Epoch [2000/5000], Loss: 0.1898, Accuracy: 0.9287\n",
      "Test Accuracy: 0.8919\n",
      "Epoch [2500/5000], Loss: 0.1832, Accuracy: 0.9309\n",
      "Epoch [3000/5000], Loss: 0.1783, Accuracy: 0.9323\n",
      "Test Accuracy: 0.8905\n",
      "Epoch [3500/5000], Loss: 0.1744, Accuracy: 0.9336\n",
      "Epoch [4000/5000], Loss: 0.1714, Accuracy: 0.9346\n",
      "Test Accuracy: 0.8895\n",
      "Epoch [4500/5000], Loss: 0.1689, Accuracy: 0.9351\n",
      "Epoch [5000/5000], Loss: 0.1668, Accuracy: 0.9357\n",
      "Test Accuracy: 0.8886\n",
      "Test Accuracy: 0.8886\n",
      "Layer dec.1x1_in1 - PCA time: 0.02s, PCA transform time: 0.11s, Training time: 32.67s\n"
     ]
    },
    {
     "data": {
      "image/png": "[encoded data removed]",
      "text/plain": [
       "<Figure size 432x288 with 1 Axes>"
      ]
     },
     "metadata": {
      "needs_background": "light"
     },
     "output_type": "display_data"
    },
    {
     "data": {
      "application/vnd.jupyter.widget-view+json": {
       "model_id": "1addfcbc32034831b97423b20fa8b994",
       "version_major": 2,
       "version_minor": 0
      },
      "text/plain": [
       "  0%|          | 0/59 [00:00<?, ?it/s]"
      ]
     },
     "metadata": {},
     "output_type": "display_data"
    },
    {
     "name": "stdout",
     "output_type": "stream",
     "text": [
      "input torch.Size([120000, 3, 9, 9])\n",
      "enc.9x9_conv torch.Size([120000, 128, 9, 9])\n",
      "enc.3x3_down torch.Size([120000, 128, 3, 3])\n",
      "enc.1x1_down torch.Size([120000, 256, 1, 1])\n",
      "dec.1x1_in0 torch.Size([120000, 512, 1, 1])\n",
      "dec.1x1_in1 torch.Size([120000, 512, 1, 1])\n",
      "dec.3x3_up torch.Size([120000, 512, 1, 1])\n",
      "dec.9x9_up torch.Size([120000, 256, 7, 7])\n",
      "dec.9x9_aux_norm torch.Size([120000, 128, 9, 9])\n",
      "dec.9x9_aux_conv torch.Size([120000, 3, 9, 9])\n"
     ]
    },
    {
     "data": {
      "application/vnd.jupyter.widget-view+json": {
       "model_id": "ad520ffde6eb4e0db1e233a09f075e02",
       "version_major": 2,
       "version_minor": 0
      },
      "text/plain": [
       "  0%|          | 0/20 [00:00<?, ?it/s]"
      ]
     },
     "metadata": {},
     "output_type": "display_data"
    },
    {
     "name": "stdout",
     "output_type": "stream",
     "text": [
      "input torch.Size([40000, 3, 9, 9])\n",
      "enc.9x9_conv torch.Size([40000, 128, 9, 9])\n",
      "enc.3x3_down torch.Size([40000, 128, 3, 3])\n",
      "enc.1x1_down torch.Size([40000, 256, 1, 1])\n",
      "dec.1x1_in0 torch.Size([40000, 512, 1, 1])\n",
      "dec.1x1_in1 torch.Size([40000, 512, 1, 1])\n",
      "dec.3x3_up torch.Size([40000, 512, 1, 1])\n",
      "dec.9x9_up torch.Size([40000, 256, 7, 7])\n",
      "dec.9x9_aux_norm torch.Size([40000, 128, 9, 9])\n",
      "dec.9x9_aux_conv torch.Size([40000, 3, 9, 9])\n",
      "Processing layer: enc.1x1_down\n",
      "Epoch [1/5000], Loss: 3.8753, Accuracy: 0.0207\n",
      "Epoch [500/5000], Loss: 0.2573, Accuracy: 0.9082\n",
      "Epoch [1000/5000], Loss: 0.2263, Accuracy: 0.9176\n",
      "Test Accuracy: 0.9002\n",
      "Epoch [1500/5000], Loss: 0.2116, Accuracy: 0.9221\n",
      "Epoch [2000/5000], Loss: 0.2022, Accuracy: 0.9251\n",
      "Test Accuracy: 0.9042\n",
      "Epoch [2500/5000], Loss: 0.1955, Accuracy: 0.9273\n",
      "Epoch [3000/5000], Loss: 0.1903, Accuracy: 0.9289\n",
      "Test Accuracy: 0.9052\n",
      "Epoch [3500/5000], Loss: 0.1862, Accuracy: 0.9301\n",
      "Epoch [4000/5000], Loss: 0.1828, Accuracy: 0.9311\n",
      "Test Accuracy: 0.9055\n",
      "Epoch [4500/5000], Loss: 0.1800, Accuracy: 0.9320\n",
      "Epoch [5000/5000], Loss: 0.1776, Accuracy: 0.9326\n",
      "Test Accuracy: 0.9056\n",
      "Test Accuracy: 0.9056\n",
      "Layer enc.1x1_down - PCA time: 0.01s, PCA transform time: 0.05s, Training time: 30.28s\n",
      "Processing layer: dec.1x1_in0\n",
      "Epoch [1/5000], Loss: 3.8171, Accuracy: 0.0279\n",
      "Epoch [500/5000], Loss: 0.2672, Accuracy: 0.9048\n",
      "Epoch [1000/5000], Loss: 0.2317, Accuracy: 0.9157\n",
      "Test Accuracy: 0.8871\n",
      "Epoch [1500/5000], Loss: 0.2140, Accuracy: 0.9218\n",
      "Epoch [2000/5000], Loss: 0.2026, Accuracy: 0.9257\n",
      "Test Accuracy: 0.8880\n",
      "Epoch [2500/5000], Loss: 0.1944, Accuracy: 0.9285\n",
      "Epoch [3000/5000], Loss: 0.1880, Accuracy: 0.9305\n",
      "Test Accuracy: 0.8887\n",
      "Epoch [3500/5000], Loss: 0.1831, Accuracy: 0.9321\n",
      "Epoch [4000/5000], Loss: 0.1788, Accuracy: 0.9333\n",
      "Test Accuracy: 0.8885\n",
      "Epoch [4500/5000], Loss: 0.1753, Accuracy: 0.9345\n",
      "Epoch [5000/5000], Loss: 0.1724, Accuracy: 0.9354\n",
      "Test Accuracy: 0.8878\n",
      "Test Accuracy: 0.8878\n",
      "Layer dec.1x1_in0 - PCA time: 0.02s, PCA transform time: 0.11s, Training time: 32.71s\n",
      "Processing layer: dec.1x1_in1\n",
      "Epoch [1/5000], Loss: 3.8849, Accuracy: 0.0215\n",
      "Epoch [500/5000], Loss: 0.2685, Accuracy: 0.9035\n",
      "Epoch [1000/5000], Loss: 0.2335, Accuracy: 0.9146\n",
      "Test Accuracy: 0.8859\n",
      "Epoch [1500/5000], Loss: 0.2161, Accuracy: 0.9204\n",
      "Epoch [2000/5000], Loss: 0.2049, Accuracy: 0.9240\n",
      "Test Accuracy: 0.8869\n",
      "Epoch [2500/5000], Loss: 0.1970, Accuracy: 0.9268\n",
      "Epoch [3000/5000], Loss: 0.1909, Accuracy: 0.9291\n",
      "Test Accuracy: 0.8872\n",
      "Epoch [3500/5000], Loss: 0.1860, Accuracy: 0.9306\n",
      "Epoch [4000/5000], Loss: 0.1822, Accuracy: 0.9317\n",
      "Test Accuracy: 0.8863\n",
      "Epoch [4500/5000], Loss: 0.1790, Accuracy: 0.9328\n",
      "Epoch [5000/5000], Loss: 0.1764, Accuracy: 0.9334\n",
      "Test Accuracy: 0.8852\n",
      "Test Accuracy: 0.8852\n",
      "Layer dec.1x1_in1 - PCA time: 0.02s, PCA transform time: 0.11s, Training time: 32.68s\n"
     ]
    },
    {
     "data": {
      "image/png": "[encoded data removed]",
      "text/plain": [
       "<Figure size 432x288 with 1 Axes>"
      ]
     },
     "metadata": {
      "needs_background": "light"
     },
     "output_type": "display_data"
    },
    {
     "data": {
      "application/vnd.jupyter.widget-view+json": {
       "model_id": "10d87e331582416da145bdae9f074abf",
       "version_major": 2,
       "version_minor": 0
      },
      "text/plain": [
       "  0%|          | 0/59 [00:00<?, ?it/s]"
      ]
     },
     "metadata": {},
     "output_type": "display_data"
    },
    {
     "name": "stdout",
     "output_type": "stream",
     "text": [
      "input torch.Size([120000, 3, 9, 9])\n",
      "enc.9x9_conv torch.Size([120000, 128, 9, 9])\n",
      "enc.3x3_down torch.Size([120000, 128, 3, 3])\n",
      "enc.1x1_down torch.Size([120000, 256, 1, 1])\n",
      "dec.1x1_in0 torch.Size([120000, 512, 1, 1])\n",
      "dec.1x1_in1 torch.Size([120000, 512, 1, 1])\n",
      "dec.3x3_up torch.Size([120000, 512, 1, 1])\n",
      "dec.9x9_up torch.Size([120000, 256, 7, 7])\n",
      "dec.9x9_aux_norm torch.Size([120000, 128, 9, 9])\n",
      "dec.9x9_aux_conv torch.Size([120000, 3, 9, 9])\n"
     ]
    },
    {
     "data": {
      "application/vnd.jupyter.widget-view+json": {
       "model_id": "ed5d767ac2554fbbadbe93aad863c503",
       "version_major": 2,
       "version_minor": 0
      },
      "text/plain": [
       "  0%|          | 0/20 [00:00<?, ?it/s]"
      ]
     },
     "metadata": {},
     "output_type": "display_data"
    },
    {
     "name": "stdout",
     "output_type": "stream",
     "text": [
      "input torch.Size([40000, 3, 9, 9])\n",
      "enc.9x9_conv torch.Size([40000, 128, 9, 9])\n",
      "enc.3x3_down torch.Size([40000, 128, 3, 3])\n",
      "enc.1x1_down torch.Size([40000, 256, 1, 1])\n",
      "dec.1x1_in0 torch.Size([40000, 512, 1, 1])\n",
      "dec.1x1_in1 torch.Size([40000, 512, 1, 1])\n",
      "dec.3x3_up torch.Size([40000, 512, 1, 1])\n",
      "dec.9x9_up torch.Size([40000, 256, 7, 7])\n",
      "dec.9x9_aux_norm torch.Size([40000, 128, 9, 9])\n",
      "dec.9x9_aux_conv torch.Size([40000, 3, 9, 9])\n",
      "Processing layer: enc.1x1_down\n",
      "Epoch [1/5000], Loss: 3.8590, Accuracy: 0.0273\n",
      "Epoch [500/5000], Loss: 0.2774, Accuracy: 0.9019\n",
      "Epoch [1000/5000], Loss: 0.2421, Accuracy: 0.9128\n",
      "Test Accuracy: 0.8963\n",
      "Epoch [1500/5000], Loss: 0.2255, Accuracy: 0.9181\n",
      "Epoch [2000/5000], Loss: 0.2151, Accuracy: 0.9212\n",
      "Test Accuracy: 0.9001\n",
      "Epoch [2500/5000], Loss: 0.2076, Accuracy: 0.9230\n",
      "Epoch [3000/5000], Loss: 0.2019, Accuracy: 0.9248\n",
      "Test Accuracy: 0.9008\n",
      "Epoch [3500/5000], Loss: 0.1972, Accuracy: 0.9263\n",
      "Epoch [4000/5000], Loss: 0.1934, Accuracy: 0.9274\n",
      "Test Accuracy: 0.9013\n",
      "Epoch [4500/5000], Loss: 0.1902, Accuracy: 0.9284\n",
      "Epoch [5000/5000], Loss: 0.1875, Accuracy: 0.9291\n",
      "Test Accuracy: 0.9021\n",
      "Test Accuracy: 0.9021\n",
      "Layer enc.1x1_down - PCA time: 0.01s, PCA transform time: 0.05s, Training time: 30.27s\n",
      "Processing layer: dec.1x1_in0\n",
      "Epoch [1/5000], Loss: 3.8487, Accuracy: 0.0218\n",
      "Epoch [500/5000], Loss: 0.2866, Accuracy: 0.8997\n",
      "Epoch [1000/5000], Loss: 0.2484, Accuracy: 0.9110\n",
      "Test Accuracy: 0.8888\n",
      "Epoch [1500/5000], Loss: 0.2291, Accuracy: 0.9168\n",
      "Epoch [2000/5000], Loss: 0.2165, Accuracy: 0.9207\n",
      "Test Accuracy: 0.8931\n",
      "Epoch [2500/5000], Loss: 0.2074, Accuracy: 0.9242\n",
      "Epoch [3000/5000], Loss: 0.2003, Accuracy: 0.9261\n",
      "Test Accuracy: 0.8941\n",
      "Epoch [3500/5000], Loss: 0.1948, Accuracy: 0.9277\n",
      "Epoch [4000/5000], Loss: 0.1898, Accuracy: 0.9295\n",
      "Test Accuracy: 0.8942\n",
      "Epoch [4500/5000], Loss: 0.1856, Accuracy: 0.9308\n",
      "Epoch [5000/5000], Loss: 0.1823, Accuracy: 0.9313\n",
      "Test Accuracy: 0.8937\n",
      "Test Accuracy: 0.8937\n",
      "Layer dec.1x1_in0 - PCA time: 0.02s, PCA transform time: 0.11s, Training time: 32.66s\n",
      "Processing layer: dec.1x1_in1\n",
      "Epoch [1/5000], Loss: 3.8817, Accuracy: 0.0210\n",
      "Epoch [500/5000], Loss: 0.2857, Accuracy: 0.8993\n",
      "Epoch [1000/5000], Loss: 0.2477, Accuracy: 0.9109\n",
      "Test Accuracy: 0.8891\n",
      "Epoch [1500/5000], Loss: 0.2285, Accuracy: 0.9169\n",
      "Epoch [2000/5000], Loss: 0.2161, Accuracy: 0.9212\n",
      "Test Accuracy: 0.8928\n",
      "Epoch [2500/5000], Loss: 0.2070, Accuracy: 0.9238\n",
      "Epoch [3000/5000], Loss: 0.1999, Accuracy: 0.9260\n",
      "Test Accuracy: 0.8932\n",
      "Epoch [3500/5000], Loss: 0.1942, Accuracy: 0.9276\n",
      "Epoch [4000/5000], Loss: 0.1894, Accuracy: 0.9293\n",
      "Test Accuracy: 0.8921\n",
      "Epoch [4500/5000], Loss: 0.1853, Accuracy: 0.9309\n",
      "Epoch [5000/5000], Loss: 0.1818, Accuracy: 0.9318\n",
      "Test Accuracy: 0.8907\n",
      "Test Accuracy: 0.8907\n",
      "Layer dec.1x1_in1 - PCA time: 0.02s, PCA transform time: 0.11s, Training time: 32.71s\n"
     ]
    },
    {
     "data": {
      "image/png": "[encoded data removed]",
      "text/plain": [
       "<Figure size 432x288 with 1 Axes>"
      ]
     },
     "metadata": {
      "needs_background": "light"
     },
     "output_type": "display_data"
    }
   ],
   "source": [
    "fetcher = featureFetcher_module()\n",
    "record_module_list = [\"input\",\n",
    "               'enc.9x9_conv',\n",
    "                'enc.3x3_down',\n",
    "                'enc.1x1_down',\n",
    "                'dec.1x1_in0',\n",
    "                'dec.1x1_in1',\n",
    "                'dec.3x3_up',\n",
    "                'dec.9x9_up',\n",
    "                # 'dec.9x9_block2',\n",
    "                \"dec.9x9_aux_norm\",\n",
    "                \"dec.9x9_aux_conv\", ]\n",
    "for blockname in list(edm.ema.enc):\n",
    "    if f\"enc.{blockname}\" in record_module_list:\n",
    "        fetcher.record_module(edm.ema.enc[blockname], target_name=f\"enc.{blockname}\")\n",
    "for blockname in list(edm.ema.dec):\n",
    "    if f\"dec.{blockname}\" in record_module_list:\n",
    "        fetcher.record_module(edm.ema.dec[blockname], target_name=f\"dec.{blockname}\")\n",
    "# Now use the function for both training and testing data\n",
    "train_loader = DataLoader(train_dataset, batch_size=2048, shuffle=False, drop_last=False)\n",
    "test_loader = DataLoader(test_dataset, batch_size=2048, shuffle=False, drop_last=False)\n",
    "\n",
    "dimred_str = \"none\"\n",
    "ckpt_str = \"ckpt999999EMA\"\n",
    "sigma_list = [80.000, 53.559, 34.992, 22.240, 13.699, 8.139, 4.637, 2.515, 1.287, 0.613, 0.267, 0.104, 0.035, 0.010, 0.002]\n",
    "for t_scalar in sigma_list:\n",
    "    t_str = str(t_scalar).replace('.', '_')\n",
    "    feature_col = extract_features_EDM(edm, fetcher, train_loader, dataset_Xmean, dataset_Xstd, t_scalar)\n",
    "    feature_col_test = extract_features_EDM(edm, fetcher, test_loader, dataset_Xmean, dataset_Xstd, t_scalar)\n",
    "    feature_avg_col = {k: v.mean(dim=(2,3)) for k, v in feature_col.items()}\n",
    "    feature_avg_col_test = {k: v.mean(dim=(2,3)) for k, v in feature_col_test.items()}\n",
    "    feature_sel_col = {k: v for k, v in feature_col.items() if \"1x1\" in k}\n",
    "    feature_sel_col_test = {k: v for k, v in feature_col_test.items() if \"1x1\" in k}\n",
    "    model_PCA_col, PC_proj_col, results_col = train_pca_sgd_classifiers(\n",
    "        feature_sel_col, feature_sel_col_test, y_train, y_test,\n",
    "        PC_dim=1024, noPCA=True, num_classes=40, batch_size=None,\n",
    "        num_epochs=5000, print_every=500, eval_every=1000, learning_rate=0.005,\n",
    "        device='cuda'\n",
    "    )\n",
    "    pkl.dump(results_col, open(join(repr_expdir,f\"results_col_t{t_str}_{dimred_str}_{ckpt_str}.pkl\"), \"wb\"))\n",
    "    pkl.dump(PC_proj_col, open(join(repr_expdir,f\"PC_proj_col_t{t_str}_{dimred_str}_{ckpt_str}.pkl\"), \"wb\"))\n",
    "    pkl.dump(model_PCA_col, open(join(repr_expdir,f\"model_PCA_col_t{t_str}_{dimred_str}_{ckpt_str}.pkl\"), \"wb\"))\n",
    "\n",
    "    test_acc_synopsis = {key: results_col[key].test_record.accuracy.max() for key in results_col.keys()}\n",
    "    train_acc_synopsis = {key: results_col[key].train_record.accuracy.max() for key in results_col.keys()}\n",
    "    syn_df = pd.DataFrame([test_acc_synopsis, train_acc_synopsis]).T\n",
    "    syn_df.columns = [\"Test Accuracy\", \"Train Accuracy\"]\n",
    "    plt.figure(figsize=(6, 4))\n",
    "    sns.lineplot(data=syn_df, markers=True)\n",
    "    plt.title(f\"t_scalar: {t_scalar} Accuracy\\n{expname}\\n{ckpt_str} {dimred_str}\")\n",
    "    saveallforms([repr_expdir,],f\"t{t_str}_{dimred_str}_{ckpt_str}_accuracy.png\")\n",
    "    plt.show()"
   ]
  },
  {
   "cell_type": "code",
   "execution_count": 107,
   "metadata": {},
   "outputs": [
    {
     "name": "stdout",
     "output_type": "stream",
     "text": [
      "model_PCA_col_t0_002_none_ckpt999999EMA.pkl\n",
      "model_PCA_col_t0_01_none_ckpt999999EMA.pkl\n",
      "model_PCA_col_t0_035_none_ckpt999999EMA.pkl\n",
      "model_PCA_col_t0_104_none_ckpt999999EMA.pkl\n",
      "model_PCA_col_t0_267_none_ckpt999999EMA.pkl\n",
      "model_PCA_col_t0_35_none_ckpt999999EMA.pkl\n",
      "model_PCA_col_t0_613_none_ckpt999999EMA.pkl\n",
      "model_PCA_col_t1_287_none_ckpt999999EMA.pkl\n",
      "model_PCA_col_t13_699_none_ckpt999999EMA.pkl\n",
      "model_PCA_col_t22_24_none_ckpt999999EMA.pkl\n",
      "model_PCA_col_t2_515_none_ckpt999999EMA.pkl\n",
      "model_PCA_col_t34_992_none_ckpt999999EMA.pkl\n",
      "model_PCA_col_t4_637_none_ckpt999999EMA.pkl\n",
      "model_PCA_col_t53_559_none_ckpt999999EMA.pkl\n",
      "model_PCA_col_t80_0_none_ckpt999999EMA.pkl\n",
      "model_PCA_col_t8_139_none_ckpt999999EMA.pkl\n",
      "PC_proj_col_t0_002_none_ckpt999999EMA.pkl\n",
      "PC_proj_col_t0_01_none_ckpt999999EMA.pkl\n",
      "PC_proj_col_t0_035_none_ckpt999999EMA.pkl\n",
      "PC_proj_col_t0_104_none_ckpt999999EMA.pkl\n",
      "PC_proj_col_t0_267_none_ckpt999999EMA.pkl\n",
      "PC_proj_col_t0_35_none_ckpt999999EMA.pkl\n",
      "PC_proj_col_t0_613_none_ckpt999999EMA.pkl\n",
      "PC_proj_col_t1_287_none_ckpt999999EMA.pkl\n",
      "PC_proj_col_t13_699_none_ckpt999999EMA.pkl\n",
      "PC_proj_col_t22_24_none_ckpt999999EMA.pkl\n",
      "PC_proj_col_t2_515_none_ckpt999999EMA.pkl\n",
      "PC_proj_col_t34_992_none_ckpt999999EMA.pkl\n",
      "PC_proj_col_t4_637_none_ckpt999999EMA.pkl\n",
      "PC_proj_col_t53_559_none_ckpt999999EMA.pkl\n",
      "PC_proj_col_t80_0_none_ckpt999999EMA.pkl\n",
      "PC_proj_col_t8_139_none_ckpt999999EMA.pkl\n",
      "results_col_t0_002_none_ckpt999999EMA.pkl\n",
      "results_col_t0_01_none_ckpt999999EMA.pkl\n",
      "results_col_t0_035_none_ckpt999999EMA.pkl\n",
      "results_col_t0_104_none_ckpt999999EMA.pkl\n",
      "results_col_t0_267_none_ckpt999999EMA.pkl\n",
      "results_col_t0_35_none_ckpt999999EMA.pkl\n",
      "results_col_t0_613_none_ckpt999999EMA.pkl\n",
      "results_col_t1_287_none_ckpt999999EMA.pkl\n",
      "results_col_t13_699_none_ckpt999999EMA.pkl\n",
      "results_col_t22_24_none_ckpt999999EMA.pkl\n",
      "results_col_t2_515_none_ckpt999999EMA.pkl\n",
      "results_col_t34_992_none_ckpt999999EMA.pkl\n",
      "results_col_t4_637_none_ckpt999999EMA.pkl\n",
      "results_col_t53_559_none_ckpt999999EMA.pkl\n",
      "results_col_t80_0_none_ckpt999999EMA.pkl\n",
      "results_col_t8_139_none_ckpt999999EMA.pkl\n",
      "t0_002_none_ckpt999999EMA_accuracy.png.pdf\n",
      "t0_002_none_ckpt999999EMA_accuracy.png.png\n",
      "t0_01_none_ckpt999999EMA_accuracy.png.pdf\n",
      "t0_01_none_ckpt999999EMA_accuracy.png.png\n",
      "t0_035_none_ckpt999999EMA_accuracy.png.pdf\n",
      "t0_035_none_ckpt999999EMA_accuracy.png.png\n",
      "t0_104_none_ckpt999999EMA_accuracy.png.pdf\n",
      "t0_104_none_ckpt999999EMA_accuracy.png.png\n",
      "t0_267_none_ckpt999999EMA_accuracy.png.pdf\n",
      "t0_267_none_ckpt999999EMA_accuracy.png.png\n",
      "t0_35_none_ckpt999999EMA_accuracy.png.pdf\n",
      "t0_35_none_ckpt999999EMA_accuracy.png.png\n",
      "t0_613_none_ckpt999999EMA_accuracy.png.pdf\n",
      "t0_613_none_ckpt999999EMA_accuracy.png.png\n",
      "t1_287_none_ckpt999999EMA_accuracy.png.pdf\n",
      "t1_287_none_ckpt999999EMA_accuracy.png.png\n",
      "t13_699_none_ckpt999999EMA_accuracy.png.pdf\n",
      "t13_699_none_ckpt999999EMA_accuracy.png.png\n",
      "t22_24_none_ckpt999999EMA_accuracy.png.pdf\n",
      "t22_24_none_ckpt999999EMA_accuracy.png.png\n",
      "t2_515_none_ckpt999999EMA_accuracy.png.pdf\n",
      "t2_515_none_ckpt999999EMA_accuracy.png.png\n",
      "t34_992_none_ckpt999999EMA_accuracy.png.pdf\n",
      "t34_992_none_ckpt999999EMA_accuracy.png.png\n",
      "t4_637_none_ckpt999999EMA_accuracy.png.pdf\n",
      "t4_637_none_ckpt999999EMA_accuracy.png.png\n",
      "t53_559_none_ckpt999999EMA_accuracy.png.pdf\n",
      "t53_559_none_ckpt999999EMA_accuracy.png.png\n",
      "t80_0_none_ckpt999999EMA_accuracy.png.pdf\n",
      "t80_0_none_ckpt999999EMA_accuracy.png.png\n",
      "t8_139_none_ckpt999999EMA_accuracy.png.pdf\n",
      "t8_139_none_ckpt999999EMA_accuracy.png.png\n"
     ]
    }
   ],
   "source": [
    "!ls {repr_expdir}"
   ]
  },
  {
   "cell_type": "code",
   "execution_count": 112,
   "metadata": {},
   "outputs": [],
   "source": [
    "def sweep_classifier_result(repr_dir, t_list=[0, 1, 10, 25, 50, 100, 250, 500, 1000], \n",
    "                            epoch_list=[-1, 20000, 100000, 200000, 500000, 700000, 1000000 ],\n",
    "                            dimred_strs=[\"pca384\", \"avgtoken\"], use_ema=False):\n",
    "    syn_df_all = []\n",
    "    # t_scalar = 0.1\n",
    "    for t_scalar in t_list:\n",
    "        for epoch in epoch_list:\n",
    "            t_str = str(t_scalar).replace(\".\", \"_\")\n",
    "            for dimred_str in dimred_strs:\n",
    "                ckpt_str = \"RNDINIT\" if epoch == -1 else \\\n",
    "                           f\"{epoch}{'EMA' if use_ema else ''}\"\n",
    "                try:\n",
    "                    results_col = pkl.load(open(join(repr_dir, f\"results_col_t{t_str}_{dimred_str}_ckpt{ckpt_str}.pkl\"), \"rb\"))\n",
    "                except FileNotFoundError:\n",
    "                    print(f\"File not found: {repr_dir}/results_col_t{t_str}_{dimred_str}_ckpt{ckpt_str}.pkl\")\n",
    "                    continue\n",
    "                test_acc_synopsis = {key: results_col[key].test_acc for key in results_col.keys()}\n",
    "                train_acc_synopsis = {key: results_col[key].train_record.accuracy.max() for key in results_col.keys()}\n",
    "                syn_df = pd.DataFrame([test_acc_synopsis, train_acc_synopsis]).T\n",
    "                syn_df.columns = [\"Test Accuracy\", \"Train Accuracy\"]\n",
    "                syn_df[\"t\"] = t_scalar\n",
    "                syn_df[\"epoch\"] = epoch\n",
    "                syn_df[\"dimred\"] = dimred_str\n",
    "                # drop index as layer name\n",
    "                syn_df = syn_df.reset_index()\n",
    "                syn_df = syn_df.rename(columns={\"index\": \"Layer\"})\n",
    "                syn_df_all.append(syn_df)\n",
    "        \n",
    "    syn_df_all = pd.concat(syn_df_all, axis=0)\n",
    "    syn_df_all = syn_df_all.reset_index(drop=True)\n",
    "    return syn_df_all"
   ]
  },
  {
   "cell_type": "code",
   "execution_count": 128,
   "metadata": {},
   "outputs": [],
   "source": [
    "synroot = r\"/n/holylfs06/LABS/kempner_fellow_binxuwang/Users/binxuwang/Figures/DiffusionReasoning/Figure_repr_linear_probe\"\n",
    "figexpdir = join(synroot,expname)\n",
    "os.makedirs(figexpdir)"
   ]
  },
  {
   "cell_type": "code",
   "execution_count": 113,
   "metadata": {},
   "outputs": [],
   "source": [
    "syn_df_all = sweep_classifier_result(repr_expdir, t_list=[80.000, 53.559, 34.992, 22.240, 13.699, 8.139, 4.637, 2.515, 1.287, 0.613, 0.267, 0.104, 0.035, 0.010, 0.002], epoch_list=[999999], dimred_strs=[\"none\"],use_ema=True)\n",
    "syn_df_all.to_csv(join(repr_expdir, \"pilot_classifier_acc_time_scaling_999999EMA.csv\"))"
   ]
  },
  {
   "cell_type": "code",
   "execution_count": 129,
   "metadata": {},
   "outputs": [
    {
     "data": {
      "image/png": "[encoded data removed]",
      "text/plain": [
       "<Figure size 360x360 with 1 Axes>"
      ]
     },
     "metadata": {
      "needs_background": "light"
     },
     "output_type": "display_data"
    }
   ],
   "source": [
    "plt.figure(figsize=(5, 5))\n",
    "sns.lineplot(syn_df_all, x=\"t\", y=\"Test Accuracy\", hue=\"Layer\", marker=\"o\")\n",
    "plt.xscale(\"log\")\n",
    "plt.xlabel(\"sigma\")\n",
    "plt.title(f\"Test Accuracy vs. sigma\\n{expname}\\n{ckpt_str} {dimred_str}\")\n",
    "saveallforms([figexpdir,],f\"acc_difftime_curve_{dimred_str}_{ckpt_str}_accuracy\")\n",
    "plt.show()"
   ]
  },
  {
   "cell_type": "code",
   "execution_count": 123,
   "metadata": {},
   "outputs": [
    {
     "data": {
      "text/plain": [
       "[0.002,\n",
       " 0.01,\n",
       " 0.035,\n",
       " 0.1,\n",
       " 0.2,\n",
       " 0.3,\n",
       " 0.6,\n",
       " 0.8,\n",
       " 1.0,\n",
       " 1.3,\n",
       " 2.5,\n",
       " 4.6,\n",
       " 13.7,\n",
       " 40.0,\n",
       " 80.0]"
      ]
     },
     "execution_count": 123,
     "metadata": {},
     "output_type": "execute_result"
    }
   ],
   "source": [
    "[*reversed([80.0, 40.0, 13.7, 4.6, 2.5, 1.3, 1.0, 0.8, 0.6, 0.3, 0.2, 0.10, 0.035, 0.010, 0.002])]"
   ]
  },
  {
   "cell_type": "code",
   "execution_count": null,
   "metadata": {},
   "outputs": [],
   "source": [
    "[0.002, 0.01, 0.035, 0.1, 0.2, 0.3, 0.6, 0.8, 1.0, 1.3, 2.5, 4.6, 13.7, 40.0, 80.0]"
   ]
  },
  {
   "cell_type": "markdown",
   "metadata": {},
   "source": []
  },
  {
   "cell_type": "markdown",
   "metadata": {},
   "source": [
    "### Dense sampling of layers at single time point"
   ]
  },
  {
   "cell_type": "code",
   "execution_count": 104,
   "metadata": {},
   "outputs": [
    {
     "data": {
      "application/vnd.jupyter.widget-view+json": {
       "model_id": "450fc696905b4ba3bfc0b8d145590183",
       "version_major": 2,
       "version_minor": 0
      },
      "text/plain": [
       "  0%|          | 0/59 [00:00<?, ?it/s]"
      ]
     },
     "metadata": {},
     "output_type": "display_data"
    },
    {
     "name": "stdout",
     "output_type": "stream",
     "text": [
      "input torch.Size([120000, 3, 9, 9])\n",
      "enc.9x9_conv torch.Size([120000, 128, 9, 9])\n",
      "enc.9x9_block0 torch.Size([120000, 128, 9, 9])\n",
      "enc.9x9_block1 torch.Size([120000, 128, 9, 9])\n",
      "enc.3x3_down torch.Size([120000, 128, 3, 3])\n",
      "enc.3x3_block0 torch.Size([120000, 256, 3, 3])\n",
      "enc.3x3_block1 torch.Size([120000, 256, 3, 3])\n",
      "enc.1x1_down torch.Size([120000, 256, 1, 1])\n",
      "enc.1x1_block0 torch.Size([120000, 512, 1, 1])\n",
      "enc.1x1_block1 torch.Size([120000, 512, 1, 1])\n",
      "dec.1x1_in0 torch.Size([120000, 512, 1, 1])\n",
      "dec.1x1_in1 torch.Size([120000, 512, 1, 1])\n",
      "dec.1x1_block0 torch.Size([120000, 512, 1, 1])\n",
      "dec.1x1_block1 torch.Size([120000, 512, 1, 1])\n",
      "dec.1x1_block2 torch.Size([120000, 512, 1, 1])\n",
      "dec.3x3_up torch.Size([120000, 512, 1, 1])\n",
      "dec.3x3_block0 torch.Size([120000, 256, 3, 3])\n",
      "dec.3x3_block1 torch.Size([120000, 256, 3, 3])\n",
      "dec.3x3_block2 torch.Size([120000, 256, 3, 3])\n",
      "dec.9x9_up torch.Size([120000, 256, 7, 7])\n",
      "dec.9x9_block0 torch.Size([120000, 128, 9, 9])\n",
      "dec.9x9_block1 torch.Size([120000, 128, 9, 9])\n",
      "dec.9x9_block2 torch.Size([120000, 128, 9, 9])\n",
      "dec.9x9_aux_norm torch.Size([120000, 128, 9, 9])\n",
      "dec.9x9_aux_conv torch.Size([120000, 3, 9, 9])\n"
     ]
    },
    {
     "data": {
      "application/vnd.jupyter.widget-view+json": {
       "model_id": "a0573d4759d74535b59cc672aa75ecec",
       "version_major": 2,
       "version_minor": 0
      },
      "text/plain": [
       "  0%|          | 0/20 [00:00<?, ?it/s]"
      ]
     },
     "metadata": {},
     "output_type": "display_data"
    },
    {
     "name": "stdout",
     "output_type": "stream",
     "text": [
      "input torch.Size([40000, 3, 9, 9])\n",
      "enc.9x9_conv torch.Size([40000, 128, 9, 9])\n",
      "enc.9x9_block0 torch.Size([40000, 128, 9, 9])\n",
      "enc.9x9_block1 torch.Size([40000, 128, 9, 9])\n",
      "enc.3x3_down torch.Size([40000, 128, 3, 3])\n",
      "enc.3x3_block0 torch.Size([40000, 256, 3, 3])\n",
      "enc.3x3_block1 torch.Size([40000, 256, 3, 3])\n",
      "enc.1x1_down torch.Size([40000, 256, 1, 1])\n",
      "enc.1x1_block0 torch.Size([40000, 512, 1, 1])\n",
      "enc.1x1_block1 torch.Size([40000, 512, 1, 1])\n",
      "dec.1x1_in0 torch.Size([40000, 512, 1, 1])\n",
      "dec.1x1_in1 torch.Size([40000, 512, 1, 1])\n",
      "dec.1x1_block0 torch.Size([40000, 512, 1, 1])\n",
      "dec.1x1_block1 torch.Size([40000, 512, 1, 1])\n",
      "dec.1x1_block2 torch.Size([40000, 512, 1, 1])\n",
      "dec.3x3_up torch.Size([40000, 512, 1, 1])\n",
      "dec.3x3_block0 torch.Size([40000, 256, 3, 3])\n",
      "dec.3x3_block1 torch.Size([40000, 256, 3, 3])\n",
      "dec.3x3_block2 torch.Size([40000, 256, 3, 3])\n",
      "dec.9x9_up torch.Size([40000, 256, 7, 7])\n",
      "dec.9x9_block0 torch.Size([40000, 128, 9, 9])\n",
      "dec.9x9_block1 torch.Size([40000, 128, 9, 9])\n",
      "dec.9x9_block2 torch.Size([40000, 128, 9, 9])\n",
      "dec.9x9_aux_norm torch.Size([40000, 128, 9, 9])\n",
      "dec.9x9_aux_conv torch.Size([40000, 3, 9, 9])\n",
      "Processing layer: input\n",
      "Epoch [1/5000], Loss: 3.9527, Accuracy: 0.0136\n",
      "Epoch [500/5000], Loss: 3.4694, Accuracy: 0.0764\n",
      "Epoch [1000/5000], Loss: 3.4686, Accuracy: 0.0767\n",
      "Test Accuracy: 0.0750\n",
      "Epoch [1500/5000], Loss: 3.4685, Accuracy: 0.0768\n",
      "Epoch [2000/5000], Loss: 3.4685, Accuracy: 0.0768\n",
      "Test Accuracy: 0.0754\n",
      "Epoch [2500/5000], Loss: 3.4685, Accuracy: 0.0768\n",
      "Epoch [3000/5000], Loss: 3.4685, Accuracy: 0.0768\n",
      "Test Accuracy: 0.0754\n",
      "Epoch [3500/5000], Loss: 3.4685, Accuracy: 0.0768\n",
      "Epoch [4000/5000], Loss: 3.4685, Accuracy: 0.0768\n",
      "Test Accuracy: 0.0754\n",
      "Epoch [4500/5000], Loss: 3.4685, Accuracy: 0.0768\n",
      "Epoch [5000/5000], Loss: 3.4685, Accuracy: 0.0768\n",
      "Test Accuracy: 0.0754\n",
      "Test Accuracy: 0.0754\n",
      "Layer input - PCA time: 0.00s, PCA transform time: 0.00s, Training time: 28.77s\n",
      "Processing layer: enc.9x9_conv\n",
      "Epoch [1/5000], Loss: 3.8706, Accuracy: 0.0197\n",
      "Epoch [500/5000], Loss: 2.9162, Accuracy: 0.1747\n",
      "Epoch [1000/5000], Loss: 2.8753, Accuracy: 0.1817\n",
      "Test Accuracy: 0.1796\n",
      "Epoch [1500/5000], Loss: 2.8651, Accuracy: 0.1836\n",
      "Epoch [2000/5000], Loss: 2.8611, Accuracy: 0.1846\n",
      "Test Accuracy: 0.1827\n",
      "Epoch [2500/5000], Loss: 2.8590, Accuracy: 0.1852\n",
      "Epoch [3000/5000], Loss: 2.8579, Accuracy: 0.1852\n",
      "Test Accuracy: 0.1834\n",
      "Epoch [3500/5000], Loss: 2.8571, Accuracy: 0.1851\n",
      "Epoch [4000/5000], Loss: 2.8565, Accuracy: 0.1854\n",
      "Test Accuracy: 0.1831\n",
      "Epoch [4500/5000], Loss: 2.8560, Accuracy: 0.1855\n",
      "Epoch [5000/5000], Loss: 2.8556, Accuracy: 0.1856\n",
      "Test Accuracy: 0.1836\n",
      "Test Accuracy: 0.1836\n",
      "Layer enc.9x9_conv - PCA time: 0.01s, PCA transform time: 0.02s, Training time: 29.69s\n",
      "Processing layer: enc.9x9_block0\n",
      "Epoch [1/5000], Loss: 3.8195, Accuracy: 0.0259\n",
      "Epoch [500/5000], Loss: 1.9284, Accuracy: 0.4109\n",
      "Epoch [1000/5000], Loss: 1.7500, Accuracy: 0.4522\n",
      "Test Accuracy: 0.4446\n",
      "Epoch [1500/5000], Loss: 1.6652, Accuracy: 0.4736\n",
      "Epoch [2000/5000], Loss: 1.6123, Accuracy: 0.4880\n",
      "Test Accuracy: 0.4790\n",
      "Epoch [2500/5000], Loss: 1.5750, Accuracy: 0.4974\n",
      "Epoch [3000/5000], Loss: 1.5469, Accuracy: 0.5055\n",
      "Test Accuracy: 0.4952\n",
      "Epoch [3500/5000], Loss: 1.5252, Accuracy: 0.5111\n",
      "Epoch [4000/5000], Loss: 1.5082, Accuracy: 0.5159\n",
      "Test Accuracy: 0.5043\n",
      "Epoch [4500/5000], Loss: 1.4948, Accuracy: 0.5198\n",
      "Epoch [5000/5000], Loss: 1.4841, Accuracy: 0.5223\n",
      "Test Accuracy: 0.5103\n",
      "Test Accuracy: 0.5103\n",
      "Layer enc.9x9_block0 - PCA time: 0.01s, PCA transform time: 0.02s, Training time: 29.70s\n",
      "Processing layer: enc.9x9_block1\n",
      "Epoch [1/5000], Loss: 3.8929, Accuracy: 0.0206\n",
      "Epoch [500/5000], Loss: 1.5899, Accuracy: 0.5025\n",
      "Epoch [1000/5000], Loss: 1.4623, Accuracy: 0.5332\n",
      "Test Accuracy: 0.5243\n",
      "Epoch [1500/5000], Loss: 1.4052, Accuracy: 0.5483\n",
      "Epoch [2000/5000], Loss: 1.3710, Accuracy: 0.5584\n",
      "Test Accuracy: 0.5461\n",
      "Epoch [2500/5000], Loss: 1.3479, Accuracy: 0.5643\n",
      "Epoch [3000/5000], Loss: 1.3315, Accuracy: 0.5692\n",
      "Test Accuracy: 0.5539\n",
      "Epoch [3500/5000], Loss: 1.3195, Accuracy: 0.5723\n",
      "Epoch [4000/5000], Loss: 1.3104, Accuracy: 0.5747\n",
      "Test Accuracy: 0.5596\n",
      "Epoch [4500/5000], Loss: 1.3035, Accuracy: 0.5766\n",
      "Epoch [5000/5000], Loss: 1.2983, Accuracy: 0.5782\n",
      "Test Accuracy: 0.5628\n",
      "Test Accuracy: 0.5628\n",
      "Layer enc.9x9_block1 - PCA time: 0.01s, PCA transform time: 0.02s, Training time: 29.70s\n",
      "Processing layer: enc.3x3_down\n",
      "Epoch [1/5000], Loss: 3.8148, Accuracy: 0.0282\n",
      "Epoch [500/5000], Loss: 1.1590, Accuracy: 0.6292\n",
      "Epoch [1000/5000], Loss: 1.0185, Accuracy: 0.6676\n",
      "Test Accuracy: 0.6585\n",
      "Epoch [1500/5000], Loss: 0.9538, Accuracy: 0.6857\n",
      "Epoch [2000/5000], Loss: 0.9144, Accuracy: 0.6973\n",
      "Test Accuracy: 0.6900\n",
      "Epoch [2500/5000], Loss: 0.8872, Accuracy: 0.7058\n",
      "Epoch [3000/5000], Loss: 0.8672, Accuracy: 0.7118\n",
      "Test Accuracy: 0.7036\n",
      "Epoch [3500/5000], Loss: 0.8520, Accuracy: 0.7164\n",
      "Epoch [4000/5000], Loss: 0.8403, Accuracy: 0.7202\n",
      "Test Accuracy: 0.7124\n",
      "Epoch [4500/5000], Loss: 0.8313, Accuracy: 0.7230\n",
      "Epoch [5000/5000], Loss: 0.8245, Accuracy: 0.7252\n",
      "Test Accuracy: 0.7179\n",
      "Test Accuracy: 0.7179\n",
      "Layer enc.3x3_down - PCA time: 0.01s, PCA transform time: 0.02s, Training time: 29.71s\n",
      "Processing layer: enc.3x3_block0\n",
      "Epoch [1/5000], Loss: 3.8283, Accuracy: 0.0239\n",
      "Epoch [500/5000], Loss: 0.2607, Accuracy: 0.9112\n",
      "Epoch [1000/5000], Loss: 0.2190, Accuracy: 0.9215\n",
      "Test Accuracy: 0.9079\n",
      "Epoch [1500/5000], Loss: 0.2002, Accuracy: 0.9270\n",
      "Epoch [2000/5000], Loss: 0.1887, Accuracy: 0.9303\n",
      "Test Accuracy: 0.9130\n",
      "Epoch [2500/5000], Loss: 0.1807, Accuracy: 0.9324\n",
      "Epoch [3000/5000], Loss: 0.1747, Accuracy: 0.9340\n",
      "Test Accuracy: 0.9135\n",
      "Epoch [3500/5000], Loss: 0.1700, Accuracy: 0.9356\n",
      "Epoch [4000/5000], Loss: 0.1663, Accuracy: 0.9366\n",
      "Test Accuracy: 0.9142\n",
      "Epoch [4500/5000], Loss: 0.1632, Accuracy: 0.9377\n",
      "Epoch [5000/5000], Loss: 0.1607, Accuracy: 0.9386\n",
      "Test Accuracy: 0.9141\n",
      "Test Accuracy: 0.9141\n",
      "Layer enc.3x3_block0 - PCA time: 0.01s, PCA transform time: 0.04s, Training time: 30.26s\n",
      "Processing layer: enc.3x3_block1\n",
      "Epoch [1/5000], Loss: 3.8343, Accuracy: 0.0222\n",
      "Epoch [500/5000], Loss: 0.1487, Accuracy: 0.9448\n",
      "Epoch [1000/5000], Loss: 0.1343, Accuracy: 0.9492\n",
      "Test Accuracy: 0.9395\n",
      "Epoch [1500/5000], Loss: 0.1277, Accuracy: 0.9509\n",
      "Epoch [2000/5000], Loss: 0.1237, Accuracy: 0.9521\n",
      "Test Accuracy: 0.9393\n",
      "Epoch [2500/5000], Loss: 0.1210, Accuracy: 0.9529\n",
      "Epoch [3000/5000], Loss: 0.1190, Accuracy: 0.9535\n",
      "Test Accuracy: 0.9390\n",
      "Epoch [3500/5000], Loss: 0.1175, Accuracy: 0.9537\n",
      "Epoch [4000/5000], Loss: 0.1163, Accuracy: 0.9542\n",
      "Test Accuracy: 0.9388\n",
      "Epoch [4500/5000], Loss: 0.1153, Accuracy: 0.9544\n",
      "Epoch [5000/5000], Loss: 0.1146, Accuracy: 0.9544\n",
      "Test Accuracy: 0.9383\n",
      "Test Accuracy: 0.9383\n",
      "Layer enc.3x3_block1 - PCA time: 0.01s, PCA transform time: 0.04s, Training time: 30.26s\n",
      "Processing layer: enc.1x1_down\n",
      "Epoch [1/5000], Loss: 3.8512, Accuracy: 0.0297\n",
      "Epoch [500/5000], Loss: 0.1615, Accuracy: 0.9407\n",
      "Epoch [1000/5000], Loss: 0.1454, Accuracy: 0.9453\n",
      "Test Accuracy: 0.9325\n",
      "Epoch [1500/5000], Loss: 0.1381, Accuracy: 0.9476\n",
      "Epoch [2000/5000], Loss: 0.1337, Accuracy: 0.9489\n",
      "Test Accuracy: 0.9328\n",
      "Epoch [2500/5000], Loss: 0.1306, Accuracy: 0.9498\n",
      "Epoch [3000/5000], Loss: 0.1282, Accuracy: 0.9506\n",
      "Test Accuracy: 0.9325\n",
      "Epoch [3500/5000], Loss: 0.1264, Accuracy: 0.9511\n",
      "Epoch [4000/5000], Loss: 0.1248, Accuracy: 0.9514\n",
      "Test Accuracy: 0.9322\n",
      "Epoch [4500/5000], Loss: 0.1235, Accuracy: 0.9515\n",
      "Epoch [5000/5000], Loss: 0.1224, Accuracy: 0.9518\n",
      "Test Accuracy: 0.9316\n",
      "Test Accuracy: 0.9316\n",
      "Layer enc.1x1_down - PCA time: 0.01s, PCA transform time: 0.04s, Training time: 30.22s\n",
      "Processing layer: enc.1x1_block0\n",
      "Epoch [1/5000], Loss: 3.7757, Accuracy: 0.0279\n",
      "Epoch [500/5000], Loss: 0.1633, Accuracy: 0.9402\n",
      "Epoch [1000/5000], Loss: 0.1467, Accuracy: 0.9448\n",
      "Test Accuracy: 0.9322\n",
      "Epoch [1500/5000], Loss: 0.1390, Accuracy: 0.9472\n",
      "Epoch [2000/5000], Loss: 0.1341, Accuracy: 0.9487\n",
      "Test Accuracy: 0.9319\n",
      "Epoch [2500/5000], Loss: 0.1306, Accuracy: 0.9498\n",
      "Epoch [3000/5000], Loss: 0.1280, Accuracy: 0.9505\n",
      "Test Accuracy: 0.9311\n",
      "Epoch [3500/5000], Loss: 0.1258, Accuracy: 0.9512\n",
      "Epoch [4000/5000], Loss: 0.1241, Accuracy: 0.9518\n",
      "Test Accuracy: 0.9313\n",
      "Epoch [4500/5000], Loss: 0.1226, Accuracy: 0.9521\n",
      "Epoch [5000/5000], Loss: 0.1213, Accuracy: 0.9527\n",
      "Test Accuracy: 0.9309\n",
      "Test Accuracy: 0.9309\n",
      "Layer enc.1x1_block0 - PCA time: 0.02s, PCA transform time: 0.09s, Training time: 32.68s\n",
      "Processing layer: enc.1x1_block1\n",
      "Epoch [1/5000], Loss: 3.9058, Accuracy: 0.0229\n",
      "Epoch [500/5000], Loss: 0.1646, Accuracy: 0.9415\n",
      "Epoch [1000/5000], Loss: 0.1446, Accuracy: 0.9471\n",
      "Test Accuracy: 0.9256\n",
      "Epoch [1500/5000], Loss: 0.1350, Accuracy: 0.9497\n",
      "Epoch [2000/5000], Loss: 0.1289, Accuracy: 0.9515\n",
      "Test Accuracy: 0.9268\n",
      "Epoch [2500/5000], Loss: 0.1245, Accuracy: 0.9528\n",
      "Epoch [3000/5000], Loss: 0.1212, Accuracy: 0.9537\n",
      "Test Accuracy: 0.9264\n",
      "Epoch [3500/5000], Loss: 0.1186, Accuracy: 0.9546\n",
      "Epoch [4000/5000], Loss: 0.1163, Accuracy: 0.9552\n",
      "Test Accuracy: 0.9260\n",
      "Epoch [4500/5000], Loss: 0.1146, Accuracy: 0.9554\n",
      "Epoch [5000/5000], Loss: 0.1132, Accuracy: 0.9557\n",
      "Test Accuracy: 0.9240\n",
      "Test Accuracy: 0.9240\n",
      "Layer enc.1x1_block1 - PCA time: 0.02s, PCA transform time: 0.09s, Training time: 32.51s\n",
      "Processing layer: dec.1x1_in0\n",
      "Epoch [1/5000], Loss: 3.8925, Accuracy: 0.0209\n",
      "Epoch [500/5000], Loss: 0.1671, Accuracy: 0.9406\n",
      "Epoch [1000/5000], Loss: 0.1463, Accuracy: 0.9462\n",
      "Test Accuracy: 0.9216\n",
      "Epoch [1500/5000], Loss: 0.1365, Accuracy: 0.9493\n",
      "Epoch [2000/5000], Loss: 0.1304, Accuracy: 0.9511\n",
      "Test Accuracy: 0.9210\n",
      "Epoch [2500/5000], Loss: 0.1262, Accuracy: 0.9520\n",
      "Epoch [3000/5000], Loss: 0.1232, Accuracy: 0.9528\n",
      "Test Accuracy: 0.9197\n",
      "Epoch [3500/5000], Loss: 0.1208, Accuracy: 0.9535\n",
      "Epoch [4000/5000], Loss: 0.1190, Accuracy: 0.9536\n",
      "Test Accuracy: 0.9186\n",
      "Epoch [4500/5000], Loss: 0.1175, Accuracy: 0.9542\n",
      "Epoch [5000/5000], Loss: 0.1163, Accuracy: 0.9542\n",
      "Test Accuracy: 0.9179\n",
      "Test Accuracy: 0.9179\n",
      "Layer dec.1x1_in0 - PCA time: 0.02s, PCA transform time: 0.09s, Training time: 32.68s\n",
      "Processing layer: dec.1x1_in1\n",
      "Epoch [1/5000], Loss: 3.8648, Accuracy: 0.0255\n",
      "Epoch [500/5000], Loss: 0.1683, Accuracy: 0.9402\n",
      "Epoch [1000/5000], Loss: 0.1476, Accuracy: 0.9458\n",
      "Test Accuracy: 0.9206\n",
      "Epoch [1500/5000], Loss: 0.1380, Accuracy: 0.9487\n",
      "Epoch [2000/5000], Loss: 0.1321, Accuracy: 0.9501\n",
      "Test Accuracy: 0.9190\n",
      "Epoch [2500/5000], Loss: 0.1281, Accuracy: 0.9511\n",
      "Epoch [3000/5000], Loss: 0.1251, Accuracy: 0.9519\n",
      "Test Accuracy: 0.9178\n",
      "Epoch [3500/5000], Loss: 0.1228, Accuracy: 0.9522\n",
      "Epoch [4000/5000], Loss: 0.1210, Accuracy: 0.9528\n",
      "Test Accuracy: 0.9167\n",
      "Epoch [4500/5000], Loss: 0.1196, Accuracy: 0.9532\n",
      "Epoch [5000/5000], Loss: 0.1184, Accuracy: 0.9533\n",
      "Test Accuracy: 0.9160\n",
      "Test Accuracy: 0.9160\n",
      "Layer dec.1x1_in1 - PCA time: 0.02s, PCA transform time: 0.09s, Training time: 32.73s\n",
      "Processing layer: dec.1x1_block0\n",
      "Epoch [1/5000], Loss: 3.8923, Accuracy: 0.0191\n",
      "Epoch [500/5000], Loss: 0.2057, Accuracy: 0.9289\n",
      "Epoch [1000/5000], Loss: 0.1767, Accuracy: 0.9368\n",
      "Test Accuracy: 0.9181\n",
      "Epoch [1500/5000], Loss: 0.1625, Accuracy: 0.9411\n",
      "Epoch [2000/5000], Loss: 0.1534, Accuracy: 0.9438\n",
      "Test Accuracy: 0.9206\n",
      "Epoch [2500/5000], Loss: 0.1468, Accuracy: 0.9458\n",
      "Epoch [3000/5000], Loss: 0.1417, Accuracy: 0.9474\n",
      "Test Accuracy: 0.9202\n",
      "Epoch [3500/5000], Loss: 0.1376, Accuracy: 0.9485\n",
      "Epoch [4000/5000], Loss: 0.1343, Accuracy: 0.9497\n",
      "Test Accuracy: 0.9197\n",
      "Epoch [4500/5000], Loss: 0.1314, Accuracy: 0.9503\n",
      "Epoch [5000/5000], Loss: 0.1289, Accuracy: 0.9508\n",
      "Test Accuracy: 0.9198\n",
      "Test Accuracy: 0.9198\n",
      "Layer dec.1x1_block0 - PCA time: 0.02s, PCA transform time: 0.09s, Training time: 32.43s\n",
      "Processing layer: dec.1x1_block1\n",
      "Epoch [1/5000], Loss: 3.8063, Accuracy: 0.0257\n",
      "Epoch [500/5000], Loss: 0.2000, Accuracy: 0.9294\n",
      "Epoch [1000/5000], Loss: 0.1736, Accuracy: 0.9374\n",
      "Test Accuracy: 0.9245\n",
      "Epoch [1500/5000], Loss: 0.1607, Accuracy: 0.9409\n",
      "Epoch [2000/5000], Loss: 0.1523, Accuracy: 0.9434\n",
      "Test Accuracy: 0.9278\n",
      "Epoch [2500/5000], Loss: 0.1461, Accuracy: 0.9451\n",
      "Epoch [3000/5000], Loss: 0.1413, Accuracy: 0.9468\n",
      "Test Accuracy: 0.9282\n",
      "Epoch [3500/5000], Loss: 0.1374, Accuracy: 0.9479\n",
      "Epoch [4000/5000], Loss: 0.1341, Accuracy: 0.9490\n",
      "Test Accuracy: 0.9289\n",
      "Epoch [4500/5000], Loss: 0.1314, Accuracy: 0.9497\n",
      "Epoch [5000/5000], Loss: 0.1290, Accuracy: 0.9506\n",
      "Test Accuracy: 0.9289\n",
      "Test Accuracy: 0.9289\n",
      "Layer dec.1x1_block1 - PCA time: 0.02s, PCA transform time: 0.08s, Training time: 32.45s\n",
      "Processing layer: dec.1x1_block2\n",
      "Epoch [1/5000], Loss: 3.8632, Accuracy: 0.0227\n",
      "Epoch [500/5000], Loss: 0.1596, Accuracy: 0.9411\n",
      "Epoch [1000/5000], Loss: 0.1446, Accuracy: 0.9457\n",
      "Test Accuracy: 0.9309\n",
      "Epoch [1500/5000], Loss: 0.1372, Accuracy: 0.9480\n",
      "Epoch [2000/5000], Loss: 0.1324, Accuracy: 0.9497\n",
      "Test Accuracy: 0.9313\n",
      "Epoch [2500/5000], Loss: 0.1289, Accuracy: 0.9505\n",
      "Epoch [3000/5000], Loss: 0.1262, Accuracy: 0.9512\n",
      "Test Accuracy: 0.9309\n",
      "Epoch [3500/5000], Loss: 0.1240, Accuracy: 0.9516\n",
      "Epoch [4000/5000], Loss: 0.1223, Accuracy: 0.9520\n",
      "Test Accuracy: 0.9302\n",
      "Epoch [4500/5000], Loss: 0.1207, Accuracy: 0.9527\n",
      "Epoch [5000/5000], Loss: 0.1193, Accuracy: 0.9530\n",
      "Test Accuracy: 0.9298\n",
      "Test Accuracy: 0.9298\n",
      "Layer dec.1x1_block2 - PCA time: 0.02s, PCA transform time: 0.09s, Training time: 32.56s\n",
      "Processing layer: dec.3x3_up\n",
      "Epoch [1/5000], Loss: 3.8529, Accuracy: 0.0193\n",
      "Epoch [500/5000], Loss: 0.1866, Accuracy: 0.9328\n",
      "Epoch [1000/5000], Loss: 0.1664, Accuracy: 0.9387\n",
      "Test Accuracy: 0.9268\n",
      "Epoch [1500/5000], Loss: 0.1561, Accuracy: 0.9417\n",
      "Epoch [2000/5000], Loss: 0.1493, Accuracy: 0.9437\n",
      "Test Accuracy: 0.9284\n",
      "Epoch [2500/5000], Loss: 0.1442, Accuracy: 0.9453\n",
      "Epoch [3000/5000], Loss: 0.1402, Accuracy: 0.9469\n",
      "Test Accuracy: 0.9288\n",
      "Epoch [3500/5000], Loss: 0.1368, Accuracy: 0.9480\n",
      "Epoch [4000/5000], Loss: 0.1340, Accuracy: 0.9490\n",
      "Test Accuracy: 0.9286\n",
      "Epoch [4500/5000], Loss: 0.1316, Accuracy: 0.9497\n",
      "Epoch [5000/5000], Loss: 0.1295, Accuracy: 0.9503\n",
      "Test Accuracy: 0.9284\n",
      "Test Accuracy: 0.9284\n",
      "Layer dec.3x3_up - PCA time: 0.02s, PCA transform time: 0.09s, Training time: 32.45s\n",
      "Processing layer: dec.3x3_block0\n",
      "Epoch [1/5000], Loss: 3.7872, Accuracy: 0.0320\n",
      "Epoch [500/5000], Loss: 0.1510, Accuracy: 0.9439\n",
      "Epoch [1000/5000], Loss: 0.1374, Accuracy: 0.9479\n",
      "Test Accuracy: 0.9386\n",
      "Epoch [1500/5000], Loss: 0.1313, Accuracy: 0.9495\n",
      "Epoch [2000/5000], Loss: 0.1276, Accuracy: 0.9508\n",
      "Test Accuracy: 0.9383\n",
      "Epoch [2500/5000], Loss: 0.1250, Accuracy: 0.9514\n",
      "Epoch [3000/5000], Loss: 0.1232, Accuracy: 0.9519\n",
      "Test Accuracy: 0.9374\n",
      "Epoch [3500/5000], Loss: 0.1217, Accuracy: 0.9522\n",
      "Epoch [4000/5000], Loss: 0.1205, Accuracy: 0.9525\n",
      "Test Accuracy: 0.9368\n",
      "Epoch [4500/5000], Loss: 0.1196, Accuracy: 0.9526\n",
      "Epoch [5000/5000], Loss: 0.1189, Accuracy: 0.9528\n",
      "Test Accuracy: 0.9365\n",
      "Test Accuracy: 0.9365\n",
      "Layer dec.3x3_block0 - PCA time: 0.01s, PCA transform time: 0.05s, Training time: 30.25s\n",
      "Processing layer: dec.3x3_block1\n",
      "Epoch [1/5000], Loss: 3.8831, Accuracy: 0.0280\n",
      "Epoch [500/5000], Loss: 0.1502, Accuracy: 0.9443\n",
      "Epoch [1000/5000], Loss: 0.1363, Accuracy: 0.9481\n",
      "Test Accuracy: 0.9377\n",
      "Epoch [1500/5000], Loss: 0.1301, Accuracy: 0.9500\n",
      "Epoch [2000/5000], Loss: 0.1263, Accuracy: 0.9512\n",
      "Test Accuracy: 0.9380\n",
      "Epoch [2500/5000], Loss: 0.1237, Accuracy: 0.9519\n",
      "Epoch [3000/5000], Loss: 0.1217, Accuracy: 0.9525\n",
      "Test Accuracy: 0.9368\n",
      "Epoch [3500/5000], Loss: 0.1202, Accuracy: 0.9531\n",
      "Epoch [4000/5000], Loss: 0.1190, Accuracy: 0.9534\n",
      "Test Accuracy: 0.9362\n",
      "Epoch [4500/5000], Loss: 0.1181, Accuracy: 0.9535\n",
      "Epoch [5000/5000], Loss: 0.1172, Accuracy: 0.9538\n",
      "Test Accuracy: 0.9352\n",
      "Test Accuracy: 0.9352\n",
      "Layer dec.3x3_block1 - PCA time: 0.01s, PCA transform time: 0.05s, Training time: 30.25s\n",
      "Processing layer: dec.3x3_block2\n",
      "Epoch [1/5000], Loss: 3.8261, Accuracy: 0.0278\n",
      "Epoch [500/5000], Loss: 0.1797, Accuracy: 0.9373\n",
      "Epoch [1000/5000], Loss: 0.1600, Accuracy: 0.9419\n",
      "Test Accuracy: 0.9315\n",
      "Epoch [1500/5000], Loss: 0.1509, Accuracy: 0.9442\n",
      "Epoch [2000/5000], Loss: 0.1453, Accuracy: 0.9456\n",
      "Test Accuracy: 0.9323\n",
      "Epoch [2500/5000], Loss: 0.1414, Accuracy: 0.9467\n",
      "Epoch [3000/5000], Loss: 0.1384, Accuracy: 0.9475\n",
      "Test Accuracy: 0.9323\n",
      "Epoch [3500/5000], Loss: 0.1360, Accuracy: 0.9482\n",
      "Epoch [4000/5000], Loss: 0.1341, Accuracy: 0.9486\n",
      "Test Accuracy: 0.9321\n",
      "Epoch [4500/5000], Loss: 0.1324, Accuracy: 0.9491\n",
      "Epoch [5000/5000], Loss: 0.1311, Accuracy: 0.9495\n",
      "Test Accuracy: 0.9317\n",
      "Test Accuracy: 0.9317\n",
      "Layer dec.3x3_block2 - PCA time: 0.01s, PCA transform time: 0.04s, Training time: 30.27s\n",
      "Processing layer: dec.9x9_up\n",
      "Epoch [1/5000], Loss: 3.8913, Accuracy: 0.0174\n",
      "Epoch [500/5000], Loss: 0.2073, Accuracy: 0.9305\n",
      "Epoch [1000/5000], Loss: 0.1802, Accuracy: 0.9365\n",
      "Test Accuracy: 0.9269\n",
      "Epoch [1500/5000], Loss: 0.1680, Accuracy: 0.9397\n",
      "Epoch [2000/5000], Loss: 0.1605, Accuracy: 0.9414\n",
      "Test Accuracy: 0.9293\n",
      "Epoch [2500/5000], Loss: 0.1554, Accuracy: 0.9429\n",
      "Epoch [3000/5000], Loss: 0.1515, Accuracy: 0.9438\n",
      "Test Accuracy: 0.9288\n",
      "Epoch [3500/5000], Loss: 0.1485, Accuracy: 0.9445\n",
      "Epoch [4000/5000], Loss: 0.1461, Accuracy: 0.9453\n",
      "Test Accuracy: 0.9283\n",
      "Epoch [4500/5000], Loss: 0.1441, Accuracy: 0.9458\n",
      "Epoch [5000/5000], Loss: 0.1425, Accuracy: 0.9464\n",
      "Test Accuracy: 0.9278\n",
      "Test Accuracy: 0.9278\n",
      "Layer dec.9x9_up - PCA time: 0.01s, PCA transform time: 0.05s, Training time: 30.27s\n",
      "Processing layer: dec.9x9_block0\n",
      "Epoch [1/5000], Loss: 3.9590, Accuracy: 0.0170\n",
      "Epoch [500/5000], Loss: 0.5501, Accuracy: 0.8230\n",
      "Epoch [1000/5000], Loss: 0.4525, Accuracy: 0.8486\n",
      "Test Accuracy: 0.8417\n",
      "Epoch [1500/5000], Loss: 0.4092, Accuracy: 0.8607\n",
      "Epoch [2000/5000], Loss: 0.3832, Accuracy: 0.8678\n",
      "Test Accuracy: 0.8591\n",
      "Epoch [2500/5000], Loss: 0.3655, Accuracy: 0.8734\n",
      "Epoch [3000/5000], Loss: 0.3524, Accuracy: 0.8770\n",
      "Test Accuracy: 0.8668\n",
      "Epoch [3500/5000], Loss: 0.3424, Accuracy: 0.8795\n",
      "Epoch [4000/5000], Loss: 0.3345, Accuracy: 0.8819\n",
      "Test Accuracy: 0.8701\n",
      "Epoch [4500/5000], Loss: 0.3280, Accuracy: 0.8837\n",
      "Epoch [5000/5000], Loss: 0.3227, Accuracy: 0.8853\n",
      "Test Accuracy: 0.8726\n",
      "Test Accuracy: 0.8726\n",
      "Layer dec.9x9_block0 - PCA time: 0.01s, PCA transform time: 0.02s, Training time: 29.73s\n",
      "Processing layer: dec.9x9_block1\n",
      "Epoch [1/5000], Loss: 3.8608, Accuracy: 0.0250\n",
      "Epoch [500/5000], Loss: 0.7468, Accuracy: 0.7529\n",
      "Epoch [1000/5000], Loss: 0.6272, Accuracy: 0.7861\n",
      "Test Accuracy: 0.7789\n",
      "Epoch [1500/5000], Loss: 0.5710, Accuracy: 0.8029\n",
      "Epoch [2000/5000], Loss: 0.5359, Accuracy: 0.8135\n",
      "Test Accuracy: 0.8033\n",
      "Epoch [2500/5000], Loss: 0.5109, Accuracy: 0.8210\n",
      "Epoch [3000/5000], Loss: 0.4918, Accuracy: 0.8269\n",
      "Test Accuracy: 0.8172\n",
      "Epoch [3500/5000], Loss: 0.4765, Accuracy: 0.8312\n",
      "Epoch [4000/5000], Loss: 0.4638, Accuracy: 0.8355\n",
      "Test Accuracy: 0.8246\n",
      "Epoch [4500/5000], Loss: 0.4532, Accuracy: 0.8388\n",
      "Epoch [5000/5000], Loss: 0.4442, Accuracy: 0.8417\n",
      "Test Accuracy: 0.8306\n",
      "Test Accuracy: 0.8306\n",
      "Layer dec.9x9_block1 - PCA time: 0.00s, PCA transform time: 0.02s, Training time: 29.69s\n",
      "Processing layer: dec.9x9_block2\n",
      "Epoch [1/5000], Loss: 3.8470, Accuracy: 0.0249\n",
      "Epoch [500/5000], Loss: 0.9350, Accuracy: 0.6917\n",
      "Epoch [1000/5000], Loss: 0.7831, Accuracy: 0.7347\n",
      "Test Accuracy: 0.7248\n",
      "Epoch [1500/5000], Loss: 0.7116, Accuracy: 0.7560\n",
      "Epoch [2000/5000], Loss: 0.6671, Accuracy: 0.7689\n",
      "Test Accuracy: 0.7564\n",
      "Epoch [2500/5000], Loss: 0.6356, Accuracy: 0.7784\n",
      "Epoch [3000/5000], Loss: 0.6118, Accuracy: 0.7851\n",
      "Test Accuracy: 0.7725\n",
      "Epoch [3500/5000], Loss: 0.5932, Accuracy: 0.7900\n",
      "Epoch [4000/5000], Loss: 0.5784, Accuracy: 0.7949\n",
      "Test Accuracy: 0.7808\n",
      "Epoch [4500/5000], Loss: 0.5664, Accuracy: 0.7984\n",
      "Epoch [5000/5000], Loss: 0.5567, Accuracy: 0.8015\n",
      "Test Accuracy: 0.7853\n",
      "Test Accuracy: 0.7853\n",
      "Layer dec.9x9_block2 - PCA time: 0.01s, PCA transform time: 0.02s, Training time: 29.76s\n",
      "Processing layer: dec.9x9_aux_norm\n",
      "Epoch [1/5000], Loss: 3.8267, Accuracy: 0.0291\n",
      "Epoch [500/5000], Loss: 1.0502, Accuracy: 0.6459\n",
      "Epoch [1000/5000], Loss: 0.9002, Accuracy: 0.6885\n",
      "Test Accuracy: 0.6768\n",
      "Epoch [1500/5000], Loss: 0.8324, Accuracy: 0.7073\n",
      "Epoch [2000/5000], Loss: 0.7923, Accuracy: 0.7178\n",
      "Test Accuracy: 0.7059\n",
      "Epoch [2500/5000], Loss: 0.7654, Accuracy: 0.7250\n",
      "Epoch [3000/5000], Loss: 0.7464, Accuracy: 0.7306\n",
      "Test Accuracy: 0.7185\n",
      "Epoch [3500/5000], Loss: 0.7324, Accuracy: 0.7342\n",
      "Epoch [4000/5000], Loss: 0.7221, Accuracy: 0.7370\n",
      "Test Accuracy: 0.7257\n",
      "Epoch [4500/5000], Loss: 0.7142, Accuracy: 0.7392\n",
      "Epoch [5000/5000], Loss: 0.7082, Accuracy: 0.7409\n",
      "Test Accuracy: 0.7284\n",
      "Test Accuracy: 0.7284\n",
      "Layer dec.9x9_aux_norm - PCA time: 0.01s, PCA transform time: 0.02s, Training time: 29.73s\n",
      "Processing layer: dec.9x9_aux_conv\n",
      "Epoch [1/5000], Loss: 3.8103, Accuracy: 0.0207\n",
      "Epoch [500/5000], Loss: 3.4686, Accuracy: 0.0769\n",
      "Epoch [1000/5000], Loss: 3.4683, Accuracy: 0.0774\n",
      "Test Accuracy: 0.0773\n",
      "Epoch [1500/5000], Loss: 3.4683, Accuracy: 0.0773\n",
      "Epoch [2000/5000], Loss: 3.4683, Accuracy: 0.0773\n",
      "Test Accuracy: 0.0774\n",
      "Epoch [2500/5000], Loss: 3.4683, Accuracy: 0.0773\n",
      "Epoch [3000/5000], Loss: 3.4683, Accuracy: 0.0773\n",
      "Test Accuracy: 0.0774\n",
      "Epoch [3500/5000], Loss: 3.4683, Accuracy: 0.0773\n",
      "Epoch [4000/5000], Loss: 3.4683, Accuracy: 0.0774\n",
      "Test Accuracy: 0.0773\n",
      "Epoch [4500/5000], Loss: 3.4683, Accuracy: 0.0773\n",
      "Epoch [5000/5000], Loss: 3.4683, Accuracy: 0.0774\n",
      "Test Accuracy: 0.0773\n",
      "Test Accuracy: 0.0773\n",
      "Layer dec.9x9_aux_conv - PCA time: 0.00s, PCA transform time: 0.00s, Training time: 28.84s\n"
     ]
    },
    {
     "data": {
      "image/png": "[encoded data removed]",
      "text/plain": [
       "<Figure size 432x288 with 1 Axes>"
      ]
     },
     "metadata": {
      "needs_background": "light"
     },
     "output_type": "display_data"
    }
   ],
   "source": [
    "fetcher = featureFetcher_module()\n",
    "# record_module_list = [\"input\",\n",
    "#                'enc.9x9_conv',\n",
    "#                 'enc.3x3_down',\n",
    "#                 'enc.1x1_down',\n",
    "#                 'dec.1x1_in0',\n",
    "#                 'dec.1x1_in1',\n",
    "#                 'dec.3x3_up',\n",
    "#                 'dec.9x9_up',\n",
    "#                 # 'dec.9x9_block2',\n",
    "#                 \"dec.9x9_aux_norm\",\n",
    "#                 \"dec.9x9_aux_conv\", ]\n",
    "for blockname in list(edm.ema.enc):\n",
    "    # if f\"enc.{blockname}\" in record_module_list:\n",
    "    fetcher.record_module(edm.ema.enc[blockname], target_name=f\"enc.{blockname}\")\n",
    "for blockname in list(edm.ema.dec):\n",
    "    # if f\"dec.{blockname}\" in record_module_list:\n",
    "    fetcher.record_module(edm.ema.dec[blockname], target_name=f\"dec.{blockname}\")\n",
    "# Now use the function for both training and testing data\n",
    "train_loader = DataLoader(train_dataset, batch_size=2048, shuffle=False, drop_last=False)\n",
    "test_loader = DataLoader(test_dataset, batch_size=2048, shuffle=False, drop_last=False)\n",
    "\n",
    "dimred_str = \"none\"\n",
    "ckpt_str = \"ckpt999999EMA\"\n",
    "sigma_list = [0.35] #[80.000, 53.559, 34.992, 22.240, 13.699, 8.139, 4.637, 2.515, 1.287, 0.613, 0.267, 0.104, 0.035, 0.010, 0.002]\n",
    "for t_scalar in sigma_list:\n",
    "    t_str = str(t_scalar).replace('.', '_')\n",
    "    feature_col = extract_features_EDM(edm, fetcher, train_loader, dataset_Xmean, dataset_Xstd, t_scalar)\n",
    "    feature_col_test = extract_features_EDM(edm, fetcher, test_loader, dataset_Xmean, dataset_Xstd, t_scalar)\n",
    "    feature_avg_col = {k: v.mean(dim=(2,3)) for k, v in feature_col.items()}\n",
    "    feature_avg_col_test = {k: v.mean(dim=(2,3)) for k, v in feature_col_test.items()}\n",
    "    # feature_sel_col = {k: v for k, v in feature_col.items() if \"1x1\" in k}\n",
    "    # feature_sel_col_test = {k: v for k, v in feature_col_test.items() if \"1x1\" in k}\n",
    "    model_PCA_col, PC_proj_col, results_col = train_pca_sgd_classifiers(\n",
    "        feature_avg_col, feature_avg_col_test, y_train, y_test,\n",
    "        PC_dim=1024, noPCA=True, num_classes=40, batch_size=None,\n",
    "        num_epochs=5000, print_every=500, eval_every=1000, learning_rate=0.005,\n",
    "        device='cuda'\n",
    "    )\n",
    "    pkl.dump(results_col, open(join(repr_expdir,f\"results_col_t{t_str}_{dimred_str}_{ckpt_str}.pkl\"), \"wb\"))\n",
    "    pkl.dump(PC_proj_col, open(join(repr_expdir,f\"PC_proj_col_t{t_str}_{dimred_str}_{ckpt_str}.pkl\"), \"wb\"))\n",
    "    pkl.dump(model_PCA_col, open(join(repr_expdir,f\"model_PCA_col_t{t_str}_{dimred_str}_{ckpt_str}.pkl\"), \"wb\"))\n",
    "\n",
    "    test_acc_synopsis = {key: results_col[key].test_record.accuracy.max() for key in results_col.keys()}\n",
    "    train_acc_synopsis = {key: results_col[key].train_record.accuracy.max() for key in results_col.keys()}\n",
    "    syn_df = pd.DataFrame([test_acc_synopsis, train_acc_synopsis]).T\n",
    "    syn_df.columns = [\"Test Accuracy\", \"Train Accuracy\"]\n",
    "    plt.figure(figsize=(6, 4))\n",
    "    sns.lineplot(data=syn_df, markers=True)\n",
    "    plt.title(f\"t_scalar: {t_scalar} Accuracy\\n{expname}\\n{ckpt_str} {dimred_str}\")\n",
    "    saveallforms([repr_expdir,],f\"t{t_str}_{dimred_str}_{ckpt_str}_accuracy.png\")\n",
    "    plt.show()"
   ]
  },
  {
   "cell_type": "code",
   "execution_count": null,
   "metadata": {},
   "outputs": [],
   "source": []
  },
  {
   "cell_type": "code",
   "execution_count": 130,
   "metadata": {},
   "outputs": [],
   "source": [
    "syn_df_all_dense = sweep_classifier_result(repr_expdir, t_list=[0.35], epoch_list=[999999], dimred_strs=[\"none\"],use_ema=True)\n",
    "syn_df_all_dense.to_csv(join(repr_expdir, \"pilot_classifier_acc_layer_999999EMA.csv\"))"
   ]
  },
  {
   "cell_type": "code",
   "execution_count": 143,
   "metadata": {},
   "outputs": [
    {
     "data": {
      "image/png": "[encoded data removed]",
      "text/plain": [
       "<Figure size 360x360 with 1 Axes>"
      ]
     },
     "metadata": {
      "needs_background": "light"
     },
     "output_type": "display_data"
    }
   ],
   "source": [
    "dimred_str = 'avgspace'\n",
    "plt.figure(figsize=(5, 5))\n",
    "sns.lineplot(syn_df_all_dense, x=\"Layer\", y=\"Test Accuracy\", marker=\"o\",  label=\"Test Acc\", ) #label=\"Test Acc\",\n",
    "sns.lineplot(syn_df_all_dense, x=\"Layer\", y=\"Train Accuracy\", marker=\"o\", label=\"Train Acc\", ) #label=\"Train Acc\",\n",
    "# plt.xscale(\"log\")\n",
    "# plt.xlabel(\"sigma\")\n",
    "# rotate x ticks\n",
    "plt.ylabel(\"Accuracy\")\n",
    "plt.legend()\n",
    "plt.xticks(rotation=55, ha='right')\n",
    "plt.title(f\"Test Accuracy vs. Layer\\n{expname}\\n{ckpt_str} {dimred_str} t=0.35\")\n",
    "saveallforms([figexpdir,],f\"acc_layerdepth_curve_{dimred_str}_{ckpt_str}_accuracy\")\n",
    "plt.show()"
   ]
  },
  {
   "cell_type": "code",
   "execution_count": 144,
   "metadata": {},
   "outputs": [
    {
     "data": {
      "text/html": [
       "<div>\n",
       "<style scoped>\n",
       "    .dataframe tbody tr th:only-of-type {\n",
       "        vertical-align: middle;\n",
       "    }\n",
       "\n",
       "    .dataframe tbody tr th {\n",
       "        vertical-align: top;\n",
       "    }\n",
       "\n",
       "    .dataframe thead th {\n",
       "        text-align: right;\n",
       "    }\n",
       "</style>\n",
       "<table border=\"1\" class=\"dataframe\">\n",
       "  <thead>\n",
       "    <tr style=\"text-align: right;\">\n",
       "      <th></th>\n",
       "      <th>Layer</th>\n",
       "      <th>Test Accuracy</th>\n",
       "      <th>Train Accuracy</th>\n",
       "      <th>t</th>\n",
       "      <th>epoch</th>\n",
       "      <th>dimred</th>\n",
       "    </tr>\n",
       "  </thead>\n",
       "  <tbody>\n",
       "    <tr>\n",
       "      <th>0</th>\n",
       "      <td>input</td>\n",
       "      <td>0.075425</td>\n",
       "      <td>0.076783</td>\n",
       "      <td>0.35</td>\n",
       "      <td>999999</td>\n",
       "      <td>none</td>\n",
       "    </tr>\n",
       "    <tr>\n",
       "      <th>1</th>\n",
       "      <td>enc.9x9_conv</td>\n",
       "      <td>0.183600</td>\n",
       "      <td>0.185900</td>\n",
       "      <td>0.35</td>\n",
       "      <td>999999</td>\n",
       "      <td>none</td>\n",
       "    </tr>\n",
       "    <tr>\n",
       "      <th>2</th>\n",
       "      <td>enc.9x9_block0</td>\n",
       "      <td>0.510275</td>\n",
       "      <td>0.522733</td>\n",
       "      <td>0.35</td>\n",
       "      <td>999999</td>\n",
       "      <td>none</td>\n",
       "    </tr>\n",
       "    <tr>\n",
       "      <th>3</th>\n",
       "      <td>enc.9x9_block1</td>\n",
       "      <td>0.562850</td>\n",
       "      <td>0.578250</td>\n",
       "      <td>0.35</td>\n",
       "      <td>999999</td>\n",
       "      <td>none</td>\n",
       "    </tr>\n",
       "    <tr>\n",
       "      <th>4</th>\n",
       "      <td>enc.3x3_down</td>\n",
       "      <td>0.717875</td>\n",
       "      <td>0.725158</td>\n",
       "      <td>0.35</td>\n",
       "      <td>999999</td>\n",
       "      <td>none</td>\n",
       "    </tr>\n",
       "    <tr>\n",
       "      <th>5</th>\n",
       "      <td>enc.3x3_block0</td>\n",
       "      <td>0.914075</td>\n",
       "      <td>0.938692</td>\n",
       "      <td>0.35</td>\n",
       "      <td>999999</td>\n",
       "      <td>none</td>\n",
       "    </tr>\n",
       "    <tr>\n",
       "      <th>6</th>\n",
       "      <td>enc.3x3_block1</td>\n",
       "      <td>0.938275</td>\n",
       "      <td>0.954617</td>\n",
       "      <td>0.35</td>\n",
       "      <td>999999</td>\n",
       "      <td>none</td>\n",
       "    </tr>\n",
       "    <tr>\n",
       "      <th>7</th>\n",
       "      <td>enc.1x1_down</td>\n",
       "      <td>0.931625</td>\n",
       "      <td>0.951825</td>\n",
       "      <td>0.35</td>\n",
       "      <td>999999</td>\n",
       "      <td>none</td>\n",
       "    </tr>\n",
       "    <tr>\n",
       "      <th>8</th>\n",
       "      <td>enc.1x1_block0</td>\n",
       "      <td>0.930900</td>\n",
       "      <td>0.952675</td>\n",
       "      <td>0.35</td>\n",
       "      <td>999999</td>\n",
       "      <td>none</td>\n",
       "    </tr>\n",
       "    <tr>\n",
       "      <th>9</th>\n",
       "      <td>enc.1x1_block1</td>\n",
       "      <td>0.923975</td>\n",
       "      <td>0.955900</td>\n",
       "      <td>0.35</td>\n",
       "      <td>999999</td>\n",
       "      <td>none</td>\n",
       "    </tr>\n",
       "    <tr>\n",
       "      <th>10</th>\n",
       "      <td>dec.1x1_in0</td>\n",
       "      <td>0.917875</td>\n",
       "      <td>0.954458</td>\n",
       "      <td>0.35</td>\n",
       "      <td>999999</td>\n",
       "      <td>none</td>\n",
       "    </tr>\n",
       "    <tr>\n",
       "      <th>11</th>\n",
       "      <td>dec.1x1_in1</td>\n",
       "      <td>0.915975</td>\n",
       "      <td>0.953542</td>\n",
       "      <td>0.35</td>\n",
       "      <td>999999</td>\n",
       "      <td>none</td>\n",
       "    </tr>\n",
       "    <tr>\n",
       "      <th>12</th>\n",
       "      <td>dec.1x1_block0</td>\n",
       "      <td>0.919850</td>\n",
       "      <td>0.950933</td>\n",
       "      <td>0.35</td>\n",
       "      <td>999999</td>\n",
       "      <td>none</td>\n",
       "    </tr>\n",
       "    <tr>\n",
       "      <th>13</th>\n",
       "      <td>dec.1x1_block1</td>\n",
       "      <td>0.928925</td>\n",
       "      <td>0.950733</td>\n",
       "      <td>0.35</td>\n",
       "      <td>999999</td>\n",
       "      <td>none</td>\n",
       "    </tr>\n",
       "    <tr>\n",
       "      <th>14</th>\n",
       "      <td>dec.1x1_block2</td>\n",
       "      <td>0.929825</td>\n",
       "      <td>0.953283</td>\n",
       "      <td>0.35</td>\n",
       "      <td>999999</td>\n",
       "      <td>none</td>\n",
       "    </tr>\n",
       "    <tr>\n",
       "      <th>15</th>\n",
       "      <td>dec.3x3_up</td>\n",
       "      <td>0.928350</td>\n",
       "      <td>0.950283</td>\n",
       "      <td>0.35</td>\n",
       "      <td>999999</td>\n",
       "      <td>none</td>\n",
       "    </tr>\n",
       "    <tr>\n",
       "      <th>16</th>\n",
       "      <td>dec.3x3_block0</td>\n",
       "      <td>0.936475</td>\n",
       "      <td>0.952950</td>\n",
       "      <td>0.35</td>\n",
       "      <td>999999</td>\n",
       "      <td>none</td>\n",
       "    </tr>\n",
       "    <tr>\n",
       "      <th>17</th>\n",
       "      <td>dec.3x3_block1</td>\n",
       "      <td>0.935175</td>\n",
       "      <td>0.953925</td>\n",
       "      <td>0.35</td>\n",
       "      <td>999999</td>\n",
       "      <td>none</td>\n",
       "    </tr>\n",
       "    <tr>\n",
       "      <th>18</th>\n",
       "      <td>dec.3x3_block2</td>\n",
       "      <td>0.931725</td>\n",
       "      <td>0.949575</td>\n",
       "      <td>0.35</td>\n",
       "      <td>999999</td>\n",
       "      <td>none</td>\n",
       "    </tr>\n",
       "    <tr>\n",
       "      <th>19</th>\n",
       "      <td>dec.9x9_up</td>\n",
       "      <td>0.927775</td>\n",
       "      <td>0.946425</td>\n",
       "      <td>0.35</td>\n",
       "      <td>999999</td>\n",
       "      <td>none</td>\n",
       "    </tr>\n",
       "    <tr>\n",
       "      <th>20</th>\n",
       "      <td>dec.9x9_block0</td>\n",
       "      <td>0.872600</td>\n",
       "      <td>0.885383</td>\n",
       "      <td>0.35</td>\n",
       "      <td>999999</td>\n",
       "      <td>none</td>\n",
       "    </tr>\n",
       "    <tr>\n",
       "      <th>21</th>\n",
       "      <td>dec.9x9_block1</td>\n",
       "      <td>0.830625</td>\n",
       "      <td>0.841742</td>\n",
       "      <td>0.35</td>\n",
       "      <td>999999</td>\n",
       "      <td>none</td>\n",
       "    </tr>\n",
       "    <tr>\n",
       "      <th>22</th>\n",
       "      <td>dec.9x9_block2</td>\n",
       "      <td>0.785275</td>\n",
       "      <td>0.801533</td>\n",
       "      <td>0.35</td>\n",
       "      <td>999999</td>\n",
       "      <td>none</td>\n",
       "    </tr>\n",
       "    <tr>\n",
       "      <th>23</th>\n",
       "      <td>dec.9x9_aux_norm</td>\n",
       "      <td>0.728350</td>\n",
       "      <td>0.741033</td>\n",
       "      <td>0.35</td>\n",
       "      <td>999999</td>\n",
       "      <td>none</td>\n",
       "    </tr>\n",
       "    <tr>\n",
       "      <th>24</th>\n",
       "      <td>dec.9x9_aux_conv</td>\n",
       "      <td>0.077325</td>\n",
       "      <td>0.077525</td>\n",
       "      <td>0.35</td>\n",
       "      <td>999999</td>\n",
       "      <td>none</td>\n",
       "    </tr>\n",
       "  </tbody>\n",
       "</table>\n",
       "</div>"
      ],
      "text/plain": [
       "               Layer  Test Accuracy  Train Accuracy     t   epoch dimred\n",
       "0              input       0.075425        0.076783  0.35  999999   none\n",
       "1       enc.9x9_conv       0.183600        0.185900  0.35  999999   none\n",
       "2     enc.9x9_block0       0.510275        0.522733  0.35  999999   none\n",
       "3     enc.9x9_block1       0.562850        0.578250  0.35  999999   none\n",
       "4       enc.3x3_down       0.717875        0.725158  0.35  999999   none\n",
       "5     enc.3x3_block0       0.914075        0.938692  0.35  999999   none\n",
       "6     enc.3x3_block1       0.938275        0.954617  0.35  999999   none\n",
       "7       enc.1x1_down       0.931625        0.951825  0.35  999999   none\n",
       "8     enc.1x1_block0       0.930900        0.952675  0.35  999999   none\n",
       "9     enc.1x1_block1       0.923975        0.955900  0.35  999999   none\n",
       "10       dec.1x1_in0       0.917875        0.954458  0.35  999999   none\n",
       "11       dec.1x1_in1       0.915975        0.953542  0.35  999999   none\n",
       "12    dec.1x1_block0       0.919850        0.950933  0.35  999999   none\n",
       "13    dec.1x1_block1       0.928925        0.950733  0.35  999999   none\n",
       "14    dec.1x1_block2       0.929825        0.953283  0.35  999999   none\n",
       "15        dec.3x3_up       0.928350        0.950283  0.35  999999   none\n",
       "16    dec.3x3_block0       0.936475        0.952950  0.35  999999   none\n",
       "17    dec.3x3_block1       0.935175        0.953925  0.35  999999   none\n",
       "18    dec.3x3_block2       0.931725        0.949575  0.35  999999   none\n",
       "19        dec.9x9_up       0.927775        0.946425  0.35  999999   none\n",
       "20    dec.9x9_block0       0.872600        0.885383  0.35  999999   none\n",
       "21    dec.9x9_block1       0.830625        0.841742  0.35  999999   none\n",
       "22    dec.9x9_block2       0.785275        0.801533  0.35  999999   none\n",
       "23  dec.9x9_aux_norm       0.728350        0.741033  0.35  999999   none\n",
       "24  dec.9x9_aux_conv       0.077325        0.077525  0.35  999999   none"
      ]
     },
     "execution_count": 144,
     "metadata": {},
     "output_type": "execute_result"
    }
   ],
   "source": [
    "syn_df_all_dense"
   ]
  },
  {
   "cell_type": "code",
   "execution_count": 106,
   "metadata": {},
   "outputs": [
    {
     "name": "stdout",
     "output_type": "stream",
     "text": [
      "input torch.Size([120000, 3, 9, 9])\n",
      "enc.9x9_conv torch.Size([120000, 128, 9, 9])\n",
      "enc.9x9_block0 torch.Size([120000, 128, 9, 9])\n",
      "enc.9x9_block1 torch.Size([120000, 128, 9, 9])\n",
      "enc.3x3_down torch.Size([120000, 128, 3, 3])\n",
      "enc.3x3_block0 torch.Size([120000, 256, 3, 3])\n",
      "enc.3x3_block1 torch.Size([120000, 256, 3, 3])\n",
      "enc.1x1_down torch.Size([120000, 256, 1, 1])\n",
      "enc.1x1_block0 torch.Size([120000, 512, 1, 1])\n",
      "enc.1x1_block1 torch.Size([120000, 512, 1, 1])\n",
      "dec.1x1_in0 torch.Size([120000, 512, 1, 1])\n",
      "dec.1x1_in1 torch.Size([120000, 512, 1, 1])\n",
      "dec.1x1_block0 torch.Size([120000, 512, 1, 1])\n",
      "dec.1x1_block1 torch.Size([120000, 512, 1, 1])\n",
      "dec.1x1_block2 torch.Size([120000, 512, 1, 1])\n",
      "dec.3x3_up torch.Size([120000, 512, 1, 1])\n",
      "dec.3x3_block0 torch.Size([120000, 256, 3, 3])\n",
      "dec.3x3_block1 torch.Size([120000, 256, 3, 3])\n",
      "dec.3x3_block2 torch.Size([120000, 256, 3, 3])\n",
      "dec.9x9_up torch.Size([120000, 256, 7, 7])\n",
      "dec.9x9_block0 torch.Size([120000, 128, 9, 9])\n",
      "dec.9x9_block1 torch.Size([120000, 128, 9, 9])\n",
      "dec.9x9_block2 torch.Size([120000, 128, 9, 9])\n",
      "dec.9x9_aux_norm torch.Size([120000, 128, 9, 9])\n",
      "dec.9x9_aux_conv torch.Size([120000, 3, 9, 9])\n"
     ]
    }
   ],
   "source": [
    "for layer in feature_col:\n",
    "    print(layer, feature_col[layer].shape)"
   ]
  },
  {
   "cell_type": "markdown",
   "metadata": {},
   "source": [
    "### Scratch"
   ]
  },
  {
   "cell_type": "code",
   "execution_count": 24,
   "metadata": {},
   "outputs": [
    {
     "name": "stderr",
     "output_type": "stream",
     "text": [
      "100%|███████████████████████████████████████████████████████████████████████████████████████████████████████████████████████████████████████████████████████████████████| 59/59 [00:43<00:00,  1.37it/s]\n"
     ]
    },
    {
     "name": "stdout",
     "output_type": "stream",
     "text": [
      "enc.9x9_conv torch.Size([120000, 128, 9, 9])\n",
      "enc.9x9_block0 torch.Size([120000, 128, 9, 9])\n",
      "enc.9x9_block1 torch.Size([120000, 128, 9, 9])\n",
      "enc.3x3_down torch.Size([120000, 128, 3, 3])\n",
      "enc.3x3_block0 torch.Size([120000, 256, 3, 3])\n",
      "enc.3x3_block1 torch.Size([120000, 256, 3, 3])\n",
      "enc.1x1_down torch.Size([120000, 256, 1, 1])\n",
      "enc.1x1_block0 torch.Size([120000, 512, 1, 1])\n",
      "enc.1x1_block1 torch.Size([120000, 512, 1, 1])\n",
      "dec.1x1_in0 torch.Size([120000, 512, 1, 1])\n",
      "dec.1x1_in1 torch.Size([120000, 512, 1, 1])\n",
      "dec.1x1_block0 torch.Size([120000, 512, 1, 1])\n",
      "dec.1x1_block1 torch.Size([120000, 512, 1, 1])\n",
      "dec.1x1_block2 torch.Size([120000, 512, 1, 1])\n",
      "dec.3x3_up torch.Size([120000, 512, 1, 1])\n",
      "dec.3x3_block0 torch.Size([120000, 256, 3, 3])\n",
      "dec.3x3_block1 torch.Size([120000, 256, 3, 3])\n",
      "dec.3x3_block2 torch.Size([120000, 256, 3, 3])\n",
      "dec.9x9_up torch.Size([120000, 256, 7, 7])\n",
      "dec.9x9_block0 torch.Size([120000, 128, 9, 9])\n",
      "dec.9x9_block1 torch.Size([120000, 128, 9, 9])\n",
      "dec.9x9_block2 torch.Size([120000, 128, 9, 9])\n"
     ]
    }
   ],
   "source": [
    "# layerkey = \"blocks.11\"\n",
    "# fetcher = featureFetcher_module()\n",
    "# for i in [0,2,5,8,11]: #range(12):\n",
    "#     fetcher.record_module(model.blocks[i], target_name=f\"blocks.{i}\")\n",
    "if False:\n",
    "    train_loader = DataLoader(train_dataset, batch_size=2048, shuffle=False, drop_last=False)\n",
    "    test_loader = DataLoader(test_dataset, batch_size=2048, shuffle=False, drop_last=False)\n",
    "    t_scalar = 0.1\n",
    "    feature_col = defaultdict(list)\n",
    "    for X_batch, y_batch in tqdm(train_loader):\n",
    "        # model_kwargs = dict(y=th.zeros(X_batch.shape[0], dtype=torch.int, device=\"cuda\"))\n",
    "        t_vec = th.ones(X_batch.shape[0], dtype=torch.float, device=\"cuda\") * t_scalar\n",
    "        X_batch_norm = (X_batch.cuda().float() - dataset_Xmean) / dataset_Xstd\n",
    "        with th.no_grad():\n",
    "            model_EDM(X_batch_norm, t_vec, None)\n",
    "        feature_col[\"input\"].append(X_batch.float())\n",
    "        for key, activations in fetcher.activations.items():\n",
    "            feature_col[key].append(activations)\n",
    "    for key in feature_col.keys():\n",
    "        feature_col[key] = th.cat(feature_col[key], dim=0)\n",
    "        print(key, feature_col[key].shape)\n",
    "\n",
    "\n",
    "    feature_col_test = defaultdict(list)\n",
    "    for X_batch, y_batch in tqdm(test_loader):\n",
    "        # model_kwargs = dict(y=th.zeros(X_batch.shape[0], dtype=torch.int, device=\"cuda\"))\n",
    "        t_vec = th.ones(X_batch.shape[0], dtype=torch.float, device=\"cuda\") * t_scalar\n",
    "        X_batch_norm = (X_batch.cuda().float() - dataset_Xmean) / dataset_Xstd\n",
    "        with th.no_grad():\n",
    "            model_EDM.forward(X_batch_norm, t_vec, None)\n",
    "        feature_col_test[\"input\"].append(X_batch.float())\n",
    "        for key, activations in fetcher.activations.items():\n",
    "            feature_col_test[key].append(activations)\n",
    "            \n",
    "    for key in feature_col_test.keys():\n",
    "        feature_col_test[key] = th.cat(feature_col_test[key], dim=0)\n",
    "        print(key, feature_col_test[key].shape)\n"
   ]
  },
  {
   "cell_type": "code",
   "execution_count": 31,
   "metadata": {},
   "outputs": [],
   "source": [
    "from repr_probe_lib import train_pca_sgd_classifiers"
   ]
  },
  {
   "cell_type": "code",
   "execution_count": 42,
   "metadata": {},
   "outputs": [],
   "source": [
    "figdir = r\"/n/home12/binxuwang/Github/DiffusionReasoning/Figures_repr_classify\"\n",
    "repr_expdir = join(expdir, \"repr_classifier\")\n",
    "os.makedirs(repr_expdir, exist_ok=True)"
   ]
  },
  {
   "cell_type": "code",
   "execution_count": 45,
   "metadata": {},
   "outputs": [
    {
     "data": {
      "image/png": "[encoded data removed]",
      "text/plain": [
       "<Figure size 432x288 with 1 Axes>"
      ]
     },
     "metadata": {
      "needs_background": "light"
     },
     "output_type": "display_data"
    }
   ],
   "source": [
    "plt.figure(figsize=(6, 4))\n",
    "sns.lineplot(data=syn_df, markers=True)\n",
    "plt.title(f\"t_scalar: {t_scalar} Accuracy\\n{expname}\\n{ckpt_str} PC{PC_dim}\")\n",
    "saveallforms([repr_expdir, figdir],f\"{expname}_t{t_str}_PC{PC_dim}{ckpt_str}_accuracy\")\n",
    "plt.show()"
   ]
  },
  {
   "cell_type": "code",
   "execution_count": 55,
   "metadata": {},
   "outputs": [
    {
     "data": {
      "text/plain": [
       "{'train_record':       epoch      loss  accuracy\n",
       " 0         0  3.856684  0.024908\n",
       " 1         1  3.675911  0.048450\n",
       " 2         2  3.507413  0.088883\n",
       " 3         3  3.351031  0.143275\n",
       " 4         4  3.206305  0.199783\n",
       " ...     ...       ...       ...\n",
       " 4995   4995  0.717637  0.772233\n",
       " 4996   4996  0.717634  0.772242\n",
       " 4997   4997  0.717632  0.772233\n",
       " 4998   4998  0.717629  0.772233\n",
       " 4999   4999  0.717626  0.772275\n",
       " \n",
       " [5000 rows x 3 columns],\n",
       " 'test_record':    epoch  accuracy\n",
       " 0    999  0.694150\n",
       " 1   1999  0.707625\n",
       " 2   2999  0.712950\n",
       " 3   3999  0.714650\n",
       " 4   4999  0.714825,\n",
       " 'test_acc': 0.714825,\n",
       " 'pred_cls': tensor([ 0,  0,  0,  ..., 39, 39, 39], device='cuda:0')}"
      ]
     },
     "execution_count": 55,
     "metadata": {},
     "output_type": "execute_result"
    }
   ],
   "source": [
    "results_col[key]"
   ]
  },
  {
   "cell_type": "code",
   "execution_count": 56,
   "metadata": {},
   "outputs": [
    {
     "data": {
      "image/png": "[encoded data removed]",
      "text/plain": [
       "<Figure size 432x288 with 1 Axes>"
      ]
     },
     "metadata": {
      "needs_background": "light"
     },
     "output_type": "display_data"
    }
   ],
   "source": [
    "test_acc_synopsis = {key: results_col[key].test_record.accuracy.max() for key in results_col.keys()}\n",
    "train_acc_synopsis = {key: results_col[key].train_record.accuracy.max() for key in results_col.keys()}\n",
    "syn_df = pd.DataFrame([test_acc_synopsis, train_acc_synopsis]).T\n",
    "syn_df.columns = [\"Test Accuracy\", \"Train Accuracy\"]\n",
    "\n",
    "plt.figure(figsize=(6, 4))\n",
    "sns.lineplot(data=syn_df, markers=True)\n",
    "plt.title(f\"t_scalar: {t_scalar} Accuracy\\n{expname}\\n{ckpt_str} PC{PC_dim}\")\n",
    "# saveallforms([repr_expdir, figdir],f\"{expname}_t{t_str}_PC{PC_dim}{ckpt_str}_accuracy\")\n",
    "plt.show()"
   ]
  },
  {
   "cell_type": "code",
   "execution_count": 39,
   "metadata": {},
   "outputs": [
    {
     "data": {
      "text/plain": [
       "tensor([[ 3.5380,  3.8611,  3.6785,  ...,  1.3311, 10.8773,  1.1613],\n",
       "        [ 2.6661,  2.7481,  3.9891,  ..., -4.2326,  7.9226,  0.2241],\n",
       "        [ 2.9535,  2.5597,  1.8490,  ...,  1.8839, 10.1603, -2.0479],\n",
       "        ...,\n",
       "        [ 5.4787,  4.8186,  5.5408,  ..., -1.9111,  1.2289,  0.0764],\n",
       "        [ 2.8093, -1.0542,  3.9364,  ...,  2.2130,  2.9810, -0.6629],\n",
       "        [ 4.0964,  3.1155,  2.2594,  ...,  0.1943, -1.2307, -0.2258]])"
      ]
     },
     "execution_count": 39,
     "metadata": {},
     "output_type": "execute_result"
    }
   ],
   "source": [
    "feature_col[layerkey].reshape(len(train_dataset),-1)"
   ]
  }
 ],
 "metadata": {
  "kernelspec": {
   "display_name": "torch2",
   "language": "python",
   "name": "python3"
  },
  "language_info": {
   "codemirror_mode": {
    "name": "ipython",
    "version": 3
   },
   "file_extension": ".py",
   "mimetype": "text/x-python",
   "name": "python",
   "nbconvert_exporter": "python",
   "pygments_lexer": "ipython3",
   "version": "3.10.14"
  }
 },
 "nbformat": 4,
 "nbformat_minor": 2
}
